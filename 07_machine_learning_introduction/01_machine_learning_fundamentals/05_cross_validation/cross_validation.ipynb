{
 "cells": [
  {
   "cell_type": "markdown",
   "id": "62324e0b",
   "metadata": {},
   "source": [
    "<center><h1>Cross Validation</h1></center>"
   ]
  },
  {
   "attachments": {},
   "cell_type": "markdown",
   "id": "e9334b0f",
   "metadata": {},
   "source": [
    "## 1. Introduction\n",
    "\n",
    "In an earlier lesson, we learned about train/test validation, a simple technique for testing a machine learning model's accuracy on new data that the model wasn't trained on. In this lesson, we'll focus on more robust techniques.\n",
    "\n",
    "To start, we'll focus on the **holdout validation** technique, which involves:\n",
    "\n",
    "- splitting the full dataset into 2 partitions:\n",
    "    - a training set\n",
    "    - a test set\n",
    "- training the model on the training set,\n",
    "- using the trained model to predict labels on the test set,\n",
    "- computing an error metric to understand the model's effectiveness,\n",
    "- switch the training and test sets and repeat,\n",
    "- average the errors.\n",
    "\n",
    "In holdout validation, we usually use a 50/50 split instead of the 75/25 split from train/test validation. This way, we remove the number of observations as a potential source of variation in our model performance.\n",
    "\n",
    "<img src=\"figs/holdout_validation.png\" width=\"600\" height=\"400\" />\n",
    "\n",
    "\n",
    "Let's start by splitting the data set into 2 nearly equivalent halves.\n",
    "\n",
    "When splitting the data set, don't forget to set a copy of it using .copy() to ensure you don't get any unexpected results later on. If you run the code locally in Jupyter Notebook or Jupyter Lab without .copy(), you'll notice what is known as a SettingWithCopy Warning. This won't prevent your code from running properly, but it's letting you know that whatever operation you're doing is trying to be set on a copy of a slice from a dataframe. To make sure you don't see this warning, make sure to include .copy() whenever you perform operations on a dataframe.\n",
    "\n",
    "### Exercise\n",
    "\n",
    "- Use the `numpy.random.permutation()` function to shuffle the ordering of the rows in `dc_listings`.\n",
    "- Select the first 1862 rows and assign to `split_one`.\n",
    "- Select the remaining 1861 rows and assign to `split_two`.\n"
   ]
  },
  {
   "cell_type": "code",
   "execution_count": 3,
   "id": "7db2710f",
   "metadata": {},
   "outputs": [],
   "source": [
    "import numpy as np\n",
    "import pandas as pd\n",
    "\n",
    "from sklearn.neighbors import KNeighborsRegressor\n",
    "from sklearn.metrics import mean_squared_error"
   ]
  },
  {
   "cell_type": "code",
   "execution_count": 4,
   "id": "aebff58f",
   "metadata": {},
   "outputs": [],
   "source": [
    "dc_listings = pd.read_csv(\"dc_airbnb.csv\")"
   ]
  },
  {
   "cell_type": "code",
   "execution_count": 8,
   "id": "f83fb47a",
   "metadata": {},
   "outputs": [
    {
     "name": "stdout",
     "output_type": "stream",
     "text": [
      "0    160.0\n",
      "1    350.0\n",
      "2     50.0\n",
      "3     95.0\n",
      "4     50.0\n",
      "Name: price, dtype: float64\n"
     ]
    }
   ],
   "source": [
    "dc_listings['price'] = dc_listings['price'].str.replace('[\\$,]', '', regex=True).astype('float')\n",
    "print(dc_listings['price'].head())"
   ]
  },
  {
   "cell_type": "code",
   "execution_count": 11,
   "id": "dea605a2",
   "metadata": {},
   "outputs": [
    {
     "name": "stdout",
     "output_type": "stream",
     "text": [
      "1861.5 \n",
      "\n"
     ]
    },
    {
     "data": {
      "text/html": [
       "<div>\n",
       "<style scoped>\n",
       "    .dataframe tbody tr th:only-of-type {\n",
       "        vertical-align: middle;\n",
       "    }\n",
       "\n",
       "    .dataframe tbody tr th {\n",
       "        vertical-align: top;\n",
       "    }\n",
       "\n",
       "    .dataframe thead th {\n",
       "        text-align: right;\n",
       "    }\n",
       "</style>\n",
       "<table border=\"1\" class=\"dataframe\">\n",
       "  <thead>\n",
       "    <tr style=\"text-align: right;\">\n",
       "      <th></th>\n",
       "      <th>host_response_rate</th>\n",
       "      <th>host_acceptance_rate</th>\n",
       "      <th>host_listings_count</th>\n",
       "      <th>accommodates</th>\n",
       "      <th>room_type</th>\n",
       "      <th>bedrooms</th>\n",
       "      <th>bathrooms</th>\n",
       "      <th>beds</th>\n",
       "      <th>price</th>\n",
       "      <th>cleaning_fee</th>\n",
       "      <th>security_deposit</th>\n",
       "      <th>minimum_nights</th>\n",
       "      <th>maximum_nights</th>\n",
       "      <th>number_of_reviews</th>\n",
       "      <th>latitude</th>\n",
       "      <th>longitude</th>\n",
       "      <th>city</th>\n",
       "      <th>zipcode</th>\n",
       "      <th>state</th>\n",
       "    </tr>\n",
       "  </thead>\n",
       "  <tbody>\n",
       "    <tr>\n",
       "      <th>0</th>\n",
       "      <td>92%</td>\n",
       "      <td>91%</td>\n",
       "      <td>26</td>\n",
       "      <td>4</td>\n",
       "      <td>Entire home/apt</td>\n",
       "      <td>1.0</td>\n",
       "      <td>1.0</td>\n",
       "      <td>2.0</td>\n",
       "      <td>160.0</td>\n",
       "      <td>$115.00</td>\n",
       "      <td>$100.00</td>\n",
       "      <td>1</td>\n",
       "      <td>1125</td>\n",
       "      <td>0</td>\n",
       "      <td>38.890046</td>\n",
       "      <td>-77.002808</td>\n",
       "      <td>Washington</td>\n",
       "      <td>20003</td>\n",
       "      <td>DC</td>\n",
       "    </tr>\n",
       "    <tr>\n",
       "      <th>1</th>\n",
       "      <td>90%</td>\n",
       "      <td>100%</td>\n",
       "      <td>1</td>\n",
       "      <td>6</td>\n",
       "      <td>Entire home/apt</td>\n",
       "      <td>3.0</td>\n",
       "      <td>3.0</td>\n",
       "      <td>3.0</td>\n",
       "      <td>350.0</td>\n",
       "      <td>$100.00</td>\n",
       "      <td>NaN</td>\n",
       "      <td>2</td>\n",
       "      <td>30</td>\n",
       "      <td>65</td>\n",
       "      <td>38.880413</td>\n",
       "      <td>-76.990485</td>\n",
       "      <td>Washington</td>\n",
       "      <td>20003</td>\n",
       "      <td>DC</td>\n",
       "    </tr>\n",
       "    <tr>\n",
       "      <th>2</th>\n",
       "      <td>90%</td>\n",
       "      <td>100%</td>\n",
       "      <td>2</td>\n",
       "      <td>1</td>\n",
       "      <td>Private room</td>\n",
       "      <td>1.0</td>\n",
       "      <td>2.0</td>\n",
       "      <td>1.0</td>\n",
       "      <td>50.0</td>\n",
       "      <td>NaN</td>\n",
       "      <td>NaN</td>\n",
       "      <td>2</td>\n",
       "      <td>1125</td>\n",
       "      <td>1</td>\n",
       "      <td>38.955291</td>\n",
       "      <td>-76.986006</td>\n",
       "      <td>Hyattsville</td>\n",
       "      <td>20782</td>\n",
       "      <td>MD</td>\n",
       "    </tr>\n",
       "    <tr>\n",
       "      <th>3</th>\n",
       "      <td>100%</td>\n",
       "      <td>NaN</td>\n",
       "      <td>1</td>\n",
       "      <td>2</td>\n",
       "      <td>Private room</td>\n",
       "      <td>1.0</td>\n",
       "      <td>1.0</td>\n",
       "      <td>1.0</td>\n",
       "      <td>95.0</td>\n",
       "      <td>NaN</td>\n",
       "      <td>NaN</td>\n",
       "      <td>1</td>\n",
       "      <td>1125</td>\n",
       "      <td>0</td>\n",
       "      <td>38.872134</td>\n",
       "      <td>-77.019639</td>\n",
       "      <td>Washington</td>\n",
       "      <td>20024</td>\n",
       "      <td>DC</td>\n",
       "    </tr>\n",
       "    <tr>\n",
       "      <th>4</th>\n",
       "      <td>92%</td>\n",
       "      <td>67%</td>\n",
       "      <td>1</td>\n",
       "      <td>4</td>\n",
       "      <td>Entire home/apt</td>\n",
       "      <td>1.0</td>\n",
       "      <td>1.0</td>\n",
       "      <td>1.0</td>\n",
       "      <td>50.0</td>\n",
       "      <td>$15.00</td>\n",
       "      <td>$450.00</td>\n",
       "      <td>7</td>\n",
       "      <td>1125</td>\n",
       "      <td>0</td>\n",
       "      <td>38.996382</td>\n",
       "      <td>-77.041541</td>\n",
       "      <td>Silver Spring</td>\n",
       "      <td>20910</td>\n",
       "      <td>MD</td>\n",
       "    </tr>\n",
       "  </tbody>\n",
       "</table>\n",
       "</div>"
      ],
      "text/plain": [
       "  host_response_rate host_acceptance_rate  host_listings_count  accommodates  \\\n",
       "0                92%                  91%                   26             4   \n",
       "1                90%                 100%                    1             6   \n",
       "2                90%                 100%                    2             1   \n",
       "3               100%                  NaN                    1             2   \n",
       "4                92%                  67%                    1             4   \n",
       "\n",
       "         room_type  bedrooms  bathrooms  beds  price cleaning_fee  \\\n",
       "0  Entire home/apt       1.0        1.0   2.0  160.0      $115.00   \n",
       "1  Entire home/apt       3.0        3.0   3.0  350.0      $100.00   \n",
       "2     Private room       1.0        2.0   1.0   50.0          NaN   \n",
       "3     Private room       1.0        1.0   1.0   95.0          NaN   \n",
       "4  Entire home/apt       1.0        1.0   1.0   50.0       $15.00   \n",
       "\n",
       "  security_deposit  minimum_nights  maximum_nights  number_of_reviews  \\\n",
       "0          $100.00               1            1125                  0   \n",
       "1              NaN               2              30                 65   \n",
       "2              NaN               2            1125                  1   \n",
       "3              NaN               1            1125                  0   \n",
       "4          $450.00               7            1125                  0   \n",
       "\n",
       "    latitude  longitude           city zipcode state  \n",
       "0  38.890046 -77.002808     Washington   20003    DC  \n",
       "1  38.880413 -76.990485     Washington   20003    DC  \n",
       "2  38.955291 -76.986006    Hyattsville   20782    MD  \n",
       "3  38.872134 -77.019639     Washington   20024    DC  \n",
       "4  38.996382 -77.041541  Silver Spring   20910    MD  "
      ]
     },
     "execution_count": 11,
     "metadata": {},
     "output_type": "execute_result"
    }
   ],
   "source": [
    "print(len(dc_listings) / 2, '\\n')\n",
    "dc_listings.head()"
   ]
  },
  {
   "cell_type": "code",
   "execution_count": 13,
   "id": "39020d0d",
   "metadata": {},
   "outputs": [],
   "source": [
    "dc_listings = dc_listings.iloc[np.random.default_rng(2021).permutation(len(dc_listings))]"
   ]
  },
  {
   "cell_type": "code",
   "execution_count": 14,
   "id": "f4c58350",
   "metadata": {},
   "outputs": [
    {
     "data": {
      "text/html": [
       "<div>\n",
       "<style scoped>\n",
       "    .dataframe tbody tr th:only-of-type {\n",
       "        vertical-align: middle;\n",
       "    }\n",
       "\n",
       "    .dataframe tbody tr th {\n",
       "        vertical-align: top;\n",
       "    }\n",
       "\n",
       "    .dataframe thead th {\n",
       "        text-align: right;\n",
       "    }\n",
       "</style>\n",
       "<table border=\"1\" class=\"dataframe\">\n",
       "  <thead>\n",
       "    <tr style=\"text-align: right;\">\n",
       "      <th></th>\n",
       "      <th>host_response_rate</th>\n",
       "      <th>host_acceptance_rate</th>\n",
       "      <th>host_listings_count</th>\n",
       "      <th>accommodates</th>\n",
       "      <th>room_type</th>\n",
       "      <th>bedrooms</th>\n",
       "      <th>bathrooms</th>\n",
       "      <th>beds</th>\n",
       "      <th>price</th>\n",
       "      <th>cleaning_fee</th>\n",
       "      <th>security_deposit</th>\n",
       "      <th>minimum_nights</th>\n",
       "      <th>maximum_nights</th>\n",
       "      <th>number_of_reviews</th>\n",
       "      <th>latitude</th>\n",
       "      <th>longitude</th>\n",
       "      <th>city</th>\n",
       "      <th>zipcode</th>\n",
       "      <th>state</th>\n",
       "    </tr>\n",
       "  </thead>\n",
       "  <tbody>\n",
       "    <tr>\n",
       "      <th>2087</th>\n",
       "      <td>NaN</td>\n",
       "      <td>NaN</td>\n",
       "      <td>1</td>\n",
       "      <td>4</td>\n",
       "      <td>Entire home/apt</td>\n",
       "      <td>NaN</td>\n",
       "      <td>1.0</td>\n",
       "      <td>2.0</td>\n",
       "      <td>325.0</td>\n",
       "      <td>$65.00</td>\n",
       "      <td>NaN</td>\n",
       "      <td>4</td>\n",
       "      <td>7</td>\n",
       "      <td>0</td>\n",
       "      <td>38.892603</td>\n",
       "      <td>-77.000489</td>\n",
       "      <td>Washington</td>\n",
       "      <td>20002</td>\n",
       "      <td>DC</td>\n",
       "    </tr>\n",
       "    <tr>\n",
       "      <th>203</th>\n",
       "      <td>100%</td>\n",
       "      <td>100%</td>\n",
       "      <td>1</td>\n",
       "      <td>2</td>\n",
       "      <td>Private room</td>\n",
       "      <td>1.0</td>\n",
       "      <td>1.0</td>\n",
       "      <td>1.0</td>\n",
       "      <td>99.0</td>\n",
       "      <td>$15.00</td>\n",
       "      <td>NaN</td>\n",
       "      <td>1</td>\n",
       "      <td>1125</td>\n",
       "      <td>2</td>\n",
       "      <td>38.900848</td>\n",
       "      <td>-77.016076</td>\n",
       "      <td>Washington</td>\n",
       "      <td>20001</td>\n",
       "      <td>DC</td>\n",
       "    </tr>\n",
       "    <tr>\n",
       "      <th>346</th>\n",
       "      <td>100%</td>\n",
       "      <td>98%</td>\n",
       "      <td>3</td>\n",
       "      <td>4</td>\n",
       "      <td>Entire home/apt</td>\n",
       "      <td>2.0</td>\n",
       "      <td>1.0</td>\n",
       "      <td>2.0</td>\n",
       "      <td>168.0</td>\n",
       "      <td>NaN</td>\n",
       "      <td>NaN</td>\n",
       "      <td>2</td>\n",
       "      <td>29</td>\n",
       "      <td>0</td>\n",
       "      <td>38.901941</td>\n",
       "      <td>-77.053947</td>\n",
       "      <td>Washington</td>\n",
       "      <td>20037</td>\n",
       "      <td>DC</td>\n",
       "    </tr>\n",
       "    <tr>\n",
       "      <th>733</th>\n",
       "      <td>100%</td>\n",
       "      <td>NaN</td>\n",
       "      <td>2</td>\n",
       "      <td>1</td>\n",
       "      <td>Private room</td>\n",
       "      <td>1.0</td>\n",
       "      <td>1.0</td>\n",
       "      <td>1.0</td>\n",
       "      <td>58.0</td>\n",
       "      <td>$50.00</td>\n",
       "      <td>NaN</td>\n",
       "      <td>14</td>\n",
       "      <td>1125</td>\n",
       "      <td>0</td>\n",
       "      <td>38.935725</td>\n",
       "      <td>-77.110525</td>\n",
       "      <td>Washington</td>\n",
       "      <td>20016</td>\n",
       "      <td>DC</td>\n",
       "    </tr>\n",
       "    <tr>\n",
       "      <th>2874</th>\n",
       "      <td>NaN</td>\n",
       "      <td>NaN</td>\n",
       "      <td>1</td>\n",
       "      <td>2</td>\n",
       "      <td>Entire home/apt</td>\n",
       "      <td>0.0</td>\n",
       "      <td>1.0</td>\n",
       "      <td>1.0</td>\n",
       "      <td>100.0</td>\n",
       "      <td>NaN</td>\n",
       "      <td>NaN</td>\n",
       "      <td>1</td>\n",
       "      <td>1125</td>\n",
       "      <td>0</td>\n",
       "      <td>38.932688</td>\n",
       "      <td>-77.038439</td>\n",
       "      <td>Washington</td>\n",
       "      <td>20010</td>\n",
       "      <td>DC</td>\n",
       "    </tr>\n",
       "  </tbody>\n",
       "</table>\n",
       "</div>"
      ],
      "text/plain": [
       "     host_response_rate host_acceptance_rate  host_listings_count  \\\n",
       "2087                NaN                  NaN                    1   \n",
       "203                100%                 100%                    1   \n",
       "346                100%                  98%                    3   \n",
       "733                100%                  NaN                    2   \n",
       "2874                NaN                  NaN                    1   \n",
       "\n",
       "      accommodates        room_type  bedrooms  bathrooms  beds  price  \\\n",
       "2087             4  Entire home/apt       NaN        1.0   2.0  325.0   \n",
       "203              2     Private room       1.0        1.0   1.0   99.0   \n",
       "346              4  Entire home/apt       2.0        1.0   2.0  168.0   \n",
       "733              1     Private room       1.0        1.0   1.0   58.0   \n",
       "2874             2  Entire home/apt       0.0        1.0   1.0  100.0   \n",
       "\n",
       "     cleaning_fee security_deposit  minimum_nights  maximum_nights  \\\n",
       "2087       $65.00              NaN               4               7   \n",
       "203        $15.00              NaN               1            1125   \n",
       "346           NaN              NaN               2              29   \n",
       "733        $50.00              NaN              14            1125   \n",
       "2874          NaN              NaN               1            1125   \n",
       "\n",
       "      number_of_reviews   latitude  longitude        city zipcode state  \n",
       "2087                  0  38.892603 -77.000489  Washington   20002    DC  \n",
       "203                   2  38.900848 -77.016076  Washington   20001    DC  \n",
       "346                   0  38.901941 -77.053947  Washington   20037    DC  \n",
       "733                   0  38.935725 -77.110525  Washington   20016    DC  \n",
       "2874                  0  38.932688 -77.038439  Washington   20010    DC  "
      ]
     },
     "execution_count": 14,
     "metadata": {},
     "output_type": "execute_result"
    }
   ],
   "source": [
    "dc_listings.head()"
   ]
  },
  {
   "cell_type": "code",
   "execution_count": 15,
   "id": "1d07d7e3",
   "metadata": {},
   "outputs": [],
   "source": [
    "split_one = dc_listings.iloc[:1862].copy()\n",
    "split_two = dc_listings.iloc[1862:].copy()"
   ]
  },
  {
   "cell_type": "markdown",
   "id": "5919cdad",
   "metadata": {},
   "source": [
    "## 2. Holdout Validation\n",
    "Now that we've split our data set into 2 dataframes, let's:\n",
    "\n",
    "- train a k-nearest neighbors model on the first half,\n",
    "- test this model on the second half,\n",
    "- train a k-nearest neighbors model on the second half,\n",
    "- test this model on the first half.\n",
    "\n",
    "### Exercise\n",
    "\n",
    "- Train a k-nearest neighbors model using the default algorithm (`auto`) and the default number of neighbors (`5`) that:\n",
    "    - Uses the `accommodates` column from `train_one` for training and\n",
    "    - Tests it on `test_one`.\n",
    "- Assign the resulting RMSE value to `iteration_one_rmse`.\n",
    "- Train a k-nearest neighbors model using the default algorithm (`auto`) and the default number of neighbors (`5`) that:\n",
    "    - Uses the `accommodates` column from `train_two` for training and\n",
    "    - Tests it on `test_two`.\n",
    "- Assign the resulting RMSE value to `iteration_two_rmse`.\n",
    "- Use `numpy.mean()` to calculate the average of the 2 RMSE values and assign to `avg_rmse`."
   ]
  },
  {
   "cell_type": "code",
   "execution_count": 17,
   "id": "84637e94",
   "metadata": {},
   "outputs": [],
   "source": [
    "train_one = split_one\n",
    "test_one = split_two\n",
    "train_two = split_two\n",
    "test_two = split_one"
   ]
  },
  {
   "cell_type": "code",
   "execution_count": 18,
   "id": "59e1aac0",
   "metadata": {},
   "outputs": [],
   "source": [
    "knn1 = KNeighborsRegressor()\n",
    "knn1.fit(train_one[['accommodates']], train_one[['price']])\n",
    "predictions1 = knn1.predict(test_one[['accommodates']])\n",
    "iteration_one_rmse = np.sqrt(mean_squared_error(predictions1, test_one['price']))"
   ]
  },
  {
   "cell_type": "code",
   "execution_count": 19,
   "id": "5d29e1d7",
   "metadata": {},
   "outputs": [],
   "source": [
    "knn2 = KNeighborsRegressor()\n",
    "knn2.fit(train_two[['accommodates']], train_two['price'])\n",
    "predictions2 = knn2.predict(test_two[['accommodates']])\n",
    "iteration_two_rmse = np.sqrt(mean_squared_error(predictions2, test_two['price']))"
   ]
  },
  {
   "cell_type": "code",
   "execution_count": 20,
   "id": "2475d45d",
   "metadata": {},
   "outputs": [
    {
     "name": "stdout",
     "output_type": "stream",
     "text": [
      "144.6909184458696\n",
      "140.32813203272548\n"
     ]
    }
   ],
   "source": [
    "print(iteration_one_rmse)\n",
    "avg_rmse = np.mean([iteration_one_rmse, iteration_two_rmse])\n",
    "print(avg_rmse)"
   ]
  },
  {
   "cell_type": "markdown",
   "id": "6ca8bff9",
   "metadata": {},
   "source": [
    "## 3. K-Fold Cross Validation\n",
    "\n",
    "If we average the two RMSE values from the last step, we get an RMSE value of approximately 128.96. Holdout validation is actually a specific example of a larger class of validation techniques called k-fold cross-validation. While holdout validation is better than train/test validation because the model isn't repeatedly biased towards a specific subset of the data, both models that are trained only use half the available data. K-fold cross validation, on the other hand, takes advantage of a larger proportion of the data during training while still rotating through different subsets of the data to avoid the issues of train/test validation.\n",
    "\n",
    "Here's the algorithm from k-fold cross validation:\n",
    "\n",
    "- splitting the full dataset into `k` equal length partitions.\n",
    "    - selecting `k-1` partitions as the training set and\n",
    "    - selecting the remaining partition as the test set\n",
    "- training the model on the training set.\n",
    "- using the trained model to predict labels on the test fold.\n",
    "- computing the test fold's error metric.\n",
    "- repeating all of the above steps `k-1` times, until each partition has been used as the test set for an iteration.\n",
    "- calculating the mean of the `k` error values.\n",
    "\n",
    "Holdout validation is essentially a version of k-fold cross validation when `k` is equal to `2`. Generally, `5` or `10` folds is used for k-fold cross-validation. Here's a diagram describing each iteration of 5-fold cross validation:\n",
    "\n",
    "<img src=\"figs/kfold_cross_validation.png\" width=\"800\" height=\"600\" />\n",
    "\n",
    "As you increase the number the folds, the number of observations in each fold decreases and the variance of the fold-by-fold errors increases. Let's start by manually partitioning the data set into 5 folds. Instead of splitting into 5 dataframes, let's add a column that specifies which fold the row belongs to. This way, we can easily select our training set and testing set.\n",
    "\n",
    "### Exercise\n",
    "\n",
    "- Add a new column to `dc_listings` named `fold` that contains the fold number each row belongs to:\n",
    "- Fold `1` should have rows from index `0` up to `745`, not including `745`.\n",
    "- Fold `2` should have rows from index `745` up to `1490`, not including `1490`.\n",
    "- Fold `3` should have rows from index `1490` up to `2234`, not including `2234`.\n",
    "- Fold `4` should have rows from index `2234` up to `2978`, not including `2978`.\n",
    "- Fold `5` should have rows from index `2978` up to `3723`, not including `3723`.\n",
    "- Make sure `fold`'s type is a float type.\n",
    "- Display the unique value counts for the `fold` column to confirm that each fold has roughly the same number of elements.\n",
    "- Display the number of missing values in the `fold` column to confirm we didn't miss any rows."
   ]
  },
  {
   "cell_type": "code",
   "execution_count": 28,
   "id": "da6ff641",
   "metadata": {},
   "outputs": [
    {
     "name": "stderr",
     "output_type": "stream",
     "text": [
      "C:\\Users\\rafael.torrese\\Anaconda3\\lib\\site-packages\\pandas\\core\\indexing.py:1599: SettingWithCopyWarning: \n",
      "A value is trying to be set on a copy of a slice from a DataFrame.\n",
      "Try using .loc[row_indexer,col_indexer] = value instead\n",
      "\n",
      "See the caveats in the documentation: https://pandas.pydata.org/pandas-docs/stable/user_guide/indexing.html#returning-a-view-versus-a-copy\n",
      "  self.obj[key] = infer_fill_value(value)\n",
      "C:\\Users\\rafael.torrese\\Anaconda3\\lib\\site-packages\\pandas\\core\\indexing.py:1720: SettingWithCopyWarning: \n",
      "A value is trying to be set on a copy of a slice from a DataFrame.\n",
      "Try using .loc[row_indexer,col_indexer] = value instead\n",
      "\n",
      "See the caveats in the documentation: https://pandas.pydata.org/pandas-docs/stable/user_guide/indexing.html#returning-a-view-versus-a-copy\n",
      "  self._setitem_single_column(loc, value, pi)\n"
     ]
    }
   ],
   "source": [
    "dc_listings.loc[dc_listings.index[:745], 'fold'] = 1.0"
   ]
  },
  {
   "cell_type": "code",
   "execution_count": 30,
   "id": "3dc1f243",
   "metadata": {},
   "outputs": [
    {
     "data": {
      "text/plain": [
       "2087    1.0\n",
       "203     1.0\n",
       "346     1.0\n",
       "733     1.0\n",
       "2874    1.0\n",
       "       ... \n",
       "3238    NaN\n",
       "2987    NaN\n",
       "2416    NaN\n",
       "2225    NaN\n",
       "1373    NaN\n",
       "Name: fold, Length: 3723, dtype: float64"
      ]
     },
     "execution_count": 30,
     "metadata": {},
     "output_type": "execute_result"
    }
   ],
   "source": [
    "dc_listings['fold']"
   ]
  },
  {
   "cell_type": "code",
   "execution_count": 31,
   "id": "2a101079",
   "metadata": {},
   "outputs": [
    {
     "name": "stderr",
     "output_type": "stream",
     "text": [
      "C:\\Users\\rafael.torrese\\Anaconda3\\lib\\site-packages\\pandas\\core\\indexing.py:1720: SettingWithCopyWarning: \n",
      "A value is trying to be set on a copy of a slice from a DataFrame.\n",
      "Try using .loc[row_indexer,col_indexer] = value instead\n",
      "\n",
      "See the caveats in the documentation: https://pandas.pydata.org/pandas-docs/stable/user_guide/indexing.html#returning-a-view-versus-a-copy\n",
      "  self._setitem_single_column(loc, value, pi)\n"
     ]
    }
   ],
   "source": [
    "dc_listings.loc[dc_listings.index[745:1490], 'fold'] = 2\n",
    "dc_listings.loc[dc_listings.index[1490:2234], 'fold'] = 3\n",
    "dc_listings.loc[dc_listings.index[2234:2978], 'fold'] = 4\n",
    "dc_listings.loc[dc_listings.index[2978:], 'fold'] = 5"
   ]
  },
  {
   "cell_type": "code",
   "execution_count": 35,
   "id": "7b778ab3",
   "metadata": {},
   "outputs": [
    {
     "data": {
      "text/plain": [
       "1.0    745\n",
       "2.0    745\n",
       "3.0    744\n",
       "4.0    744\n",
       "5.0    745\n",
       "Name: fold, dtype: int64"
      ]
     },
     "execution_count": 35,
     "metadata": {},
     "output_type": "execute_result"
    }
   ],
   "source": [
    "dc_listings['fold'].value_counts().sort_index()"
   ]
  },
  {
   "cell_type": "code",
   "execution_count": null,
   "id": "aa43fd6a",
   "metadata": {},
   "outputs": [],
   "source": [
    "# c_listings['fold'] = 1.0\n",
    "# dc_listings.fold.iloc[745:1490] = 2\n",
    "# dc_listings.fold.iloc[1490:2234] = 3\n",
    "# dc_listings.fold.iloc[2234:2978] = 4\n",
    "# dc_listings.fold.iloc[2978:] = 5"
   ]
  },
  {
   "cell_type": "code",
   "execution_count": 36,
   "id": "f35f26a8",
   "metadata": {},
   "outputs": [
    {
     "name": "stdout",
     "output_type": "stream",
     "text": [
      "0\n"
     ]
    }
   ],
   "source": [
    "print(dc_listings['fold'].isnull().sum())"
   ]
  },
  {
   "cell_type": "markdown",
   "id": "54d7b902",
   "metadata": {},
   "source": [
    "## 4. First iteration\n",
    "\n",
    "Let's start by performing the first iteration of k-fold cross validation on a simple, univariate model.\n",
    "\n",
    "### Exercise\n",
    "\n",
    "- Train a k-nearest neighbors model using the `accommodates` column as the sole feature from folds `2` to `5` as the training set.\n",
    "- Use the model to make predictions on the test set (`accommodates` column from fold `1`) and assign the predicted labels to `labels`.\n",
    "- Calculate the RMSE value by comparing the `price` column with the predicted labels.\n",
    "- Assign the RMSE value to `iteration_one_rmse`."
   ]
  },
  {
   "cell_type": "code",
   "execution_count": 37,
   "id": "53fba88d",
   "metadata": {},
   "outputs": [
    {
     "name": "stdout",
     "output_type": "stream",
     "text": [
      "[2. 3. 4. 5.]\n"
     ]
    }
   ],
   "source": [
    "print(dc_listings[dc_listings['fold'] != 1]['fold'].unique())"
   ]
  },
  {
   "cell_type": "code",
   "execution_count": 38,
   "id": "342acd3f",
   "metadata": {},
   "outputs": [],
   "source": [
    "def select_kfold(k, mode='exclude'):\n",
    "    if mode == 'exclude':\n",
    "        return dc_listings[dc_listings['fold'] != k].copy()\n",
    "    elif mode == 'include':\n",
    "        return dc_listings[dc_listings['fold'] == k].copy()\n",
    "    raise Exception(\"Write mode parameter as 'exclude' or 'include'\")"
   ]
  },
  {
   "cell_type": "code",
   "execution_count": 39,
   "id": "311e76a4",
   "metadata": {},
   "outputs": [],
   "source": [
    "training_df = select_kfold(1, mode='exclude')\n",
    "test_df = select_kfold(1, mode='include')"
   ]
  },
  {
   "cell_type": "code",
   "execution_count": 40,
   "id": "72fa671d",
   "metadata": {},
   "outputs": [],
   "source": [
    "knn = KNeighborsRegressor()\n",
    "knn.fit(training_df[['accommodates']], training_df['price'])\n",
    "labels = knn.predict(test_df[['accommodates']])\n",
    "iteration_one_rmse = np.sqrt(mean_squared_error(labels, test_df['price']))"
   ]
  },
  {
   "cell_type": "code",
   "execution_count": 41,
   "id": "aa8fbf5e",
   "metadata": {},
   "outputs": [
    {
     "name": "stdout",
     "output_type": "stream",
     "text": [
      "128.94809340174947\n"
     ]
    }
   ],
   "source": [
    "print(iteration_one_rmse)"
   ]
  },
  {
   "cell_type": "markdown",
   "id": "9f803726",
   "metadata": {},
   "source": [
    "## 5. Function for training models\n",
    "\n",
    "From the first iteration, we achieved an RMSE value of roughly **128**. Let's calculate the RMSE values for the remaining iterations. To make the iteration process easier, let's wrap the code we wrote in the previous screen in a function.\n",
    "\n",
    "\n",
    "### Exercise\n",
    "\n",
    "- Write a function named `train_and_validate` that takes in a dataframe as the first parameter (`df`) and a list of fold values (`1` to `5` in our case) as the second parameter (`folds`). This function should:\n",
    "    - Train `n` models (where `n` is number of folds) and perform k-fold cross validation (using `n` folds). Use the default `k` value for the `KNeighborsRegressor` class.\n",
    "    - Return a list of RMSE values, where the first element is the RMSE for when fold `1` was the test set, the second element is the RMSE for when fold `2` was the test set, and so on.\n",
    "- Use the `train_and_validate` function to return the list of RMSE values for the `dc_listings` Dataframe and assign to `rmses`.\n",
    "- Calculate the mean of these values and assign to `avg_rmse`.\n",
    "- Display both `rmses` and `avg_rmse`."
   ]
  },
  {
   "cell_type": "code",
   "execution_count": 42,
   "id": "0bd30867",
   "metadata": {},
   "outputs": [],
   "source": [
    "def train_and_validate(df, folds):\n",
    "    rmses = []\n",
    "    \n",
    "    for n in folds:\n",
    "        training_df = df[df['fold'] != n].copy()\n",
    "        test_df = df[df['fold'] == n].copy()\n",
    "\n",
    "        knn = KNeighborsRegressor() \n",
    "        knn.fit(training_df[['accommodates']], training_df['price'])\n",
    "\n",
    "        labels = knn.predict(test_df[['accommodates']])\n",
    "        rmses.append(np.sqrt(mean_squared_error(labels, test_df['price'])))\n",
    "    return rmses"
   ]
  },
  {
   "cell_type": "code",
   "execution_count": 43,
   "id": "5b65d633",
   "metadata": {},
   "outputs": [],
   "source": [
    "rmses = train_and_validate(dc_listings, folds=[1, 2, 3, 4, 5])\n",
    "avg_rmse = np.mean(rmses)"
   ]
  },
  {
   "cell_type": "code",
   "execution_count": 44,
   "id": "0004196b",
   "metadata": {},
   "outputs": [
    {
     "name": "stdout",
     "output_type": "stream",
     "text": [
      "[128.94809340174947, 142.1522511135307, 102.09964956286684, 159.33009320950808, 146.2847762359066]\n",
      "135.76297270471235\n"
     ]
    }
   ],
   "source": [
    "print(rmses)\n",
    "print(avg_rmse)"
   ]
  },
  {
   "cell_type": "markdown",
   "id": "036dc854",
   "metadata": {},
   "source": [
    "## 6. Performing K-Fold Cross Validation Using Scikit-Learn\n",
    "\n",
    "While the average RMSE value was approximately 129, the RMSE values ranged from 102 to 164+. This large amount of variability between the RMSE values means that we're either using a poor model or a poor evaluation criteria (or a bit of both!). By implementing your own k-fold cross-validation function, you hopefully acquired a good understanding of the inner workings of the technique. The function we wrote, however, has many limitations. If we want to now change the number of folds we want to use, we need to make the function more general so it can also handle randomizing the ordering of the rows in the dataframe and splitting into folds.\n",
    "\n",
    "In machine learning, we're interested in building a good model and accurately understanding how well it will perform. To build a better k-nearest neighbors model, we can change the features it uses or tweak the number of neighbors (a hyperparameter). To accurately understand a model's performance, we can perform k-fold cross validation and select the proper number of folds. We've learned how scikit-learn makes it easy for us to quickly experiment with these different knobs when it comes to building a better model. Let's now dive into how we can use scikit-learn to handle cross-validation as well.\n",
    "\n",
    "First, we instantiate an instance of the [KFold class](https://scikit-learn.org/stable/modules/generated/sklearn.model_selection.KFold.html#sklearn.model_selection.KFold) from `sklearn.model_selection`:\n",
    "\n",
    "```python\n",
    "from sklearn.model_selection import KFold\n",
    "kf = KFold(n_splits, shuffle=False, random_state=None)\n",
    "```\n",
    "\n",
    "where:\n",
    "\n",
    "- `n_splits` is the number of folds you want to use,\n",
    "- `shuffle` is used to toggle shuffling of the ordering of the observations in the dataset,\n",
    "- `random_state` is used to specify the random seed value if `shuffle` is set to `True`.\n",
    "\n",
    "You'll notice here that no parameters depend on the data set at all. This is because the KFold class returns an iterator object which we use in conjunction with the [cross_val_score()](https://scikit-learn.org/stable/modules/generated/sklearn.model_selection.cross_val_score.html) function, also from `sklearn.model_selection`. Together, these 2 functions allow us to compactly train and test using k-fold cross validation:\n",
    "\n",
    "Here are the relevant parameters for the `cross_val_score` function:\n",
    "\n",
    "```python\n",
    "from sklearn.model_selection import cross_val_score\n",
    "cross_val_score(estimator, X, Y, scoring=None, cv=None)\n",
    "```\n",
    "\n",
    "where:\n",
    "\n",
    "- `estimator` is a sklearn model that implements the `fit` method (e.g. instance of KNeighborsRegressor),\n",
    "- `X` is the list or 2D array containing the features you want to train on,\n",
    "- `y` is a list containing the values you want to predict (target column),\n",
    "- `scoring` is a string describing the scoring criteria (list of accepted values here).\n",
    "- `cv` describes the number of folds. Here are some examples of accepted values:\n",
    "    - an instance of the `KFold` class,\n",
    "    - an integer representing the number of folds.\n",
    "\n",
    "Depending on the scoring criteria you specify, a single total value is returned for each fold. Here's the general workflow for performing k-fold cross-validation using the classes we just described:\n",
    "\n",
    "- instantiate the scikit-learn model class you want to fit,\n",
    "- instantiate the `KFold` class and using the parameters to specify the k-fold cross-validation attributes you want,\n",
    "- use the `cross_val_score()` function to return the scoring metric you're interested in.\n",
    "\n",
    "\n",
    "### Exercise\n",
    "\n",
    "- Create a new instance of the `KFold` class with the following properties:\n",
    "    - `5` folds,\n",
    "    - shuffle set to `True`,\n",
    "    - random seed set to `1` (so we can answer check using the same seed),\n",
    "    - assigned to the variable `kf`.\n",
    "- Create a new instance of the `KNeighborsRegressor` class and assign to `knn`.\n",
    "- Use the `cross_val_score()` function to perform k-fold cross-validation:\n",
    "    - using the KNeighborsRegressor instance `knn`,\n",
    "    - using the `accommodates` column for training,\n",
    "    - using the `price` column as the target column,\n",
    "    - using the string `neg_mean_squared_error` as the value of the `scoring` parameter,\n",
    "    - using `kf` as the value of the `cv` parameter\n",
    "    - returning an array of MSE values (one value for each fold).\n",
    "- Assign the resulting list of MSE values to `mses`. Then, take the absolute value followed by the square root of each MSE value. Then, calculate the average of the resulting RMSE values and assign to `avg_rmse`.\n"
   ]
  },
  {
   "cell_type": "code",
   "execution_count": 45,
   "id": "fc6843c5",
   "metadata": {},
   "outputs": [],
   "source": [
    "from sklearn.model_selection import cross_val_score, KFold"
   ]
  },
  {
   "cell_type": "code",
   "execution_count": 46,
   "id": "7ee172aa",
   "metadata": {},
   "outputs": [],
   "source": [
    "kf = KFold(n_splits=5, shuffle=True, random_state=1)\n",
    "knn = KNeighborsRegressor()"
   ]
  },
  {
   "cell_type": "code",
   "execution_count": 47,
   "id": "1347e3d1",
   "metadata": {},
   "outputs": [],
   "source": [
    "mses = cross_val_score(estimator=knn, \n",
    "                       X=dc_listings[['accommodates']], \n",
    "                       y=dc_listings['price'], \n",
    "                       scoring='neg_mean_squared_error', \n",
    "                       cv=kf)"
   ]
  },
  {
   "cell_type": "code",
   "execution_count": 48,
   "id": "17a580b9",
   "metadata": {},
   "outputs": [
    {
     "name": "stdout",
     "output_type": "stream",
     "text": [
      "127.98877259146279\n"
     ]
    }
   ],
   "source": [
    "avg_rmse = np.sqrt(np.abs(mses)).mean()\n",
    "print(avg_rmse)"
   ]
  },
  {
   "cell_type": "markdown",
   "id": "d40d162c",
   "metadata": {},
   "source": [
    "## 7. Exploring Different K Values\n",
    "Choosing the right `k` value when performing k-fold cross validation is more of an art and less of a science. As we discussed earlier in the lesson, a `k` value of `2` is really just holdout validation. On the other end, setting `k` equal to `n` (the number of observations in the data set) is known as **leave-one-out cross validation**, or LOOCV for short. Through lots of trial and error, data scientists have converged on `10` as the standard k value.\n",
    "\n",
    "In the following code block, we display the results of varying `k` from `3` to `23`. For each `k` value, we calculate and display the average RMSE value across all of the folds and the standard deviation of the RMSE values. Across the many different `k` values, it seems like the average RMSE value is around `129`. You'll notice that the standard deviation of the RMSE increases from approximately `8` to over `40` as we increase the number of folds.\n",
    "\n"
   ]
  },
  {
   "cell_type": "code",
   "execution_count": 49,
   "id": "a13b7633",
   "metadata": {},
   "outputs": [
    {
     "name": "stdout",
     "output_type": "stream",
     "text": [
      "3 folds: avg RMSE: 126.97726729666063, std RMSE: 5.065706198501599\n",
      "5 folds: avg RMSE: 127.98877259146279, std RMSE: 6.663481425430018\n",
      "7 folds: avg RMSE: 131.00659966644488, std RMSE: 22.04646621323738\n",
      "9 folds: avg RMSE: 146.93196317721768, std RMSE: 33.52571702891042\n",
      "10 folds: avg RMSE: 129.92538167405036, std RMSE: 16.882753618155796\n",
      "11 folds: avg RMSE: 128.49181935839704, std RMSE: 28.221493840430288\n",
      "13 folds: avg RMSE: 126.37205663282242, std RMSE: 36.6578432107257\n",
      "15 folds: avg RMSE: 125.22643351512801, std RMSE: 30.150026810397723\n",
      "17 folds: avg RMSE: 125.47407661792535, std RMSE: 34.222622073489326\n",
      "19 folds: avg RMSE: 128.26018169201043, std RMSE: 38.11755133588137\n",
      "21 folds: avg RMSE: 125.13294794242935, std RMSE: 37.15960580222996\n",
      "23 folds: avg RMSE: 126.5500898991652, std RMSE: 38.22135163934403\n"
     ]
    }
   ],
   "source": [
    "num_folds = [3, 5, 7, 9, 10, 11, 13, 15, 17, 19, 21, 23]\n",
    "\n",
    "for fold in num_folds:\n",
    "    kf = KFold(fold, shuffle=True, random_state=1)\n",
    "    model = KNeighborsRegressor()\n",
    "    mses = cross_val_score(model, dc_listings[[\"accommodates\"]], dc_listings[\"price\"], scoring=\"neg_mean_squared_error\", cv=kf)\n",
    "    rmses = np.sqrt(np.absolute(mses))\n",
    "    avg_rmse = np.mean(rmses)\n",
    "    std_rmse = np.std(rmses)\n",
    "    print(f'{fold} folds: avg RMSE: {avg_rmse}, std RMSE: {std_rmse}')"
   ]
  },
  {
   "cell_type": "markdown",
   "id": "21526ddb",
   "metadata": {},
   "source": [
    "## 8. Bias-Variance Tradeoff\n",
    "\n",
    "So far, we've been working under the assumption that a lower RMSE always means that a model is more accurate. This isn't the complete picture, unfortunately. A model has two sources of error, **bias** and **variance**.\n",
    "\n",
    "Bias describes error that results in bad assumptions about the learning algorithm. For example, assuming that only one feature, like a car's weight, relates to a car's fuel efficiency will lead you to fit a simple, univariate regression model that will result in high bias. The error rate will be high since a car's fuel efficiency is affected by many other factors besides just its weight.\n",
    "\n",
    "Variance describes error that occurs because of the variability of a model's predicted values. If we were given a dataset with 1000 features on each car and used every single feature to train an incredibly complicated multivariate regression model, we will have low bias but high variance. In an ideal world, we want low bias and low variance but in reality, there's always a tradeoff.\n",
    "\n",
    "The standard deviation of the RMSE values can be a proxy for a model's **variance** while the average RMSE is a proxy for a model's **bias**. Bias and variance are the 2 observable sources of error in a model that we can indirectly control.\n",
    "\n",
    "\n",
    "<img src=\"figs/bias_variance.png\" width=\"600\" height=\"400\" />\n",
    "\n",
    "While k-nearest neighbors can make predictions, it isn't a mathematical model. A mathematical model is usually an equation that can exist without the original data, which isn't true with k-nearest neighbors. In the next two courses, we'll learn about a mathematical model called linear regression. We'll explore the bias-variance tradeoff in greater depth in these next 2 courses because of its importance when working with mathematical models in particular."
   ]
  },
  {
   "cell_type": "markdown",
   "id": "68073709",
   "metadata": {},
   "source": [
    "## 9. Next steps\n",
    "\n",
    "In this lesson, we explored more robust cross validation techniques like holdout validation and k-fold cross-validation. Next in this course is a guided project where you can practice what you've learned in this course on a different data set.\n"
   ]
  }
 ],
 "metadata": {
  "kernelspec": {
   "display_name": "Python 3",
   "language": "python",
   "name": "python3"
  },
  "language_info": {
   "codemirror_mode": {
    "name": "ipython",
    "version": 3
   },
   "file_extension": ".py",
   "mimetype": "text/x-python",
   "name": "python",
   "nbconvert_exporter": "python",
   "pygments_lexer": "ipython3",
   "version": "3.8.8"
  }
 },
 "nbformat": 4,
 "nbformat_minor": 5
}
