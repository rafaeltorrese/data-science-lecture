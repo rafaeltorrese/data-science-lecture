{
 "cells": [
  {
   "cell_type": "markdown",
   "id": "c938e1a5",
   "metadata": {},
   "source": [
    "<center><h1>Cross Validation</h1></center>"
   ]
  },
  {
   "cell_type": "markdown",
   "id": "13cdc6a8",
   "metadata": {},
   "source": [
    "## 1. Introduction\n",
    "\n",
    "We learned about train/test validation, a simple technique for testing a machine learning model's accuracy on new data that the model wasn't trained on. In this lesson, we'll focus on more robust techniques.\n",
    "\n",
    "To start, we'll focus on the **holdout validation** technique, which involves:\n",
    "\n",
    "- splitting the full dataset into 2 partitions:\n",
    "    - a training set\n",
    "    - a test set\n",
    "- training the model on the training set,\n",
    "- using the trained model to predict labels on the test set,\n",
    "- computing an error metric to understand the model's effectiveness,\n",
    "- switch the training and test sets and repeat,\n",
    "- average the errors.\n",
    "\n",
    "In holdout validation, we usually use a 50/50 split instead of the 75/25 split from train/test validation. This way, we remove the number of observations as a potential source of variation in our model performance.\n",
    "\n",
    "<img src=\"figs/holdout_validation.png\" width=\"600\" height=\"400\" />\n",
    "\n",
    "\n",
    "Let's start by splitting the data set into 2 nearly equivalent halves.\n",
    "\n",
    "When splitting the data set, don't forget to set a copy of it using .copy() to ensure you don't get any unexpected results later on. If you run the code locally in Jupyter Notebook or Jupyter Lab without .copy(), you'll notice what is known as a SettingWithCopy Warning. This won't prevent your code from running properly, but it's letting you know that whatever operation you're doing is trying to be set on a copy of a slice from a dataframe. To make sure you don't see this warning, make sure to include .copy() whenever you perform operations on a dataframe.\n",
    "\n",
    "### Exercise\n",
    "\n",
    "- Use the `numpy.random.permutation()` function to shuffle the ordering of the rows in `dc_listings`.\n",
    "- Select the first 1862 rows and assign to `split_one`.\n",
    "- Select the remaining 1861 rows and assign to `split_two`.\n"
   ]
  },
  {
   "cell_type": "code",
   "execution_count": null,
   "id": "6d5dc378",
   "metadata": {},
   "outputs": [],
   "source": [
    "import numpy as np\n",
    "import pandas as pd\n",
    "\n",
    "from sklearn.neighbors import KNeighborsRegressor\n",
    "from sklearn.metrics import mean_squared_error"
   ]
  },
  {
   "cell_type": "code",
   "execution_count": null,
   "id": "8d0df128",
   "metadata": {},
   "outputs": [],
   "source": [
    "dc_listings = pd.read_csv(\"dc_airbnb.csv\")"
   ]
  },
  {
   "cell_type": "code",
   "execution_count": null,
   "id": "5709a26a",
   "metadata": {},
   "outputs": [],
   "source": [
    "dc_listings['price'] = dc_listings['price'].str.replace('[\\$,]', '', regex=True).astype('float')\n",
    "print(dc_listings['price'].head())"
   ]
  },
  {
   "cell_type": "code",
   "execution_count": null,
   "id": "b680b473",
   "metadata": {},
   "outputs": [],
   "source": [
    "print(len(dc_listings) / 2, '\\n')\n",
    "print(print(len(dc_listings) / 2, '\\n')\n",
    "dc_listings.head())"
   ]
  },
  {
   "cell_type": "code",
   "execution_count": null,
   "id": "b93385ed",
   "metadata": {},
   "outputs": [],
   "source": [
    "dc_listings = dc_listings.iloc[np.random.default_rng(2021).permutation(len(dc_listings))]\n",
    "print(dc_listings.head())"
   ]
  },
  {
   "cell_type": "markdown",
   "id": "d611f6bb",
   "metadata": {},
   "source": [
    "## 2. Holdout Validation\n",
    "Now that we've split our data set into 2 dataframes, let's:\n",
    "\n",
    "- train a k-nearest neighbors model on the first half,\n",
    "- test this model on the second half,\n",
    "- train a k-nearest neighbors model on the second half,\n",
    "- test this model on the first half.\n",
    "\n",
    "### Exercise\n",
    "\n",
    "- Train a k-nearest neighbors model using the default algorithm (`auto`) and the default number of neighbors (`5`) that:\n",
    "    - Uses the `accommodates` column from `train_one` for training and\n",
    "    - Tests it on `test_one`.\n",
    "- Assign the resulting RMSE value to `iteration_one_rmse`.\n",
    "- Train a k-nearest neighbors model using the default algorithm (`auto`) and the default number of neighbors (`5`) that:\n",
    "    - Uses the `accommodates` column from `train_two` for training and\n",
    "    - Tests it on `test_two`.\n",
    "- Assign the resulting RMSE value to `iteration_two_rmse`.\n",
    "- Use `numpy.mean()` to calculate the average of the 2 RMSE values and assign to `avg_rmse`."
   ]
  },
  {
   "cell_type": "code",
   "execution_count": null,
   "id": "d884d45e",
   "metadata": {},
   "outputs": [],
   "source": []
  },
  {
   "cell_type": "markdown",
   "id": "28618ab0",
   "metadata": {},
   "source": [
    "## 3. K-Fold Cross Validation\n",
    "\n",
    "If we average the two RMSE values from the last step, we get an RMSE value of approximately 140.32. Holdout validation is actually a specific example of a larger class of validation techniques called k-fold cross-validation. While holdout validation is better than train/test validation because the model isn't repeatedly biased towards a specific subset of the data, both models that are trained only use half the available data. K-fold cross validation, on the other hand, takes advantage of a larger proportion of the data during training while still rotating through different subsets of the data to avoid the issues of train/test validation.\n",
    "\n",
    "Here's the algorithm from k-fold cross validation:\n",
    "\n",
    "- splitting the full dataset into `k` equal length partitions.\n",
    "    - selecting `k-1` partitions as the training set and\n",
    "    - selecting the remaining partition as the test set\n",
    "- training the model on the training set.\n",
    "- using the trained model to predict labels on the test fold.\n",
    "- computing the test fold's error metric.\n",
    "- repeating all of the above steps `k-1` times, until each partition has been used as the test set for an iteration.\n",
    "- calculating the mean of the `k` error values.\n",
    "\n",
    "Holdout validation is essentially a version of k-fold cross validation when `k` is equal to `2`. Generally, `5` or `10` folds is used for k-fold cross-validation. Here's a diagram describing each iteration of 5-fold cross validation:\n",
    "\n",
    "<img src=\"figs/kfold_cross_validation.png\" width=\"800\" height=\"600\" />\n",
    "\n",
    "As you increase the number the folds, the number of observations in each fold decreases and the variance of the fold-by-fold errors increases. Let's start by manually partitioning the data set into 5 folds. Instead of splitting into 5 dataframes, let's add a column that specifies which fold the row belongs to. This way, we can easily select our training set and testing set.\n",
    "\n",
    "### Exercise\n",
    "\n",
    "- Add a new column to `dc_listings` named `fold` that contains the fold number each row belongs to:\n",
    "- Fold `1` should have rows from index `0` up to `745`, not including `745`.\n",
    "- Fold `2` should have rows from index `745` up to `1490`, not including `1490`.\n",
    "- Fold `3` should have rows from index `1490` up to `2234`, not including `2234`.\n",
    "- Fold `4` should have rows from index `2234` up to `2978`, not including `2978`.\n",
    "- Fold `5` should have rows from index `2978` up to `3723`, not including `3723`.\n",
    "- Make sure `fold`'s type is a float type.\n",
    "- Display the unique value counts for the `fold` column to confirm that each fold has roughly the same number of elements.\n",
    "- Display the number of missing values in the `fold` column to confirm we didn't miss any rows."
   ]
  },
  {
   "cell_type": "code",
   "execution_count": null,
   "id": "5894c137",
   "metadata": {},
   "outputs": [],
   "source": []
  },
  {
   "cell_type": "markdown",
   "id": "938db24b",
   "metadata": {},
   "source": [
    "## 4. First iteration\n",
    "\n",
    "Let's start by performing the first iteration of k-fold cross validation on a simple, univariate model.\n",
    "\n",
    "### Exercise\n",
    "\n",
    "- Train a k-nearest neighbors model using the `accommodates` column as the sole feature from folds `2` to `5` as the training set.\n",
    "- Use the model to make predictions on the test set (`accommodates` column from fold `1`) and assign the predicted labels to `labels`.\n",
    "- Calculate the RMSE value by comparing the `price` column with the predicted labels.\n",
    "- Assign the RMSE value to `iteration_one_rmse`."
   ]
  },
  {
   "cell_type": "code",
   "execution_count": null,
   "id": "c8883fcc",
   "metadata": {},
   "outputs": [],
   "source": []
  },
  {
   "cell_type": "markdown",
   "id": "c14310f4",
   "metadata": {},
   "source": [
    "## 5. Function for training models\n",
    "\n",
    "From the first iteration, we achieved an RMSE value of roughly **128**. Let's calculate the RMSE values for the remaining iterations. To make the iteration process easier, let's wrap the code we wrote in the previous screen in a function.\n",
    "\n",
    "\n",
    "### Exercise\n",
    "\n",
    "- Write a function named `train_and_validate` that takes in a dataframe as the first parameter (`df`) and a list of fold values (`1` to `5` in our case) as the second parameter (`folds`). This function should:\n",
    "    - Train `n` models (where `n` is number of folds) and perform k-fold cross validation (using `n` folds). Use the default `k` value for the `KNeighborsRegressor` class.\n",
    "    - Return a list of RMSE values, where the first element is the RMSE for when fold `1` was the test set, the second element is the RMSE for when fold `2` was the test set, and so on.\n",
    "- Use the `train_and_validate` function to return the list of RMSE values for the `dc_listings` Dataframe and assign to `rmses`.\n",
    "- Calculate the mean of these values and assign to `avg_rmse`.\n",
    "- Display both `rmses` and `avg_rmse`."
   ]
  },
  {
   "cell_type": "code",
   "execution_count": null,
   "id": "c8903985",
   "metadata": {},
   "outputs": [],
   "source": []
  },
  {
   "cell_type": "markdown",
   "id": "04dcc29c",
   "metadata": {},
   "source": [
    "## 6. Performing K-Fold Cross Validation Using Scikit-Learn\n",
    "\n",
    "While the average RMSE value was approximately 135, the RMSE values ranged from 102 to 159+. This large amount of variability between the RMSE values means that we're either using a poor model or a poor evaluation criteria (or a bit of both!). By implementing your own k-fold cross-validation function, you hopefully acquired a good understanding of the inner workings of the technique. The function we wrote, however, has many limitations. If we want to now change the number of folds we want to use, we need to make the function more general so it can also handle randomizing the ordering of the rows in the dataframe and splitting into folds.\n",
    "\n",
    "In machine learning, we're interested in building a good model and accurately understanding how well it will perform. To build a better k-nearest neighbors model, we can change the features it uses or tweak the number of neighbors (a hyperparameter). To accurately understand a model's performance, we can perform k-fold cross validation and select the proper number of folds. We've learned how scikit-learn makes it easy for us to quickly experiment with these different knobs when it comes to building a better model. Let's now dive into how we can use scikit-learn to handle cross-validation as well.\n",
    "\n",
    "First, we instantiate an instance of the [KFold class](https://scikit-learn.org/stable/modules/generated/sklearn.model_selection.KFold.html#sklearn.model_selection.KFold) from `sklearn.model_selection`:\n",
    "\n",
    "```python\n",
    "from sklearn.model_selection import KFold\n",
    "kf = KFold(n_splits, shuffle=False, random_state=None)\n",
    "```\n",
    "\n",
    "where:\n",
    "\n",
    "- `n_splits` is the number of folds you want to use,\n",
    "- `shuffle` is used to toggle shuffling of the ordering of the observations in the dataset,\n",
    "- `random_state` is used to specify the random seed value if `shuffle` is set to `True`.\n",
    "\n",
    "You'll notice here that no parameters depend on the data set at all. This is because the KFold class returns an iterator object which we use in conjunction with the [cross_val_score()](https://scikit-learn.org/stable/modules/generated/sklearn.model_selection.cross_val_score.html) function, also from `sklearn.model_selection`. Together, these 2 functions allow us to compactly train and test using k-fold cross validation:\n",
    "\n",
    "Here are the relevant parameters for the `cross_val_score` function:\n",
    "\n",
    "```python\n",
    "from sklearn.model_selection import cross_val_score\n",
    "cross_val_score(estimator, X, Y, scoring=None, cv=None)\n",
    "```\n",
    "\n",
    "where:\n",
    "\n",
    "- `estimator` is a sklearn model that implements the `fit` method (e.g. instance of KNeighborsRegressor),\n",
    "- `X` is the list or 2D array containing the features you want to train on,\n",
    "- `y` is a list containing the values you want to predict (target column),\n",
    "- `scoring` is a string describing the scoring criteria (list of accepted values here).\n",
    "- `cv` describes the number of folds. Here are some examples of accepted values:\n",
    "    - an instance of the `KFold` class,\n",
    "    - an integer representing the number of folds.\n",
    "\n",
    "Depending on the scoring criteria you specify, a single total value is returned for each fold. Here's the general workflow for performing k-fold cross-validation using the classes we just described:\n",
    "\n",
    "- instantiate the scikit-learn model class you want to fit,\n",
    "- instantiate the `KFold` class and using the parameters to specify the k-fold cross-validation attributes you want,\n",
    "- use the `cross_val_score()` function to return the scoring metric you're interested in.\n",
    "\n",
    "\n",
    "### Exercise\n",
    "\n",
    "- Create a new instance of the `KFold` class with the following properties:\n",
    "    - `5` folds,\n",
    "    - shuffle set to `True`,\n",
    "    - random seed set to `1` (so we can answer check using the same seed),\n",
    "    - assigned to the variable `kf`.\n",
    "- Create a new instance of the `KNeighborsRegressor` class and assign to `knn`.\n",
    "- Use the `cross_val_score()` function to perform k-fold cross-validation:\n",
    "    - using the KNeighborsRegressor instance `knn`,\n",
    "    - using the `accommodates` column for training,\n",
    "    - using the `price` column as the target column,\n",
    "    - using the string `neg_mean_squared_error` as the value of the `scoring` parameter,\n",
    "    - using `kf` as the value of the `cv` parameter\n",
    "    - returning an array of MSE values (one value for each fold).\n",
    "- Assign the resulting list of MSE values to `mses`. Then, take the absolute value followed by the square root of each MSE value. Then, calculate the average of the resulting RMSE values and assign to `avg_rmse`.\n"
   ]
  },
  {
   "cell_type": "code",
   "execution_count": null,
   "id": "641aafa7",
   "metadata": {},
   "outputs": [],
   "source": []
  },
  {
   "cell_type": "markdown",
   "id": "8d672129",
   "metadata": {},
   "source": [
    "## 7. Exploring Different K Values\n",
    "Choosing the right `k` value when performing k-fold cross validation is more of an art and less of a science. As we discussed earlier in the lesson, a `k` value of `2` is really just holdout validation. On the other end, setting `k` equal to `n` (the number of observations in the data set) is known as **leave-one-out cross validation**, or LOOCV for short. Through lots of trial and error, data scientists have converged on `10` as the standard k value.\n",
    "\n",
    "In the following code block, we display the results of varying `k` from `3` to `23`. For each `k` value, we calculate and display the average RMSE value across all of the folds and the standard deviation of the RMSE values. Across the many different `k` values, it seems like the average RMSE value is around `129`. You'll notice that the standard deviation of the RMSE increases from approximately `8` to over `40` as we increase the number of folds.\n",
    "\n"
   ]
  },
  {
   "cell_type": "code",
   "execution_count": null,
   "id": "e1f92378",
   "metadata": {},
   "outputs": [],
   "source": []
  },
  {
   "cell_type": "markdown",
   "id": "a296664f",
   "metadata": {},
   "source": [
    "## 8. Bias-Variance Tradeoff\n",
    "\n",
    "So far, we've been working under the assumption that a lower RMSE always means that a model is more accurate. This isn't the complete picture, unfortunately. A model has two sources of error, **bias** and **variance**.\n",
    "\n",
    "Bias describes error that results in bad assumptions about the learning algorithm. For example, assuming that only one feature, like a car's weight, relates to a car's fuel efficiency will lead you to fit a simple, univariate regression model that will result in high bias. The error rate will be high since a car's fuel efficiency is affected by many other factors besides just its weight.\n",
    "\n",
    "Variance describes error that occurs because of the variability of a model's predicted values. If we were given a dataset with 1000 features on each car and used every single feature to train an incredibly complicated multivariate regression model, we will have low bias but high variance. In an ideal world, we want low bias and low variance but in reality, there's always a tradeoff.\n",
    "\n",
    "The standard deviation of the RMSE values can be a proxy for a model's **variance** while the average RMSE is a proxy for a model's **bias**. Bias and variance are the 2 observable sources of error in a model that we can indirectly control.\n",
    "\n",
    "\n",
    "<img src=\"figs/bias_variance.png\" width=\"600\" height=\"400\" />\n",
    "\n",
    "While k-nearest neighbors can make predictions, it isn't a mathematical model. A mathematical model is usually an equation that can exist without the original data, which isn't true with k-nearest neighbors. In the next two courses, we'll learn about a mathematical model called linear regression. We'll explore the bias-variance tradeoff in greater depth in these next 2 courses because of its importance when working with mathematical models in particular."
   ]
  }
 ],
 "metadata": {
  "kernelspec": {
   "display_name": "Python 3",
   "language": "python",
   "name": "python3"
  },
  "language_info": {
   "codemirror_mode": {
    "name": "ipython",
    "version": 3
   },
   "file_extension": ".py",
   "mimetype": "text/x-python",
   "name": "python",
   "nbconvert_exporter": "python",
   "pygments_lexer": "ipython3",
   "version": "3.8.8"
  }
 },
 "nbformat": 4,
 "nbformat_minor": 5
}
