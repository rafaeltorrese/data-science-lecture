{
 "cells": [
  {
   "cell_type": "markdown",
   "id": "47fda94d",
   "metadata": {},
   "source": [
    "<center><h1>Introduction to K-Nearest Neighbors</h1></center>"
   ]
  },
  {
   "cell_type": "markdown",
   "id": "9137a703",
   "metadata": {},
   "source": [
    "## 1. Introduction. \n",
    "### Exercise"
   ]
  },
  {
   "cell_type": "markdown",
   "id": "06caf2c0",
   "metadata": {},
   "source": [
    "## 2. Introduction to the data. \n",
    "### Exercise"
   ]
  },
  {
   "cell_type": "markdown",
   "id": "94ba9c16",
   "metadata": {},
   "source": [
    "## 3. K-nearest neighbors. \n",
    "### Exercise"
   ]
  },
  {
   "cell_type": "markdown",
   "id": "68bdfc08",
   "metadata": {},
   "source": [
    "## 4. Euclidean Distance. \n",
    "### Exercise"
   ]
  },
  {
   "cell_type": "markdown",
   "id": "6ff20bc5",
   "metadata": {},
   "source": [
    "## 5. Calculate Distance for All Observations. \n",
    "### Exercise"
   ]
  },
  {
   "cell_type": "markdown",
   "id": "a98af25d",
   "metadata": {},
   "source": [
    "## 6. Randomizing and Sorting. \n",
    "### Exercise"
   ]
  },
  {
   "cell_type": "markdown",
   "id": "cad9e70d",
   "metadata": {},
   "source": [
    "## 7. Average price. \n",
    "### Exercise"
   ]
  },
  {
   "cell_type": "markdown",
   "id": "9c78a3cd",
   "metadata": {},
   "source": [
    "## 8. Function to Make Predictions. \n",
    "### Exercise"
   ]
  },
  {
   "cell_type": "markdown",
   "id": "30cffe35",
   "metadata": {},
   "source": [
    "## 9. Next Steps. \n",
    "### Exercise"
   ]
  },
  {
   "cell_type": "markdown",
   "id": "54ac058f",
   "metadata": {},
   "source": [
    "## 10. Takeaways. \n",
    "### Exercise"
   ]
  }
 ],
 "metadata": {
  "kernelspec": {
   "display_name": "Python 3",
   "language": "python",
   "name": "python3"
  },
  "language_info": {
   "codemirror_mode": {
    "name": "ipython",
    "version": 3
   },
   "file_extension": ".py",
   "mimetype": "text/x-python",
   "name": "python",
   "nbconvert_exporter": "python",
   "pygments_lexer": "ipython3",
   "version": "3.8.8"
  }
 },
 "nbformat": 4,
 "nbformat_minor": 5
}
