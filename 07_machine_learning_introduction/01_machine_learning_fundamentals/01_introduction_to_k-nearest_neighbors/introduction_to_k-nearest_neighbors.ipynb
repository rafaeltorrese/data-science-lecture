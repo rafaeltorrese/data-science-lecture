{
 "cells": [
  {
   "cell_type": "markdown",
   "id": "47fda94d",
   "metadata": {},
   "source": [
    "<center><h1>Introduction to K-Nearest Neighbors</h1></center>"
   ]
  },
  {
   "cell_type": "markdown",
   "id": "9137a703",
   "metadata": {},
   "source": [
    "## 1. Introduction. \n",
    "\n",
    "At its core, data science helps us make sense of the massive world of information all around us — a world that's far too complex to study directly by ourselves. Data is the record of everything that's going on and what we should learn from it. The real value of all this information is what it means.\n",
    "\n",
    "Machine learning helps us discover patterns in data, which is where meaning lives. When we can see what the data means, we can make predictions about the future.\n",
    "\n",
    "In this lesson, we'll explore machine learning with a technique called \"K-Nearest Neighbors.\"\n",
    "\n",
    "We'll use a dataset of AirBnB rental rates to identify similar rates in one area for competing AirBnB units and make predictions for ideal rates to maximize profit. You'll need to be comfortable programming in Python, and you'll need to be familiar with the NumPy and pandas libraries.\n",
    "\n",
    "Here are a few takeaways you can expect from this lesson:\n",
    "\n",
    "- The basics of the machine learning workflow\n",
    "- How the K-Nearest Neighbors algorithm works\n",
    "- The role of Euclidean distance in machine learning\n",
    "\n",
    "Now, let's get to know our dataset.\n"
   ]
  },
  {
   "cell_type": "markdown",
   "id": "06caf2c0",
   "metadata": {},
   "source": [
    "## 2. Introduction to the data. \n",
    "\n",
    "While AirBnB doesn't release any data on the listings in their marketplace, a separate group named Inside AirBnB has extracted data on a sample of the listings for many of the major cities on the website.\n",
    "\n",
    "In this lesson, we'll be working with one of their datasets. To make the dataset less cumbersome to work with, we've removed many of the columns in the original dataset and renamed the file as dc_airbnb.csv. Here are the columns we kept:\n",
    "\n",
    "- `host_response_rate`: the response rate of the host\n",
    "- `host_acceptance_rate`: number of requests to the host that convert to rentals\n",
    "- `host_listings_count`: number of the host's other listings\n",
    "- `latitude`: latitude of the geographic coordinates\n",
    "- `longitude`: longitude of the geographic coordinates\n",
    "- `city`: the city of the rental\n",
    "- `zipcode`: the zip code of the rental\n",
    "- `state`: the state the rental\n",
    "- `accommodates`: the number of guests the rental can accommodate\n",
    "- `room_type`: the type of rental (Private room, Shared room or Entire home/apt\n",
    "- `bedrooms`: number of bedrooms included in the rental\n",
    "- `bathrooms`: number of bathrooms included in the rental\n",
    "- `beds`: number of beds included in the rental\n",
    "- `price`: nightly price for the rental\n",
    "- `cleaning_fee`: additional fee for cleaning the rental after the guest leaves\n",
    "- `security_deposit`: refundable security deposit, in case of damages\n",
    "- `minimum_nights`: minimum number of nights a guest can stay at the rental\n",
    "- `maximum_nights`: maximum number of nights a guest can stay at the rental\n",
    "- `number_of_reviews`: number of reviews that previous guests have left\n",
    "\n",
    "Let's read the dataset into Pandas and become more familiar with it.\n",
    "\n",
    "\n",
    "### Exercise\n",
    "\n",
    "- In the code editor on the right, write code that does the following:\n",
    "    - Read dc_airbnb.csv into a DataFrame named dc_listings.\n",
    "    - Use the print function to display the first row in dc_listings.\n"
   ]
  },
  {
   "cell_type": "code",
   "execution_count": 4,
   "id": "9bdf045d",
   "metadata": {},
   "outputs": [],
   "source": [
    "import numpy as np\n",
    "import pandas as pd\n",
    "import matplotlib.pyplot as plt"
   ]
  },
  {
   "cell_type": "code",
   "execution_count": null,
   "id": "c63d6274",
   "metadata": {},
   "outputs": [],
   "source": [
    "dc_listings = pd.read_csv(\"dc_airbnb.csv\")"
   ]
  },
  {
   "cell_type": "code",
   "execution_count": 2,
   "id": "c0291224",
   "metadata": {},
   "outputs": [
    {
     "data": {
      "text/html": [
       "<div>\n",
       "<style scoped>\n",
       "    .dataframe tbody tr th:only-of-type {\n",
       "        vertical-align: middle;\n",
       "    }\n",
       "\n",
       "    .dataframe tbody tr th {\n",
       "        vertical-align: top;\n",
       "    }\n",
       "\n",
       "    .dataframe thead th {\n",
       "        text-align: right;\n",
       "    }\n",
       "</style>\n",
       "<table border=\"1\" class=\"dataframe\">\n",
       "  <thead>\n",
       "    <tr style=\"text-align: right;\">\n",
       "      <th></th>\n",
       "      <th>host_response_rate</th>\n",
       "      <th>host_acceptance_rate</th>\n",
       "      <th>host_listings_count</th>\n",
       "      <th>accommodates</th>\n",
       "      <th>room_type</th>\n",
       "      <th>bedrooms</th>\n",
       "      <th>bathrooms</th>\n",
       "      <th>beds</th>\n",
       "      <th>price</th>\n",
       "      <th>cleaning_fee</th>\n",
       "      <th>security_deposit</th>\n",
       "      <th>minimum_nights</th>\n",
       "      <th>maximum_nights</th>\n",
       "      <th>number_of_reviews</th>\n",
       "      <th>latitude</th>\n",
       "      <th>longitude</th>\n",
       "      <th>city</th>\n",
       "      <th>zipcode</th>\n",
       "      <th>state</th>\n",
       "    </tr>\n",
       "  </thead>\n",
       "  <tbody>\n",
       "    <tr>\n",
       "      <th>0</th>\n",
       "      <td>92%</td>\n",
       "      <td>91%</td>\n",
       "      <td>26</td>\n",
       "      <td>4</td>\n",
       "      <td>Entire home/apt</td>\n",
       "      <td>1.0</td>\n",
       "      <td>1.0</td>\n",
       "      <td>2.0</td>\n",
       "      <td>$160.00</td>\n",
       "      <td>$115.00</td>\n",
       "      <td>$100.00</td>\n",
       "      <td>1</td>\n",
       "      <td>1125</td>\n",
       "      <td>0</td>\n",
       "      <td>38.890046</td>\n",
       "      <td>-77.002808</td>\n",
       "      <td>Washington</td>\n",
       "      <td>20003</td>\n",
       "      <td>DC</td>\n",
       "    </tr>\n",
       "    <tr>\n",
       "      <th>1</th>\n",
       "      <td>90%</td>\n",
       "      <td>100%</td>\n",
       "      <td>1</td>\n",
       "      <td>6</td>\n",
       "      <td>Entire home/apt</td>\n",
       "      <td>3.0</td>\n",
       "      <td>3.0</td>\n",
       "      <td>3.0</td>\n",
       "      <td>$350.00</td>\n",
       "      <td>$100.00</td>\n",
       "      <td>NaN</td>\n",
       "      <td>2</td>\n",
       "      <td>30</td>\n",
       "      <td>65</td>\n",
       "      <td>38.880413</td>\n",
       "      <td>-76.990485</td>\n",
       "      <td>Washington</td>\n",
       "      <td>20003</td>\n",
       "      <td>DC</td>\n",
       "    </tr>\n",
       "    <tr>\n",
       "      <th>2</th>\n",
       "      <td>90%</td>\n",
       "      <td>100%</td>\n",
       "      <td>2</td>\n",
       "      <td>1</td>\n",
       "      <td>Private room</td>\n",
       "      <td>1.0</td>\n",
       "      <td>2.0</td>\n",
       "      <td>1.0</td>\n",
       "      <td>$50.00</td>\n",
       "      <td>NaN</td>\n",
       "      <td>NaN</td>\n",
       "      <td>2</td>\n",
       "      <td>1125</td>\n",
       "      <td>1</td>\n",
       "      <td>38.955291</td>\n",
       "      <td>-76.986006</td>\n",
       "      <td>Hyattsville</td>\n",
       "      <td>20782</td>\n",
       "      <td>MD</td>\n",
       "    </tr>\n",
       "    <tr>\n",
       "      <th>3</th>\n",
       "      <td>100%</td>\n",
       "      <td>NaN</td>\n",
       "      <td>1</td>\n",
       "      <td>2</td>\n",
       "      <td>Private room</td>\n",
       "      <td>1.0</td>\n",
       "      <td>1.0</td>\n",
       "      <td>1.0</td>\n",
       "      <td>$95.00</td>\n",
       "      <td>NaN</td>\n",
       "      <td>NaN</td>\n",
       "      <td>1</td>\n",
       "      <td>1125</td>\n",
       "      <td>0</td>\n",
       "      <td>38.872134</td>\n",
       "      <td>-77.019639</td>\n",
       "      <td>Washington</td>\n",
       "      <td>20024</td>\n",
       "      <td>DC</td>\n",
       "    </tr>\n",
       "    <tr>\n",
       "      <th>4</th>\n",
       "      <td>92%</td>\n",
       "      <td>67%</td>\n",
       "      <td>1</td>\n",
       "      <td>4</td>\n",
       "      <td>Entire home/apt</td>\n",
       "      <td>1.0</td>\n",
       "      <td>1.0</td>\n",
       "      <td>1.0</td>\n",
       "      <td>$50.00</td>\n",
       "      <td>$15.00</td>\n",
       "      <td>$450.00</td>\n",
       "      <td>7</td>\n",
       "      <td>1125</td>\n",
       "      <td>0</td>\n",
       "      <td>38.996382</td>\n",
       "      <td>-77.041541</td>\n",
       "      <td>Silver Spring</td>\n",
       "      <td>20910</td>\n",
       "      <td>MD</td>\n",
       "    </tr>\n",
       "    <tr>\n",
       "      <th>...</th>\n",
       "      <td>...</td>\n",
       "      <td>...</td>\n",
       "      <td>...</td>\n",
       "      <td>...</td>\n",
       "      <td>...</td>\n",
       "      <td>...</td>\n",
       "      <td>...</td>\n",
       "      <td>...</td>\n",
       "      <td>...</td>\n",
       "      <td>...</td>\n",
       "      <td>...</td>\n",
       "      <td>...</td>\n",
       "      <td>...</td>\n",
       "      <td>...</td>\n",
       "      <td>...</td>\n",
       "      <td>...</td>\n",
       "      <td>...</td>\n",
       "      <td>...</td>\n",
       "      <td>...</td>\n",
       "    </tr>\n",
       "    <tr>\n",
       "      <th>3718</th>\n",
       "      <td>100%</td>\n",
       "      <td>60%</td>\n",
       "      <td>1</td>\n",
       "      <td>4</td>\n",
       "      <td>Entire home/apt</td>\n",
       "      <td>1.0</td>\n",
       "      <td>1.0</td>\n",
       "      <td>2.0</td>\n",
       "      <td>$135.00</td>\n",
       "      <td>$45.00</td>\n",
       "      <td>$400.00</td>\n",
       "      <td>3</td>\n",
       "      <td>60</td>\n",
       "      <td>19</td>\n",
       "      <td>38.885492</td>\n",
       "      <td>-76.987765</td>\n",
       "      <td>Washington</td>\n",
       "      <td>20003</td>\n",
       "      <td>DC</td>\n",
       "    </tr>\n",
       "    <tr>\n",
       "      <th>3719</th>\n",
       "      <td>100%</td>\n",
       "      <td>50%</td>\n",
       "      <td>1</td>\n",
       "      <td>2</td>\n",
       "      <td>Private room</td>\n",
       "      <td>1.0</td>\n",
       "      <td>2.0</td>\n",
       "      <td>1.0</td>\n",
       "      <td>$79.00</td>\n",
       "      <td>NaN</td>\n",
       "      <td>NaN</td>\n",
       "      <td>3</td>\n",
       "      <td>365</td>\n",
       "      <td>36</td>\n",
       "      <td>38.889401</td>\n",
       "      <td>-76.986646</td>\n",
       "      <td>Washington</td>\n",
       "      <td>20003</td>\n",
       "      <td>DC</td>\n",
       "    </tr>\n",
       "    <tr>\n",
       "      <th>3720</th>\n",
       "      <td>100%</td>\n",
       "      <td>100%</td>\n",
       "      <td>2</td>\n",
       "      <td>6</td>\n",
       "      <td>Entire home/apt</td>\n",
       "      <td>2.0</td>\n",
       "      <td>1.0</td>\n",
       "      <td>3.0</td>\n",
       "      <td>$275.00</td>\n",
       "      <td>$100.00</td>\n",
       "      <td>$500.00</td>\n",
       "      <td>2</td>\n",
       "      <td>2147483647</td>\n",
       "      <td>12</td>\n",
       "      <td>38.889533</td>\n",
       "      <td>-77.001010</td>\n",
       "      <td>Washington</td>\n",
       "      <td>20003</td>\n",
       "      <td>DC</td>\n",
       "    </tr>\n",
       "    <tr>\n",
       "      <th>3721</th>\n",
       "      <td>88%</td>\n",
       "      <td>100%</td>\n",
       "      <td>1</td>\n",
       "      <td>2</td>\n",
       "      <td>Entire home/apt</td>\n",
       "      <td>1.0</td>\n",
       "      <td>1.0</td>\n",
       "      <td>1.0</td>\n",
       "      <td>$179.00</td>\n",
       "      <td>$25.00</td>\n",
       "      <td>NaN</td>\n",
       "      <td>2</td>\n",
       "      <td>21</td>\n",
       "      <td>48</td>\n",
       "      <td>38.890815</td>\n",
       "      <td>-77.002283</td>\n",
       "      <td>Washington</td>\n",
       "      <td>20002</td>\n",
       "      <td>DC</td>\n",
       "    </tr>\n",
       "    <tr>\n",
       "      <th>3722</th>\n",
       "      <td>70%</td>\n",
       "      <td>100%</td>\n",
       "      <td>1</td>\n",
       "      <td>3</td>\n",
       "      <td>Entire home/apt</td>\n",
       "      <td>0.0</td>\n",
       "      <td>1.0</td>\n",
       "      <td>1.0</td>\n",
       "      <td>$110.00</td>\n",
       "      <td>$40.00</td>\n",
       "      <td>$200.00</td>\n",
       "      <td>2</td>\n",
       "      <td>1125</td>\n",
       "      <td>1</td>\n",
       "      <td>38.883646</td>\n",
       "      <td>-76.999810</td>\n",
       "      <td>Washington</td>\n",
       "      <td>20003</td>\n",
       "      <td>DC</td>\n",
       "    </tr>\n",
       "  </tbody>\n",
       "</table>\n",
       "<p>3723 rows × 19 columns</p>\n",
       "</div>"
      ],
      "text/plain": [
       "     host_response_rate host_acceptance_rate  host_listings_count  \\\n",
       "0                   92%                  91%                   26   \n",
       "1                   90%                 100%                    1   \n",
       "2                   90%                 100%                    2   \n",
       "3                  100%                  NaN                    1   \n",
       "4                   92%                  67%                    1   \n",
       "...                 ...                  ...                  ...   \n",
       "3718               100%                  60%                    1   \n",
       "3719               100%                  50%                    1   \n",
       "3720               100%                 100%                    2   \n",
       "3721                88%                 100%                    1   \n",
       "3722                70%                 100%                    1   \n",
       "\n",
       "      accommodates        room_type  bedrooms  bathrooms  beds    price  \\\n",
       "0                4  Entire home/apt       1.0        1.0   2.0  $160.00   \n",
       "1                6  Entire home/apt       3.0        3.0   3.0  $350.00   \n",
       "2                1     Private room       1.0        2.0   1.0   $50.00   \n",
       "3                2     Private room       1.0        1.0   1.0   $95.00   \n",
       "4                4  Entire home/apt       1.0        1.0   1.0   $50.00   \n",
       "...            ...              ...       ...        ...   ...      ...   \n",
       "3718             4  Entire home/apt       1.0        1.0   2.0  $135.00   \n",
       "3719             2     Private room       1.0        2.0   1.0   $79.00   \n",
       "3720             6  Entire home/apt       2.0        1.0   3.0  $275.00   \n",
       "3721             2  Entire home/apt       1.0        1.0   1.0  $179.00   \n",
       "3722             3  Entire home/apt       0.0        1.0   1.0  $110.00   \n",
       "\n",
       "     cleaning_fee security_deposit  minimum_nights  maximum_nights  \\\n",
       "0         $115.00          $100.00               1            1125   \n",
       "1         $100.00              NaN               2              30   \n",
       "2             NaN              NaN               2            1125   \n",
       "3             NaN              NaN               1            1125   \n",
       "4          $15.00          $450.00               7            1125   \n",
       "...           ...              ...             ...             ...   \n",
       "3718       $45.00          $400.00               3              60   \n",
       "3719          NaN              NaN               3             365   \n",
       "3720      $100.00          $500.00               2      2147483647   \n",
       "3721       $25.00              NaN               2              21   \n",
       "3722       $40.00          $200.00               2            1125   \n",
       "\n",
       "      number_of_reviews   latitude  longitude           city zipcode state  \n",
       "0                     0  38.890046 -77.002808     Washington   20003    DC  \n",
       "1                    65  38.880413 -76.990485     Washington   20003    DC  \n",
       "2                     1  38.955291 -76.986006    Hyattsville   20782    MD  \n",
       "3                     0  38.872134 -77.019639     Washington   20024    DC  \n",
       "4                     0  38.996382 -77.041541  Silver Spring   20910    MD  \n",
       "...                 ...        ...        ...            ...     ...   ...  \n",
       "3718                 19  38.885492 -76.987765     Washington   20003    DC  \n",
       "3719                 36  38.889401 -76.986646     Washington   20003    DC  \n",
       "3720                 12  38.889533 -77.001010     Washington   20003    DC  \n",
       "3721                 48  38.890815 -77.002283     Washington   20002    DC  \n",
       "3722                  1  38.883646 -76.999810     Washington   20003    DC  \n",
       "\n",
       "[3723 rows x 19 columns]"
      ]
     },
     "execution_count": 2,
     "metadata": {},
     "output_type": "execute_result"
    }
   ],
   "source": [
    "dc_listings"
   ]
  },
  {
   "cell_type": "code",
   "execution_count": 12,
   "id": "1b7b87f1",
   "metadata": {},
   "outputs": [
    {
     "name": "stdout",
     "output_type": "stream",
     "text": [
      "<class 'pandas.core.frame.DataFrame'>\n",
      "RangeIndex: 3723 entries, 0 to 3722\n",
      "Data columns (total 19 columns):\n",
      " #   Column                Non-Null Count  Dtype  \n",
      "---  ------                --------------  -----  \n",
      " 0   host_response_rate    3289 non-null   object \n",
      " 1   host_acceptance_rate  3109 non-null   object \n",
      " 2   host_listings_count   3723 non-null   int64  \n",
      " 3   accommodates          3723 non-null   int64  \n",
      " 4   room_type             3723 non-null   object \n",
      " 5   bedrooms              3702 non-null   float64\n",
      " 6   bathrooms             3696 non-null   float64\n",
      " 7   beds                  3712 non-null   float64\n",
      " 8   price                 3723 non-null   object \n",
      " 9   cleaning_fee          2335 non-null   object \n",
      " 10  security_deposit      1426 non-null   object \n",
      " 11  minimum_nights        3723 non-null   int64  \n",
      " 12  maximum_nights        3723 non-null   int64  \n",
      " 13  number_of_reviews     3723 non-null   int64  \n",
      " 14  latitude              3723 non-null   float64\n",
      " 15  longitude             3723 non-null   float64\n",
      " 16  city                  3723 non-null   object \n",
      " 17  zipcode               3714 non-null   object \n",
      " 18  state                 3723 non-null   object \n",
      "dtypes: float64(5), int64(5), object(9)\n",
      "memory usage: 552.8+ KB\n"
     ]
    }
   ],
   "source": [
    "dc_listings.info()"
   ]
  },
  {
   "cell_type": "markdown",
   "id": "94ba9c16",
   "metadata": {},
   "source": [
    "## 3. K-nearest neighbors. \n",
    "\n",
    "Here's the strategy we wanted to use:\n",
    "\n",
    "Find a few similar listings\n",
    "Calculate the average nightly rental price of these listings\n",
    "Set the average price as the price for our listing\n",
    "The k-nearest neighbors algorithm is similar to this strategy. Here's an overview:\n",
    "\n",
    "<img src=\"figs/3.1-m139.svg\"/>\n",
    "\n",
    "There are two things we need to unpack in more detail:\n",
    "\n",
    "- The similarity metric\n",
    "- How to choose the k value\n",
    "\n",
    "In this lesson, we'll define what similarity metric we're going to use. Then, we'll implement the k-nearest neighbors algorithm and use it to suggest a price for a new, unpriced listing. We'll use a k value of 5 in this lesson.\n"
   ]
  },
  {
   "cell_type": "markdown",
   "id": "68bdfc08",
   "metadata": {},
   "source": [
    "## 4. Euclidean Distance. \n",
    "\n",
    "The similarity metric works by comparing a fixed set of numerical features (another word for attributes) between two observations, or living spaces in our case. When trying to predict a continuous value, like price, the main similarity metric is Euclidean distance. Here's the general formula for Euclidean distance:\n",
    "\n",
    "\\begin{equation}\n",
    "d = \\sqrt{(q_1-p_1)^2 + (q_2-p_2)^2 + \\ldots + (q_n-p_n)^2}\n",
    "\\end{equation}\n",
    "\n",
    "where $q_1$ to $q_n$ represent the feature values for one observation and $p_1$ to $p_2$  represent the feature values for the other observation. Here's a diagram that breaks down the Euclidean distance between the first two observations in the dataset using only the host_listings_count, accommodates, bedrooms, bathrooms, and beds columns:\n",
    "\n",
    "![fig1](figs/4.1-m139.svg)\n",
    "\n",
    "![fig2](figs/4.2-m139.svg)\n",
    "\n",
    "\n",
    "In this lesson, we'll use just one feature to keep things simple as you become familiar with the machine learning workflow. Since we're only using one feature, this is the univariate case. The formula for the univariate case is $d = \\sqrt{(q_1 - p_1)^2}$\n",
    "\n",
    "\n",
    "\n",
    "The square root and the squared power cancel, and the formula simplifies to $d = \\vert q_1 - p_1 \\vert$\n",
    "\n",
    "The living space that we want to rent can accommodate three people. Let's first calculate the distance, using just the `accommodates` feature, between the first living space in the dataset and our own.\n",
    "\n",
    "### Exercise\n",
    "\n",
    "1. Calculate the Euclidean distance between our living space, which can accommodate three people, and the first living space in the dc_listings DataFrame.\n",
    "1. Assign the result to first_distance and display the value using the print function."
   ]
  },
  {
   "cell_type": "code",
   "execution_count": 11,
   "id": "f6bb17e0",
   "metadata": {},
   "outputs": [
    {
     "name": "stdout",
     "output_type": "stream",
     "text": [
      "RangeIndex(start=0, stop=3723, step=1)\n"
     ]
    }
   ],
   "source": [
    "print(dc_listings.index)"
   ]
  },
  {
   "cell_type": "code",
   "execution_count": 9,
   "id": "b533ad4a",
   "metadata": {},
   "outputs": [
    {
     "name": "stdout",
     "output_type": "stream",
     "text": [
      "3\n"
     ]
    }
   ],
   "source": [
    "print(dc_listings.loc[dc_listings['accommodates'] == 3, 'accommodates'].head().values[0])"
   ]
  },
  {
   "cell_type": "code",
   "execution_count": 10,
   "id": "100e6d35",
   "metadata": {},
   "outputs": [
    {
     "name": "stdout",
     "output_type": "stream",
     "text": [
      "1\n"
     ]
    }
   ],
   "source": [
    "first_distance = dc_listings.loc[dc_listings['accommodates'] == 3, 'accommodates'].head().values[0] - dc_listings.loc[0, 'accommodates']\n",
    "first_distance = np.abs(first_distance)\n",
    "print(first_distance)"
   ]
  },
  {
   "cell_type": "markdown",
   "id": "6ff20bc5",
   "metadata": {},
   "source": [
    "## 5. Calculate Distance for All Observations. \n",
    "\n",
    "The Euclidean distance between the first row in the dc_listings DataFrame and our own living space is 1.\n",
    "\n",
    "How do we know if this is high or low? If you look at the Euclidean distance equation itself, the lowest value you can achieve is 0. This happens when the value for the feature is exactly the same for both observations you're comparing. If $p_1 = q_1$ , then $d = |q_1 - p_1|$, which results in $d = 0$. The closer to 0 the distance is, the more similar the living spaces are.\n",
    "\n",
    "If we want to calculate the Euclidean distance between each living space in the dataset and a living space that accommodates 8 people, here's a preview of what that would look like.\n",
    "\n",
    "![fig3](figs/5.1-m139.svg)\n",
    "\n",
    "Then, we can rank the existing living spaces by ascending distance values, the proxy for similarity.\n",
    "\n",
    "\n",
    "### Exercise\n",
    "\n",
    "1. Calculate the distance between each value in the accommodates column from dc_listings and the value 3, which is the number of people our listing accommodates:\n",
    "    - Use the apply method to calculate the absolute value between each value in accommodates and 3 and return a new Series containing the distance values.\n",
    "1. Assign the distance values to the distance column.\n",
    "1. Use the Series method value_counts and the print function to display the unique value counts for the distance column."
   ]
  },
  {
   "cell_type": "code",
   "execution_count": 13,
   "id": "7854bd3b",
   "metadata": {},
   "outputs": [],
   "source": [
    "dc_listings['distance'] =  3 - dc_listings['accommodates']"
   ]
  },
  {
   "cell_type": "code",
   "execution_count": 14,
   "id": "a45cbbb0",
   "metadata": {},
   "outputs": [
    {
     "name": "stdout",
     "output_type": "stream",
     "text": [
      "0   -1\n",
      "1   -3\n",
      "2    2\n",
      "3    1\n",
      "4   -1\n",
      "Name: distance, dtype: int64\n"
     ]
    }
   ],
   "source": [
    "print(dc_listings['distance'].head())"
   ]
  },
  {
   "cell_type": "code",
   "execution_count": null,
   "id": "08d1db89",
   "metadata": {},
   "outputs": [],
   "source": [
    "dc_listings['distance'] = dc_listings['distance'].apply(np.abs)"
   ]
  },
  {
   "cell_type": "code",
   "execution_count": 17,
   "id": "d21178a9",
   "metadata": {},
   "outputs": [
    {
     "name": "stdout",
     "output_type": "stream",
     "text": [
      "1     2294\n",
      "2      503\n",
      "0      461\n",
      "3      279\n",
      "5       73\n",
      "4       35\n",
      "7       22\n",
      "6       17\n",
      "9       12\n",
      "13       8\n",
      "8        7\n",
      "12       6\n",
      "11       4\n",
      "10       2\n",
      "Name: distance, dtype: int64\n",
      "0      461\n",
      "1     2294\n",
      "2      503\n",
      "3      279\n",
      "4       35\n",
      "5       73\n",
      "6       17\n",
      "7       22\n",
      "8        7\n",
      "9       12\n",
      "10       2\n",
      "11       4\n",
      "12       6\n",
      "13       8\n",
      "Name: distance, dtype: int64\n"
     ]
    }
   ],
   "source": [
    "print(dc_listings['distance'].value_counts())\n",
    "print(dc_listings['distance'].value_counts().sort_index())"
   ]
  },
  {
   "cell_type": "markdown",
   "id": "2f4d5940",
   "metadata": {},
   "source": [
    "## 6. Randomizing and Sorting. \n",
    "\n",
    "It looks like there are quite a few living spaces (461, to be precise) that can accommodate three people just like ours. This means the five \"nearest neighbors\" we select after sorting all will have a distance value of zero.\n",
    "\n",
    "If we sort by the distance column and then select the first 5 living spaces, we would be biasing the result to the ordering of the dataset."
   ]
  },
  {
   "cell_type": "code",
   "execution_count": 18,
   "id": "4f790683",
   "metadata": {},
   "outputs": [
    {
     "name": "stdout",
     "output_type": "stream",
     "text": [
      "26      3\n",
      "34      3\n",
      "36      3\n",
      "40      3\n",
      "44      3\n",
      "       ..\n",
      "3675    3\n",
      "3697    3\n",
      "3707    3\n",
      "3714    3\n",
      "3722    3\n",
      "Name: accommodates, Length: 461, dtype: int64\n"
     ]
    }
   ],
   "source": [
    "print(dc_listings[dc_listings[\"distance\"] == 0][\"accommodates\"])"
   ]
  },
  {
   "cell_type": "markdown",
   "id": "5aa4370d",
   "metadata": {},
   "source": [
    "Instead, let's randomize the ordering of the dataset and then sort the DataFrame by the distance column. This way, all of the living spaces that accommodate the same number of people will still be at the top of the DataFrame, but they will be in random order across the first 461 rows.\n",
    "\n",
    "We have set a random seed, so we can perform answer-checking on our end."
   ]
  },
  {
   "cell_type": "markdown",
   "id": "a98af25d",
   "metadata": {},
   "source": [
    "### Exercise\n",
    "\n",
    "1. Randomize the order of the rows in `dc_listings`:\n",
    "    - Use the np.random.permutation() function to return a NumPy array of shuffled index values.\n",
    "    - Use the DataFrame method loc[] to return a new DataFrame containing the shuffled order.\n",
    "    - Assign the new DataFrame back to dc_listings.\n",
    "1. After randomization, sort dc_listings by the distance column, and assign back to dc_listings.\n",
    "1. Display the first 10 values in the price column using the print function."
   ]
  },
  {
   "cell_type": "code",
   "execution_count": 19,
   "id": "c5bbcf94",
   "metadata": {},
   "outputs": [],
   "source": [
    "np.random.seed(1)"
   ]
  },
  {
   "cell_type": "code",
   "execution_count": 20,
   "id": "7255da29",
   "metadata": {},
   "outputs": [],
   "source": [
    "dc_listings = dc_listings.loc[np.random.default_rng().permutation(dc_listings.index)]\n",
    "dc_listings = dc_listings.sort_values(by='distance')"
   ]
  },
  {
   "cell_type": "code",
   "execution_count": 21,
   "id": "ef560be1",
   "metadata": {},
   "outputs": [
    {
     "name": "stdout",
     "output_type": "stream",
     "text": [
      "3349    $105.00\n",
      "899     $200.00\n",
      "45      $100.00\n",
      "1855    $100.00\n",
      "625     $150.00\n",
      "3037    $139.00\n",
      "3546    $200.00\n",
      "934     $220.00\n",
      "2257    $129.00\n",
      "1065     $99.00\n",
      "Name: price, dtype: object\n"
     ]
    }
   ],
   "source": [
    "print(dc_listings.loc[:, 'price'].head(10))"
   ]
  },
  {
   "cell_type": "markdown",
   "id": "cad9e70d",
   "metadata": {},
   "source": [
    "## 7. Average price. \n",
    "\n",
    "Before we can select the five most similar living spaces and compute the average price, we need to clean the price column.\n",
    "\n",
    "Right now, the price column contains comma characters (,) and dollar sign characters and is a text column instead of a numeric column. We need to remove these values and convert the entire column to the float datatype. Then, we can calculate the average price.\n",
    "\n",
    "### Exercise\n",
    "\n",
    "1. Remove the commas (,) and dollar sign characters ($) from the price column:\n",
    "    - Use the str accessor so we can apply string methods to each value in the column followed by the string method replace to replace all comma characters with the empty character: stripped_commas = dc_listings['price'].str.replace(',', '')\n",
    "    - Repeat to remove the dollar sign characters.\n",
    "1. Convert the new Series object containing the cleaned values to the float datatype and assign back to the price column in dc_listings.\n",
    "1. Calculate the mean of the first five values in the price column and assign to mean_price.\n",
    "1. Use the `print` function or the variable inspector below to display `mean_price`."
   ]
  },
  {
   "cell_type": "code",
   "execution_count": 22,
   "id": "8e6cfb5f",
   "metadata": {},
   "outputs": [
    {
     "name": "stderr",
     "output_type": "stream",
     "text": [
      "C:\\Users\\RAFAEL~1.TOR\\AppData\\Local\\Temp/ipykernel_16272/1852850711.py:1: FutureWarning: The default value of regex will change from True to False in a future version.\n",
      "  dc_listings['price'] = dc_listings['price'].str.replace('[\\$,]', '').astype(float)\n"
     ]
    }
   ],
   "source": [
    "dc_listings['price'] = dc_listings['price'].str.replace('[\\$,]', '', regex=True).astype(float)"
   ]
  },
  {
   "cell_type": "code",
   "execution_count": 23,
   "id": "6ae1269f",
   "metadata": {},
   "outputs": [
    {
     "name": "stdout",
     "output_type": "stream",
     "text": [
      "131.0\n"
     ]
    }
   ],
   "source": [
    "mean_price = dc_listings['price'].head().mean()\n",
    "print(mean_price)"
   ]
  },
  {
   "cell_type": "markdown",
   "id": "9c78a3cd",
   "metadata": {},
   "source": [
    "## 8. Function to Make Predictions. \n",
    "\n",
    "Congrats! You've just made your first prediction! Based on the average price of other listings that accommodate three people, we should charge **131.6** dollars per night for a guest to stay at our living space.\n",
    "\n",
    "Let's write a more general function that can suggest the optimal price for other values of the accommodates column.\n",
    "\n",
    "The dc_listings DataFrame has information specific to our living space (e.g., the distance column).\n",
    "\n",
    "To save time, we've reset the dc_listings DataFrame to a clean slate and only kept the data cleaning and randomization we did since those weren't unique to the prediction we were making for our living space.\n",
    "\n",
    "### Exercise\n",
    "\n",
    "1. Write a function named predict_price that can use the k-nearest neighbors machine learning technique to calculate the suggested price for any value for accommodates. This function should do the following:\n",
    "    - Take in a single parameter, new_listing, that describes the number of bedrooms.\n",
    "    (We've added code that assigns dc_listings to a new DataFrame named temp_df. We used the pandas.DataFrame.copy() method, so the underlying DataFrame is assigned to temp_df, instead of just a reference to dc_listings.)\n",
    "    - Calculate the distance between each value in the accommodates column and the new_listing value that was passed in. Assign the resulting Series object to the distance column in temp_df.\n",
    "    - Sort temp_df by the distance column and select the first five values in the price column. Don't randomize the ordering of temp_df.\n",
    "    - Calculate the mean of these five values and use that as the return value for the entire predict_price function.\n",
    "\n",
    "1. Use the predict_price function to suggest a price for a living space that does the following:\n",
    "    - If it accommodates 1 person, assign the suggested price to acc_one.\n",
    "    - If it accommodates 2 people, assign the suggested price to acc_two.\n",
    "    - If it accommodates 4 people, assign the suggested price to acc_four."
   ]
  },
  {
   "cell_type": "code",
   "execution_count": 24,
   "id": "73694b40",
   "metadata": {},
   "outputs": [],
   "source": [
    "dc_listings = pd.read_csv(\"dc_airbnb.csv\")\n",
    "dc_listings['price'] = dc_listings['price'].str.replace('[\\$,]', '', regex=True).astype(float)\n",
    "dc_listings = dc_listings.loc[np.random.default_rng().permutation(dc_listings.index)]"
   ]
  },
  {
   "cell_type": "code",
   "execution_count": 25,
   "id": "93001954",
   "metadata": {},
   "outputs": [],
   "source": [
    "def predict_price(new_listing):\n",
    "    temp_df = dc_listings.copy()\n",
    "    temp_df['distance'] = (temp_df['accommodates'] - new_listing).abs()\n",
    "    return temp_df.sort_values(by='distance')['price'].head().mean()    "
   ]
  },
  {
   "cell_type": "code",
   "execution_count": 26,
   "id": "d481651e",
   "metadata": {},
   "outputs": [],
   "source": [
    "acc_one = predict_price(1)\n",
    "acc_two = predict_price(2)\n",
    "acc_four = predict_price(4)"
   ]
  },
  {
   "cell_type": "code",
   "execution_count": 27,
   "id": "a1e79586",
   "metadata": {},
   "outputs": [
    {
     "name": "stdout",
     "output_type": "stream",
     "text": [
      "65.6\n",
      "74.8\n",
      "155.8\n"
     ]
    }
   ],
   "source": [
    "print(acc_one)\n",
    "print(acc_two)\n",
    "print(acc_four)"
   ]
  },
  {
   "cell_type": "markdown",
   "id": "30cffe35",
   "metadata": {},
   "source": [
    "## 9. Next Steps. \n",
    "In this lesson, we explored the problem of predicting the optimal listing price for an AirBnB rental based on the price of similar listings on the site. We worked through the entire machine learning workflow, from selecting a feature to testing the model. To explore the basics of machine learning, we limited ourselves to only using one feature (the univariate case) and a fixed k value of 5.\n",
    "\n",
    "In the next lesson, we'll learn how to evaluate a model's performance.\n"
   ]
  }
 ],
 "metadata": {
  "kernelspec": {
   "display_name": "Python 3",
   "language": "python",
   "name": "python3"
  },
  "language_info": {
   "codemirror_mode": {
    "name": "ipython",
    "version": 3
   },
   "file_extension": ".py",
   "mimetype": "text/x-python",
   "name": "python",
   "nbconvert_exporter": "python",
   "pygments_lexer": "ipython3",
   "version": "3.8.8"
  }
 },
 "nbformat": 4,
 "nbformat_minor": 5
}
