{
 "cells": [
  {
   "cell_type": "markdown",
   "id": "5038d9d3",
   "metadata": {},
   "source": [
    "<center><h1>Multivariate K-Nearest Neighbors</h1></center>"
   ]
  },
  {
   "cell_type": "markdown",
   "id": "1a4d471d",
   "metadata": {},
   "source": [
    "## 1. Recap.\n",
    "### Exercise\n",
    "## 2. Removing features.\n",
    "### Exercise\n",
    "## 3. Handling missing values.\n",
    "### Exercise\n",
    "## 4. Normalize columns.\n",
    "### Exercise\n",
    "## 5. Euclidean distance for multivariate case.\n",
    "### Exercise\n",
    "## 6. Introduction to scikit-learn.\n",
    "### Exercise\n",
    "## 7. Fitting a model and making predictions.\n",
    "### Exercise\n",
    "## 8. Calculating MSE using Scikit-Learn.\n",
    "### Exercise\n",
    "## 9. Using more features.\n",
    "### Exercise\n",
    "## 10. Using all features.\n",
    "### Exercise\n",
    "## 11. Next steps.\n",
    "### Exercise\n",
    "## 12. Takeaways.\n",
    "### Exercise"
   ]
  }
 ],
 "metadata": {
  "kernelspec": {
   "display_name": "Python 3",
   "language": "python",
   "name": "python3"
  },
  "language_info": {
   "codemirror_mode": {
    "name": "ipython",
    "version": 3
   },
   "file_extension": ".py",
   "mimetype": "text/x-python",
   "name": "python",
   "nbconvert_exporter": "python",
   "pygments_lexer": "ipython3",
   "version": "3.8.8"
  }
 },
 "nbformat": 4,
 "nbformat_minor": 5
}
