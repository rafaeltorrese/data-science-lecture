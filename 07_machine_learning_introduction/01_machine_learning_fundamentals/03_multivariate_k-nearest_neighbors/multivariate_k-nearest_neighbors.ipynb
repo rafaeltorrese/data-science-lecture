{
 "cells": [
  {
   "cell_type": "markdown",
   "id": "5038d9d3",
   "metadata": {},
   "source": [
    "<center><h1>Multivariate K-Nearest Neighbors</h1></center>"
   ]
  },
  {
   "cell_type": "markdown",
   "id": "61150bff",
   "metadata": {},
   "source": [
    "## 1. Recap.\n",
    "\n",
    "we explored how to use a simple k-nearest neighbors machine learning model that used just one feature, or attribute, of the listing to predict the rent price. We first relied on the `accommodates` column, which describes the number of people a living space can comfortably accommodate. Then, we switched to the `bathrooms` column and observed an improvement in accuracy. While these were good features to become familiar with the basics of machine learning, it's clear that using just a single feature to compare listings doesn't reflect the reality of the market. An apartment that can accommodate 4 guests in a popular part of Washington D.C. will rent for much higher than one that can accommodate 4 guests in a crime ridden area.\n",
    "\n",
    "There are 2 ways we can tweak the model to try to improve the accuracy (decrease the RMSE during validation):\n",
    "\n",
    "- increase the number of attributes the model uses to calculate similarity when ranking the closest neighbors\n",
    "- increase `k`, the number of nearby neighbors the model uses when computing the prediction\n",
    "\n",
    "Now, we'll focus on increasing the number of attributes the model uses. When selecting more attributes to use in the model, we need to watch out for columns that don't work well with the distance equation. This includes columns containing:\n",
    "\n",
    "- non-numerical values (e.g. city or state)\n",
    "    - Euclidean distance equation expects numerical values\n",
    "- missing values\n",
    "    - distance equation expects a value for each observation and attribute\n",
    "- non-ordinal values (e.g. latitude or longitude)\n",
    "    - ranking by Euclidean distance doesn't make sense if all attributes aren't ordinal\n",
    "\n",
    "we've read the `dc_airbnb.csv` dataset from the last lesson into pandas and brought over the data cleaning changes we made. Let's first look at the first row's values to identify any columns containing non-numerical or non-ordinal values. In the next cell, we'll drop those columns and then look for missing values in each of the remaining columns."
   ]
  },
  {
   "cell_type": "code",
   "execution_count": 4,
   "id": "98685473",
   "metadata": {},
   "outputs": [],
   "source": [
    "import numpy as np\n",
    "import pandas as pd\n"
   ]
  },
  {
   "cell_type": "code",
   "execution_count": 5,
   "id": "f6b2c2b7",
   "metadata": {},
   "outputs": [],
   "source": [
    "dc_listings = pd.read_csv('dc_airbnb.csv')"
   ]
  },
  {
   "cell_type": "code",
   "execution_count": 6,
   "id": "a41f6476",
   "metadata": {},
   "outputs": [
    {
     "name": "stdout",
     "output_type": "stream",
     "text": [
      "[ 604 2493  904 ... 1769 1333 3412]\n"
     ]
    }
   ],
   "source": [
    "print(np.random.default_rng(2021).permutation(dc_listings.index.size))"
   ]
  },
  {
   "cell_type": "code",
   "execution_count": 7,
   "id": "8fd055c4",
   "metadata": {},
   "outputs": [],
   "source": [
    "dc_listings = dc_listings.loc[np.random.default_rng(2021).permutation(dc_listings.index.size)]"
   ]
  },
  {
   "cell_type": "code",
   "execution_count": 8,
   "id": "a5f212e8",
   "metadata": {},
   "outputs": [],
   "source": [
    "dc_listings['price'] = dc_listings['price'].str.replace('[\\$,]', '', regex=True).astype('float')"
   ]
  },
  {
   "cell_type": "markdown",
   "id": "14d4bdc6",
   "metadata": {},
   "source": [
    "### Exercise\n",
    "- Use the `DataFrame.info()` method to return the number of non-null values in each column."
   ]
  },
  {
   "cell_type": "code",
   "execution_count": 9,
   "id": "0b006de1",
   "metadata": {},
   "outputs": [
    {
     "name": "stdout",
     "output_type": "stream",
     "text": [
      "<class 'pandas.core.frame.DataFrame'>\n",
      "Int64Index: 3723 entries, 604 to 3412\n",
      "Data columns (total 19 columns):\n",
      " #   Column                Non-Null Count  Dtype  \n",
      "---  ------                --------------  -----  \n",
      " 0   host_response_rate    3289 non-null   object \n",
      " 1   host_acceptance_rate  3109 non-null   object \n",
      " 2   host_listings_count   3723 non-null   int64  \n",
      " 3   accommodates          3723 non-null   int64  \n",
      " 4   room_type             3723 non-null   object \n",
      " 5   bedrooms              3702 non-null   float64\n",
      " 6   bathrooms             3696 non-null   float64\n",
      " 7   beds                  3712 non-null   float64\n",
      " 8   price                 3723 non-null   float64\n",
      " 9   cleaning_fee          2335 non-null   object \n",
      " 10  security_deposit      1426 non-null   object \n",
      " 11  minimum_nights        3723 non-null   int64  \n",
      " 12  maximum_nights        3723 non-null   int64  \n",
      " 13  number_of_reviews     3723 non-null   int64  \n",
      " 14  latitude              3723 non-null   float64\n",
      " 15  longitude             3723 non-null   float64\n",
      " 16  city                  3723 non-null   object \n",
      " 17  zipcode               3714 non-null   object \n",
      " 18  state                 3723 non-null   object \n",
      "dtypes: float64(6), int64(5), object(8)\n",
      "memory usage: 581.7+ KB\n"
     ]
    }
   ],
   "source": [
    "dc_listings.info()"
   ]
  },
  {
   "cell_type": "markdown",
   "id": "2b3b7f99",
   "metadata": {},
   "source": [
    "## 2. Removing features.\n",
    "\n",
    "The following columns contain non-numerical values:\n",
    "\n",
    "- `room_type`: e.g. `Private room`\n",
    "- `city`: e.g. `Washington`\n",
    "- `state`: e.g. `DC`\n",
    "\n",
    "while these columns contain numerical but non-ordinal values:\n",
    "\n",
    "- `latitude`: e.g. 38.913458\n",
    "- `longitude`: e.g. -77.031\n",
    "- `zipcode`: e.g. 20009\n",
    "\n",
    "Geographic values like these aren't ordinal, because a smaller numerical value doesn't directly correspond to a smaller value in a meaningful way. For example, the zip code 20009 isn't smaller or larger than the zip code 75023 and instead both are unique, identifier values. Latitude and longitude value pairs describe a point on a geographic coordinate system and different equations are used in those cases (e.g. haversine).\n",
    "\n",
    "While we could convert the `host_response_rate` and `host_acceptance_rate` columns to be numerical (right now they're object data types and contain the % sign), these columns describe the host and not the living space itself. Since a host could have many living spaces and we don't have enough information to uniquely group living spaces to the hosts themselves, let's avoid using any columns that don't directly describe the living space or the listing itself:\n",
    "\n",
    "- `host_response_rate`\n",
    "- `host_acceptance_rate`\n",
    "- `host_listings_count`\n",
    "\n",
    "Let's remove these 9 columns from the Dataframe.\n",
    "\n",
    "\n",
    "### Exercise\n",
    "\n",
    "- Remove the 9 columns we discussed above from `dc_listings`:\n",
    "    - 3 containing non-numerical values\n",
    "    - 3 containing numerical but non-ordinal values\n",
    "    - 3 describing the host instead of the living space itself"
   ]
  },
  {
   "cell_type": "code",
   "execution_count": 10,
   "id": "d670df37",
   "metadata": {},
   "outputs": [
    {
     "data": {
      "text/plain": [
       "['host_response_rate',\n",
       " 'host_acceptance_rate',\n",
       " 'host_listings_count',\n",
       " 'accommodates',\n",
       " 'room_type',\n",
       " 'bedrooms',\n",
       " 'bathrooms',\n",
       " 'beds',\n",
       " 'price',\n",
       " 'cleaning_fee',\n",
       " 'security_deposit',\n",
       " 'minimum_nights',\n",
       " 'maximum_nights',\n",
       " 'number_of_reviews',\n",
       " 'latitude',\n",
       " 'longitude',\n",
       " 'city',\n",
       " 'zipcode',\n",
       " 'state']"
      ]
     },
     "execution_count": 10,
     "metadata": {},
     "output_type": "execute_result"
    }
   ],
   "source": [
    "dc_listings.columns.values.tolist()"
   ]
  },
  {
   "cell_type": "code",
   "execution_count": 11,
   "id": "3b5910ce",
   "metadata": {},
   "outputs": [],
   "source": [
    "columns_to_remove = [\n",
    "    'host_response_rate',\n",
    "    'host_acceptance_rate',\n",
    "    'host_listings_count',\n",
    "    'room_type',\n",
    "    'latitude',\n",
    "    'longitude',\n",
    "    'city',\n",
    "    'zipcode',\n",
    "    'state',\n",
    "]\n",
    "\n",
    "dc_listings.drop(labels=columns_to_remove, axis='columns', inplace=True)"
   ]
  },
  {
   "cell_type": "code",
   "execution_count": 12,
   "id": "24f9d66d",
   "metadata": {},
   "outputs": [
    {
     "data": {
      "text/plain": [
       "['accommodates',\n",
       " 'bedrooms',\n",
       " 'bathrooms',\n",
       " 'beds',\n",
       " 'price',\n",
       " 'cleaning_fee',\n",
       " 'security_deposit',\n",
       " 'minimum_nights',\n",
       " 'maximum_nights',\n",
       " 'number_of_reviews']"
      ]
     },
     "execution_count": 12,
     "metadata": {},
     "output_type": "execute_result"
    }
   ],
   "source": [
    "dc_listings.columns.values.tolist()"
   ]
  },
  {
   "cell_type": "markdown",
   "id": "c9f93814",
   "metadata": {},
   "source": [
    "## 3. Handling missing values.\n",
    "\n",
    "Of the remaining columns, 3 columns have a few missing values (less than 1% of the total number of rows):\n",
    "\n",
    "- `bedrooms`\n",
    "- `bathrooms`\n",
    "- `beds`\n",
    "\n",
    "Since the number of rows containing missing values for one of these 3 columns is low, we can select and remove those rows without losing much information. There are also 2 columns that have a large number of missing values:\n",
    "\n",
    "- `cleaning_fee` - 37.3% of the rows\n",
    "- `security_deposit` - 61.7% of the rows\n",
    "\n",
    "and we can't handle these easily. We can't just remove the rows containing missing values for these 2 columns because we'd miss out on the majority of the observations in the dataset. Instead, let's remove these 2 columns entirely from consideration.\n",
    "\n",
    "### Exercise\n",
    "\n",
    "- Drop the `cleaning_fee` and `security_deposit` columns from `dc_listings`.\n",
    "- Then, remove all rows that contain a missing value for the `bedrooms`, `bathrooms`, or `beds` column from `dc_listings`.\n",
    "    - You can accomplish this by using the [Dataframe method `dropna()`](https://pandas.pydata.org/pandas-docs/stable/reference/api/pandas.DataFrame.dropna.html) and setting the `axis` parameter to `0`.\n",
    "    - Since only the `bedrooms`, `bathrooms`, and `beds` columns contain any missing values, rows containing missing values in these columns will be removed.\n",
    "- Display the null value counts for the updated `dc_listings` Dataframe to confirm that there are no missing values left."
   ]
  },
  {
   "cell_type": "code",
   "execution_count": 15,
   "id": "65d08201",
   "metadata": {},
   "outputs": [],
   "source": [
    "columns_missing_values = dc_listings.isnull().any()[dc_listings.isnull().any().values].index.values.tolist()"
   ]
  },
  {
   "cell_type": "code",
   "execution_count": 16,
   "id": "0f8906d7",
   "metadata": {},
   "outputs": [
    {
     "data": {
      "text/plain": [
       "bedrooms              21\n",
       "bathrooms             27\n",
       "beds                  11\n",
       "cleaning_fee        1388\n",
       "security_deposit    2297\n",
       "dtype: int64"
      ]
     },
     "execution_count": 16,
     "metadata": {},
     "output_type": "execute_result"
    }
   ],
   "source": [
    "dc_listings[columns_missing_values].isnull().sum()"
   ]
  },
  {
   "cell_type": "code",
   "execution_count": 17,
   "id": "0bccc508",
   "metadata": {},
   "outputs": [
    {
     "name": "stdout",
     "output_type": "stream",
     "text": [
      "3723\n",
      "3723\n",
      "3723\n"
     ]
    }
   ],
   "source": [
    "print(len(dc_listings))\n",
    "print(dc_listings.index.size)\n",
    "print(dc_listings.shape[0])"
   ]
  },
  {
   "cell_type": "code",
   "execution_count": 18,
   "id": "f1d45362",
   "metadata": {},
   "outputs": [
    {
     "data": {
      "text/plain": [
       "beds                 0.295461\n",
       "bedrooms             0.564061\n",
       "bathrooms            0.725222\n",
       "cleaning_fee        37.281762\n",
       "security_deposit    61.697556\n",
       "dtype: float64"
      ]
     },
     "execution_count": 18,
     "metadata": {},
     "output_type": "execute_result"
    }
   ],
   "source": [
    "(dc_listings[columns_missing_values].isnull().sum() / len(dc_listings)).sort_values() * 100"
   ]
  },
  {
   "cell_type": "code",
   "execution_count": 19,
   "id": "911485a8",
   "metadata": {},
   "outputs": [],
   "source": [
    "dc_listings.drop(labels=['cleaning_fee', 'security_deposit'], axis='columns', inplace=True)"
   ]
  },
  {
   "cell_type": "code",
   "execution_count": 20,
   "id": "efa3ded8",
   "metadata": {},
   "outputs": [],
   "source": [
    "dc_listings.dropna(inplace=True)"
   ]
  },
  {
   "cell_type": "code",
   "execution_count": 21,
   "id": "4cac8018",
   "metadata": {},
   "outputs": [
    {
     "data": {
      "text/plain": [
       "3671"
      ]
     },
     "execution_count": 21,
     "metadata": {},
     "output_type": "execute_result"
    }
   ],
   "source": [
    "dc_listings.index.size"
   ]
  },
  {
   "cell_type": "code",
   "execution_count": 22,
   "id": "5f14c832",
   "metadata": {},
   "outputs": [
    {
     "data": {
      "text/plain": [
       "accommodates         False\n",
       "bedrooms             False\n",
       "bathrooms            False\n",
       "beds                 False\n",
       "price                False\n",
       "minimum_nights       False\n",
       "maximum_nights       False\n",
       "number_of_reviews    False\n",
       "dtype: bool"
      ]
     },
     "execution_count": 22,
     "metadata": {},
     "output_type": "execute_result"
    }
   ],
   "source": [
    "dc_listings.isnull().any()"
   ]
  },
  {
   "cell_type": "code",
   "execution_count": 23,
   "id": "cc98e751",
   "metadata": {},
   "outputs": [
    {
     "data": {
      "text/html": [
       "<div>\n",
       "<style scoped>\n",
       "    .dataframe tbody tr th:only-of-type {\n",
       "        vertical-align: middle;\n",
       "    }\n",
       "\n",
       "    .dataframe tbody tr th {\n",
       "        vertical-align: top;\n",
       "    }\n",
       "\n",
       "    .dataframe thead th {\n",
       "        text-align: right;\n",
       "    }\n",
       "</style>\n",
       "<table border=\"1\" class=\"dataframe\">\n",
       "  <thead>\n",
       "    <tr style=\"text-align: right;\">\n",
       "      <th></th>\n",
       "      <th>accommodates</th>\n",
       "      <th>bedrooms</th>\n",
       "      <th>bathrooms</th>\n",
       "      <th>beds</th>\n",
       "      <th>price</th>\n",
       "      <th>minimum_nights</th>\n",
       "      <th>maximum_nights</th>\n",
       "      <th>number_of_reviews</th>\n",
       "    </tr>\n",
       "  </thead>\n",
       "  <tbody>\n",
       "    <tr>\n",
       "      <th>604</th>\n",
       "      <td>4</td>\n",
       "      <td>1.0</td>\n",
       "      <td>1.0</td>\n",
       "      <td>1.0</td>\n",
       "      <td>110.0</td>\n",
       "      <td>2</td>\n",
       "      <td>2</td>\n",
       "      <td>1</td>\n",
       "    </tr>\n",
       "    <tr>\n",
       "      <th>2493</th>\n",
       "      <td>4</td>\n",
       "      <td>2.0</td>\n",
       "      <td>1.0</td>\n",
       "      <td>2.0</td>\n",
       "      <td>160.0</td>\n",
       "      <td>7</td>\n",
       "      <td>365</td>\n",
       "      <td>9</td>\n",
       "    </tr>\n",
       "    <tr>\n",
       "      <th>904</th>\n",
       "      <td>1</td>\n",
       "      <td>0.0</td>\n",
       "      <td>1.0</td>\n",
       "      <td>1.0</td>\n",
       "      <td>95.0</td>\n",
       "      <td>5</td>\n",
       "      <td>1125</td>\n",
       "      <td>0</td>\n",
       "    </tr>\n",
       "    <tr>\n",
       "      <th>1935</th>\n",
       "      <td>2</td>\n",
       "      <td>1.0</td>\n",
       "      <td>1.0</td>\n",
       "      <td>1.0</td>\n",
       "      <td>65.0</td>\n",
       "      <td>3</td>\n",
       "      <td>21</td>\n",
       "      <td>10</td>\n",
       "    </tr>\n",
       "    <tr>\n",
       "      <th>544</th>\n",
       "      <td>4</td>\n",
       "      <td>1.0</td>\n",
       "      <td>1.0</td>\n",
       "      <td>2.0</td>\n",
       "      <td>265.0</td>\n",
       "      <td>1</td>\n",
       "      <td>1125</td>\n",
       "      <td>15</td>\n",
       "    </tr>\n",
       "  </tbody>\n",
       "</table>\n",
       "</div>"
      ],
      "text/plain": [
       "      accommodates  bedrooms  bathrooms  beds  price  minimum_nights  \\\n",
       "604              4       1.0        1.0   1.0  110.0               2   \n",
       "2493             4       2.0        1.0   2.0  160.0               7   \n",
       "904              1       0.0        1.0   1.0   95.0               5   \n",
       "1935             2       1.0        1.0   1.0   65.0               3   \n",
       "544              4       1.0        1.0   2.0  265.0               1   \n",
       "\n",
       "      maximum_nights  number_of_reviews  \n",
       "604                2                  1  \n",
       "2493             365                  9  \n",
       "904             1125                  0  \n",
       "1935              21                 10  \n",
       "544             1125                 15  "
      ]
     },
     "execution_count": 23,
     "metadata": {},
     "output_type": "execute_result"
    }
   ],
   "source": [
    "dc_listings.head()"
   ]
  },
  {
   "cell_type": "code",
   "execution_count": 24,
   "id": "5e8bef79",
   "metadata": {},
   "outputs": [
    {
     "data": {
      "text/html": [
       "<div>\n",
       "<style scoped>\n",
       "    .dataframe tbody tr th:only-of-type {\n",
       "        vertical-align: middle;\n",
       "    }\n",
       "\n",
       "    .dataframe tbody tr th {\n",
       "        vertical-align: top;\n",
       "    }\n",
       "\n",
       "    .dataframe thead th {\n",
       "        text-align: right;\n",
       "    }\n",
       "</style>\n",
       "<table border=\"1\" class=\"dataframe\">\n",
       "  <thead>\n",
       "    <tr style=\"text-align: right;\">\n",
       "      <th></th>\n",
       "      <th>accommodates</th>\n",
       "      <th>bedrooms</th>\n",
       "      <th>bathrooms</th>\n",
       "      <th>beds</th>\n",
       "      <th>price</th>\n",
       "      <th>minimum_nights</th>\n",
       "      <th>maximum_nights</th>\n",
       "      <th>number_of_reviews</th>\n",
       "    </tr>\n",
       "  </thead>\n",
       "  <tbody>\n",
       "    <tr>\n",
       "      <th>count</th>\n",
       "      <td>5.000000</td>\n",
       "      <td>5.000000</td>\n",
       "      <td>5.0</td>\n",
       "      <td>5.000000</td>\n",
       "      <td>5.000000</td>\n",
       "      <td>5.000000</td>\n",
       "      <td>5.000000</td>\n",
       "      <td>5.000000</td>\n",
       "    </tr>\n",
       "    <tr>\n",
       "      <th>mean</th>\n",
       "      <td>3.000000</td>\n",
       "      <td>1.000000</td>\n",
       "      <td>1.0</td>\n",
       "      <td>1.400000</td>\n",
       "      <td>139.000000</td>\n",
       "      <td>3.600000</td>\n",
       "      <td>527.600000</td>\n",
       "      <td>7.000000</td>\n",
       "    </tr>\n",
       "    <tr>\n",
       "      <th>std</th>\n",
       "      <td>1.414214</td>\n",
       "      <td>0.707107</td>\n",
       "      <td>0.0</td>\n",
       "      <td>0.547723</td>\n",
       "      <td>78.374103</td>\n",
       "      <td>2.408319</td>\n",
       "      <td>564.161147</td>\n",
       "      <td>6.363961</td>\n",
       "    </tr>\n",
       "    <tr>\n",
       "      <th>min</th>\n",
       "      <td>1.000000</td>\n",
       "      <td>0.000000</td>\n",
       "      <td>1.0</td>\n",
       "      <td>1.000000</td>\n",
       "      <td>65.000000</td>\n",
       "      <td>1.000000</td>\n",
       "      <td>2.000000</td>\n",
       "      <td>0.000000</td>\n",
       "    </tr>\n",
       "    <tr>\n",
       "      <th>25%</th>\n",
       "      <td>2.000000</td>\n",
       "      <td>1.000000</td>\n",
       "      <td>1.0</td>\n",
       "      <td>1.000000</td>\n",
       "      <td>95.000000</td>\n",
       "      <td>2.000000</td>\n",
       "      <td>21.000000</td>\n",
       "      <td>1.000000</td>\n",
       "    </tr>\n",
       "    <tr>\n",
       "      <th>50%</th>\n",
       "      <td>4.000000</td>\n",
       "      <td>1.000000</td>\n",
       "      <td>1.0</td>\n",
       "      <td>1.000000</td>\n",
       "      <td>110.000000</td>\n",
       "      <td>3.000000</td>\n",
       "      <td>365.000000</td>\n",
       "      <td>9.000000</td>\n",
       "    </tr>\n",
       "    <tr>\n",
       "      <th>75%</th>\n",
       "      <td>4.000000</td>\n",
       "      <td>1.000000</td>\n",
       "      <td>1.0</td>\n",
       "      <td>2.000000</td>\n",
       "      <td>160.000000</td>\n",
       "      <td>5.000000</td>\n",
       "      <td>1125.000000</td>\n",
       "      <td>10.000000</td>\n",
       "    </tr>\n",
       "    <tr>\n",
       "      <th>max</th>\n",
       "      <td>4.000000</td>\n",
       "      <td>2.000000</td>\n",
       "      <td>1.0</td>\n",
       "      <td>2.000000</td>\n",
       "      <td>265.000000</td>\n",
       "      <td>7.000000</td>\n",
       "      <td>1125.000000</td>\n",
       "      <td>15.000000</td>\n",
       "    </tr>\n",
       "  </tbody>\n",
       "</table>\n",
       "</div>"
      ],
      "text/plain": [
       "       accommodates  bedrooms  bathrooms      beds       price  \\\n",
       "count      5.000000  5.000000        5.0  5.000000    5.000000   \n",
       "mean       3.000000  1.000000        1.0  1.400000  139.000000   \n",
       "std        1.414214  0.707107        0.0  0.547723   78.374103   \n",
       "min        1.000000  0.000000        1.0  1.000000   65.000000   \n",
       "25%        2.000000  1.000000        1.0  1.000000   95.000000   \n",
       "50%        4.000000  1.000000        1.0  1.000000  110.000000   \n",
       "75%        4.000000  1.000000        1.0  2.000000  160.000000   \n",
       "max        4.000000  2.000000        1.0  2.000000  265.000000   \n",
       "\n",
       "       minimum_nights  maximum_nights  number_of_reviews  \n",
       "count        5.000000        5.000000           5.000000  \n",
       "mean         3.600000      527.600000           7.000000  \n",
       "std          2.408319      564.161147           6.363961  \n",
       "min          1.000000        2.000000           0.000000  \n",
       "25%          2.000000       21.000000           1.000000  \n",
       "50%          3.000000      365.000000           9.000000  \n",
       "75%          5.000000     1125.000000          10.000000  \n",
       "max          7.000000     1125.000000          15.000000  "
      ]
     },
     "execution_count": 24,
     "metadata": {},
     "output_type": "execute_result"
    }
   ],
   "source": [
    "dc_listings.head().describe()"
   ]
  },
  {
   "cell_type": "markdown",
   "id": "e40b23ba",
   "metadata": {},
   "source": [
    "## 4. Normalize columns.\n",
    "\n",
    "Here's how the `dc_listings`  Dataframe looks after all the changes we made:\n",
    "\n",
    "| accommodates | bedrooms | bathrooms | beds | price | minimum_nights | maximum_nights | number_of_reviews |\n",
    "|--------------|----------|-----------|------|-------|----------------|----------------|-------------------|\n",
    "| 2            | 1        | 1         | 1    | 90    | 3              | 10             | 7                 |\n",
    "| 9            | 3        | 2         | 3    | 225   | 3              | 1125           | 2                 |\n",
    "| 3            | 1        | 1         | 2    | 95    | 2              | 700            | 14                |\n",
    "| 2            | 1        | 1         | 1    | 79    | 1              | 90             | 20                |\n",
    "| 2            | 1        | 1         | 1    | 45    | 2              | 1125           | 1                 |\n",
    "\n",
    "You may have noticed that while the `accommodates`, `bedrooms`, `bathrooms`, `beds`, and `minimum_nights` columns hover between 0 and 12 (at least in the first few rows), the values in the `maximum_nights` and number_of_reviews columns span much larger ranges. For example, the maximum_nights column has values as low as 10 and as high as 1125, in the first few rows itself. If we use these 2 columns as part of a k-nearest neighbors model, these attributes could end up having an outsized effect on the distance calculations, because of the largeness of the values.\n",
    "\n",
    "For example, 2 living spaces could be identical across every attribute but be vastly different just on the maximum_nights column. If one listing had a maximum_nights value of 1825 and the other a maximum_nights value of 4, because of the way Euclidean distance is calculated, these listings would be considered very far apart because of the outsized effect the largeness of the values had on the overall Euclidean distance. To prevent any single column from having too much of an impact on the distance, we can normalize all of the columns to have a mean of 0 and a standard deviation of 1.\n",
    "\n",
    "Normalizing the values in each column to the [standard normal distribution](https://en.wikipedia.org/wiki/Normal_distribution#Standard_normal_distribution) (mean of 0, standard deviation of 1) preserves the distribution of the values in each column while aligning the scales. To normalize the values in a column to the standard normal distribution, you need to:\n",
    "\n",
    "- from each value, subtract the mean of the column\n",
    "- divide each value by the standard deviation of the column\n",
    "\n",
    "Here's the mathematical formula describing the transformation that needs to be applied for all values in a column:\n",
    "\n",
    "$$z = \\frac{x- \\mu}{\\sigma}$$\n",
    "\n",
    "where $x$ is a value in a specific column, $\\mu$ is the mean of all the values in the column, and $\\sigma$ is the standard deviation of all the values in the column. Here's what the corresponding code, using pandas, looks like:"
   ]
  },
  {
   "cell_type": "code",
   "execution_count": 25,
   "id": "9e55f580",
   "metadata": {},
   "outputs": [],
   "source": [
    "# Subtract each value in the column by the mean.\n",
    "first_transform = dc_listings['maximum_nights'] - dc_listings['maximum_nights'].mean()\n",
    "# Divide each value in the column by the standard deviation.\n",
    "normalized_col = first_transform / first_transform.std()"
   ]
  },
  {
   "cell_type": "markdown",
   "id": "a573cdab",
   "metadata": {},
   "source": [
    "It should be noted that you can also do the following:"
   ]
  },
  {
   "cell_type": "code",
   "execution_count": 26,
   "id": "0fbac54d",
   "metadata": {},
   "outputs": [],
   "source": [
    "normalized_col = first_transform / dc_listings['maximum_nights'].std()"
   ]
  },
  {
   "cell_type": "markdown",
   "id": "0ea05c9b",
   "metadata": {},
   "source": [
    "and get the same answer as above.\n",
    "\n",
    "This is because `first_transform` is merely shifting the mean of the distribution and has no effect on the shape or scaling of the distribution. In other words, the variance of `dc_listings` is the same as the variance of first_transform.\n",
    "\n",
    "To apply this transformation across all of the columns in a Dataframe, you can use the corresponding Dataframe methods `mean()` and `std()`:\n",
    "\n",
    "```python\n",
    "normalized_listings = (dc_listings - dc_listings.mean()) / (dc_listings.std())\n",
    "```\n",
    "\n",
    "\n",
    "Copy\n",
    "These methods were written with mass column transformation in mind and when you call mean() or std(), the appropriate column means and column standard deviations are used for each value in the Dataframe. Let's now normalize all of the feature columns in dc_listings."
   ]
  },
  {
   "cell_type": "markdown",
   "id": "2307aefe",
   "metadata": {},
   "source": [
    "### Exercise\n",
    "\n",
    "- Normalize all of the feature columns in `dc_listings` and assign the new Dataframe containing just the normalized feature columns to `normalized_listings`.\n",
    "\n",
    "- Add the `price` column from `dc_listings` to `normalized_listings`.\n",
    "- Display the first 3 rows in `normalized_listings`."
   ]
  },
  {
   "cell_type": "code",
   "execution_count": 27,
   "id": "0aa4e044",
   "metadata": {},
   "outputs": [
    {
     "data": {
      "text/html": [
       "<div>\n",
       "<style scoped>\n",
       "    .dataframe tbody tr th:only-of-type {\n",
       "        vertical-align: middle;\n",
       "    }\n",
       "\n",
       "    .dataframe tbody tr th {\n",
       "        vertical-align: top;\n",
       "    }\n",
       "\n",
       "    .dataframe thead th {\n",
       "        text-align: right;\n",
       "    }\n",
       "</style>\n",
       "<table border=\"1\" class=\"dataframe\">\n",
       "  <thead>\n",
       "    <tr style=\"text-align: right;\">\n",
       "      <th></th>\n",
       "      <th>accommodates</th>\n",
       "      <th>bedrooms</th>\n",
       "      <th>bathrooms</th>\n",
       "      <th>beds</th>\n",
       "      <th>price</th>\n",
       "      <th>minimum_nights</th>\n",
       "      <th>maximum_nights</th>\n",
       "      <th>number_of_reviews</th>\n",
       "    </tr>\n",
       "  </thead>\n",
       "  <tbody>\n",
       "    <tr>\n",
       "      <th>604</th>\n",
       "      <td>0.401366</td>\n",
       "      <td>-0.249467</td>\n",
       "      <td>-0.439151</td>\n",
       "      <td>-0.546858</td>\n",
       "      <td>-0.282396</td>\n",
       "      <td>-0.065038</td>\n",
       "      <td>-0.016604</td>\n",
       "      <td>-0.482505</td>\n",
       "    </tr>\n",
       "    <tr>\n",
       "      <th>2493</th>\n",
       "      <td>0.401366</td>\n",
       "      <td>0.939875</td>\n",
       "      <td>-0.439151</td>\n",
       "      <td>0.297345</td>\n",
       "      <td>0.081108</td>\n",
       "      <td>1.316644</td>\n",
       "      <td>-0.016594</td>\n",
       "      <td>-0.208875</td>\n",
       "    </tr>\n",
       "    <tr>\n",
       "      <th>904</th>\n",
       "      <td>-1.095499</td>\n",
       "      <td>-1.438810</td>\n",
       "      <td>-0.439151</td>\n",
       "      <td>-0.546858</td>\n",
       "      <td>-0.391448</td>\n",
       "      <td>0.763971</td>\n",
       "      <td>-0.016573</td>\n",
       "      <td>-0.516709</td>\n",
       "    </tr>\n",
       "    <tr>\n",
       "      <th>1935</th>\n",
       "      <td>-0.596544</td>\n",
       "      <td>-0.249467</td>\n",
       "      <td>-0.439151</td>\n",
       "      <td>-0.546858</td>\n",
       "      <td>-0.609550</td>\n",
       "      <td>0.211298</td>\n",
       "      <td>-0.016604</td>\n",
       "      <td>-0.174671</td>\n",
       "    </tr>\n",
       "    <tr>\n",
       "      <th>544</th>\n",
       "      <td>0.401366</td>\n",
       "      <td>-0.249467</td>\n",
       "      <td>-0.439151</td>\n",
       "      <td>0.297345</td>\n",
       "      <td>0.844466</td>\n",
       "      <td>-0.341375</td>\n",
       "      <td>-0.016573</td>\n",
       "      <td>-0.003652</td>\n",
       "    </tr>\n",
       "  </tbody>\n",
       "</table>\n",
       "</div>"
      ],
      "text/plain": [
       "      accommodates  bedrooms  bathrooms      beds     price  minimum_nights  \\\n",
       "604       0.401366 -0.249467  -0.439151 -0.546858 -0.282396       -0.065038   \n",
       "2493      0.401366  0.939875  -0.439151  0.297345  0.081108        1.316644   \n",
       "904      -1.095499 -1.438810  -0.439151 -0.546858 -0.391448        0.763971   \n",
       "1935     -0.596544 -0.249467  -0.439151 -0.546858 -0.609550        0.211298   \n",
       "544       0.401366 -0.249467  -0.439151  0.297345  0.844466       -0.341375   \n",
       "\n",
       "      maximum_nights  number_of_reviews  \n",
       "604        -0.016604          -0.482505  \n",
       "2493       -0.016594          -0.208875  \n",
       "904        -0.016573          -0.516709  \n",
       "1935       -0.016604          -0.174671  \n",
       "544        -0.016573          -0.003652  "
      ]
     },
     "execution_count": 27,
     "metadata": {},
     "output_type": "execute_result"
    }
   ],
   "source": [
    "normalized_listings = (dc_listings - dc_listings.mean()) / dc_listings.std()\n",
    "normalized_listings.head()"
   ]
  },
  {
   "cell_type": "code",
   "execution_count": 28,
   "id": "1eb072f4",
   "metadata": {},
   "outputs": [
    {
     "data": {
      "text/html": [
       "<div>\n",
       "<style scoped>\n",
       "    .dataframe tbody tr th:only-of-type {\n",
       "        vertical-align: middle;\n",
       "    }\n",
       "\n",
       "    .dataframe tbody tr th {\n",
       "        vertical-align: top;\n",
       "    }\n",
       "\n",
       "    .dataframe thead th {\n",
       "        text-align: right;\n",
       "    }\n",
       "</style>\n",
       "<table border=\"1\" class=\"dataframe\">\n",
       "  <thead>\n",
       "    <tr style=\"text-align: right;\">\n",
       "      <th></th>\n",
       "      <th>accommodates</th>\n",
       "      <th>bedrooms</th>\n",
       "      <th>bathrooms</th>\n",
       "      <th>beds</th>\n",
       "      <th>price</th>\n",
       "      <th>minimum_nights</th>\n",
       "      <th>maximum_nights</th>\n",
       "      <th>number_of_reviews</th>\n",
       "    </tr>\n",
       "  </thead>\n",
       "  <tbody>\n",
       "    <tr>\n",
       "      <th>604</th>\n",
       "      <td>0.401366</td>\n",
       "      <td>-0.249467</td>\n",
       "      <td>-0.439151</td>\n",
       "      <td>-0.546858</td>\n",
       "      <td>110.0</td>\n",
       "      <td>-0.065038</td>\n",
       "      <td>-0.016604</td>\n",
       "      <td>-0.482505</td>\n",
       "    </tr>\n",
       "    <tr>\n",
       "      <th>2493</th>\n",
       "      <td>0.401366</td>\n",
       "      <td>0.939875</td>\n",
       "      <td>-0.439151</td>\n",
       "      <td>0.297345</td>\n",
       "      <td>160.0</td>\n",
       "      <td>1.316644</td>\n",
       "      <td>-0.016594</td>\n",
       "      <td>-0.208875</td>\n",
       "    </tr>\n",
       "    <tr>\n",
       "      <th>904</th>\n",
       "      <td>-1.095499</td>\n",
       "      <td>-1.438810</td>\n",
       "      <td>-0.439151</td>\n",
       "      <td>-0.546858</td>\n",
       "      <td>95.0</td>\n",
       "      <td>0.763971</td>\n",
       "      <td>-0.016573</td>\n",
       "      <td>-0.516709</td>\n",
       "    </tr>\n",
       "  </tbody>\n",
       "</table>\n",
       "</div>"
      ],
      "text/plain": [
       "      accommodates  bedrooms  bathrooms      beds  price  minimum_nights  \\\n",
       "604       0.401366 -0.249467  -0.439151 -0.546858  110.0       -0.065038   \n",
       "2493      0.401366  0.939875  -0.439151  0.297345  160.0        1.316644   \n",
       "904      -1.095499 -1.438810  -0.439151 -0.546858   95.0        0.763971   \n",
       "\n",
       "      maximum_nights  number_of_reviews  \n",
       "604        -0.016604          -0.482505  \n",
       "2493       -0.016594          -0.208875  \n",
       "904        -0.016573          -0.516709  "
      ]
     },
     "execution_count": 28,
     "metadata": {},
     "output_type": "execute_result"
    }
   ],
   "source": [
    "normalized_listings['price'] = dc_listings['price']\n",
    "normalized_listings.head(3)"
   ]
  },
  {
   "cell_type": "markdown",
   "id": "319a7fa5",
   "metadata": {},
   "source": [
    "## 5. Euclidean distance for multivariate case.\n",
    "\n",
    "In the last lesson, we trained 2 univariate k-nearest neighbors models. The first one used the accommodates attribute while the second one used the bathrooms attribute. Let's now train a model that uses both attributes when determining how similar 2 living spaces are. Let's refer to the Euclidean distance equation again to see what the distance calculation using 2 attributes would look like:\n",
    "\n",
    "$$$$\n",
    "\n",
    "Since we're using 2 attributes, the distance calculation would look like:\n",
    "\n",
    "$$$$\n",
    "\n",
    "To find the distance between 2 living spaces, we need to calculate the squared difference between both accommodates values, the squared difference between both bathrooms values, add them together, and then take the square root of the resulting sum. Here's what the Euclidean distance between the first 2 rows in normalized_listings looks like:\n",
    "\n",
    "<img src=\"figs/distance_two_features.png\" width=\"600\" heigth=\"400\"/>\n",
    "\n",
    "So far, we've been calculating Euclidean distance ourselves by writing the logic for the equation ourselves. We can instead use the [distance.euclidean() function](https://docs.scipy.org/doc/scipy/reference/generated/scipy.spatial.distance.euclidean.html) from `scipy.spatial`, which takes in 2 vectors as the parameters and calculates the Euclidean distance between them. The `euclidean()` function expects:\n",
    "\n",
    "- both of the vectors to be represented using a **list-like** object (Python list, NumPy array, or pandas Series)\n",
    "- both of the vectors must be 1-dimensional and have the same number of elements\n",
    "\n",
    "Here's a simple example:"
   ]
  },
  {
   "cell_type": "code",
   "execution_count": 29,
   "id": "0bcd111c",
   "metadata": {},
   "outputs": [
    {
     "name": "stdout",
     "output_type": "stream",
     "text": [
      "0.852074\n"
     ]
    }
   ],
   "source": [
    "from scipy.spatial import distance\n",
    "\n",
    "first_listing = [-0.596544, -0.439151]\n",
    "second_listing = [-0.596544, 0.412923]\n",
    "dist = distance.euclidean(first_listing, second_listing)\n",
    "\n",
    "print(dist)"
   ]
  },
  {
   "cell_type": "markdown",
   "id": "8c1d4430",
   "metadata": {},
   "source": [
    "Let's use the `euclidean()` function to calculate the Euclidean distance between 2 rows in our dataset to practice."
   ]
  },
  {
   "cell_type": "markdown",
   "id": "dcea9cf9",
   "metadata": {},
   "source": [
    "### Exercise\n",
    "\n",
    "- Calculate the Euclidean distance using only the `accommodates` and `bathrooms` features between the first row and fifth row in `normalized_listings` using the `distance.euclidean()` function.\n",
    "\n",
    "- Assign the distance value to `first_fifth_distance` and display using the `print` function."
   ]
  },
  {
   "cell_type": "code",
   "execution_count": 30,
   "id": "e60a3e89",
   "metadata": {},
   "outputs": [
    {
     "data": {
      "text/html": [
       "<div>\n",
       "<style scoped>\n",
       "    .dataframe tbody tr th:only-of-type {\n",
       "        vertical-align: middle;\n",
       "    }\n",
       "\n",
       "    .dataframe tbody tr th {\n",
       "        vertical-align: top;\n",
       "    }\n",
       "\n",
       "    .dataframe thead th {\n",
       "        text-align: right;\n",
       "    }\n",
       "</style>\n",
       "<table border=\"1\" class=\"dataframe\">\n",
       "  <thead>\n",
       "    <tr style=\"text-align: right;\">\n",
       "      <th></th>\n",
       "      <th>accommodates</th>\n",
       "      <th>bathrooms</th>\n",
       "    </tr>\n",
       "  </thead>\n",
       "  <tbody>\n",
       "    <tr>\n",
       "      <th>604</th>\n",
       "      <td>0.401366</td>\n",
       "      <td>-0.439151</td>\n",
       "    </tr>\n",
       "    <tr>\n",
       "      <th>2493</th>\n",
       "      <td>0.401366</td>\n",
       "      <td>-0.439151</td>\n",
       "    </tr>\n",
       "    <tr>\n",
       "      <th>904</th>\n",
       "      <td>-1.095499</td>\n",
       "      <td>-0.439151</td>\n",
       "    </tr>\n",
       "    <tr>\n",
       "      <th>1935</th>\n",
       "      <td>-0.596544</td>\n",
       "      <td>-0.439151</td>\n",
       "    </tr>\n",
       "    <tr>\n",
       "      <th>544</th>\n",
       "      <td>0.401366</td>\n",
       "      <td>-0.439151</td>\n",
       "    </tr>\n",
       "  </tbody>\n",
       "</table>\n",
       "</div>"
      ],
      "text/plain": [
       "      accommodates  bathrooms\n",
       "604       0.401366  -0.439151\n",
       "2493      0.401366  -0.439151\n",
       "904      -1.095499  -0.439151\n",
       "1935     -0.596544  -0.439151\n",
       "544       0.401366  -0.439151"
      ]
     },
     "execution_count": 30,
     "metadata": {},
     "output_type": "execute_result"
    }
   ],
   "source": [
    "normalized_listings[['accommodates', 'bathrooms']].head()"
   ]
  },
  {
   "cell_type": "code",
   "execution_count": 31,
   "id": "ec86764f",
   "metadata": {},
   "outputs": [
    {
     "name": "stdout",
     "output_type": "stream",
     "text": [
      "0.0\n"
     ]
    }
   ],
   "source": [
    "first_fifth_distance = distance.euclidean(normalized_listings.iloc[0][['accommodates', 'bathrooms']], normalized_listings.iloc[4][['accommodates', 'bathrooms']])\n",
    "print(first_fifth_distance)"
   ]
  },
  {
   "cell_type": "markdown",
   "id": "a81d26d7",
   "metadata": {},
   "source": [
    "## 6. Introduction to scikit-learn.\n",
    "\n",
    "So far, we've been writing functions from scratch to train the k-nearest neighbor models. While this is helpful deliberate practice to understand how the mechanics work, you can be more productive and iterate quicker by using a library that handles most of the implementation. We'll learn about the [scikit-learn library](https://scikit-learn.org/stable/), which is the most popular machine learning library in Python. Scikit-learn contains functions for all of the major machine learning algorithms and a simple, unified workflow. Both of these properties allow data scientists to be incredibly productive when training and testing different models on a new dataset.\n",
    "\n",
    "The scikit-learn workflow consists of 4 main steps:\n",
    "\n",
    "- instantiate the specific machine learning model you want to use\n",
    "- fit the model to the training data\n",
    "- use the model to make predictions\n",
    "- evaluate the accuracy of the predictions\n",
    "\n",
    "\n",
    "We'll focus on the first 3 steps in this cell and the next cell. Each model in scikit-learn is implemented as a [separate class](https://scikit-learn.org/stable/modules/classes.html) and the first step is to identify the class we want to create an instance of. In our case, we want to use the [KNeighborsRegressor class](https://scikit-learn.org/stable/modules/generated/sklearn.neighbors.KNeighborsRegressor.html#sklearn.neighbors.KNeighborsRegressor).\n",
    "\n",
    "Any model that helps us predict numerical values, like listing price in our case, is known as a `regression` model. The other main class of machine learning models is called `classification`, where we're trying to predict a label from a fixed set of labels (e.g. blood type or gender). The word **regressor** from the class name `KNeighborsRegressor` refers to the regression model class that we just discussed.\n",
    "\n",
    "Scikit-learn uses a similar object-oriented style to Matplotlib and you need to instantiate an empty model first by calling the constructor:\n",
    "\n",
    "```python\n",
    "from sklearn.neighbors import KNeighborsRegressor\n",
    "knn = KNeighborsRegressor()\n",
    "```\n",
    "\n",
    "If you refer to the [documentation](https://scikit-learn.org/stable/modules/generated/sklearn.neighbors.KNeighborsRegressor.html#sklearn.neighbors.KNeighborsRegressor), you'll notice that by default:\n",
    "\n",
    "- `n_neighbors`: the number of neighbors, is set to `5`\n",
    "- `algorithm`: for computing nearest neighbors, is set to `auto`\n",
    "- `p`: set to 2, corresponding to Euclidean distance\n",
    "\n",
    "Let's set the `algorithm` parameter to `brute` and leave the `n_neighbors` value as `5`, which matches the implementation we wrote in the last lesson. If we leave the `algorithm` parameter set to the default value of `auto`, scikit-learn will try to use tree-based optimizations to improve performance (which are outside of the scope of this lesson):\n",
    "\n",
    "```python\n",
    "knn = KNeighborsRegressor(algorithm='brute')\n",
    "```\n"
   ]
  },
  {
   "cell_type": "markdown",
   "id": "861fd2e2",
   "metadata": {},
   "source": [
    "## 7. Fitting a model and making predictions.\n",
    "\n",
    "Now, we can fit the model to the data using the fit method. For all models, the fit method takes in 2 required parameters:\n",
    "\n",
    "matrix-like object, containing the feature columns we want to use from the training set.\n",
    "list-like object, containing correct target values.\n",
    "Matrix-like object means that the method is flexible in the input and either a Dataframe or a NumPy 2D array of values is accepted. This means you can select the columns you want to use from the Dataframe and use that as the first parameter to the fit method.\n",
    "\n",
    "If you recall from earlier in the lesson, all of the following are acceptable list-like objects:\n",
    "\n",
    "- NumPy array\n",
    "- Python list\n",
    "- pandas Series object (e.g. when selecting a column)\n",
    "\n",
    "You can select the target column from the Dataframe and use that as the second parameter to the fit method:\n",
    "\n",
    "\n",
    "```python\n",
    "# Split full dataset into train and test sets.\n",
    "train_df = normalized_listings.iloc[0:2792]\n",
    "test_df = normalized_listings.iloc[2792:]\n",
    "\n",
    "# Matrix-like object, containing just the 2 columns of interest from training set.\n",
    "train_features = train_df[['accommodates', 'bathrooms']]\n",
    "\n",
    "# List-like object, containing just the target column, `price`.\n",
    "train_target = train_df['price']\n",
    "\n",
    "# Pass everything into the fit method.\n",
    "knn.fit(train_features, train_target)\n",
    "```\n",
    "\n",
    "\n",
    "When the `fit()` method is called, scikit-learn stores the training data we specified within the KNearestNeighbors instance `(knn)`. If you try passing in data containing missing values or non-numerical values into the `fit` method, scikit-learn will return an error. Scikit-learn contains many such features that help prevent us from making common mistakes.\n",
    "\n",
    "Now that we specified the training data we want used to make predictions, we can use the [predict method](https://scikit-learn.org/stable/modules/generated/sklearn.neighbors.KNeighborsRegressor.html#sklearn.neighbors.KNeighborsRegressor.predict) to make predictions on the test set. The predict method has only one required parameter:\n",
    "\n",
    "- matrix-like object, containing the feature columns from the dataset we want to make predictions on\n",
    "\n",
    "The number of feature columns you use during both training and testing need to match or scikit-learn will return an error:\n",
    "\n",
    "```python\n",
    "predictions = knn.predict(test_df[['accommodates', 'bathrooms']])\n",
    "```\n",
    "\n",
    "The `predict()` method returns a NumPy array containing the predicted price values for the test set. You now have everything you need to practice the entire scikit-learn workflow.\n",
    "\n",
    "### Exercise\n",
    "\n",
    "- Create an instance of the [KNeighborsRegressor](https://scikit-learn.org/stable/modules/generated/sklearn.neighbors.KNeighborsRegressor.html#sklearn.neighbors.KNeighborsRegressor) class with the following parameters:\n",
    "    - `n_neighbors`: `5`\n",
    "    - `algorithm`: brute\n",
    "- Use the `fit` method to specify the data we want the k-nearest neighbor model to use. Use the following parameters:\n",
    "    - training data, feature columns: just the `accommodates` and `bathrooms` columns, in that order, from train_df.\n",
    "    - training data, target column: the `price` column from `train_df`.\n",
    "- Call the `predict` method to make predictions on:\n",
    "    - the `accommodates` and `bathrooms` columns from `test_df`\n",
    "    - assign the resulting NumPy array of predicted price values to `predictions`."
   ]
  },
  {
   "cell_type": "code",
   "execution_count": 102,
   "id": "6c9a9fdd",
   "metadata": {},
   "outputs": [],
   "source": [
    "from sklearn.neighbors import KNeighborsRegressor"
   ]
  },
  {
   "cell_type": "code",
   "execution_count": 101,
   "id": "af6052c8",
   "metadata": {},
   "outputs": [],
   "source": [
    "train_df = normalized_listings.iloc[0:2792]\n",
    "test_df = normalized_listings.iloc[2792:]"
   ]
  },
  {
   "cell_type": "code",
   "execution_count": 103,
   "id": "e2a6ede3",
   "metadata": {},
   "outputs": [],
   "source": [
    "kneighreg = KNeighborsRegressor(n_neighbors=5, algorithm='brute')"
   ]
  },
  {
   "cell_type": "code",
   "execution_count": 104,
   "id": "7067ccbe",
   "metadata": {},
   "outputs": [
    {
     "data": {
      "text/plain": [
       "KNeighborsRegressor(algorithm='brute')"
      ]
     },
     "execution_count": 104,
     "metadata": {},
     "output_type": "execute_result"
    }
   ],
   "source": [
    "kneighreg.fit(train_df[['accommodates', 'bathrooms']], train_df['price'])"
   ]
  },
  {
   "cell_type": "code",
   "execution_count": 105,
   "id": "8847d68a",
   "metadata": {},
   "outputs": [
    {
     "name": "stdout",
     "output_type": "stream",
     "text": [
      "[446.4 133.6 133.6 130.  299.   99.4  99.4  99.4 133.6  99.4 299.   99.4\n",
      "  78.8 130.  266.6 266.6  99.4 200.2 130.   99.4  64.4  99.4  99.4 130.\n",
      "  99.4 372.4  99.4  99.4 133.6  99.4  99.4 315.6  99.4 130.   99.4  99.4\n",
      " 130.  145.8 130.   99.4  99.4 299.  609.8  78.8 299.  130.  266.6 299.\n",
      " 270.4  99.4  99.4 299.  130.   99.4 152.4  99.4  99.4 138.6 102.6 130.\n",
      "  78.8 299.  128.6  99.4  99.4 299.  266.6 261.2  99.4  99.4 266.6 226.4\n",
      " 138.6 130.  130.   99.4 133.6 130.  130.   99.4 164.8  99.4 299.  260.2\n",
      " 266.6 299.   99.4 133.6  99.4 130.   99.4  99.4  99.4 200.2 138.6 320.\n",
      " 130.   99.4 372.4 200.2 130.  130.  130.  102.6 102.6  99.4 130.  299.\n",
      " 145.8 179.  133.6 270.4 200.2  77.   77.  130.   99.4 270.4  99.4 938.8\n",
      " 200.2 133.6 130.  299.  130.   99.4 299.  130.  265.8 315.6 133.6  99.4\n",
      "  99.4  99.4  99.4  78.8 133.6 130.  102.6 372.4 138.6 133.6  99.4 133.6\n",
      "  99.4 114.   99.4 130.   99.4 200.2  99.4 270.4  99.4 145.8 226.4 102.6\n",
      " 270.4  99.4 145.8 133.6 133.6 130.   67.8 133.6  99.4 130.   99.4 145.8\n",
      " 145.8 299.   99.4  99.4 133.6 130.   99.4 440.  219.  130.   99.4  99.4\n",
      " 102.6 201.6  99.4 130.  130.  226.4  99.4 130.  267.8 260.2  99.4  99.4\n",
      "  99.4 130.   99.4 372.4  99.4 270.4  99.4  99.4 219.   99.4  99.4 267.8\n",
      " 200.2  99.4 130.  145.8  99.4 299.  102.6 133.6  78.8  99.4 133.6 133.6\n",
      "  99.4  99.4 102.6 133.6 133.6 101.4  99.4  99.4 133.6 101.4 372.4 299.\n",
      " 133.6  99.4 130.  200.2  99.4 130.   99.4 266.6  99.4 102.6 265.8 138.6\n",
      " 133.6 440.8 164.8 130.   99.4  99.4  99.4  77.  145.8  78.8  99.4  99.4\n",
      "  99.4 130.   99.4  99.4 219.  133.6 315.6 495.   99.4  99.4 145.8  99.4\n",
      " 299.   99.4  99.4  99.4 133.6 299.  294.8  99.4 133.6 133.6 130.   99.4\n",
      " 200.2  99.4 130.  133.6 164.8  99.4  99.4  99.4 133.6 299.   99.4 102.6\n",
      "  99.4  78.8  99.4 299.  299.   99.4  77.  130.   99.4  99.4 133.6 266.6\n",
      " 130.   78.8  99.4 133.6  99.4 200.2  99.4 130.  133.6 349.6 299.  266.6\n",
      "  99.4 299.  133.6 270.4 130.   99.4  99.4  99.4  78.8 266.6 133.6  99.4\n",
      "  99.4 145.8 440.8  99.4  57.4 133.6  99.4 299.  133.6 266.6  76.6 130.\n",
      " 270.4 299.  133.6  99.4  99.4  76.6 260.2  99.4  58.6 270.4  99.4 219.\n",
      " 102.6  99.4  99.4 133.6  99.4  99.4 200.2 299.  138.6 130.   99.4  99.4\n",
      "  99.4 266.6  99.4  99.4  99.4  99.4  99.4  99.4 133.6 266.6  99.4 145.8\n",
      "  77.  145.8 440.8 133.6 130.   99.4 130.  145.8 130.   99.4 200.2  99.4\n",
      "  99.4 270.4 299.   99.4  99.4  99.4 130.  299.   99.4 130.  114.  130.\n",
      " 145.8 133.6 266.6 372.4  99.4 133.6  99.4 130.  130.   99.4  99.4 327.8\n",
      "  99.4 133.6 130.   99.4 133.6 294.8  99.4  99.4 130.   99.4 280.  102.6\n",
      " 133.6 219.   99.4 133.6  99.4  99.4 133.6  99.4 128.6  99.4 130.  152.4\n",
      " 102.6  99.4  99.4 299.  133.6 299.   99.4 130.   99.4  99.4  99.4 128.6\n",
      "  99.4 133.6  99.4  99.4  99.4  99.4 226.4  99.4 133.6 130.   99.4 299.\n",
      "  99.4 315.6  99.4  99.4 130.  130.  133.6 130.   99.4 130.  504.8 299.\n",
      "  90.  315.6 130.  266.6  99.4 130.  133.6  91.  266.6  99.4 270.4  99.4\n",
      " 133.6 130.  130.   99.4  99.4  99.4 133.6  99.4 133.6  99.4 133.6  99.4\n",
      "  99.4  99.4 130.  133.6 130.  102.6 128.6  99.4  99.4 133.6 130.   99.4\n",
      "  99.4 130.  133.6 266.6  99.4 130.  294.8 102.6  99.4  99.4  99.4 266.6\n",
      " 130.   99.4  99.4 130.   99.4 130.  133.6 609.8  77.   99.4 133.6 114.\n",
      " 372.4 101.4  99.4 316.6 102.6  99.4 102.6 130.  133.6  99.4 133.6 130.\n",
      " 206.4  77.  133.6 130.  299.  130.  133.6  99.4  99.4  99.4  99.4  99.4\n",
      " 315.6 145.8 200.2  99.4 200.2 267.8 114.  299.   99.4 133.6 372.4 138.6\n",
      " 315.6  99.4 102.6  99.4 133.6 266.6 145.8 200.2  99.4  99.4  99.4 200.2\n",
      " 315.6 133.6 130.  440.8  99.4  99.4 270.4  99.4  64.4 372.4  99.4 145.8\n",
      "  99.4  99.4  78.8 130.  299.  102.6 130.  130.   99.4 133.6 299.  454.6\n",
      "  99.4  99.4 219.  138.6  99.4 299.  130.  299.  133.6  99.4  99.4  99.4\n",
      " 152.4  99.4  99.4  99.4 299.  130.  138.6 130.  219.   99.4  99.4 133.6\n",
      " 187.8 266.6 130.  226.4 133.6  99.4 130.   99.4 128.6  64.4  78.8  78.8\n",
      "  99.4 349.6 102.6 130.  133.6 145.8  99.4  99.4  99.4  99.4 133.6 102.6\n",
      "  99.4  99.4  99.4  99.4 130.  130.   99.4 130.   99.4 299.   99.4  99.4\n",
      " 130.   99.4  99.4 133.6 200.2 101.4 102.6  99.4  99.4  99.4 130.  102.6\n",
      " 189.6  99.4 219.  299.  200.2 138.6 138.6 133.6  64.4 130.  102.6  99.4\n",
      "  99.4 101.4 133.6 133.6  99.4  99.4 102.6  99.4  99.4  99.4 130.   99.4\n",
      "  99.4  99.4  99.4 102.6  99.4  99.4 101.4  99.4 138.6 130.  145.8  99.4\n",
      "  99.4 114.   99.4  99.4  99.4 130.  133.6  99.4  99.4  99.4  99.4 130.\n",
      "  99.4 299.  130.   99.4 267.8 133.6 133.6  99.4  99.4 130.  133.6 130.\n",
      "  99.4 299.  130.  133.6  78.8  99.4 299.   65.  128.6 299.   99.4 133.6\n",
      " 130.   77.   99.4  99.4 133.6 145.8 299.   99.4 130.   99.4 130.   99.4\n",
      " 145.8  99.4 299.  152.4  99.4 128.6 219.   99.4 299.   99.4  99.4 130.\n",
      " 130.   99.4 266.6 130.  133.6 102.6 226.4 102.6  99.4 414.  133.6  99.4\n",
      " 270.4  99.4  99.4 133.6 130.   99.4  99.4  99.4  99.4 130.   77.  101.4\n",
      "  99.4  99.4  99.4 462.8 200.2  99.4 130.  145.8 289.8  99.4  99.4  99.4\n",
      "  99.4 130.  133.6 102.6 133.6  99.4 315.6 200.2  99.4 102.6 130.  133.6\n",
      " 299.  387.4 102.6 152.4 299.  270.4 145.8  99.4 266.6 102.6 130.  286.4\n",
      "  99.4 294.8 200.2 280.  130.  263.6 200.2 102.6 133.6  99.4 299.   99.4\n",
      " 130.  219.  130.  299.  299.  270.4 145.8  99.4 133.6  99.4 130.   99.4\n",
      " 133.6  99.4 130.  130.  102.6  99.4 372.4 133.6  99.4 609.8 130.  299.\n",
      " 266.6 130.  130.   99.4 102.6  99.4 102.6 102.6  99.4 299.  299.   77.\n",
      "  99.4 101.4 130. ]\n"
     ]
    }
   ],
   "source": [
    "predictions = kneighreg.predict(test_df[['accommodates', 'bathrooms']])\n",
    "print(predictions)"
   ]
  },
  {
   "cell_type": "markdown",
   "id": "692ea5dd",
   "metadata": {},
   "source": [
    "## 8. Calculating MSE using Scikit-Learn.\n",
    "\n",
    "Earlier in this lesson, we calculated the MSE and RMSE values using the pandas arithmetic operators to compare each predicted value with the actual value from the `price` column of our test set. Alternatively, we can instead use the [sklearn.metrics.mean_squared_error function()](https://scikit-learn.org/stable/modules/generated/sklearn.metrics.mean_squared_error.html). Once you become familiar with the different machine learning concepts, unifying your workflow using scikit-learn helps save you a lot of time and avoid mistakes.\n",
    "\n",
    "The `mean_squared_error()` function takes in 2 inputs:\n",
    "\n",
    "- list-like object, representing the true values\n",
    "- list-like object, representing the predicted values using the model\n",
    "\n",
    "For this function, we won't show any sample code and will leave it to you to understand the function [from the documentation](https://scikit-learn.org/stable/modules/generated/sklearn.metrics.mean_squared_error.html) itself to calculate the MSE and RMSE values for the predictions we just made.\n",
    "\n",
    "### Exercise\n",
    "\n",
    "- Use the `mean_squared_error` function to calculate the MSE value for the predictions we made in the previous cell.\n",
    "- Assign the MSE value to `two_features_mse`.\n",
    "- Calculate the RMSE value by taking the square root of the MSE value and assign to `two_features_rmse`.\n",
    "- Display both of these error scores using the `print` function."
   ]
  },
  {
   "cell_type": "code",
   "execution_count": 107,
   "id": "423cc93e",
   "metadata": {},
   "outputs": [],
   "source": [
    "train_columns = ['accommodates', 'bathrooms']\n",
    "knn = KNeighborsRegressor(n_neighbors=5, algorithm='brute', metric='euclidean')\n",
    "knn.fit(train_df[train_columns], train_df['price'])\n",
    "predictions = knn.predict(test_df[train_columns])"
   ]
  },
  {
   "cell_type": "code",
   "execution_count": 108,
   "id": "470726c6",
   "metadata": {},
   "outputs": [],
   "source": [
    "from sklearn.metrics import mean_squared_error"
   ]
  },
  {
   "cell_type": "code",
   "execution_count": 109,
   "id": "7fa054e9",
   "metadata": {},
   "outputs": [],
   "source": [
    "two_features_mse = mean_squared_error(test_df['price'], predictions)\n",
    "two_features_rmse = np.sqrt(two_features_mse)"
   ]
  },
  {
   "cell_type": "code",
   "execution_count": 110,
   "id": "ce7b6306",
   "metadata": {},
   "outputs": [
    {
     "name": "stdout",
     "output_type": "stream",
     "text": [
      "10880.390125142207\n",
      "104.30910854351218\n"
     ]
    }
   ],
   "source": [
    "print(two_features_mse)\n",
    "print(two_features_rmse)"
   ]
  },
  {
   "cell_type": "markdown",
   "id": "bb4ea693",
   "metadata": {},
   "source": [
    "## 9. Using more features.\n",
    "\n",
    "Here's a table comparing the MSE and RMSE values for the 2 univariate models from the last lesson and the multivariate model we just trained:\n",
    "\n",
    "| feature(s)              | MSE     | RMSE  |\n",
    "|-------------------------|---------|-------|\n",
    "| accommodates            | 18646.5 | 136.6 |\n",
    "| bathrooms               | 17333.4 | 131.7 |\n",
    "| accommodates, bathrooms | 10880.4 | 104.1 |\n",
    "\n",
    "\n",
    "As you can tell, the model we trained using both features ended up performing better (lower error score) than either of the univariate models from the last lesson. Let's now train a model using the following 4 features:\n",
    "\n",
    "- accommodates\n",
    "- bedrooms\n",
    "- bathrooms\n",
    "- number_of_reviews\n",
    "\n",
    "Scikit-learn makes it incredibly easy to swap the columns used during training and testing. We're going to leave this for you as a challenge to train and test a k-nearest neighbors model using these columns instead. Use the code you wrote in the last cell as a guide.\n",
    "\n",
    "### Exercise\n",
    "\n",
    "- Create a new instance of the KNeighborsRegressor class with the following parameters:\n",
    "    - `n_neighbors`: `5`\n",
    "    - `algorithm`: `brute`\n",
    "\n",
    "- Fit a model that uses the following columns from our training set (`train_df`):\n",
    "    - accommodates\n",
    "    - bedrooms\n",
    "    - bathrooms\n",
    "    - number_of_reviews\n",
    "\n",
    "- Use the model to make predictions on the test set (`test_df`) using the same columns. Assign the NumPy array of predictions to `four_predictions`.\n",
    "- Use the `mean_squared_error()` function to calculate the MSE value for these predictions by comparing `four_predictions` with the `price` column from `test_df`. Assign the computed MSE value to `four_mse`.\n",
    "- Calculate the RMSE value and assign to `four_rmse`.\n",
    "- Display `four_mse` and `four_rmse` using the `print` function."
   ]
  },
  {
   "cell_type": "code",
   "execution_count": null,
   "id": "4f0f4327",
   "metadata": {},
   "outputs": [],
   "source": [
    "features = ['accommodates', 'bedrooms', 'bathrooms', 'number_of_reviews']\n",
    "knn = KNeighborsRegressor(n_neighbors=5, algorithm='brute')"
   ]
  },
  {
   "cell_type": "code",
   "execution_count": 112,
   "id": "4edb331a",
   "metadata": {},
   "outputs": [
    {
     "data": {
      "text/plain": [
       "KNeighborsRegressor(algorithm='brute')"
      ]
     },
     "execution_count": 112,
     "metadata": {},
     "output_type": "execute_result"
    }
   ],
   "source": [
    "knn.fit(train_df[features], train_df['price'])"
   ]
  },
  {
   "cell_type": "code",
   "execution_count": 113,
   "id": "4ba4b2ba",
   "metadata": {},
   "outputs": [],
   "source": [
    "four_predictions = knn.predict(test_df[features])\n",
    "four_mse = mean_squared_error(test_df['price'], four_predictions)\n",
    "four_rmse = np.sqrt(four_mse)\n"
   ]
  },
  {
   "cell_type": "code",
   "execution_count": 114,
   "id": "f6031543",
   "metadata": {},
   "outputs": [
    {
     "name": "stdout",
     "output_type": "stream",
     "text": [
      "8789.460978384526\n",
      "93.75212519396308\n"
     ]
    }
   ],
   "source": [
    "print(four_mse)\n",
    "print(four_rmse)"
   ]
  },
  {
   "cell_type": "markdown",
   "id": "091f0252",
   "metadata": {},
   "source": [
    "## 10. Using all features.\n",
    "### Exercise\n",
    "\n",
    "- Use all of the columns, except for the `price` column, to train a k-nearest neighbors model using the same parameters for the `KNeighborsRegressor` class as the ones from the last few cells.\n",
    "- Use the model to make predictions on the test set and assign the resulting NumPy array of predictions to `all_features_predictions`.\n",
    "- Calculate the MSE and RMSE values and assign to all_features_mse and all_features_rmse accordingly.\n",
    "- Use the print function to display both error scores."
   ]
  },
  {
   "cell_type": "code",
   "execution_count": 121,
   "id": "60f03992",
   "metadata": {},
   "outputs": [
    {
     "data": {
      "text/plain": [
       "Index(['accommodates', 'bedrooms', 'bathrooms', 'beds', 'price',\n",
       "       'minimum_nights', 'maximum_nights', 'number_of_reviews'],\n",
       "      dtype='object')"
      ]
     },
     "execution_count": 121,
     "metadata": {},
     "output_type": "execute_result"
    }
   ],
   "source": [
    "test_df.columns"
   ]
  },
  {
   "cell_type": "code",
   "execution_count": null,
   "id": "a319c949",
   "metadata": {},
   "outputs": [],
   "source": [
    "all_features = [\n",
    "    'accommodates',\n",
    "     'bedrooms',\n",
    "     'bathrooms',\n",
    "     'beds',\n",
    "#      'price',\n",
    "     'minimum_nights',\n",
    "     'maximum_nights',\n",
    "     'number_of_reviews',\n",
    "]"
   ]
  },
  {
   "cell_type": "code",
   "execution_count": 116,
   "id": "9907bc63",
   "metadata": {},
   "outputs": [
    {
     "data": {
      "text/plain": [
       "KNeighborsRegressor(algorithm='brute')"
      ]
     },
     "execution_count": 116,
     "metadata": {},
     "output_type": "execute_result"
    }
   ],
   "source": [
    "knn = KNeighborsRegressor(n_neighbors=5, algorithm='brute')\n",
    "knn.fit(train_df[all_features], train_df['price'])"
   ]
  },
  {
   "cell_type": "code",
   "execution_count": 118,
   "id": "fc32c6e7",
   "metadata": {},
   "outputs": [],
   "source": [
    "all_features_predicitions = knn.predict(test_df[all_features])"
   ]
  },
  {
   "cell_type": "code",
   "execution_count": 119,
   "id": "6f23e706",
   "metadata": {},
   "outputs": [],
   "source": [
    "all_features_mse = mean_squared_error(test_df['price'], all_features_predicitions)\n",
    "all_features_rmse = np.sqrt(all_features_mse)"
   ]
  },
  {
   "cell_type": "code",
   "execution_count": 120,
   "id": "edde8b31",
   "metadata": {},
   "outputs": [
    {
     "name": "stdout",
     "output_type": "stream",
     "text": [
      "7377.0400910125145\n",
      "85.88969723437448\n"
     ]
    }
   ],
   "source": [
    "print(all_features_mse)\n",
    "print(all_features_rmse)"
   ]
  }
 ],
 "metadata": {
  "kernelspec": {
   "display_name": "Python 3",
   "language": "python",
   "name": "python3"
  },
  "language_info": {
   "codemirror_mode": {
    "name": "ipython",
    "version": 3
   },
   "file_extension": ".py",
   "mimetype": "text/x-python",
   "name": "python",
   "nbconvert_exporter": "python",
   "pygments_lexer": "ipython3",
   "version": "3.8.8"
  }
 },
 "nbformat": 4,
 "nbformat_minor": 5
}
