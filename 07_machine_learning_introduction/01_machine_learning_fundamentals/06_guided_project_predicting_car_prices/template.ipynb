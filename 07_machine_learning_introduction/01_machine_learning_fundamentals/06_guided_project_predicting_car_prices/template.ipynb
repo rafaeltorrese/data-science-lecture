{
 "cells": [
  {
   "cell_type": "markdown",
   "metadata": {},
   "source": [
    "# Predicción de precios de automóviles\n",
    "\n",
    "## 01. Introduction to the data set\n",
    "\n",
    "Exploramos los fundamentos del aprendizaje automático utilizando el algoritmo de k-vecinos más cercanos. En este proyecto vamos a practicar el flujo de trabajo de aprendizaje automático que se ha aprendido hasta ahora para predecir el precio de mercado de un automóvil utilizando sus atributos. \n",
    "\n",
    "El conjunto de datos con el que trabajaremos contiene información sobre varios automóviles. Para cada automóvil tenemos información sobre los aspectos técnicos del vehículo, como el desplazamiento del motor, el peso del automóvil, las millas por galón, qué tan rápido acelera el automóvil y más. \n",
    "\n",
    "Puedes leer más sobre el conjunto de datos [aquí](https://archive.ics.uci.edu/ml/datasets/automobile). Aquí hay una vista previa del conjunto de datos:\n",
    "\n",
    "<img src=\"figs/df_preview.png\" width=\"1200\" height=\"800\"/>\n",
    "\n",
    "\n",
    "\n",
    "\n",
    "\n",
    "----\n",
    "\n",
    "- Lee `imports-85.data` en un dataframe llamado `cars`. Si lee el archivo usando `pandas.read_csv()` sin especificar ningún valor de parámetro adicional, notará que los nombres de las columnas no coinciden con los de la [documentación del conjunto de datos](https://archive.ics.uci.edu/ml/datasets/automobile). ¿Por qué crees que es esto y cómo puedes solucionarlo?\n",
    "- Determine qué columnas son numéricas y se pueden usar como características y qué columna es la columna objetivo (target).\n",
    "- Muestre las primeras filas del datframe y asegúrese de que se vea como la vista previa del conjunto de datos."
   ]
  },
  {
   "cell_type": "code",
   "execution_count": null,
   "metadata": {},
   "outputs": [],
   "source": []
  },
  {
   "cell_type": "markdown",
   "metadata": {},
   "source": [
    "## 02. Limpieza de datos\n",
    "\n",
    "Por lo general, no podemos tener valores faltantes si queremos usarlos para el modelado predictivo. Según la vista previa del conjunto de datos del último paso, podemos decir que la columna `normalized-losses` contiene valores faltantes representados con `\"?\"`. Reemplacemos estos valores y busquemos la presencia de valores faltantes en otras columnas numéricas. También cambiemos la escala de los valores en las columnas numéricas para que todos estén en el rango de 0 a 1.\n",
    "\n",
    "---\n",
    "- Utilice el método [`DataFrame.replace()`](https://pandas.pydata.org/pandas-docs/stable/reference/api/pandas.DataFrame.replace.html) para reemplazar todos los `?` valores con el valor faltante `numpy.nan`.\n",
    "- Debido a que `?` es un valor de cadena, las columnas que contienen este valor se convirtieron en el tipo de datos `object` de pandas (en lugar de un tipo numérico como `int` o `float`). Después de reemplazar los `?` valores, determine qué columnas deben convertirse a tipos numéricos. Puede usar los métodos [`DataFrame.astype()`](https://pandas.pydata.org/pandas-docs/stable/reference/api/pandas.DataFrame.astype.html) o [`Series.astype()`](https://pandas.pydata.org/pandas-docs/stable/reference/api/pandas.Series.astype.html) para convertir tipos de columna.\n",
    "- Devuelve el número de filas a las que les falta un valor para la columna `normalized-losses`. Determine cómo debe manejar esta columna. Podrías:\n",
    "    - Reemplazar los valores faltantes usando los valores promedio de esa columna.\n",
    "    - Descartar las filas por completo (especialmente si a otras columnas de esas filas les faltan valores).\n",
    "    - Quitar la columna por completo.\n",
    "- Explore los valores faltantes para las otras columnas numéricas y maneje los valores faltantes.\n",
    "- De las columnas que decidiste conservar, normaliza las numéricas para que todos los valores oscilen entre 0 y 1."
   ]
  },
  {
   "cell_type": "code",
   "execution_count": null,
   "metadata": {},
   "outputs": [],
   "source": []
  },
  {
   "cell_type": "markdown",
   "metadata": {},
   "source": [
    "## 03. Modelo Univariado\n",
    "\n",
    "Comencemos con algunos modelos univariados de k-vecinos más cercanos. Comenzar con modelos simples antes de pasar a modelos más complejos nos ayuda a estructurar el flujo de trabajo de código y comprender mejor las funciones.\n",
    "\n",
    "---\n",
    "\n",
    "- Cree una función llamada `knn_train_test()` que encapsule el proceso de capacitación y validación simple. Esta función debe tener 3 parámetros: el nombre de la columna de entrenamiento, el nombre de la columna objetivo (target) y dataframe.\n",
    "\n",
    "    - Esta función debe dividir el conjunto de datos en un conjunto de entrenamiento y otro de prueba.\n",
    "    - Luego, debe instanciar la clase KNeighborsRegressor, ajustar el modelo en el conjunto de entrenamiento y hacer predicciones en el conjunto de prueba.\n",
    "    - Finalmente, debe calcular el RMSE y devolver ese valor.\n",
    "\n",
    "- Use esta función para entrenar y probar modelos univariados usando las diferentes columnas numéricas en el conjunto de datos. ¿Qué columna funcionó mejor usando el valor `k` predeterminado?\n",
    "\n",
    "- Modifique la función `knn_train_test()` que escribió para aceptar un parámetro para el valor k.\n",
    "    - Actualice la lógica de la función para usar este parámetro.\n",
    "    - Para cada columna numérica, cree, entrene y pruebe un modelo univariante utilizando los siguientes valores `k` (`1`, `3`, `5`, `7` y `9`). Visualice los resultados mediante un diagrama de dispersión o un diagrama de líneas."
   ]
  },
  {
   "cell_type": "code",
   "execution_count": null,
   "metadata": {},
   "outputs": [],
   "source": []
  },
  {
   "cell_type": "markdown",
   "metadata": {},
   "source": [
    "## 04. Modelo Multivariado\n",
    "\n",
    "Modifiquemos la función `knn_train_test()` que escribimos anteriormente para trabajar con varias columnas.\n",
    "\n",
    "---\n",
    "\n",
    "- Modifique la función `knn_train_test()` para aceptar una lista de nombres de columna (en lugar de solo una cadena). Modifique el resto de la lógica de la función para usar este parámetro:\n",
    "    - En lugar de usar solo una columna para entrenar y probar, use todas las columnas que se asignarán al parámetro.\n",
    "    - Utilice el valor `k` predeterminado de scikit-learn por ahora (ajustaremos el valor k en el siguiente paso).\n",
    "- Utilice las 2 mejores características del paso anterior para entrenar y probar un modelo multivariado de k vecinos más cercanos utilizando el valor `k` predeterminado.\n",
    "- Utilice las 3 mejores características del paso anterior para entrenar y probar un modelo multivariado de k vecinos más cercanos utilizando el valor `k` predeterminado.\n",
    "- Utilice las mejores 4 características del paso anterior para entrenar y probar un modelo multivariado de k vecinos más cercanos utilizando el valor `k` predeterminado.\n",
    "- Use las mejores 5 características del paso anterior para entrenar y probar un modelo multivariado de `k` vecinos más cercanos usando el valor k predeterminado.\n",
    "- Muestra todos los valores RMSE.\n"
   ]
  },
  {
   "cell_type": "code",
   "execution_count": null,
   "metadata": {},
   "outputs": [],
   "source": []
  },
  {
   "cell_type": "markdown",
   "metadata": {},
   "source": [
    "## 05. Ajuste de Hyperparámetros \n",
    "\n",
    "Ahora vamos a optimizar el modelo que funcionó mejor en el paso anterior.\n",
    "\n",
    "----\n",
    "\n",
    "- Para los 3 modelos principales en el último paso, varíe el valor del hiperparámetro de 1 a 25 y represente gráficamente los valores RMSE resultantes.\n",
    "\n",
    "- ¿Qué valor de k es óptimo para cada modelo? ¿Qué tan diferentes son los valores de k y qué crees que explica las diferencias?\n"
   ]
  },
  {
   "cell_type": "code",
   "execution_count": null,
   "metadata": {},
   "outputs": [],
   "source": []
  },
  {
   "cell_type": "markdown",
   "metadata": {
    "collapsed": true
   },
   "source": [
    "## 06. ¿Qué sigue?\n",
    "\n",
    "- Modifique la función `knn_train_test()` para usar la validación cruzada k-fold en lugar de la validación de prueba/entrenamiento.\n",
    "- Modifique la función `knn_train_test()` para realizar también la limpieza de datos."
   ]
  }
 ],
 "metadata": {
  "kernelspec": {
   "display_name": "Python 3",
   "language": "python",
   "name": "python3"
  },
  "language_info": {
   "codemirror_mode": {
    "name": "ipython",
    "version": 3
   },
   "file_extension": ".py",
   "mimetype": "text/x-python",
   "name": "python",
   "nbconvert_exporter": "python",
   "pygments_lexer": "ipython3",
   "version": "3.8.8"
  }
 },
 "nbformat": 4,
 "nbformat_minor": 2
}
