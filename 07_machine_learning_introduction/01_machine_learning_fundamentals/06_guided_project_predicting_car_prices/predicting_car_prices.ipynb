{
 "cells": [
  {
   "cell_type": "markdown",
   "metadata": {},
   "source": [
    "## 01. Introducción al conjunto de datos\n",
    "\n",
    "Exploramos los fundamentos del aprendizaje automático utilizando el algoritmo de k-vecinos más cercanos. En este proyecto vamos a practicar el flujo de trabajo de aprendizaje automático que se ha aprendido hasta ahora para predecir el precio de mercado de un automóvil utilizando sus atributos. \n",
    "\n",
    "El conjunto de datos con el que trabajaremos contiene información sobre varios automóviles. Para cada automóvil tenemos información sobre los aspectos técnicos del vehículo, como el desplazamiento del motor, el peso del automóvil, las millas por galón, qué tan rápido acelera el automóvil y más. \n",
    "\n",
    "Puedes leer más sobre el conjunto de datos [aquí](https://archive.ics.uci.edu/ml/datasets/automobile) y puedes descargarlo directamente desde aquí. Aquí hay una vista previa del conjunto de datos:\n",
    "\n",
    "| symboling | normalized_losses | make        | fuel_type | aspiration | num_doors | body_style  | drive_wheels | engine_location | wheel_base | length | width | height | curb_weight | engine_type | num_cylinders | engine_size | fuel_system | bore | stroke | compression_ratio | horsepower | peak_rpm | city_mpg | highway_mpg | price |\n",
    "|-----------|-------------------|-------------|-----------|------------|-----------|-------------|--------------|-----------------|------------|--------|-------|--------|-------------|-------------|---------------|-------------|-------------|------|--------|-------------------|------------|----------|----------|-------------|-------|\n",
    "| 3         | ?                 | alfa-romero | gas       | std        | two       | convertible | rwd          | front           | 88.6       | 168.8  | 64.1  | 48.8   | 2548        | dohc        | four          | 130         | mpfi        | 3.47 | 2.68   | 9.0               | 111        | 5000     | 21       | 27          | 13495 |\n",
    "| 3         | ?                 | alfa-romero | gas       | std        | two       | convertible | rwd          | front           | 88.6       | 168.8  | 64.1  | 48.8   | 2548        | dohc        | four          | 130         | mpfi        | 3.47 | 2.68   | 9.0               | 111        | 5000     | 21       | 27          | 16500 |\n",
    "| 1         | ?                 | alfa-romero | gas       | std        | two       | hatchback   | rwd          | front           | 94.5       | 171.2  | 65.5  | 52.4   | 2823        | ohcv        | six           | 152         | mpfi        | 2.68 | 3.47   | 9.0               | 154        | 5000     | 19       | 26          | 16500 |\n",
    "| 2         | 164               | audi        | gas       | std        | four      | sedan       | fwd          | front           | 99.8       | 176.6  | 66.2  | 54.3   | 2337        | ohc         | four          | 109         | mpfi        | 3.19 | 3.40   | 10.0              | 102        | 5500     | 24       | 30          | 13950 |\n",
    "| 2         | 164               | audi        | gas       | std        | four      | sedan       | 4wd          | front           | 99.4       | 176.6  | 66.4  | 54.3   | 2824        | ohc         | five          | 136         | mpfi        | 3.19 | 3.40   | 8.0               | 115        | 5500     | 18       | 22          | 17450 |"
   ]
  },
  {
   "cell_type": "markdown",
   "metadata": {},
   "source": [
    "- Lee `imports-85.data` en un dataframe llamado `cars`. Si lee el archivo usando `pandas.read_csv()` sin especificar ningún valor de parámetro adicional, notará que los nombres de las columnas no coinciden con los de la [documentación del conjunto de datos](https://archive.ics.uci.edu/ml/datasets/automobile). ¿Por qué crees que es esto y cómo puedes solucionarlo?\n",
    "- Determine qué columnas son numéricas y se pueden usar como características y qué columna es la columna objetivo (target).\n",
    "- Muestre las primeras filas del datframe y asegúrese de que se vea como la vista previa del conjunto de datos."
   ]
  },
  {
   "cell_type": "code",
   "execution_count": 1,
   "metadata": {
    "collapsed": true
   },
   "outputs": [],
   "source": [
    "import numpy as np\n",
    "import pandas as pd\n",
    "import matplotlib.pyplot as plt\n",
    "\n",
    "%matplotlib inline\n",
    "\n",
    "from sklearn.neighbors import KNeighborsRegressor\n",
    "from sklearn.metrics import mean_squared_error\n",
    "\n",
    "from sklearn.preprocessing import MinMaxScaler\n",
    "\n",
    "from sklearn.model_selection import cross_val_score, KFold"
   ]
  },
  {
   "cell_type": "markdown",
   "metadata": {},
   "source": [
    "[dataset Documentation](https://archive.ics.uci.edu/ml/datasets/automobile) \n",
    "\n",
    "Xpath \n",
    "```\n",
    "$x('//p[contains(text(), \"Attribute: Attribute Range\")]/text()').map(x =>\n",
    "x.wholeText)\n",
    "\n",
    "```"
   ]
  },
  {
   "cell_type": "code",
   "execution_count": 83,
   "metadata": {},
   "outputs": [
    {
     "data": {
      "text/plain": [
       "['symboling',\n",
       " 'normalized_losses',\n",
       " 'make',\n",
       " 'fuel_type',\n",
       " 'aspiration',\n",
       " 'num_of_doors',\n",
       " 'body_style',\n",
       " 'drive_wheels',\n",
       " 'engine_location',\n",
       " 'wheel_base',\n",
       " 'length',\n",
       " 'width',\n",
       " 'height',\n",
       " 'curb_weight',\n",
       " 'engine_type',\n",
       " 'num_of_cylinders',\n",
       " 'engine_size',\n",
       " 'fuel_system',\n",
       " 'bore',\n",
       " 'stroke',\n",
       " 'compression_ratio',\n",
       " 'horsepower',\n",
       " 'peak_rpm',\n",
       " 'city_mpg',\n",
       " 'highway_mpg',\n",
       " 'price']"
      ]
     },
     "execution_count": 83,
     "metadata": {},
     "output_type": "execute_result"
    }
   ],
   "source": [
    "\n",
    "cols = [ \n",
    "\"1. symboling:-3, -2, -1, 0, 1, 2, 3.\",\n",
    "\"2. normalized-losses:continuous from 65 to 256.\",\n",
    "\"3. make: ## \",\n",
    "\"4. fuel-type:diesel, gas.\",\n",
    "\"5. aspiration:       std, turbo.\",\n",
    "\"6. num-of-doors:     four, two.\",\n",
    "\"7. body-style:       hardtop, wagon, sedan, hatchback, convertible.\",\n",
    "\"8. drive-wheels:     4wd, fwd, rwd.\",\n",
    "\"9. engine-location:  front, rear.\",\n",
    "\"10. wheel-base:       continuous from 86.6 120.9.\",\n",
    "\"11. length:   continuous from 141.1 to 208.1.\",\n",
    "\"12. width:    continuous from 60.3 to 72.3.\",\n",
    "\"13. height:   continuous from 47.8 to 59.8.\",\n",
    "\"14. curb-weight:      continuous from 1488 to 4066.\",\n",
    "\"15. engine-type:      dohc, dohcv, l, ohc, ohcf, ohcv, rotor.\",\n",
    "\"16. num-of-cylinders: eight, five, four, six, three, twelve, two.\",\n",
    "\"17. engine-size:      continuous from 61 to 326.\",\n",
    "\"18. fuel-system:      1bbl, 2bbl, 4bbl, idi, mfi, mpfi, spdi, spfi.\",\n",
    "\"19. bore:     continuous from 2.54 to 3.94.\",\n",
    "\"20. stroke:   continuous from 2.07 to 4.17.\",\n",
    "\"21. compression-ratio:continuous from 7 to 23.\",\n",
    "\"22. horsepower:       continuous from 48 to 288.\",\n",
    "\"23. peak-rpm: continuous from 4150 to 6600.\",\n",
    "\"24. city-mpg: continuous from 13 to 49.\",\n",
    "\"25. highway-mpg:      continuous from 16 to 54.\",\n",
    "\"26. price:    continuous from 5118 to 45400.\",\n",
    "]\n",
    "\n",
    "\n",
    "[s.split(':')[0].split('.')[1].strip().replace('-', '_') for s in cols]"
   ]
  },
  {
   "cell_type": "code",
   "execution_count": 7,
   "metadata": {
    "collapsed": true
   },
   "outputs": [],
   "source": [
    "colnames = [\n",
    "    'symboling',\n",
    "    'normalized_losses',\n",
    "    'make',\n",
    "    'fuel_type',\n",
    "    'aspiration',\n",
    "    'num_doors',\n",
    "    'body_style',\n",
    "    'drive_wheels',\n",
    "    'engine_location',\n",
    "    'wheel_base',\n",
    "    'length',\n",
    "    'width',\n",
    "    'height',\n",
    "    'curb_weight',\n",
    "    'engine_type',\n",
    "    'num_of_cylinders',\n",
    "    'engine_size',\n",
    "    'fuel_system',\n",
    "    'bore',\n",
    "    'stroke',\n",
    "    'compression_ratio',\n",
    "    'horsepower',\n",
    "    'peak_rpm',\n",
    "    'city_mpg',\n",
    "    'highway_mpg',\n",
    "    'price',\n",
    "           ]"
   ]
  },
  {
   "cell_type": "code",
   "execution_count": 8,
   "metadata": {},
   "outputs": [],
   "source": [
    "cars = pd.read_csv('imports-85.data', names=colnames)"
   ]
  },
  {
   "cell_type": "code",
   "execution_count": 9,
   "metadata": {},
   "outputs": [
    {
     "name": "stdout",
     "output_type": "stream",
     "text": [
      "<class 'pandas.core.frame.DataFrame'>\n",
      "RangeIndex: 205 entries, 0 to 204\n",
      "Data columns (total 26 columns):\n",
      "symboling            205 non-null int64\n",
      "normalized_losses    205 non-null object\n",
      "make                 205 non-null object\n",
      "fuel_type            205 non-null object\n",
      "aspiration           205 non-null object\n",
      "num_doors            205 non-null object\n",
      "body_style           205 non-null object\n",
      "drive_wheels         205 non-null object\n",
      "engine_location      205 non-null object\n",
      "wheel_base           205 non-null float64\n",
      "length               205 non-null float64\n",
      "width                205 non-null float64\n",
      "height               205 non-null float64\n",
      "curb_weight          205 non-null int64\n",
      "engine_type          205 non-null object\n",
      "num_of_cylinders     205 non-null object\n",
      "engine_size          205 non-null int64\n",
      "fuel_system          205 non-null object\n",
      "bore                 205 non-null object\n",
      "stroke               205 non-null object\n",
      "compression_ratio    205 non-null float64\n",
      "horsepower           205 non-null object\n",
      "peak_rpm             205 non-null object\n",
      "city_mpg             205 non-null int64\n",
      "highway_mpg          205 non-null int64\n",
      "price                205 non-null object\n",
      "dtypes: float64(5), int64(5), object(16)\n",
      "memory usage: 41.7+ KB\n"
     ]
    }
   ],
   "source": [
    "cars.info()"
   ]
  },
  {
   "cell_type": "code",
   "execution_count": 10,
   "metadata": {},
   "outputs": [
    {
     "data": {
      "text/html": [
       "<div>\n",
       "<style scoped>\n",
       "    .dataframe tbody tr th:only-of-type {\n",
       "        vertical-align: middle;\n",
       "    }\n",
       "\n",
       "    .dataframe tbody tr th {\n",
       "        vertical-align: top;\n",
       "    }\n",
       "\n",
       "    .dataframe thead th {\n",
       "        text-align: right;\n",
       "    }\n",
       "</style>\n",
       "<table border=\"1\" class=\"dataframe\">\n",
       "  <thead>\n",
       "    <tr style=\"text-align: right;\">\n",
       "      <th></th>\n",
       "      <th>symboling</th>\n",
       "      <th>normalized_losses</th>\n",
       "      <th>make</th>\n",
       "      <th>fuel_type</th>\n",
       "      <th>aspiration</th>\n",
       "      <th>num_doors</th>\n",
       "      <th>body_style</th>\n",
       "      <th>drive_wheels</th>\n",
       "      <th>engine_location</th>\n",
       "      <th>wheel_base</th>\n",
       "      <th>...</th>\n",
       "      <th>engine_size</th>\n",
       "      <th>fuel_system</th>\n",
       "      <th>bore</th>\n",
       "      <th>stroke</th>\n",
       "      <th>compression_ratio</th>\n",
       "      <th>horsepower</th>\n",
       "      <th>peak_rpm</th>\n",
       "      <th>city_mpg</th>\n",
       "      <th>highway_mpg</th>\n",
       "      <th>price</th>\n",
       "    </tr>\n",
       "  </thead>\n",
       "  <tbody>\n",
       "    <tr>\n",
       "      <th>0</th>\n",
       "      <td>3</td>\n",
       "      <td>?</td>\n",
       "      <td>alfa-romero</td>\n",
       "      <td>gas</td>\n",
       "      <td>std</td>\n",
       "      <td>two</td>\n",
       "      <td>convertible</td>\n",
       "      <td>rwd</td>\n",
       "      <td>front</td>\n",
       "      <td>88.6</td>\n",
       "      <td>...</td>\n",
       "      <td>130</td>\n",
       "      <td>mpfi</td>\n",
       "      <td>3.47</td>\n",
       "      <td>2.68</td>\n",
       "      <td>9.0</td>\n",
       "      <td>111</td>\n",
       "      <td>5000</td>\n",
       "      <td>21</td>\n",
       "      <td>27</td>\n",
       "      <td>13495</td>\n",
       "    </tr>\n",
       "    <tr>\n",
       "      <th>1</th>\n",
       "      <td>3</td>\n",
       "      <td>?</td>\n",
       "      <td>alfa-romero</td>\n",
       "      <td>gas</td>\n",
       "      <td>std</td>\n",
       "      <td>two</td>\n",
       "      <td>convertible</td>\n",
       "      <td>rwd</td>\n",
       "      <td>front</td>\n",
       "      <td>88.6</td>\n",
       "      <td>...</td>\n",
       "      <td>130</td>\n",
       "      <td>mpfi</td>\n",
       "      <td>3.47</td>\n",
       "      <td>2.68</td>\n",
       "      <td>9.0</td>\n",
       "      <td>111</td>\n",
       "      <td>5000</td>\n",
       "      <td>21</td>\n",
       "      <td>27</td>\n",
       "      <td>16500</td>\n",
       "    </tr>\n",
       "    <tr>\n",
       "      <th>2</th>\n",
       "      <td>1</td>\n",
       "      <td>?</td>\n",
       "      <td>alfa-romero</td>\n",
       "      <td>gas</td>\n",
       "      <td>std</td>\n",
       "      <td>two</td>\n",
       "      <td>hatchback</td>\n",
       "      <td>rwd</td>\n",
       "      <td>front</td>\n",
       "      <td>94.5</td>\n",
       "      <td>...</td>\n",
       "      <td>152</td>\n",
       "      <td>mpfi</td>\n",
       "      <td>2.68</td>\n",
       "      <td>3.47</td>\n",
       "      <td>9.0</td>\n",
       "      <td>154</td>\n",
       "      <td>5000</td>\n",
       "      <td>19</td>\n",
       "      <td>26</td>\n",
       "      <td>16500</td>\n",
       "    </tr>\n",
       "    <tr>\n",
       "      <th>3</th>\n",
       "      <td>2</td>\n",
       "      <td>164</td>\n",
       "      <td>audi</td>\n",
       "      <td>gas</td>\n",
       "      <td>std</td>\n",
       "      <td>four</td>\n",
       "      <td>sedan</td>\n",
       "      <td>fwd</td>\n",
       "      <td>front</td>\n",
       "      <td>99.8</td>\n",
       "      <td>...</td>\n",
       "      <td>109</td>\n",
       "      <td>mpfi</td>\n",
       "      <td>3.19</td>\n",
       "      <td>3.40</td>\n",
       "      <td>10.0</td>\n",
       "      <td>102</td>\n",
       "      <td>5500</td>\n",
       "      <td>24</td>\n",
       "      <td>30</td>\n",
       "      <td>13950</td>\n",
       "    </tr>\n",
       "    <tr>\n",
       "      <th>4</th>\n",
       "      <td>2</td>\n",
       "      <td>164</td>\n",
       "      <td>audi</td>\n",
       "      <td>gas</td>\n",
       "      <td>std</td>\n",
       "      <td>four</td>\n",
       "      <td>sedan</td>\n",
       "      <td>4wd</td>\n",
       "      <td>front</td>\n",
       "      <td>99.4</td>\n",
       "      <td>...</td>\n",
       "      <td>136</td>\n",
       "      <td>mpfi</td>\n",
       "      <td>3.19</td>\n",
       "      <td>3.40</td>\n",
       "      <td>8.0</td>\n",
       "      <td>115</td>\n",
       "      <td>5500</td>\n",
       "      <td>18</td>\n",
       "      <td>22</td>\n",
       "      <td>17450</td>\n",
       "    </tr>\n",
       "  </tbody>\n",
       "</table>\n",
       "<p>5 rows × 26 columns</p>\n",
       "</div>"
      ],
      "text/plain": [
       "   symboling normalized_losses         make fuel_type aspiration num_doors  \\\n",
       "0          3                 ?  alfa-romero       gas        std       two   \n",
       "1          3                 ?  alfa-romero       gas        std       two   \n",
       "2          1                 ?  alfa-romero       gas        std       two   \n",
       "3          2               164         audi       gas        std      four   \n",
       "4          2               164         audi       gas        std      four   \n",
       "\n",
       "    body_style drive_wheels engine_location  wheel_base  ...    engine_size  \\\n",
       "0  convertible          rwd           front        88.6  ...            130   \n",
       "1  convertible          rwd           front        88.6  ...            130   \n",
       "2    hatchback          rwd           front        94.5  ...            152   \n",
       "3        sedan          fwd           front        99.8  ...            109   \n",
       "4        sedan          4wd           front        99.4  ...            136   \n",
       "\n",
       "   fuel_system  bore  stroke compression_ratio horsepower  peak_rpm city_mpg  \\\n",
       "0         mpfi  3.47    2.68               9.0        111      5000       21   \n",
       "1         mpfi  3.47    2.68               9.0        111      5000       21   \n",
       "2         mpfi  2.68    3.47               9.0        154      5000       19   \n",
       "3         mpfi  3.19    3.40              10.0        102      5500       24   \n",
       "4         mpfi  3.19    3.40               8.0        115      5500       18   \n",
       "\n",
       "  highway_mpg  price  \n",
       "0          27  13495  \n",
       "1          27  16500  \n",
       "2          26  16500  \n",
       "3          30  13950  \n",
       "4          22  17450  \n",
       "\n",
       "[5 rows x 26 columns]"
      ]
     },
     "execution_count": 10,
     "metadata": {},
     "output_type": "execute_result"
    }
   ],
   "source": [
    "cars.head()"
   ]
  },
  {
   "cell_type": "code",
   "execution_count": 11,
   "metadata": {},
   "outputs": [
    {
     "data": {
      "text/html": [
       "<div>\n",
       "<style scoped>\n",
       "    .dataframe tbody tr th:only-of-type {\n",
       "        vertical-align: middle;\n",
       "    }\n",
       "\n",
       "    .dataframe tbody tr th {\n",
       "        vertical-align: top;\n",
       "    }\n",
       "\n",
       "    .dataframe thead th {\n",
       "        text-align: right;\n",
       "    }\n",
       "</style>\n",
       "<table border=\"1\" class=\"dataframe\">\n",
       "  <thead>\n",
       "    <tr style=\"text-align: right;\">\n",
       "      <th></th>\n",
       "      <th>symboling</th>\n",
       "      <th>normalized_losses</th>\n",
       "      <th>make</th>\n",
       "      <th>fuel_type</th>\n",
       "      <th>aspiration</th>\n",
       "      <th>num_doors</th>\n",
       "      <th>body_style</th>\n",
       "      <th>drive_wheels</th>\n",
       "      <th>engine_location</th>\n",
       "      <th>wheel_base</th>\n",
       "      <th>...</th>\n",
       "      <th>engine_size</th>\n",
       "      <th>fuel_system</th>\n",
       "      <th>bore</th>\n",
       "      <th>stroke</th>\n",
       "      <th>compression_ratio</th>\n",
       "      <th>horsepower</th>\n",
       "      <th>peak_rpm</th>\n",
       "      <th>city_mpg</th>\n",
       "      <th>highway_mpg</th>\n",
       "      <th>price</th>\n",
       "    </tr>\n",
       "  </thead>\n",
       "  <tbody>\n",
       "    <tr>\n",
       "      <th>200</th>\n",
       "      <td>-1</td>\n",
       "      <td>95</td>\n",
       "      <td>volvo</td>\n",
       "      <td>gas</td>\n",
       "      <td>std</td>\n",
       "      <td>four</td>\n",
       "      <td>sedan</td>\n",
       "      <td>rwd</td>\n",
       "      <td>front</td>\n",
       "      <td>109.1</td>\n",
       "      <td>...</td>\n",
       "      <td>141</td>\n",
       "      <td>mpfi</td>\n",
       "      <td>3.78</td>\n",
       "      <td>3.15</td>\n",
       "      <td>9.5</td>\n",
       "      <td>114</td>\n",
       "      <td>5400</td>\n",
       "      <td>23</td>\n",
       "      <td>28</td>\n",
       "      <td>16845</td>\n",
       "    </tr>\n",
       "    <tr>\n",
       "      <th>201</th>\n",
       "      <td>-1</td>\n",
       "      <td>95</td>\n",
       "      <td>volvo</td>\n",
       "      <td>gas</td>\n",
       "      <td>turbo</td>\n",
       "      <td>four</td>\n",
       "      <td>sedan</td>\n",
       "      <td>rwd</td>\n",
       "      <td>front</td>\n",
       "      <td>109.1</td>\n",
       "      <td>...</td>\n",
       "      <td>141</td>\n",
       "      <td>mpfi</td>\n",
       "      <td>3.78</td>\n",
       "      <td>3.15</td>\n",
       "      <td>8.7</td>\n",
       "      <td>160</td>\n",
       "      <td>5300</td>\n",
       "      <td>19</td>\n",
       "      <td>25</td>\n",
       "      <td>19045</td>\n",
       "    </tr>\n",
       "    <tr>\n",
       "      <th>202</th>\n",
       "      <td>-1</td>\n",
       "      <td>95</td>\n",
       "      <td>volvo</td>\n",
       "      <td>gas</td>\n",
       "      <td>std</td>\n",
       "      <td>four</td>\n",
       "      <td>sedan</td>\n",
       "      <td>rwd</td>\n",
       "      <td>front</td>\n",
       "      <td>109.1</td>\n",
       "      <td>...</td>\n",
       "      <td>173</td>\n",
       "      <td>mpfi</td>\n",
       "      <td>3.58</td>\n",
       "      <td>2.87</td>\n",
       "      <td>8.8</td>\n",
       "      <td>134</td>\n",
       "      <td>5500</td>\n",
       "      <td>18</td>\n",
       "      <td>23</td>\n",
       "      <td>21485</td>\n",
       "    </tr>\n",
       "    <tr>\n",
       "      <th>203</th>\n",
       "      <td>-1</td>\n",
       "      <td>95</td>\n",
       "      <td>volvo</td>\n",
       "      <td>diesel</td>\n",
       "      <td>turbo</td>\n",
       "      <td>four</td>\n",
       "      <td>sedan</td>\n",
       "      <td>rwd</td>\n",
       "      <td>front</td>\n",
       "      <td>109.1</td>\n",
       "      <td>...</td>\n",
       "      <td>145</td>\n",
       "      <td>idi</td>\n",
       "      <td>3.01</td>\n",
       "      <td>3.40</td>\n",
       "      <td>23.0</td>\n",
       "      <td>106</td>\n",
       "      <td>4800</td>\n",
       "      <td>26</td>\n",
       "      <td>27</td>\n",
       "      <td>22470</td>\n",
       "    </tr>\n",
       "    <tr>\n",
       "      <th>204</th>\n",
       "      <td>-1</td>\n",
       "      <td>95</td>\n",
       "      <td>volvo</td>\n",
       "      <td>gas</td>\n",
       "      <td>turbo</td>\n",
       "      <td>four</td>\n",
       "      <td>sedan</td>\n",
       "      <td>rwd</td>\n",
       "      <td>front</td>\n",
       "      <td>109.1</td>\n",
       "      <td>...</td>\n",
       "      <td>141</td>\n",
       "      <td>mpfi</td>\n",
       "      <td>3.78</td>\n",
       "      <td>3.15</td>\n",
       "      <td>9.5</td>\n",
       "      <td>114</td>\n",
       "      <td>5400</td>\n",
       "      <td>19</td>\n",
       "      <td>25</td>\n",
       "      <td>22625</td>\n",
       "    </tr>\n",
       "  </tbody>\n",
       "</table>\n",
       "<p>5 rows × 26 columns</p>\n",
       "</div>"
      ],
      "text/plain": [
       "     symboling normalized_losses   make fuel_type aspiration num_doors  \\\n",
       "200         -1                95  volvo       gas        std      four   \n",
       "201         -1                95  volvo       gas      turbo      four   \n",
       "202         -1                95  volvo       gas        std      four   \n",
       "203         -1                95  volvo    diesel      turbo      four   \n",
       "204         -1                95  volvo       gas      turbo      four   \n",
       "\n",
       "    body_style drive_wheels engine_location  wheel_base  ...    engine_size  \\\n",
       "200      sedan          rwd           front       109.1  ...            141   \n",
       "201      sedan          rwd           front       109.1  ...            141   \n",
       "202      sedan          rwd           front       109.1  ...            173   \n",
       "203      sedan          rwd           front       109.1  ...            145   \n",
       "204      sedan          rwd           front       109.1  ...            141   \n",
       "\n",
       "     fuel_system  bore  stroke compression_ratio horsepower  peak_rpm  \\\n",
       "200         mpfi  3.78    3.15               9.5        114      5400   \n",
       "201         mpfi  3.78    3.15               8.7        160      5300   \n",
       "202         mpfi  3.58    2.87               8.8        134      5500   \n",
       "203          idi  3.01    3.40              23.0        106      4800   \n",
       "204         mpfi  3.78    3.15               9.5        114      5400   \n",
       "\n",
       "    city_mpg highway_mpg  price  \n",
       "200       23          28  16845  \n",
       "201       19          25  19045  \n",
       "202       18          23  21485  \n",
       "203       26          27  22470  \n",
       "204       19          25  22625  \n",
       "\n",
       "[5 rows x 26 columns]"
      ]
     },
     "execution_count": 11,
     "metadata": {},
     "output_type": "execute_result"
    }
   ],
   "source": [
    "cars.tail()"
   ]
  },
  {
   "cell_type": "markdown",
   "metadata": {},
   "source": [
    "## 02. Limpieza de datos\n",
    "\n",
    "Por lo general, no podemos tener valores faltantes si queremos usarlos para el modelado predictivo. Según la vista previa del conjunto de datos del último paso, podemos decir que la columna `normalized-losses` contiene valores faltantes representados con `\"?\"`. Reemplacemos estos valores y busquemos la presencia de valores faltantes en otras columnas numéricas. También cambiemos la escala de los valores en las columnas numéricas para que todos estén en el rango de 0 a 1.\n",
    "\n",
    "----\n",
    "\n",
    "- Utilice el método [`DataFrame.replace()`](https://pandas.pydata.org/pandas-docs/stable/reference/api/pandas.DataFrame.replace.html) para reemplazar todos los `?` valores con el valor faltante `numpy.nan`.\n",
    "- Debido a que `?` es un valor de cadena, las columnas que contienen este valor se convirtieron en el tipo de datos `object` de pandas (en lugar de un tipo numérico como `int` o `float`). Después de reemplazar los `?` valores, determine qué columnas deben convertirse a tipos numéricos. Puede usar los métodos [`DataFrame.astype()`](https://pandas.pydata.org/pandas-docs/stable/reference/api/pandas.DataFrame.astype.html) o [`Series.astype()`](https://pandas.pydata.org/pandas-docs/stable/reference/api/pandas.Series.astype.html) para convertir tipos de columna.\n",
    "- Devuelve el número de filas a las que les falta un valor para la columna `normalized-losses`. Determine cómo debe manejar esta columna. Podrías:\n",
    "    - Reemplazar los valores faltantes usando los valores promedio de esa columna.\n",
    "    - Descartar las filas por completo (especialmente si a otras columnas de esas filas les faltan valores).\n",
    "    - Quitar la columna por completo.\n",
    "- Explore los valores faltantes para las otras columnas numéricas y maneje los valores faltantes.\n",
    "- De las columnas que decidiste conservar, normaliza las numéricas para que todos los valores oscilen entre 0 y 1."
   ]
  },
  {
   "cell_type": "code",
   "execution_count": 12,
   "metadata": {},
   "outputs": [
    {
     "data": {
      "text/plain": [
       "['normalized_losses',\n",
       " 'make',\n",
       " 'fuel_type',\n",
       " 'aspiration',\n",
       " 'num_doors',\n",
       " 'body_style',\n",
       " 'drive_wheels',\n",
       " 'engine_location',\n",
       " 'engine_type',\n",
       " 'num_of_cylinders',\n",
       " 'fuel_system',\n",
       " 'bore',\n",
       " 'stroke',\n",
       " 'horsepower',\n",
       " 'peak_rpm',\n",
       " 'price']"
      ]
     },
     "execution_count": 12,
     "metadata": {},
     "output_type": "execute_result"
    }
   ],
   "source": [
    "cars.columns[(cars.dtypes == 'object')].values.tolist()"
   ]
  },
  {
   "cell_type": "code",
   "execution_count": 13,
   "metadata": {
    "collapsed": true
   },
   "outputs": [],
   "source": [
    "cars.replace('?', np.nan, inplace=True)"
   ]
  },
  {
   "cell_type": "code",
   "execution_count": 14,
   "metadata": {},
   "outputs": [
    {
     "data": {
      "text/html": [
       "<div>\n",
       "<style scoped>\n",
       "    .dataframe tbody tr th:only-of-type {\n",
       "        vertical-align: middle;\n",
       "    }\n",
       "\n",
       "    .dataframe tbody tr th {\n",
       "        vertical-align: top;\n",
       "    }\n",
       "\n",
       "    .dataframe thead th {\n",
       "        text-align: right;\n",
       "    }\n",
       "</style>\n",
       "<table border=\"1\" class=\"dataframe\">\n",
       "  <thead>\n",
       "    <tr style=\"text-align: right;\">\n",
       "      <th></th>\n",
       "      <th>symboling</th>\n",
       "      <th>normalized_losses</th>\n",
       "      <th>make</th>\n",
       "      <th>fuel_type</th>\n",
       "      <th>aspiration</th>\n",
       "      <th>num_doors</th>\n",
       "      <th>body_style</th>\n",
       "      <th>drive_wheels</th>\n",
       "      <th>engine_location</th>\n",
       "      <th>wheel_base</th>\n",
       "      <th>...</th>\n",
       "      <th>engine_size</th>\n",
       "      <th>fuel_system</th>\n",
       "      <th>bore</th>\n",
       "      <th>stroke</th>\n",
       "      <th>compression_ratio</th>\n",
       "      <th>horsepower</th>\n",
       "      <th>peak_rpm</th>\n",
       "      <th>city_mpg</th>\n",
       "      <th>highway_mpg</th>\n",
       "      <th>price</th>\n",
       "    </tr>\n",
       "  </thead>\n",
       "  <tbody>\n",
       "    <tr>\n",
       "      <th>0</th>\n",
       "      <td>3</td>\n",
       "      <td>NaN</td>\n",
       "      <td>alfa-romero</td>\n",
       "      <td>gas</td>\n",
       "      <td>std</td>\n",
       "      <td>two</td>\n",
       "      <td>convertible</td>\n",
       "      <td>rwd</td>\n",
       "      <td>front</td>\n",
       "      <td>88.6</td>\n",
       "      <td>...</td>\n",
       "      <td>130</td>\n",
       "      <td>mpfi</td>\n",
       "      <td>3.47</td>\n",
       "      <td>2.68</td>\n",
       "      <td>9.0</td>\n",
       "      <td>111</td>\n",
       "      <td>5000</td>\n",
       "      <td>21</td>\n",
       "      <td>27</td>\n",
       "      <td>13495</td>\n",
       "    </tr>\n",
       "    <tr>\n",
       "      <th>1</th>\n",
       "      <td>3</td>\n",
       "      <td>NaN</td>\n",
       "      <td>alfa-romero</td>\n",
       "      <td>gas</td>\n",
       "      <td>std</td>\n",
       "      <td>two</td>\n",
       "      <td>convertible</td>\n",
       "      <td>rwd</td>\n",
       "      <td>front</td>\n",
       "      <td>88.6</td>\n",
       "      <td>...</td>\n",
       "      <td>130</td>\n",
       "      <td>mpfi</td>\n",
       "      <td>3.47</td>\n",
       "      <td>2.68</td>\n",
       "      <td>9.0</td>\n",
       "      <td>111</td>\n",
       "      <td>5000</td>\n",
       "      <td>21</td>\n",
       "      <td>27</td>\n",
       "      <td>16500</td>\n",
       "    </tr>\n",
       "    <tr>\n",
       "      <th>2</th>\n",
       "      <td>1</td>\n",
       "      <td>NaN</td>\n",
       "      <td>alfa-romero</td>\n",
       "      <td>gas</td>\n",
       "      <td>std</td>\n",
       "      <td>two</td>\n",
       "      <td>hatchback</td>\n",
       "      <td>rwd</td>\n",
       "      <td>front</td>\n",
       "      <td>94.5</td>\n",
       "      <td>...</td>\n",
       "      <td>152</td>\n",
       "      <td>mpfi</td>\n",
       "      <td>2.68</td>\n",
       "      <td>3.47</td>\n",
       "      <td>9.0</td>\n",
       "      <td>154</td>\n",
       "      <td>5000</td>\n",
       "      <td>19</td>\n",
       "      <td>26</td>\n",
       "      <td>16500</td>\n",
       "    </tr>\n",
       "    <tr>\n",
       "      <th>3</th>\n",
       "      <td>2</td>\n",
       "      <td>164</td>\n",
       "      <td>audi</td>\n",
       "      <td>gas</td>\n",
       "      <td>std</td>\n",
       "      <td>four</td>\n",
       "      <td>sedan</td>\n",
       "      <td>fwd</td>\n",
       "      <td>front</td>\n",
       "      <td>99.8</td>\n",
       "      <td>...</td>\n",
       "      <td>109</td>\n",
       "      <td>mpfi</td>\n",
       "      <td>3.19</td>\n",
       "      <td>3.40</td>\n",
       "      <td>10.0</td>\n",
       "      <td>102</td>\n",
       "      <td>5500</td>\n",
       "      <td>24</td>\n",
       "      <td>30</td>\n",
       "      <td>13950</td>\n",
       "    </tr>\n",
       "    <tr>\n",
       "      <th>4</th>\n",
       "      <td>2</td>\n",
       "      <td>164</td>\n",
       "      <td>audi</td>\n",
       "      <td>gas</td>\n",
       "      <td>std</td>\n",
       "      <td>four</td>\n",
       "      <td>sedan</td>\n",
       "      <td>4wd</td>\n",
       "      <td>front</td>\n",
       "      <td>99.4</td>\n",
       "      <td>...</td>\n",
       "      <td>136</td>\n",
       "      <td>mpfi</td>\n",
       "      <td>3.19</td>\n",
       "      <td>3.40</td>\n",
       "      <td>8.0</td>\n",
       "      <td>115</td>\n",
       "      <td>5500</td>\n",
       "      <td>18</td>\n",
       "      <td>22</td>\n",
       "      <td>17450</td>\n",
       "    </tr>\n",
       "  </tbody>\n",
       "</table>\n",
       "<p>5 rows × 26 columns</p>\n",
       "</div>"
      ],
      "text/plain": [
       "   symboling normalized_losses         make fuel_type aspiration num_doors  \\\n",
       "0          3               NaN  alfa-romero       gas        std       two   \n",
       "1          3               NaN  alfa-romero       gas        std       two   \n",
       "2          1               NaN  alfa-romero       gas        std       two   \n",
       "3          2               164         audi       gas        std      four   \n",
       "4          2               164         audi       gas        std      four   \n",
       "\n",
       "    body_style drive_wheels engine_location  wheel_base  ...    engine_size  \\\n",
       "0  convertible          rwd           front        88.6  ...            130   \n",
       "1  convertible          rwd           front        88.6  ...            130   \n",
       "2    hatchback          rwd           front        94.5  ...            152   \n",
       "3        sedan          fwd           front        99.8  ...            109   \n",
       "4        sedan          4wd           front        99.4  ...            136   \n",
       "\n",
       "   fuel_system  bore  stroke compression_ratio horsepower  peak_rpm city_mpg  \\\n",
       "0         mpfi  3.47    2.68               9.0        111      5000       21   \n",
       "1         mpfi  3.47    2.68               9.0        111      5000       21   \n",
       "2         mpfi  2.68    3.47               9.0        154      5000       19   \n",
       "3         mpfi  3.19    3.40              10.0        102      5500       24   \n",
       "4         mpfi  3.19    3.40               8.0        115      5500       18   \n",
       "\n",
       "  highway_mpg  price  \n",
       "0          27  13495  \n",
       "1          27  16500  \n",
       "2          26  16500  \n",
       "3          30  13950  \n",
       "4          22  17450  \n",
       "\n",
       "[5 rows x 26 columns]"
      ]
     },
     "execution_count": 14,
     "metadata": {},
     "output_type": "execute_result"
    }
   ],
   "source": [
    "cars.head()"
   ]
  },
  {
   "cell_type": "code",
   "execution_count": 15,
   "metadata": {},
   "outputs": [
    {
     "name": "stdout",
     "output_type": "stream",
     "text": [
      "<class 'pandas.core.frame.DataFrame'>\n",
      "RangeIndex: 205 entries, 0 to 204\n",
      "Data columns (total 26 columns):\n",
      "symboling            205 non-null int64\n",
      "normalized_losses    164 non-null object\n",
      "make                 205 non-null object\n",
      "fuel_type            205 non-null object\n",
      "aspiration           205 non-null object\n",
      "num_doors            203 non-null object\n",
      "body_style           205 non-null object\n",
      "drive_wheels         205 non-null object\n",
      "engine_location      205 non-null object\n",
      "wheel_base           205 non-null float64\n",
      "length               205 non-null float64\n",
      "width                205 non-null float64\n",
      "height               205 non-null float64\n",
      "curb_weight          205 non-null int64\n",
      "engine_type          205 non-null object\n",
      "num_of_cylinders     205 non-null object\n",
      "engine_size          205 non-null int64\n",
      "fuel_system          205 non-null object\n",
      "bore                 201 non-null object\n",
      "stroke               201 non-null object\n",
      "compression_ratio    205 non-null float64\n",
      "horsepower           203 non-null object\n",
      "peak_rpm             203 non-null object\n",
      "city_mpg             205 non-null int64\n",
      "highway_mpg          205 non-null int64\n",
      "price                201 non-null object\n",
      "dtypes: float64(5), int64(5), object(16)\n",
      "memory usage: 41.7+ KB\n"
     ]
    }
   ],
   "source": [
    "cars.info()"
   ]
  },
  {
   "cell_type": "code",
   "execution_count": 16,
   "metadata": {},
   "outputs": [
    {
     "data": {
      "text/plain": [
       "5"
      ]
     },
     "execution_count": 16,
     "metadata": {},
     "output_type": "execute_result"
    }
   ],
   "source": [
    "cars.columns[cars.dtypes == 'int'].size"
   ]
  },
  {
   "cell_type": "code",
   "execution_count": 17,
   "metadata": {},
   "outputs": [
    {
     "data": {
      "text/plain": [
       "array(['symboling', 'curb_weight', 'engine_size', 'city_mpg',\n",
       "       'highway_mpg'], dtype=object)"
      ]
     },
     "execution_count": 17,
     "metadata": {},
     "output_type": "execute_result"
    }
   ],
   "source": [
    "cars.columns[cars.dtypes == 'int'].values"
   ]
  },
  {
   "cell_type": "code",
   "execution_count": 18,
   "metadata": {},
   "outputs": [
    {
     "data": {
      "text/plain": [
       "5"
      ]
     },
     "execution_count": 18,
     "metadata": {},
     "output_type": "execute_result"
    }
   ],
   "source": [
    "cars.columns[cars.dtypes == 'float'].size"
   ]
  },
  {
   "cell_type": "code",
   "execution_count": 19,
   "metadata": {},
   "outputs": [
    {
     "data": {
      "text/plain": [
       "['wheel_base', 'length', 'width', 'height', 'compression_ratio']"
      ]
     },
     "execution_count": 19,
     "metadata": {},
     "output_type": "execute_result"
    }
   ],
   "source": [
    "cars.columns[cars.dtypes == 'float'].values.tolist()"
   ]
  },
  {
   "cell_type": "code",
   "execution_count": 20,
   "metadata": {},
   "outputs": [
    {
     "data": {
      "text/plain": [
       "['normalized_losses',\n",
       " 'make',\n",
       " 'fuel_type',\n",
       " 'aspiration',\n",
       " 'num_doors',\n",
       " 'body_style',\n",
       " 'drive_wheels',\n",
       " 'engine_location',\n",
       " 'engine_type',\n",
       " 'num_of_cylinders',\n",
       " 'fuel_system',\n",
       " 'bore',\n",
       " 'stroke',\n",
       " 'horsepower',\n",
       " 'peak_rpm',\n",
       " 'price']"
      ]
     },
     "execution_count": 20,
     "metadata": {},
     "output_type": "execute_result"
    }
   ],
   "source": [
    "cars.columns[cars.dtypes == 'object'].values.tolist()"
   ]
  },
  {
   "cell_type": "code",
   "execution_count": 21,
   "metadata": {},
   "outputs": [
    {
     "data": {
      "text/plain": [
       "16"
      ]
     },
     "execution_count": 21,
     "metadata": {},
     "output_type": "execute_result"
    }
   ],
   "source": [
    "cars.columns[cars.dtypes == 'object'].size"
   ]
  },
  {
   "cell_type": "code",
   "execution_count": 22,
   "metadata": {
    "collapsed": true
   },
   "outputs": [],
   "source": [
    "cols_to_numeric = [\n",
    "    'curb_weight', \n",
    "    'engine_size', \n",
    "    'city_mpg',\n",
    "    'highway_mpg',\n",
    "    'normalized_losses',                                             \n",
    "    'bore',\n",
    "    'stroke',\n",
    "    'horsepower',\n",
    "    'peak_rpm',\n",
    "    'price',\n",
    "]"
   ]
  },
  {
   "cell_type": "code",
   "execution_count": 23,
   "metadata": {},
   "outputs": [],
   "source": [
    "cars[cols_to_numeric] = cars[cols_to_numeric].astype('float')"
   ]
  },
  {
   "cell_type": "code",
   "execution_count": 24,
   "metadata": {},
   "outputs": [
    {
     "data": {
      "text/plain": [
       "symboling              int64\n",
       "normalized_losses    float64\n",
       "make                  object\n",
       "fuel_type             object\n",
       "aspiration            object\n",
       "num_doors             object\n",
       "body_style            object\n",
       "drive_wheels          object\n",
       "engine_location       object\n",
       "wheel_base           float64\n",
       "length               float64\n",
       "width                float64\n",
       "height               float64\n",
       "curb_weight          float64\n",
       "engine_type           object\n",
       "num_of_cylinders      object\n",
       "engine_size          float64\n",
       "fuel_system           object\n",
       "bore                 float64\n",
       "stroke               float64\n",
       "compression_ratio    float64\n",
       "horsepower           float64\n",
       "peak_rpm             float64\n",
       "city_mpg             float64\n",
       "highway_mpg          float64\n",
       "price                float64\n",
       "dtype: object"
      ]
     },
     "execution_count": 24,
     "metadata": {},
     "output_type": "execute_result"
    }
   ],
   "source": [
    "cars.dtypes"
   ]
  },
  {
   "cell_type": "code",
   "execution_count": 25,
   "metadata": {},
   "outputs": [
    {
     "name": "stdout",
     "output_type": "stream",
     "text": [
      "15\n",
      "1\n",
      "10\n"
     ]
    }
   ],
   "source": [
    "print(cars.columns[cars.dtypes == 'float'].size)\n",
    "print(cars.columns[cars.dtypes == 'int'].size)\n",
    "print(cars.columns[cars.dtypes == 'object'].size)"
   ]
  },
  {
   "cell_type": "code",
   "execution_count": 26,
   "metadata": {},
   "outputs": [
    {
     "name": "stdout",
     "output_type": "stream",
     "text": [
      "Number of missing values:\n"
     ]
    },
    {
     "data": {
      "text/plain": [
       "symboling             0\n",
       "normalized_losses    41\n",
       "make                  0\n",
       "fuel_type             0\n",
       "aspiration            0\n",
       "num_doors             2\n",
       "body_style            0\n",
       "drive_wheels          0\n",
       "engine_location       0\n",
       "wheel_base            0\n",
       "length                0\n",
       "width                 0\n",
       "height                0\n",
       "curb_weight           0\n",
       "engine_type           0\n",
       "num_of_cylinders      0\n",
       "engine_size           0\n",
       "fuel_system           0\n",
       "bore                  4\n",
       "stroke                4\n",
       "compression_ratio     0\n",
       "horsepower            2\n",
       "peak_rpm              2\n",
       "city_mpg              0\n",
       "highway_mpg           0\n",
       "price                 4\n",
       "dtype: int64"
      ]
     },
     "execution_count": 26,
     "metadata": {},
     "output_type": "execute_result"
    }
   ],
   "source": [
    "print('Number of missing values:')\n",
    "cars.isnull().sum()"
   ]
  },
  {
   "cell_type": "code",
   "execution_count": 27,
   "metadata": {},
   "outputs": [
    {
     "name": "stdout",
     "output_type": "stream",
     "text": [
      "Number of missing values:\n"
     ]
    },
    {
     "data": {
      "text/plain": [
       "symboling            0.00\n",
       "normalized_losses    0.20\n",
       "make                 0.00\n",
       "fuel_type            0.00\n",
       "aspiration           0.00\n",
       "num_doors            0.01\n",
       "body_style           0.00\n",
       "drive_wheels         0.00\n",
       "engine_location      0.00\n",
       "wheel_base           0.00\n",
       "length               0.00\n",
       "width                0.00\n",
       "height               0.00\n",
       "curb_weight          0.00\n",
       "engine_type          0.00\n",
       "num_of_cylinders     0.00\n",
       "engine_size          0.00\n",
       "fuel_system          0.00\n",
       "bore                 0.02\n",
       "stroke               0.02\n",
       "compression_ratio    0.00\n",
       "horsepower           0.01\n",
       "peak_rpm             0.01\n",
       "city_mpg             0.00\n",
       "highway_mpg          0.00\n",
       "price                0.02\n",
       "dtype: float64"
      ]
     },
     "execution_count": 27,
     "metadata": {},
     "output_type": "execute_result"
    }
   ],
   "source": [
    "print('Number of missing values:')\n",
    "(cars.isnull().sum() / len(cars)).round(3)"
   ]
  },
  {
   "cell_type": "code",
   "execution_count": 28,
   "metadata": {},
   "outputs": [
    {
     "data": {
      "image/png": "[encoded data removed]",
      "text/plain": [
       "<matplotlib.figure.Figure at 0x7f4b66cd5470>"
      ]
     },
     "metadata": {},
     "output_type": "display_data"
    }
   ],
   "source": [
    "cars['normalized_losses'].plot(kind='hist')\n",
    "plt.show()"
   ]
  },
  {
   "cell_type": "code",
   "execution_count": 29,
   "metadata": {},
   "outputs": [
    {
     "data": {
      "text/plain": [
       "(64.80799999999999, 84.1]    17\n",
       "(84.1, 103.2]                46\n",
       "(103.2, 122.3]               31\n",
       "(122.3, 141.4]               20\n",
       "(141.4, 160.5]               21\n",
       "(160.5, 179.6]               18\n",
       "(179.6, 198.7]                9\n",
       "(198.7, 217.8]                0\n",
       "(217.8, 236.9]                1\n",
       "(236.9, 256.0]                1\n",
       "Name: normalized_losses, dtype: int64"
      ]
     },
     "execution_count": 29,
     "metadata": {},
     "output_type": "execute_result"
    }
   ],
   "source": [
    "cars['normalized_losses'].value_counts(bins=10).sort_index()"
   ]
  },
  {
   "cell_type": "code",
   "execution_count": 30,
   "metadata": {},
   "outputs": [
    {
     "data": {
      "image/png": "[encoded data removed]",
      "text/plain": [
       "<matplotlib.figure.Figure at 0x7f4b64c07ef0>"
      ]
     },
     "metadata": {},
     "output_type": "display_data"
    }
   ],
   "source": [
    "cars.loc[cars['normalized_losses'].between(84, 122), 'normalized_losses'].hist(grid=False)\n",
    "plt.show()"
   ]
  },
  {
   "cell_type": "code",
   "execution_count": 31,
   "metadata": {
    "scrolled": true
   },
   "outputs": [
    {
     "data": {
      "text/plain": [
       "count    164.000000\n",
       "mean     122.000000\n",
       "std       35.442168\n",
       "min       65.000000\n",
       "25%       94.000000\n",
       "50%      115.000000\n",
       "75%      150.000000\n",
       "max      256.000000\n",
       "Name: normalized_losses, dtype: float64"
      ]
     },
     "execution_count": 31,
     "metadata": {},
     "output_type": "execute_result"
    }
   ],
   "source": [
    "cars['normalized_losses'].describe()"
   ]
  },
  {
   "cell_type": "code",
   "execution_count": 32,
   "metadata": {},
   "outputs": [],
   "source": [
    "cars.loc[cars['normalized_losses'].isnull(), 'normalized_losses'] = cars['normalized_losses'].median()"
   ]
  },
  {
   "cell_type": "code",
   "execution_count": 33,
   "metadata": {},
   "outputs": [
    {
     "data": {
      "text/plain": [
       "0"
      ]
     },
     "execution_count": 33,
     "metadata": {},
     "output_type": "execute_result"
    }
   ],
   "source": [
    "cars['normalized_losses'].isnull().sum()"
   ]
  },
  {
   "cell_type": "code",
   "execution_count": 34,
   "metadata": {},
   "outputs": [
    {
     "data": {
      "text/plain": [
       "['num_doors', 'bore', 'stroke', 'horsepower', 'peak_rpm', 'price']"
      ]
     },
     "execution_count": 34,
     "metadata": {},
     "output_type": "execute_result"
    }
   ],
   "source": [
    "cars.columns[cars.isnull().any()].values.tolist()"
   ]
  },
  {
   "cell_type": "code",
   "execution_count": 35,
   "metadata": {},
   "outputs": [],
   "source": [
    "cars.dropna(inplace=True)"
   ]
  },
  {
   "cell_type": "code",
   "execution_count": 36,
   "metadata": {},
   "outputs": [
    {
     "name": "stdout",
     "output_type": "stream",
     "text": [
      "<class 'pandas.core.frame.DataFrame'>\n",
      "Int64Index: 193 entries, 0 to 204\n",
      "Data columns (total 26 columns):\n",
      "symboling            193 non-null int64\n",
      "normalized_losses    193 non-null float64\n",
      "make                 193 non-null object\n",
      "fuel_type            193 non-null object\n",
      "aspiration           193 non-null object\n",
      "num_doors            193 non-null object\n",
      "body_style           193 non-null object\n",
      "drive_wheels         193 non-null object\n",
      "engine_location      193 non-null object\n",
      "wheel_base           193 non-null float64\n",
      "length               193 non-null float64\n",
      "width                193 non-null float64\n",
      "height               193 non-null float64\n",
      "curb_weight          193 non-null float64\n",
      "engine_type          193 non-null object\n",
      "num_of_cylinders     193 non-null object\n",
      "engine_size          193 non-null float64\n",
      "fuel_system          193 non-null object\n",
      "bore                 193 non-null float64\n",
      "stroke               193 non-null float64\n",
      "compression_ratio    193 non-null float64\n",
      "horsepower           193 non-null float64\n",
      "peak_rpm             193 non-null float64\n",
      "city_mpg             193 non-null float64\n",
      "highway_mpg          193 non-null float64\n",
      "price                193 non-null float64\n",
      "dtypes: float64(15), int64(1), object(10)\n",
      "memory usage: 40.7+ KB\n"
     ]
    }
   ],
   "source": [
    "cars.info()"
   ]
  },
  {
   "cell_type": "code",
   "execution_count": 37,
   "metadata": {},
   "outputs": [
    {
     "name": "stdout",
     "output_type": "stream",
     "text": [
      "12\n",
      "0.05853658536585366\n",
      "0.9414634146341463\n"
     ]
    }
   ],
   "source": [
    "print(205 - 193)\n",
    "print(12/205)\n",
    "print(193/205)"
   ]
  },
  {
   "cell_type": "code",
   "execution_count": 38,
   "metadata": {},
   "outputs": [
    {
     "data": {
      "text/plain": [
       "['normalized_losses',\n",
       " 'wheel_base',\n",
       " 'length',\n",
       " 'width',\n",
       " 'height',\n",
       " 'curb_weight',\n",
       " 'engine_size',\n",
       " 'bore',\n",
       " 'stroke',\n",
       " 'compression_ratio',\n",
       " 'horsepower',\n",
       " 'peak_rpm',\n",
       " 'city_mpg',\n",
       " 'highway_mpg',\n",
       " 'price']"
      ]
     },
     "execution_count": 38,
     "metadata": {},
     "output_type": "execute_result"
    }
   ],
   "source": [
    "cars.columns[cars.dtypes == 'float'].values.tolist()"
   ]
  },
  {
   "cell_type": "code",
   "execution_count": 39,
   "metadata": {},
   "outputs": [
    {
     "name": "stdout",
     "output_type": "stream",
     "text": [
      "<class 'pandas.core.frame.DataFrame'>\n",
      "Int64Index: 193 entries, 0 to 204\n",
      "Data columns (total 15 columns):\n",
      "normalized_losses    193 non-null float64\n",
      "wheel_base           193 non-null float64\n",
      "length               193 non-null float64\n",
      "width                193 non-null float64\n",
      "height               193 non-null float64\n",
      "curb_weight          193 non-null float64\n",
      "engine_size          193 non-null float64\n",
      "bore                 193 non-null float64\n",
      "stroke               193 non-null float64\n",
      "compression_ratio    193 non-null float64\n",
      "horsepower           193 non-null float64\n",
      "peak_rpm             193 non-null float64\n",
      "city_mpg             193 non-null float64\n",
      "highway_mpg          193 non-null float64\n",
      "price                193 non-null float64\n",
      "dtypes: float64(15)\n",
      "memory usage: 24.1 KB\n"
     ]
    }
   ],
   "source": [
    "cars2 = cars[cars.columns[cars.dtypes == 'float'].values.tolist()].copy()\n",
    "cars2.info()"
   ]
  },
  {
   "cell_type": "code",
   "execution_count": 40,
   "metadata": {},
   "outputs": [],
   "source": [
    "normalized_data = MinMaxScaler().fit_transform(cars2.drop(labels='price', axis='columns'))\n",
    "\n"
   ]
  },
  {
   "cell_type": "code",
   "execution_count": 41,
   "metadata": {},
   "outputs": [],
   "source": [
    "cars2[cars2.drop(labels='price', axis='columns').columns]   = normalized_data"
   ]
  },
  {
   "cell_type": "code",
   "execution_count": 42,
   "metadata": {},
   "outputs": [
    {
     "data": {
      "text/html": [
       "<div>\n",
       "<style scoped>\n",
       "    .dataframe tbody tr th:only-of-type {\n",
       "        vertical-align: middle;\n",
       "    }\n",
       "\n",
       "    .dataframe tbody tr th {\n",
       "        vertical-align: top;\n",
       "    }\n",
       "\n",
       "    .dataframe thead th {\n",
       "        text-align: right;\n",
       "    }\n",
       "</style>\n",
       "<table border=\"1\" class=\"dataframe\">\n",
       "  <thead>\n",
       "    <tr style=\"text-align: right;\">\n",
       "      <th></th>\n",
       "      <th>normalized_losses</th>\n",
       "      <th>wheel_base</th>\n",
       "      <th>length</th>\n",
       "      <th>width</th>\n",
       "      <th>height</th>\n",
       "      <th>curb_weight</th>\n",
       "      <th>engine_size</th>\n",
       "      <th>bore</th>\n",
       "      <th>stroke</th>\n",
       "      <th>compression_ratio</th>\n",
       "      <th>horsepower</th>\n",
       "      <th>peak_rpm</th>\n",
       "      <th>city_mpg</th>\n",
       "      <th>highway_mpg</th>\n",
       "      <th>price</th>\n",
       "    </tr>\n",
       "  </thead>\n",
       "  <tbody>\n",
       "    <tr>\n",
       "      <th>count</th>\n",
       "      <td>193.000000</td>\n",
       "      <td>193.000000</td>\n",
       "      <td>193.000000</td>\n",
       "      <td>193.000000</td>\n",
       "      <td>193.000000</td>\n",
       "      <td>193.000000</td>\n",
       "      <td>193.000000</td>\n",
       "      <td>193.000000</td>\n",
       "      <td>193.000000</td>\n",
       "      <td>193.000000</td>\n",
       "      <td>193.000000</td>\n",
       "      <td>193.000000</td>\n",
       "      <td>193.000000</td>\n",
       "      <td>193.000000</td>\n",
       "      <td>193.000000</td>\n",
       "    </tr>\n",
       "    <tr>\n",
       "      <th>mean</th>\n",
       "      <td>0.288229</td>\n",
       "      <td>0.359295</td>\n",
       "      <td>0.495917</td>\n",
       "      <td>0.478101</td>\n",
       "      <td>0.505829</td>\n",
       "      <td>0.416411</td>\n",
       "      <td>0.253299</td>\n",
       "      <td>0.564730</td>\n",
       "      <td>0.561362</td>\n",
       "      <td>0.196477</td>\n",
       "      <td>0.259261</td>\n",
       "      <td>0.387649</td>\n",
       "      <td>0.342401</td>\n",
       "      <td>0.389146</td>\n",
       "      <td>13285.025907</td>\n",
       "    </tr>\n",
       "    <tr>\n",
       "      <th>std</th>\n",
       "      <td>0.169768</td>\n",
       "      <td>0.179371</td>\n",
       "      <td>0.186248</td>\n",
       "      <td>0.182718</td>\n",
       "      <td>0.199564</td>\n",
       "      <td>0.204306</td>\n",
       "      <td>0.156945</td>\n",
       "      <td>0.194560</td>\n",
       "      <td>0.150200</td>\n",
       "      <td>0.248593</td>\n",
       "      <td>0.177384</td>\n",
       "      <td>0.191304</td>\n",
       "      <td>0.177440</td>\n",
       "      <td>0.179392</td>\n",
       "      <td>8089.082886</td>\n",
       "    </tr>\n",
       "    <tr>\n",
       "      <th>min</th>\n",
       "      <td>0.000000</td>\n",
       "      <td>0.000000</td>\n",
       "      <td>0.000000</td>\n",
       "      <td>0.000000</td>\n",
       "      <td>0.000000</td>\n",
       "      <td>0.000000</td>\n",
       "      <td>0.000000</td>\n",
       "      <td>0.000000</td>\n",
       "      <td>0.000000</td>\n",
       "      <td>0.000000</td>\n",
       "      <td>0.000000</td>\n",
       "      <td>0.000000</td>\n",
       "      <td>0.000000</td>\n",
       "      <td>0.000000</td>\n",
       "      <td>5118.000000</td>\n",
       "    </tr>\n",
       "    <tr>\n",
       "      <th>25%</th>\n",
       "      <td>0.157068</td>\n",
       "      <td>0.230321</td>\n",
       "      <td>0.376119</td>\n",
       "      <td>0.324786</td>\n",
       "      <td>0.350000</td>\n",
       "      <td>0.254849</td>\n",
       "      <td>0.139623</td>\n",
       "      <td>0.435714</td>\n",
       "      <td>0.495238</td>\n",
       "      <td>0.093750</td>\n",
       "      <td>0.102804</td>\n",
       "      <td>0.265306</td>\n",
       "      <td>0.166667</td>\n",
       "      <td>0.236842</td>\n",
       "      <td>7738.000000</td>\n",
       "    </tr>\n",
       "    <tr>\n",
       "      <th>50%</th>\n",
       "      <td>0.261780</td>\n",
       "      <td>0.303207</td>\n",
       "      <td>0.479104</td>\n",
       "      <td>0.435897</td>\n",
       "      <td>0.525000</td>\n",
       "      <td>0.359193</td>\n",
       "      <td>0.222642</td>\n",
       "      <td>0.550000</td>\n",
       "      <td>0.580952</td>\n",
       "      <td>0.125000</td>\n",
       "      <td>0.219626</td>\n",
       "      <td>0.387755</td>\n",
       "      <td>0.333333</td>\n",
       "      <td>0.368421</td>\n",
       "      <td>10245.000000</td>\n",
       "    </tr>\n",
       "    <tr>\n",
       "      <th>75%</th>\n",
       "      <td>0.361257</td>\n",
       "      <td>0.460641</td>\n",
       "      <td>0.649254</td>\n",
       "      <td>0.564103</td>\n",
       "      <td>0.658333</td>\n",
       "      <td>0.567882</td>\n",
       "      <td>0.320755</td>\n",
       "      <td>0.750000</td>\n",
       "      <td>0.638095</td>\n",
       "      <td>0.150000</td>\n",
       "      <td>0.317757</td>\n",
       "      <td>0.551020</td>\n",
       "      <td>0.472222</td>\n",
       "      <td>0.473684</td>\n",
       "      <td>16515.000000</td>\n",
       "    </tr>\n",
       "    <tr>\n",
       "      <th>max</th>\n",
       "      <td>1.000000</td>\n",
       "      <td>1.000000</td>\n",
       "      <td>1.000000</td>\n",
       "      <td>1.000000</td>\n",
       "      <td>1.000000</td>\n",
       "      <td>1.000000</td>\n",
       "      <td>1.000000</td>\n",
       "      <td>1.000000</td>\n",
       "      <td>1.000000</td>\n",
       "      <td>1.000000</td>\n",
       "      <td>1.000000</td>\n",
       "      <td>1.000000</td>\n",
       "      <td>1.000000</td>\n",
       "      <td>1.000000</td>\n",
       "      <td>45400.000000</td>\n",
       "    </tr>\n",
       "  </tbody>\n",
       "</table>\n",
       "</div>"
      ],
      "text/plain": [
       "       normalized_losses  wheel_base      length       width      height  \\\n",
       "count         193.000000  193.000000  193.000000  193.000000  193.000000   \n",
       "mean            0.288229    0.359295    0.495917    0.478101    0.505829   \n",
       "std             0.169768    0.179371    0.186248    0.182718    0.199564   \n",
       "min             0.000000    0.000000    0.000000    0.000000    0.000000   \n",
       "25%             0.157068    0.230321    0.376119    0.324786    0.350000   \n",
       "50%             0.261780    0.303207    0.479104    0.435897    0.525000   \n",
       "75%             0.361257    0.460641    0.649254    0.564103    0.658333   \n",
       "max             1.000000    1.000000    1.000000    1.000000    1.000000   \n",
       "\n",
       "       curb_weight  engine_size        bore      stroke  compression_ratio  \\\n",
       "count   193.000000   193.000000  193.000000  193.000000         193.000000   \n",
       "mean      0.416411     0.253299    0.564730    0.561362           0.196477   \n",
       "std       0.204306     0.156945    0.194560    0.150200           0.248593   \n",
       "min       0.000000     0.000000    0.000000    0.000000           0.000000   \n",
       "25%       0.254849     0.139623    0.435714    0.495238           0.093750   \n",
       "50%       0.359193     0.222642    0.550000    0.580952           0.125000   \n",
       "75%       0.567882     0.320755    0.750000    0.638095           0.150000   \n",
       "max       1.000000     1.000000    1.000000    1.000000           1.000000   \n",
       "\n",
       "       horsepower    peak_rpm    city_mpg  highway_mpg         price  \n",
       "count  193.000000  193.000000  193.000000   193.000000    193.000000  \n",
       "mean     0.259261    0.387649    0.342401     0.389146  13285.025907  \n",
       "std      0.177384    0.191304    0.177440     0.179392   8089.082886  \n",
       "min      0.000000    0.000000    0.000000     0.000000   5118.000000  \n",
       "25%      0.102804    0.265306    0.166667     0.236842   7738.000000  \n",
       "50%      0.219626    0.387755    0.333333     0.368421  10245.000000  \n",
       "75%      0.317757    0.551020    0.472222     0.473684  16515.000000  \n",
       "max      1.000000    1.000000    1.000000     1.000000  45400.000000  "
      ]
     },
     "execution_count": 42,
     "metadata": {},
     "output_type": "execute_result"
    }
   ],
   "source": [
    "cars2.describe()"
   ]
  },
  {
   "cell_type": "markdown",
   "metadata": {},
   "source": [
    "## 03. Modelo Univariado"
   ]
  },
  {
   "cell_type": "markdown",
   "metadata": {
    "collapsed": true
   },
   "source": [
    "- Cree una función llamada `knn_train_test()` que encapsule el proceso de capacitación y validación simple. Esta función debe tener 3 parámetros: el nombre de la columna de entrenamiento, el nombre de la columna objetivo (target) y dataframe.\n",
    "\n",
    "    - Esta función debe dividir el conjunto de datos en un conjunto de entrenamiento y otro de prueba.\n",
    "    - Luego, debe instanciar la clase KNeighborsRegressor, ajustar el modelo en el conjunto de entrenamiento y hacer predicciones en el conjunto de prueba.\n",
    "    - Finalmente, debe calcular el RMSE y devolver ese valor.\n",
    "\n",
    "- Use esta función para entrenar y probar modelos univariados usando las diferentes columnas numéricas en el conjunto de datos. ¿Qué columna funcionó mejor usando el valor `k` predeterminado?\n",
    "\n",
    "- Modifique la función `knn_train_test()` que escribió para aceptar un parámetro para el valor k.\n",
    "    - Actualice la lógica de la función para usar este parámetro.\n",
    "    - Para cada columna numérica, cree, entrene y pruebe un modelo univariante utilizando los siguientes valores `k` (`1`, `3`, `5`, `7` y `9`). Visualice los resultados mediante un diagrama de dispersión o un diagrama de líneas."
   ]
  },
  {
   "cell_type": "code",
   "execution_count": 44,
   "metadata": {},
   "outputs": [
    {
     "name": "stdout",
     "output_type": "stream",
     "text": [
      "(193, 15)\n",
      "96.5\n"
     ]
    }
   ],
   "source": [
    "print(cars2.shape)\n",
    "print(cars2.shape[0] / 2)"
   ]
  },
  {
   "cell_type": "code",
   "execution_count": 151,
   "metadata": {},
   "outputs": [
    {
     "name": "stdout",
     "output_type": "stream",
     "text": [
      "Int64Index([ 82, 175,  17,  43, 142,  53,  33, 105, 159, 114,\n",
      "            ...\n",
      "             70,  47,  97, 117, 128, 202,  95,   5, 102, 153],\n",
      "           dtype='int64', length=193)\n"
     ]
    }
   ],
   "source": [
    "print(cars2.loc[np.random.permutation(cars2.index)].index)"
   ]
  },
  {
   "cell_type": "code",
   "execution_count": 185,
   "metadata": {
    "collapsed": true
   },
   "outputs": [],
   "source": [
    "np.random.seed(2021)\n",
    "def knn_train_test(train_col, target_col, df):        \n",
    "    df = df.loc[np.random.permutation(cars2.index)]\n",
    "    train_df = df.iloc[:96]\n",
    "    test_df = df.iloc[96:]\n",
    "    knn = KNeighborsRegressor(n_neighbors=5, algorithm='brute')\n",
    "    knn.fit(train_df[[train_col]], train_df[[target_col]])\n",
    "    predictions = knn.predict(test_df[[train_col]])\n",
    "    mse = mean_squared_error(test_df[target_col], predictions)\n",
    "    return np.sqrt(mse)"
   ]
  },
  {
   "cell_type": "code",
   "execution_count": 186,
   "metadata": {},
   "outputs": [],
   "source": [
    "# print(cars2.columns.size)\n",
    "# print(cars2.drop(columns='price').columns.size)\n",
    "rmses = {column:knn_train_test(column, 'price', cars2) for column in cars2.drop(columns='price').columns}"
   ]
  },
  {
   "cell_type": "code",
   "execution_count": 199,
   "metadata": {},
   "outputs": [
    {
     "name": "stdout",
     "output_type": "stream",
     "text": [
      "engine_size          3419.753639\n",
      "city_mpg             3665.811395\n",
      "curb_weight          4133.453012\n",
      "horsepower           4254.782370\n",
      "highway_mpg          4769.273884\n",
      "width                4817.643564\n",
      "length               5157.064751\n",
      "bore                 6096.698536\n",
      "compression_ratio    6309.956494\n",
      "wheel_base           6423.863834\n",
      "normalized_losses    6644.193506\n",
      "stroke               6973.838063\n",
      "height               7322.155236\n",
      "peak_rpm             7682.025436\n",
      "dtype: float64\n"
     ]
    }
   ],
   "source": [
    "rmse_series = pd.Series(rmses)\n",
    "print(rmse_series.sort_values())"
   ]
  },
  {
   "cell_type": "code",
   "execution_count": 205,
   "metadata": {},
   "outputs": [
    {
     "name": "stdout",
     "output_type": "stream",
     "text": [
      "['engine_size', 'city_mpg', 'curb_weight', 'horsepower', 'highway_mpg', 'width', 'length', 'bore', 'compression_ratio', 'wheel_base', 'normalized_losses', 'stroke', 'height', 'peak_rpm']\n"
     ]
    }
   ],
   "source": [
    "print(rmse_series.sort_values().index.values.tolist())"
   ]
  },
  {
   "cell_type": "code",
   "execution_count": 188,
   "metadata": {},
   "outputs": [
    {
     "data": {
      "image/png": "[encoded data removed]",
      "text/plain": [
       "<matplotlib.figure.Figure at 0x7f4ba06273c8>"
      ]
     },
     "metadata": {},
     "output_type": "display_data"
    }
   ],
   "source": [
    "rmse_series.sort_values(ascending=False).plot(kind='barh')\n",
    "plt.show()"
   ]
  },
  {
   "cell_type": "code",
   "execution_count": 189,
   "metadata": {
    "collapsed": true
   },
   "outputs": [],
   "source": [
    "np.random.seed(2021)\n",
    "def knn_train_test(train_col, target_col, df, k):\n",
    "    df = df.loc[np.random.permutation(cars2.index)]\n",
    "    train_df = df.iloc[:96]\n",
    "    test_df = df.iloc[96:]\n",
    "    rmse_list = []\n",
    "    for neighbor in k:\n",
    "        knn = KNeighborsRegressor(n_neighbors=neighbor, algorithm='brute')\n",
    "        knn.fit(train_df[[train_col]], train_df[[target_col]])\n",
    "        predictions = knn.predict(test_df[[train_col]])\n",
    "        mse = mean_squared_error(test_df[target_col], predictions)\n",
    "        rmse_list.append(np.sqrt(mse))\n",
    "    return rmse_list"
   ]
  },
  {
   "cell_type": "code",
   "execution_count": 190,
   "metadata": {
    "collapsed": true
   },
   "outputs": [],
   "source": [
    "train_cols = cars2.drop(columns='price').columns\n",
    "neighbor_list = [1, 3, 5, 7, 9]"
   ]
  },
  {
   "cell_type": "code",
   "execution_count": 191,
   "metadata": {},
   "outputs": [],
   "source": [
    "rmses_several_k = {column:knn_train_test(column, 'price', cars2, k=neighbor_list) for column in train_cols}"
   ]
  },
  {
   "cell_type": "code",
   "execution_count": 192,
   "metadata": {},
   "outputs": [
    {
     "data": {
      "text/html": [
       "<div>\n",
       "<style scoped>\n",
       "    .dataframe tbody tr th:only-of-type {\n",
       "        vertical-align: middle;\n",
       "    }\n",
       "\n",
       "    .dataframe tbody tr th {\n",
       "        vertical-align: top;\n",
       "    }\n",
       "\n",
       "    .dataframe thead th {\n",
       "        text-align: right;\n",
       "    }\n",
       "</style>\n",
       "<table border=\"1\" class=\"dataframe\">\n",
       "  <thead>\n",
       "    <tr style=\"text-align: right;\">\n",
       "      <th></th>\n",
       "      <th>bore</th>\n",
       "      <th>city_mpg</th>\n",
       "      <th>compression_ratio</th>\n",
       "      <th>curb_weight</th>\n",
       "      <th>engine_size</th>\n",
       "      <th>height</th>\n",
       "      <th>highway_mpg</th>\n",
       "      <th>horsepower</th>\n",
       "      <th>length</th>\n",
       "      <th>normalized_losses</th>\n",
       "      <th>peak_rpm</th>\n",
       "      <th>stroke</th>\n",
       "      <th>wheel_base</th>\n",
       "      <th>width</th>\n",
       "    </tr>\n",
       "  </thead>\n",
       "  <tbody>\n",
       "    <tr>\n",
       "      <th>1</th>\n",
       "      <td>6747.270228</td>\n",
       "      <td>4376.176836</td>\n",
       "      <td>7737.393764</td>\n",
       "      <td>5457.443106</td>\n",
       "      <td>2951.630905</td>\n",
       "      <td>7638.792892</td>\n",
       "      <td>5724.722183</td>\n",
       "      <td>4466.099923</td>\n",
       "      <td>5864.264399</td>\n",
       "      <td>8988.953044</td>\n",
       "      <td>6886.554870</td>\n",
       "      <td>6925.387372</td>\n",
       "      <td>5546.930305</td>\n",
       "      <td>4545.567617</td>\n",
       "    </tr>\n",
       "    <tr>\n",
       "      <th>3</th>\n",
       "      <td>5436.153337</td>\n",
       "      <td>4017.624751</td>\n",
       "      <td>7129.183384</td>\n",
       "      <td>4319.129843</td>\n",
       "      <td>3202.484682</td>\n",
       "      <td>7093.394377</td>\n",
       "      <td>3889.489976</td>\n",
       "      <td>4229.148071</td>\n",
       "      <td>5333.264020</td>\n",
       "      <td>6102.400578</td>\n",
       "      <td>8114.518272</td>\n",
       "      <td>6941.567771</td>\n",
       "      <td>6738.051646</td>\n",
       "      <td>4609.918432</td>\n",
       "    </tr>\n",
       "    <tr>\n",
       "      <th>5</th>\n",
       "      <td>6096.698536</td>\n",
       "      <td>3665.811395</td>\n",
       "      <td>6309.956494</td>\n",
       "      <td>4133.453012</td>\n",
       "      <td>3419.753639</td>\n",
       "      <td>7322.155236</td>\n",
       "      <td>4769.273884</td>\n",
       "      <td>4254.782370</td>\n",
       "      <td>5157.064751</td>\n",
       "      <td>6644.193506</td>\n",
       "      <td>7682.025436</td>\n",
       "      <td>6973.838063</td>\n",
       "      <td>6423.863834</td>\n",
       "      <td>4817.643564</td>\n",
       "    </tr>\n",
       "    <tr>\n",
       "      <th>7</th>\n",
       "      <td>6355.309692</td>\n",
       "      <td>3559.168883</td>\n",
       "      <td>6060.376039</td>\n",
       "      <td>3973.802752</td>\n",
       "      <td>3717.894814</td>\n",
       "      <td>7096.883645</td>\n",
       "      <td>4459.084107</td>\n",
       "      <td>4352.525254</td>\n",
       "      <td>5271.530985</td>\n",
       "      <td>6628.806107</td>\n",
       "      <td>7536.524798</td>\n",
       "      <td>7369.268050</td>\n",
       "      <td>6527.553718</td>\n",
       "      <td>4878.408883</td>\n",
       "    </tr>\n",
       "    <tr>\n",
       "      <th>9</th>\n",
       "      <td>6433.723228</td>\n",
       "      <td>3712.247249</td>\n",
       "      <td>6323.780214</td>\n",
       "      <td>4035.250382</td>\n",
       "      <td>3719.461644</td>\n",
       "      <td>6985.312711</td>\n",
       "      <td>4072.678726</td>\n",
       "      <td>4630.382250</td>\n",
       "      <td>5318.678639</td>\n",
       "      <td>6762.471392</td>\n",
       "      <td>7217.185072</td>\n",
       "      <td>7938.015297</td>\n",
       "      <td>6719.521464</td>\n",
       "      <td>5134.069368</td>\n",
       "    </tr>\n",
       "  </tbody>\n",
       "</table>\n",
       "</div>"
      ],
      "text/plain": [
       "          bore     city_mpg  compression_ratio  curb_weight  engine_size  \\\n",
       "1  6747.270228  4376.176836        7737.393764  5457.443106  2951.630905   \n",
       "3  5436.153337  4017.624751        7129.183384  4319.129843  3202.484682   \n",
       "5  6096.698536  3665.811395        6309.956494  4133.453012  3419.753639   \n",
       "7  6355.309692  3559.168883        6060.376039  3973.802752  3717.894814   \n",
       "9  6433.723228  3712.247249        6323.780214  4035.250382  3719.461644   \n",
       "\n",
       "        height  highway_mpg   horsepower       length  normalized_losses  \\\n",
       "1  7638.792892  5724.722183  4466.099923  5864.264399        8988.953044   \n",
       "3  7093.394377  3889.489976  4229.148071  5333.264020        6102.400578   \n",
       "5  7322.155236  4769.273884  4254.782370  5157.064751        6644.193506   \n",
       "7  7096.883645  4459.084107  4352.525254  5271.530985        6628.806107   \n",
       "9  6985.312711  4072.678726  4630.382250  5318.678639        6762.471392   \n",
       "\n",
       "      peak_rpm       stroke   wheel_base        width  \n",
       "1  6886.554870  6925.387372  5546.930305  4545.567617  \n",
       "3  8114.518272  6941.567771  6738.051646  4609.918432  \n",
       "5  7682.025436  6973.838063  6423.863834  4817.643564  \n",
       "7  7536.524798  7369.268050  6527.553718  4878.408883  \n",
       "9  7217.185072  7938.015297  6719.521464  5134.069368  "
      ]
     },
     "execution_count": 192,
     "metadata": {},
     "output_type": "execute_result"
    }
   ],
   "source": [
    "pd.DataFrame(rmses_several_k, index=neighbor_list)\n"
   ]
  },
  {
   "cell_type": "code",
   "execution_count": 193,
   "metadata": {},
   "outputs": [
    {
     "name": "stdout",
     "output_type": "stream",
     "text": [
      "          bore     city_mpg  compression_ratio  curb_weight  engine_size  \\\n",
      "1  6747.270228  4376.176836        7737.393764  5457.443106  2951.630905   \n",
      "3  5436.153337  4017.624751        7129.183384  4319.129843  3202.484682   \n",
      "5  6096.698536  3665.811395        6309.956494  4133.453012  3419.753639   \n",
      "7  6355.309692  3559.168883        6060.376039  3973.802752  3717.894814   \n",
      "9  6433.723228  3712.247249        6323.780214  4035.250382  3719.461644   \n",
      "\n",
      "        height  highway_mpg   horsepower       length  normalized_losses  \\\n",
      "1  7638.792892  5724.722183  4466.099923  5864.264399        8988.953044   \n",
      "3  7093.394377  3889.489976  4229.148071  5333.264020        6102.400578   \n",
      "5  7322.155236  4769.273884  4254.782370  5157.064751        6644.193506   \n",
      "7  7096.883645  4459.084107  4352.525254  5271.530985        6628.806107   \n",
      "9  6985.312711  4072.678726  4630.382250  5318.678639        6762.471392   \n",
      "\n",
      "      peak_rpm       stroke   wheel_base        width  \n",
      "1  6886.554870  6925.387372  5546.930305  4545.567617  \n",
      "3  8114.518272  6941.567771  6738.051646  4609.918432  \n",
      "5  7682.025436  6973.838063  6423.863834  4817.643564  \n",
      "7  7536.524798  7369.268050  6527.553718  4878.408883  \n",
      "9  7217.185072  7938.015297  6719.521464  5134.069368  \n"
     ]
    }
   ],
   "source": [
    "rmses_df = pd.DataFrame(rmses_several_k, index=neighbor_list)\n",
    "print(rmses_df)"
   ]
  },
  {
   "cell_type": "code",
   "execution_count": 194,
   "metadata": {},
   "outputs": [
    {
     "name": "stdout",
     "output_type": "stream",
     "text": [
      "14\n"
     ]
    }
   ],
   "source": [
    "print(rmses_df.columns.size)"
   ]
  },
  {
   "cell_type": "code",
   "execution_count": 195,
   "metadata": {},
   "outputs": [
    {
     "name": "stdout",
     "output_type": "stream",
     "text": [
      "bore                 5436.153337\n",
      "city_mpg             3559.168883\n",
      "compression_ratio    6060.376039\n",
      "curb_weight          3973.802752\n",
      "engine_size          2951.630905\n",
      "height               6985.312711\n",
      "highway_mpg          3889.489976\n",
      "horsepower           4229.148071\n",
      "length               5157.064751\n",
      "normalized_losses    6102.400578\n",
      "peak_rpm             6886.554870\n",
      "stroke               6925.387372\n",
      "wheel_base           5546.930305\n",
      "width                4545.567617\n",
      "Name: min, dtype: float64 \n",
      "\n",
      "2951.6309051099192\n",
      "\n",
      "bore                 6747.270228\n",
      "city_mpg             4376.176836\n",
      "compression_ratio    7737.393764\n",
      "curb_weight          5457.443106\n",
      "engine_size          3719.461644\n",
      "height               7638.792892\n",
      "highway_mpg          5724.722183\n",
      "horsepower           4630.382250\n",
      "length               5864.264399\n",
      "normalized_losses    8988.953044\n",
      "peak_rpm             8114.518272\n",
      "stroke               7938.015297\n",
      "wheel_base           6738.051646\n",
      "width                5134.069368\n",
      "Name: max, dtype: float64 \n",
      "\n",
      "8988.953043861242\n",
      "\n",
      "            bore     city_mpg  compression_ratio  curb_weight  engine_size  \\\n",
      "min  5436.153337  3559.168883        6060.376039  3973.802752  2951.630905   \n",
      "max  6747.270228  4376.176836        7737.393764  5457.443106  3719.461644   \n",
      "\n",
      "          height  highway_mpg   horsepower       length  normalized_losses  \\\n",
      "min  6985.312711  3889.489976  4229.148071  5157.064751        6102.400578   \n",
      "max  7638.792892  5724.722183  4630.382250  5864.264399        8988.953044   \n",
      "\n",
      "        peak_rpm       stroke   wheel_base        width  \n",
      "min  6886.554870  6925.387372  5546.930305  4545.567617  \n",
      "max  8114.518272  7938.015297  6738.051646  5134.069368  \n"
     ]
    }
   ],
   "source": [
    "print(rmses_df.describe().loc['min'], '\\n')\n",
    "print(rmses_df.describe().loc['min'].min())\n",
    "\n",
    "print()\n",
    "print(rmses_df.describe().loc['max'], '\\n')\n",
    "print(rmses_df.describe().loc['max'].max())\n",
    "print()\n",
    "print(rmses_df.describe().loc[['min', 'max']])"
   ]
  },
  {
   "cell_type": "code",
   "execution_count": 198,
   "metadata": {},
   "outputs": [
    {
     "data": {
      "image/png": "[encoded data removed]",
      "text/plain": [
       "<matplotlib.figure.Figure at 0x7f4b64b59b00>"
      ]
     },
     "metadata": {},
     "output_type": "display_data"
    }
   ],
   "source": [
    "plt.figure(figsize=(10,12))\n",
    "for i, col in zip(range(1, rmses_df.columns.size + 1), train_cols):\n",
    "    plt.subplot(7, 2, i)\n",
    "    plt.plot(rmses_df[col], marker='.')\n",
    "    plt.title(col)\n",
    "    plt.xticks(neighbor_list)\n",
    "    plt.xlim([0,10])\n",
    "    plt.ylim([2800, 9500])\n",
    "\n",
    "plt.subplots_adjust(\n",
    "    hspace=0.6,\n",
    "#     wspace=0.6,\n",
    ")\n",
    "plt.show()    "
   ]
  },
  {
   "cell_type": "markdown",
   "metadata": {},
   "source": [
    "## 04. Modelo Multivariado\n",
    "\n",
    "Modifiquemos la función `knn_train_test()` que escribimos en el último paso para trabajar con varias columnas.\n",
    "\n",
    "- Modifique la función `knn_train_test()` para aceptar una lista de nombres de columna (en lugar de solo una cadena). Modifique el resto de la lógica de la función para usar este parámetro:\n",
    "    - En lugar de usar solo una columna para entrenar y probar, use todas las columnas que se asignarán al parámetro.\n",
    "    - Utilice el valor `k` predeterminado de scikit-learn por ahora (ajustaremos el valor k en el siguiente paso).\n",
    "- Utilice las 2 mejores características del paso anterior para entrenar y probar un modelo multivariado de k vecinos más cercanos utilizando el valor `k` predeterminado.\n",
    "- Utilice las 3 mejores características del paso anterior para entrenar y probar un modelo multivariado de k vecinos más cercanos utilizando el valor `k` predeterminado.\n",
    "- Utilice las mejores 4 características del paso anterior para entrenar y probar un modelo multivariado de k vecinos más cercanos utilizando el valor `k` predeterminado.\n",
    "- Use las mejores 5 características del paso anterior para entrenar y probar un modelo multivariado de `k` vecinos más cercanos usando el valor k predeterminado.\n",
    "- Muestra todos los valores RMSE.\n"
   ]
  },
  {
   "cell_type": "code",
   "execution_count": 212,
   "metadata": {
    "collapsed": true
   },
   "outputs": [],
   "source": [
    "np.random.seed(2021)\n",
    "def knn_train_test(train_cols, target_col, df, k=5):        \n",
    "    df = df.loc[np.random.permutation(cars2.index)]\n",
    "    train_df = df.iloc[:96]\n",
    "    test_df = df.iloc[96:]\n",
    "    knn = KNeighborsRegressor(n_neighbors=k, algorithm='brute')\n",
    "    knn.fit(train_df[train_cols], train_df[target_col])\n",
    "    predictions = knn.predict(test_df[train_cols])\n",
    "    mse = mean_squared_error(test_df[target_col], predictions)\n",
    "    return np.sqrt(mse)"
   ]
  },
  {
   "cell_type": "code",
   "execution_count": 206,
   "metadata": {
    "collapsed": true
   },
   "outputs": [],
   "source": [
    "two_best_features = ['engine_size', \n",
    "                     'city_mpg',                      \n",
    "                    ]\n",
    "\n",
    "three_best_features = ['engine_size', \n",
    "                     'city_mpg', \n",
    "                     'curb_weight',                      \n",
    "                    ]\n",
    "\n",
    "four_best_features = ['engine_size', \n",
    "                     'city_mpg', \n",
    "                     'curb_weight', \n",
    "                     'horsepower',                      \n",
    "                    ]\n",
    "\n",
    "five_best_features = ['engine_size', \n",
    "                     'city_mpg', \n",
    "                     'curb_weight', \n",
    "                     'horsepower', \n",
    "                     'highway_mpg',                      \n",
    "                    ]"
   ]
  },
  {
   "cell_type": "code",
   "execution_count": 214,
   "metadata": {},
   "outputs": [],
   "source": [
    "best_features = {\n",
    "    'best{}feat'.format(len(two_best_features)): knn_train_test(two_best_features, 'price', cars2),\n",
    "    'best{}feat'.format(len(three_best_features)): knn_train_test(three_best_features, 'price', cars2),\n",
    "    'best{}feat'.format(len(four_best_features)): knn_train_test(four_best_features, 'price', cars2),\n",
    "    'best{}feat'.format(len(five_best_features)): knn_train_test(five_best_features, 'price', cars2),\n",
    "}"
   ]
  },
  {
   "cell_type": "code",
   "execution_count": 216,
   "metadata": {},
   "outputs": [
    {
     "name": "stdout",
     "output_type": "stream",
     "text": [
      "best3feat    2559.264688\n",
      "best2feat    3299.178270\n",
      "best5feat    3426.200984\n",
      "best4feat    3699.570431\n",
      "dtype: float64\n"
     ]
    }
   ],
   "source": [
    "best_features_series = pd.Series(best_features)\n",
    "print(best_features_series.sort_values())"
   ]
  },
  {
   "cell_type": "code",
   "execution_count": 222,
   "metadata": {},
   "outputs": [
    {
     "data": {
      "image/png": "[encoded data removed]",
      "text/plain": [
       "<matplotlib.figure.Figure at 0x7f4b64b35ef0>"
      ]
     },
     "metadata": {},
     "output_type": "display_data"
    }
   ],
   "source": [
    "best_features_series.sort_values(ascending=False).plot.barh(color='blue')\n",
    "plt.show()"
   ]
  },
  {
   "cell_type": "markdown",
   "metadata": {},
   "source": [
    "## 05. Ajuste de hiperparámetros\n",
    "\n",
    "Ahora vamos a optimizar el modelo que funcionó mejor en el paso anterior.\n",
    "\n",
    "- Para los 3 modelos principales en el último paso, varíe el valor del hiperparámetro de 1 a 25 y represente gráficamente los valores RMSE resultantes.\n",
    "\n",
    "- ¿Qué valor de k es óptimo para cada modelo? ¿Qué tan diferentes son los valores de k y qué crees que explica las diferencias?\n"
   ]
  },
  {
   "cell_type": "code",
   "execution_count": null,
   "metadata": {
    "collapsed": true
   },
   "outputs": [],
   "source": [
    "hyper_param = range(1, 26)"
   ]
  },
  {
   "cell_type": "code",
   "execution_count": 225,
   "metadata": {
    "collapsed": true
   },
   "outputs": [],
   "source": [
    "mse3feat = [knn_train_test(three_best_features, 'price', cars2, k=neighbor) for neighbor in hyper_param]\n",
    "mse2feat = [knn_train_test(two_best_features, 'price', cars2, k=neighbor) for neighbor in hyper_param]\n",
    "mse5feat = [knn_train_test(five_best_features, 'price', cars2, k=neighbor) for neighbor in hyper_param]"
   ]
  },
  {
   "cell_type": "code",
   "execution_count": 250,
   "metadata": {},
   "outputs": [
    {
     "name": "stdout",
     "output_type": "stream",
     "text": [
      "(3, 2426.470932355673)\n",
      "(6, 2857.8302531840036)\n",
      "(2, 2596.0327062376678)\n"
     ]
    }
   ],
   "source": [
    "print(min(enumerate(mse3feat, 1), key=lambda t:t[1]))\n",
    "print(min(enumerate(mse2feat, 1), key=lambda t:t[1]))\n",
    "print(min(enumerate(mse5feat, 1), key=lambda t:t[1]))"
   ]
  },
  {
   "cell_type": "code",
   "execution_count": 257,
   "metadata": {},
   "outputs": [
    {
     "data": {
      "image/png": "[encoded data removed]",
      "text/plain": [
       "<matplotlib.figure.Figure at 0x7f4b633e5c50>"
      ]
     },
     "metadata": {},
     "output_type": "display_data"
    }
   ],
   "source": [
    "plt.figure(figsize=(10,12))\n",
    "plt.subplot(3,1,1)\n",
    "plt.plot(hyper_param, mse3feat, marker='.')\n",
    "plt.xticks([1,3,5,10,15,20,25])\n",
    "plt.xlim([0,26])\n",
    "plt.ylim([2000,6500])\n",
    "plt.title(two_best_features)\n",
    "\n",
    "plt.subplot(3,1,2)\n",
    "plt.plot(hyper_param, mse2feat, marker='.')\n",
    "plt.xticks([1,5,6,10,15,20,25])\n",
    "plt.xlim([0,26])\n",
    "plt.ylim([2000,6500])\n",
    "plt.title(three_best_features)\n",
    "\n",
    "plt.subplot(3,1,3)\n",
    "plt.plot(hyper_param, mse5feat, marker='.')\n",
    "plt.axhline(2596.0327062376678, color='red', alpha=0.6)\n",
    "plt.xticks([1,2,5,10,15,20,25])\n",
    "plt.xlim([0,26])\n",
    "plt.ylim([2000,6500])\n",
    "plt.title(five_best_features)\n",
    "\n",
    "plt.subplots_adjust(\n",
    "    hspace=0.6,\n",
    "#     wspace=0.6,\n",
    ")\n",
    "plt.show()"
   ]
  },
  {
   "cell_type": "markdown",
   "metadata": {
    "collapsed": true
   },
   "source": [
    "## 06. Lo que sigue"
   ]
  },
  {
   "cell_type": "markdown",
   "metadata": {
    "collapsed": true
   },
   "source": [
    "Aquí hay algunas ideas para los próximos pasos:\n",
    "\n",
    "- Modifique la función `knn_train_test()` para usar la validación cruzada k-fold en lugar de la validación de prueba/entrenamiento.\n",
    "- Modifique la función `knn_train_test()` para realizar también la limpieza de datos."
   ]
  }
 ],
 "metadata": {
  "kernelspec": {
   "display_name": "Python 3",
   "language": "python",
   "name": "python3"
  },
  "language_info": {
   "codemirror_mode": {
    "name": "ipython",
    "version": 3
   },
   "file_extension": ".py",
   "mimetype": "text/x-python",
   "name": "python",
   "nbconvert_exporter": "python",
   "pygments_lexer": "ipython3",
   "version": "3.8.8"
  }
 },
 "nbformat": 4,
 "nbformat_minor": 2
}
