{
 "cells": [
  {
   "cell_type": "code",
   "execution_count": 2,
   "id": "81905c7f",
   "metadata": {},
   "outputs": [
    {
     "name": "stdout",
     "output_type": "stream",
     "text": [
      "<center><h1>Title</h1></center>\n",
      "## 1. Recap.\n",
      "### Exercise\n",
      "## 2. Hyperparameter optimization.\n",
      "### Exercise\n",
      "## 3. Expanding grid search.\n",
      "### Exercise\n",
      "## 4. Visualizing hyperparameter values.\n",
      "### Exercise\n",
      "## 5. Varying Hyperparameters.\n",
      "### Exercise\n",
      "## 6. Practice the workflow.\n",
      "### Exercise\n",
      "## 7. Next steps.\n",
      "### Exercise\n",
      "## 8. Takeaways.\n",
      "### Exercise\n"
     ]
    }
   ],
   "source": [
    "screen_names = [\n",
    "    \"Recap\",\n",
    "    \"Hyperparameter optimization\",\n",
    "    \"Expanding grid search\",\n",
    "    \"Visualizing hyperparameter values\",\n",
    "    \"Varying Hyperparameters\",\n",
    "    \"Practice the workflow\",\n",
    "    \"Next steps\",\n",
    "    \"Takeaways\"\n",
    "]\n",
    "\n",
    "\n",
    "print('<center><h1>Title</h1></center>')\n",
    "for i, name in enumerate(screen_names, 1):\n",
    "    print(f'## {i}. {name}.\\n### Exercise')"
   ]
  },
  {
   "cell_type": "markdown",
   "id": "1590b6bb",
   "metadata": {},
   "source": [
    "<center><h1>Hyperparameter Optimization</h1></center>"
   ]
  },
  {
   "cell_type": "markdown",
   "id": "b2cb17f2",
   "metadata": {},
   "source": [
    "## 1. Recap.\n",
    "### Exercise\n",
    "## 2. Hyperparameter optimization.\n",
    "### Exercise\n",
    "## 3. Expanding grid search.\n",
    "### Exercise\n",
    "## 4. Visualizing hyperparameter values.\n",
    "### Exercise\n",
    "## 5. Varying Hyperparameters.\n",
    "### Exercise\n",
    "## 6. Practice the workflow.\n",
    "### Exercise\n",
    "## 7. Next steps.\n",
    "### Exercise\n",
    "## 8. Takeaways.\n",
    "### Exercise"
   ]
  }
 ],
 "metadata": {
  "kernelspec": {
   "display_name": "Python 3",
   "language": "python",
   "name": "python3"
  },
  "language_info": {
   "codemirror_mode": {
    "name": "ipython",
    "version": 3
   },
   "file_extension": ".py",
   "mimetype": "text/x-python",
   "name": "python",
   "nbconvert_exporter": "python",
   "pygments_lexer": "ipython3",
   "version": "3.8.8"
  }
 },
 "nbformat": 4,
 "nbformat_minor": 5
}
