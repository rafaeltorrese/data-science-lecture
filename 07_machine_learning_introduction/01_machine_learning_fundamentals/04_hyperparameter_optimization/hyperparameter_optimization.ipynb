{
 "cells": [
  {
   "cell_type": "markdown",
   "id": "1590b6bb",
   "metadata": {},
   "source": [
    "<center><h1>Hyperparameter Optimization</h1></center>"
   ]
  },
  {
   "cell_type": "markdown",
   "id": "c17ab0bb",
   "metadata": {},
   "source": [
    "## 1. Recap.\n",
    "\n",
    "In the last lesson, we focused on increasing the number of attributes the model uses. We saw how, in general, adding more attributes generally lowered the error of the model. This is because the model is able to do a better job identifying the living spaces from the training set that are the most similar to the ones from the test set. However, we also observed how using all of the available features didn't actually improve the model's accuracy automatically and that some of the features were probably not relevant for similarity ranking. We learned that selecting relevant features was the right lever when improving a model's accuracy, not just increasing the features used in the absolute.\n",
    "\n",
    "In this lesson, we'll focus on the impact of increasing `k`, the number of nearby neighbors the model uses to make predictions. We exported both the training (`train_df`) and test sets (`test_df`) from the last lessons to CSV files, `dc_airbnb_train.csv` and `dc_airbnb_test.csv` respectively. Let's read both these CSV's into Dataframes.\n",
    "\n",
    "### Exercise\n",
    "\n",
    "- Read `dc_airbnb_train.csv` into a Dataframe and assign to `train_df`.\n",
    "- Read `dc_airbnb_test.csv` into a Dataframe and assign to `test_df`."
   ]
  },
  {
   "cell_type": "code",
   "execution_count": 8,
   "id": "3ab8b3d4",
   "metadata": {},
   "outputs": [],
   "source": [
    "from tabulate import tabulate\n",
    "import pandas as pd"
   ]
  },
  {
   "cell_type": "code",
   "execution_count": 2,
   "id": "1490373a",
   "metadata": {},
   "outputs": [],
   "source": [
    "train_df = pd.read_csv('dc_airbnb_train.csv')\n",
    "test_df = pd.read_csv('dc_airbnb_test.csv')"
   ]
  },
  {
   "cell_type": "markdown",
   "id": "ae67a449",
   "metadata": {},
   "source": [
    "## 2. Hyperparameter optimization.\n",
    "\n",
    "When we vary the features that are used in the model, we're affecting the data that the model uses. On the other hand, varying the k value affects the behavior of the model independently of the actual data that's used when making predictions. In other words, we're impacting how the model performs without trying to change the data that's used.\n",
    "\n",
    "Values that affect the behavior and performance of a model that are unrelated to the data that's used are referred to as **hyperparameters**. The process of finding the optimal hyperparameter value is known as [hyperparameter optimization](https://en.wikipedia.org/wiki/Hyperparameter_optimization). A simple but common hyperparameter optimization technique is known as [grid search](https://en.wikipedia.org/wiki/Hyperparameter_optimization#Grid_search), which involves:\n",
    "\n",
    "selecting a subset of the possible hyperparameter values,\n",
    "training a model using each of these hyperparameter values,\n",
    "evaluating each model's performance,\n",
    "selecting the hyperparameter value that resulted in the lowest error value.\n",
    "Grid search essentially boils down to evaluating the model performance at different k values and selecting the k value that resulted in the lowest error. While grid search can take a long time when working with large datasets, the data we're working with in this lesson is small and this process is relatively quick.\n",
    "\n",
    "Let's confirm that grid search will work quickly for the dataset we're working with by first observing how the model performance changes as we increase the k value from `1` to `5`. If you recall, we set `5` as the k value for the last 2 lessons. Let's use the features from the last lesson that resulted in the best model accuracy:\n",
    "\n",
    "- `accommodates`\n",
    "- `bedrooms`\n",
    "- `bathrooms`\n",
    "- `number_of_reviews`\n",
    "\n",
    "### Exercise\n",
    "\n",
    "\n",
    "- Create a list containing the integer values `1`, `2`, `3`,`4`,  and `5`, in that order, and assign to `hyper_params`.\n",
    "- Create an empty list and assign to `mse_values`.\n",
    "- Use a `for` loop to iterate over `hyper_params` and in each iteration:\n",
    "    - Instantiate a KNeighborsRegressor object with the following parameters:\n",
    "        - `n_neighbors`: the current value for the iterator variable,\n",
    "        - `algorithm`: `brute`\n",
    "    - Fit the instantiated k-nearest neighbors model to the following columns from `train_df`:\n",
    "        - `accommodates`\n",
    "        - `bedrooms`\n",
    "        - `bathrooms`\n",
    "        - `number_of_reviews`\n",
    "    - Use the trained model to make predictions on the same columns from `test_df` and assign to `predictions`.\n",
    "    - Use the `mean_squared_error` function to calculate the MSE value between `predictions` and the `price` column from `test_df`.\n",
    "    - Append the MSE value to `mse_values`.\n",
    "- Display mse_values using the `print()` function."
   ]
  },
  {
   "cell_type": "code",
   "execution_count": 3,
   "id": "798dadee",
   "metadata": {},
   "outputs": [],
   "source": [
    "from sklearn.neighbors import KNeighborsRegressor\n",
    "from sklearn.metrics import mean_squared_error"
   ]
  },
  {
   "cell_type": "code",
   "execution_count": 4,
   "id": "5993cbd8",
   "metadata": {},
   "outputs": [],
   "source": [
    "train_cols = ['accommodates', 'bedrooms', 'bathrooms', 'number_of_reviews']"
   ]
  },
  {
   "cell_type": "code",
   "execution_count": 5,
   "id": "ea5dfd5f",
   "metadata": {},
   "outputs": [],
   "source": [
    "hyper_params = [1, 2, 3, 4, 5]\n",
    "mse_values = []"
   ]
  },
  {
   "cell_type": "code",
   "execution_count": 6,
   "id": "2b8601d3",
   "metadata": {},
   "outputs": [],
   "source": [
    "for k in hyper_params:\n",
    "    knn = KNeighborsRegressor(n_neighbors=k, algorithm='brute')\n",
    "    knn.fit(train_df[train_cols], train_df['price'])\n",
    "    predictions = knn.predict(test_df[train_cols])\n",
    "    mse_values.append(mean_squared_error(predictions, test_df['price']))"
   ]
  },
  {
   "cell_type": "code",
   "execution_count": 14,
   "id": "1c55c9bf",
   "metadata": {},
   "outputs": [
    {
     "name": "stdout",
     "output_type": "stream",
     "text": [
      "<class 'list'>\n"
     ]
    }
   ],
   "source": [
    "print(type(mse_values))"
   ]
  },
  {
   "cell_type": "code",
   "execution_count": 18,
   "id": "374fe07a",
   "metadata": {},
   "outputs": [
    {
     "name": "stdout",
     "output_type": "stream",
     "text": [
      "| k   | MSE                |\n",
      "|-----|--------------------|\n",
      "| 1   | 26382.919226393627 |\n",
      "| 2   | 15145.281001137657 |\n",
      "| 3   | 14671.573884464668 |\n",
      "| 4   | 16513.548919226392 |\n",
      "| 5   | 14677.238680318545 |\n"
     ]
    }
   ],
   "source": [
    "print(\n",
    "    tabulate(\n",
    "        {\n",
    "            'k': hyper_params,\n",
    "            'MSE': mse_values\n",
    "        },        \n",
    "        headers='keys',\n",
    "        tablefmt='github',\n",
    "        disable_numparse=True,\n",
    "    )\n",
    ")"
   ]
  },
  {
   "cell_type": "markdown",
   "id": "f7442db3",
   "metadata": {},
   "source": [
    "## 3. Expanding grid search.\n",
    "\n",
    "Since our dataset is small and scikit-learn has been developed with performance in mind, the code ran quickly. As we increased the k value from 1 to 5, the MSE value fell from approximately 26364 to approximately 14090:\n",
    "\n",
    "| k | MSE                |\n",
    "|---|--------------------|\n",
    "| 1 | 26382.919226393627 |\n",
    "| 2 | 15145.281001137657 |\n",
    "| 3 | 14671.573884464668 |\n",
    "| 4 | 16513.548919226392 |\n",
    "| 5 | 14677.238680318545 |\n",
    "\n",
    "\n",
    "Let's expand grid search all the way to a k value of 20. While 20 may seem like an arbitrary ending point for our grid search, we can always expand the values we try if we're unconvinced that the lowest MSE value is associated with one of the hyperparameter values we tried so far.\n",
    "\n",
    "\n",
    "### Exercise\n",
    "\n",
    "- Change the list of hyperparameter values, `hyper_params`, so it ranges from `1` to `20`.\n",
    "- Create an empty list and assign to `mse_values`.\n",
    "- Use a `for` loop to iterate over `hyper_params` and in each iteration:\n",
    "    - Instantiate a KNeighborsRegressor object with the following parameters:\n",
    "        - `n_neighbors`: the current value for the iterator variable,\n",
    "        - `algorithm`: `brute`\n",
    "    - Fit the instantiated k-nearest neighbors model to the following columns from `train_df`:\n",
    "        - `accommodates`\n",
    "        - `bedrooms`\n",
    "        - `bathrooms`\n",
    "        - `number_of_reviews`\n",
    "    - Use the trained model to make predictions on the same columns from `test_df` and assign to `predictions`.\n",
    "    - Use the `mean_squared_error` function to calculate the MSE value between `predictions` and the `price` column from `test_df`.\n",
    "    - Append the MSE value to `mse_values`.\n",
    "- Display `mse_values` using the `print()` function."
   ]
  },
  {
   "cell_type": "code",
   "execution_count": 19,
   "id": "4f067cd7",
   "metadata": {},
   "outputs": [],
   "source": [
    "hyper_params = range(1, 21)\n",
    "mse_values = []"
   ]
  },
  {
   "cell_type": "code",
   "execution_count": 20,
   "id": "de17c890",
   "metadata": {},
   "outputs": [],
   "source": [
    "features = ['accommodates', 'bedrooms', 'bathrooms', 'number_of_reviews']"
   ]
  },
  {
   "cell_type": "code",
   "execution_count": null,
   "id": "a0ded30d",
   "metadata": {},
   "outputs": [],
   "source": [
    "for k in hyper_params:\n",
    "    knn = KNeighborsRegressor(n_neighbors=k, algorithm='brute')\n",
    "    knn.fit(train_df[features], train_df['price'])\n",
    "    predictions = knn.predict(test_df[features])\n",
    "    mse_values.append(mean_squared_error(predictions, test_df['price']))\n",
    "    "
   ]
  },
  {
   "cell_type": "code",
   "execution_count": 25,
   "id": "923428a3",
   "metadata": {},
   "outputs": [
    {
     "name": "stdout",
     "output_type": "stream",
     "text": [
      "|   k |     MSE |\n",
      "|-----|---------|\n",
      "|   1 | 26382.9 |\n",
      "|   2 | 15145.3 |\n",
      "|   3 | 14671.6 |\n",
      "|   4 | 16513.5 |\n",
      "|   5 | 14677.2 |\n",
      "|   6 | 13825.5 |\n",
      "|   7 | 14043.1 |\n",
      "|   8 | 14031.7 |\n",
      "|   9 | 14063.2 |\n",
      "|  10 | 14210.4 |\n",
      "|  11 | 14422.7 |\n",
      "|  12 | 14523.9 |\n",
      "|  13 | 14457.6 |\n",
      "|  14 | 14476   |\n",
      "|  15 | 14572   |\n",
      "|  16 | 14667.9 |\n",
      "|  17 | 14700.4 |\n",
      "|  18 | 14668.9 |\n",
      "|  19 | 14734.5 |\n",
      "|  20 | 14687.2 |\n"
     ]
    }
   ],
   "source": [
    "print(\n",
    "    tabulate(\n",
    "        {\n",
    "            'k': hyper_params, \n",
    "            'MSE': mse_values\n",
    "        },\n",
    "        headers='keys',\n",
    "        tablefmt='github',\n",
    "#         disable_numparse=True,\n",
    "    )\n",
    ")"
   ]
  },
  {
   "cell_type": "code",
   "execution_count": 29,
   "id": "8887016c",
   "metadata": {},
   "outputs": [
    {
     "name": "stdout",
     "output_type": "stream",
     "text": [
      "Min: 13825.479490582735\n",
      "Max 26382.919226393627\n"
     ]
    }
   ],
   "source": [
    "print(f'Min: {min(mse_values)}')\n",
    "print(f'Max {max(mse_values)}')"
   ]
  },
  {
   "cell_type": "markdown",
   "id": "f79ef60a",
   "metadata": {},
   "source": [
    "## 4. Visualizing hyperparameter values.\n",
    "\n",
    "As we increased the `k` value from `1` to `6`, the MSE value decreased from approximately 26382 to approximately 13825. However, as we increased the k value from `7` to `20`, the MSE value didn't decrease further but instead hovered between approximately 14288 and 14870. This means that the optimal k value is `6`, since it resulted in the lowest MSE value.\n",
    "\n",
    "This pattern is something you'll notice while performing grid search across other models as well. As you increase k at first, the error rate decreases until a certain point, but then rebounds and increases again. Let's confirm this behavior visually using a scatter plot.\n",
    "\n",
    "### Exercise\n",
    "\n",
    "- Use the `scatter()` method from `matplotlib.pyplot` to generate a line plot with:\n",
    "    - `hyper_params` on the x-axis,\n",
    "    - `mse_values` on the y-axis.\n",
    "- Use `plt.show()` to display the plot."
   ]
  },
  {
   "cell_type": "code",
   "execution_count": 39,
   "id": "28bd1694",
   "metadata": {},
   "outputs": [
    {
     "data": {
      "image/png": "[encoded data removed]",
      "text/plain": [
       "<Figure size 432x288 with 1 Axes>"
      ]
     },
     "metadata": {
      "needs_background": "light"
     },
     "output_type": "display_data"
    }
   ],
   "source": [
    "import matplotlib.pyplot as plt\n",
    "\n",
    "plt.plot(hyper_params, mse_values, marker='.')\n",
    "plt.xticks([1,3,6,9,12,15,18, 20])\n",
    "plt.show()"
   ]
  },
  {
   "cell_type": "markdown",
   "id": "8f08db95",
   "metadata": {},
   "source": [
    "## 5. Varying Hyperparameters.\n",
    "\n",
    "From the scatter plot, you can tell that the lowest MSE value was achieved at the `k` value of `6`. As we increased `k` past `6`, the MSE actually increased and hovered but never decreased below 13657 (the approximate MSE value when `k` was `6`).\n",
    "\n",
    "Since varying the k value decreased the MSE value for this model, you may be wondering if repeating the grid search process for one of the models from the last lesson that performed poorly when we fixed k to `5` would result in a lower MSE value. Let's try it out!\n",
    "\n",
    "\n",
    "### Exercise\n",
    "\n",
    "- Use a `for` loop to iterate over `hyper_params` and in each iteration:\n",
    "    - Instantiate a KNeighborsRegressor object with the following parameters:\n",
    "        - `n_neighbors`: the current value for the iterator variable,\n",
    "        - `algorithm`: `brute`\n",
    "    - Fit the instantiated k-nearest neighbors model to all of the columns, except for the `price` column, from `train_df`\n",
    "    - Use the trained model to make predictions on the same columns from `test_df` and assign to `predictions`.\n",
    "    - Use the `mean_squared_error` function to calculate the MSE value between `predictions` and the price column from `test_df`.\n",
    "    - Append the MSE value to `mse_values`.\n",
    "- Use the `scatter()` method from `matplotlib.pyplot` to generate a line plot with:\n",
    "    - `hyper_params` on the x-axis,\n",
    "    - `mse_values` on the y-axis.\n",
    "- Use `plt.show()` to display the plot."
   ]
  },
  {
   "cell_type": "code",
   "execution_count": 64,
   "id": "a28a3311",
   "metadata": {},
   "outputs": [],
   "source": [
    "hyper_params = range(1, 21)\n",
    "mse_values = []"
   ]
  },
  {
   "cell_type": "code",
   "execution_count": 65,
   "id": "809b76e8",
   "metadata": {},
   "outputs": [
    {
     "name": "stdout",
     "output_type": "stream",
     "text": [
      "['accommodates' 'bedrooms' 'bathrooms' 'beds' 'price' 'minimum_nights'\n",
      " 'maximum_nights' 'number_of_reviews'] \n",
      "\n",
      "['accommodates' 'bedrooms' 'bathrooms' 'beds' 'minimum_nights'\n",
      " 'maximum_nights' 'number_of_reviews']\n"
     ]
    }
   ],
   "source": [
    "print(train_df.columns.values, '\\n')\n",
    "print(train_df.drop(labels=['price'], axis='columns').columns.values)"
   ]
  },
  {
   "cell_type": "code",
   "execution_count": 66,
   "id": "5b2d184e",
   "metadata": {},
   "outputs": [
    {
     "name": "stdout",
     "output_type": "stream",
     "text": [
      "['accommodates', 'bedrooms', 'bathrooms', 'beds', 'minimum_nights', 'maximum_nights', 'number_of_reviews']\n"
     ]
    }
   ],
   "source": [
    "features = train_df.drop(labels=['price'], axis='columns').columns.values.tolist()\n",
    "print(features)"
   ]
  },
  {
   "cell_type": "code",
   "execution_count": 67,
   "id": "a430af86",
   "metadata": {},
   "outputs": [],
   "source": [
    "for k in hyper_params:\n",
    "    knn = KNeighborsRegressor(n_neighbors=k, algorithm='brute')\n",
    "    knn.fit(train_df[features], train_df['price'])\n",
    "    predictions = knn.predict(test_df[features])\n",
    "    mse_values.append(mean_squared_error(predictions, test_df['price']))"
   ]
  },
  {
   "cell_type": "code",
   "execution_count": 72,
   "id": "68b00722",
   "metadata": {},
   "outputs": [
    {
     "name": "stdout",
     "output_type": "stream",
     "text": [
      "Min: (11, 14734.420481576548)\n",
      "Min: (1, 23275.255972696246)\n"
     ]
    }
   ],
   "source": [
    "print(f'Min: {min(enumerate(mse_values, 1), key=lambda t:t[1])}')\n",
    "print(f'Min: {max(enumerate(mse_values, 1), key=lambda t:t[1])}')"
   ]
  },
  {
   "cell_type": "code",
   "execution_count": 81,
   "id": "7635a10c",
   "metadata": {},
   "outputs": [
    {
     "data": {
      "image/png": "[encoded data removed]",
      "text/plain": [
       "<Figure size 576x432 with 1 Axes>"
      ]
     },
     "metadata": {
      "needs_background": "light"
     },
     "output_type": "display_data"
    }
   ],
   "source": [
    "plt.figure(figsize=(8,6))\n",
    "plt.plot(hyper_params, mse_values, marker='o')\n",
    "plt.axhline(14734.420481576548, color='red', alpha=0.4)\n",
    "plt.xticks(hyper_params)\n",
    "plt.show()"
   ]
  },
  {
   "cell_type": "markdown",
   "id": "1892d48d",
   "metadata": {},
   "source": [
    "## 6. Practice the workflow.\n",
    "\n",
    "You may have noticed that the general workflow for finding the best model is:\n",
    "\n",
    "select relevant features to use for predicting the target column.\n",
    "use grid search to find the optimal hyperparameter value for the selected features.\n",
    "evaluate the model's accuracy and repeat the process.\n",
    "Let's now practice this workflow.\n",
    "\n",
    "\n",
    "### Exercise\n",
    "\n",
    "- While using only the \"accommodates\" and \"bathrooms\" columns:\n",
    "    - Train a model for each k value between \"1\" and \"20\" using the training data.\n",
    "    - Use each model to make predictions on the test set (using just the \"accommodates\" and \"bathrooms\" columns).\n",
    "    - Calculate each model's MSE value by comparing each set of predictions to the true \"price\" values.\n",
    "    - Find the k value that obtained the lowest MSE value.\n",
    "    - Create a dictionary named \"two_hyp_mse\" that contains 1 key-value pair:\n",
    "        - key: k value that resulted in lowest MSE value.\n",
    "        - value: corresponding MSE value.\n",
    "- Repeat this process while using only the \"accommodates\", \"bathrooms\", and \"bedrooms\" columns:\n",
    "    - Create a dictionary named \"three_hyp_mse\" that contains 1 key-value pair:\n",
    "        - key: k value that resulted in lowest MSE value.\n",
    "        - value: corresponding MSE value.\n",
    "- Display both \"two_hyp_mse\" and \"three_hyp_mse\" using the \"print()\" function."
   ]
  },
  {
   "cell_type": "code",
   "execution_count": 82,
   "id": "f1698b58",
   "metadata": {},
   "outputs": [],
   "source": [
    "two_features = ['accommodates', 'bathrooms']\n",
    "three_features = ['accommodates', 'bathrooms', 'bedrooms']"
   ]
  },
  {
   "cell_type": "code",
   "execution_count": 88,
   "id": "0be0eb75",
   "metadata": {},
   "outputs": [],
   "source": [
    "hyper_params = range(1,21)\n",
    "two_mse_values = []\n",
    "three_mse_values = []\n",
    "two_hyp_mse = {}\n",
    "three_hyp_mse = {}"
   ]
  },
  {
   "cell_type": "code",
   "execution_count": 89,
   "id": "20a7476f",
   "metadata": {},
   "outputs": [],
   "source": [
    "for k in hyper_params:\n",
    "    knn2 = KNeighborsRegressor(n_neighbors=k, algorithm='brute')\n",
    "    knn2.fit(train_df[two_features], train_df['price'])\n",
    "    predictions2 = knn2.predict(test_df[two_features])\n",
    "    two_mse_values.append(mean_squared_error(predictions2, test_df['price']))        \n",
    "    \n",
    "    knn3 = KNeighborsRegressor(n_neighbors=k, algorithm='brute')\n",
    "    knn3.fit(train_df[three_features], train_df['price'])\n",
    "    predictions3 = knn3.predict(test_df[three_features])\n",
    "    three_mse_values.append(mean_squared_error(predictions3, test_df['price']))    "
   ]
  },
  {
   "cell_type": "code",
   "execution_count": 90,
   "id": "b1e540e0",
   "metadata": {},
   "outputs": [],
   "source": [
    "k2, v2 = min(enumerate(two_mse_values,1), key=lambda t:t[1])\n",
    "k3, v3 = min(enumerate(three_mse_values,1), key=lambda t:t[1])"
   ]
  },
  {
   "cell_type": "code",
   "execution_count": 91,
   "id": "f3ac73f5",
   "metadata": {},
   "outputs": [],
   "source": [
    "two_hyp_mse[k2] = v2\n",
    "three_hyp_mse[k3] = v3"
   ]
  },
  {
   "cell_type": "code",
   "execution_count": 93,
   "id": "7ebcfbb6",
   "metadata": {},
   "outputs": [
    {
     "name": "stdout",
     "output_type": "stream",
     "text": [
      "Two Features\n",
      "{12: 15489.986442927568}\n",
      "\n",
      "Three Features\n",
      "{5: 13669.075449374292}\n"
     ]
    }
   ],
   "source": [
    "print('Two Features')\n",
    "print(two_hyp_mse)\n",
    "\n",
    "print('\\nThree Features')\n",
    "print(three_hyp_mse)\n",
    "    "
   ]
  },
  {
   "cell_type": "markdown",
   "id": "c70f0503",
   "metadata": {},
   "source": [
    "## 7. Next steps.\n",
    "\n",
    "The first model, which used the `accommodates` and `bathrooms` columns, was able to achieve an MSE value of approximately 14790. The second model, which added the `bedrooms` column, was able to achieve an MSE value of approximately 13522.9, which is even lower than the lowest MSE value we achieved using the best model from the last lesson (which used the `accommodates`, `bedrooms`, `bathrooms`, and `number_of_reviews` columns). Hopefully this demonstrates that using just one lever to find the best model isn't enough and you really want to use both levers in conjunction.\n",
    "\n",
    "In this lesson, we learned about hyperparameter optimization and the workflow of finding the optimal model to make predictions. Next in this course is a challenge, where you'll practice the concepts you've learned so far on a completely new dataset."
   ]
  }
 ],
 "metadata": {
  "kernelspec": {
   "display_name": "Python 3",
   "language": "python",
   "name": "python3"
  },
  "language_info": {
   "codemirror_mode": {
    "name": "ipython",
    "version": 3
   },
   "file_extension": ".py",
   "mimetype": "text/x-python",
   "name": "python",
   "nbconvert_exporter": "python",
   "pygments_lexer": "ipython3",
   "version": "3.8.8"
  }
 },
 "nbformat": 4,
 "nbformat_minor": 5
}
