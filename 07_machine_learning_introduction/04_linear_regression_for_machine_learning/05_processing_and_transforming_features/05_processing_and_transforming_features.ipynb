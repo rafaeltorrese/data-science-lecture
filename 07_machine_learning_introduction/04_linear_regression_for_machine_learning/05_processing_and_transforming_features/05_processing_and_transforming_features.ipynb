{
 "cells": [
  {
   "cell_type": "markdown",
   "id": "4adb8fa2",
   "metadata": {},
   "source": [
    "<center><h1>Procesamiento y transformación de variables (características)</h1></center>"
   ]
  },
  {
   "cell_type": "markdown",
   "id": "4516b349",
   "metadata": {},
   "source": [
    "## 1. Introducción.\n",
    "\n",
    "Para entender cómo funciona la regresión lineal, nos limitamos a usar características del conjunto de datos de entrenamiento que no contenían valores faltantes y que ya estaban en una representación numérica conveniente. En esta lección, exploraremos cómo transformar algunas de las características restantes para poder usarlas en nuestro modelo. En términos generales, el proceso de procesamiento y creación de nuevas características se conoce como ingeniería de características (**feature engineering**). La ingeniería de características o variables es un poco un arte y tener conocimiento en el dominio específico (en este caso, bienes raíces) puede ayudarlo a crear mejores características. En esta lección, nos centraremos en algunas estrategias independientes del dominio que funcionan para todos los problemas.\n",
    "\n",
    "En la primera mitad de esta lección, nos centraremos solo en las columnas que no contienen valores perdidos pero que aún no tienen el formato adecuado para usar en un modelo de regresión lineal. En la segunda mitad de esta lección, exploraremos algunas formas de lidiar con los valores faltantes.\n",
    "\n",
    "Entre las columnas que no contienen valores faltantes, algunos de los problemas comunes incluyen:\n",
    "\n",
    "- la columna no es numérica (por ejemplo, un código de zonificación representado mediante texto)\n",
    "- la columna es numérica pero no ordinal (por ejemplo, valores de código postal)\n",
    "- la columna es numérica pero no es representativa del tipo de relación con la columna de destino (por ejemplo, valores de año)\n",
    "\n",
    "Comencemos por filtrar el conjunto de entrenamiento a solo las columnas que no contienen valores faltantes.\n",
    "\n",
    "### Ejercicio\n",
    "- Seleccione solo las columnas del dataframe de `train` que no contengan valores faltantes.\n",
    "- Asigne el marco de datos resultante, que contiene solo estas columnas, a `df_no_mv`.\n",
    "- Explore las variables para familiarizarse con estas columnas."
   ]
  },
  {
   "cell_type": "code",
   "execution_count": 3,
   "id": "6a23faa8",
   "metadata": {},
   "outputs": [],
   "source": [
    "import numpy as np\n",
    "import pandas as pd\n",
    "\n",
    "from sklearn.linear_model import LinearRegression\n",
    "from sklearn.metrics import mean_squared_error\n",
    "from sklearn.preprocessing import MinMaxScaler\n",
    "\n",
    "import matplotlib.pyplot as plt\n",
    "import seaborn as sns"
   ]
  },
  {
   "cell_type": "code",
   "execution_count": 4,
   "id": "3f12ce9b",
   "metadata": {},
   "outputs": [],
   "source": [
    "data = pd.read_csv('AmesHousing.txt', delimiter='\\t')\n",
    "train = data[:1460].copy()\n",
    "test = data[1460:].copy()"
   ]
  },
  {
   "cell_type": "code",
   "execution_count": 5,
   "id": "e13c667e",
   "metadata": {},
   "outputs": [],
   "source": [
    "not_null_colls = train.columns[train.notnull().all()].values.tolist()\n",
    "df_no_mv = train[not_null_colls]"
   ]
  },
  {
   "cell_type": "code",
   "execution_count": 6,
   "id": "b1794e3e",
   "metadata": {},
   "outputs": [
    {
     "name": "stdout",
     "output_type": "stream",
     "text": [
      "<class 'pandas.core.frame.DataFrame'>\n",
      "RangeIndex: 1460 entries, 0 to 1459\n",
      "Data columns (total 58 columns):\n",
      " #   Column           Non-Null Count  Dtype  \n",
      "---  ------           --------------  -----  \n",
      " 0   Order            1460 non-null   int64  \n",
      " 1   PID              1460 non-null   int64  \n",
      " 2   MS SubClass      1460 non-null   int64  \n",
      " 3   MS Zoning        1460 non-null   object \n",
      " 4   Lot Area         1460 non-null   int64  \n",
      " 5   Street           1460 non-null   object \n",
      " 6   Lot Shape        1460 non-null   object \n",
      " 7   Land Contour     1460 non-null   object \n",
      " 8   Utilities        1460 non-null   object \n",
      " 9   Lot Config       1460 non-null   object \n",
      " 10  Land Slope       1460 non-null   object \n",
      " 11  Neighborhood     1460 non-null   object \n",
      " 12  Condition 1      1460 non-null   object \n",
      " 13  Condition 2      1460 non-null   object \n",
      " 14  Bldg Type        1460 non-null   object \n",
      " 15  House Style      1460 non-null   object \n",
      " 16  Overall Qual     1460 non-null   int64  \n",
      " 17  Overall Cond     1460 non-null   int64  \n",
      " 18  Year Built       1460 non-null   int64  \n",
      " 19  Year Remod/Add   1460 non-null   int64  \n",
      " 20  Roof Style       1460 non-null   object \n",
      " 21  Roof Matl        1460 non-null   object \n",
      " 22  Exterior 1st     1460 non-null   object \n",
      " 23  Exterior 2nd     1460 non-null   object \n",
      " 24  Exter Qual       1460 non-null   object \n",
      " 25  Exter Cond       1460 non-null   object \n",
      " 26  Foundation       1460 non-null   object \n",
      " 27  Heating          1460 non-null   object \n",
      " 28  Heating QC       1460 non-null   object \n",
      " 29  Central Air      1460 non-null   object \n",
      " 30  Electrical       1460 non-null   object \n",
      " 31  1st Flr SF       1460 non-null   int64  \n",
      " 32  2nd Flr SF       1460 non-null   int64  \n",
      " 33  Low Qual Fin SF  1460 non-null   int64  \n",
      " 34  Gr Liv Area      1460 non-null   int64  \n",
      " 35  Full Bath        1460 non-null   int64  \n",
      " 36  Half Bath        1460 non-null   int64  \n",
      " 37  Bedroom AbvGr    1460 non-null   int64  \n",
      " 38  Kitchen AbvGr    1460 non-null   int64  \n",
      " 39  Kitchen Qual     1460 non-null   object \n",
      " 40  TotRms AbvGrd    1460 non-null   int64  \n",
      " 41  Functional       1460 non-null   object \n",
      " 42  Fireplaces       1460 non-null   int64  \n",
      " 43  Garage Cars      1460 non-null   float64\n",
      " 44  Garage Area      1460 non-null   float64\n",
      " 45  Paved Drive      1460 non-null   object \n",
      " 46  Wood Deck SF     1460 non-null   int64  \n",
      " 47  Open Porch SF    1460 non-null   int64  \n",
      " 48  Enclosed Porch   1460 non-null   int64  \n",
      " 49  3Ssn Porch       1460 non-null   int64  \n",
      " 50  Screen Porch     1460 non-null   int64  \n",
      " 51  Pool Area        1460 non-null   int64  \n",
      " 52  Misc Val         1460 non-null   int64  \n",
      " 53  Mo Sold          1460 non-null   int64  \n",
      " 54  Yr Sold          1460 non-null   int64  \n",
      " 55  Sale Type        1460 non-null   object \n",
      " 56  Sale Condition   1460 non-null   object \n",
      " 57  SalePrice        1460 non-null   int64  \n",
      "dtypes: float64(2), int64(28), object(28)\n",
      "memory usage: 661.7+ KB\n"
     ]
    }
   ],
   "source": [
    "df_no_mv.info()"
   ]
  },
  {
   "cell_type": "markdown",
   "id": "cf482841",
   "metadata": {},
   "source": [
    "## 2. Variables categóricas.\n",
    "### Ejercicio"
   ]
  },
  {
   "cell_type": "markdown",
   "id": "ccc6ca01",
   "metadata": {},
   "source": [
    "## 3. Codificación ficticia.\n",
    "### Ejercicio"
   ]
  },
  {
   "cell_type": "markdown",
   "id": "92fc359c",
   "metadata": {},
   "source": [
    "## 4. Transformación de variables numéricas impropias.\n",
    "### Ejercicio"
   ]
  },
  {
   "cell_type": "markdown",
   "id": "1c00f7c0",
   "metadata": {},
   "source": [
    "## 5. Valores faltantes.\n",
    "### Ejercicio"
   ]
  },
  {
   "cell_type": "markdown",
   "id": "7b694c3b",
   "metadata": {},
   "source": [
    "## 6. Imputación de valores faltantes.\n",
    "### Ejercicio"
   ]
  },
  {
   "cell_type": "markdown",
   "id": "c6bf22a0",
   "metadata": {},
   "source": [
    "## 7. Próximos pasos.\n"
   ]
  }
 ],
 "metadata": {
  "kernelspec": {
   "display_name": "Python 3",
   "language": "python",
   "name": "python3"
  },
  "language_info": {
   "codemirror_mode": {
    "name": "ipython",
    "version": 3
   },
   "file_extension": ".py",
   "mimetype": "text/x-python",
   "name": "python",
   "nbconvert_exporter": "python",
   "pygments_lexer": "ipython3",
   "version": "3.8.8"
  }
 },
 "nbformat": 4,
 "nbformat_minor": 5
}
