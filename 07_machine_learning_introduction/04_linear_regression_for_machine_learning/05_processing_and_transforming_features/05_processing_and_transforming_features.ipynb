{
 "cells": [
  {
   "cell_type": "markdown",
   "id": "4adb8fa2",
   "metadata": {},
   "source": [
    "<center><h1>Procesamiento y transformación de variables (características)</h1></center>"
   ]
  },
  {
   "cell_type": "markdown",
   "id": "4516b349",
   "metadata": {},
   "source": [
    "## 1. Introducción.\n",
    "\n",
    "Para entender cómo funciona la regresión lineal, nos limitamos a usar características del conjunto de datos de entrenamiento que no contenían valores faltantes y que ya estaban en una representación numérica conveniente. En esta lección, exploraremos cómo transformar algunas de las características restantes para poder usarlas en nuestro modelo. En términos generales, el proceso de procesamiento y creación de nuevas características se conoce como ingeniería de características (**feature engineering**). La ingeniería de características o variables es un poco un arte y tener conocimiento en el dominio específico (en este caso, bienes raíces) puede ayudarlo a crear mejores características. En esta lección, nos centraremos en algunas estrategias independientes del dominio que funcionan para todos los problemas.\n",
    "\n",
    "En la primera mitad de esta lección, nos centraremos solo en las columnas que no contienen valores perdidos pero que aún no tienen el formato adecuado para usar en un modelo de regresión lineal. En la segunda mitad de esta lección, exploraremos algunas formas de lidiar con los valores faltantes.\n",
    "\n",
    "Entre las columnas que no contienen valores faltantes, algunos de los problemas comunes incluyen:\n",
    "\n",
    "- la columna no es numérica (por ejemplo, un código de zonificación representado mediante texto)\n",
    "- la columna es numérica pero no ordinal (por ejemplo, valores de código postal)\n",
    "- la columna es numérica pero no es representativa del tipo de relación con la columna de destino (por ejemplo, valores de año)\n",
    "\n",
    "Comencemos por filtrar el conjunto de entrenamiento a solo las columnas que no contienen valores faltantes.\n",
    "\n",
    "### Ejercicio\n",
    "- Seleccione solo las columnas del dataframe de `train` que no contengan valores faltantes.\n",
    "- Asigne el marco de datos resultante, que contiene solo estas columnas, a `df_no_mv`.\n",
    "- Explore las variables para familiarizarse con estas columnas."
   ]
  },
  {
   "cell_type": "code",
   "execution_count": 2,
   "id": "6a23faa8",
   "metadata": {},
   "outputs": [],
   "source": [
    "import numpy as np\n",
    "import pandas as pd\n",
    "\n",
    "# import matplotlib.pyplot as plt"
   ]
  },
  {
   "cell_type": "code",
   "execution_count": 3,
   "id": "3f12ce9b",
   "metadata": {},
   "outputs": [],
   "source": [
    "data = pd.read_csv('AmesHousing.txt', delimiter='\\t')\n",
    "train = data[:1460].copy()\n",
    "test = data[1460:].copy()"
   ]
  },
  {
   "cell_type": "code",
   "execution_count": 4,
   "id": "e13c667e",
   "metadata": {},
   "outputs": [],
   "source": [
    "not_null_colls = train.columns[train.notnull().all()].values.tolist()\n",
    "df_no_mv = train[not_null_colls]"
   ]
  },
  {
   "cell_type": "code",
   "execution_count": 5,
   "id": "b1794e3e",
   "metadata": {},
   "outputs": [
    {
     "name": "stdout",
     "output_type": "stream",
     "text": [
      "<class 'pandas.core.frame.DataFrame'>\n",
      "RangeIndex: 1460 entries, 0 to 1459\n",
      "Data columns (total 58 columns):\n",
      " #   Column           Non-Null Count  Dtype  \n",
      "---  ------           --------------  -----  \n",
      " 0   Order            1460 non-null   int64  \n",
      " 1   PID              1460 non-null   int64  \n",
      " 2   MS SubClass      1460 non-null   int64  \n",
      " 3   MS Zoning        1460 non-null   object \n",
      " 4   Lot Area         1460 non-null   int64  \n",
      " 5   Street           1460 non-null   object \n",
      " 6   Lot Shape        1460 non-null   object \n",
      " 7   Land Contour     1460 non-null   object \n",
      " 8   Utilities        1460 non-null   object \n",
      " 9   Lot Config       1460 non-null   object \n",
      " 10  Land Slope       1460 non-null   object \n",
      " 11  Neighborhood     1460 non-null   object \n",
      " 12  Condition 1      1460 non-null   object \n",
      " 13  Condition 2      1460 non-null   object \n",
      " 14  Bldg Type        1460 non-null   object \n",
      " 15  House Style      1460 non-null   object \n",
      " 16  Overall Qual     1460 non-null   int64  \n",
      " 17  Overall Cond     1460 non-null   int64  \n",
      " 18  Year Built       1460 non-null   int64  \n",
      " 19  Year Remod/Add   1460 non-null   int64  \n",
      " 20  Roof Style       1460 non-null   object \n",
      " 21  Roof Matl        1460 non-null   object \n",
      " 22  Exterior 1st     1460 non-null   object \n",
      " 23  Exterior 2nd     1460 non-null   object \n",
      " 24  Exter Qual       1460 non-null   object \n",
      " 25  Exter Cond       1460 non-null   object \n",
      " 26  Foundation       1460 non-null   object \n",
      " 27  Heating          1460 non-null   object \n",
      " 28  Heating QC       1460 non-null   object \n",
      " 29  Central Air      1460 non-null   object \n",
      " 30  Electrical       1460 non-null   object \n",
      " 31  1st Flr SF       1460 non-null   int64  \n",
      " 32  2nd Flr SF       1460 non-null   int64  \n",
      " 33  Low Qual Fin SF  1460 non-null   int64  \n",
      " 34  Gr Liv Area      1460 non-null   int64  \n",
      " 35  Full Bath        1460 non-null   int64  \n",
      " 36  Half Bath        1460 non-null   int64  \n",
      " 37  Bedroom AbvGr    1460 non-null   int64  \n",
      " 38  Kitchen AbvGr    1460 non-null   int64  \n",
      " 39  Kitchen Qual     1460 non-null   object \n",
      " 40  TotRms AbvGrd    1460 non-null   int64  \n",
      " 41  Functional       1460 non-null   object \n",
      " 42  Fireplaces       1460 non-null   int64  \n",
      " 43  Garage Cars      1460 non-null   float64\n",
      " 44  Garage Area      1460 non-null   float64\n",
      " 45  Paved Drive      1460 non-null   object \n",
      " 46  Wood Deck SF     1460 non-null   int64  \n",
      " 47  Open Porch SF    1460 non-null   int64  \n",
      " 48  Enclosed Porch   1460 non-null   int64  \n",
      " 49  3Ssn Porch       1460 non-null   int64  \n",
      " 50  Screen Porch     1460 non-null   int64  \n",
      " 51  Pool Area        1460 non-null   int64  \n",
      " 52  Misc Val         1460 non-null   int64  \n",
      " 53  Mo Sold          1460 non-null   int64  \n",
      " 54  Yr Sold          1460 non-null   int64  \n",
      " 55  Sale Type        1460 non-null   object \n",
      " 56  Sale Condition   1460 non-null   object \n",
      " 57  SalePrice        1460 non-null   int64  \n",
      "dtypes: float64(2), int64(28), object(28)\n",
      "memory usage: 661.7+ KB\n"
     ]
    }
   ],
   "source": [
    "df_no_mv.info()"
   ]
  },
  {
   "cell_type": "markdown",
   "id": "da12545c",
   "metadata": {},
   "source": [
    "## 2. Variables categóricas.\n",
    "Notará que algunas de las columnas en el marco de datos `df_no_mv` contienen valores de cadena. Si estas columnas contienen solo un conjunto limitado de valores únicos, se conocen como  variables(características) categóricas. Como sugiere el nombre, una característica categórica agrupa una instancia en una categoría específica. Estos son algunos ejemplos del conjunto de datos:"
   ]
  },
  {
   "cell_type": "code",
   "execution_count": 6,
   "id": "6932f2fb",
   "metadata": {},
   "outputs": [
    {
     "name": "stdout",
     "output_type": "stream",
     "text": [
      "AllPub    1457\n",
      "NoSewr       2\n",
      "NoSeWa       1\n",
      "Name: Utilities, dtype: int64\n"
     ]
    }
   ],
   "source": [
    "print(train['Utilities'].value_counts())"
   ]
  },
  {
   "cell_type": "code",
   "execution_count": 7,
   "id": "48d8c331",
   "metadata": {},
   "outputs": [
    {
     "name": "stdout",
     "output_type": "stream",
     "text": [
      "Pave    1455\n",
      "Grvl       5\n",
      "Name: Street, dtype: int64 \n",
      "\n",
      "1Story    743\n",
      "2Story    440\n",
      "1.5Fin    160\n",
      "SLvl       60\n",
      "SFoyer     35\n",
      "2.5Unf     11\n",
      "1.5Unf      8\n",
      "2.5Fin      3\n",
      "Name: House Style, dtype: int64\n"
     ]
    }
   ],
   "source": [
    "print(train['Street'].value_counts(), '\\n')\n",
    "\n",
    "print(train['House Style'].value_counts())"
   ]
  },
  {
   "cell_type": "markdown",
   "id": "93efadca",
   "metadata": {},
   "source": [
    "Para usar estas características en nuestro modelo, necesitamos transformarlas en representaciones numéricas. Afortunadamente, pandas lo hace fácil porque la biblioteca tiene un tipo de [datos categórico](https://pandas.pydata.org/pandas-docs/stable/user_guide/categorical.html). Podemos convertir cualquier columna que no contenga valores faltantes (o se generará un error) al tipo de datos categóricos usando el método [`pandas.Series.astype()`](https://pandas.pydata.org/docs/reference/api/pandas.DataFrame.astype.html):"
   ]
  },
  {
   "cell_type": "code",
   "execution_count": 8,
   "id": "87a1fef6",
   "metadata": {},
   "outputs": [
    {
     "name": "stdout",
     "output_type": "stream",
     "text": [
      "category\n",
      "object\n"
     ]
    }
   ],
   "source": [
    "print(train['Utilities'].astype('category').dtype)\n",
    "print(train['Utilities'].dtype)"
   ]
  },
  {
   "cell_type": "code",
   "execution_count": 9,
   "id": "98c7b052",
   "metadata": {},
   "outputs": [],
   "source": [
    "train['Utilities'] = train['Utilities'].astype('category')"
   ]
  },
  {
   "cell_type": "markdown",
   "id": "741860b9",
   "metadata": {},
   "source": [
    "Cuando una columna se convierte a tipo de datos categóricos, pandas asigna un código a cada valor único en la columna. A menos que accedamos a estos valores directamente, la mayoría de las operaciones de manipulación de pandas que funcionan para las columnas de cadenas (texto) también funcionarán para las categóricas."
   ]
  },
  {
   "cell_type": "code",
   "execution_count": 10,
   "id": "40ad0f12",
   "metadata": {},
   "outputs": [
    {
     "name": "stdout",
     "output_type": "stream",
     "text": [
      "0       AllPub\n",
      "1       AllPub\n",
      "2       AllPub\n",
      "3       AllPub\n",
      "4       AllPub\n",
      "         ...  \n",
      "1455    AllPub\n",
      "1456    AllPub\n",
      "1457    AllPub\n",
      "1458    AllPub\n",
      "1459    AllPub\n",
      "Name: Utilities, Length: 1460, dtype: category\n",
      "Categories (3, object): ['AllPub', 'NoSeWa', 'NoSewr']\n"
     ]
    }
   ],
   "source": [
    "print(train['Utilities'])"
   ]
  },
  {
   "cell_type": "markdown",
   "id": "a9ba976c",
   "metadata": {},
   "source": [
    "Necesitamos usar el descriptor de acceso `.cat` seguido de la propiedad `.codes` para acceder realmente a la representación numérica subyacente de una columna:"
   ]
  },
  {
   "cell_type": "code",
   "execution_count": 11,
   "id": "b0b809a2",
   "metadata": {},
   "outputs": [
    {
     "name": "stdout",
     "output_type": "stream",
     "text": [
      "0       0\n",
      "1       0\n",
      "2       0\n",
      "3       0\n",
      "4       0\n",
      "       ..\n",
      "1455    0\n",
      "1456    0\n",
      "1457    0\n",
      "1458    0\n",
      "1459    0\n",
      "Length: 1460, dtype: int8\n"
     ]
    }
   ],
   "source": [
    "print(train['Utilities'].cat.codes)"
   ]
  },
  {
   "cell_type": "markdown",
   "id": "cf482841",
   "metadata": {},
   "source": [
    "### Ejercicio\n",
    "- Convierta todas las columnas de texto en `train` al tipo de datos categóricos. Para seleccionar columnas de un tipo de dato en específico puede usar [`pandas.DataFrame.select_dtypes`](https://pandas.pydata.org/docs/reference/api/pandas.DataFrame.select_dtypes.html)\n",
    "- Seleccione la columna `Utilities`, devuelva los códigos categóricos y muestre los recuentos de valores únicos para esos códigos: `train['Utilities'].cat.codes.value_counts()` "
   ]
  },
  {
   "cell_type": "code",
   "execution_count": 12,
   "id": "36aea083",
   "metadata": {},
   "outputs": [
    {
     "name": "stdout",
     "output_type": "stream",
     "text": [
      "Index(['MS Zoning', 'Street', 'Lot Shape', 'Land Contour', 'Utilities',\n",
      "       'Lot Config', 'Land Slope', 'Neighborhood', 'Condition 1',\n",
      "       'Condition 2', 'Bldg Type', 'House Style', 'Roof Style', 'Roof Matl',\n",
      "       'Exterior 1st', 'Exterior 2nd', 'Exter Qual', 'Exter Cond',\n",
      "       'Foundation', 'Heating', 'Heating QC', 'Central Air', 'Electrical',\n",
      "       'Kitchen Qual', 'Functional', 'Paved Drive', 'Sale Type',\n",
      "       'Sale Condition'],\n",
      "      dtype='object')\n"
     ]
    }
   ],
   "source": [
    "print(df_no_mv.select_dtypes(include=['object']).columns)\n",
    "text_cols = df_no_mv.select_dtypes(include=['object']).columns"
   ]
  },
  {
   "cell_type": "code",
   "execution_count": 13,
   "id": "db1df922",
   "metadata": {},
   "outputs": [
    {
     "name": "stdout",
     "output_type": "stream",
     "text": [
      "MS Zoning:6\n",
      "Street:2\n",
      "Lot Shape:4\n",
      "Land Contour:4\n",
      "Utilities:3\n",
      "Lot Config:5\n",
      "Land Slope:3\n",
      "Neighborhood:26\n",
      "Condition 1:9\n",
      "Condition 2:6\n",
      "Bldg Type:5\n",
      "House Style:8\n",
      "Roof Style:6\n",
      "Roof Matl:5\n",
      "Exterior 1st:14\n",
      "Exterior 2nd:16\n",
      "Exter Qual:4\n",
      "Exter Cond:5\n",
      "Foundation:6\n",
      "Heating:6\n",
      "Heating QC:4\n",
      "Central Air:2\n",
      "Electrical:4\n",
      "Kitchen Qual:5\n",
      "Functional:7\n",
      "Paved Drive:3\n",
      "Sale Type:9\n",
      "Sale Condition:5\n"
     ]
    }
   ],
   "source": [
    "for col in text_cols:\n",
    "    print(f'{col}:{len(train[col].unique())}')\n",
    "    train[col] = train[col].astype('category')"
   ]
  },
  {
   "cell_type": "code",
   "execution_count": 14,
   "id": "1242da96",
   "metadata": {},
   "outputs": [
    {
     "name": "stdout",
     "output_type": "stream",
     "text": [
      "0    1457\n",
      "2       2\n",
      "1       1\n",
      "dtype: int64\n"
     ]
    }
   ],
   "source": [
    "print(train['Utilities'].cat.codes.value_counts())"
   ]
  },
  {
   "cell_type": "markdown",
   "id": "ccc6ca01",
   "metadata": {},
   "source": [
    "## 3. Codificación ficticia.\n",
    "Cuando convertimos una columna datos categóricos, pandas asigna un número `0` a `n-1` (donde `n` es el número de valores únicos en una columna) para cada valor. El inconveniente de este enfoque es que aquí se viola uno de los supuestos de la regresión lineal. La regresión lineal opera bajo el supuesto de que las características están linealmente correlacionadas con la columna de destino. Sin embargo, para una característica categórica, no hay un significado numérico real para los códigos categóricos que pandas asignó para esa columna. Un aumento en la columna Utilidades de 1 a 2 no tiene un valor de correlación con la columna de destino y, en cambio, los códigos categóricos se utilizan para la unicidad y exclusividad (la categoría asociada con 0 es diferente a la asociada con 1).\n",
    "\n",
    "La solución común es usar una técnica llamada [codificación ficticia](https://en.wikipedia.org/wiki/Dummy_variable_%28statistics%29). En lugar de tener una sola columna con `n` códigos enteros, tenemos `n` columnas binarias. Así es como se vería para la columna Utilidades:\n",
    "\n",
    "| Utilities_AllPub | Utilities_NoSewr | Utilities_NoSeWa |\n",
    "|------------------|------------------|------------------|\n",
    "| 1                | 0                | 0                |\n",
    "| 1                | 0                | 0                |\n",
    "| 1                | 0                | 0                |\n",
    "| 1                | 0                | 0                |\n",
    "\n",
    "Debido a que los valores originales para las primeras 4 filas eran `AllPub`, en el nuevo esquema contienen el valor binario para verdadero (`1`) en la columna `Utilities_AllPub` y `0` para las otras 2 columnas.\n",
    "\n",
    "Pandas tiene una función conveniente para ayudarnos a aplicar esta transformación para todas las columnas de texto llamada [`pandas.get_dummies()`](https://pandas.pydata.org/docs/reference/api/pandas.get_dummies.html).\n",
    "\n",
    "\n",
    "### Ejercicio\n",
    "- Convierta todas las columnas en `text_cols` del datafrane `train` en columnas ficticias.\n",
    "- Elimine las columnas originales de `text_cols` del dataframe `train`."
   ]
  },
  {
   "cell_type": "code",
   "execution_count": null,
   "id": "3641d5c6",
   "metadata": {},
   "outputs": [],
   "source": [
    "print(train.columns.size)"
   ]
  },
  {
   "cell_type": "code",
   "execution_count": null,
   "id": "aeab696b",
   "metadata": {},
   "outputs": [],
   "source": [
    "dummy_cols = pd.get_dummies(train[text_cols], prefix='', prefix_sep='')\n",
    "train = pd.concat([train, dummy_cols], axis=1)"
   ]
  },
  {
   "cell_type": "code",
   "execution_count": null,
   "id": "456602b8",
   "metadata": {},
   "outputs": [],
   "source": [
    "print(train.columns.size)"
   ]
  },
  {
   "cell_type": "code",
   "execution_count": 15,
   "id": "9d88075c",
   "metadata": {},
   "outputs": [],
   "source": [
    "train.drop(columns=text_cols, inplace=True)"
   ]
  },
  {
   "cell_type": "code",
   "execution_count": 18,
   "id": "b4b815b8",
   "metadata": {},
   "outputs": [
    {
     "name": "stdout",
     "output_type": "stream",
     "text": [
      "236\n"
     ]
    }
   ],
   "source": [
    "print(train.columns.size)"
   ]
  },
  {
   "cell_type": "markdown",
   "id": "3a10e702",
   "metadata": {},
   "source": [
    "## 4. Transformación de variables numéricas impropias.\n",
    "\n",
    "Nos enfocamos en valores categóricos que se representaron como columnas de texto. Algunas de las columnas numéricas del conjunto de datos también son categóricas y solo tienen un conjunto limitado de valores únicos. No exploraremos explícitamente esas columnas por el momento, pero el proceso de transformación de características es el mismo si los números usados en esas categorías no tienen significado numérico.\n",
    "\n",
    "Veamos ahora las características numéricas que no son categóricas, pero cuya representación numérica debe mejorarse. Nos centraremos en las columnas `Year Remod/Add` y `Year Built`:"
   ]
  },
  {
   "cell_type": "code",
   "execution_count": 20,
   "id": "02b71602",
   "metadata": {},
   "outputs": [
    {
     "name": "stdout",
     "output_type": "stream",
     "text": [
      "   Year Remod/Add  Year Built\n",
      "0            1960        1960\n",
      "1            1961        1961\n",
      "2            1958        1958\n",
      "3            1968        1968\n",
      "4            1998        1997\n"
     ]
    }
   ],
   "source": [
    "print(train[['Year Remod/Add', 'Year Built']].head())"
   ]
  },
  {
   "cell_type": "markdown",
   "id": "3f550008",
   "metadata": {},
   "source": [
    "Los dos problemas principales con estas características son:\n",
    "\n",
    "- Los valores del año no son representativos de la antigüedad de una casa\n",
    "- La columna Year Remod/Add en realidad no proporciona información útil para un modelo de regresión lineal\n",
    "\n",
    "El desafío con valores de año como `1960` y `1961` es que no hacen un buen trabajo al capturar la antigüedad de una casa. Por ejemplo, una casa que se construyó en `1960` pero se vendió en `1980` se vendió en la mitad del tiempo que una construida en `1960` y vendida en `2000`. En lugar de los años en que ocurrieron ciertos eventos, queremos la diferencia entre esos años. Deberíamos crear una nueva columna que sea la diferencia entre ambas columnas.\n",
    "\n",
    "Para esta información en particular (años hasta que se remodeló), este es un enfoque sensato. El conocimiento del negocio puede ayudar a comprender cómo transformar mejor las características para representar bien la información para un modelo lineal."
   ]
  },
  {
   "cell_type": "markdown",
   "id": "92fc359c",
   "metadata": {},
   "source": [
    "### Ejercicio\n",
    "- Cree una nueva columna `years_until_remod` en el dataframe de `train` que represente la diferencia entre `Year Remod/Add` (el valor posterior) y `Year Built` (el valor anterior)."
   ]
  },
  {
   "cell_type": "code",
   "execution_count": null,
   "id": "960e62ed",
   "metadata": {},
   "outputs": [],
   "source": [
    "train['years_until_remod'] = train['Year Remod/Add'] - train['Year Built']\n",
    "print('years_until_remod').head()"
   ]
  },
  {
   "cell_type": "markdown",
   "id": "1c00f7c0",
   "metadata": {},
   "source": [
    "## 5. Valores faltantes.\n",
    "A continuación nos centraremos en el manejo de columnas con valores faltantes. Cuando faltan valores en una columna, hay dos enfoques principales que podemos tomar:\n",
    "\n",
    "- Eliminar filas que contienen valores faltantes para columnas específicas\n",
    "    - Ventaja: las filas que contienen valores faltantes se eliminan, dejando solo datos limpios para el modelado\n",
    "    - Desventaja: Se eliminan todas las observaciones del conjunto de entrenamiento, lo que puede reducir la precisión general de la predicción.\n",
    "- Impute (o reemplace) los valores faltantes usando una estadística descriptiva de la columna\n",
    "    - Ventaja: los valores faltantes se reemplazan con estimaciones potencialmente similares, conservando el resto de la observación en el modelo.\n",
    "    - Desventaja: dependiendo del enfoque, es posible que estemos agregando datos ruidosos para que el modelo los aprenda.\n",
    "\n",
    "Dado que solo tenemos 1460 ejemplos de entrenamiento (con ~80 variables potencialmente útiles), no queremos eliminar ninguna de estas filas del conjunto de datos. En cambio, centrémonos en las técnicas de **imputación**.\n",
    "\n",
    "Nos centraremos en las columnas que contienen entre 1  y 365 valores faltantes (o el 25 % del número de filas en el conjunto de entrenamiento). No existe un umbral estricto y, en cambio, muchas veces se usa un límite del 50 % (si falta la mitad de los valores en una columna, se descarta automáticamente). Tener conocimiento del negocio puede ayudar a determinar un valor de corte aceptable.\n",
    "\n",
    "### Ejercicio\n",
    "\n",
    "- Seleccione solo las columnas de `train` que contengan más de `0` pero menos de `584` valores perdidos. Asigne el dataframe resultante a `df_missing_values`.\n",
    "- Muestra el número de valores que faltan para cada columna en `df_missing_values`.\n",
    "- Muestre el tipo de datos para cada columna en `df_missing_values`."
   ]
  },
  {
   "cell_type": "code",
   "execution_count": 23,
   "id": "4cb00b85",
   "metadata": {},
   "outputs": [
    {
     "data": {
      "text/plain": [
       "Order           False\n",
       "PID             False\n",
       "MS SubClass     False\n",
       "Lot Frontage     True\n",
       "Lot Area        False\n",
       "                ...  \n",
       "Abnorml         False\n",
       "Alloca          False\n",
       "Family          False\n",
       "Normal          False\n",
       "Partial         False\n",
       "Length: 236, dtype: bool"
      ]
     },
     "execution_count": 23,
     "metadata": {},
     "output_type": "execute_result"
    }
   ],
   "source": [
    "train.isnull().sum().between(1, 583)"
   ]
  },
  {
   "cell_type": "code",
   "execution_count": 26,
   "id": "3ab3ded8",
   "metadata": {},
   "outputs": [
    {
     "name": "stdout",
     "output_type": "stream",
     "text": [
      "Index(['Lot Frontage', 'Mas Vnr Type', 'Mas Vnr Area', 'Bsmt Qual',\n",
      "       'Bsmt Cond', 'Bsmt Exposure', 'BsmtFin Type 1', 'BsmtFin SF 1',\n",
      "       'BsmtFin Type 2', 'BsmtFin SF 2', 'Bsmt Unf SF', 'Total Bsmt SF',\n",
      "       'Bsmt Full Bath', 'Bsmt Half Bath', 'Garage Type', 'Garage Yr Blt',\n",
      "       'Garage Finish', 'Garage Qual', 'Garage Cond'],\n",
      "      dtype='object')\n"
     ]
    }
   ],
   "source": [
    "print(train.columns[train.isnull().sum().between(1, 583)])\n",
    "select_cols = train.columns[train.isnull().sum().between(1, 583)]"
   ]
  },
  {
   "cell_type": "code",
   "execution_count": 28,
   "id": "8182c467",
   "metadata": {},
   "outputs": [
    {
     "name": "stdout",
     "output_type": "stream",
     "text": [
      "Lot Frontage      249\n",
      "Mas Vnr Type       11\n",
      "Mas Vnr Area       11\n",
      "Bsmt Qual          40\n",
      "Bsmt Cond          40\n",
      "Bsmt Exposure      41\n",
      "BsmtFin Type 1     40\n",
      "BsmtFin SF 1        1\n",
      "BsmtFin Type 2     41\n",
      "BsmtFin SF 2        1\n",
      "Bsmt Unf SF         1\n",
      "Total Bsmt SF       1\n",
      "Bsmt Full Bath      1\n",
      "Bsmt Half Bath      1\n",
      "Garage Type        74\n",
      "Garage Yr Blt      75\n",
      "Garage Finish      75\n",
      "Garage Qual        75\n",
      "Garage Cond        75\n",
      "dtype: int64\n",
      "Lot Frontage      float64\n",
      "Mas Vnr Type       object\n",
      "Mas Vnr Area      float64\n",
      "Bsmt Qual          object\n",
      "Bsmt Cond          object\n",
      "Bsmt Exposure      object\n",
      "BsmtFin Type 1     object\n",
      "BsmtFin SF 1      float64\n",
      "BsmtFin Type 2     object\n",
      "BsmtFin SF 2      float64\n",
      "Bsmt Unf SF       float64\n",
      "Total Bsmt SF     float64\n",
      "Bsmt Full Bath    float64\n",
      "Bsmt Half Bath    float64\n",
      "Garage Type        object\n",
      "Garage Yr Blt     float64\n",
      "Garage Finish      object\n",
      "Garage Qual        object\n",
      "Garage Cond        object\n",
      "dtype: object\n"
     ]
    }
   ],
   "source": [
    "df_missing_values = train[select_cols].copy()\n",
    "print(df_missing_values.isnull().sum())\n",
    "print(df_missing_values.dtypes)"
   ]
  },
  {
   "cell_type": "code",
   "execution_count": 30,
   "id": "949c79f5",
   "metadata": {},
   "outputs": [
    {
     "name": "stdout",
     "output_type": "stream",
     "text": [
      "object     10\n",
      "float64     9\n",
      "dtype: int64\n"
     ]
    }
   ],
   "source": [
    "print(df_missing_values.dtypes.value_counts())"
   ]
  },
  {
   "cell_type": "markdown",
   "id": "7b694c3b",
   "metadata": {},
   "source": [
    "## 6. Imputación de valores faltantes.\n",
    "Parece que aproximadamente la mitad de las columnas en `df_missing_values` son columnas de cadena (datos tipo `object`), mientras que aproximadamente la mitad son columnas `float64`. Para columnas numéricas con valores faltantes, una estrategia común es calcular la media, la mediana o la moda de cada columna y reemplazar todos los valores faltantes en esa columna con ese valor.\n",
    "\n",
    "Debido a que la imputación es una tarea común, pandas contiene un método [`pandas.DataFrame.fillna()`](https://pandas.pydata.org/pandas-docs/stable/reference/api/pandas.DataFrame.fillna.html) que podemos usar para esto. Si pasamos un valor, todos los valores faltantes (`NaN`) en el dataframe se reemplazan por ese valor:\n",
    "\n",
    "```python\n",
    "# Only select float columns.\n",
    "missing_floats = df_missing_vals.select_dtypes(include=['float'])\n",
    "\n",
    "# Returns a data frame with missing values replaced with 0.\n",
    "fill_with_zero = missing_floats.fillna(0)\n",
    "```\n",
    "\n",
    "También puede pasar una función por columnas y completar los valores faltantes de esa manera:\n",
    "\n",
    "```python\n",
    "# Returns a data frame with missing values replaced with mean of that column.\n",
    "fill_with_mean = missing_floats.fillna(missing_floats.mean())\n",
    "```\n",
    "\n",
    "### Ejercicio\n",
    "- Impute los valores faltantes de `float_cols` con la media de la columna.\n",
    "- Compruebe si faltan valores en `float_cols`."
   ]
  },
  {
   "cell_type": "code",
   "execution_count": 29,
   "id": "d1698b77",
   "metadata": {},
   "outputs": [
    {
     "name": "stdout",
     "output_type": "stream",
     "text": [
      "Lot Frontage      False\n",
      "Mas Vnr Area      False\n",
      "BsmtFin SF 1      False\n",
      "BsmtFin SF 2      False\n",
      "Bsmt Unf SF       False\n",
      "Total Bsmt SF     False\n",
      "Bsmt Full Bath    False\n",
      "Bsmt Half Bath    False\n",
      "Garage Yr Blt     False\n",
      "dtype: bool\n"
     ]
    }
   ],
   "source": [
    "float_cols = df_missing_values.select_dtypes(include=['float']).copy()\n",
    "# print(df_missing_values.shape)\n",
    "\n",
    "float_cols.fillna(float_cols.mean(), inplace=True)\n",
    "print(float_cols.isnull().any())"
   ]
  },
  {
   "cell_type": "markdown",
   "id": "c6bf22a0",
   "metadata": {},
   "source": [
    "## 7. Conclusión.\n",
    "En esta lección, exploramos diferentes técnicas  para transformar entidades en representaciones apropiadas para un modelo de regresión lineal."
   ]
  }
 ],
 "metadata": {
  "kernelspec": {
   "display_name": "Python 3",
   "language": "python",
   "name": "python3"
  },
  "language_info": {
   "codemirror_mode": {
    "name": "ipython",
    "version": 3
   },
   "file_extension": ".py",
   "mimetype": "text/x-python",
   "name": "python",
   "nbconvert_exporter": "python",
   "pygments_lexer": "ipython3",
   "version": "3.8.8"
  }
 },
 "nbformat": 4,
 "nbformat_minor": 5
}
