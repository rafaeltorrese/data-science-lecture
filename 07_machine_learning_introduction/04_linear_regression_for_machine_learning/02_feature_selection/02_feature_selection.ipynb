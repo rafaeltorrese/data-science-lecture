{
 "cells": [
  {
   "cell_type": "markdown",
   "id": "34203967",
   "metadata": {},
   "source": [
    "<center><h1>Selección de características</h1></center>"
   ]
  },
  {
   "cell_type": "markdown",
   "id": "77477e9a",
   "metadata": {},
   "source": [
    "## 1. Valores faltantes.\n",
    "\n",
    "En el flujo de trabajo de aprendizaje automático, una vez que hemos seleccionado el modelo que queremos usar, el siguiente paso importante es seleccionar las características apropiadas para ese modelo. En esta lección, exploraremos cómo usar la correlación entre las funciones y la columna de destino, la correlación entre las funciones y la varianza de las funciones para seleccionar funciones. Continuaremos trabajando con el mismo conjunto de datos de vivienda de la última lección.\n",
    "\n",
    "Nos centraremos específicamente en la selección de columnas de características que no tengan ningún valor faltante o que no necesiten ser transformadas para ser útiles (por ejemplo, columnas como Año de construcción y Año de remoción/agregación). Exploraremos cómo lidiar con ambos en una lección posterior de este curso.\n",
    "\n",
    "Para comenzar, veamos qué columnas se incluyen en cualquiera de estas dos categorías.\n",
    "\n",
    "### Ejercicio\n",
    "\n",
    "- Lea AmesHousing.txt en un dataframe denominado `data`. Asegúrese de usar el delimitador `\\t`.\n",
    "- Cree un dataframe llamado `train`, que contiene las primeras 1460 filas de `data`.\n",
    "- Cree un dataframe llamado `test`, que contiene el resto de las filas `data`.\n",
    "- Seleccione las columnas de números enteros y flotantes de `train` y asígnelas a la variable `numerical_train`.\n",
    "- Quite las siguientes columnas de `numerical_train`:\n",
    "    - `PID` (la identificación del lugar no es útil para modelar)\n",
    "    - `Year Built`\n",
    "    - `Year Remod/Add`\n",
    "    - `Garage Yr Blt`\n",
    "    - `Mo Sold`\n",
    "    - `Yr Sold`\n",
    "- Calcule el número de valores faltantes de cada columna en `numerical_train`. Cree un objeto `pandas.Series` donde el índice se compone de nombres de columna y los valores asociados son el número de valores faltantes:\n",
    "```python\n",
    "Order                0\n",
    "PID                  0\n",
    "MS SubClass          0\n",
    "MS Zoning            0\n",
    "...\n",
    "```\n",
    "- Asigne este objeto `pandas.Series` a `null_series`. Seleccione el subconjunto de `null_series` para mantener solo las columnas sin valores faltantes y asigne el objeto `pandas.Series` resultante a `full_cols_series`.\n",
    "- Muestre `full_cols_series` usando la función `print()`."
   ]
  },
  {
   "cell_type": "code",
   "execution_count": 185,
   "id": "10fdab97",
   "metadata": {},
   "outputs": [],
   "source": [
    "import numpy as np\n",
    "import pandas as pd\n",
    "\n",
    "import matplotlib.pyplot as plt\n",
    "\n",
    "from sklearn.linear_model import LinearRegression\n",
    "from sklearn.metrics import mean_squared_error\n",
    "\n",
    "import seaborn as sns"
   ]
  },
  {
   "cell_type": "code",
   "execution_count": 186,
   "id": "23995651",
   "metadata": {},
   "outputs": [],
   "source": [
    "data = pd.read_csv('AmesHousing.txt', delimiter='\\t')\n",
    "train = data[:1460].copy()\n",
    "test = data[1460:].copy()"
   ]
  },
  {
   "cell_type": "code",
   "execution_count": 187,
   "id": "90cbff9f",
   "metadata": {},
   "outputs": [
    {
     "name": "stdout",
     "output_type": "stream",
     "text": [
      "Index(['Order', 'PID', 'MS SubClass', 'Lot Area', 'Overall Qual',\n",
      "       'Overall Cond', 'Year Built', 'Year Remod/Add', '1st Flr SF',\n",
      "       '2nd Flr SF', 'Low Qual Fin SF', 'Gr Liv Area', 'Full Bath',\n",
      "       'Half Bath', 'Bedroom AbvGr', 'Kitchen AbvGr', 'TotRms AbvGrd',\n",
      "       'Fireplaces', 'Wood Deck SF', 'Open Porch SF', 'Enclosed Porch',\n",
      "       '3Ssn Porch', 'Screen Porch', 'Pool Area', 'Misc Val', 'Mo Sold',\n",
      "       'Yr Sold', 'SalePrice'],\n",
      "      dtype='object') \n",
      "\n",
      "Index(['Lot Frontage', 'Mas Vnr Area', 'BsmtFin SF 1', 'BsmtFin SF 2',\n",
      "       'Bsmt Unf SF', 'Total Bsmt SF', 'Bsmt Full Bath', 'Bsmt Half Bath',\n",
      "       'Garage Yr Blt', 'Garage Cars', 'Garage Area'],\n",
      "      dtype='object') \n",
      "\n",
      "28\n",
      "11\n"
     ]
    }
   ],
   "source": [
    "print(train.columns[train.dtypes == 'int64'], '\\n')\n",
    "print(train.columns[train.dtypes == 'float64'], '\\n')\n",
    "\n",
    "print(train.columns[train.dtypes == 'int64'].size)\n",
    "print(train.columns[train.dtypes == 'float64'].size, )"
   ]
  },
  {
   "cell_type": "code",
   "execution_count": 188,
   "id": "d6f80b72",
   "metadata": {},
   "outputs": [
    {
     "name": "stdout",
     "output_type": "stream",
     "text": [
      "<class 'pandas.core.frame.DataFrame'>\n",
      "RangeIndex: 1460 entries, 0 to 1459\n",
      "Data columns (total 39 columns):\n",
      " #   Column           Non-Null Count  Dtype  \n",
      "---  ------           --------------  -----  \n",
      " 0   Order            1460 non-null   int64  \n",
      " 1   PID              1460 non-null   int64  \n",
      " 2   MS SubClass      1460 non-null   int64  \n",
      " 3   Lot Frontage     1211 non-null   float64\n",
      " 4   Lot Area         1460 non-null   int64  \n",
      " 5   Overall Qual     1460 non-null   int64  \n",
      " 6   Overall Cond     1460 non-null   int64  \n",
      " 7   Year Built       1460 non-null   int64  \n",
      " 8   Year Remod/Add   1460 non-null   int64  \n",
      " 9   Mas Vnr Area     1449 non-null   float64\n",
      " 10  BsmtFin SF 1     1459 non-null   float64\n",
      " 11  BsmtFin SF 2     1459 non-null   float64\n",
      " 12  Bsmt Unf SF      1459 non-null   float64\n",
      " 13  Total Bsmt SF    1459 non-null   float64\n",
      " 14  1st Flr SF       1460 non-null   int64  \n",
      " 15  2nd Flr SF       1460 non-null   int64  \n",
      " 16  Low Qual Fin SF  1460 non-null   int64  \n",
      " 17  Gr Liv Area      1460 non-null   int64  \n",
      " 18  Bsmt Full Bath   1459 non-null   float64\n",
      " 19  Bsmt Half Bath   1459 non-null   float64\n",
      " 20  Full Bath        1460 non-null   int64  \n",
      " 21  Half Bath        1460 non-null   int64  \n",
      " 22  Bedroom AbvGr    1460 non-null   int64  \n",
      " 23  Kitchen AbvGr    1460 non-null   int64  \n",
      " 24  TotRms AbvGrd    1460 non-null   int64  \n",
      " 25  Fireplaces       1460 non-null   int64  \n",
      " 26  Garage Yr Blt    1385 non-null   float64\n",
      " 27  Garage Cars      1460 non-null   float64\n",
      " 28  Garage Area      1460 non-null   float64\n",
      " 29  Wood Deck SF     1460 non-null   int64  \n",
      " 30  Open Porch SF    1460 non-null   int64  \n",
      " 31  Enclosed Porch   1460 non-null   int64  \n",
      " 32  3Ssn Porch       1460 non-null   int64  \n",
      " 33  Screen Porch     1460 non-null   int64  \n",
      " 34  Pool Area        1460 non-null   int64  \n",
      " 35  Misc Val         1460 non-null   int64  \n",
      " 36  Mo Sold          1460 non-null   int64  \n",
      " 37  Yr Sold          1460 non-null   int64  \n",
      " 38  SalePrice        1460 non-null   int64  \n",
      "dtypes: float64(11), int64(28)\n",
      "memory usage: 445.0 KB\n"
     ]
    }
   ],
   "source": [
    "numeric_cols_train = train.columns[(train.dtypes == 'int64') | (train.dtypes == 'float64')]\n",
    "numerical_train = train[numeric_cols_train].copy()\n",
    "numerical_train.info()"
   ]
  },
  {
   "cell_type": "code",
   "execution_count": 189,
   "id": "fe01af99",
   "metadata": {},
   "outputs": [],
   "source": [
    "cols_to_drop = [\n",
    "    'PID',\n",
    "    'Year Built',\n",
    "    'Year Remod/Add',\n",
    "    'Garage Yr Blt',\n",
    "    'Mo Sold',\n",
    "    'Yr Sold',\n",
    "]"
   ]
  },
  {
   "cell_type": "code",
   "execution_count": 190,
   "id": "a0dff6a3",
   "metadata": {},
   "outputs": [],
   "source": [
    "numerical_train.drop(columns=cols_to_drop, inplace=True)"
   ]
  },
  {
   "cell_type": "code",
   "execution_count": 191,
   "id": "46a39e91",
   "metadata": {},
   "outputs": [
    {
     "name": "stdout",
     "output_type": "stream",
     "text": [
      "Index(['Order', 'MS SubClass', 'Lot Frontage', 'Lot Area', 'Overall Qual',\n",
      "       'Overall Cond', 'Mas Vnr Area', 'BsmtFin SF 1', 'BsmtFin SF 2',\n",
      "       'Bsmt Unf SF', 'Total Bsmt SF', '1st Flr SF', '2nd Flr SF',\n",
      "       'Low Qual Fin SF', 'Gr Liv Area', 'Bsmt Full Bath', 'Bsmt Half Bath',\n",
      "       'Full Bath', 'Half Bath', 'Bedroom AbvGr', 'Kitchen AbvGr',\n",
      "       'TotRms AbvGrd', 'Fireplaces', 'Garage Cars', 'Garage Area',\n",
      "       'Wood Deck SF', 'Open Porch SF', 'Enclosed Porch', '3Ssn Porch',\n",
      "       'Screen Porch', 'Pool Area', 'Misc Val', 'SalePrice'],\n",
      "      dtype='object')\n",
      "33\n"
     ]
    }
   ],
   "source": [
    "print(numerical_train.columns)\n",
    "print(numerical_train.columns.size)"
   ]
  },
  {
   "cell_type": "code",
   "execution_count": 192,
   "id": "95f8f48c",
   "metadata": {},
   "outputs": [
    {
     "name": "stdout",
     "output_type": "stream",
     "text": [
      "<class 'pandas.core.series.Series'>\n",
      "Order              0\n",
      "MS SubClass        0\n",
      "Lot Area           0\n",
      "Overall Qual       0\n",
      "Overall Cond       0\n",
      "1st Flr SF         0\n",
      "2nd Flr SF         0\n",
      "Low Qual Fin SF    0\n",
      "Gr Liv Area        0\n",
      "Full Bath          0\n",
      "Half Bath          0\n",
      "Bedroom AbvGr      0\n",
      "Kitchen AbvGr      0\n",
      "TotRms AbvGrd      0\n",
      "Fireplaces         0\n",
      "Garage Cars        0\n",
      "Garage Area        0\n",
      "Wood Deck SF       0\n",
      "Open Porch SF      0\n",
      "Enclosed Porch     0\n",
      "3Ssn Porch         0\n",
      "Screen Porch       0\n",
      "Pool Area          0\n",
      "Misc Val           0\n",
      "SalePrice          0\n",
      "dtype: int64\n"
     ]
    }
   ],
   "source": [
    "print(type(\n",
    "numerical_train.isnull().sum()\n",
    "))\n",
    "\n",
    "null_series = numerical_train.isnull().sum()\n",
    "full_cols_series = null_series[null_series == 0]\n",
    "print(full_cols_series)"
   ]
  },
  {
   "cell_type": "markdown",
   "id": "9c5ffdec",
   "metadata": {},
   "source": [
    "## 2. Correlación de columnas de características con la columna objetivo.\n",
    "\n",
    "Anteriormente, seleccionamos la característica para el modelo de regresión lineal simple al comparar cómo algunas de las características se correlacionan con la columna de destino. Si recuerda, nos enfocamos en 4 características en particular y usamos el método [`pandas.DataFrame.corr()`](https://pandas.pydata.org/docs/reference/api/pandas.DataFrame.corr.html) para devolver los coeficientes de correlación entre cada par de columnas. Esto significa que la matriz de correlación para 4 columnas da como resultado 16 valores de correlación:"
   ]
  },
  {
   "cell_type": "code",
   "execution_count": 193,
   "id": "5488d9d5",
   "metadata": {},
   "outputs": [
    {
     "name": "stdout",
     "output_type": "stream",
     "text": [
      "              Garage Area  Gr Liv Area  Overall Cond  SalePrice\n",
      "Garage Area      1.000000     0.465366     -0.132401   0.662397\n",
      "Gr Liv Area      0.465366     1.000000     -0.133710   0.698990\n",
      "Overall Cond    -0.132401    -0.133710      1.000000  -0.099395\n",
      "SalePrice        0.662397     0.698990     -0.099395   1.000000 \n",
      "\n"
     ]
    }
   ],
   "source": [
    "print(train[['Garage Area', 'Gr Liv Area', 'Overall Cond', 'SalePrice']].corr(), '\\n')"
   ]
  },
  {
   "cell_type": "markdown",
   "id": "f436a5f2",
   "metadata": {},
   "source": [
    "El subconjunto de características en las que queremos centrarnos, full_cols_series, contiene 25 columnas"
   ]
  },
  {
   "cell_type": "code",
   "execution_count": 194,
   "id": "9aed0ca7",
   "metadata": {},
   "outputs": [
    {
     "name": "stdout",
     "output_type": "stream",
     "text": [
      "25\n"
     ]
    }
   ],
   "source": [
    "print(len(full_cols_series))"
   ]
  },
  {
   "cell_type": "markdown",
   "id": "07640437",
   "metadata": {},
   "source": [
    "La matriz de correlación resultante contendrá 25 * 25 o 625 valores de correlación. Comparar y contrastar tantos valores es increíblemente difícil. En su lugar, centrémonos en cómo las variables se correlacionan con el precio (`SalePrice`)."
   ]
  },
  {
   "cell_type": "markdown",
   "id": "7d3fcf84",
   "metadata": {},
   "source": [
    "### Ejercicio\n",
    "\n",
    "- Calcule los coeficientes de correlación por pares entre todas las columnas en `train_subset = train[full_cols_series.index]`.\n",
    "\n",
    "- Seleccione solo la columna SalePrice del marco de datos resultante, calcule el valor absoluto de cada término, ordene la Serie resultante por los valores de correlación y asigne a `sorted_corrs`."
   ]
  },
  {
   "cell_type": "code",
   "execution_count": 195,
   "id": "510052ea",
   "metadata": {},
   "outputs": [],
   "source": [
    "train_subset = train[full_cols_series.index]\n",
    "sorted_corrs = train_subset.corr()['SalePrice'].abs().sort_values(ascending=False)"
   ]
  },
  {
   "cell_type": "markdown",
   "id": "a44f6015",
   "metadata": {},
   "source": [
    "## 3. Mapa de calor de matriz de correlación.\n",
    "Ahora tenemos una lista decente de características candidatas para usar en nuestro modelo, ordenadas según su correlación con la columna `SalePrice`. Por ahora, mantengamos solo las características que tienen una correlación de 0.3 o superior. Este corte es un poco arbitrario y, en general, es una buena idea experimentar con este corte. Por ejemplo, puedes entrenar y probar modelos usando diferentes puntos de corte y ver dónde deja de mejorar el modelo.\n",
    "\n",
    "Lo siguiente que debemos buscar es la posible **colinealidad** entre algunas de estas variables. La colinealidad se da cuando 2 variables (columnas) están altamente correlacionadas y corren el riesgo de duplicar información. Si tenemos 2 características que transmiten la misma información usando 2 medidas o métricas diferentes, no necesitamos conservar ambas.\n",
    "\n",
    "Si bien podemos verificar la colinealidad entre 2 columnas usando la matriz de correlación, corremos el riesgo de sobrecarga de información. En su lugar, podemos generar un mapa de [calor de matriz de correlación](http://seaborn.pydata.org/examples/heatmap_annotation.html) usando Seaborn para comparar visualmente las correlaciones y buscar correlaciones de características por pares. Debido a que estamos buscando valores atípicos en el mapa de calor, esta representación visual es más fácil.\n",
    "\n",
    "Así es como se ve el mapa de calor de la matriz de correlación de ejemplo de la documentación:\n",
    "\n",
    "<img src=\"figs/correlation_heatmap_matrix.png\" widht=\"800\" height=\"600\"/>\n",
    "\n",
    "\n",
    "Para generar un mapa de calor de matriz de correlación, debemos pasar el dataframe que contiene la matriz de correlación como un dataframe a la función `seaborn.heatmap()`.\n",
    "\n",
    "### Ejercicio\n",
    "\n",
    "- Seleccione solo las columnas en `sorted_corrs` con una correlación superior a 0,3 y asígnelas a `strong_corrs`.\n",
    "- Filtre `train_subset` utilizando los índices de `strong_corrs` y almacene las correlaciones en `corrmat`.\n",
    "- Use la función [`seaborn.heatmap`](http://seaborn.pydata.org/generated/seaborn.heatmap.html) para generar un mapa de calor de matriz de correlación para las columnas en strong_corrs."
   ]
  },
  {
   "cell_type": "code",
   "execution_count": 196,
   "id": "0488a293",
   "metadata": {},
   "outputs": [],
   "source": [
    "strong_corrs = sorted_corrs[sorted_corrs > 0.3]\n",
    "corrmat = train_subset[strong_corrs.index].corr()"
   ]
  },
  {
   "cell_type": "code",
   "execution_count": 197,
   "id": "0bde368c",
   "metadata": {},
   "outputs": [
    {
     "name": "stdout",
     "output_type": "stream",
     "text": [
      "               SalePrice  Overall Qual  Gr Liv Area  Garage Cars  Garage Area  \\\n",
      "SalePrice       1.000000      0.804562     0.698990     0.663485     0.662397   \n",
      "Overall Qual    0.804562      1.000000     0.562903     0.609088     0.581106   \n",
      "Gr Liv Area     0.698990      0.562903     1.000000     0.498711     0.465366   \n",
      "Garage Cars     0.663485      0.609088     0.498711     1.000000     0.890509   \n",
      "Garage Area     0.662397      0.581106     0.465366     0.890509     1.000000   \n",
      "1st Flr SF      0.657119      0.490056     0.515404     0.441351     0.477281   \n",
      "Full Bath       0.518194      0.505102     0.625981     0.468295     0.402743   \n",
      "Fireplaces      0.485683      0.386205     0.460746     0.342560     0.302616   \n",
      "TotRms AbvGrd   0.483701      0.360203     0.807301     0.343422     0.295586   \n",
      "Open Porch SF   0.344383      0.319954     0.321806     0.190875     0.218563   \n",
      "Wood Deck SF    0.319104      0.260258     0.238396     0.227391     0.219300   \n",
      "\n",
      "               1st Flr SF  Full Bath  Fireplaces  TotRms AbvGrd  \\\n",
      "SalePrice        0.657119   0.518194    0.485683       0.483701   \n",
      "Overall Qual     0.490056   0.505102    0.386205       0.360203   \n",
      "Gr Liv Area      0.515404   0.625981    0.460746       0.807301   \n",
      "Garage Cars      0.441351   0.468295    0.342560       0.343422   \n",
      "Garage Area      0.477281   0.402743    0.302616       0.295586   \n",
      "1st Flr SF       1.000000   0.341061    0.429662       0.360595   \n",
      "Full Bath        0.341061   1.000000    0.245036       0.517731   \n",
      "Fireplaces       0.429662   0.245036    1.000000       0.307189   \n",
      "TotRms AbvGrd    0.360595   0.517731    0.307189       1.000000   \n",
      "Open Porch SF    0.191891   0.255968    0.148664       0.222774   \n",
      "Wood Deck SF     0.206013   0.180358    0.209153       0.148162   \n",
      "\n",
      "               Open Porch SF  Wood Deck SF  \n",
      "SalePrice           0.344383      0.319104  \n",
      "Overall Qual        0.319954      0.260258  \n",
      "Gr Liv Area         0.321806      0.238396  \n",
      "Garage Cars         0.190875      0.227391  \n",
      "Garage Area         0.218563      0.219300  \n",
      "1st Flr SF          0.191891      0.206013  \n",
      "Full Bath           0.255968      0.180358  \n",
      "Fireplaces          0.148664      0.209153  \n",
      "TotRms AbvGrd       0.222774      0.148162  \n",
      "Open Porch SF       1.000000      0.039738  \n",
      "Wood Deck SF        0.039738      1.000000  \n"
     ]
    }
   ],
   "source": [
    "print(corrmat)"
   ]
  },
  {
   "cell_type": "code",
   "execution_count": 198,
   "id": "e51c7322",
   "metadata": {},
   "outputs": [
    {
     "data": {
      "image/png": "[encoded data removed]",
      "text/plain": [
       "<Figure size 720x576 with 2 Axes>"
      ]
     },
     "metadata": {},
     "output_type": "display_data"
    }
   ],
   "source": [
    "plt.figure(figsize=(10,8))\n",
    "sns.heatmap(corrmat)\n",
    "plt.show()"
   ]
  },
  {
   "cell_type": "markdown",
   "id": "cba9186b",
   "metadata": {},
   "source": [
    "## 4. Modelo de entrenamiento y prueba.\n",
    "Según el mapa de calor de la matriz de correlación, podemos decir que los siguientes pares de columnas están fuertemente correlacionados:\n",
    "\n",
    "- Gr Liv Area y TotRms AbvGrd\n",
    "- Garage Area y Garage Cars\n",
    "\n",
    "Si leemos las descripciones de estas columnas de la documentación de datos, podemos decir que cada par de columnas refleja información muy similar. Debido a que `Gr Liv Area` y `Garage Area` son variables continuas que captan más matices, eliminemos `TotRms AbvGrd` y `Garage Cars`.\n",
    "\n",
    "Lo último que debemos hacer es confirmar que el conjunto de prueba no contiene valores faltantes para estas columnas:"
   ]
  },
  {
   "cell_type": "code",
   "execution_count": 199,
   "id": "bdd7ce24",
   "metadata": {},
   "outputs": [
    {
     "name": "stdout",
     "output_type": "stream",
     "text": [
      "SalePrice        1.000000\n",
      "Overall Qual     0.804562\n",
      "Gr Liv Area      0.698990\n",
      "Garage Cars      0.663485\n",
      "Garage Area      0.662397\n",
      "1st Flr SF       0.657119\n",
      "Full Bath        0.518194\n",
      "Fireplaces       0.485683\n",
      "TotRms AbvGrd    0.483701\n",
      "Open Porch SF    0.344383\n",
      "Wood Deck SF     0.319104\n",
      "Name: SalePrice, dtype: float64 \n",
      "\n",
      "SalePrice        1.000000\n",
      "Overall Qual     0.804562\n",
      "Gr Liv Area      0.698990\n",
      "Garage Area      0.662397\n",
      "1st Flr SF       0.657119\n",
      "Full Bath        0.518194\n",
      "Fireplaces       0.485683\n",
      "Open Porch SF    0.344383\n",
      "Wood Deck SF     0.319104\n",
      "Name: SalePrice, dtype: float64\n"
     ]
    }
   ],
   "source": [
    "print(strong_corrs, '\\n')\n",
    "print(strong_corrs.drop(['Garage Cars', 'TotRms AbvGrd']))"
   ]
  },
  {
   "cell_type": "code",
   "execution_count": 200,
   "id": "4a5fba10",
   "metadata": {},
   "outputs": [
    {
     "name": "stdout",
     "output_type": "stream",
     "text": [
      "<class 'pandas.core.frame.DataFrame'>\n",
      "RangeIndex: 1470 entries, 1460 to 2929\n",
      "Data columns (total 9 columns):\n",
      " #   Column         Non-Null Count  Dtype  \n",
      "---  ------         --------------  -----  \n",
      " 0   SalePrice      1470 non-null   int64  \n",
      " 1   Overall Qual   1470 non-null   int64  \n",
      " 2   Gr Liv Area    1470 non-null   int64  \n",
      " 3   Garage Area    1469 non-null   float64\n",
      " 4   1st Flr SF     1470 non-null   int64  \n",
      " 5   Full Bath      1470 non-null   int64  \n",
      " 6   Fireplaces     1470 non-null   int64  \n",
      " 7   Open Porch SF  1470 non-null   int64  \n",
      " 8   Wood Deck SF   1470 non-null   int64  \n",
      "dtypes: float64(1), int64(8)\n",
      "memory usage: 103.5 KB\n",
      "None\n"
     ]
    }
   ],
   "source": [
    "final_corr_cols = strong_corrs.drop(['Garage Cars', 'TotRms AbvGrd'])\n",
    "print(test[final_corr_cols.index].info())"
   ]
  },
  {
   "cell_type": "markdown",
   "id": "d789d956",
   "metadata": {},
   "source": [
    "Parece que el conjunto de prueba tiene **una fila** en la que falta un valor para `Garage Area`. Quitemos esta fila por ahora. Finalmente, entrenemos y probemos un modelo usando estas columnas para ver cómo les va."
   ]
  },
  {
   "cell_type": "markdown",
   "id": "027339dd",
   "metadata": {},
   "source": [
    "### Ejercicio\n",
    "\n",
    "- Filtre el dataframe `test` para que solo contenga las columnas de `final_corr_cols.index`. Luego, quite la fila que contiene los valores faltantes y asigne el resultado a `clean_test`\n",
    "- Cree un modelo de regresión lineal.\n",
    "- Calcule el RMSE en los conjuntos de prueba y entrenamiento.\n",
    "- Asigne el RMSE de tren a `train_rmse` y el RMSE de prueba a `test_rmse`."
   ]
  },
  {
   "cell_type": "code",
   "execution_count": 201,
   "id": "7660727a",
   "metadata": {},
   "outputs": [
    {
     "name": "stdout",
     "output_type": "stream",
     "text": [
      "      SalePrice  Overall Qual  Gr Liv Area  Garage Area  1st Flr SF  \\\n",
      "1460     274000             9         1947        725.0        1366   \n",
      "1461     300000             8         1786        715.0        1786   \n",
      "1462     255900             8         2290        779.0        1149   \n",
      "1463     224900             7         1768        543.0         884   \n",
      "1464     240000             7         2327        596.0        1129   \n",
      "...         ...           ...          ...          ...         ...   \n",
      "2925     142500             6         1003        588.0        1003   \n",
      "2926     131000             5          902        484.0         902   \n",
      "2927     132000             5          970          0.0         970   \n",
      "2928     170000             5         1389        418.0        1389   \n",
      "2929     188000             7         2000        650.0         996   \n",
      "\n",
      "      Full Bath  Fireplaces  Open Porch SF  Wood Deck SF  \n",
      "1460          2           1            116           168  \n",
      "1461          2           1             35           182  \n",
      "1462          2           1              0             0  \n",
      "1463          2           0             63             0  \n",
      "1464          2           1             57             0  \n",
      "...         ...         ...            ...           ...  \n",
      "2925          1           0              0           120  \n",
      "2926          1           0              0           164  \n",
      "2927          1           0             32            80  \n",
      "2928          1           1             38           240  \n",
      "2929          2           1             48           190  \n",
      "\n",
      "[1469 rows x 9 columns]\n"
     ]
    }
   ],
   "source": [
    "clean_test = test[final_corr_cols.index].dropna().copy()\n",
    "print(clean_test)"
   ]
  },
  {
   "cell_type": "code",
   "execution_count": 202,
   "id": "f3d57f85",
   "metadata": {},
   "outputs": [],
   "source": [
    "features = final_corr_cols[1:].index.values.tolist()\n",
    "target = 'SalePrice'"
   ]
  },
  {
   "cell_type": "code",
   "execution_count": 203,
   "id": "b16dfc4c",
   "metadata": {},
   "outputs": [
    {
     "data": {
      "text/plain": [
       "LinearRegression()"
      ]
     },
     "execution_count": 203,
     "metadata": {},
     "output_type": "execute_result"
    }
   ],
   "source": [
    "lr = LinearRegression()\n",
    "lr.fit(train[features], train[target])\n"
   ]
  },
  {
   "cell_type": "code",
   "execution_count": 204,
   "id": "396fabdb",
   "metadata": {},
   "outputs": [],
   "source": [
    "train_mse = mean_squared_error(lr.predict(train[features]), train[target])\n",
    "test_mse = mean_squared_error(lr.predict(clean_test[features]), clean_test[target])\n",
    "\n",
    "train_rmse = np.sqrt(train_mse)\n",
    "test_rmse = np.sqrt(test_mse)"
   ]
  },
  {
   "cell_type": "code",
   "execution_count": 205,
   "id": "c24fca0b",
   "metadata": {},
   "outputs": [
    {
     "name": "stdout",
     "output_type": "stream",
     "text": [
      "34173.97629185851\n",
      "41032.02612019744\n"
     ]
    }
   ],
   "source": [
    "print(train_rmse)\n",
    "print(test_rmse)"
   ]
  },
  {
   "cell_type": "markdown",
   "id": "85359963",
   "metadata": {},
   "source": [
    "## 5. Eliminación de características de baja varianza.\n",
    "La última técnica que exploraremos es eliminar características con poca variación. Cuando los valores de una columna de características tienen una varianza baja, no contribuyen significativamente a la capacidad predictiva del modelo. En el extremo, imaginemos una columna con una varianza de 0. Esto significaría que todos los valores en esa columna **son exactamente iguales**. Esto significa que la columna no es informativa y no ayudará al modelo a hacer mejores predicciones.\n",
    "\n",
    "Para hacer comparaciones de manzanas con manzanas entre columnas, necesitamos reescalar todas las columnas para que varíen entre 0 y 1. Esto se conoce como escalado mínimo-máximo (min.max) o [reescalado](https://en.wikipedia.org/wiki/Feature_scaling#Rescaling). Aquí está la fórmula para cambiar la escala:\n",
    "\n",
    "$$\\dfrac{x - \\min(x)} {\\max(x) - \\min(x)}$$\n",
    "\n",
    "donde\n",
    "\n",
    "- $x$ es un valor individual\n",
    "- $\\min(x)$ es el valor mínimo en la columna a la que pertenece $x$\n",
    "- $\\max(x)$ es el valor máximo en la columna a la que pertenece $x$\n",
    "\n",
    "### Ejercicio\n",
    "\n",
    "- Seleccione las columnas en `features` del dataframe de entrenamiento. Vuelva a escalar cada una de las columnas para que los valores oscilen entre `0` y `1`, utilizando `train[features]` en lugar de $x$  en la fórmula anterior. Asigne el resultado a `unit_train`.\n",
    "- Calcule y muestre los valores mínimo y máximo de la columna de `unit_train` para asegurarse de que todos los valores van de `0` a `1`.\n"
   ]
  },
  {
   "cell_type": "code",
   "execution_count": 206,
   "id": "d048d5d3",
   "metadata": {},
   "outputs": [
    {
     "name": "stdout",
     "output_type": "stream",
     "text": [
      "       Overall Qual  Gr Liv Area  Garage Area   1st Flr SF    Full Bath  \\\n",
      "count   1460.000000  1460.000000  1460.000000  1460.000000  1460.000000   \n",
      "mean       0.567580     0.351245     0.318119     0.335449     0.391438   \n",
      "std        0.156512     0.151916     0.142642     0.160668     0.136459   \n",
      "min        0.000000     0.000000     0.000000     0.000000     0.000000   \n",
      "25%        0.444444     0.238091     0.224798     0.211704     0.250000   \n",
      "50%        0.555556     0.339274     0.322581     0.307229     0.500000   \n",
      "75%        0.666667     0.429439     0.387097     0.434703     0.500000   \n",
      "max        1.000000     1.000000     1.000000     1.000000     1.000000   \n",
      "\n",
      "        Fireplaces  Open Porch SF  Wood Deck SF  \n",
      "count  1460.000000    1460.000000   1460.000000  \n",
      "mean      0.198402       0.084983      0.138207  \n",
      "std       0.215846       0.118058      0.181836  \n",
      "min       0.000000       0.000000      0.000000  \n",
      "25%       0.000000       0.000000      0.000000  \n",
      "50%       0.333333       0.047532      0.000000  \n",
      "75%       0.333333       0.127971      0.251497  \n",
      "max       1.000000       1.000000      1.000000  \n"
     ]
    }
   ],
   "source": [
    "unit_train = (train[features] - train[features].min()) / (train[features].max() - train[features].min())\n",
    "print(unit_train.describe())"
   ]
  },
  {
   "cell_type": "markdown",
   "id": "bf495801",
   "metadata": {},
   "source": [
    "## 6. Modelo Final.\n",
    "Calculemos las varianzas y eliminemos las columnas con la varianza más baja."
   ]
  },
  {
   "cell_type": "code",
   "execution_count": 207,
   "id": "27bf47bb",
   "metadata": {},
   "outputs": [
    {
     "name": "stdout",
     "output_type": "stream",
     "text": [
      "Open Porch SF    0.013938\n",
      "Full Bath        0.018621\n",
      "Garage Area      0.020347\n",
      "Gr Liv Area      0.023078\n",
      "Overall Qual     0.024496\n",
      "1st Flr SF       0.025814\n",
      "Wood Deck SF     0.033064\n",
      "Fireplaces       0.046589\n",
      "dtype: float64\n"
     ]
    }
   ],
   "source": [
    "print(unit_train.var().sort_values())"
   ]
  },
  {
   "cell_type": "markdown",
   "id": "431f8f67",
   "metadata": {},
   "source": [
    "Vemos que `Open Porch SF` es la columna con la varianza más baja y está más alejada de `Full Bath` que `Full Bath` de la siguiente.\n",
    "\n",
    "Para concluir este ejercicio, eliminemos `Open Porch SF` y entrenemos y probemos un modelo usando las funciones restantes."
   ]
  },
  {
   "cell_type": "code",
   "execution_count": 208,
   "id": "5e0cd978",
   "metadata": {},
   "outputs": [
    {
     "name": "stdout",
     "output_type": "stream",
     "text": [
      "0.004683363469317758\n",
      "0.0017256722972076727\n"
     ]
    }
   ],
   "source": [
    "print(unit_train.var().sort_values()[1] - unit_train.var().sort_values()[0]  )\n",
    "print(unit_train.var().sort_values()[2] - unit_train.var().sort_values()[1]  )"
   ]
  },
  {
   "cell_type": "code",
   "execution_count": 209,
   "id": "5cc25581",
   "metadata": {},
   "outputs": [
    {
     "data": {
      "text/plain": [
       "Open Porch SF         NaN\n",
       "Full Bath        0.004683\n",
       "Garage Area      0.001726\n",
       "Gr Liv Area      0.002732\n",
       "Overall Qual     0.001417\n",
       "1st Flr SF       0.001318\n",
       "Wood Deck SF     0.007250\n",
       "Fireplaces       0.013525\n",
       "dtype: float64"
      ]
     },
     "execution_count": 209,
     "metadata": {},
     "output_type": "execute_result"
    }
   ],
   "source": [
    "unit_train.var().sort_values().diff()"
   ]
  },
  {
   "cell_type": "markdown",
   "id": "43da8c13",
   "metadata": {},
   "source": [
    "### Ejercicio\n",
    "- Elimina `Open Porch SF` de las características.\n",
    "- Cree un modelo de regresión lineal utilizando las funciones restantes.\n",
    "- Calcule el RMSE en los conjuntos de prueba y entrenamiento.\n",
    "    - Use `clean_test` \n",
    "- Asigne el RMSE de entrenamiento a `train_rmse_2` y el RMSE de prueba a `test_rmse_2`.\n",
    "- Muestra ambos valores RMSE usando la función `print()`"
   ]
  },
  {
   "cell_type": "code",
   "execution_count": 210,
   "id": "39ca6888",
   "metadata": {},
   "outputs": [
    {
     "name": "stdout",
     "output_type": "stream",
     "text": [
      "['Overall Qual', 'Gr Liv Area', 'Garage Area', '1st Flr SF', 'Full Bath', 'Fireplaces', 'Open Porch SF', 'Wood Deck SF']\n"
     ]
    }
   ],
   "source": [
    "print(features)"
   ]
  },
  {
   "cell_type": "code",
   "execution_count": 211,
   "id": "2ccd2ac8",
   "metadata": {},
   "outputs": [
    {
     "name": "stdout",
     "output_type": "stream",
     "text": [
      "['Overall Qual', 'Gr Liv Area', 'Garage Area', '1st Flr SF', 'Full Bath', 'Fireplaces', 'Wood Deck SF']\n",
      "7\n"
     ]
    }
   ],
   "source": [
    "features.remove('Open Porch SF')\n",
    "print(features)\n",
    "\n",
    "print(len(features))"
   ]
  },
  {
   "cell_type": "code",
   "execution_count": 212,
   "id": "3ac3ba00",
   "metadata": {},
   "outputs": [
    {
     "name": "stdout",
     "output_type": "stream",
     "text": [
      "34372.696707783965\n",
      "40591.42702437728\n"
     ]
    }
   ],
   "source": [
    "lr = LinearRegression()\n",
    "lr.fit(train[features], train[target])\n",
    "\n",
    "\n",
    "train_rmse_2 = np.sqrt(mean_squared_error(\n",
    "    lr.predict(train[features]),\n",
    "    train[target],\n",
    "))\n",
    "\n",
    "test_rmse_2 = np.sqrt(mean_squared_error(\n",
    "    lr.predict(clean_test[features]),\n",
    "    clean_test[target],\n",
    ")\n",
    ")\n",
    "\n",
    "print(train_rmse_2)\n",
    "print(test_rmse_2)"
   ]
  },
  {
   "cell_type": "markdown",
   "id": "b7b3e4e7",
   "metadata": {},
   "source": [
    "Pudimos mejorar el valor RMSE a aproximadamente 40591 al eliminar la variable `Open Porch SF`. Lo más probable es que esto sea lo más lejos que podamos llegar sin transformar y utilizar las otras funciones en el conjunto de datos, así que nos detendremos aquí por ahora. En las próximas 2 lecciones, exploraremos 2 formas diferentes de ajustar modelos. Luego, exploraremos formas de limpiar y diseñar nuevas funciones a partir de las funciones existentes para mejorar aún más la precisión del modelo."
   ]
  }
 ],
 "metadata": {
  "kernelspec": {
   "display_name": "Python 3",
   "language": "python",
   "name": "python3"
  },
  "language_info": {
   "codemirror_mode": {
    "name": "ipython",
    "version": 3
   },
   "file_extension": ".py",
   "mimetype": "text/x-python",
   "name": "python",
   "nbconvert_exporter": "python",
   "pygments_lexer": "ipython3",
   "version": "3.8.8"
  }
 },
 "nbformat": 4,
 "nbformat_minor": 5
}
