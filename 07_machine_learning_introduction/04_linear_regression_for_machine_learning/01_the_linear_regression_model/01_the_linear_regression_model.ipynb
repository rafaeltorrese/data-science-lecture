{
 "cells": [
  {
   "cell_type": "markdown",
   "id": "b75b2798",
   "metadata": {},
   "source": [
    "<center><h1>El modelo de regresión lineal</h1></center>"
   ]
  },
  {
   "cell_type": "markdown",
   "id": "b106cf92",
   "metadata": {},
   "source": [
    "## 1. Aprendizaje basado en instancias vs. Aprendizaje basado en modelos.\n",
    "\n",
    "Recorrimos el flujo de trabajo completo del aprendizaje automático mediante el algoritmo de k-vecinos más cercanos. K-vecinos más cercanos funciona al encontrar ejemplos etiquetados similares del conjunto de entrenamiento para cada instancia en el conjunto de prueba y los usa para predecir la etiqueta. K-vecinos más cercanos se conoce como un algoritmo de aprendizaje **basado en instancias** porque se basa completamente en instancias anteriores para hacer predicciones. El algoritmo de k vecinos más cercanos no intenta comprender ni capturar la relación entre las columnas de características y la columna objetivo.\n",
    "\n",
    "Debido a que todo el conjunto de datos de entrenamiento se usa para encontrar los vecinos más cercanos de una nueva instancia para hacer predicciones de etiquetas, este algoritmo no se adapta bien a conjuntos de datos medianos y grandes. Si tenemos un millón de instancias en nuestro conjunto de datos de entrenamiento y queremos hacer predicciones para cien mil instancias nuevas, tendríamos que ordenar el millón de instancias en el conjunto de entrenamiento por distancia euclidiana para cada instancia. El siguiente diagrama proporciona una descripción general de la complejidad de los k-vecinos más cercanos:\n",
    "\n",
    "<img src=\"figs/knn_complexity.svg\" widht=\"800\" height=\"600\"/>\n",
    "\n",
    "En su lugar, debemos aprender sobre enfoques de **aprendizaje automático paramétrico**, como la regresión lineal y la regresión logística. A diferencia del algoritmo de k vecinos más cercanos, el resultado del proceso de entrenamiento para estos algoritmos de aprendizaje automático es una función matemática que se aproxima mejor a los patrones en el conjunto de entrenamiento. En el aprendizaje automático, esta función a menudo se denomina **modelo**.\n",
    "\n",
    "En este curso, exploraremos el modelo de aprendizaje automático más utilizado: **el modelo de regresión lineal**. Los enfoques de aprendizaje automático paramétrico funcionan haciendo suposiciones sobre la relación entre las características y la columna de destino. En la regresión lineal, la relación aproximada entre las columnas de características y la columna objetivo se expresa como una ecuación de regresión lineal:\n",
    "\n",
    "$y = a_1x_1 + a_2x_2 + \\cdots+ a_nx_n  $\n",
    "\n",
    "El siguiente diagrama proporciona una descripción general del proceso de aprendizaje automático para la regresión lineal. Por ahora, el objetivo no es comprender todo el proceso, sino más bien comparar y contrastar con el **enfoque no paramétrico** de k-vecinos más cercanos.\n",
    "\n",
    "<img src=\"figs/regression_complexity.png\" widht=\"800\" height=\"600\"/>\n",
    "\n",
    "A continuación proporcionaremos una descripción general de cómo usamos un modelo de regresión lineal para hacer predicciones. Usaremos scikit-learn para el proceso de entrenamiento del modelo, de modo que podamos centrarnos en ganar intuición para el enfoque de aprendizaje basado en modelos para el aprendizaje automático. Posteriormente, nos sumergiremos en las matemáticas detrás de cómo se ajusta un modelo al conjunto de datos, cómo seleccionar y transformar características, y más.\n"
   ]
  },
  {
   "cell_type": "markdown",
   "id": "7fd365ef",
   "metadata": {},
   "source": [
    "## 2. Introducción a los datos\n",
    "\n",
    "Para familiarizarse con este enfoque de aprendizaje automático, trabajaremos con un conjunto de datos sobre casas vendidas en Ames, Iowa. Cada fila en el conjunto de datos describe las propiedades de una sola casa, así como la cantidad por la que se vendió. Construiremos modelos que predicen el precio de venta final a partir de sus otros atributos. Específicamente, exploraremos las siguientes preguntas:\n",
    "\n",
    "- ¿Qué propiedades de una casa afectan más el precio final de venta?\n",
    "- ¿Con qué eficacia podemos predecir el precio de venta solo a partir de sus propiedades?\n",
    "\n",
    "Este conjunto de datos fue compilado originalmente por [Dean De Cock](https://www.truman.edu/faculty-staff/decock/) con el objetivo principal de tener un conjunto de datos de alta calidad para la regresión. Puede leer más sobre su proceso y motivación [aquí](https://www.tandfonline.com/doi/abs/10.1080/10691898.2011.11889627).\n",
    "\n",
    "Estas son algunas de las columnas:\n",
    "\n",
    "- `Lot Area`: Tamaño del lote en pies cuadrados.\n",
    "- `Overall Qual`: Califica el material general y el acabado de la casa.\n",
    "- `Overall Cond`: Califica el estado general de la casa.\n",
    "- `Year Built`: Fecha de construcción original.\n",
    "- `Low Qual Fin SF`: Pies cuadrados terminados de baja calidad (todos los pisos).\n",
    "- `Full Bath`: Baños completos sobre rasante.\n",
    "- `Fireplaces`: Número de chimeneas.\n",
    "\n",
    "\n",
    "Comencemos por generar conjuntos de datos de entrenamiento y prueba y familiarizarnos más con los datos.\n",
    "\n",
    "\n",
    "### Ejercicio\n",
    "- Lea `AmesHousing.txt` en un dataframe usando el delimitador de tabulación (`\\t`) y asígnelo `data`.\n",
    "- Seleccione las primeras 1460 filas de `data` y asígnelas a `train`.\n",
    "- Seleccione las filas restantes de `data` y asígnelas a `test`.\n",
    "- Utilice el método `dataframe.info()` para mostrar información sobre cada columna.\n",
    "- Lea la documentación de datos para familiarizarse más con cada columna.\n",
    "- Usando la documentación de `datos`, determine qué columna es la columna objetivo que queremos predecir. Asigne el nombre de la columna como una cadena a `target`.\n"
   ]
  },
  {
   "cell_type": "code",
   "execution_count": 2,
   "id": "2f797e52",
   "metadata": {},
   "outputs": [],
   "source": [
    "import numpy as np\n",
    "import pandas as pd\n",
    "\n",
    "import matplotlib.pyplot as plt"
   ]
  },
  {
   "cell_type": "code",
   "execution_count": 4,
   "id": "eaaea4d9",
   "metadata": {},
   "outputs": [],
   "source": [
    "data = pd.read_csv('AmesHousing.txt', delimiter='\\t')\n"
   ]
  },
  {
   "cell_type": "code",
   "execution_count": 5,
   "id": "22cdcabc",
   "metadata": {},
   "outputs": [
    {
     "data": {
      "text/html": [
       "<div>\n",
       "<style scoped>\n",
       "    .dataframe tbody tr th:only-of-type {\n",
       "        vertical-align: middle;\n",
       "    }\n",
       "\n",
       "    .dataframe tbody tr th {\n",
       "        vertical-align: top;\n",
       "    }\n",
       "\n",
       "    .dataframe thead th {\n",
       "        text-align: right;\n",
       "    }\n",
       "</style>\n",
       "<table border=\"1\" class=\"dataframe\">\n",
       "  <thead>\n",
       "    <tr style=\"text-align: right;\">\n",
       "      <th></th>\n",
       "      <th>Order</th>\n",
       "      <th>PID</th>\n",
       "      <th>MS SubClass</th>\n",
       "      <th>MS Zoning</th>\n",
       "      <th>Lot Frontage</th>\n",
       "      <th>Lot Area</th>\n",
       "      <th>Street</th>\n",
       "      <th>Alley</th>\n",
       "      <th>Lot Shape</th>\n",
       "      <th>Land Contour</th>\n",
       "      <th>...</th>\n",
       "      <th>Pool Area</th>\n",
       "      <th>Pool QC</th>\n",
       "      <th>Fence</th>\n",
       "      <th>Misc Feature</th>\n",
       "      <th>Misc Val</th>\n",
       "      <th>Mo Sold</th>\n",
       "      <th>Yr Sold</th>\n",
       "      <th>Sale Type</th>\n",
       "      <th>Sale Condition</th>\n",
       "      <th>SalePrice</th>\n",
       "    </tr>\n",
       "  </thead>\n",
       "  <tbody>\n",
       "    <tr>\n",
       "      <th>0</th>\n",
       "      <td>1</td>\n",
       "      <td>526301100</td>\n",
       "      <td>20</td>\n",
       "      <td>RL</td>\n",
       "      <td>141.0</td>\n",
       "      <td>31770</td>\n",
       "      <td>Pave</td>\n",
       "      <td>NaN</td>\n",
       "      <td>IR1</td>\n",
       "      <td>Lvl</td>\n",
       "      <td>...</td>\n",
       "      <td>0</td>\n",
       "      <td>NaN</td>\n",
       "      <td>NaN</td>\n",
       "      <td>NaN</td>\n",
       "      <td>0</td>\n",
       "      <td>5</td>\n",
       "      <td>2010</td>\n",
       "      <td>WD</td>\n",
       "      <td>Normal</td>\n",
       "      <td>215000</td>\n",
       "    </tr>\n",
       "    <tr>\n",
       "      <th>1</th>\n",
       "      <td>2</td>\n",
       "      <td>526350040</td>\n",
       "      <td>20</td>\n",
       "      <td>RH</td>\n",
       "      <td>80.0</td>\n",
       "      <td>11622</td>\n",
       "      <td>Pave</td>\n",
       "      <td>NaN</td>\n",
       "      <td>Reg</td>\n",
       "      <td>Lvl</td>\n",
       "      <td>...</td>\n",
       "      <td>0</td>\n",
       "      <td>NaN</td>\n",
       "      <td>MnPrv</td>\n",
       "      <td>NaN</td>\n",
       "      <td>0</td>\n",
       "      <td>6</td>\n",
       "      <td>2010</td>\n",
       "      <td>WD</td>\n",
       "      <td>Normal</td>\n",
       "      <td>105000</td>\n",
       "    </tr>\n",
       "    <tr>\n",
       "      <th>2</th>\n",
       "      <td>3</td>\n",
       "      <td>526351010</td>\n",
       "      <td>20</td>\n",
       "      <td>RL</td>\n",
       "      <td>81.0</td>\n",
       "      <td>14267</td>\n",
       "      <td>Pave</td>\n",
       "      <td>NaN</td>\n",
       "      <td>IR1</td>\n",
       "      <td>Lvl</td>\n",
       "      <td>...</td>\n",
       "      <td>0</td>\n",
       "      <td>NaN</td>\n",
       "      <td>NaN</td>\n",
       "      <td>Gar2</td>\n",
       "      <td>12500</td>\n",
       "      <td>6</td>\n",
       "      <td>2010</td>\n",
       "      <td>WD</td>\n",
       "      <td>Normal</td>\n",
       "      <td>172000</td>\n",
       "    </tr>\n",
       "    <tr>\n",
       "      <th>3</th>\n",
       "      <td>4</td>\n",
       "      <td>526353030</td>\n",
       "      <td>20</td>\n",
       "      <td>RL</td>\n",
       "      <td>93.0</td>\n",
       "      <td>11160</td>\n",
       "      <td>Pave</td>\n",
       "      <td>NaN</td>\n",
       "      <td>Reg</td>\n",
       "      <td>Lvl</td>\n",
       "      <td>...</td>\n",
       "      <td>0</td>\n",
       "      <td>NaN</td>\n",
       "      <td>NaN</td>\n",
       "      <td>NaN</td>\n",
       "      <td>0</td>\n",
       "      <td>4</td>\n",
       "      <td>2010</td>\n",
       "      <td>WD</td>\n",
       "      <td>Normal</td>\n",
       "      <td>244000</td>\n",
       "    </tr>\n",
       "    <tr>\n",
       "      <th>4</th>\n",
       "      <td>5</td>\n",
       "      <td>527105010</td>\n",
       "      <td>60</td>\n",
       "      <td>RL</td>\n",
       "      <td>74.0</td>\n",
       "      <td>13830</td>\n",
       "      <td>Pave</td>\n",
       "      <td>NaN</td>\n",
       "      <td>IR1</td>\n",
       "      <td>Lvl</td>\n",
       "      <td>...</td>\n",
       "      <td>0</td>\n",
       "      <td>NaN</td>\n",
       "      <td>MnPrv</td>\n",
       "      <td>NaN</td>\n",
       "      <td>0</td>\n",
       "      <td>3</td>\n",
       "      <td>2010</td>\n",
       "      <td>WD</td>\n",
       "      <td>Normal</td>\n",
       "      <td>189900</td>\n",
       "    </tr>\n",
       "  </tbody>\n",
       "</table>\n",
       "<p>5 rows × 82 columns</p>\n",
       "</div>"
      ],
      "text/plain": [
       "   Order        PID  MS SubClass MS Zoning  Lot Frontage  Lot Area Street  \\\n",
       "0      1  526301100           20        RL         141.0     31770   Pave   \n",
       "1      2  526350040           20        RH          80.0     11622   Pave   \n",
       "2      3  526351010           20        RL          81.0     14267   Pave   \n",
       "3      4  526353030           20        RL          93.0     11160   Pave   \n",
       "4      5  527105010           60        RL          74.0     13830   Pave   \n",
       "\n",
       "  Alley Lot Shape Land Contour  ... Pool Area Pool QC  Fence Misc Feature  \\\n",
       "0   NaN       IR1          Lvl  ...         0     NaN    NaN          NaN   \n",
       "1   NaN       Reg          Lvl  ...         0     NaN  MnPrv          NaN   \n",
       "2   NaN       IR1          Lvl  ...         0     NaN    NaN         Gar2   \n",
       "3   NaN       Reg          Lvl  ...         0     NaN    NaN          NaN   \n",
       "4   NaN       IR1          Lvl  ...         0     NaN  MnPrv          NaN   \n",
       "\n",
       "  Misc Val Mo Sold Yr Sold Sale Type  Sale Condition  SalePrice  \n",
       "0        0       5    2010       WD           Normal     215000  \n",
       "1        0       6    2010       WD           Normal     105000  \n",
       "2    12500       6    2010       WD           Normal     172000  \n",
       "3        0       4    2010       WD           Normal     244000  \n",
       "4        0       3    2010       WD           Normal     189900  \n",
       "\n",
       "[5 rows x 82 columns]"
      ]
     },
     "execution_count": 5,
     "metadata": {},
     "output_type": "execute_result"
    }
   ],
   "source": [
    "data.head()"
   ]
  },
  {
   "cell_type": "code",
   "execution_count": 9,
   "id": "60910815",
   "metadata": {},
   "outputs": [
    {
     "name": "stdout",
     "output_type": "stream",
     "text": [
      "1465.0\n",
      "(1465, 82)\n",
      "(1465, 82)\n"
     ]
    }
   ],
   "source": [
    "print(data.shape[0] / 2)\n",
    "train = data[:1465].copy()\n",
    "test = data[1465:].copy()\n",
    "\n",
    "print(train.shape)\n",
    "print(test.shape)"
   ]
  },
  {
   "cell_type": "code",
   "execution_count": 10,
   "id": "f89e96fb",
   "metadata": {},
   "outputs": [
    {
     "name": "stdout",
     "output_type": "stream",
     "text": [
      "<class 'pandas.core.frame.DataFrame'>\n",
      "RangeIndex: 2930 entries, 0 to 2929\n",
      "Data columns (total 82 columns):\n",
      " #   Column           Non-Null Count  Dtype  \n",
      "---  ------           --------------  -----  \n",
      " 0   Order            2930 non-null   int64  \n",
      " 1   PID              2930 non-null   int64  \n",
      " 2   MS SubClass      2930 non-null   int64  \n",
      " 3   MS Zoning        2930 non-null   object \n",
      " 4   Lot Frontage     2440 non-null   float64\n",
      " 5   Lot Area         2930 non-null   int64  \n",
      " 6   Street           2930 non-null   object \n",
      " 7   Alley            198 non-null    object \n",
      " 8   Lot Shape        2930 non-null   object \n",
      " 9   Land Contour     2930 non-null   object \n",
      " 10  Utilities        2930 non-null   object \n",
      " 11  Lot Config       2930 non-null   object \n",
      " 12  Land Slope       2930 non-null   object \n",
      " 13  Neighborhood     2930 non-null   object \n",
      " 14  Condition 1      2930 non-null   object \n",
      " 15  Condition 2      2930 non-null   object \n",
      " 16  Bldg Type        2930 non-null   object \n",
      " 17  House Style      2930 non-null   object \n",
      " 18  Overall Qual     2930 non-null   int64  \n",
      " 19  Overall Cond     2930 non-null   int64  \n",
      " 20  Year Built       2930 non-null   int64  \n",
      " 21  Year Remod/Add   2930 non-null   int64  \n",
      " 22  Roof Style       2930 non-null   object \n",
      " 23  Roof Matl        2930 non-null   object \n",
      " 24  Exterior 1st     2930 non-null   object \n",
      " 25  Exterior 2nd     2930 non-null   object \n",
      " 26  Mas Vnr Type     2907 non-null   object \n",
      " 27  Mas Vnr Area     2907 non-null   float64\n",
      " 28  Exter Qual       2930 non-null   object \n",
      " 29  Exter Cond       2930 non-null   object \n",
      " 30  Foundation       2930 non-null   object \n",
      " 31  Bsmt Qual        2850 non-null   object \n",
      " 32  Bsmt Cond        2850 non-null   object \n",
      " 33  Bsmt Exposure    2847 non-null   object \n",
      " 34  BsmtFin Type 1   2850 non-null   object \n",
      " 35  BsmtFin SF 1     2929 non-null   float64\n",
      " 36  BsmtFin Type 2   2849 non-null   object \n",
      " 37  BsmtFin SF 2     2929 non-null   float64\n",
      " 38  Bsmt Unf SF      2929 non-null   float64\n",
      " 39  Total Bsmt SF    2929 non-null   float64\n",
      " 40  Heating          2930 non-null   object \n",
      " 41  Heating QC       2930 non-null   object \n",
      " 42  Central Air      2930 non-null   object \n",
      " 43  Electrical       2929 non-null   object \n",
      " 44  1st Flr SF       2930 non-null   int64  \n",
      " 45  2nd Flr SF       2930 non-null   int64  \n",
      " 46  Low Qual Fin SF  2930 non-null   int64  \n",
      " 47  Gr Liv Area      2930 non-null   int64  \n",
      " 48  Bsmt Full Bath   2928 non-null   float64\n",
      " 49  Bsmt Half Bath   2928 non-null   float64\n",
      " 50  Full Bath        2930 non-null   int64  \n",
      " 51  Half Bath        2930 non-null   int64  \n",
      " 52  Bedroom AbvGr    2930 non-null   int64  \n",
      " 53  Kitchen AbvGr    2930 non-null   int64  \n",
      " 54  Kitchen Qual     2930 non-null   object \n",
      " 55  TotRms AbvGrd    2930 non-null   int64  \n",
      " 56  Functional       2930 non-null   object \n",
      " 57  Fireplaces       2930 non-null   int64  \n",
      " 58  Fireplace Qu     1508 non-null   object \n",
      " 59  Garage Type      2773 non-null   object \n",
      " 60  Garage Yr Blt    2771 non-null   float64\n",
      " 61  Garage Finish    2771 non-null   object \n",
      " 62  Garage Cars      2929 non-null   float64\n",
      " 63  Garage Area      2929 non-null   float64\n",
      " 64  Garage Qual      2771 non-null   object \n",
      " 65  Garage Cond      2771 non-null   object \n",
      " 66  Paved Drive      2930 non-null   object \n",
      " 67  Wood Deck SF     2930 non-null   int64  \n",
      " 68  Open Porch SF    2930 non-null   int64  \n",
      " 69  Enclosed Porch   2930 non-null   int64  \n",
      " 70  3Ssn Porch       2930 non-null   int64  \n",
      " 71  Screen Porch     2930 non-null   int64  \n",
      " 72  Pool Area        2930 non-null   int64  \n",
      " 73  Pool QC          13 non-null     object \n",
      " 74  Fence            572 non-null    object \n",
      " 75  Misc Feature     106 non-null    object \n",
      " 76  Misc Val         2930 non-null   int64  \n",
      " 77  Mo Sold          2930 non-null   int64  \n",
      " 78  Yr Sold          2930 non-null   int64  \n",
      " 79  Sale Type        2930 non-null   object \n",
      " 80  Sale Condition   2930 non-null   object \n",
      " 81  SalePrice        2930 non-null   int64  \n",
      "dtypes: float64(11), int64(28), object(43)\n",
      "memory usage: 1.8+ MB\n",
      "None\n"
     ]
    }
   ],
   "source": [
    "print(data.info())"
   ]
  },
  {
   "cell_type": "code",
   "execution_count": 11,
   "id": "d1c93b15",
   "metadata": {},
   "outputs": [],
   "source": [
    "target = 'SalePrice'"
   ]
  },
  {
   "cell_type": "markdown",
   "id": "a76e41e2",
   "metadata": {},
   "source": [
    "## 3. Regresión lineal simple.\n",
    "\n",
    "Comenzaremos por comprender el caso univariante de la regresión lineal, también conocida como **regresión lineal simple**. La siguiente ecuación es la forma general del modelo de regresión lineal simple.\n",
    "\n",
    "$\\hat{y} = a_1x_1 + a_0$\n",
    "\n",
    "$\\hat{y}$ representa la columna objetivo mientras que $x_1$ representa la columna de características que elegimos usar en nuestro modelo. Estos valores son independientes del conjunto de datos. Por otro lado, $a_0$  y $a_1$ representan los valores de los **parámetros** que son específicos del conjunto de datos. El objetivo de la regresión lineal simple es encontrar los valores de parámetros óptimos que mejor describan la relación entre la columna de características y la columna obtivo (target). El siguiente diagrama muestra diferentes modelos de regresión lineal simple dependiendo de los datos:\n",
    "\n",
    "<img src=\"figs/simple_linear_regression.svg\" widht=\"800\" height=\"600\"/>\n",
    "\n",
    "\n",
    "El primer paso es seleccionar la característica, $x_1$, queremos usar en nuestro modelo. Una vez que seleccionamos esta característica (variable), podemos usar scikit-learn para determinar los valores óptimos de los parámetros $a_1$ y $a_0$ en base a los datos de entrenamiento. Debido a que una de las suposiciones de la regresión lineal es que la relación entre las funciones y la columna de destino es lineal, queremos elegir una función que parezca tener la correlación más fuerte con el precio de venta final.\n",
    "\n",
    "\n",
    "### Ejercicio\n",
    "\n",
    "Para explorar los datos, cree un gráfico utilizando el dataframe de `train`.\n",
    "\n",
    "- Cree una figura con dimensiones de 7 x 15 que contenga tres diagramas de dispersión en una sola columna:\n",
    "- El primer gráfico debe trazar la columna `Garage Area` en el eje x contra la columna `SalePrice` en el eje y.\n",
    "- El segundo debe trazar la columna `Gr Liv Area` en el eje x contra la columna `SalePrice` en el eje y.\n",
    "- El tercero debe trazar la columna `Overall Cond` en el eje x contra la columna `SalePrice` en el eje y.\n",
    "- Lea más sobre estas 3 columnas en la documentación de datos."
   ]
  },
  {
   "cell_type": "code",
   "execution_count": 27,
   "id": "7b924f73",
   "metadata": {},
   "outputs": [
    {
     "data": {
      "image/png": "[encoded data removed]",
      "text/plain": [
       "<Figure size 504x1080 with 3 Axes>"
      ]
     },
     "metadata": {
      "needs_background": "light"
     },
     "output_type": "display_data"
    }
   ],
   "source": [
    "plt.figure(figsize=(7,15))\n",
    "plt.subplot(311)\n",
    "plt.scatter(train['Garage Area'], train['SalePrice'])\n",
    "plt.xlabel('Garage Area')\n",
    "plt.ylabel('SalePrice')\n",
    "plt.subplot(312)\n",
    "plt.scatter(train['Gr Liv Area'], train['SalePrice'])\n",
    "plt.xlabel('Gr Liv Area')\n",
    "plt.ylabel('SalePrice')\n",
    "plt.subplot(313)\n",
    "plt.scatter(train['Overall Cond'], train['SalePrice'])\n",
    "plt.xlabel('Overall Cond')\n",
    "plt.ylabel('SalePrice')\n",
    "plt.show()"
   ]
  },
  {
   "cell_type": "markdown",
   "id": "ec5799e4",
   "metadata": {},
   "source": [
    "## 4. Mínimos cuadrados.\n",
    "Podemos decir que la función `Gr Liv Area` se correlaciona más con la columna `SalePrice`. Podemos confirmar esto calculando la correlación entre pares de estas columnas usando el método [`pandas.DataFrame.corr()`](https://pandas.pydata.org/pandas-docs/stable/reference/api/pandas.DataFrame.corr.html):\n"
   ]
  },
  {
   "cell_type": "code",
   "execution_count": 31,
   "id": "434c836d",
   "metadata": {},
   "outputs": [
    {
     "name": "stdout",
     "output_type": "stream",
     "text": [
      "              Garage Area  Gr Liv Area  Overall Cond  SalePrice\n",
      "Garage Area      1.000000     0.467083     -0.133738   0.663488\n",
      "Gr Liv Area      0.467083     1.000000     -0.135278   0.699537\n",
      "Overall Cond    -0.133738    -0.135278      1.000000  -0.100926\n",
      "SalePrice        0.663488     0.699537     -0.100926   1.000000 \n",
      "\n",
      "           Garage Area  Gr Liv Area  Overall Cond  SalePrice\n",
      "SalePrice     0.663488     0.699537     -0.100926        1.0\n"
     ]
    }
   ],
   "source": [
    "print(train[['Garage Area', 'Gr Liv Area', 'Overall Cond', 'SalePrice']].corr(), '\\n')\n",
    "print(train[['Garage Area', 'Gr Liv Area', 'Overall Cond', 'SalePrice']].corr()[-1:])"
   ]
  },
  {
   "cell_type": "markdown",
   "id": "6d5bc9c1",
   "metadata": {},
   "source": [
    "La correlación entre `Gr Liv Area` y SalePrice es de alrededor de 0.70, que es la más alta. Recuerde que cuanto más cerca esté el coeficiente de correlación de 1.0, más fuerte será la correlación. Aquí está la forma actualizada de nuestro modelo:\n",
    "\n",
    "$$\\hat{y} = a_1 * \\text{Gr Liv Area} + a_0$$\n",
    "\n",
    "Pasemos ahora a comprender los criterios de ajuste del modelo.\n",
    "\n",
    "\n",
    "#### Suma Residual De Cuadrados\n",
    "\n",
    "Para encontrar los parámetros óptimos para un modelo de regresión lineal, queremos optimizar la **suma de cuadrados residual** del modelo (o [RSS](https://en.wikipedia.org/wiki/Residual_sum_of_squares)). Si recuerda, residual (a menudo denominado errores) describe la diferencia entre los valores pronosticados para la columna de destino ($\\hat{y}$) y los valores verdaderos ($y$):\n",
    "\n",
    "<img src=\"figs/visualizing_rss.svg\" widht=\"1000\" height=\"1200\"/>\n",
    "\n",
    "Queremos que esta diferencia sea lo más pequeña posible. Calcular RSS implica sumar los errores al cuadrado\n",
    "$$RSS = (y_1 - \\hat{y_1})^2 +  (y_2 - \\hat{y_2})^2 + \\cdots + (y_n - \\hat{y_n})^2\n",
    "$$\n",
    "\n",
    "Podemos acortar esto a: $$RSS = \\sum_{i=1}^{n} (y_i - \\hat{y_i})^2\n",
    "$$\n",
    "\n",
    "Si recuerda, el cálculo de RSS parece muy similar al cálculo de MSE (error cuadrático medio). Aquí está la fórmula para MSE, adaptada para nuestra nueva notación: $$MSE = \\frac{1}{n} \\sum_{i=1}^{n} (y_i - \\hat{y_i})^2\n",
    "$$\n",
    "\n",
    "Si bien usamos el MSE en el conjunto de prueba, está claro que el objetivo de minimizar RSS en el conjunto de entrenamiento,\n",
    "\n",
    "<img src=\"figs/rss.gif\" widht=\"800\" height=\"600\"/>\n"
   ]
  },
  {
   "cell_type": "markdown",
   "id": "dd8644a5",
   "metadata": {},
   "source": [
    "## 5. Uso de Scikit-Learn para entrenar y predecir.\n",
    "\n",
    "Ahora usemos scikit-learn para encontrar los valores de parámetros óptimos para nuestro modelo. La biblioteca scikit-learn fue diseñada para intercambiar y probar fácilmente diferentes modelos. Debido a que estamos familiarizados con el flujo de trabajo de scikit-learn para los k-vecinos más cercanos, cambiar al uso de la regresión lineal es sencillo.\n",
    "\n",
    "En lugar de trabajar con la clase `sklearn.neighbors.KNeighborsRegressors`, trabajamos con la clase [`sklearn.linear_model.LinearRegression`](https://scikit-learn.org/stable/modules/generated/sklearn.linear_model.LinearRegression.html). La clase `LinearRegression` también tiene su propio método `fit()`. Específicos de este modelo, sin embargo, son los atributos `coef_` e `intercept_`, que devuelven $a_1$ ($a_1$  hasta $a_n$  si fuera un modelo de regresión multivariado) y $a_0$  respectivamente.\n",
    "\n",
    "### Ejercicio\n",
    "\n",
    "- Importe e instancia un modelo de regresión lineal.\n",
    "- Ajuste un modelo de regresión lineal que use la mejor característica para predecir el precio. Utilice **los argumentos predeterminados**.\n",
    "- Muestre el coeficiente y la intersección del modelo ajustado usando los atributos `coef_` e `intercept_`.\n",
    "- Asignar $a_1$   a `a1` y $a_0$   a `a0`."
   ]
  },
  {
   "cell_type": "code",
   "execution_count": 34,
   "id": "583827df",
   "metadata": {},
   "outputs": [],
   "source": [
    "from sklearn.linear_model import LinearRegression"
   ]
  },
  {
   "cell_type": "code",
   "execution_count": 39,
   "id": "3f003494",
   "metadata": {},
   "outputs": [
    {
     "name": "stdout",
     "output_type": "stream",
     "text": [
      "a1: [116.87449456], a0: 5412.880611440196\n"
     ]
    }
   ],
   "source": [
    "lm = LinearRegression()\n",
    "lm.fit(train[['Gr Liv Area']], train[target])\n",
    "a1, a0 = lm.coef_, lm.intercept_\n",
    "print(f'a1: {a1}, a0: {a0}')"
   ]
  },
  {
   "cell_type": "markdown",
   "id": "11067603",
   "metadata": {},
   "source": [
    "## 6. Hacer predicciones.\n",
    "\n",
    "En el último paso, ajustamos un modelo de regresión lineal univariante entre las columnas `Gr Liv Area` y `SalePrice`. Luego mostramos el coeficiente único y el valor residual. Si volvemos a referirnos al formato de nuestro modelo de regresión lineal, el modelo ajustado se puede representar como:\n",
    "\n",
    "$$\\hat{y} = 116.87x_1 + 5412.88$$\n",
    "\n",
    "Una forma de interpretar este modelo es \"por cada aumento de 1 pie cuadrado en la superficie habitable, podemos esperar que el valor de la casa aumente en aproximadamente 116.87 dólares\".\n",
    "\n",
    "Ahora podemos usar el método `predict()` para predecir las etiquetas usando los datos de entrenamiento y compararlas con las etiquetas reales. Para cuantificar el ajuste, podemos usar el error cuadrático medio. También realicemos una validación simple haciendo predicciones en el conjunto de prueba y calculemos el valor de MSE para esas predicciones también.\n",
    "\n",
    "### Ejercicio\n",
    "- Utilice el modelo ajustado para hacer predicciones tanto en los conjuntos de entrenamiento como de prueba.\n",
    "- Calcule el valor RMSE para las predicciones en el conjunto de entrenamiento y asígnelo a `train_rmse`.\n",
    "- Calcule el valor RMSE para las predicciones en el conjunto de prueba y asígnelo a `test_rmse`."
   ]
  },
  {
   "cell_type": "code",
   "execution_count": 41,
   "id": "554e0997",
   "metadata": {},
   "outputs": [],
   "source": [
    "from sklearn.metrics import mean_squared_error"
   ]
  },
  {
   "cell_type": "code",
   "execution_count": 42,
   "id": "432c0317",
   "metadata": {},
   "outputs": [
    {
     "name": "stdout",
     "output_type": "stream",
     "text": [
      "56005.21742955642\n",
      "57120.50729008638\n"
     ]
    }
   ],
   "source": [
    "train_predictions = lm.predict(train[['Gr Liv Area']])\n",
    "test_predictions = lm.predict(test[['Gr Liv Area']])\n",
    "\n",
    "train_mse = mean_squared_error(train_predictions, train[target])\n",
    "test_mse = mean_squared_error(test_predictions, test[target])\n",
    "\n",
    "train_rmse = np.sqrt(train_mse) \n",
    "test_rmse = np.sqrt(test_mse)\n",
    "\n",
    "print(train_rmse)\n",
    "print(test_rmse)"
   ]
  },
  {
   "cell_type": "markdown",
   "id": "d5a578e4",
   "metadata": {},
   "source": [
    "## 7. Regresión lineal múltiple.\n",
    "Ahora que hemos explorado los conceptos básicos de la regresión lineal simple, podemos extender lo que hemos aprendido al caso multivariado (a menudo llamado **regresión lineal múltiple**). Un modelo de regresión lineal múltiple nos permite capturar la relación entre múltiples columnas de características y la columna objetivo. Así es como se ve la fórmula:\n",
    "\n",
    "$$\\hat{y} = a_0 + a_1x_1 + a_2x_2 + \\cdots + a_nx_n$$\n",
    "\n",
    "Cuando se utilizan varias columnas (características), el principal desafío es **seleccionar las características relevantes**. En una lección posterior, profundizaremos en algunos enfoques para la selección de características. Por ahora, entrenemos un modelo usando las siguientes columnas del conjunto de datos para ver cómo se mejoran los valores de RMSE entrenando y probando.\n",
    "\n",
    "- `Overall Cond`\n",
    "- `Área Gr Liv`\n",
    "\n",
    "### Ejercicio\n",
    "\n",
    "- Entrene un modelo de regresión lineal usando las columnas en `cols = ['Overall Cond', 'Gr Liv Area']`.\n",
    "- Utilice el modelo ajustado para hacer predicciones tanto en el conjunto de datos de entrenamiento como en el de prueba.\n",
    "- Calcule el valor RMSE para las predicciones en el conjunto de entrenamiento y asígnelo a `train_rmse_2`.\n",
    "- Calcule el valor RMSE para las predicciones en el conjunto de prueba y asígnelo a `test_rmse_2`."
   ]
  },
  {
   "cell_type": "code",
   "execution_count": 43,
   "id": "ca9a3fe7",
   "metadata": {},
   "outputs": [],
   "source": [
    "cols = ['Overall Cond', 'Gr Liv Area']"
   ]
  },
  {
   "cell_type": "code",
   "execution_count": 46,
   "id": "79ec07a5",
   "metadata": {},
   "outputs": [
    {
     "name": "stdout",
     "output_type": "stream",
     "text": [
      "56003.004700222875\n",
      "57098.088316272646\n"
     ]
    }
   ],
   "source": [
    "lr = LinearRegression()\n",
    "lr.fit(train[cols], train[target])\n",
    "\n",
    "train_predictions_02 = lr.predict(train[cols])\n",
    "test_predictions_02 = lr.predict(test[cols])\n",
    "\n",
    "train_rmse_02 = np.sqrt(mean_squared_error(train_predictions_02, train[target]))\n",
    "test_rmse_02 = np.sqrt(mean_squared_error(test_predictions_02, test[target]))\n",
    "\n",
    "print(train_rmse_02)\n",
    "print(test_rmse_02)"
   ]
  },
  {
   "cell_type": "markdown",
   "id": "08a0d1ea",
   "metadata": {},
   "source": [
    "## Conclusión\n",
    "\n",
    "En esta lección, exploramos los conceptos básicos de la regresión lineal para el aprendizaje automático. Después, profundizaremos en 2 enfoques diferentes para ajustar un modelo de regresión lineal."
   ]
  }
 ],
 "metadata": {
  "kernelspec": {
   "display_name": "Python 3",
   "language": "python",
   "name": "python3"
  },
  "language_info": {
   "codemirror_mode": {
    "name": "ipython",
    "version": 3
   },
   "file_extension": ".py",
   "mimetype": "text/x-python",
   "name": "python",
   "nbconvert_exporter": "python",
   "pygments_lexer": "ipython3",
   "version": "3.8.8"
  }
 },
 "nbformat": 4,
 "nbformat_minor": 5
}
