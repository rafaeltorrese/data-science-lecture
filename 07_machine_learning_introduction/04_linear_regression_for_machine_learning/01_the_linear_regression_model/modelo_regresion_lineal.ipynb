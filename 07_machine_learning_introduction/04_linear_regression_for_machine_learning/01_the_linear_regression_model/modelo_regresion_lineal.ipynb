{
 "cells": [
  {
   "cell_type": "markdown",
   "id": "142e414c",
   "metadata": {},
   "source": [
    "<center><h1>El modelo de regresión lineal</h1></center>"
   ]
  },
  {
   "cell_type": "markdown",
   "id": "692ae687",
   "metadata": {},
   "source": [
    "## 1. Aprendizaje basado en instancias vs. Aprendizaje basado en modelos.\n",
    "\n",
    "Recorrimos el flujo de trabajo completo del aprendizaje automático mediante el algoritmo de k-vecinos más cercanos. K-vecinos más cercanos funciona al encontrar ejemplos etiquetados similares del conjunto de entrenamiento para cada instancia en el conjunto de prueba y los usa para predecir la etiqueta. K-vecinos más cercanos se conoce como un algoritmo de aprendizaje **basado en instancias** porque se basa completamente en instancias anteriores para hacer predicciones. El algoritmo de k vecinos más cercanos no intenta comprender ni capturar la relación entre las columnas de características y la columna objetivo.\n",
    "\n",
    "Debido a que todo el conjunto de datos de entrenamiento se usa para encontrar los vecinos más cercanos de una nueva instancia para hacer predicciones de etiquetas, este algoritmo no se adapta bien a conjuntos de datos medianos y grandes. Si tenemos un millón de instancias en nuestro conjunto de datos de entrenamiento y queremos hacer predicciones para cien mil instancias nuevas, tendríamos que ordenar el millón de instancias en el conjunto de entrenamiento por distancia euclidiana para cada instancia. El siguiente diagrama proporciona una descripción general de la complejidad de los k-vecinos más cercanos:\n",
    "\n",
    "<img src=\"figs/knn_complexity.svg\" widht=\"800\" height=\"600\"/>\n",
    "\n",
    "En su lugar, debemos aprender sobre enfoques de **aprendizaje automático paramétrico**, como la regresión lineal y la regresión logística. A diferencia del algoritmo de k vecinos más cercanos, el resultado del proceso de entrenamiento para estos algoritmos de aprendizaje automático es una función matemática que se aproxima mejor a los patrones en el conjunto de entrenamiento. En el aprendizaje automático, esta función a menudo se denomina **modelo**.\n",
    "\n",
    "En este curso, exploraremos el modelo de aprendizaje automático más utilizado: **el modelo de regresión lineal**. Los enfoques de aprendizaje automático paramétrico funcionan haciendo suposiciones sobre la relación entre las características y la columna de destino. En la regresión lineal, la relación aproximada entre las columnas de características y la columna objetivo se expresa como una ecuación de regresión lineal:\n",
    "\n",
    "$y = a_1x_1 + a_2x_2 + \\cdots+ a_nx_n  $\n",
    "\n",
    "El siguiente diagrama proporciona una descripción general del proceso de aprendizaje automático para la regresión lineal. Por ahora, el objetivo no es comprender todo el proceso, sino más bien comparar y contrastar con el **enfoque no paramétrico** de k-vecinos más cercanos.\n",
    "\n",
    "<img src=\"figs/regression_complexity.png\" widht=\"800\" height=\"600\"/>\n",
    "\n",
    "A continuación proporcionaremos una descripción general de cómo usamos un modelo de regresión lineal para hacer predicciones. Usaremos scikit-learn para el proceso de entrenamiento del modelo, de modo que podamos centrarnos en ganar intuición para el enfoque de aprendizaje basado en modelos para el aprendizaje automático. Posteriormente, nos sumergiremos en las matemáticas detrás de cómo se ajusta un modelo al conjunto de datos, cómo seleccionar y transformar características, y más.\n"
   ]
  },
  {
   "cell_type": "markdown",
   "id": "e11d8ba6",
   "metadata": {},
   "source": [
    "## 2. Introducción a los datos\n",
    "\n",
    "Para familiarizarse con este enfoque de aprendizaje automático, trabajaremos con un conjunto de datos sobre casas vendidas en Ames, Iowa. Cada fila en el conjunto de datos describe las propiedades de una sola casa, así como la cantidad por la que se vendió. Construiremos modelos que predicen el precio de venta final a partir de sus otros atributos. Específicamente, exploraremos las siguientes preguntas:\n",
    "\n",
    "- ¿Qué propiedades de una casa afectan más el precio final de venta?\n",
    "- ¿Con qué eficacia podemos predecir el precio de venta solo a partir de sus propiedades?\n",
    "\n",
    "Este conjunto de datos fue compilado originalmente por [Dean De Cock](https://www.truman.edu/faculty-staff/decock/) con el objetivo principal de tener un conjunto de datos de alta calidad para la regresión. Puede leer más sobre su proceso y motivación [aquí](https://www.tandfonline.com/doi/abs/10.1080/10691898.2011.11889627).\n",
    "\n",
    "Estas son algunas de las columnas:\n",
    "\n",
    "- `Lot Area`: Tamaño del lote en pies cuadrados.\n",
    "- `Overall Qual`: Califica el material general y el acabado de la casa.\n",
    "- `Overall Cond`: Califica el estado general de la casa.\n",
    "- `Year Built`: Fecha de construcción original.\n",
    "- `Low Qual Fin SF`: Pies cuadrados terminados de baja calidad (todos los pisos).\n",
    "- `Full Bath`: Baños completos sobre rasante.\n",
    "- `Fireplaces`: Número de chimeneas.\n",
    "\n",
    "\n",
    "Comencemos por generar conjuntos de datos de entrenamiento y prueba y familiarizarnos más con los datos.\n",
    "\n",
    "\n",
    "### Ejercicio\n",
    "- Lea `AmesHousing.txt` en un dataframe usando el delimitador de tabulación (`\\t`) y asígnelo `data`.\n",
    "- Seleccione las primeras 1460 filas de `data` y asígnelas a `train`.\n",
    "- Seleccione las filas restantes de `data` y asígnelas a `test`.\n",
    "- Utilice el método `dataframe.info()` para mostrar información sobre cada columna.\n",
    "- Lea la documentación de datos para familiarizarse más con cada columna.\n",
    "- Usando la documentación de `datos`, determine qué columna es la columna objetivo que queremos predecir. Asigne el nombre de la columna como una cadena a `target`.\n"
   ]
  },
  {
   "cell_type": "code",
   "execution_count": null,
   "id": "16f728f1",
   "metadata": {},
   "outputs": [],
   "source": []
  },
  {
   "cell_type": "markdown",
   "id": "0fc818d0",
   "metadata": {},
   "source": [
    "## 3. Regresión lineal simple.\n",
    "\n",
    "Comenzaremos por comprender el caso univariante de la regresión lineal, también conocida como **regresión lineal simple**. La siguiente ecuación es la forma general del modelo de regresión lineal simple.\n",
    "\n",
    "$\\hat{y} = a_1x_1 + a_0$\n",
    "\n",
    "$\\hat{y}$ representa la columna objetivo mientras que $x_1$ representa la columna de características que elegimos usar en nuestro modelo. Estos valores son independientes del conjunto de datos. Por otro lado, $a_0$  y $a_1$ representan los valores de los **parámetros** que son específicos del conjunto de datos. El objetivo de la regresión lineal simple es encontrar los valores de parámetros óptimos que mejor describan la relación entre la columna de características y la columna obtivo (target). El siguiente diagrama muestra diferentes modelos de regresión lineal simple dependiendo de los datos:\n",
    "\n",
    "<img src=\"figs/simple_linear_regression.svg\" widht=\"800\" height=\"600\"/>\n",
    "\n",
    "\n",
    "El primer paso es seleccionar la característica, $x_1$, queremos usar en nuestro modelo. Una vez que seleccionamos esta característica (variable), podemos usar scikit-learn para determinar los valores óptimos de los parámetros $a_1$ y $a_0$ en base a los datos de entrenamiento. Debido a que una de las suposiciones de la regresión lineal es que la relación entre las funciones y la columna de destino es lineal, queremos elegir una función que parezca tener la correlación más fuerte con el precio de venta final.\n",
    "\n",
    "\n",
    "### Ejercicio\n",
    "\n",
    "Para explorar los datos, cree un gráfico utilizando el dataframe de `train`.\n",
    "\n",
    "- Cree una figura con dimensiones de 7 x 15 que contenga tres diagramas de dispersión en una sola columna:\n",
    "- El primer gráfico debe trazar la columna `Garage Area` en el eje x contra la columna `SalePrice` en el eje y.\n",
    "- El segundo debe trazar la columna `Gr Liv Area` en el eje x contra la columna `SalePrice` en el eje y.\n",
    "- El tercero debe trazar la columna `Overall Cond` en el eje x contra la columna `SalePrice` en el eje y.\n",
    "- Lea más sobre estas 3 columnas en la documentación de datos."
   ]
  },
  {
   "cell_type": "code",
   "execution_count": null,
   "id": "e691951e",
   "metadata": {},
   "outputs": [],
   "source": []
  },
  {
   "cell_type": "markdown",
   "id": "abe74b34",
   "metadata": {},
   "source": [
    "## 4. Mínimos cuadrados.\n",
    "Podemos decir que la función `Gr Liv Area` se correlaciona más con la columna `SalePrice`. Podemos confirmar esto calculando la correlación entre pares de estas columnas usando el método [`pandas.DataFrame.corr()`](https://pandas.pydata.org/pandas-docs/stable/reference/api/pandas.DataFrame.corr.html):\n"
   ]
  },
  {
   "cell_type": "code",
   "execution_count": null,
   "id": "f54939b4",
   "metadata": {},
   "outputs": [],
   "source": []
  },
  {
   "cell_type": "markdown",
   "id": "3d9fe754",
   "metadata": {},
   "source": [
    "La correlación entre `Gr Liv Area` y SalePrice es de alrededor de 0.70, que es la más alta. Recuerde que cuanto más cerca esté el coeficiente de correlación de 1.0, más fuerte será la correlación. Aquí está la forma actualizada de nuestro modelo:\n",
    "\n",
    "$$\\hat{y} = a_1 * \\text{Gr Liv Area} + a_0$$\n",
    "\n",
    "Pasemos ahora a comprender los criterios de ajuste del modelo.\n",
    "\n",
    "\n",
    "#### Suma Residual De Cuadrados\n",
    "\n",
    "Para encontrar los parámetros óptimos para un modelo de regresión lineal, queremos optimizar la **suma de cuadrados residual** del modelo (o [RSS](https://en.wikipedia.org/wiki/Residual_sum_of_squares)). Si recuerda, residual (a menudo denominado errores) describe la diferencia entre los valores pronosticados para la columna de destino ($\\hat{y}$) y los valores verdaderos ($y$):\n",
    "\n",
    "<img src=\"figs/visualizing_rss.svg\" widht=\"1000\" height=\"1200\"/>\n",
    "\n",
    "Queremos que esta diferencia sea lo más pequeña posible. Calcular RSS implica sumar los errores al cuadrado\n",
    "$$RSS = (y_1 - \\hat{y_1})^2 +  (y_2 - \\hat{y_2})^2 + \\cdots + (y_n - \\hat{y_n})^2\n",
    "$$\n",
    "\n",
    "Podemos acortar esto a: $$RSS = \\sum_{i=1}^{n} (y_i - \\hat{y_i})^2\n",
    "$$\n",
    "\n",
    "Si recuerda, el cálculo de RSS parece muy similar al cálculo de MSE (error cuadrático medio). Aquí está la fórmula para MSE, adaptada para nuestra nueva notación: $$MSE = \\frac{1}{n} \\sum_{i=1}^{n} (y_i - \\hat{y_i})^2\n",
    "$$\n",
    "\n",
    "Si bien usamos el MSE en el conjunto de prueba, está claro que el objetivo de minimizar RSS en el conjunto de entrenamiento,\n",
    "\n",
    "<img src=\"figs/rss.gif\" widht=\"800\" height=\"600\"/>\n"
   ]
  },
  {
   "cell_type": "markdown",
   "id": "1d019bf5",
   "metadata": {},
   "source": [
    "## 5. Uso de Scikit-Learn para entrenar y predecir.\n",
    "\n",
    "Ahora usemos scikit-learn para encontrar los valores de parámetros óptimos para nuestro modelo. La biblioteca scikit-learn fue diseñada para intercambiar y probar fácilmente diferentes modelos. Debido a que estamos familiarizados con el flujo de trabajo de scikit-learn para los k-vecinos más cercanos, cambiar al uso de la regresión lineal es sencillo.\n",
    "\n",
    "En lugar de trabajar con la clase `sklearn.neighbors.KNeighborsRegressors`, trabajamos con la clase [`sklearn.linear_model.LinearRegression`](https://scikit-learn.org/stable/modules/generated/sklearn.linear_model.LinearRegression.html). La clase `LinearRegression` también tiene su propio método `fit()`. Específicos de este modelo, sin embargo, son los atributos `coef_` e `intercept_`, que devuelven $a_1$ ($a_1$  hasta $a_n$  si fuera un modelo de regresión multivariado) y $a_0$  respectivamente.\n",
    "\n",
    "### Ejercicio\n",
    "\n",
    "- Importe e instancia un modelo de regresión lineal.\n",
    "- Ajuste un modelo de regresión lineal que use la mejor característica para predecir el precio. Utilice **los argumentos predeterminados**.\n",
    "- Muestre el coeficiente y la intersección del modelo ajustado usando los atributos `coef_` e `intercept_`.\n",
    "- Asignar $a_1$   a `a1` y $a_0$   a `a0`."
   ]
  },
  {
   "cell_type": "code",
   "execution_count": null,
   "id": "18297da2",
   "metadata": {},
   "outputs": [],
   "source": []
  },
  {
   "cell_type": "markdown",
   "id": "c9fb88ba",
   "metadata": {},
   "source": [
    "## 6. Hacer predicciones.\n",
    "\n",
    "En el último paso, ajustamos un modelo de regresión lineal univariante entre las columnas `Gr Liv Area` y `SalePrice`. Luego mostramos el coeficiente único y el valor residual. Si volvemos a referirnos al formato de nuestro modelo de regresión lineal, el modelo ajustado se puede representar como:\n",
    "\n",
    "$$\\hat{y} = 116.87x_1 + 5412.88$$\n",
    "\n",
    "Una forma de interpretar este modelo es \"por cada aumento de 1 pie cuadrado en la superficie habitable, podemos esperar que el valor de la casa aumente en aproximadamente 116.87 dólares\".\n",
    "\n",
    "Ahora podemos usar el método `predict()` para predecir las etiquetas usando los datos de entrenamiento y compararlas con las etiquetas reales. Para cuantificar el ajuste, podemos usar el error cuadrático medio. También realicemos una validación simple haciendo predicciones en el conjunto de prueba y calculemos el valor de MSE para esas predicciones también.\n",
    "\n",
    "### Ejercicio\n",
    "- Utilice el modelo ajustado para hacer predicciones tanto en los conjuntos de entrenamiento como de prueba.\n",
    "- Calcule el valor RMSE para las predicciones en el conjunto de entrenamiento y asígnelo a `train_rmse`.\n",
    "- Calcule el valor RMSE para las predicciones en el conjunto de prueba y asígnelo a `test_rmse`."
   ]
  },
  {
   "cell_type": "code",
   "execution_count": null,
   "id": "d9d6d97f",
   "metadata": {},
   "outputs": [],
   "source": []
  },
  {
   "cell_type": "markdown",
   "id": "cd857609",
   "metadata": {},
   "source": [
    "## 7. Regresión lineal múltiple.\n",
    "Ahora que hemos explorado los conceptos básicos de la regresión lineal simple, podemos extender lo que hemos aprendido al caso multivariado (a menudo llamado **regresión lineal múltiple**). Un modelo de regresión lineal múltiple nos permite capturar la relación entre múltiples columnas de características y la columna objetivo. Así es como se ve la fórmula:\n",
    "\n",
    "$$\\hat{y} = a_0 + a_1x_1 + a_2x_2 + \\cdots + a_nx_n$$\n",
    "\n",
    "Cuando se utilizan varias columnas (características), el principal desafío es **seleccionar las características relevantes**. En una lección posterior, profundizaremos en algunos enfoques para la selección de características. Por ahora, entrenemos un modelo usando las siguientes columnas del conjunto de datos para ver cómo se mejoran los valores de RMSE entrenando y probando.\n",
    "\n",
    "- `Overall Cond`\n",
    "- `Área Gr Liv`\n",
    "\n",
    "### Ejercicio\n",
    "\n",
    "- Entrene un modelo de regresión lineal usando las columnas en `cols = ['Overall Cond', 'Gr Liv Area']`.\n",
    "- Utilice el modelo ajustado para hacer predicciones tanto en el conjunto de datos de entrenamiento como en el de prueba.\n",
    "- Calcule el valor RMSE para las predicciones en el conjunto de entrenamiento y asígnelo a `train_rmse_2`.\n",
    "- Calcule el valor RMSE para las predicciones en el conjunto de prueba y asígnelo a `test_rmse_2`."
   ]
  },
  {
   "cell_type": "code",
   "execution_count": null,
   "id": "9c346e15",
   "metadata": {},
   "outputs": [],
   "source": []
  },
  {
   "cell_type": "markdown",
   "id": "ff232e29",
   "metadata": {},
   "source": [
    "## Conclusión\n",
    "\n",
    "En esta lección, exploramos los conceptos básicos de la regresión lineal para el aprendizaje automático. Después, profundizaremos en 2 enfoques diferentes para ajustar un modelo de regresión lineal."
   ]
  }
 ],
 "metadata": {
  "kernelspec": {
   "display_name": "Python 3",
   "language": "python",
   "name": "python3"
  },
  "language_info": {
   "codemirror_mode": {
    "name": "ipython",
    "version": 3
   },
   "file_extension": ".py",
   "mimetype": "text/x-python",
   "name": "python",
   "nbconvert_exporter": "python",
   "pygments_lexer": "ipython3",
   "version": "3.8.8"
  }
 },
 "nbformat": 4,
 "nbformat_minor": 5
}
