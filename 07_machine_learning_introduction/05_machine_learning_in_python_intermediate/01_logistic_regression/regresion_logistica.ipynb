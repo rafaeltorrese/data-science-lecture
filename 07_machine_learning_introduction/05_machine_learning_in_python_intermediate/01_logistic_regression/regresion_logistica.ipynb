{
 "cells": [
  {
   "cell_type": "markdown",
   "id": "7516f528",
   "metadata": {},
   "source": [
    "<center><h1>Regresión logística</h1></center>"
   ]
  },
  {
   "cell_type": "markdown",
   "id": "812d0161",
   "metadata": {},
   "source": [
    "## 1. Clasificación.\n",
    "### Ejercicio"
   ]
  },
  {
   "cell_type": "markdown",
   "id": "1da769c2",
   "metadata": {},
   "source": [
    "## 2. Introducción a los Datos.\n",
    "### Ejercicio"
   ]
  },
  {
   "cell_type": "markdown",
   "id": "9ea9d152",
   "metadata": {},
   "source": [
    "## 3. Regresión logística.\n",
    "### Ejercicio"
   ]
  },
  {
   "cell_type": "markdown",
   "id": "bbfe8eda",
   "metadata": {},
   "source": [
    "## 4. Función Logística.\n",
    "### Ejercicio"
   ]
  },
  {
   "cell_type": "markdown",
   "id": "2a310d5f",
   "metadata": {},
   "source": [
    "## 5. Entrenamiento de un modelo de regresión logística.\n",
    "### Ejercicio"
   ]
  },
  {
   "cell_type": "markdown",
   "id": "69b396d6",
   "metadata": {},
   "source": [
    "## 6. Trazado de probabilidades.\n",
    "### Ejercicio"
   ]
  },
  {
   "cell_type": "markdown",
   "id": "dd452497",
   "metadata": {},
   "source": [
    "## 7. Predecir etiquetas.\n",
    "### Ejercicio"
   ]
  },
  {
   "cell_type": "markdown",
   "id": "d33aff6f",
   "metadata": {},
   "source": [
    "## 8. Próximos pasos.\n",
    "### Ejercicio"
   ]
  }
 ],
 "metadata": {
  "kernelspec": {
   "display_name": "Python 3",
   "language": "python",
   "name": "python3"
  },
  "language_info": {
   "codemirror_mode": {
    "name": "ipython",
    "version": 3
   },
   "file_extension": ".py",
   "mimetype": "text/x-python",
   "name": "python",
   "nbconvert_exporter": "python",
   "pygments_lexer": "ipython3",
   "version": "3.8.8"
  }
 },
 "nbformat": 4,
 "nbformat_minor": 5
}
