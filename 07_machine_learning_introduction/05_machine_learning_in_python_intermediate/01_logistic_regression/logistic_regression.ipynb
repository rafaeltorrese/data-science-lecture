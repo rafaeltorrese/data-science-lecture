{
 "cells": [
  {
   "cell_type": "markdown",
   "id": "4d22a339",
   "metadata": {},
   "source": [
    "<center><h1>Logistic Regression</h1></center>"
   ]
  },
  {
   "cell_type": "markdown",
   "id": "e71911ea",
   "metadata": {},
   "source": [
    "## 1. Classification.\n",
    "\n",
    "**Linear regression** is a supervised machine learning technique that works well when the target column we're trying to predict, the dependent variable, is ordered and continuous. If the target column instead contains discrete values, then linear regression isn't appropriate.\n",
    "\n",
    "In this lesson, we'll explore how to build a predictive model for these types of problems, which are known as **classification** problems. In classification, our target column has a limited set of possible values which represent different categories for a row. We use integers to represent the different categories to continue use of mathematical functions for describing how the independent variables map to the dependent variable. Here are a few examples of classification problems:\n",
    "\n",
    "| Problem                                                                   | Sample Features                                    | Type        | Categories           | Numerical Categories |\n",
    "|---------------------------------------------------------------------------|----------------------------------------------------|-------------|----------------------|----------------------|\n",
    "| Should we accept this student based on their graduate school application? | College GPA, SAT Score, Quality of Recommendations | Binary      | Don't Accept, Accept | 0, 1                 |\n",
    "| What is the most likely blood type of 2 parent's offspring?               | Parent 1's blood type, Parent 2's blood type.      | Multi-class | A, B, AB, O          | 1, 2, 3, 4           |\n",
    "\n",
    "We'll focus on **binary classification** for now, where the only two options for values are:\n",
    "\n",
    "- `0` for the False condition,\n",
    "- `1` for the True condition.\n",
    "\n",
    "Before we learn more classification, let's gain an understand of the data."
   ]
  },
  {
   "cell_type": "markdown",
   "id": "0cce6f20",
   "metadata": {},
   "source": [
    "## 2. Introduction to the Data.\n",
    "\n",
    "Every year high school students and college students apply to various universities and programs. Each student has a unique set of test scores, grades, and backgrounds. Somehow, admission committees decide which applicants to accept or reject from their program. In this case a binary classification algorithm can be used to accept or reject applicants. To understand the concepts of classification, we'll try to predict whether an applicant will be admitted to a U.S. graduate program.\n",
    "\n",
    "We'll be working with a dataset containing data from 644 applicants with the following columns:\n",
    "\n",
    "- `gre` - Applicant's Graduate Record Exam score. The GRE is a generalized test for prospective graduate students.\n",
    "    - Score ranges from 200 to 800.\n",
    "- `gpa` - College grade point average.\n",
    "    - Continuous between 0.0 and 4.0.\n",
    "- `admit` - Binary value\n",
    "    - Binary value, 0 or 1, where 1 means the applicant was admitted to the program and 0 means the applicant was rejected.\n",
    "\n",
    "Here's a preview of the dataset:\n",
    "\n",
    "| admit \t| gpa      \t| gre        \t|\n",
    "|-------\t|----------\t|------------\t|\n",
    "| 0     \t| 3.177277 \t| 594.102992 \t|\n",
    "| 0     \t| 3.412655 \t| 631.528607 \t|\n",
    "| 0     \t| 2.728097 \t| 553.714399 \t|\n",
    "| 0     \t| 3.093559 \t| 551.089985 \t|\n",
    "| 0     \t| 3.141923 \t| 537.184894 \t|\n",
    "\n",
    "While we can use both the gpa and gre columns to predict the admit column, we'll focus on using just the gpa column to keep things simple. Let's read the data into Pandas and visualize the relationship between gpa and admit.\n",
    "\n",
    "### Exercise\n",
    "\n",
    "- Read `admissions.csv` into a Dataframe named `admissions`.\n",
    "- Use the Matplotlib method [scatter](https://matplotlib.org/3.5.0/api/_as_gen/matplotlib.pyplot.scatter.html) to generate a scatter plot with the:\n",
    "    - `gpa` column on the x-axis.\n",
    "    - `admit` column on the y-axis.\n",
    "- Use `plt.show()` to display the scatter plot."
   ]
  },
  {
   "cell_type": "code",
   "execution_count": 1,
   "id": "7afe0074",
   "metadata": {},
   "outputs": [],
   "source": [
    "import numpy as np\n",
    "import pandas as pd\n",
    "\n",
    "import matplotlib.pyplot as plt"
   ]
  },
  {
   "cell_type": "code",
   "execution_count": 2,
   "id": "137686ea",
   "metadata": {},
   "outputs": [
    {
     "data": {
      "image/png": "[encoded data removed]",
      "text/plain": [
       "<Figure size 432x288 with 1 Axes>"
      ]
     },
     "metadata": {
      "needs_background": "light"
     },
     "output_type": "display_data"
    }
   ],
   "source": [
    "admissions = pd.read_csv('admissions.csv')\n",
    "\n",
    "plt.scatter(admissions['gpa'], admissions['admit'])\n",
    "plt.show()"
   ]
  },
  {
   "cell_type": "markdown",
   "id": "5f5f91bd",
   "metadata": {},
   "source": [
    "## 3. Logistic Regression.\n",
    "\n",
    "In the previous scatter plot, you'll notice that the `gpa` column and the `admit` column do not have a clear linear relationship. The `admit` column only contains the values `0` and `1`. The values are used to represent binary values and the numbers themselves don't carry any weight. When numbers are used to represent different options or categories, they are referred to as **categorical values**. Classification focuses on estimating the relationship between the independent variables and the dependent, **categorical variable**.\n",
    "\n",
    "In this lesson, we'll focus on a classification technique called **logistic regression**. While a linear regression model outputs a real number as the label, a logistic regression model outputs a probability value. In binary classification, if the probability value is larger than a certain threshold probability, we assign the label for that row to `1` or `0`.\n",
    "\n",
    "This threshold probability is something we select. We'll learn about how to select a good threshold probability in later lessons. For now, let's learn more about how logistic regression works."
   ]
  },
  {
   "cell_type": "markdown",
   "id": "6de60cc8",
   "metadata": {},
   "source": [
    "## 4. Logistic Function.\n",
    "\n",
    "In linear regression, we used the linear function `y = mx + b` to represent the relationship between the independent variables and the dependent variable. In logistic regression, we use the **logistic function**, which is a version of the linear function that is adjusted for classification.\n",
    "\n",
    "Let's explore some of the logistic function's properties to better understand why it's useful for classification tasks. Unlike in linear regression, where the output can be any real value, in logistic regression the output has to be a real value between `0` and `1`, since the output represents a probability value. Note that the model can't output a negative value, because it would violate this criteria.\n",
    "\n",
    "Here's the mathematical representation of the logistic function:\n",
    "\n",
    "$\\sigma(t)=\\dfrac{e^t}{1+e^t}$\n",
    "\n",
    "The logistic function is broken up into two key parts:  \n",
    "- The exponential transformation, transforming all values to be positive: $e^t$ \n",
    "- The normalization transformation, transforming all values to range between `0` and `1`: $\\displaystyle\\frac{t}{1 + t}$\n",
    "\n",
    "The exponential transformation and the normalization force the output values to be squeezed between `0` and `1`. If you plot just the exponential part, the output values won't be limited to the range of `0` to `1`:\n",
    "\n",
    "<img src=\"figs/4esqrpy.png\" height=\"400\" width=\"600\" alt=\"\"/>\n",
    "\n",
    "Normalization alone isn't sufficient since it struggles at constraining negative values:\n",
    "\n",
    "<img src=\"figs/qbpTcrr.png\" height=\"400\" width=\"600\" alt=\"\"/>\n",
    "\n",
    "Together, both of these pieces work well to constrain the output to the range of values that probabilities are in. In the following code cell, we plot the logistic function to visualize its properties. Specifically, we perform the following tasks:\n",
    "\n",
    "- define the `logistic()` function using the [NumPy `exp` function](https://numpy.org/doc/stable/reference/generated/numpy.exp.html),\n",
    "- generate equally spaced values, between `-6` and `6` to represent the x-axis,\n",
    "- calculate the y-axis values by feeding each value in <code>x</code> to the <code>logistic()</code> function,\n",
    "- create a line plot to visualize `x` and `y`."
   ]
  },
  {
   "cell_type": "code",
   "execution_count": 3,
   "id": "78c32829",
   "metadata": {},
   "outputs": [
    {
     "data": {
      "image/png": "[encoded data removed]",
      "text/plain": [
       "<Figure size 432x288 with 1 Axes>"
      ]
     },
     "metadata": {
      "needs_background": "light"
     },
     "output_type": "display_data"
    }
   ],
   "source": [
    "def logistic(t):\n",
    "    return np.exp(t) / (1 + np.exp(t))\n",
    "\n",
    "x = np.linspace(-6, 6, 100, dtype='float')\n",
    "y = logistic(x)\n",
    "\n",
    "plt.plot(x, y)\n",
    "plt.ylabel('Probability')\n",
    "plt.show()"
   ]
  },
  {
   "cell_type": "markdown",
   "id": "6b879aed",
   "metadata": {},
   "source": [
    "The generated plot demonstrates that the y-axis values are constrained to range from `0` to `1`. We encourage you to plot more x-values to confirm that this holds true for all potential `x` values."
   ]
  },
  {
   "cell_type": "markdown",
   "id": "c76f7971",
   "metadata": {},
   "source": [
    "## 5. Training a Logistic Regression Model.\n",
    "Let's now move onto training the logistic regression model using our dataset.  In this lesson, we won't learn about the math and the steps required to fit a logistic regression model to the training data.  Instead, we will focus on using the scikit-learn library to fit a model between the `gpa` and `admit` columns. The `gpa` column contains the GPA of each applicant as a real value between `0.0` and `4.0` and the `admit` column specifies if that applicant was admitted (`0` if not admitted and `1` if admitted).  Since we're only working with one feature, `gpa`, this is referred to as a univariate model.     \n",
    "\n",
    "Training a logistic regression model in scikit-learn is similar to training a linear regression model, with the key difference that we use the **LogisticRegression** class instead of the **LinearRegression** class.  Scikit-learn was designed to make it easy to swap out models by keeping the syntax and notation as consistent as possible across its different classes\n",
    "    \n",
    "### Exercise\n",
    "\n",
    "\n",
    "- Import the <strong>LogisticRegression</strong> class and instantiate a model named <code>logistic_model</code>.\n",
    "- Use the <strong>LogisticRegression</strong> method <code>fit</code> to fit the model to the data.  We're only interested in constructing a model that uses <code>gpa</code> values to predict <code>admit</code> values. \n",
    "- View the <a href=\"https://scikit-learn.org/stable/modules/generated/sklearn.linear_model.LogisticRegression.html \" target=\"_blank\">documentation for the LogisticRegression class</a> if you get stuck."
   ]
  },
  {
   "cell_type": "code",
   "execution_count": 4,
   "id": "502160c3",
   "metadata": {},
   "outputs": [
    {
     "data": {
      "text/plain": [
       "LogisticRegression()"
      ]
     },
     "execution_count": 4,
     "metadata": {},
     "output_type": "execute_result"
    }
   ],
   "source": [
    "from sklearn.linear_model import LogisticRegression\n",
    "logistic_model = LogisticRegression()\n",
    "logistic_model.fit(admissions[['gpa']], admissions['admit'])"
   ]
  },
  {
   "cell_type": "markdown",
   "id": "d68602e2",
   "metadata": {},
   "source": [
    "## 6. Plotting Probabilities.\n",
    "We mentioned earlier that the output of a logistic regression model is the probability that the row should be labelled as <strong>True</strong>, or in our case <strong>1</strong>.  We can use the trained model to return the predicted probability for each row in the training data.\n",
    "To return the predicted probability, use <a href=\"https://scikit-learn.org/stable/modules/generated/sklearn.linear_model.LogisticRegression.html#sklearn.linear_model.LogisticRegression.predict_proba\" target=\"_blank\">the <code>predict_proba</code> method</a>.  The only required parameter for this method is the <code>num_features</code> by <code>num_sample</code> matrix of observations we want scikit-learn to return predicted probabilities for.  For each input row, scikit-learn returns a NumPy array with two probability values:\n",
    "Since <code>0</code> and <code>1</code> are the only two possible categories and represent the entire outcome space, these two probabilities add up to <code>1</code>.  \n",
    "\n",
    "```ipython\n",
    "probabilities = logistic_model.predict_proba(admissions[[\"gpa\"]])\n",
    "# Probability that the row belongs to label `0`.\n",
    "probabilities[:,0]\n",
    "# Probabililty that the row belongs to label `1`.\n",
    "probabilities[:,1]\n",
    "```\n",
    "\n",
    "Let's use this method to return the probability for admission for each student and then visualize the results on a scatter plot.\n",
    "### Exercise\n",
    "<p>Use the LogisticRegression method <code>predict_proba</code> to return the predicted probabilities for the data in the <code>gpa</code> column.  Assign the returned probabilities to <code>pred_probs</code>.</p>\n",
    "\n",
    "<p>Create and display a scatter plot using the <a href=\"http://matplotlib.org/api/pyplot_api.html#matplotlib.pyplot.scatter\" target=\"_blank\">Matplotlib <code>scatter</code> function</a> where:</p><ul><li>the x-axis is the values in the <code>gpa</code> column,</li><li>the y-axis is the probability of being classified as label <code>1</code>.</li></ul>"
   ]
  },
  {
   "cell_type": "code",
   "execution_count": 5,
   "id": "91bda8c5",
   "metadata": {},
   "outputs": [
    {
     "name": "stdout",
     "output_type": "stream",
     "text": [
      "[[0.66343633 0.33656367]\n",
      " [0.53967962 0.46032038]\n",
      " [0.84160275 0.15839725]\n",
      " ...\n",
      " [0.69368514 0.30631486]\n",
      " [0.46457162 0.53542838]\n",
      " [0.47350995 0.52649005]]\n"
     ]
    }
   ],
   "source": [
    "pred_probs = logistic_model.predict_proba(admissions[['gpa']])\n",
    "print(pred_probs)"
   ]
  },
  {
   "cell_type": "code",
   "execution_count": 6,
   "id": "aa27fbb9",
   "metadata": {},
   "outputs": [
    {
     "data": {
      "image/png": "[encoded data removed]",
      "text/plain": [
       "<Figure size 432x288 with 1 Axes>"
      ]
     },
     "metadata": {
      "needs_background": "light"
     },
     "output_type": "display_data"
    }
   ],
   "source": [
    "plt.scatter(admissions['gpa'], pred_probs[:,1])\n",
    "plt.show()"
   ]
  },
  {
   "cell_type": "markdown",
   "id": "0ba15daa",
   "metadata": {},
   "source": [
    "## 7. Predict Labels.\n",
    "\n",
    "You'll notice that the scatter plot suggests a linear relationship between the `gpa` values and the probability of being admitted.  This is because logistic regression is really just an adapted version of linear regression for classification problems.  Both logistic and linear regression are used to capture linear relationships between the independent variables and the dependent variable.\n",
    "\n",
    "Let's use the `predict` method to return the label predictions for each row in our training dataset.\n",
    "### Exercise\n",
    " \n",
    "- Use the <a href=\"https://scikit-learn.org/stable/modules/generated/sklearn.linear_model.LogisticRegression.html#sklearn.linear_model.LogisticRegression.predict\" target=\"_blank\">LogisticRegression method `predict`</a> to return the predicted for each label in the training set.\n",
    "    - The parameter for the `predict` method matches that of the `predict_proba` method:\n",
    "        - `X`: rows of data to use for prediction.\n",
    "    - Assign the result to `fitted_labels`.\n",
    "\n",
    "- Create and display a scatter plot using the <a href=\"https://matplotlib.org/3.5.0/api/_as_gen/matplotlib.pyplot.scatter.html\" target=\"_blank\">Matplotlib `scatter` function</a> where:\n",
    "    - the x-axis is the values in the `gpa` column,\n",
    "    - the y-axis is `fitted_labels`"
   ]
  },
  {
   "cell_type": "code",
   "execution_count": 7,
   "id": "b9a00635",
   "metadata": {},
   "outputs": [
    {
     "name": "stdout",
     "output_type": "stream",
     "text": [
      "[0 0 0 0 0 1 0 0 1 1 0 0 0 0 0 0 0 0 0 0 1 0 0 0 0 0 0 0 0 0 0 0 0 0 0 0 1\n",
      " 1 0 0 0 0 0 1 0 0 0 0 0 0 0 0 0 0 0 1 0 0 0 0 0 0 0 0 1 0 0 0 1 0 1 1 0 0\n",
      " 1 0 0 1 0 0 0 0 0 0 0 0 0 0 0 0 1 1 0 0 0 0 0 1 0 0 0 0 0 1 0 0 0 0 0 0 0\n",
      " 0 0 0 0 0 0 0 0 0 0 0 0 0 0 0 0 0 0 0 0 0 0 0 0 0 0 0 1 0 0 0 1 1 0 0 0 0\n",
      " 0 0 0 0 0 0 0 0 1 0 0 1 0 0 1 0 0 0 1 0 0 0 0 0 0 0 0 0 0 0 0 0 0 0 0 0 0\n",
      " 0 1 0 0 0 0 1 0 0 0 0 0 1 0 0 0 1 0 0 0 0 0 0 1 0 0 0 0 0 0 0 0 0 0 0 0 1\n",
      " 0 0 1 0 1 0 0 0 0 0 0 0 0 0 0 0 1 0 0 0 0 0 0 0 1 0 0 0 1 0 0 0 0 0 0 0 0\n",
      " 0 0 0 0 0 0 0 0 0 0 0 0 0 1 0 0 0 0 0 1 0 1 0 0 0 0 0 0 0 0 0 0 0 0 0 0 0\n",
      " 1 0 0 0 0 0 0 0 0 0 0 0 0 0 1 0 0 0 0 1 0 0 0 0 0 0 0 0 0 1 0 0 0 0 0 0 0\n",
      " 0 0 0 0 0 0 0 0 1 1 0 0 0 0 0 0 0 0 1 0 0 0 0 0 0 0 0 0 0 0 0 0 0 0 0 0 0\n",
      " 0 0 0 0 0 0 0 0 0 0 0 0 0 0 0 0 0 0 0 0 0 0 0 0 0 1 1 0 0 0 0 1 0 0 0 0 0\n",
      " 0 0 1 0 1 1 0 0 1 1 1 1 0 0 0 0 0 0 0 0 1 1 0 0 1 0 0 1 0 0 0 0 0 0 0 0 1\n",
      " 1 0 1 0 0 0 0 1 1 1 1 1 0 1 1 0 0 1 1 0 0 1 0 0 1 1 0 0 0 0 0 0 0 0 1 1 1\n",
      " 0 1 0 0 0 1 0 0 0 0 0 0 1 0 1 0 1 0 0 0 1 1 0 0 0 0 1 0 1 0 0 0 1 0 1 1 0\n",
      " 0 0 0 0 0 0 0 0 0 0 1 1 0 0 0 0 1 0 0 0 1 0 0 0 0 1 0 0 1 1 0 0 0 0 0 1 1\n",
      " 0 0 1 1 0 0 0 0 0 0 0 1 0 0 1 1 0 0 0 1 0 1 1 0 1 0 1 0 0 1 1 1 0 1 1 1 0\n",
      " 1 1 0 1 1 0 0 0 1 0 0 0 0 0 0 0 1 1 0 1 1 0 1 0 0 1 0 0 0 1 0 1 0 1 1 0 1\n",
      " 0 1 1 0 0 1 0 1 0 0 0 0 0 1 1]\n"
     ]
    },
    {
     "data": {
      "image/png": "[encoded data removed]",
      "text/plain": [
       "<Figure size 432x288 with 1 Axes>"
      ]
     },
     "metadata": {
      "needs_background": "light"
     },
     "output_type": "display_data"
    }
   ],
   "source": [
    "fitted_labels = logistic_model.predict(admissions[['gpa']])\n",
    "print(fitted_labels)\n",
    "\n",
    "plt.scatter(admissions['gpa'], fitted_labels)\n",
    "plt.show()"
   ]
  },
  {
   "cell_type": "markdown",
   "id": "37c2a1cc",
   "metadata": {},
   "source": [
    "## 8. Next Steps.\n",
    "In this lesson, we learned the basics of classification and how to use a specific classification technique called **logistic regression**. In the next lesson, we'll learn how to evaluate the effectiveness of a classification model."
   ]
  }
 ],
 "metadata": {
  "kernelspec": {
   "display_name": "Python 3",
   "language": "python",
   "name": "python3"
  },
  "language_info": {
   "codemirror_mode": {
    "name": "ipython",
    "version": 3
   },
   "file_extension": ".py",
   "mimetype": "text/x-python",
   "name": "python",
   "nbconvert_exporter": "python",
   "pygments_lexer": "ipython3",
   "version": "3.8.8"
  }
 },
 "nbformat": 4,
 "nbformat_minor": 5
}
