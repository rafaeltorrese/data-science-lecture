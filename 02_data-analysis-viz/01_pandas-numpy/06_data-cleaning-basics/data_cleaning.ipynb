{
 "cells": [
  {
   "cell_type": "markdown",
   "id": "ef94b8f4",
   "metadata": {},
   "source": [
    "# Part01"
   ]
  },
  {
   "cell_type": "markdown",
   "id": "0ed4b91c",
   "metadata": {},
   "source": [
    "<p>We'll learn the basics of data cleaning with pandas as we work with <code>laptops.csv</code>, a CSV file containing information about 1,300 laptop computers. The first five rows of the CSV file are shown below:</p>\n",
    "\n",
    "<table class=\"dataframe\">\n",
    "<thead>\n",
    "<tr>\n",
    "<th></th>\n",
    "<th>Manufacturer</th>\n",
    "<th>Model Name</th>\n",
    "<th>Category</th>\n",
    "<th>Screen Size</th>\n",
    "<th>Screen</th>\n",
    "<th>CPU</th>\n",
    "<th>RAM</th>\n",
    "<th>Storage</th>\n",
    "<th>GPU</th>\n",
    "<th>Operating System</th>\n",
    "<th>Operating System Version</th>\n",
    "<th>Weight</th>\n",
    "<th>Price (Euros)</th>\n",
    "</tr>\n",
    "</thead>\n",
    "<tbody>\n",
    "<tr>\n",
    "<th>0</th>\n",
    "<td>Apple</td>\n",
    "<td>MacBook Pro</td>\n",
    "<td>Ultrabook</td>\n",
    "<td>13.3\"</td>\n",
    "<td>IPS Panel Retina Display 2560x1600</td>\n",
    "<td>Intel Core i5 2.3GHz</td>\n",
    "<td>8GB</td>\n",
    "<td>128GB SSD</td>\n",
    "<td>Intel Iris Plus Graphics 640</td>\n",
    "<td>macOS</td>\n",
    "<td>NaN</td>\n",
    "<td>1.37kg</td>\n",
    "<td>1339,69</td>\n",
    "</tr>\n",
    "<tr>\n",
    "<th>1</th>\n",
    "<td>Apple</td>\n",
    "<td>Macbook Air</td>\n",
    "<td>Ultrabook</td>\n",
    "<td>13.3\"</td>\n",
    "<td>1440x900</td>\n",
    "<td>Intel Core i5 1.8GHz</td>\n",
    "<td>8GB</td>\n",
    "<td>128GB Flash Storage</td>\n",
    "<td>Intel HD Graphics 6000</td>\n",
    "<td>macOS</td>\n",
    "<td>NaN</td>\n",
    "<td>1.34kg</td>\n",
    "<td>898,94</td>\n",
    "</tr>\n",
    "<tr>\n",
    "<th>2</th>\n",
    "<td>HP</td>\n",
    "<td>250 G6</td>\n",
    "<td>Notebook</td>\n",
    "<td>15.6\"</td>\n",
    "<td>Full HD 1920x1080</td>\n",
    "<td>Intel Core i5 7200U 2.5GHz</td>\n",
    "<td>8GB</td>\n",
    "<td>256GB SSD</td>\n",
    "<td>Intel HD Graphics 620</td>\n",
    "<td>No OS</td>\n",
    "<td>NaN</td>\n",
    "<td>1.86kg</td>\n",
    "<td>575,00</td>\n",
    "</tr>\n",
    "<tr>\n",
    "<th>3</th>\n",
    "<td>Apple</td>\n",
    "<td>MacBook Pro</td>\n",
    "<td>Ultrabook</td>\n",
    "<td>15.4\"</td>\n",
    "<td>IPS Panel Retina Display 2880x1800</td>\n",
    "<td>Intel Core i7 2.7GHz</td>\n",
    "<td>16GB</td>\n",
    "<td>512GB SSD</td>\n",
    "<td>AMD Radeon Pro 455</td>\n",
    "<td>macOS</td>\n",
    "<td>NaN</td>\n",
    "<td>1.83kg</td>\n",
    "<td>2537,45</td>\n",
    "</tr>\n",
    "<tr>\n",
    "<th>4</th>\n",
    "<td>Apple</td>\n",
    "<td>MacBook Pro</td>\n",
    "<td>Ultrabook</td>\n",
    "<td>13.3\"</td>\n",
    "<td>IPS Panel Retina Display 2560x1600</td>\n",
    "<td>Intel Core i5 3.1GHz</td>\n",
    "<td>8GB</td>\n",
    "<td>256GB SSD</td>\n",
    "<td>Intel Iris Plus Graphics 650</td>\n",
    "<td>macOS</td>\n",
    "<td>NaN</td>\n",
    "<td>1.37kg</td>\n",
    "<td>1803,60</td>\n",
    "</tr>\n",
    "</tbody>\n",
    "</table>\n",
    "\n",
    "<p>We can start by reading the data into pandas. Let's look at what happens when we use the <a href=\"http://pandas.pydata.org/pandas-docs/stable/generated/pandas.read_csv.html\" target=\"_blank\"><code>pandas.read_csv()</code> function</a> with only the filename argument:</p>\n",
    "\n",
    "```python\n",
    "laptops = pd.read_csv(\"laptops.csv\")\n",
    "```\n",
    "```python\n",
    "---------------------------------------------------------------------------\n",
    "UnicodeDecodeError                        Traceback (most recent call last)\n",
    "pandas/_libs/parsers.pyx in pandas._libs.parsers.TextReader._convert_tokens()\n",
    "\n",
    "pandas/_libs/parsers.pyx in pandas._libs.parsers.TextReader._convert_with_dtype()\n",
    "\n",
    "pandas/_libs/parsers.pyx in pandas._libs.parsers.TextReader._string_convert()\n",
    "\n",
    "pandas/_libs/parsers.pyx in pandas._libs.parsers._string_box_utf8()\n",
    "\n",
    "UnicodeDecodeError: 'utf-8' codec can't decode byte 0xe9 in position 4: invalid continuation byte\n",
    "```\n",
    "\n",
    "<p>We get an error! (The error message has been shortened.) This error references UTF-8, which is a type of <strong>encoding</strong>. Computers, at their lowest levels, can only understand binary - <code>0</code> and <code>1</code>- and encodings are systems for representing characters in binary. </p>\n",
    "\n",
    "\n",
    "<p>Something we can do if our file has an unknown encoding is to try the most common encodings:</p>\n",
    "<ul>\n",
    "<li>UTF-8</li>\n",
    "<li>Latin-1 (also known as ISO-8859-1)</li>\n",
    "<li>Windows-1251</li>\n",
    "</ul>\n",
    "<p>The <code>pandas.read_csv()</code> function has an <code>encoding</code> argument we can use to specify an encoding:</p>\n",
    "\n",
    "\n",
    "```python\n",
    "df = pd.read_csv(\"filename.csv\", encoding=\"some_encoding\")\n",
    "```\n",
    "\n",
    "<p>Since the <code>pandas.read_csv()</code> function already tried to read in the file with UTF-8 and failed, we know the file's not encoded with that format. Let's try the next most popular encoding in the exercise.</p>"
   ]
  },
  {
   "cell_type": "code",
   "execution_count": 1,
   "id": "a47a07dd",
   "metadata": {},
   "outputs": [],
   "source": [
    "import numpy as np\n",
    "import pandas as pd"
   ]
  },
  {
   "cell_type": "code",
   "execution_count": 11,
   "id": "12071c9f",
   "metadata": {},
   "outputs": [
    {
     "name": "stdout",
     "output_type": "stream",
     "text": [
      "<class 'pandas.core.frame.DataFrame'>\n",
      "RangeIndex: 1303 entries, 0 to 1302\n",
      "Data columns (total 13 columns):\n",
      " #   Column                    Non-Null Count  Dtype \n",
      "---  ------                    --------------  ----- \n",
      " 0   Manufacturer              1303 non-null   object\n",
      " 1   Model Name                1303 non-null   object\n",
      " 2   Category                  1303 non-null   object\n",
      " 3   Screen Size               1303 non-null   object\n",
      " 4   Screen                    1303 non-null   object\n",
      " 5   CPU                       1303 non-null   object\n",
      " 6   RAM                       1303 non-null   object\n",
      " 7    Storage                  1303 non-null   object\n",
      " 8   GPU                       1303 non-null   object\n",
      " 9   Operating System          1303 non-null   object\n",
      " 10  Operating System Version  1133 non-null   object\n",
      " 11  Weight                    1303 non-null   object\n",
      " 12  Price (Euros)             1303 non-null   object\n",
      "dtypes: object(13)\n",
      "memory usage: 132.5+ KB\n"
     ]
    }
   ],
   "source": [
    "#laptops = pd.read_csv('laptops.csv')  # error\n",
    "laptops = pd.read_csv('laptops.csv', encoding='Latin-1')\n",
    "laptops.info()"
   ]
  },
  {
   "cell_type": "markdown",
   "id": "0ac0ecd5",
   "metadata": {},
   "source": [
    "# Part02"
   ]
  },
  {
   "cell_type": "markdown",
   "id": "1d64c4cb",
   "metadata": {},
   "source": [
    "<p>We can see that every column is represented as the <code>object</code> type, indicating that they are represented by strings, not numbers. Also, one of the columns, <code>Operating System Version</code>, has null values. </p>\n",
    "<p>The column labels have a variety of upper and lowercase letters, as well as spaces and parentheses, which will make them harder to work with and read. One noticeable issue is that the <code>\" Storage\"</code> column name has a space in front of it. These quirks with column labels can sometimes be hard to spot, so removing extra whitespaces from all column names will save us more work in the long run.</p>\n",
    "<p>The column labels have a variety of upper and lowercase letters, as well as spaces and parentheses, which will make them harder to work with and read. One noticeable issue is that the <code>\" Storage\"</code> column name has a space in front of it. These quirks with column labels can sometimes be hard to spot, so removing extra whitespaces from all column names will save us more work in the long run.</p>\n",
    "<p>We can access the column axis of a dataframe using the <a href=\"https://pandas.pydata.org/pandas-docs/stable/basics.html#attributes-and-the-raw-ndarray-s\" target=\"_blank\"><code>DataFrame.columns</code> attribute</a>. This returns an index object — a special type of NumPy ndarray — with the labels of each column:</p>"
   ]
  },
  {
   "cell_type": "code",
   "execution_count": null,
   "id": "07c7c5f5",
   "metadata": {},
   "outputs": [],
   "source": [
    "print(laptops.columns)"
   ]
  },
  {
   "cell_type": "markdown",
   "id": "ee0e0001",
   "metadata": {},
   "source": [
    "<p>Not only can we use the attribute to view the column labels, we can also assign new labels to the attribute:</p>\n",
    "\n",
    "```python\n",
    "laptops_test = laptops.copy()\n",
    "laptops_test.columns = ['A', 'B', 'C', 'D', 'E',\n",
    "                        'F', 'G', 'H', 'I', 'J',\n",
    "                        'K', 'L', 'M']\n",
    "\n",
    "print(laptops_test.columns)\n",
    "\n",
    "Index(['A', 'B', 'C', 'D', 'E', 'F', 'G', 'H', 'I', 'J', 'K', 'L', 'M'], dtype='object')\n",
    "```\n"
   ]
  },
  {
   "cell_type": "code",
   "execution_count": 12,
   "id": "a2ef458a",
   "metadata": {},
   "outputs": [
    {
     "name": "stdout",
     "output_type": "stream",
     "text": [
      "Index(['Manufacturer', 'Model Name', 'Category', 'Screen Size', 'Screen',\n",
      "       'CPU', 'RAM', ' Storage', 'GPU', 'Operating System',\n",
      "       'Operating System Version', 'Weight', 'Price (Euros)'],\n",
      "      dtype='object')\n"
     ]
    }
   ],
   "source": [
    "new_columns = laptops.columns.str.strip()\n",
    "# new_columns = [c.strip() for c in laptops.columns ]"
   ]
  },
  {
   "cell_type": "code",
   "execution_count": 13,
   "id": "ee8a82f4",
   "metadata": {},
   "outputs": [
    {
     "name": "stdout",
     "output_type": "stream",
     "text": [
      "Index(['Manufacturer', 'Model Name', 'Category', 'Screen Size', 'Screen',\n",
      "       'CPU', 'RAM', ' Storage', 'GPU', 'Operating System',\n",
      "       'Operating System Version', 'Weight', 'Price (Euros)'],\n",
      "      dtype='object')\n",
      "Index(['Manufacturer', 'Model Name', 'Category', 'Screen Size', 'Screen',\n",
      "       'CPU', 'RAM', 'Storage', 'GPU', 'Operating System',\n",
      "       'Operating System Version', 'Weight', 'Price (Euros)'],\n",
      "      dtype='object')\n"
     ]
    }
   ],
   "source": [
    "print(laptops.columns)\n",
    "print(new_columns)"
   ]
  },
  {
   "cell_type": "code",
   "execution_count": 14,
   "id": "7a8ea0d6",
   "metadata": {},
   "outputs": [
    {
     "name": "stdout",
     "output_type": "stream",
     "text": [
      "Index(['Manufacturer', 'Model Name', 'Category', 'Screen Size', 'Screen',\n",
      "       'CPU', 'RAM', 'Storage', 'GPU', 'Operating System',\n",
      "       'Operating System Version', 'Weight', 'Price (Euros)'],\n",
      "      dtype='object')\n"
     ]
    }
   ],
   "source": [
    "laptops.columns = new_columns\n",
    "print(laptops.columns)"
   ]
  },
  {
   "cell_type": "markdown",
   "id": "98fed12c",
   "metadata": {},
   "source": [
    "# Part03"
   ]
  },
  {
   "cell_type": "markdown",
   "id": "de705a94",
   "metadata": {},
   "source": [
    "<p>In the last exercise, we removed whitespaces from the column names.</p>\n",
    "<p>However, the column labels still have a variety of upper and lowercase letters, as well as parentheses, which will make them harder to work with and read. Let's finish cleaning our column labels by:</p>\n",
    "<ul>\n",
    "<li>Replacing spaces with underscores.</li>\n",
    "<li>Removing special characters.</li>\n",
    "<li>Making all labels lowercase.</li>\n",
    "<li>Shortening any long column names.</li>\n",
    "</ul>\n",
    "<p>We can create a function that uses <a href=\"https://docs.python.org/3/library/stdtypes.html#string-methods\" target=\"_blank\">Python string methods</a> to clean our column labels, and then again use a loop to apply that function to each label. Let's look at an example:</p>\n",
    "\n",
    "\n",
    "```python\n",
    "def clean_col(col):\n",
    "    col = col.strip()\n",
    "    col = col.replace(\"(\",\"\")\n",
    "    col = col.replace(\")\",\"\")\n",
    "    col = col.lower()\n",
    "    return col\n",
    "\n",
    "new_columns = []\n",
    "for c in laptops.columns:\n",
    "    clean_c = clean_col(c)\n",
    "    new_columns.append(clean_c)\n",
    "\n",
    "laptops.columns = new_columns\n",
    "print(laptops.columns)\n",
    "```\n",
    "```python\n",
    "Index(['manufacturer', 'model name', 'category', 'screen size', 'screen',\n",
    "       'cpu', 'ram', 'storage', 'gpu', 'operating system',\n",
    "       'operating system version', 'weight', 'price euros'],\n",
    "      dtype='object')\n",
    "\n",
    "```\n",
    "\n",
    "\n",
    "<p>Our code:</p>\n",
    "<ul>\n",
    "<li>Defined a function, which:<ul>\n",
    "<li>Used the <a href=\"https://docs.python.org/3.6/library/stdtypes.html#str.strip\" target=\"_blank\"><code>str.strip()</code> method</a> to remove whitespace from the start and end of the string.</li>\n",
    "<li>Used the <a href=\"https://docs.python.org/3.6/library/stdtypes.html#str.replace\" target=\"_blank\"><code>str.replace()</code> method</a> to remove parentheses from the string.</li>\n",
    "<li>Used the <a href=\"https://docs.python.org/3.6/library/stdtypes.html#str.lower\" target=\"_blank\"><code>str.lower()</code> method</a> to make the string lowercase.</li>\n",
    "<li>Returns the modified string.</li>\n",
    "</ul>\n",
    "</li>\n",
    "<li>Used a loop to apply the function to each item in the index object and assign it back to the <code>DataFrame.columns</code> attribute.</li>\n",
    "<li>Printed the new values for the <code>DataFrame.columns</code> attribute.</li>\n",
    "</ul>\n",
    "<p>Let's use this technique to clean the column labels in our dataframe, adding a few extra cleaning 'chores' along the way.</p>\n",
    "\n",
    "<ol>\n",
    "<li>Define a function, which accepts a string argument, and:<ul>\n",
    "<li>Removes any whitespace from the start and end of the string.</li>\n",
    "<li>Replaces the substring <code>Operating System</code> with the abbreviation <code>os</code>.</li>\n",
    "<li>Replaces all spaces with underscores.</li>\n",
    "<li>Removes parentheses from the string.</li>\n",
    "<li>Makes the entire string lowercase.</li>\n",
    "<li>Returns the modified string.</li>\n",
    "</ul>\n",
    "</li>\n",
    "<li>Use a loop to apply the function to each item in the <code>DataFrame.columns</code> attribute for the <code>laptops</code> dataframe. Assign the result back to the <code>DataFrame.columns</code> attribute.</li>\n",
    "</ol>"
   ]
  },
  {
   "cell_type": "code",
   "execution_count": 15,
   "id": "5267958b",
   "metadata": {},
   "outputs": [],
   "source": [
    "laptops = pd.read_csv('laptops.csv', encoding='Latin-1')"
   ]
  },
  {
   "cell_type": "code",
   "execution_count": 30,
   "id": "39aacd18",
   "metadata": {},
   "outputs": [],
   "source": [
    "def clean_cols(string):\n",
    "    string = string.strip().replace('(', '').replace(')', '').replace(' ', '_').lower()\n",
    "    if 'operating_system' in string:\n",
    "        string = string.replace('operating_system', 'os')\n",
    "    return string\n",
    "    "
   ]
  },
  {
   "cell_type": "code",
   "execution_count": 33,
   "id": "76291cfd",
   "metadata": {},
   "outputs": [
    {
     "data": {
      "text/plain": [
       "['manufacturer',\n",
       " 'model_name',\n",
       " 'category',\n",
       " 'screen_size',\n",
       " 'screen',\n",
       " 'cpu',\n",
       " 'ram',\n",
       " 'storage',\n",
       " 'gpu',\n",
       " 'os',\n",
       " 'os_version',\n",
       " 'weight',\n",
       " 'price_euros']"
      ]
     },
     "execution_count": 33,
     "metadata": {},
     "output_type": "execute_result"
    }
   ],
   "source": [
    "pd.Series(laptops.columns).apply(clean_cols).values.tolist()"
   ]
  },
  {
   "cell_type": "code",
   "execution_count": 32,
   "id": "814797c9",
   "metadata": {},
   "outputs": [
    {
     "data": {
      "text/plain": [
       "['manufacturer',\n",
       " 'model_name',\n",
       " 'category',\n",
       " 'screen_size',\n",
       " 'screen',\n",
       " 'cpu',\n",
       " 'ram',\n",
       " 'storage',\n",
       " 'gpu',\n",
       " 'os',\n",
       " 'os_version',\n",
       " 'weight',\n",
       " 'price_euros']"
      ]
     },
     "execution_count": 32,
     "metadata": {},
     "output_type": "execute_result"
    }
   ],
   "source": [
    "[clean_cols(column) for column in laptops.columns]"
   ]
  },
  {
   "cell_type": "code",
   "execution_count": 34,
   "id": "1234a093",
   "metadata": {},
   "outputs": [],
   "source": [
    "cols = [clean_cols(column) for column in laptops.columns]"
   ]
  },
  {
   "cell_type": "code",
   "execution_count": null,
   "id": "f33c75df",
   "metadata": {},
   "outputs": [],
   "source": [
    "print(laptops.columns)"
   ]
  },
  {
   "cell_type": "code",
   "execution_count": 35,
   "id": "7f4efbda",
   "metadata": {},
   "outputs": [
    {
     "name": "stdout",
     "output_type": "stream",
     "text": [
      "Index(['Manufacturer', 'Model Name', 'Category', 'Screen Size', 'Screen',\n",
      "       'CPU', 'RAM', ' Storage', 'GPU', 'Operating System',\n",
      "       'Operating System Version', 'Weight', 'Price (Euros)'],\n",
      "      dtype='object')\n",
      "Index(['manufacturer', 'model_name', 'category', 'screen_size', 'screen',\n",
      "       'cpu', 'ram', 'storage', 'gpu', 'os', 'os_version', 'weight',\n",
      "       'price_euros'],\n",
      "      dtype='object')\n"
     ]
    }
   ],
   "source": [
    "laptops.columns = cols\n",
    "print(laptops.columns)"
   ]
  },
  {
   "cell_type": "markdown",
   "id": "eee19f0b",
   "metadata": {},
   "source": [
    "# Part04"
   ]
  },
  {
   "cell_type": "markdown",
   "id": "0eca5eb2",
   "metadata": {},
   "source": [
    "<p>We observed earlier that all 13 columns have the <code>object</code> dtype, meaning they're stored as strings.  Let's look at the first few rows of some of our columns:</p>"
   ]
  },
  {
   "cell_type": "code",
   "execution_count": 40,
   "id": "91c841f8",
   "metadata": {},
   "outputs": [
    {
     "name": "stdout",
     "output_type": "stream",
     "text": [
      "    category screen_size                              screen\n",
      "0  Ultrabook       13.3\"  IPS Panel Retina Display 2560x1600\n",
      "1  Ultrabook       13.3\"                            1440x900\n",
      "2   Notebook       15.6\"                   Full HD 1920x1080\n",
      "3  Ultrabook       15.4\"  IPS Panel Retina Display 2880x1800\n",
      "4  Ultrabook       13.3\"  IPS Panel Retina Display 2560x1600\n"
     ]
    }
   ],
   "source": [
    "print(laptops.iloc[:5,2:5])"
   ]
  },
  {
   "cell_type": "markdown",
   "id": "6539a6c0",
   "metadata": {},
   "source": [
    "<p>Of these three columns, we have three different types of text data:</p>\n",
    "<ul>\n",
    "<li><code>category</code>: Purely text data - there are no numeric values.</li>\n",
    "<li><code>screen_size</code>: Numeric data stored as text data because of the <code>\"</code> character.</li>\n",
    "<li><code>screen</code>: A combination of pure text data with numeric data.</li>\n",
    "</ul>\n",
    "<p>Because the values in the <code>screen_size</code> column are stored as text data, we can't sort them numerically. For instance, if we wanted to select laptops with screens 15\" or larger, we'd be unable to do so. </p>\n",
    "<p>Let's convert the <code>screen_size</code> column to numeric next. Whenever we convert text to numeric data, we can follow this data cleaning workflow:</p>"
   ]
  },
  {
   "cell_type": "markdown",
   "id": "7e25c392",
   "metadata": {},
   "source": [
    "<img src=\"figs/cleaning_workflow.svg\" width=\"600\" height=\"400\"/>\n",
    "\n",
    "The first step is to explore the data. One of the best ways to do this is to use the [`Series.unique()` method](https://pandas.pydata.org/pandas-docs/stable/reference/api/pandas.Series.unique.html)  to view all of the unique values in the column:"
   ]
  },
  {
   "cell_type": "code",
   "execution_count": 41,
   "id": "14e956de",
   "metadata": {},
   "outputs": [
    {
     "name": "stdout",
     "output_type": "stream",
     "text": [
      "object\n",
      "['13.3\"' '15.6\"' '15.4\"' '14.0\"' '12.0\"' '11.6\"' '17.3\"' '10.1\"' '13.5\"'\n",
      " '12.5\"' '13.0\"' '18.4\"' '13.9\"' '12.3\"' '17.0\"' '15.0\"' '14.1\"' '11.3\"']\n"
     ]
    }
   ],
   "source": [
    "print(laptops[\"screen_size\"].dtype)\n",
    "print(laptops[\"screen_size\"].unique())"
   ]
  },
  {
   "cell_type": "markdown",
   "id": "900a4d74",
   "metadata": {},
   "source": [
    "<p>Our next step is to <strong>identify patterns and special cases</strong>. We can observe the following:</p>\n",
    "<ul>\n",
    "<li>All values in this column follow the same pattern - a series of digit and period characters, followed by a quote character (<code>\"</code>). </li>\n",
    "<li>There are no special cases. Every value matches the same pattern.</li>\n",
    "<li>We'll need to convert the column to a <code>float</code> dtype, as the <code>int</code> dtype won't be able to store the decimal values.</li>\n",
    "</ul>\n",
    "<p>Let's identify any patterns and special cases in the <code>ram</code> column next.</p>"
   ]
  },
  {
   "cell_type": "code",
   "execution_count": 39,
   "id": "4f6e39f4",
   "metadata": {},
   "outputs": [
    {
     "name": "stdout",
     "output_type": "stream",
     "text": [
      "['manufacturer' 'model_name' 'category' 'screen_size' 'screen' 'cpu' 'ram'\n",
      " 'storage' 'gpu' 'os' 'os_version' 'weight' 'price_euros'] \n",
      "\n",
      "['8GB' '16GB' '4GB' '2GB' '12GB' '6GB' '32GB' '24GB' '64GB']\n"
     ]
    }
   ],
   "source": [
    "print(laptops.columns.values, '\\n')\n",
    "print(laptops['ram'].unique())"
   ]
  },
  {
   "cell_type": "code",
   "execution_count": 85,
   "id": "d87dab8e",
   "metadata": {},
   "outputs": [
    {
     "ename": "KeyError",
     "evalue": "'ram'",
     "output_type": "error",
     "traceback": [
      "\u001b[1;31m---------------------------------------------------------------------------\u001b[0m",
      "\u001b[1;31mKeyError\u001b[0m                                  Traceback (most recent call last)",
      "\u001b[1;32m~\\Anaconda3\\lib\\site-packages\\pandas\\core\\indexes\\base.py\u001b[0m in \u001b[0;36mget_loc\u001b[1;34m(self, key, method, tolerance)\u001b[0m\n\u001b[0;32m   3360\u001b[0m             \u001b[1;32mtry\u001b[0m\u001b[1;33m:\u001b[0m\u001b[1;33m\u001b[0m\u001b[1;33m\u001b[0m\u001b[0m\n\u001b[1;32m-> 3361\u001b[1;33m                 \u001b[1;32mreturn\u001b[0m \u001b[0mself\u001b[0m\u001b[1;33m.\u001b[0m\u001b[0m_engine\u001b[0m\u001b[1;33m.\u001b[0m\u001b[0mget_loc\u001b[0m\u001b[1;33m(\u001b[0m\u001b[0mcasted_key\u001b[0m\u001b[1;33m)\u001b[0m\u001b[1;33m\u001b[0m\u001b[1;33m\u001b[0m\u001b[0m\n\u001b[0m\u001b[0;32m   3362\u001b[0m             \u001b[1;32mexcept\u001b[0m \u001b[0mKeyError\u001b[0m \u001b[1;32mas\u001b[0m \u001b[0merr\u001b[0m\u001b[1;33m:\u001b[0m\u001b[1;33m\u001b[0m\u001b[1;33m\u001b[0m\u001b[0m\n",
      "\u001b[1;32m~\\Anaconda3\\lib\\site-packages\\pandas\\_libs\\index.pyx\u001b[0m in \u001b[0;36mpandas._libs.index.IndexEngine.get_loc\u001b[1;34m()\u001b[0m\n",
      "\u001b[1;32m~\\Anaconda3\\lib\\site-packages\\pandas\\_libs\\index.pyx\u001b[0m in \u001b[0;36mpandas._libs.index.IndexEngine.get_loc\u001b[1;34m()\u001b[0m\n",
      "\u001b[1;32mpandas\\_libs\\hashtable_class_helper.pxi\u001b[0m in \u001b[0;36mpandas._libs.hashtable.PyObjectHashTable.get_item\u001b[1;34m()\u001b[0m\n",
      "\u001b[1;32mpandas\\_libs\\hashtable_class_helper.pxi\u001b[0m in \u001b[0;36mpandas._libs.hashtable.PyObjectHashTable.get_item\u001b[1;34m()\u001b[0m\n",
      "\u001b[1;31mKeyError\u001b[0m: 'ram'",
      "\nThe above exception was the direct cause of the following exception:\n",
      "\u001b[1;31mKeyError\u001b[0m                                  Traceback (most recent call last)",
      "\u001b[1;32m~\\AppData\\Local\\Temp/ipykernel_21524/1903230986.py\u001b[0m in \u001b[0;36m<module>\u001b[1;34m\u001b[0m\n\u001b[1;32m----> 1\u001b[1;33m \u001b[0munique_ram\u001b[0m \u001b[1;33m=\u001b[0m \u001b[0mlaptops\u001b[0m\u001b[1;33m[\u001b[0m\u001b[1;34m'ram'\u001b[0m\u001b[1;33m]\u001b[0m\u001b[1;33m.\u001b[0m\u001b[0munique\u001b[0m\u001b[1;33m(\u001b[0m\u001b[1;33m)\u001b[0m\u001b[1;33m\u001b[0m\u001b[1;33m\u001b[0m\u001b[0m\n\u001b[0m\u001b[0;32m      2\u001b[0m \u001b[0mprint\u001b[0m\u001b[1;33m(\u001b[0m\u001b[0munique_ram\u001b[0m\u001b[1;33m)\u001b[0m\u001b[1;33m\u001b[0m\u001b[1;33m\u001b[0m\u001b[0m\n",
      "\u001b[1;32m~\\Anaconda3\\lib\\site-packages\\pandas\\core\\frame.py\u001b[0m in \u001b[0;36m__getitem__\u001b[1;34m(self, key)\u001b[0m\n\u001b[0;32m   3453\u001b[0m             \u001b[1;32mif\u001b[0m \u001b[0mself\u001b[0m\u001b[1;33m.\u001b[0m\u001b[0mcolumns\u001b[0m\u001b[1;33m.\u001b[0m\u001b[0mnlevels\u001b[0m \u001b[1;33m>\u001b[0m \u001b[1;36m1\u001b[0m\u001b[1;33m:\u001b[0m\u001b[1;33m\u001b[0m\u001b[1;33m\u001b[0m\u001b[0m\n\u001b[0;32m   3454\u001b[0m                 \u001b[1;32mreturn\u001b[0m \u001b[0mself\u001b[0m\u001b[1;33m.\u001b[0m\u001b[0m_getitem_multilevel\u001b[0m\u001b[1;33m(\u001b[0m\u001b[0mkey\u001b[0m\u001b[1;33m)\u001b[0m\u001b[1;33m\u001b[0m\u001b[1;33m\u001b[0m\u001b[0m\n\u001b[1;32m-> 3455\u001b[1;33m             \u001b[0mindexer\u001b[0m \u001b[1;33m=\u001b[0m \u001b[0mself\u001b[0m\u001b[1;33m.\u001b[0m\u001b[0mcolumns\u001b[0m\u001b[1;33m.\u001b[0m\u001b[0mget_loc\u001b[0m\u001b[1;33m(\u001b[0m\u001b[0mkey\u001b[0m\u001b[1;33m)\u001b[0m\u001b[1;33m\u001b[0m\u001b[1;33m\u001b[0m\u001b[0m\n\u001b[0m\u001b[0;32m   3456\u001b[0m             \u001b[1;32mif\u001b[0m \u001b[0mis_integer\u001b[0m\u001b[1;33m(\u001b[0m\u001b[0mindexer\u001b[0m\u001b[1;33m)\u001b[0m\u001b[1;33m:\u001b[0m\u001b[1;33m\u001b[0m\u001b[1;33m\u001b[0m\u001b[0m\n\u001b[0;32m   3457\u001b[0m                 \u001b[0mindexer\u001b[0m \u001b[1;33m=\u001b[0m \u001b[1;33m[\u001b[0m\u001b[0mindexer\u001b[0m\u001b[1;33m]\u001b[0m\u001b[1;33m\u001b[0m\u001b[1;33m\u001b[0m\u001b[0m\n",
      "\u001b[1;32m~\\Anaconda3\\lib\\site-packages\\pandas\\core\\indexes\\base.py\u001b[0m in \u001b[0;36mget_loc\u001b[1;34m(self, key, method, tolerance)\u001b[0m\n\u001b[0;32m   3361\u001b[0m                 \u001b[1;32mreturn\u001b[0m \u001b[0mself\u001b[0m\u001b[1;33m.\u001b[0m\u001b[0m_engine\u001b[0m\u001b[1;33m.\u001b[0m\u001b[0mget_loc\u001b[0m\u001b[1;33m(\u001b[0m\u001b[0mcasted_key\u001b[0m\u001b[1;33m)\u001b[0m\u001b[1;33m\u001b[0m\u001b[1;33m\u001b[0m\u001b[0m\n\u001b[0;32m   3362\u001b[0m             \u001b[1;32mexcept\u001b[0m \u001b[0mKeyError\u001b[0m \u001b[1;32mas\u001b[0m \u001b[0merr\u001b[0m\u001b[1;33m:\u001b[0m\u001b[1;33m\u001b[0m\u001b[1;33m\u001b[0m\u001b[0m\n\u001b[1;32m-> 3363\u001b[1;33m                 \u001b[1;32mraise\u001b[0m \u001b[0mKeyError\u001b[0m\u001b[1;33m(\u001b[0m\u001b[0mkey\u001b[0m\u001b[1;33m)\u001b[0m \u001b[1;32mfrom\u001b[0m \u001b[0merr\u001b[0m\u001b[1;33m\u001b[0m\u001b[1;33m\u001b[0m\u001b[0m\n\u001b[0m\u001b[0;32m   3364\u001b[0m \u001b[1;33m\u001b[0m\u001b[0m\n\u001b[0;32m   3365\u001b[0m         \u001b[1;32mif\u001b[0m \u001b[0mis_scalar\u001b[0m\u001b[1;33m(\u001b[0m\u001b[0mkey\u001b[0m\u001b[1;33m)\u001b[0m \u001b[1;32mand\u001b[0m \u001b[0misna\u001b[0m\u001b[1;33m(\u001b[0m\u001b[0mkey\u001b[0m\u001b[1;33m)\u001b[0m \u001b[1;32mand\u001b[0m \u001b[1;32mnot\u001b[0m \u001b[0mself\u001b[0m\u001b[1;33m.\u001b[0m\u001b[0mhasnans\u001b[0m\u001b[1;33m:\u001b[0m\u001b[1;33m\u001b[0m\u001b[1;33m\u001b[0m\u001b[0m\n",
      "\u001b[1;31mKeyError\u001b[0m: 'ram'"
     ]
    }
   ],
   "source": [
    "unique_ram = laptops['ram'].unique()\n",
    "print(unique_ram)"
   ]
  },
  {
   "cell_type": "markdown",
   "id": "9a353ee6",
   "metadata": {},
   "source": [
    "# Part05"
   ]
  },
  {
   "cell_type": "markdown",
   "id": "2d565eea",
   "metadata": {},
   "source": [
    "<p>We identified a clear pattern in the <code>ram</code> column - all values are integers and include the character <code>GB</code> at the end of the string:</p>\n",
    "\n",
    "```python\n",
    "['8GB' '16GB' '4GB' '2GB' '12GB' '6GB' '32GB' '24GB' '64GB']\n",
    "```\n",
    "\n",
    "<p>To convert both the <code>ram</code> and <code>screen_size</code> columns to numeric dtypes, we'll have to first <strong>remove the non-digit characters</strong>.</p>\n",
    "\n",
    "<p><img src=\"figs/cleaning_workflow.svg\" alt=\"string to numeric cleaning workflow\" width=\"600\" height=\"400\"></p>\n",
    "\n",
    "\n",
    "The pandas library contains dozens of [vectorized string methods](https://pandas.pydata.org/pandas-docs/stable/user_guide/text.html#method-summary) we can use to manipulate text data, many of which perform the same operations as Python string methods. Most vectorized string methods are available using the [`Series.str` accessor](https://pandas.pydata.org/pandas-docs/stable/reference/series.html#accessors), which means we can access them by adding `str` between the series name and the method name:\n",
    "\n",
    "![syntax](figs/Syntax.png)\n",
    "\n",
    "<p>In this case, we can use the <a href=\"http://pandas.pydata.org/pandas-docs/stable/generated/pandas.Series.str.replace.html\" target=\"_blank\"><code>Series.str.replace()</code> method</a>, which is a vectorized version of the Python <code>str.replace()</code> method we used in the previous screen, to remove all the quote characters from every string in the <code>screen_size</code> column:</p>"
   ]
  },
  {
   "cell_type": "code",
   "execution_count": 44,
   "id": "7e83500f",
   "metadata": {},
   "outputs": [
    {
     "name": "stdout",
     "output_type": "stream",
     "text": [
      "['13.3' '15.6' '15.4' '14.0' '12.0' '11.6' '17.3' '10.1' '13.5' '12.5'\n",
      " '13.0' '18.4' '13.9' '12.3' '17.0' '15.0' '14.1' '11.3']\n"
     ]
    }
   ],
   "source": [
    "laptops[\"screen_size\"] = laptops[\"screen_size\"].str.replace('\"','')\n",
    "print(laptops[\"screen_size\"].unique())"
   ]
  },
  {
   "cell_type": "code",
   "execution_count": 42,
   "id": "6d061f7d",
   "metadata": {},
   "outputs": [],
   "source": [
    "laptops['ram'] = laptops['ram'].str.replace('GB', '')\n",
    "unique_ram = laptops['ram'].unique()"
   ]
  },
  {
   "cell_type": "markdown",
   "id": "7145cbeb",
   "metadata": {},
   "source": [
    "# Part06"
   ]
  },
  {
   "cell_type": "markdown",
   "id": "0660c362",
   "metadata": {},
   "source": [
    "<p>We used the <code>Series.str.replace()</code> method to remove the non-digit characters from the <code>screen_size</code> and <code>ram</code> columns. Now, we can <strong>convert (or cast) the columns to a numeric dtype</strong>. </p>\n",
    "\n",
    "<img src=\"figs/cleaning_workflow.svg\" width=\"600\" height=\"400\"/>\n",
    "\n",
    "<p>To do this, we use the <a href=\"http://pandas.pydata.org/pandas-docs/stable/generated/pandas.Series.astype.html\" target=\"_blank\"><code>Series.astype()</code> method</a>. To convert the column to a numeric dtype, we can use either <code>int</code> or <code>float</code> as the parameter for the method. Since the <code>int</code> dtype can't store decimal values, we'll convert the <code>screen_size</code> column to the <code>float</code> dtype:</p>"
   ]
  },
  {
   "cell_type": "code",
   "execution_count": 45,
   "id": "f4d39ae8",
   "metadata": {},
   "outputs": [
    {
     "name": "stdout",
     "output_type": "stream",
     "text": [
      "float64\n",
      "[13.3 15.6 15.4 14.  12.  11.6 17.3 10.1 13.5 12.5 13.  18.4 13.9 12.3\n",
      " 17.  15.  14.1 11.3]\n"
     ]
    }
   ],
   "source": [
    "laptops[\"screen_size\"] = laptops[\"screen_size\"].astype(float)\n",
    "print(laptops[\"screen_size\"].dtype)\n",
    "print(laptops[\"screen_size\"].unique())"
   ]
  },
  {
   "cell_type": "code",
   "execution_count": 46,
   "id": "8ee49f6e",
   "metadata": {},
   "outputs": [
    {
     "name": "stdout",
     "output_type": "stream",
     "text": [
      "int32\n"
     ]
    }
   ],
   "source": [
    "laptops[\"ram\"] = laptops[\"ram\"].str.replace('GB','').astype(int)\n",
    "dtypes = laptops.dtypes\n",
    "print(laptops['ram'].dtype)"
   ]
  },
  {
   "cell_type": "markdown",
   "id": "7c7068d6",
   "metadata": {},
   "source": [
    "# Part07"
   ]
  },
  {
   "cell_type": "markdown",
   "id": "bd18d511",
   "metadata": {},
   "source": [
    "<p>Now that we've converted our columns to numeric dtypes, the final step is to <strong>rename the column</strong>. This is an optional step, and can be useful if the non-digit values contain information that helps us understand the data. </p>\n",
    "\n",
    "<p><img src=\"figs/cleaning_workflow.svg\" alt=\"string to numeric cleaning workflow\" width=\"400\" height=\"200\"></p>\n",
    "\n",
    "<p>In our case, the quote characters we removed from the <code>screen_size</code> column denoted that the screen size was in inches. As a reminder, here's what the original values looked like:</p>\n",
    "\n",
    "```python\n",
    "['13.3\"', '15.6\"', '15.4\"', '14.0\"', '12.0\"', '11.6\"',\n",
    " '17.3\"', '10.1\"', '13.5\"', '12.5\"', '13.0\"', '18.4\"',\n",
    " '13.9\"', '12.3\"', '17.0\"', '15.0\"', '14.1\"',\n",
    " '11.3\"']\n",
    "```\n",
    "\n",
    "\n",
    "<p>To stop us from losing information that helps us understand the data, we can use the <a href=\"http://pandas.pydata.org/pandas-docs/stable/generated/pandas.DataFrame.rename.html\" target=\"_blank\"><code>DataFrame.rename()</code> method</a> to rename the column from <code>screen_size</code> to <code>screen_size_inches</code>. </p>\n",
    "\n",
    "<p>Below, we specify the <code>axis=1</code> parameter so pandas knows that we want to rename labels in the column axis:</p>"
   ]
  },
  {
   "cell_type": "code",
   "execution_count": 47,
   "id": "54bf19e1",
   "metadata": {},
   "outputs": [
    {
     "name": "stdout",
     "output_type": "stream",
     "text": [
      "manufacturer           object\n",
      "model_name             object\n",
      "category               object\n",
      "screen_size_inches    float64\n",
      "screen                 object\n",
      "cpu                    object\n",
      "ram                     int32\n",
      "storage                object\n",
      "gpu                    object\n",
      "os                     object\n",
      "os_version             object\n",
      "weight                 object\n",
      "price_euros            object\n",
      "dtype: object\n"
     ]
    }
   ],
   "source": [
    "laptops.rename({\"screen_size\": \"screen_size_inches\"}, axis=1, inplace=True)\n",
    "print(laptops.dtypes)"
   ]
  },
  {
   "cell_type": "markdown",
   "id": "a6a02c5a",
   "metadata": {},
   "source": [
    "<p>Note that we can either use <code>inplace=True</code> or assign the result back to the dataframe - both will give us the same results.</p>\n",
    "<p>Let's rename the <code>ram</code> column next and analyze the results.</p>"
   ]
  },
  {
   "cell_type": "code",
   "execution_count": 50,
   "id": "2af8e395",
   "metadata": {},
   "outputs": [],
   "source": [
    "laptops.rename({'ram': 'ram_gb'}, axis=1, inplace=True )"
   ]
  },
  {
   "cell_type": "code",
   "execution_count": 52,
   "id": "80069888",
   "metadata": {},
   "outputs": [
    {
     "data": {
      "text/plain": [
       "count    1303.000000\n",
       "mean        8.382195\n",
       "std         5.084665\n",
       "min         2.000000\n",
       "25%         4.000000\n",
       "50%         8.000000\n",
       "75%         8.000000\n",
       "max        64.000000\n",
       "Name: ram_gb, dtype: float64"
      ]
     },
     "execution_count": 52,
     "metadata": {},
     "output_type": "execute_result"
    }
   ],
   "source": [
    "ram_gb_desc = laptops['ram_gb'].describe()\n",
    "ram_gb_desc"
   ]
  },
  {
   "cell_type": "markdown",
   "id": "5072ed27",
   "metadata": {},
   "source": [
    "# Part08"
   ]
  },
  {
   "cell_type": "markdown",
   "id": "529fb027",
   "metadata": {},
   "source": [
    "<p>Sometimes, it can be useful to extract non-numeric values from within strings. Let's look at the first five values from the <code>gpu</code> (graphics processing unit) column:</p>\n"
   ]
  },
  {
   "cell_type": "code",
   "execution_count": 53,
   "id": "cca21510",
   "metadata": {},
   "outputs": [
    {
     "name": "stdout",
     "output_type": "stream",
     "text": [
      "0    Intel Iris Plus Graphics 640\n",
      "1          Intel HD Graphics 6000\n",
      "2           Intel HD Graphics 620\n",
      "3              AMD Radeon Pro 455\n",
      "4    Intel Iris Plus Graphics 650\n",
      "Name: gpu, dtype: object\n"
     ]
    }
   ],
   "source": [
    "print(laptops[\"gpu\"].head())"
   ]
  },
  {
   "cell_type": "markdown",
   "id": "5b834e54",
   "metadata": {},
   "source": [
    "<p>The information in this column seems to be a manufacturer (Intel, AMD) followed by a model name/number. Let's extract the manufacturer by itself so we can find the most common ones.</p>\n",
    "<p>Because each manufacturer is followed by a whitespace character, we can use the <a href=\"http://pandas.pydata.org/pandas-docs/stable/generated/pandas.Series.str.split.html\" target=\"_blank\"><code>Series.str.split()</code> method</a> to extract this data:</p>\n",
    "\n",
    "<p><img src=\"figs/str_split_2.svg\" alt=\"extracting data from a string, step 2\" width=\"600\" height=\"400\" /></p>\n",
    "\n",
    "<p>This method splits each string on the whitespace; the result is a series containing individual Python lists. Also note that we used parentheses to method chain over multiple lines, which makes our code easier to read.</p>\n",
    "\n",
    "<p>Just like with lists and ndarrays, we can use bracket notation to access the elements in each list in the series. With series, however, we use the <code>str</code> accessor followed by <code>[]</code> (brackets):</p>\n",
    "\n"
   ]
  },
  {
   "cell_type": "code",
   "execution_count": 54,
   "id": "84627d2e",
   "metadata": {},
   "outputs": [
    {
     "name": "stdout",
     "output_type": "stream",
     "text": [
      "0    Intel\n",
      "1    Intel\n",
      "2    Intel\n",
      "3      AMD\n",
      "4    Intel\n",
      "Name: gpu, dtype: object\n"
     ]
    }
   ],
   "source": [
    "print(laptops[\"gpu\"].head().str.split().str[0])"
   ]
  },
  {
   "cell_type": "markdown",
   "id": "ab7764da",
   "metadata": {},
   "source": [
    "<p>Let's use this technique to extract the manufacturer from the <code>cpu</code> column as well. Here are the first 5 rows of the <code>cpu</code> column:</p>\n"
   ]
  },
  {
   "cell_type": "code",
   "execution_count": 55,
   "id": "49d9704f",
   "metadata": {},
   "outputs": [
    {
     "name": "stdout",
     "output_type": "stream",
     "text": [
      "0          Intel Core i5 2.3GHz\n",
      "1          Intel Core i5 1.8GHz\n",
      "2    Intel Core i5 7200U 2.5GHz\n",
      "3          Intel Core i7 2.7GHz\n",
      "4          Intel Core i5 3.1GHz\n",
      "Name: cpu, dtype: object\n"
     ]
    }
   ],
   "source": [
    "print(laptops[\"cpu\"].head())"
   ]
  },
  {
   "cell_type": "code",
   "execution_count": 56,
   "id": "64b52dfd",
   "metadata": {},
   "outputs": [],
   "source": [
    "laptops[\"gpu_manufacturer\"] = (laptops[\"gpu\"]\n",
    "                                       .str.split()\n",
    "                                       .str[0]\n",
    "                              )"
   ]
  },
  {
   "cell_type": "code",
   "execution_count": 58,
   "id": "f1e8f132",
   "metadata": {},
   "outputs": [],
   "source": [
    "laptops['cpu_manufacturer'] = laptops['cpu'].str.split().str[0]\n",
    "cpu_manufacturer_counts = laptops['cpu_manufacturer'].value_counts()"
   ]
  },
  {
   "cell_type": "code",
   "execution_count": 59,
   "id": "9c8b5d1a",
   "metadata": {},
   "outputs": [
    {
     "data": {
      "text/plain": [
       "Intel      1240\n",
       "AMD          62\n",
       "Samsung       1\n",
       "Name: cpu_manufacturer, dtype: int64"
      ]
     },
     "execution_count": 59,
     "metadata": {},
     "output_type": "execute_result"
    }
   ],
   "source": [
    "cpu_manufacturer_counts"
   ]
  },
  {
   "cell_type": "markdown",
   "id": "7b2de94c",
   "metadata": {},
   "source": [
    "# Part09"
   ]
  },
  {
   "cell_type": "markdown",
   "id": "a2fa9653",
   "metadata": {},
   "source": [
    "<p>If your data has been scraped from a webpage or if there was manual data entry involved at some point, you may end up with inconsistent values. Let's look at an example from our <code>os</code> column:</p>\n",
    "\n"
   ]
  },
  {
   "cell_type": "code",
   "execution_count": 60,
   "id": "864bb4b3",
   "metadata": {},
   "outputs": [
    {
     "name": "stdout",
     "output_type": "stream",
     "text": [
      "Windows      1125\n",
      "No OS          66\n",
      "Linux          62\n",
      "Chrome OS      27\n",
      "macOS          13\n",
      "Mac OS          8\n",
      "Android         2\n",
      "Name: os, dtype: int64\n"
     ]
    }
   ],
   "source": [
    "print(laptops[\"os\"].value_counts())"
   ]
  },
  {
   "cell_type": "markdown",
   "id": "cc3b4c32",
   "metadata": {},
   "source": [
    "<p>We can see that there are two variations of the Apple operating system — macOS —&nbsp;in our dataset: <code>Mac OS</code> and <code>macOS</code>. One way we can fix this is with the <a href=\"http://pandas.pydata.org/pandas-docs/stable/generated/pandas.Series.map.html\" target=\"_blank\"><code>Series.map()</code> method</a>. The <code>Series.map()</code> method is ideal when we want to change multiple values in a column, but we'll use it now as an opportunity to learn how the method works.</p>\n",
    "\n",
    "<p>The most common way to use <code>Series.map()</code> is with a dictionary. Let's look at an example using a series of misspelled fruit:</p>\n",
    "\n",
    "```python\n",
    "print(s)\n",
    "```\n",
    "\n",
    "```python\n",
    "0       pair\n",
    "1     oranje\n",
    "2    bananna\n",
    "3     oranje\n",
    "4     oranje\n",
    "5     oranje\n",
    "dtype: object\n",
    "```\n",
    "\n",
    "<p>We'll create a dictionary called <code>corrections</code> and pass that dictionary as an argument to <code>Series.map()</code>:</p>\n",
    "\n",
    "```python\n",
    "    corrections = {\n",
    "    \"pair\": \"pear\",\n",
    "    \"oranje\": \"orange\",\n",
    "    \"bananna\": \"banana\"\n",
    "}\n",
    "```\n",
    "```python\n",
    "s = s.map(corrections)\n",
    "print(s)\n",
    "``` \n",
    "\n",
    "<br>\n",
    "\n",
    "```python\n",
    "0       pear\n",
    "1     orange\n",
    "2     banana\n",
    "3     orange\n",
    "4     orange\n",
    "5     orange\n",
    "dtype: object\n",
    "```\n",
    "\n",
    "<p>We can see that each of our corrections were made across our series. One important thing to remember with <code>Series.map()</code> is that if a value from your series doesn't exist as a key in your dictionary, it will convert that value to <code>NaN</code>. Let's see what happens when we run map one more time:</p>\n",
    "\n",
    "```python\n",
    "s = s.map(corrections)\n",
    "print(s)\n",
    "```\n",
    "\n",
    "```python\n",
    "0    NaN\n",
    "1    NaN\n",
    "2    NaN\n",
    "3    NaN\n",
    "4    NaN\n",
    "5    NaN\n",
    "dtype: object\n",
    "```\n",
    "\n",
    "\n"
   ]
  },
  {
   "cell_type": "code",
   "execution_count": 61,
   "id": "5b26a64c",
   "metadata": {},
   "outputs": [
    {
     "name": "stdout",
     "output_type": "stream",
     "text": [
      "['macOS' 'No OS' 'Windows' 'Mac OS' 'Linux' 'Android' 'Chrome OS']\n"
     ]
    }
   ],
   "source": [
    "print(laptops['os'].unique())"
   ]
  },
  {
   "cell_type": "code",
   "execution_count": 62,
   "id": "a3b24157",
   "metadata": {},
   "outputs": [],
   "source": [
    "mapping_dict = {\n",
    "    'Android': 'Android',\n",
    "    'Chrome OS': 'Chrome OS',\n",
    "    'Linux': 'Linux',\n",
    "    'Mac OS': 'macOS',\n",
    "    'No OS': 'No OS',\n",
    "    'Windows': 'Windows',\n",
    "    'macOS': 'macOS'\n",
    "}"
   ]
  },
  {
   "cell_type": "code",
   "execution_count": 63,
   "id": "1211ba06",
   "metadata": {},
   "outputs": [
    {
     "name": "stdout",
     "output_type": "stream",
     "text": [
      "<class 'pandas.core.series.Series'>\n"
     ]
    }
   ],
   "source": [
    "print(type(laptops['os']))"
   ]
  },
  {
   "cell_type": "code",
   "execution_count": 64,
   "id": "dbf51f34",
   "metadata": {},
   "outputs": [
    {
     "name": "stdout",
     "output_type": "stream",
     "text": [
      "['macOS' 'No OS' 'Windows' 'Linux' 'Android' 'Chrome OS']\n"
     ]
    }
   ],
   "source": [
    "laptops['os'] = laptops['os'].map(mapping_dict)\n",
    "print(laptops['os'].unique())"
   ]
  },
  {
   "cell_type": "markdown",
   "id": "7fd86cc3",
   "metadata": {},
   "source": [
    "# Part10"
   ]
  },
  {
   "cell_type": "markdown",
   "id": "6c9a2685",
   "metadata": {},
   "source": [
    "<p>In previous lessons, we've talked briefly about missing values and how both NumPy and pandas represent these as null values. In pandas, null values will be indicated by either <code>NaN</code> or <code>None</code>.</p>\n",
    "\n",
    "<p>Recall that we can use the <a href=\"http://pandas.pydata.org/pandas-docs/stable/generated/pandas.DataFrame.isnull.html\" target=\"_blank\"><code>DataFrame.isnull()</code> method</a> to identify  missing values, which returns a boolean dataframe. We can then use the <code>DataFrame.sum()</code> method to give us a count of the <code>True</code> values for each column:</p>\n"
   ]
  },
  {
   "cell_type": "code",
   "execution_count": 65,
   "id": "318793ee",
   "metadata": {},
   "outputs": [
    {
     "name": "stdout",
     "output_type": "stream",
     "text": [
      "manufacturer            0\n",
      "model_name              0\n",
      "category                0\n",
      "screen_size_inches      0\n",
      "screen                  0\n",
      "cpu                     0\n",
      "ram_gb                  0\n",
      "storage                 0\n",
      "gpu                     0\n",
      "os                      0\n",
      "os_version            170\n",
      "weight                  0\n",
      "price_euros             0\n",
      "gpu_manufacturer        0\n",
      "cpu_manufacturer        0\n",
      "dtype: int64\n"
     ]
    }
   ],
   "source": [
    "print(laptops.isnull().sum())"
   ]
  },
  {
   "cell_type": "markdown",
   "id": "2e9ef1c1",
   "metadata": {},
   "source": [
    "<p>It's now clear that we have only one column with null values, <code>os_version</code>, which has 170 missing values.</p>\n",
    "\n",
    "<p>There are a few options for handling missing values:</p>\n",
    "<ul>\n",
    "<li>Remove any rows that have missing values.</li>\n",
    "<li>Remove any columns that have missing values.</li>\n",
    "<li>Fill the missing values with some other value.</li>\n",
    "<li>Leave the missing values as is.</li>\n",
    "</ul>\n",
    "\n",
    "<p>The first two options are often used to prepare data for machine learning algorithms, which are unable to be used with data that includes null values. We can use the <a href=\"http://pandas.pydata.org/pandas-docs/stable/generated/pandas.DataFrame.dropna.html\" target=\"_blank\"><code>DataFrame.dropna()</code> method</a> to remove or <strong>drop</strong> rows and columns with null values. </p>\n",
    "\n",
    "<p>The <code>DataFrame.dropna()</code> method accepts an <code>axis</code> parameter, which indicates whether we want to drop along the column or index axis. Let's look at an example:</p>\n",
    "\n",
    "<p><img src=\"figs/dropna_1.svg\" alt=\"removing missing values example dataframe\"></p>\n",
    "\n",
    "<p>The default value for the <code>axis</code> parameter is <code>0</code>, so <code>df.dropna()</code> returns an identical result to <code>df.dropna(axis=0</code>):</p>\n",
    "\n",
    "<p><img src=\"figs/dropna_2.svg\" alt=\"removing missing values axis=0\"></p>\n",
    "\n",
    "<p>The rows with labels <code>x</code> and <code>z</code> contain null values, so those rows are dropped. Let's look at what happens when we use <code>axis=1</code> to specify the column axis:</p>\n",
    "\n",
    "<p><img src=\"figs/dropna_3.svg\" alt=\"removing missing values axis=1\"></p>\n",
    "\n",
    "<p>Only the column with label <code>C</code> contains null values, so, in this case, just one column is removed.</p>\n",
    "\n",
    "<p>Let's practice using <code>DataFrame.dropna()</code> to remove rows and columns:</p>"
   ]
  },
  {
   "cell_type": "code",
   "execution_count": 71,
   "id": "1941f52d",
   "metadata": {},
   "outputs": [
    {
     "data": {
      "text/plain": [
       "(1133, 15)"
      ]
     },
     "execution_count": 71,
     "metadata": {},
     "output_type": "execute_result"
    }
   ],
   "source": [
    "laptops_no_null_rows = laptops.dropna()\n",
    "laptops_no_null_rows.shape"
   ]
  },
  {
   "cell_type": "code",
   "execution_count": 70,
   "id": "b3b8a76f",
   "metadata": {},
   "outputs": [
    {
     "data": {
      "text/plain": [
       "(1303, 14)"
      ]
     },
     "execution_count": 70,
     "metadata": {},
     "output_type": "execute_result"
    }
   ],
   "source": [
    "laptops_no_null_cols = laptops.dropna(axis=1)\n",
    "laptops_no_null_cols.shape"
   ]
  },
  {
   "cell_type": "markdown",
   "id": "53436b90",
   "metadata": {},
   "source": [
    "# Part11"
   ]
  },
  {
   "cell_type": "markdown",
   "id": "e8299f07",
   "metadata": {},
   "source": [
    "<p>While dropping rows or columns is the easiest approach to deal with missing values, it may not always be the <em>best</em> approach. For example, removing a disproportionate amount of one manufacturer's laptops could change our analysis.</p>\n",
    "\n",
    "<p>Because of this, it's a good idea to explore the missing values in the <code>os_version</code> column before making a decision. We can use <code>Series.value_counts()</code> to explore all of the values in the column, but we'll use a parameter we haven't seen before:</p>\n",
    "\n"
   ]
  },
  {
   "cell_type": "code",
   "execution_count": 72,
   "id": "42c93c69",
   "metadata": {},
   "outputs": [
    {
     "name": "stdout",
     "output_type": "stream",
     "text": [
      "10      1072\n",
      "NaN      170\n",
      "7         45\n",
      "X          8\n",
      "10 S       8\n",
      "Name: os_version, dtype: int64\n"
     ]
    }
   ],
   "source": [
    "print(laptops[\"os_version\"].value_counts(dropna=False))"
   ]
  },
  {
   "cell_type": "markdown",
   "id": "da9bd554",
   "metadata": {},
   "source": [
    "<p>Because we set the <code>dropna</code> parameter to <code>False</code>, the result includes null values. We can see that the majority of values in the column are <code>10</code> and missing values are the next most common.</p>\n",
    "\n",
    "<p>Let's also explore the <code>os</code> column, since it's is closely related to the <code>os_version</code> column. We'll only look at rows in which the <code>os_version</code> is missing:</p>"
   ]
  },
  {
   "cell_type": "code",
   "execution_count": 73,
   "id": "a5a2c283",
   "metadata": {},
   "outputs": [
    {
     "name": "stdout",
     "output_type": "stream",
     "text": [
      "No OS        66\n",
      "Linux        62\n",
      "Chrome OS    27\n",
      "macOS        13\n",
      "Android       2\n",
      "Name: os, dtype: int64\n"
     ]
    }
   ],
   "source": [
    "os_with_null_v = laptops.loc[laptops[\"os_version\"].isnull(),\"os\"]\n",
    "print(os_with_null_v.value_counts())"
   ]
  },
  {
   "cell_type": "markdown",
   "id": "977f3d78",
   "metadata": {},
   "source": [
    "<p>Immediately, we can observe a few things:</p>\n",
    "\n",
    "<ul>\n",
    "<li>The most frequent value is \"No OS\". This is important to note because if there is no os, there <em>shouldn't</em> be a version defined in the <code>os_version</code> column.</li>\n",
    "<li>Thirteen of the laptops that come with macOS do not specify the version. We can use our knowledge of <a href=\"https://en.wikipedia.org/wiki/MacOS\" target=\"_blank\">MacOS</a> to confirm that <code>os_version</code> should be equal to <code>X</code>.</li>\n",
    "</ul>\n",
    "\n",
    "\n",
    "<p>In both of these cases, we can fill the missing values to make our data more correct. For the rest of the values, it's probably best to leave them as missing so we don't remove important values.</p>\n",
    "\n",
    "<p>We can use assignment with a boolean comparison to perform this replacement, like below:</p>\n"
   ]
  },
  {
   "cell_type": "code",
   "execution_count": 74,
   "id": "a38d01e9",
   "metadata": {},
   "outputs": [],
   "source": [
    "laptops.loc[laptops[\"os\"] == \"macOS\", \"os_version\"] = \"X\""
   ]
  },
  {
   "cell_type": "markdown",
   "id": "1a265515",
   "metadata": {},
   "source": [
    "<p>For rows with <code>No OS</code> values, let's replace the missing value in the <code>os_version</code> column with the value <code>Version Unknown</code>.</p>"
   ]
  },
  {
   "cell_type": "code",
   "execution_count": 75,
   "id": "0bf26845",
   "metadata": {},
   "outputs": [],
   "source": [
    "value_counts_before = laptops.loc[laptops[\"os_version\"].isnull(), \"os\"].value_counts()"
   ]
  },
  {
   "cell_type": "code",
   "execution_count": 76,
   "id": "cee1c427",
   "metadata": {},
   "outputs": [],
   "source": [
    "laptops.loc[laptops['os'] == 'No OS', 'os_version'] = 'Version Unknown'\n",
    "value_counts_after = laptops.loc[laptops['os_version'].isnull(), 'os'].value_counts()"
   ]
  },
  {
   "cell_type": "code",
   "execution_count": 77,
   "id": "3da01fb8",
   "metadata": {},
   "outputs": [
    {
     "name": "stdout",
     "output_type": "stream",
     "text": [
      "No OS        66\n",
      "Linux        62\n",
      "Chrome OS    27\n",
      "Android       2\n",
      "Name: os, dtype: int64\n"
     ]
    }
   ],
   "source": [
    "print(value_counts_before)"
   ]
  },
  {
   "cell_type": "code",
   "execution_count": 78,
   "id": "2cbe0a41",
   "metadata": {},
   "outputs": [
    {
     "name": "stdout",
     "output_type": "stream",
     "text": [
      "Linux        62\n",
      "Chrome OS    27\n",
      "Android       2\n",
      "Name: os, dtype: int64\n"
     ]
    }
   ],
   "source": [
    "print(value_counts_after)"
   ]
  },
  {
   "cell_type": "markdown",
   "id": "11a48cd2",
   "metadata": {},
   "source": [
    "# Part12"
   ]
  },
  {
   "cell_type": "markdown",
   "id": "8686123c",
   "metadata": {},
   "source": [
    "<p>Now it's time to practice what we've learned so far! In this challenge, we'll clean the <code>weight</code> column. Let's look at a sample of the data in that column:</p>\n"
   ]
  },
  {
   "cell_type": "code",
   "execution_count": 79,
   "id": "d7612b4c",
   "metadata": {},
   "outputs": [
    {
     "name": "stdout",
     "output_type": "stream",
     "text": [
      "0    1.37kg\n",
      "1    1.34kg\n",
      "2    1.86kg\n",
      "3    1.83kg\n",
      "4    1.37kg\n",
      "Name: weight, dtype: object\n"
     ]
    }
   ],
   "source": [
    "print(laptops[\"weight\"].head())"
   ]
  },
  {
   "cell_type": "markdown",
   "id": "ef7bbc7b",
   "metadata": {},
   "source": [
    "<p>Your challenge is to convert the values in this column to numeric values. As a reminder, here's the data cleaning workflow you can use:</p>\n",
    "\n",
    "<p><img src=\"figs/cleaning_workflow.svg\" alt=\"string to numeric cleaning workflow\" width=\"600\" height=\"400\"></p>\n",
    "\n",
    "<p>While it appears that the <code>weight</code> column may just need the <code>kg</code> characters removed from the end of each string, there is one special case - one of the values ends with <code>kgs</code>, so you'll have to remove both <code>kg</code> and <code>kgs</code> characters.</p>\n",
    "\n",
    "<p>In the last step of this challenge, we'll also ask you to use the <a href=\"https://pandas.pydata.org/pandas-docs/stable/reference/api/pandas.DataFrame.to_csv.html\" target=\"_blank\"><code>DataFrame.to_csv()</code> method</a> to save the cleaned data to a CSV file. It's a good idea to save a CSV when you finish cleaning in case you wish to do analysis later.</p>\n",
    "\n",
    "<p>We can use the following syntax to save a CSV:</p>\n",
    "\n",
    "```python\n",
    "df.to_csv('filename.csv', index=False)\n",
    "```\n",
    "\n",
    "<p>By default, pandas will save the index labels as a column in the CSV file. Our dataset has integer labels that don't contain any data, so we don't need to save the index.</p>\n",
    "\n"
   ]
  },
  {
   "cell_type": "markdown",
   "id": "a9ee0323",
   "metadata": {},
   "source": [
    "### Challenge\n",
    "<ol>\n",
    "<li>Convert the values in the <code>weight</code> column to numeric values.</li>\n",
    "<li>Rename the <code>weight</code> column to <code>weight_kg</code>.</li>\n",
    "<li>Use the <code>DataFrame.to_csv()</code> method to save the laptops dataframe to a CSV file <code>laptops_cleaned.csv</code> <em>without</em> index labels.</li>\n",
    "</ol>"
   ]
  },
  {
   "cell_type": "code",
   "execution_count": 84,
   "id": "17997990",
   "metadata": {},
   "outputs": [
    {
     "name": "stdout",
     "output_type": "stream",
     "text": [
      " Volume in drive F is RAFAEL01\n",
      " Volume Serial Number is 14FB-1CF6\n",
      "\n",
      " Directory of F:\\slides\\data-science-lecture\\02_data-analysis-viz\\01_pandas-numpy\\06_data-cleaning-basics\n",
      "\n",
      "14-Feb-22  21:54           201,086 laptops.csv\n",
      "03-Mar-22  16:19           207,314 laptops_cleaned.csv\n",
      "               2 File(s)        408,400 bytes\n",
      "               0 Dir(s)  92,054,159,360 bytes free\n"
     ]
    }
   ],
   "source": [
    "%ls *.csv"
   ]
  },
  {
   "cell_type": "code",
   "execution_count": 80,
   "id": "9ea55769",
   "metadata": {},
   "outputs": [
    {
     "name": "stdout",
     "output_type": "stream",
     "text": [
      "<class 'pandas.core.frame.DataFrame'>\n",
      "RangeIndex: 1303 entries, 0 to 1302\n",
      "Data columns (total 15 columns):\n",
      " #   Column              Non-Null Count  Dtype  \n",
      "---  ------              --------------  -----  \n",
      " 0   manufacturer        1303 non-null   object \n",
      " 1   model_name          1303 non-null   object \n",
      " 2   category            1303 non-null   object \n",
      " 3   screen_size_inches  1303 non-null   float64\n",
      " 4   screen              1303 non-null   object \n",
      " 5   cpu                 1303 non-null   object \n",
      " 6   ram_gb              1303 non-null   int32  \n",
      " 7   storage             1303 non-null   object \n",
      " 8   gpu                 1303 non-null   object \n",
      " 9   os                  1303 non-null   object \n",
      " 10  os_version          1212 non-null   object \n",
      " 11  weight_kg           1303 non-null   float64\n",
      " 12  price_euros         1303 non-null   object \n",
      " 13  gpu_manufacturer    1303 non-null   object \n",
      " 14  cpu_manufacturer    1303 non-null   object \n",
      "dtypes: float64(2), int32(1), object(12)\n",
      "memory usage: 147.7+ KB\n",
      "None\n"
     ]
    }
   ],
   "source": [
    "laptops['weight'] = laptops['weight'].replace('kgs?', '', regex=True).astype(float)\n",
    "laptops.rename(columns={'weight': 'weight_kg'}, inplace=True)\n",
    "print(laptops.info())\n",
    "laptops.to_csv('laptops_cleaned.csv', index=False)"
   ]
  },
  {
   "cell_type": "code",
   "execution_count": 83,
   "id": "23ded7e2",
   "metadata": {},
   "outputs": [
    {
     "name": "stdout",
     "output_type": "stream",
     "text": [
      " Volume in drive F is RAFAEL01\n",
      " Volume Serial Number is 14FB-1CF6\n",
      "\n",
      " Directory of F:\\slides\\data-science-lecture\\02_data-analysis-viz\\01_pandas-numpy\\06_data-cleaning-basics\n",
      "\n",
      "14-Feb-22  21:54           201,086 laptops.csv\n",
      "03-Mar-22  16:19           207,314 laptops_cleaned.csv\n",
      "               2 File(s)        408,400 bytes\n",
      "               0 Dir(s)  92,054,159,360 bytes free\n"
     ]
    }
   ],
   "source": [
    "%ls *.csv"
   ]
  },
  {
   "cell_type": "markdown",
   "id": "e07d79b8",
   "metadata": {},
   "source": [
    "<p>Our dataset is ready for some analysis, but there are still some data cleaning tasks left! Here are your next steps:</p>\n",
    "\n",
    "<ul>\n",
    "<li>Convert the <code>price_euros</code> column to a numeric dtype.</li>\n",
    "<li>Extract the screen resolution from the <code>screen</code> column.</li>\n",
    "<li>Extract the processor speed from the <code>cpu</code> column.</li>\n",
    "</ul>\n",
    "\n",
    "<p>Here are some questions you might like to answer in your own time by analyzing the cleaned data:</p>\n",
    "\n",
    "<ul>\n",
    "<li>Are laptops made by Apple more expensive than those made by other manufacturers?</li>\n",
    "<li>What is the best value laptop with a screen size of 15\" or more?</li>\n",
    "<li>Which laptop has the most storage space?</li>\n",
    "</ul>"
   ]
  }
 ],
 "metadata": {
  "kernelspec": {
   "display_name": "Python 3 (ipykernel)",
   "language": "python",
   "name": "python3"
  },
  "language_info": {
   "codemirror_mode": {
    "name": "ipython",
    "version": 3
   },
   "file_extension": ".py",
   "mimetype": "text/x-python",
   "name": "python",
   "nbconvert_exporter": "python",
   "pygments_lexer": "ipython3",
   "version": "3.7.3"
  }
 },
 "nbformat": 4,
 "nbformat_minor": 5
}
