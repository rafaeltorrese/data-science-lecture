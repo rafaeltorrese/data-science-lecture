{
 "cells": [
  {
   "cell_type": "markdown",
   "id": "4ec1dafa",
   "metadata": {},
   "source": [
    "<center><h1>Introducción a Pandas</h1></center>"
   ]
  },
  {
   "cell_type": "markdown",
   "id": "fb02e48d",
   "metadata": {},
   "source": [
    "<h2>1. pandas y NumPy</h2>\n",
    "<br>\n",
    "<div><p>En las últimas dos lecciones, exploramos cómo la biblioteca NumPy facilita el uso de datos. Con él podemos trabajar fácilmente en múltiples dimensiones y nuestro código es más fácil de entender. Al usar operaciones vectorizadas en lugar de bucles, nuestro código se ejecuta más rápido con datos más grandes.</p>\n",
    "<p>Aunque NumPy proporciona estructuras y herramientas fundamentales que facilitan el trabajo con datos, existen limitaciones para su utilidad:</p>\n",
    "<ul>\n",
    "<li>La falta de compatibilidad con los nombres de las columnas nos obliga a enmarcar las preguntas como operaciones de matrices multidimensionales.</li>\n",
    "<li>La compatibilidad con un solo tipo de datos por ndarray dificulta el trabajo con datos que contienen tanto datos numéricos como de cadena.</li>\n",
    "<li>Hay muchos métodos de bajo nivel, pero hay muchos patrones de análisis comunes que no tienen métodos prediseñados.</li>\n",
    "</ul>\n",
    "<p>La biblioteca <strong>pandas</strong> brinda soluciones a todos estos puntos débiles y más. Pandas no es un reemplazo de NumPy, sino una <em>extensión</em> de NumPy. El código subyacente para pandas utiliza la biblioteca NumPy de forma extensiva, lo que significa que los conceptos que has estado aprendiendo te resultarán útiles a medida que empieces a aprender más sobre pandas.</p>\n",
    "<p>La estructura de datos principal en pandas se denomina <a href=\"http://pandas.pydata.org/pandas-docs/stable/generated/pandas.DataFrame.html#pandas.DataFrame\" target=\"_blank\" ><strong>dataframes</strong></a>. Los dataframes son el equivalente en pandas de un Numpy 2D ndarray, con algunas diferencias clave:</p>\n",
    "<ul>\n",
    "<li>Los valores del eje pueden tener <strong>etiquetas</strong> de cadena, no solo numéricas.</li>\n",
    "<li>Los dataframes pueden contener columnas con <strong>múltiples tipos de datos</strong>: incluidos enteros, flotantes y cadenas.</li>\n",
    "</ul>\n",
    "<p></p><center><img src=\"https://s3.amazonaws.com/dq-content/291/df_anatomy_static_resized.svg\" alt=\"anatomía de un marco de datos\" width=\"400\" height=\"200\"></center><p ></p></div>"
   ]
  },
  {
   "cell_type": "markdown",
   "id": "8ae7bb8a",
   "metadata": {},
   "source": [
    "<h2>2. Introducción a los Datos</h2>\n",
    "<h3>Ejercicio</h3>\n",
    "<br>\n",
    "<ol>\n",
    "<li>Use la <a href=\"https://pandas.pydata.org/pandas-docs/stable/reference/api/pandas.read_csv.html\" alt=\"pandas csv\" target=\"_blank\">función <code>pandas.read_csv()</code></a> de Python para asignar el tipo de <code>f500</code> a <code>f500_type</code>.</li>\n",
    "<li> Luego le asignamos el nombre de variable <code>f500</code>. Aprenderemos sobre read_csv() más adelante en este curso, pero por ahora, todo lo que necesita saber es que maneja automáticamente la lectura y el análisis de la mayoría de los archivos CSV.</li>  \n",
    "<li>Use la función <code>type()</code> de Python para asignar el tipo de <code>f500</code> a <code>f500_type</code>.</li>\n",
    "<li>Utilice el atributo <code>DataFrame.shape</code> para asignar la forma de <code>f500</code> a <code>f500_shape</code>.</li>\n",
    "<li>Ejecute su código, luego imprima las variables <code>f500</code>, <code>f500_type</code> y <code>f500_shape</code>.</li>\n",
    "</ol>"
   ]
  },
  {
   "cell_type": "code",
   "execution_count": null,
   "id": "daade966",
   "metadata": {},
   "outputs": [],
   "source": [
    "import pandas as pd\n",
    "f500 = pd.read_csv('f500.csv',index_col=0)\n",
    "f500.index.name = None\n",
    "\n",
    "# code here\n",
    "f500_type = type(f500)\n",
    "f500_shape = f500.shape"
   ]
  },
  {
   "cell_type": "markdown",
   "id": "c4f2294b",
   "metadata": {},
   "source": [
    "<h2>3. Introducción a los DataFrames (marco de datos)</h2>\n",
    "\n",
    "<h3>Ejercicio</h3>\n",
    "<br>\n",
    "<div id=\"body\" class=\"dq-lesson-container dq-lesson-markup dq-lesson-learn-instructions\"><p>Al igual que en las lecciones anteriores, la variable <code>f500</code> creado en la sección anterior está disponible aquí.</p>\n",
    "<ol>\n",
    "<li>Use el método <code>head()</code> para seleccionar las <strong>primeras 6 filas</strong>. Asigne el resultado a <code>f500_head</code>.</li>\n",
    "<li>Use el método <code>tail()</code> para seleccionar las <strong>últimas 8 filas</strong>. Asigne el resultado a <code>f500_tail</code>.</li>\n",
    "<li>Ejecute su código, luego inspeccionea las variables.</li>\n",
    "</ol></div>"
   ]
  },
  {
   "cell_type": "code",
   "execution_count": null,
   "id": "4a1486eb",
   "metadata": {},
   "outputs": [],
   "source": [
    "f500_head = f500.head(6)\n",
    "f500_tail = f500.tail(8)"
   ]
  },
  {
   "cell_type": "code",
   "execution_count": null,
   "id": "63875679",
   "metadata": {},
   "outputs": [],
   "source": [
    "print(f500_head)"
   ]
  },
  {
   "cell_type": "markdown",
   "id": "0226d9cc",
   "metadata": {},
   "source": [
    "<h2>4. Introducción a los DataFrames (continuación)</h2>\n",
    "\n",
    "<h3>Ejercicio</h3>\n",
    "<ol>\n",
    "<li>Utilice el método <code>DataFrame.info()</code> para mostrar información sobre el dataframe <code>f500</code>.</li>\n",
    "<li>Ejecute su código, luego inspeccione sus variables.</li>\n",
    "</ol>"
   ]
  },
  {
   "cell_type": "code",
   "execution_count": null,
   "id": "0f7119f0",
   "metadata": {},
   "outputs": [],
   "source": [
    "print(f500.info())"
   ]
  },
  {
   "cell_type": "markdown",
   "id": "4ec76753",
   "metadata": {},
   "source": [
    "<h2>5. Seleccionar una columna de un dataframe por etiqueta</h2>\n",
    "\n",
    "<h3>Ejercicio</h3>\n",
    "\n",
    "<ol>\n",
    "<li>Seleccione la columna <code>industry</code> y asigne el resultado al nombre de variable <code>industries</code>.</li>\n",
    "<li>Use la función <code>type()</code> de Python para asignar el tipo de <code>industries</code> a <code>industries_type</code>.</li>\n",
    "<li>Ejecute su código, inspeccione sus variables.</li>\n",
    "</ol>"
   ]
  },
  {
   "cell_type": "code",
   "execution_count": null,
   "id": "96141f5f",
   "metadata": {},
   "outputs": [],
   "source": [
    "print(f500.columns)"
   ]
  },
  {
   "cell_type": "code",
   "execution_count": null,
   "id": "fd423d8e",
   "metadata": {},
   "outputs": [],
   "source": [
    "industries = f500['industry']\n",
    "industries_type = type(industries)"
   ]
  },
  {
   "cell_type": "code",
   "execution_count": null,
   "id": "cf0af162",
   "metadata": {},
   "outputs": [],
   "source": [
    "print(industries_type)"
   ]
  },
  {
   "cell_type": "markdown",
   "id": "e87596ce",
   "metadata": {},
   "source": [
    "<h2>6. Introducción a Series</h2>\n",
    "<br>\n",
    "<div><p>Observamos que cuando selecciona solo una columna de un dataframe, obtiene un nuevo tipo objeto de pandas: un <strong>objeto serie</strong>. La serie es el tipo de que usa pandas para objetos unidimensionales. Cada vez que vea un objeto pandas 1D, será una serie. Cada vez que vea un objeto pandas 2D, será un dataframe.</p>\n",
    "<p>De hecho, puede pensar en un dataframe como una colección de objetos en serie, que es similar a cómo los pandas almacenan los datos entre bastidores.</p>\n",
    "<p><img src=\"https://s3.amazonaws.com/dq-content/291/df_exploded_resized.svg\" alt=\"dataframe explosionado\" width=\"600\" height=\"400\"></p>\n",
    "<p>A medida que continuamos aprendiendo cómo seleccionar datos, preste atención a qué objetos son dataframes y qué objetos son series.</p></div>\n"
   ]
  },
  {
   "cell_type": "markdown",
   "id": "86a90c3b",
   "metadata": {},
   "source": [
    "<h2>7. Selección de columnas de un dataframe por etiqueta (continuación)</h2>\n",
    "\n",
    "<h3>Ejercicio</h3>\n",
    "<ol>\n",
    "<li>Seleccione la columna <code>country</code>. Asigne el resultado al nombre de variable <code>countries</code>.</li>\n",
    "<li>En orden, seleccione las columnas <code>revenues</code> y <code>years_on_global_500_list</code>. Asigne el resultado al nombre de variable <code>revenues_years</code>.</li>\n",
    "<li>En orden, seleccione todas las columnas desde <code>ceo</code> hasta <code>sector</code> inclusive. Asigne el resultado al nombre de variable <code>ceo_to_sector</code>.</li>\n",
    "<li>Después de ejecutar su código, imprima las variables.</li>\n",
    "</ol>"
   ]
  },
  {
   "cell_type": "code",
   "execution_count": null,
   "id": "9fb6a0a3",
   "metadata": {},
   "outputs": [],
   "source": [
    "countries = f500['country']\n",
    "revenues_years = f500[['revenues', 'years_on_global_500_list']]\n",
    "ceo_to_sector = f500.loc[:, 'ceo':'sector']"
   ]
  },
  {
   "cell_type": "markdown",
   "id": "f337c50a",
   "metadata": {},
   "source": [
    "<h2>8. Seleccionar filas de un dataframe por etiqueta</h2>\n",
    "\n",
    "<h3>Ejercicio</h3>\n",
    "<ul>\n",
    "<li>Seleccionando datos de <code>f500</code>:<ol>\n",
    "<li>Cree una nueva variable <code>toyota</code>, con:<ul>\n",
    "<li>Solo la fila con índice <code>Toyota Motor</code>.</li>\n",
    "<li>Todas las columnas.</li>\n",
    "</ul>\n",
    "</li>\n",
    "<li>Cree una nueva variable, <code>drink_companies</code>, con:<ul>\n",
    "<li>Filas con índices <code>Anheuser-Busch InBev</code>, <code>Coca-Cola</code> y <code>Heineken Holding</code>, en ese orden.</li>\n",
    "<li>Todas las columnas.</li>\n",
    "</ul>\n",
    "</li>\n",
    "<li>Cree una nueva variable, <code>middle_companies</code> con:<ul>\n",
    "<li>Todas las filas con índices desde <code>Tata Motors</code>a <code>Nationwide</code>, inclusive.</li>\n",
    "<li>Todas las columnas desde <code>rango</code> hasta <code>país</code>, inclusive.</li>\n",
    "</ul>\n",
    "</li>\n",
    "</ol>\n",
    "</li>\n",
    "</ul>"
   ]
  },
  {
   "cell_type": "code",
   "execution_count": null,
   "id": "a4450689",
   "metadata": {},
   "outputs": [],
   "source": [
    "toyota = f500.loc['Toyota Motor']\n",
    "drink_companies = f500.loc[[\"Anheuser-Busch InBev\", \"Coca-Cola\", \"Heineken Holding\"]]\n",
    "middle_companies = f500.loc['Tata Motors':'Nationwide', 'rank':'country']"
   ]
  },
  {
   "cell_type": "code",
   "execution_count": null,
   "id": "ca88f3c2",
   "metadata": {},
   "outputs": [],
   "source": [
    "print(toyota)"
   ]
  },
  {
   "cell_type": "markdown",
   "id": "6e493904",
   "metadata": {},
   "source": [
    "<h2>9. Series vs DataFrames</h2>\n",
    "<br>\n",
    "<div><p>En las últimas dos secciones, creamos objetos de serie y objetos de dataframe a medida que seleccionamos datos de nuestro dataframe <code>f500</code>. Tómese un minuto para revisar estos ejemplos antes de continuar:</p>\n",
    "<p></p><center><img src=\"https://s3.amazonaws.com/dq-content/291/df_series_s_updated.svg\" alt=\"series vs dataframe: series\" width=\"600\" height=\"400\"></center>< p></p>\n",
    "<p></p><center><img src=\"https://s3.amazonaws.com/dq-content/291/df_series_df_updated.svg\" alt=\"series vs dataframe: dataframe\" width=\"600\" height=\"400\"></center><p></p></div>\n"
   ]
  },
  {
   "cell_type": "markdown",
   "id": "d42bdc03",
   "metadata": {},
   "source": [
    "<h2>10. Método de conteo de valores</h2>\n",
    "\n",
    "<h3>Ejercicio</h3>\n",
    "<div><p>Ya hemos guardado una selección de datos de <code>f500</code> a un dataframe llamado <code>f500_sel</code>.</p>\n",
    "<ol>\n",
    "<li>Encuentre los recuentos de cada valor único en la columna <code>country</code> en el dataframe <code>f500_sel</code>.<ul>\n",
    "<li>Seleccione la columna <code>country</code> en el dataframe <code>f500_sel</code>. Asígnelo a una variable llamada <code>países</code>.</li>\n",
    "<li>Utilice el método <code>Series.value_counts()</code> para devolver los recuentos de valores para <code>países</code>. Asigne los resultados a <code>country_counts</code>.</li>\n",
    "</ul>\n",
    "</li>\n",
    "</ol></div>"
   ]
  },
  {
   "cell_type": "code",
   "execution_count": null,
   "id": "759f795e",
   "metadata": {},
   "outputs": [],
   "source": [
    "f500_sel = f500.head(7).copy()"
   ]
  },
  {
   "cell_type": "code",
   "execution_count": null,
   "id": "9c6f357e",
   "metadata": {},
   "outputs": [],
   "source": [
    "countries = f500_sel['country']\n",
    "country_counts = countries.value_counts()"
   ]
  },
  {
   "cell_type": "code",
   "execution_count": null,
   "id": "f2f544e2",
   "metadata": {},
   "outputs": [],
   "source": [
    "print(country_counts)"
   ]
  },
  {
   "cell_type": "markdown",
   "id": "51f927bd",
   "metadata": {},
   "source": [
    "<h2>11. Seleccionar elementos de una serie por etiqueta</h2>\n",
    "\n",
    "\n",
    "<h3>Ejercicio</h3>\n",
    "<ul>\n",
    "<li>De la serie pandas <code>countries_counts</code>:<ol>\n",
    "<li>Seleccione el elemento en la etiqueta de índice <code>India</code>. Asigne el resultado al nombre de variable <code>india</code>.</li>\n",
    "<li>En orden, seleccione los elementos con etiquetas de índice <code>EE. UU.</code>, <code>Canadá</code> y <code>México</code>. Asigne el resultado al nombre de variable <code>north_america</code>.</li>\n",
    "</ol>\n",
    "</li>\n",
    "</ul>"
   ]
  },
  {
   "cell_type": "code",
   "execution_count": null,
   "id": "ccba59a6",
   "metadata": {},
   "outputs": [],
   "source": [
    "countries = f500['country']\n",
    "countries_counts = countries.value_counts()"
   ]
  },
  {
   "cell_type": "code",
   "execution_count": null,
   "id": "d8196843",
   "metadata": {},
   "outputs": [],
   "source": [
    "india = countries_counts['India']\n",
    "north_america = countries_counts[['USA', 'Canada', 'Mexico']]"
   ]
  },
  {
   "cell_type": "code",
   "execution_count": null,
   "id": "8a5ebd48",
   "metadata": {},
   "outputs": [],
   "source": [
    "print(north_america)"
   ]
  },
  {
   "cell_type": "markdown",
   "id": "dafc2244",
   "metadata": {},
   "source": [
    "<h2>12. Resumen</h2>\n",
    "\n",
    "<h3>Ejercicio</h3>\n",
    "<div><p>Al seleccionar datos de <code>f500</code>:</p>\n",
    "<ol>\n",
    "<li>Cree una nueva variable <code>big_movers</code>, con: <ul>\n",
    "<li>Filas con índices <code>Aviva</code>, <code>HP</code>, <code>JD.com</code> y <code>BHP Billiton</code>, en ese orden. </li>\n",
    "<li>Las columnas <code>rank</code> y <code>previous_rank</code>, en ese orden. </li>\n",
    "</ul>\n",
    "</li>\n",
    "<li>Cree una nueva variable, <code>bottom_companies</code> con:<ul>\n",
    "<li>Todas las filas con índices desde <code>National Grid</code>a <code>AutoNation</code>, inclusive.</li>\n",
    "<li>Las columnas <code>rank</code>, <code>sector</code> y <code>country</code>.</li>\n",
    "</ul>\n",
    "</li>\n",
    "</ol></div>"
   ]
  },
  {
   "cell_type": "code",
   "execution_count": null,
   "id": "1f4d0a8c",
   "metadata": {},
   "outputs": [],
   "source": [
    "big_movers = f500.loc['Aviva-HP-JD.com-BHP Billiton'.split('-'), 'rank previous_rank'.split()]\n",
    "bottom_companies = f500.loc['National Grid':'AutoNation', 'rank sector country'.split()]"
   ]
  },
  {
   "cell_type": "code",
   "execution_count": null,
   "id": "450b75e2",
   "metadata": {},
   "outputs": [],
   "source": [
    "print(big_movers)"
   ]
  }
 ],
 "metadata": {
  "kernelspec": {
   "display_name": "data",
   "language": "python",
   "name": "data"
  },
  "language_info": {
   "codemirror_mode": {
    "name": "ipython",
    "version": 3
   },
   "file_extension": ".py",
   "mimetype": "text/x-python",
   "name": "python",
   "nbconvert_exporter": "python",
   "pygments_lexer": "ipython3",
   "version": "3.9.12"
  }
 },
 "nbformat": 4,
 "nbformat_minor": 5
}
