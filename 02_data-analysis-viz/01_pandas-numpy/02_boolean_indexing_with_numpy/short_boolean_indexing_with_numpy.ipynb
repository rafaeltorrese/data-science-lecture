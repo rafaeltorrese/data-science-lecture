{
 "cells": [
  {
   "cell_type": "markdown",
   "id": "1d9d709c",
   "metadata": {},
   "source": [
    "<center><h1>Indexación Booleana</h1></center>"
   ]
  },
  {
   "cell_type": "markdown",
   "id": "d4a7e999",
   "metadata": {},
   "source": [
    "<h2>1. Lectura de archivos CSV con NumPy</h2>\n",
    "<h3>Ejercicio</h3>\n",
    "\n",
    "<ol>\n",
    "<li>Importe la biblioteca NumPy y asígnele el alias <code>np</code>.</li>\n",
    "<li>Utilice la función <code>numpy.genfromtxt()</code> para leer el archivo <code>nyc_taxis.csv</code> en NumPy. Asigne el resultado a <code>taxi</code>.</li>\n",
    "<li>Utilice el atributo <a href=\"https://docs.scipy.org/doc/numpy-1.12.0/reference/generated/numpy.ndarray.shape.html#numpy.ndarray.shape\" target=\"_blank \"><code>ndarray.shape</code> </a> para asignar la dimensión de <code>taxi</code> a <code>taxi_shape</code>.</li>\n",
    "<li>Imprima las variables para ver el ndarray <code>taxi</code> y su dimensión después de ejecutar su código.</li>\n",
    "</ol>"
   ]
  },
  {
   "cell_type": "code",
   "execution_count": null,
   "id": "ab3ac3d4",
   "metadata": {},
   "outputs": [],
   "source": [
    "import numpy as np\n",
    "taxi = np.genfromtxt('nyc_taxis.csv', delimiter=',')\n",
    "taxi_shape = taxi.shape"
   ]
  },
  {
   "cell_type": "code",
   "execution_count": null,
   "id": "cb6337cc",
   "metadata": {},
   "outputs": [],
   "source": [
    "np.set_printoptions(suppress=True)"
   ]
  },
  {
   "cell_type": "code",
   "execution_count": null,
   "id": "07c0bbbf",
   "metadata": {},
   "outputs": [],
   "source": [
    "print(taxi_shape)"
   ]
  },
  {
   "cell_type": "markdown",
   "id": "4b600f81",
   "metadata": {},
   "source": [
    "<h2>2. Lectura de archivos CSV con NumPy Continuación </h2>\n",
    "\n",
    "<h3>Ejercicio</h3>\n",
    "<ol>\n",
    "<li>Utilice la función <code>numpy.genfromtxt()</code> para volver a leer el archivo <code>nyc_taxis.csv</code> en NumPy, pero esta vez, omita la primera fila. Asigne el resultado a <code>taxi</code>.</li>\n",
    "<li>Asigne la forma de <code>taxi</code> a <code>taxi_shape</code>.</li>\n",
    "<li>Use el inspector de variables debajo del cuadro de código para ver el ndarray <code>taxi</code> y su forma después de haber ejecutado su código.</li>\n",
    "</ol>"
   ]
  },
  {
   "cell_type": "code",
   "execution_count": null,
   "id": "01b153f9",
   "metadata": {},
   "outputs": [],
   "source": [
    "taxi = np.genfromtxt('nyc_taxis.csv', delimiter=',', skip_header=1)\n",
    "taxi_shape = taxi.shape"
   ]
  },
  {
   "cell_type": "code",
   "execution_count": null,
   "id": "d33f3263",
   "metadata": {},
   "outputs": [],
   "source": [
    "print(taxi_shape)"
   ]
  },
  {
   "cell_type": "markdown",
   "id": "9b43f858",
   "metadata": {},
   "source": [
    "<h2>3. Matrices booleanas</h2>\n",
    "\n",
    "<h3>Ejercicio</h3>\n",
    "\n",
    "<ol>\n",
    "<li>Utilice operaciones booleanas vectorizadas para hacer lo siguiente:<ul>\n",
    "<li>Evalúa si los elementos de la matriz <code>a</code> son menores que <code>3</code>. Asigne el resultado a <code>a_bool</code>.</li>\n",
    "<li>Evalúa si los elementos en el arreglo <code>b</code> son iguales a <code>\"blue\"</code>. Asigne el resultado a <code>b_bool</code>.</li>\n",
    "<li>Evalúa si los elementos de la matriz <code>c</code> son mayores que <code>100</code>. Asigne el resultado a <code>c_bool</code>.</li>\n",
    "</ul>\n",
    "</li>\n",
    "<li>Una vez que haya ejecutado su código, imprima las variables para ver el resultado.</li>\n",
    "</ol>"
   ]
  },
  {
   "cell_type": "code",
   "execution_count": null,
   "id": "1cbdd4e8",
   "metadata": {},
   "outputs": [],
   "source": [
    "# conver to ndarray\n",
    "a = np.array([1, 2, 3, 4, 5])\n",
    "b = np.array([\"blue\", \"blue\", \"red\", \"blue\"])\n",
    "c = np.array([80.0, 103.4, 96.9, 200.3])"
   ]
  },
  {
   "cell_type": "code",
   "execution_count": null,
   "id": "5234f56f",
   "metadata": {},
   "outputs": [],
   "source": [
    "a_bool = a < 3\n",
    "b_bool = b == 'blue'\n",
    "c_bool = c > 100"
   ]
  },
  {
   "cell_type": "markdown",
   "id": "027bc664",
   "metadata": {},
   "source": [
    "<h2>4. Indexación booleana con ndarrays 1D</h2>\n",
    "\n",
    "<h3>Ejercicio</h3>\n",
    "\n",
    "<ol>\n",
    "<li>Calcule el número de viajes en el ndarray de <code>taxi</code> de febrero:<ul>\n",
    "<li>Cree una matriz booleana, <code>february_bool</code>, que evalúe si los elementos en <code>pickup_month</code> son iguales a <code>2</code>.</li>\n",
    "<li>Utilice la matriz booleana <code>february_bool</code> para indexar <code>pickup_month</code>. Asigne el resultado a <code>febrero</code>.</li>\n",
    "<li>Use el atributo <code>ndarray.shape</code> para encontrar el número de artículos en <code>febrero</code>. Asigne el resultado a <code>february_rides</code>.</li>\n",
    "</ul>\n",
    "</li>\n",
    "<li>Una vez que haya ejecutado su código, imprima las variables para ver la cantidad de viajes de febrero.</li>\n",
    "</ol>"
   ]
  },
  {
   "cell_type": "code",
   "execution_count": null,
   "id": "1e53257b",
   "metadata": {},
   "outputs": [],
   "source": [
    "print(pickup_month[pickup_month == 1].shape[0])"
   ]
  },
  {
   "cell_type": "code",
   "execution_count": null,
   "id": "eb68823c",
   "metadata": {},
   "outputs": [],
   "source": [
    "pickup_month = taxi[:,1]\n",
    "february_bool = pickup_month == 2\n",
    "february = pickup_month[february_bool]\n",
    "february_rides = february.shape[0]"
   ]
  },
  {
   "cell_type": "code",
   "execution_count": null,
   "id": "34d198ed",
   "metadata": {},
   "outputs": [],
   "source": [
    "print(february_rides)"
   ]
  },
  {
   "cell_type": "markdown",
   "id": "e1bb9b79",
   "metadata": {},
   "source": [
    "<h2>5. Indexación booleana con ndarrays 2D</h2>\n",
    "\n",
    "<h3>Ejercicio</h3>\n",
    "\n",
    "<ol>\n",
    "<li>Cree una matriz booleana, <code>tip_bool</code>, que determine qué filas tienen valores para la columna <code>tip_amount</code> de más de <code>50</code>.</li>\n",
    "<li>Utilice la matriz <code>tip_bool</code> para seleccionar todas las filas de <code>taxi</code> con valores de propina de más de <code>50</code>, y las columnas de los índices 5 a 13 inclusive. Asigne la matriz resultante a <code>top_tips</code>.</li>\n",
    "</ol>"
   ]
  },
  {
   "cell_type": "code",
   "execution_count": null,
   "id": "dd5827cc",
   "metadata": {},
   "outputs": [],
   "source": [
    "tip_amount = taxi[:,12]"
   ]
  },
  {
   "cell_type": "code",
   "execution_count": null,
   "id": "6e2adb2e",
   "metadata": {},
   "outputs": [],
   "source": [
    "tip_bool = tip_amount > 50\n",
    "top_tips = taxi[tip_bool, 5:14]"
   ]
  },
  {
   "cell_type": "code",
   "execution_count": null,
   "id": "e454680f",
   "metadata": {},
   "outputs": [],
   "source": [
    "print(top_tips)"
   ]
  },
  {
   "cell_type": "markdown",
   "id": "355dc7e4",
   "metadata": {},
   "source": [
    "<h2>6. Asignación de valores en ndarrays</h2>\n",
    "\n",
    "<h3>Ejercicio</h3>\n",
    "<br>\n",
    "<div><p>Para ayudarlo a practicar sin realizar cambios en nuestra matriz original, hemos utilizado  <a href=\"http://docs.scipy.org/doc/numpy-1.14.2/reference/generated/numpy.ndarray.copy.html#numpy.ndarray.copy\" target=\"_blank\">el método <code>ndarray.copy()</code></a> para hacer <code>taxi_modified</code>, una copia de nuestro original para estos ejercicios.</p>\n",
    "<ol>\n",
    "<li>El valor del índice de columna <code>5</code> (pickup_location) del índice de fila <code>1066</code> es incorrecto. Use la asignación para cambiar este valor a <code>1</code> en el <code>taxi_modified</code> ndarray.</li>\n",
    "<li>La primera columna (índice <code>0</code>) contiene valores de año como números de cuatro dígitos en el formato AAAA (<code>2016</code>, ya que todos los viajes en nuestro conjunto de datos son de 2016). Utilice la asignación para cambiar estos valores al formato YY (<code>16</code>) en el <code>taxi_modified</code> ndarray.</li>\n",
    "<li>Los valores en el índice de columna <code>7</code> (trip_distance) del índice de filas <code>550</code> y <code>551</code> son incorrectos. Utilice la asignación para cambiar estos valores en el ndarray <code>taxi_modified</code> al valor medio de esa columna.</li>\n",
    "</ol></div>"
   ]
  },
  {
   "cell_type": "code",
   "execution_count": null,
   "id": "ba46ff1e",
   "metadata": {},
   "outputs": [],
   "source": [
    "# this creates a copy of our taxi ndarray\n",
    "taxi_modified = taxi.copy()\n",
    "taxi_modified[1066, 5] = 1\n",
    "taxi_modified[:,0] = 16\n",
    "taxi_modified[550:552, 7] = taxi_modified[:,7].mean()"
   ]
  },
  {
   "cell_type": "markdown",
   "id": "65fd6c23",
   "metadata": {},
   "source": [
    "<h2>7. Asignación utilizando matrices booleanas</h2>\n",
    "\n",
    "<h3>Ejercicio</h3>\n",
    "<br>\n",
    "<div><p>Nuevamente usamos el <a href=\"http://docs.scipy.org /doc/numpy-1.14.2/reference/generated/numpy.ndarray.copy.html#numpy.ndarray.copy\" target=\"_blank\">método <code>ndarray.copy()</code> </a> para hacer <code>taxi_copy</code>, una copia de nuestro original para este ejercicio.</p>\n",
    "<ol>\n",
    "<li>Seleccione la decimocuarta columna (índice 13) en <code>taxi_copy</code>. Asígnelo a una variable llamada <code>total_amount</code>.</li>\n",
    "<li>Para las filas donde el valor de <code>total_amount</code> es menor que <code>0</code>, use la asignación para cambiar el valor a <code>0</code>.</li>\n",
    "</ol></div>"
   ]
  },
  {
   "cell_type": "code",
   "execution_count": null,
   "id": "c646c039",
   "metadata": {},
   "outputs": [],
   "source": [
    "# this creates a copy of our taxi ndarray\n",
    "taxi_copy = taxi.copy()\n",
    "\n",
    "total_amount = taxi_copy[:,13]\n",
    "\n",
    "total_less_than_zero = total_amount < 0\n",
    "total_amount[total_less_than_zero] = 0"
   ]
  },
  {
   "cell_type": "markdown",
   "id": "2ccec0d8",
   "metadata": {},
   "source": [
    "<h2>8. Asignación utilizando matrices booleanas, continuación</h2>\n",
    "\n",
    "<h3>Ejercicio</h3>\n",
    "<br>\n",
    "<div><p>Hemos creado una nueva copia de nuestro conjunto de datos de taxi, <code>taxi_modified</code >, con una columna adicional que contiene el valor <code>0</code> para cada fila.</p>\n",
    "<ol>\n",
    "<li>En nuestra nueva columna en el índice <code>15</code>, asigne el valor <code>1</code> si <code>pickup_location_code</code> (índice de columna <code>5</code> ) corresponde a una ubicación de aeropuerto, dejando el valor como <code>0</code> de lo contrario realizando estas tres operaciones:<ul>\n",
    "<li>Para filas donde el valor del índice de columna <code>5</code> es igual a <code>2</code> (Aeropuerto JFK), asigne el valor <code>1</code> al índice de columna <código>15</código>.</li>\n",
    "<li>Para filas donde el valor del índice de columna <code>5</code> es igual a <code>3</code> (Aeropuerto LaGuardia), asigne el valor <code>1</code> al índice de columna <código>15</código>.</li>\n",
    "<li>Para filas donde el valor del índice de columna <code>5</code> es igual a <code>5</code> (Aeropuerto de Newark), asigne el valor <code>1</code> al índice de columna <código>15</código>.</li>\n",
    "</ul>\n",
    "</li>\n",
    "</ol></div>"
   ]
  },
  {
   "cell_type": "code",
   "execution_count": null,
   "id": "eac4d888",
   "metadata": {},
   "outputs": [],
   "source": [
    "# create a new column filled with `0`.\n",
    "zeros = np.zeros([taxi.shape[0], 1])\n",
    "taxi_modified = np.concatenate([taxi, zeros], axis=1)\n",
    "print(taxi_modified)"
   ]
  },
  {
   "cell_type": "code",
   "execution_count": null,
   "id": "cf61b52e",
   "metadata": {},
   "outputs": [],
   "source": [
    "# Option 1\n",
    "# jfk_airport  = taxi_modified[:,5] == 2\n",
    "# laguardia_airport  = taxi_modified[:,5] == 3\n",
    "# newark_airport  = taxi_modified[:,5] == 5"
   ]
  },
  {
   "cell_type": "code",
   "execution_count": null,
   "id": "411d7cc8",
   "metadata": {},
   "outputs": [],
   "source": [
    "mask = np.isin(taxi_modified[:,5], [2, 3, 5])\n",
    "       \n",
    "taxi_modified[mask,15] = 1"
   ]
  },
  {
   "cell_type": "markdown",
   "id": "6dc970ba",
   "metadata": {},
   "source": [
    "<h2>9. Desafío: ¿Cuál es el aeropuerto más popular?</h2>\n",
    "\n",
    "<h3>Ejercicio</h3>\n",
    "<br>\n",
    "<ol>\n",
    "<li>Usando <code>taxi</code> original, calcule cuántos viajes tuvieron como destino el Aeropuerto JFK:<ul>\n",
    "<li>Use la indexación booleana para seleccionar solo las filas donde la columna <code>dropoff_location_code</code> (índice de columna <code>6</code>) tiene un valor que corresponde a JFK. Asigne el resultado a <code>jfk</code>.</li>\n",
    "<li>Calcule cuántas filas hay en la nueva matriz <code>jfk</code> y asigne el resultado a <code>jfk_count</code>.</li>\n",
    "</ul>\n",
    "</li>\n",
    "<li>Calcule cuántos viajes desde <code>taxi</code> tuvieron como destino el Aeropuerto LaGuardia:<ul>\n",
    "<li>Utilice la indexación booleana para seleccionar solo las filas donde la columna <code>dropoff_location_code</code> (índice de columna <code>6</code>) tiene un valor que corresponde a LaGuardia. Asigne el resultado a <code>laguardia</code>.</li>\n",
    "<li>Calcule cuántas filas hay en la nueva matriz <code>laguardia</code>. Asigne el resultado a <code>laguardia_count</code>.</li>\n",
    "</ul>\n",
    "</li>\n",
    "<li>Calcule cuántos viajes en taxi tuvieron como destino el aeropuerto de Newark:<ul>\n",
    "<li>Seleccione solo las filas donde la columna <code>dropoff_location_code</code> tenga un valor que corresponda a Newark y asigne el resultado a <code>newark</code>.</li>\n",
    "<li>Calcule cuántas filas hay en la nueva matriz <code>newark</code> y asigne el resultado a <code>newark_count</code>.</li>\n",
    "</ul>\n",
    "</li>\n",
    "<li>Después de ejecutar su código, inspeccione los valores de <code>jfk_count</code>, <code>laguardia_count</code> y <code>newark_count</code> y vea qué aeropuerto tiene la mayor cantidad de devoluciones. </li>\n",
    "</ol>"
   ]
  },
  {
   "cell_type": "code",
   "execution_count": null,
   "id": "77248022",
   "metadata": {},
   "outputs": [],
   "source": [
    "dropoff_location_code = 6"
   ]
  },
  {
   "cell_type": "code",
   "execution_count": null,
   "id": "6dddd926",
   "metadata": {},
   "outputs": [],
   "source": [
    "jfk = taxi[:, dropoff_location_code] == 2\n",
    "jfk_count = int(jfk.sum())"
   ]
  },
  {
   "cell_type": "code",
   "execution_count": null,
   "id": "985dcc41",
   "metadata": {},
   "outputs": [],
   "source": [
    "laguardia = taxi[:, dropoff_location_code] == 3\n",
    "laguardia_count = int(laguardia.sum())"
   ]
  },
  {
   "cell_type": "code",
   "execution_count": null,
   "id": "27a16ab6",
   "metadata": {},
   "outputs": [],
   "source": [
    "newark = taxi[:, dropoff_location_code] == 5\n",
    "newark_count = int(newark.sum())"
   ]
  },
  {
   "cell_type": "code",
   "execution_count": null,
   "id": "fa525ae7",
   "metadata": {},
   "outputs": [],
   "source": [
    "print(f'JFK: {laguardia_count}')\n",
    "print(f'LaGuardia. {laguardia_count}')\n",
    "print(f'Newark: {newark_count}')"
   ]
  },
  {
   "cell_type": "markdown",
   "id": "721f434e",
   "metadata": {},
   "source": [
    "<h2>10. Desafío: Cálculo de estadísticas de viajes con datos limpios</h2>\n",
    "\n",
    "<h3>Ejercicio</h3>\n",
    "<br>\n",
    "<div><p>Se le proporcionó el <code>trip_mph</code> ndarray.</p>\n",
    "<ol>\n",
    "<li>Cree un nuevo ndarray, <code>cleaned_taxi</code>, que contenga solo filas para las que los valores de <code>trip_mph</code> sean inferiores a 100.</li>\n",
    "<li>Calcule la media de la columna <code>trip_distance</code> de <code>cleaned_taxi</code>. Asigne el resultado a <code>mean_distance</code>.</li>\n",
    "<li>Calcule la media de la columna <code>trip_length</code> de <code>cleaned_taxi</code>. Asigne el resultado a <code>mean_length</code>.</li>\n",
    "<li>Calcule la media de la columna <code>total_amount</code> de <code>cleaned_taxi</code>. Asigne el resultado a <code>mean_total_amount</code>.</li>\n",
    "</ol></div>"
   ]
  },
  {
   "cell_type": "code",
   "execution_count": null,
   "id": "46e09b1f",
   "metadata": {},
   "outputs": [],
   "source": [
    "trip_mph = taxi[:,7] / (taxi[:,8] / 3600)"
   ]
  },
  {
   "cell_type": "code",
   "execution_count": null,
   "id": "ec68517a",
   "metadata": {},
   "outputs": [],
   "source": [
    "cleaned_taxi = taxi[trip_mph < 100]"
   ]
  },
  {
   "cell_type": "code",
   "execution_count": null,
   "id": "1853904a",
   "metadata": {},
   "outputs": [],
   "source": [
    "mean_distance = cleaned_taxi[:, 7].mean()\n",
    "mean_length = cleaned_taxi[:, 8].mean()\n",
    "mean_total_amount = cleaned_taxi[:, 13].mean()"
   ]
  },
  {
   "cell_type": "code",
   "execution_count": null,
   "id": "ed932107",
   "metadata": {},
   "outputs": [],
   "source": [
    "print(mean_distance)"
   ]
  }
 ],
 "metadata": {
  "kernelspec": {
   "display_name": "data",
   "language": "python",
   "name": "data"
  },
  "language_info": {
   "codemirror_mode": {
    "name": "ipython",
    "version": 3
   },
   "file_extension": ".py",
   "mimetype": "text/x-python",
   "name": "python",
   "nbconvert_exporter": "python",
   "pygments_lexer": "ipython3",
   "version": "3.9.12"
  }
 },
 "nbformat": 4,
 "nbformat_minor": 5
}
