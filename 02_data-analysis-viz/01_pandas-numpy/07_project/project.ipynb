{
 "cells": [
  {
   "cell_type": "markdown",
   "metadata": {
    "collapsed": true
   },
   "source": [
    "El objetivo de este proyecto es limpiar los datos y analizar los listados de autos usados incluidos. También se familiarizará con algunos de los beneficios exclusivos que ofrece jupyter notebook para pandas.\n",
    "\n",
    "Comencemos importando las bibliotecas que necesitamos y leyendo el conjunto de datos en pandas."
   ]
  },
  {
   "cell_type": "markdown",
   "metadata": {},
   "source": [
    "# Part 01"
   ]
  },
  {
   "cell_type": "code",
   "execution_count": 125,
   "metadata": {},
   "outputs": [],
   "source": [
    "from pprint import pprint\n",
    "import numpy as np\n",
    "import pandas as pd"
   ]
  },
  {
   "cell_type": "code",
   "execution_count": 126,
   "metadata": {},
   "outputs": [],
   "source": [
    "pd.set_option('display.float_format', '{:.2f}'.format)"
   ]
  },
  {
   "cell_type": "code",
   "execution_count": 127,
   "metadata": {},
   "outputs": [],
   "source": [
    "# autos = pd.read_csv('autos.csv')"
   ]
  },
  {
   "cell_type": "code",
   "execution_count": 128,
   "metadata": {},
   "outputs": [],
   "source": [
    "# Try with Latin-1 and Windows-1252\n",
    "autos = pd.read_csv('autos.csv', encoding='Latin-1')\n",
    "# autos = pd.read_csv('autos.csv', encoding='Windows-1252')"
   ]
  },
  {
   "cell_type": "code",
   "execution_count": 129,
   "metadata": {},
   "outputs": [
    {
     "name": "stdout",
     "output_type": "stream",
     "text": [
      "<class 'pandas.core.frame.DataFrame'>\n",
      "RangeIndex: 50000 entries, 0 to 49999\n",
      "Data columns (total 20 columns):\n",
      " #   Column               Non-Null Count  Dtype \n",
      "---  ------               --------------  ----- \n",
      " 0   dateCrawled          50000 non-null  object\n",
      " 1   name                 50000 non-null  object\n",
      " 2   seller               50000 non-null  object\n",
      " 3   offerType            50000 non-null  object\n",
      " 4   price                50000 non-null  object\n",
      " 5   abtest               50000 non-null  object\n",
      " 6   vehicleType          44905 non-null  object\n",
      " 7   yearOfRegistration   50000 non-null  int64 \n",
      " 8   gearbox              47320 non-null  object\n",
      " 9   powerPS              50000 non-null  int64 \n",
      " 10  model                47242 non-null  object\n",
      " 11  odometer             50000 non-null  object\n",
      " 12  monthOfRegistration  50000 non-null  int64 \n",
      " 13  fuelType             45518 non-null  object\n",
      " 14  brand                50000 non-null  object\n",
      " 15  notRepairedDamage    40171 non-null  object\n",
      " 16  dateCreated          50000 non-null  object\n",
      " 17  nrOfPictures         50000 non-null  int64 \n",
      " 18  postalCode           50000 non-null  int64 \n",
      " 19  lastSeen             50000 non-null  object\n",
      "dtypes: int64(5), object(15)\n",
      "memory usage: 7.6+ MB\n",
      "None\n"
     ]
    }
   ],
   "source": [
    "print(autos.info())"
   ]
  },
  {
   "cell_type": "code",
   "execution_count": 130,
   "metadata": {},
   "outputs": [
    {
     "data": {
      "text/html": [
       "<div>\n",
       "<style scoped>\n",
       "    .dataframe tbody tr th:only-of-type {\n",
       "        vertical-align: middle;\n",
       "    }\n",
       "\n",
       "    .dataframe tbody tr th {\n",
       "        vertical-align: top;\n",
       "    }\n",
       "\n",
       "    .dataframe thead th {\n",
       "        text-align: right;\n",
       "    }\n",
       "</style>\n",
       "<table border=\"1\" class=\"dataframe\">\n",
       "  <thead>\n",
       "    <tr style=\"text-align: right;\">\n",
       "      <th></th>\n",
       "      <th>dateCrawled</th>\n",
       "      <th>name</th>\n",
       "      <th>seller</th>\n",
       "      <th>offerType</th>\n",
       "      <th>price</th>\n",
       "      <th>abtest</th>\n",
       "      <th>vehicleType</th>\n",
       "      <th>yearOfRegistration</th>\n",
       "      <th>gearbox</th>\n",
       "      <th>powerPS</th>\n",
       "      <th>model</th>\n",
       "      <th>odometer</th>\n",
       "      <th>monthOfRegistration</th>\n",
       "      <th>fuelType</th>\n",
       "      <th>brand</th>\n",
       "      <th>notRepairedDamage</th>\n",
       "      <th>dateCreated</th>\n",
       "      <th>nrOfPictures</th>\n",
       "      <th>postalCode</th>\n",
       "      <th>lastSeen</th>\n",
       "    </tr>\n",
       "  </thead>\n",
       "  <tbody>\n",
       "    <tr>\n",
       "      <th>0</th>\n",
       "      <td>2016-03-26 17:47:46</td>\n",
       "      <td>Peugeot_807_160_NAVTECH_ON_BOARD</td>\n",
       "      <td>privat</td>\n",
       "      <td>Angebot</td>\n",
       "      <td>$5,000</td>\n",
       "      <td>control</td>\n",
       "      <td>bus</td>\n",
       "      <td>2004</td>\n",
       "      <td>manuell</td>\n",
       "      <td>158</td>\n",
       "      <td>andere</td>\n",
       "      <td>150,000km</td>\n",
       "      <td>3</td>\n",
       "      <td>lpg</td>\n",
       "      <td>peugeot</td>\n",
       "      <td>nein</td>\n",
       "      <td>2016-03-26 00:00:00</td>\n",
       "      <td>0</td>\n",
       "      <td>79588</td>\n",
       "      <td>2016-04-06 06:45:54</td>\n",
       "    </tr>\n",
       "    <tr>\n",
       "      <th>1</th>\n",
       "      <td>2016-04-04 13:38:56</td>\n",
       "      <td>BMW_740i_4_4_Liter_HAMANN_UMBAU_Mega_Optik</td>\n",
       "      <td>privat</td>\n",
       "      <td>Angebot</td>\n",
       "      <td>$8,500</td>\n",
       "      <td>control</td>\n",
       "      <td>limousine</td>\n",
       "      <td>1997</td>\n",
       "      <td>automatik</td>\n",
       "      <td>286</td>\n",
       "      <td>7er</td>\n",
       "      <td>150,000km</td>\n",
       "      <td>6</td>\n",
       "      <td>benzin</td>\n",
       "      <td>bmw</td>\n",
       "      <td>nein</td>\n",
       "      <td>2016-04-04 00:00:00</td>\n",
       "      <td>0</td>\n",
       "      <td>71034</td>\n",
       "      <td>2016-04-06 14:45:08</td>\n",
       "    </tr>\n",
       "    <tr>\n",
       "      <th>2</th>\n",
       "      <td>2016-03-26 18:57:24</td>\n",
       "      <td>Volkswagen_Golf_1.6_United</td>\n",
       "      <td>privat</td>\n",
       "      <td>Angebot</td>\n",
       "      <td>$8,990</td>\n",
       "      <td>test</td>\n",
       "      <td>limousine</td>\n",
       "      <td>2009</td>\n",
       "      <td>manuell</td>\n",
       "      <td>102</td>\n",
       "      <td>golf</td>\n",
       "      <td>70,000km</td>\n",
       "      <td>7</td>\n",
       "      <td>benzin</td>\n",
       "      <td>volkswagen</td>\n",
       "      <td>nein</td>\n",
       "      <td>2016-03-26 00:00:00</td>\n",
       "      <td>0</td>\n",
       "      <td>35394</td>\n",
       "      <td>2016-04-06 20:15:37</td>\n",
       "    </tr>\n",
       "    <tr>\n",
       "      <th>3</th>\n",
       "      <td>2016-03-12 16:58:10</td>\n",
       "      <td>Smart_smart_fortwo_coupe_softouch/F1/Klima/Pan...</td>\n",
       "      <td>privat</td>\n",
       "      <td>Angebot</td>\n",
       "      <td>$4,350</td>\n",
       "      <td>control</td>\n",
       "      <td>kleinwagen</td>\n",
       "      <td>2007</td>\n",
       "      <td>automatik</td>\n",
       "      <td>71</td>\n",
       "      <td>fortwo</td>\n",
       "      <td>70,000km</td>\n",
       "      <td>6</td>\n",
       "      <td>benzin</td>\n",
       "      <td>smart</td>\n",
       "      <td>nein</td>\n",
       "      <td>2016-03-12 00:00:00</td>\n",
       "      <td>0</td>\n",
       "      <td>33729</td>\n",
       "      <td>2016-03-15 03:16:28</td>\n",
       "    </tr>\n",
       "    <tr>\n",
       "      <th>4</th>\n",
       "      <td>2016-04-01 14:38:50</td>\n",
       "      <td>Ford_Focus_1_6_Benzin_TÜV_neu_ist_sehr_gepfleg...</td>\n",
       "      <td>privat</td>\n",
       "      <td>Angebot</td>\n",
       "      <td>$1,350</td>\n",
       "      <td>test</td>\n",
       "      <td>kombi</td>\n",
       "      <td>2003</td>\n",
       "      <td>manuell</td>\n",
       "      <td>0</td>\n",
       "      <td>focus</td>\n",
       "      <td>150,000km</td>\n",
       "      <td>7</td>\n",
       "      <td>benzin</td>\n",
       "      <td>ford</td>\n",
       "      <td>nein</td>\n",
       "      <td>2016-04-01 00:00:00</td>\n",
       "      <td>0</td>\n",
       "      <td>39218</td>\n",
       "      <td>2016-04-01 14:38:50</td>\n",
       "    </tr>\n",
       "  </tbody>\n",
       "</table>\n",
       "</div>"
      ],
      "text/plain": [
       "           dateCrawled                                               name  \\\n",
       "0  2016-03-26 17:47:46                   Peugeot_807_160_NAVTECH_ON_BOARD   \n",
       "1  2016-04-04 13:38:56         BMW_740i_4_4_Liter_HAMANN_UMBAU_Mega_Optik   \n",
       "2  2016-03-26 18:57:24                         Volkswagen_Golf_1.6_United   \n",
       "3  2016-03-12 16:58:10  Smart_smart_fortwo_coupe_softouch/F1/Klima/Pan...   \n",
       "4  2016-04-01 14:38:50  Ford_Focus_1_6_Benzin_TÜV_neu_ist_sehr_gepfleg...   \n",
       "\n",
       "   seller offerType   price   abtest vehicleType  yearOfRegistration  \\\n",
       "0  privat   Angebot  $5,000  control         bus                2004   \n",
       "1  privat   Angebot  $8,500  control   limousine                1997   \n",
       "2  privat   Angebot  $8,990     test   limousine                2009   \n",
       "3  privat   Angebot  $4,350  control  kleinwagen                2007   \n",
       "4  privat   Angebot  $1,350     test       kombi                2003   \n",
       "\n",
       "     gearbox  powerPS   model   odometer  monthOfRegistration fuelType  \\\n",
       "0    manuell      158  andere  150,000km                    3      lpg   \n",
       "1  automatik      286     7er  150,000km                    6   benzin   \n",
       "2    manuell      102    golf   70,000km                    7   benzin   \n",
       "3  automatik       71  fortwo   70,000km                    6   benzin   \n",
       "4    manuell        0   focus  150,000km                    7   benzin   \n",
       "\n",
       "        brand notRepairedDamage          dateCreated  nrOfPictures  \\\n",
       "0     peugeot              nein  2016-03-26 00:00:00             0   \n",
       "1         bmw              nein  2016-04-04 00:00:00             0   \n",
       "2  volkswagen              nein  2016-03-26 00:00:00             0   \n",
       "3       smart              nein  2016-03-12 00:00:00             0   \n",
       "4        ford              nein  2016-04-01 00:00:00             0   \n",
       "\n",
       "   postalCode             lastSeen  \n",
       "0       79588  2016-04-06 06:45:54  \n",
       "1       71034  2016-04-06 14:45:08  \n",
       "2       35394  2016-04-06 20:15:37  \n",
       "3       33729  2016-03-15 03:16:28  \n",
       "4       39218  2016-04-01 14:38:50  "
      ]
     },
     "execution_count": 130,
     "metadata": {},
     "output_type": "execute_result"
    }
   ],
   "source": [
    "autos.head()"
   ]
  },
  {
   "cell_type": "code",
   "execution_count": 131,
   "metadata": {},
   "outputs": [
    {
     "name": "stdout",
     "output_type": "stream",
     "text": [
      "[dtype('O') dtype('int64')]\n"
     ]
    }
   ],
   "source": [
    "print(autos.dtypes.unique())"
   ]
  },
  {
   "cell_type": "code",
   "execution_count": 132,
   "metadata": {},
   "outputs": [
    {
     "name": "stdout",
     "output_type": "stream",
     "text": [
      "['dateCrawled' 'name' 'seller' 'offerType' 'price' 'abtest' 'vehicleType'\n",
      " 'gearbox' 'model' 'odometer' 'fuelType' 'brand' 'notRepairedDamage'\n",
      " 'dateCreated' 'lastSeen']\n",
      "\n",
      "yearOfRegistration     int64\n",
      "powerPS                int64\n",
      "monthOfRegistration    int64\n",
      "nrOfPictures           int64\n",
      "postalCode             int64\n",
      "dtype: object\n"
     ]
    }
   ],
   "source": [
    "print(autos.dtypes[autos.dtypes == object].index.values)\n",
    "print()\n",
    "print(autos.dtypes[autos.dtypes == np.int64])"
   ]
  },
  {
   "cell_type": "markdown",
   "metadata": {},
   "source": [
    "# Part02"
   ]
  },
  {
   "cell_type": "code",
   "execution_count": 133,
   "metadata": {},
   "outputs": [
    {
     "name": "stdout",
     "output_type": "stream",
     "text": [
      "Index(['dateCrawled', 'name', 'seller', 'offerType', 'price', 'abtest',\n",
      "       'vehicleType', 'yearOfRegistration', 'gearbox', 'powerPS', 'model',\n",
      "       'odometer', 'monthOfRegistration', 'fuelType', 'brand',\n",
      "       'notRepairedDamage', 'dateCreated', 'nrOfPictures', 'postalCode',\n",
      "       'lastSeen'],\n",
      "      dtype='object')\n"
     ]
    }
   ],
   "source": [
    "pprint(autos.columns)\n"
   ]
  },
  {
   "cell_type": "code",
   "execution_count": 134,
   "metadata": {},
   "outputs": [],
   "source": [
    "new_names = {\n",
    "    'dateCrawled': 'date_crawled',\n",
    "    'name': 'name',\n",
    "    'seller': 'seller',\n",
    "    'offerType': 'offer_type',\n",
    "    'price': 'price',\n",
    "    'abtest': 'abtest',\n",
    "    'vehicleType': 'vehicle_type',\n",
    "    'yearOfRegistration': 'registration_year',\n",
    "    'gearbox': 'gearbox',\n",
    "    'powerPS': 'power_ps',\n",
    "    'model': 'model',\n",
    "    'odometer': 'odometer',\n",
    "    'monthOfRegistration': 'registration_month',\n",
    "    'fuelType': 'fuel_type',\n",
    "    'brand': 'brand',\n",
    "    'notRepairedDamage': 'unrepaired_damage',\n",
    "    'dateCreated': 'ad_created',\n",
    "    'nrOfPictures': 'nr_of_pictures',\n",
    "    'postalCode': 'postal_code',\n",
    "    'lastSeen':'last_seen' ,\n",
    "}"
   ]
  },
  {
   "cell_type": "code",
   "execution_count": 135,
   "metadata": {},
   "outputs": [
    {
     "name": "stdout",
     "output_type": "stream",
     "text": [
      "Index(['date_crawled', 'name', 'seller', 'offer_type', 'price', 'abtest',\n",
      "       'vehicle_type', 'registration_year', 'gearbox', 'power_ps', 'model',\n",
      "       'odometer', 'registration_month', 'fuel_type', 'brand',\n",
      "       'unrepaired_damage', 'ad_created', 'nr_of_pictures', 'postal_code',\n",
      "       'last_seen'],\n",
      "      dtype='object')\n"
     ]
    }
   ],
   "source": [
    "autos.rename(columns=new_names, inplace=True)\n",
    "print(autos.columns)"
   ]
  },
  {
   "cell_type": "code",
   "execution_count": 136,
   "metadata": {},
   "outputs": [
    {
     "name": "stdout",
     "output_type": "stream",
     "text": [
      "<class 'pandas.core.frame.DataFrame'>\n",
      "RangeIndex: 50000 entries, 0 to 49999\n",
      "Data columns (total 20 columns):\n",
      " #   Column              Non-Null Count  Dtype \n",
      "---  ------              --------------  ----- \n",
      " 0   date_crawled        50000 non-null  object\n",
      " 1   name                50000 non-null  object\n",
      " 2   seller              50000 non-null  object\n",
      " 3   offer_type          50000 non-null  object\n",
      " 4   price               50000 non-null  object\n",
      " 5   abtest              50000 non-null  object\n",
      " 6   vehicle_type        44905 non-null  object\n",
      " 7   registration_year   50000 non-null  int64 \n",
      " 8   gearbox             47320 non-null  object\n",
      " 9   power_ps            50000 non-null  int64 \n",
      " 10  model               47242 non-null  object\n",
      " 11  odometer            50000 non-null  object\n",
      " 12  registration_month  50000 non-null  int64 \n",
      " 13  fuel_type           45518 non-null  object\n",
      " 14  brand               50000 non-null  object\n",
      " 15  unrepaired_damage   40171 non-null  object\n",
      " 16  ad_created          50000 non-null  object\n",
      " 17  nr_of_pictures      50000 non-null  int64 \n",
      " 18  postal_code         50000 non-null  int64 \n",
      " 19  last_seen           50000 non-null  object\n",
      "dtypes: int64(5), object(15)\n",
      "memory usage: 7.6+ MB\n",
      "None\n"
     ]
    }
   ],
   "source": [
    "print(autos.info())"
   ]
  },
  {
   "cell_type": "code",
   "execution_count": 137,
   "metadata": {},
   "outputs": [
    {
     "data": {
      "text/html": [
       "<div>\n",
       "<style scoped>\n",
       "    .dataframe tbody tr th:only-of-type {\n",
       "        vertical-align: middle;\n",
       "    }\n",
       "\n",
       "    .dataframe tbody tr th {\n",
       "        vertical-align: top;\n",
       "    }\n",
       "\n",
       "    .dataframe thead th {\n",
       "        text-align: right;\n",
       "    }\n",
       "</style>\n",
       "<table border=\"1\" class=\"dataframe\">\n",
       "  <thead>\n",
       "    <tr style=\"text-align: right;\">\n",
       "      <th></th>\n",
       "      <th>date_crawled</th>\n",
       "      <th>name</th>\n",
       "      <th>seller</th>\n",
       "      <th>offer_type</th>\n",
       "      <th>price</th>\n",
       "      <th>abtest</th>\n",
       "      <th>vehicle_type</th>\n",
       "      <th>registration_year</th>\n",
       "      <th>gearbox</th>\n",
       "      <th>power_ps</th>\n",
       "      <th>model</th>\n",
       "      <th>odometer</th>\n",
       "      <th>registration_month</th>\n",
       "      <th>fuel_type</th>\n",
       "      <th>brand</th>\n",
       "      <th>unrepaired_damage</th>\n",
       "      <th>ad_created</th>\n",
       "      <th>nr_of_pictures</th>\n",
       "      <th>postal_code</th>\n",
       "      <th>last_seen</th>\n",
       "    </tr>\n",
       "  </thead>\n",
       "  <tbody>\n",
       "    <tr>\n",
       "      <th>0</th>\n",
       "      <td>2016-03-26 17:47:46</td>\n",
       "      <td>Peugeot_807_160_NAVTECH_ON_BOARD</td>\n",
       "      <td>privat</td>\n",
       "      <td>Angebot</td>\n",
       "      <td>$5,000</td>\n",
       "      <td>control</td>\n",
       "      <td>bus</td>\n",
       "      <td>2004</td>\n",
       "      <td>manuell</td>\n",
       "      <td>158</td>\n",
       "      <td>andere</td>\n",
       "      <td>150,000km</td>\n",
       "      <td>3</td>\n",
       "      <td>lpg</td>\n",
       "      <td>peugeot</td>\n",
       "      <td>nein</td>\n",
       "      <td>2016-03-26 00:00:00</td>\n",
       "      <td>0</td>\n",
       "      <td>79588</td>\n",
       "      <td>2016-04-06 06:45:54</td>\n",
       "    </tr>\n",
       "    <tr>\n",
       "      <th>1</th>\n",
       "      <td>2016-04-04 13:38:56</td>\n",
       "      <td>BMW_740i_4_4_Liter_HAMANN_UMBAU_Mega_Optik</td>\n",
       "      <td>privat</td>\n",
       "      <td>Angebot</td>\n",
       "      <td>$8,500</td>\n",
       "      <td>control</td>\n",
       "      <td>limousine</td>\n",
       "      <td>1997</td>\n",
       "      <td>automatik</td>\n",
       "      <td>286</td>\n",
       "      <td>7er</td>\n",
       "      <td>150,000km</td>\n",
       "      <td>6</td>\n",
       "      <td>benzin</td>\n",
       "      <td>bmw</td>\n",
       "      <td>nein</td>\n",
       "      <td>2016-04-04 00:00:00</td>\n",
       "      <td>0</td>\n",
       "      <td>71034</td>\n",
       "      <td>2016-04-06 14:45:08</td>\n",
       "    </tr>\n",
       "    <tr>\n",
       "      <th>2</th>\n",
       "      <td>2016-03-26 18:57:24</td>\n",
       "      <td>Volkswagen_Golf_1.6_United</td>\n",
       "      <td>privat</td>\n",
       "      <td>Angebot</td>\n",
       "      <td>$8,990</td>\n",
       "      <td>test</td>\n",
       "      <td>limousine</td>\n",
       "      <td>2009</td>\n",
       "      <td>manuell</td>\n",
       "      <td>102</td>\n",
       "      <td>golf</td>\n",
       "      <td>70,000km</td>\n",
       "      <td>7</td>\n",
       "      <td>benzin</td>\n",
       "      <td>volkswagen</td>\n",
       "      <td>nein</td>\n",
       "      <td>2016-03-26 00:00:00</td>\n",
       "      <td>0</td>\n",
       "      <td>35394</td>\n",
       "      <td>2016-04-06 20:15:37</td>\n",
       "    </tr>\n",
       "    <tr>\n",
       "      <th>3</th>\n",
       "      <td>2016-03-12 16:58:10</td>\n",
       "      <td>Smart_smart_fortwo_coupe_softouch/F1/Klima/Pan...</td>\n",
       "      <td>privat</td>\n",
       "      <td>Angebot</td>\n",
       "      <td>$4,350</td>\n",
       "      <td>control</td>\n",
       "      <td>kleinwagen</td>\n",
       "      <td>2007</td>\n",
       "      <td>automatik</td>\n",
       "      <td>71</td>\n",
       "      <td>fortwo</td>\n",
       "      <td>70,000km</td>\n",
       "      <td>6</td>\n",
       "      <td>benzin</td>\n",
       "      <td>smart</td>\n",
       "      <td>nein</td>\n",
       "      <td>2016-03-12 00:00:00</td>\n",
       "      <td>0</td>\n",
       "      <td>33729</td>\n",
       "      <td>2016-03-15 03:16:28</td>\n",
       "    </tr>\n",
       "    <tr>\n",
       "      <th>4</th>\n",
       "      <td>2016-04-01 14:38:50</td>\n",
       "      <td>Ford_Focus_1_6_Benzin_TÜV_neu_ist_sehr_gepfleg...</td>\n",
       "      <td>privat</td>\n",
       "      <td>Angebot</td>\n",
       "      <td>$1,350</td>\n",
       "      <td>test</td>\n",
       "      <td>kombi</td>\n",
       "      <td>2003</td>\n",
       "      <td>manuell</td>\n",
       "      <td>0</td>\n",
       "      <td>focus</td>\n",
       "      <td>150,000km</td>\n",
       "      <td>7</td>\n",
       "      <td>benzin</td>\n",
       "      <td>ford</td>\n",
       "      <td>nein</td>\n",
       "      <td>2016-04-01 00:00:00</td>\n",
       "      <td>0</td>\n",
       "      <td>39218</td>\n",
       "      <td>2016-04-01 14:38:50</td>\n",
       "    </tr>\n",
       "  </tbody>\n",
       "</table>\n",
       "</div>"
      ],
      "text/plain": [
       "          date_crawled                                               name  \\\n",
       "0  2016-03-26 17:47:46                   Peugeot_807_160_NAVTECH_ON_BOARD   \n",
       "1  2016-04-04 13:38:56         BMW_740i_4_4_Liter_HAMANN_UMBAU_Mega_Optik   \n",
       "2  2016-03-26 18:57:24                         Volkswagen_Golf_1.6_United   \n",
       "3  2016-03-12 16:58:10  Smart_smart_fortwo_coupe_softouch/F1/Klima/Pan...   \n",
       "4  2016-04-01 14:38:50  Ford_Focus_1_6_Benzin_TÜV_neu_ist_sehr_gepfleg...   \n",
       "\n",
       "   seller offer_type   price   abtest vehicle_type  registration_year  \\\n",
       "0  privat    Angebot  $5,000  control          bus               2004   \n",
       "1  privat    Angebot  $8,500  control    limousine               1997   \n",
       "2  privat    Angebot  $8,990     test    limousine               2009   \n",
       "3  privat    Angebot  $4,350  control   kleinwagen               2007   \n",
       "4  privat    Angebot  $1,350     test        kombi               2003   \n",
       "\n",
       "     gearbox  power_ps   model   odometer  registration_month fuel_type  \\\n",
       "0    manuell       158  andere  150,000km                   3       lpg   \n",
       "1  automatik       286     7er  150,000km                   6    benzin   \n",
       "2    manuell       102    golf   70,000km                   7    benzin   \n",
       "3  automatik        71  fortwo   70,000km                   6    benzin   \n",
       "4    manuell         0   focus  150,000km                   7    benzin   \n",
       "\n",
       "        brand unrepaired_damage           ad_created  nr_of_pictures  \\\n",
       "0     peugeot              nein  2016-03-26 00:00:00               0   \n",
       "1         bmw              nein  2016-04-04 00:00:00               0   \n",
       "2  volkswagen              nein  2016-03-26 00:00:00               0   \n",
       "3       smart              nein  2016-03-12 00:00:00               0   \n",
       "4        ford              nein  2016-04-01 00:00:00               0   \n",
       "\n",
       "   postal_code            last_seen  \n",
       "0        79588  2016-04-06 06:45:54  \n",
       "1        71034  2016-04-06 14:45:08  \n",
       "2        35394  2016-04-06 20:15:37  \n",
       "3        33729  2016-03-15 03:16:28  \n",
       "4        39218  2016-04-01 14:38:50  "
      ]
     },
     "execution_count": 137,
     "metadata": {},
     "output_type": "execute_result"
    }
   ],
   "source": [
    "autos.head()"
   ]
  },
  {
   "cell_type": "markdown",
   "metadata": {},
   "source": [
    "# Part03"
   ]
  },
  {
   "cell_type": "code",
   "execution_count": 138,
   "metadata": {},
   "outputs": [
    {
     "data": {
      "text/html": [
       "<div>\n",
       "<style scoped>\n",
       "    .dataframe tbody tr th:only-of-type {\n",
       "        vertical-align: middle;\n",
       "    }\n",
       "\n",
       "    .dataframe tbody tr th {\n",
       "        vertical-align: top;\n",
       "    }\n",
       "\n",
       "    .dataframe thead th {\n",
       "        text-align: right;\n",
       "    }\n",
       "</style>\n",
       "<table border=\"1\" class=\"dataframe\">\n",
       "  <thead>\n",
       "    <tr style=\"text-align: right;\">\n",
       "      <th></th>\n",
       "      <th>registration_year</th>\n",
       "      <th>power_ps</th>\n",
       "      <th>registration_month</th>\n",
       "      <th>nr_of_pictures</th>\n",
       "      <th>postal_code</th>\n",
       "    </tr>\n",
       "  </thead>\n",
       "  <tbody>\n",
       "    <tr>\n",
       "      <th>count</th>\n",
       "      <td>50000.00</td>\n",
       "      <td>50000.00</td>\n",
       "      <td>50000.00</td>\n",
       "      <td>50000.00</td>\n",
       "      <td>50000.00</td>\n",
       "    </tr>\n",
       "    <tr>\n",
       "      <th>mean</th>\n",
       "      <td>2005.07</td>\n",
       "      <td>116.36</td>\n",
       "      <td>5.72</td>\n",
       "      <td>0.00</td>\n",
       "      <td>50813.63</td>\n",
       "    </tr>\n",
       "    <tr>\n",
       "      <th>std</th>\n",
       "      <td>105.71</td>\n",
       "      <td>209.22</td>\n",
       "      <td>3.71</td>\n",
       "      <td>0.00</td>\n",
       "      <td>25779.75</td>\n",
       "    </tr>\n",
       "    <tr>\n",
       "      <th>min</th>\n",
       "      <td>1000.00</td>\n",
       "      <td>0.00</td>\n",
       "      <td>0.00</td>\n",
       "      <td>0.00</td>\n",
       "      <td>1067.00</td>\n",
       "    </tr>\n",
       "    <tr>\n",
       "      <th>25%</th>\n",
       "      <td>1999.00</td>\n",
       "      <td>70.00</td>\n",
       "      <td>3.00</td>\n",
       "      <td>0.00</td>\n",
       "      <td>30451.00</td>\n",
       "    </tr>\n",
       "    <tr>\n",
       "      <th>50%</th>\n",
       "      <td>2003.00</td>\n",
       "      <td>105.00</td>\n",
       "      <td>6.00</td>\n",
       "      <td>0.00</td>\n",
       "      <td>49577.00</td>\n",
       "    </tr>\n",
       "    <tr>\n",
       "      <th>75%</th>\n",
       "      <td>2008.00</td>\n",
       "      <td>150.00</td>\n",
       "      <td>9.00</td>\n",
       "      <td>0.00</td>\n",
       "      <td>71540.00</td>\n",
       "    </tr>\n",
       "    <tr>\n",
       "      <th>max</th>\n",
       "      <td>9999.00</td>\n",
       "      <td>17700.00</td>\n",
       "      <td>12.00</td>\n",
       "      <td>0.00</td>\n",
       "      <td>99998.00</td>\n",
       "    </tr>\n",
       "  </tbody>\n",
       "</table>\n",
       "</div>"
      ],
      "text/plain": [
       "       registration_year  power_ps  registration_month  nr_of_pictures  \\\n",
       "count           50000.00  50000.00            50000.00        50000.00   \n",
       "mean             2005.07    116.36                5.72            0.00   \n",
       "std               105.71    209.22                3.71            0.00   \n",
       "min              1000.00      0.00                0.00            0.00   \n",
       "25%              1999.00     70.00                3.00            0.00   \n",
       "50%              2003.00    105.00                6.00            0.00   \n",
       "75%              2008.00    150.00                9.00            0.00   \n",
       "max              9999.00  17700.00               12.00            0.00   \n",
       "\n",
       "       postal_code  \n",
       "count     50000.00  \n",
       "mean      50813.63  \n",
       "std       25779.75  \n",
       "min        1067.00  \n",
       "25%       30451.00  \n",
       "50%       49577.00  \n",
       "75%       71540.00  \n",
       "max       99998.00  "
      ]
     },
     "execution_count": 138,
     "metadata": {},
     "output_type": "execute_result"
    }
   ],
   "source": [
    "autos.describe()"
   ]
  },
  {
   "cell_type": "code",
   "execution_count": 139,
   "metadata": {},
   "outputs": [
    {
     "data": {
      "text/html": [
       "<div>\n",
       "<style scoped>\n",
       "    .dataframe tbody tr th:only-of-type {\n",
       "        vertical-align: middle;\n",
       "    }\n",
       "\n",
       "    .dataframe tbody tr th {\n",
       "        vertical-align: top;\n",
       "    }\n",
       "\n",
       "    .dataframe thead th {\n",
       "        text-align: right;\n",
       "    }\n",
       "</style>\n",
       "<table border=\"1\" class=\"dataframe\">\n",
       "  <thead>\n",
       "    <tr style=\"text-align: right;\">\n",
       "      <th></th>\n",
       "      <th>date_crawled</th>\n",
       "      <th>name</th>\n",
       "      <th>seller</th>\n",
       "      <th>offer_type</th>\n",
       "      <th>price</th>\n",
       "      <th>abtest</th>\n",
       "      <th>vehicle_type</th>\n",
       "      <th>registration_year</th>\n",
       "      <th>gearbox</th>\n",
       "      <th>power_ps</th>\n",
       "      <th>model</th>\n",
       "      <th>odometer</th>\n",
       "      <th>registration_month</th>\n",
       "      <th>fuel_type</th>\n",
       "      <th>brand</th>\n",
       "      <th>unrepaired_damage</th>\n",
       "      <th>ad_created</th>\n",
       "      <th>nr_of_pictures</th>\n",
       "      <th>postal_code</th>\n",
       "      <th>last_seen</th>\n",
       "    </tr>\n",
       "  </thead>\n",
       "  <tbody>\n",
       "    <tr>\n",
       "      <th>count</th>\n",
       "      <td>50000</td>\n",
       "      <td>50000</td>\n",
       "      <td>50000</td>\n",
       "      <td>50000</td>\n",
       "      <td>50000</td>\n",
       "      <td>50000</td>\n",
       "      <td>44905</td>\n",
       "      <td>50000.00</td>\n",
       "      <td>47320</td>\n",
       "      <td>50000.00</td>\n",
       "      <td>47242</td>\n",
       "      <td>50000</td>\n",
       "      <td>50000.00</td>\n",
       "      <td>45518</td>\n",
       "      <td>50000</td>\n",
       "      <td>40171</td>\n",
       "      <td>50000</td>\n",
       "      <td>50000.00</td>\n",
       "      <td>50000.00</td>\n",
       "      <td>50000</td>\n",
       "    </tr>\n",
       "    <tr>\n",
       "      <th>unique</th>\n",
       "      <td>48213</td>\n",
       "      <td>38754</td>\n",
       "      <td>2</td>\n",
       "      <td>2</td>\n",
       "      <td>2357</td>\n",
       "      <td>2</td>\n",
       "      <td>8</td>\n",
       "      <td>nan</td>\n",
       "      <td>2</td>\n",
       "      <td>nan</td>\n",
       "      <td>245</td>\n",
       "      <td>13</td>\n",
       "      <td>nan</td>\n",
       "      <td>7</td>\n",
       "      <td>40</td>\n",
       "      <td>2</td>\n",
       "      <td>76</td>\n",
       "      <td>nan</td>\n",
       "      <td>nan</td>\n",
       "      <td>39481</td>\n",
       "    </tr>\n",
       "    <tr>\n",
       "      <th>top</th>\n",
       "      <td>2016-03-11 22:38:16</td>\n",
       "      <td>Ford_Fiesta</td>\n",
       "      <td>privat</td>\n",
       "      <td>Angebot</td>\n",
       "      <td>$0</td>\n",
       "      <td>test</td>\n",
       "      <td>limousine</td>\n",
       "      <td>nan</td>\n",
       "      <td>manuell</td>\n",
       "      <td>nan</td>\n",
       "      <td>golf</td>\n",
       "      <td>150,000km</td>\n",
       "      <td>nan</td>\n",
       "      <td>benzin</td>\n",
       "      <td>volkswagen</td>\n",
       "      <td>nein</td>\n",
       "      <td>2016-04-03 00:00:00</td>\n",
       "      <td>nan</td>\n",
       "      <td>nan</td>\n",
       "      <td>2016-04-07 06:17:27</td>\n",
       "    </tr>\n",
       "    <tr>\n",
       "      <th>freq</th>\n",
       "      <td>3</td>\n",
       "      <td>78</td>\n",
       "      <td>49999</td>\n",
       "      <td>49999</td>\n",
       "      <td>1421</td>\n",
       "      <td>25756</td>\n",
       "      <td>12859</td>\n",
       "      <td>nan</td>\n",
       "      <td>36993</td>\n",
       "      <td>nan</td>\n",
       "      <td>4024</td>\n",
       "      <td>32424</td>\n",
       "      <td>nan</td>\n",
       "      <td>30107</td>\n",
       "      <td>10687</td>\n",
       "      <td>35232</td>\n",
       "      <td>1946</td>\n",
       "      <td>nan</td>\n",
       "      <td>nan</td>\n",
       "      <td>8</td>\n",
       "    </tr>\n",
       "    <tr>\n",
       "      <th>mean</th>\n",
       "      <td>NaN</td>\n",
       "      <td>NaN</td>\n",
       "      <td>NaN</td>\n",
       "      <td>NaN</td>\n",
       "      <td>NaN</td>\n",
       "      <td>NaN</td>\n",
       "      <td>NaN</td>\n",
       "      <td>2005.07</td>\n",
       "      <td>NaN</td>\n",
       "      <td>116.36</td>\n",
       "      <td>NaN</td>\n",
       "      <td>NaN</td>\n",
       "      <td>5.72</td>\n",
       "      <td>NaN</td>\n",
       "      <td>NaN</td>\n",
       "      <td>NaN</td>\n",
       "      <td>NaN</td>\n",
       "      <td>0.00</td>\n",
       "      <td>50813.63</td>\n",
       "      <td>NaN</td>\n",
       "    </tr>\n",
       "    <tr>\n",
       "      <th>std</th>\n",
       "      <td>NaN</td>\n",
       "      <td>NaN</td>\n",
       "      <td>NaN</td>\n",
       "      <td>NaN</td>\n",
       "      <td>NaN</td>\n",
       "      <td>NaN</td>\n",
       "      <td>NaN</td>\n",
       "      <td>105.71</td>\n",
       "      <td>NaN</td>\n",
       "      <td>209.22</td>\n",
       "      <td>NaN</td>\n",
       "      <td>NaN</td>\n",
       "      <td>3.71</td>\n",
       "      <td>NaN</td>\n",
       "      <td>NaN</td>\n",
       "      <td>NaN</td>\n",
       "      <td>NaN</td>\n",
       "      <td>0.00</td>\n",
       "      <td>25779.75</td>\n",
       "      <td>NaN</td>\n",
       "    </tr>\n",
       "    <tr>\n",
       "      <th>min</th>\n",
       "      <td>NaN</td>\n",
       "      <td>NaN</td>\n",
       "      <td>NaN</td>\n",
       "      <td>NaN</td>\n",
       "      <td>NaN</td>\n",
       "      <td>NaN</td>\n",
       "      <td>NaN</td>\n",
       "      <td>1000.00</td>\n",
       "      <td>NaN</td>\n",
       "      <td>0.00</td>\n",
       "      <td>NaN</td>\n",
       "      <td>NaN</td>\n",
       "      <td>0.00</td>\n",
       "      <td>NaN</td>\n",
       "      <td>NaN</td>\n",
       "      <td>NaN</td>\n",
       "      <td>NaN</td>\n",
       "      <td>0.00</td>\n",
       "      <td>1067.00</td>\n",
       "      <td>NaN</td>\n",
       "    </tr>\n",
       "    <tr>\n",
       "      <th>25%</th>\n",
       "      <td>NaN</td>\n",
       "      <td>NaN</td>\n",
       "      <td>NaN</td>\n",
       "      <td>NaN</td>\n",
       "      <td>NaN</td>\n",
       "      <td>NaN</td>\n",
       "      <td>NaN</td>\n",
       "      <td>1999.00</td>\n",
       "      <td>NaN</td>\n",
       "      <td>70.00</td>\n",
       "      <td>NaN</td>\n",
       "      <td>NaN</td>\n",
       "      <td>3.00</td>\n",
       "      <td>NaN</td>\n",
       "      <td>NaN</td>\n",
       "      <td>NaN</td>\n",
       "      <td>NaN</td>\n",
       "      <td>0.00</td>\n",
       "      <td>30451.00</td>\n",
       "      <td>NaN</td>\n",
       "    </tr>\n",
       "    <tr>\n",
       "      <th>50%</th>\n",
       "      <td>NaN</td>\n",
       "      <td>NaN</td>\n",
       "      <td>NaN</td>\n",
       "      <td>NaN</td>\n",
       "      <td>NaN</td>\n",
       "      <td>NaN</td>\n",
       "      <td>NaN</td>\n",
       "      <td>2003.00</td>\n",
       "      <td>NaN</td>\n",
       "      <td>105.00</td>\n",
       "      <td>NaN</td>\n",
       "      <td>NaN</td>\n",
       "      <td>6.00</td>\n",
       "      <td>NaN</td>\n",
       "      <td>NaN</td>\n",
       "      <td>NaN</td>\n",
       "      <td>NaN</td>\n",
       "      <td>0.00</td>\n",
       "      <td>49577.00</td>\n",
       "      <td>NaN</td>\n",
       "    </tr>\n",
       "    <tr>\n",
       "      <th>75%</th>\n",
       "      <td>NaN</td>\n",
       "      <td>NaN</td>\n",
       "      <td>NaN</td>\n",
       "      <td>NaN</td>\n",
       "      <td>NaN</td>\n",
       "      <td>NaN</td>\n",
       "      <td>NaN</td>\n",
       "      <td>2008.00</td>\n",
       "      <td>NaN</td>\n",
       "      <td>150.00</td>\n",
       "      <td>NaN</td>\n",
       "      <td>NaN</td>\n",
       "      <td>9.00</td>\n",
       "      <td>NaN</td>\n",
       "      <td>NaN</td>\n",
       "      <td>NaN</td>\n",
       "      <td>NaN</td>\n",
       "      <td>0.00</td>\n",
       "      <td>71540.00</td>\n",
       "      <td>NaN</td>\n",
       "    </tr>\n",
       "    <tr>\n",
       "      <th>max</th>\n",
       "      <td>NaN</td>\n",
       "      <td>NaN</td>\n",
       "      <td>NaN</td>\n",
       "      <td>NaN</td>\n",
       "      <td>NaN</td>\n",
       "      <td>NaN</td>\n",
       "      <td>NaN</td>\n",
       "      <td>9999.00</td>\n",
       "      <td>NaN</td>\n",
       "      <td>17700.00</td>\n",
       "      <td>NaN</td>\n",
       "      <td>NaN</td>\n",
       "      <td>12.00</td>\n",
       "      <td>NaN</td>\n",
       "      <td>NaN</td>\n",
       "      <td>NaN</td>\n",
       "      <td>NaN</td>\n",
       "      <td>0.00</td>\n",
       "      <td>99998.00</td>\n",
       "      <td>NaN</td>\n",
       "    </tr>\n",
       "  </tbody>\n",
       "</table>\n",
       "</div>"
      ],
      "text/plain": [
       "               date_crawled         name  seller offer_type  price abtest  \\\n",
       "count                 50000        50000   50000      50000  50000  50000   \n",
       "unique                48213        38754       2          2   2357      2   \n",
       "top     2016-03-11 22:38:16  Ford_Fiesta  privat    Angebot     $0   test   \n",
       "freq                      3           78   49999      49999   1421  25756   \n",
       "mean                    NaN          NaN     NaN        NaN    NaN    NaN   \n",
       "std                     NaN          NaN     NaN        NaN    NaN    NaN   \n",
       "min                     NaN          NaN     NaN        NaN    NaN    NaN   \n",
       "25%                     NaN          NaN     NaN        NaN    NaN    NaN   \n",
       "50%                     NaN          NaN     NaN        NaN    NaN    NaN   \n",
       "75%                     NaN          NaN     NaN        NaN    NaN    NaN   \n",
       "max                     NaN          NaN     NaN        NaN    NaN    NaN   \n",
       "\n",
       "       vehicle_type  registration_year  gearbox  power_ps  model   odometer  \\\n",
       "count         44905           50000.00    47320  50000.00  47242      50000   \n",
       "unique            8                nan        2       nan    245         13   \n",
       "top       limousine                nan  manuell       nan   golf  150,000km   \n",
       "freq          12859                nan    36993       nan   4024      32424   \n",
       "mean            NaN            2005.07      NaN    116.36    NaN        NaN   \n",
       "std             NaN             105.71      NaN    209.22    NaN        NaN   \n",
       "min             NaN            1000.00      NaN      0.00    NaN        NaN   \n",
       "25%             NaN            1999.00      NaN     70.00    NaN        NaN   \n",
       "50%             NaN            2003.00      NaN    105.00    NaN        NaN   \n",
       "75%             NaN            2008.00      NaN    150.00    NaN        NaN   \n",
       "max             NaN            9999.00      NaN  17700.00    NaN        NaN   \n",
       "\n",
       "        registration_month fuel_type       brand unrepaired_damage  \\\n",
       "count             50000.00     45518       50000             40171   \n",
       "unique                 nan         7          40                 2   \n",
       "top                    nan    benzin  volkswagen              nein   \n",
       "freq                   nan     30107       10687             35232   \n",
       "mean                  5.72       NaN         NaN               NaN   \n",
       "std                   3.71       NaN         NaN               NaN   \n",
       "min                   0.00       NaN         NaN               NaN   \n",
       "25%                   3.00       NaN         NaN               NaN   \n",
       "50%                   6.00       NaN         NaN               NaN   \n",
       "75%                   9.00       NaN         NaN               NaN   \n",
       "max                  12.00       NaN         NaN               NaN   \n",
       "\n",
       "                 ad_created  nr_of_pictures  postal_code            last_seen  \n",
       "count                 50000        50000.00     50000.00                50000  \n",
       "unique                   76             nan          nan                39481  \n",
       "top     2016-04-03 00:00:00             nan          nan  2016-04-07 06:17:27  \n",
       "freq                   1946             nan          nan                    8  \n",
       "mean                    NaN            0.00     50813.63                  NaN  \n",
       "std                     NaN            0.00     25779.75                  NaN  \n",
       "min                     NaN            0.00      1067.00                  NaN  \n",
       "25%                     NaN            0.00     30451.00                  NaN  \n",
       "50%                     NaN            0.00     49577.00                  NaN  \n",
       "75%                     NaN            0.00     71540.00                  NaN  \n",
       "max                     NaN            0.00     99998.00                  NaN  "
      ]
     },
     "execution_count": 139,
     "metadata": {},
     "output_type": "execute_result"
    }
   ],
   "source": [
    "autos.describe(include='all')"
   ]
  },
  {
   "cell_type": "code",
   "execution_count": 140,
   "metadata": {},
   "outputs": [
    {
     "data": {
      "text/html": [
       "<div>\n",
       "<style scoped>\n",
       "    .dataframe tbody tr th:only-of-type {\n",
       "        vertical-align: middle;\n",
       "    }\n",
       "\n",
       "    .dataframe tbody tr th {\n",
       "        vertical-align: top;\n",
       "    }\n",
       "\n",
       "    .dataframe thead th {\n",
       "        text-align: right;\n",
       "    }\n",
       "</style>\n",
       "<table border=\"1\" class=\"dataframe\">\n",
       "  <thead>\n",
       "    <tr style=\"text-align: right;\">\n",
       "      <th></th>\n",
       "      <th>date_crawled</th>\n",
       "      <th>name</th>\n",
       "      <th>seller</th>\n",
       "      <th>offer_type</th>\n",
       "      <th>price</th>\n",
       "      <th>abtest</th>\n",
       "      <th>vehicle_type</th>\n",
       "      <th>gearbox</th>\n",
       "      <th>model</th>\n",
       "      <th>odometer</th>\n",
       "      <th>fuel_type</th>\n",
       "      <th>brand</th>\n",
       "      <th>unrepaired_damage</th>\n",
       "      <th>ad_created</th>\n",
       "      <th>last_seen</th>\n",
       "    </tr>\n",
       "  </thead>\n",
       "  <tbody>\n",
       "    <tr>\n",
       "      <th>count</th>\n",
       "      <td>50000</td>\n",
       "      <td>50000</td>\n",
       "      <td>50000</td>\n",
       "      <td>50000</td>\n",
       "      <td>50000</td>\n",
       "      <td>50000</td>\n",
       "      <td>44905</td>\n",
       "      <td>47320</td>\n",
       "      <td>47242</td>\n",
       "      <td>50000</td>\n",
       "      <td>45518</td>\n",
       "      <td>50000</td>\n",
       "      <td>40171</td>\n",
       "      <td>50000</td>\n",
       "      <td>50000</td>\n",
       "    </tr>\n",
       "    <tr>\n",
       "      <th>unique</th>\n",
       "      <td>48213</td>\n",
       "      <td>38754</td>\n",
       "      <td>2</td>\n",
       "      <td>2</td>\n",
       "      <td>2357</td>\n",
       "      <td>2</td>\n",
       "      <td>8</td>\n",
       "      <td>2</td>\n",
       "      <td>245</td>\n",
       "      <td>13</td>\n",
       "      <td>7</td>\n",
       "      <td>40</td>\n",
       "      <td>2</td>\n",
       "      <td>76</td>\n",
       "      <td>39481</td>\n",
       "    </tr>\n",
       "    <tr>\n",
       "      <th>top</th>\n",
       "      <td>2016-03-11 22:38:16</td>\n",
       "      <td>Ford_Fiesta</td>\n",
       "      <td>privat</td>\n",
       "      <td>Angebot</td>\n",
       "      <td>$0</td>\n",
       "      <td>test</td>\n",
       "      <td>limousine</td>\n",
       "      <td>manuell</td>\n",
       "      <td>golf</td>\n",
       "      <td>150,000km</td>\n",
       "      <td>benzin</td>\n",
       "      <td>volkswagen</td>\n",
       "      <td>nein</td>\n",
       "      <td>2016-04-03 00:00:00</td>\n",
       "      <td>2016-04-07 06:17:27</td>\n",
       "    </tr>\n",
       "    <tr>\n",
       "      <th>freq</th>\n",
       "      <td>3</td>\n",
       "      <td>78</td>\n",
       "      <td>49999</td>\n",
       "      <td>49999</td>\n",
       "      <td>1421</td>\n",
       "      <td>25756</td>\n",
       "      <td>12859</td>\n",
       "      <td>36993</td>\n",
       "      <td>4024</td>\n",
       "      <td>32424</td>\n",
       "      <td>30107</td>\n",
       "      <td>10687</td>\n",
       "      <td>35232</td>\n",
       "      <td>1946</td>\n",
       "      <td>8</td>\n",
       "    </tr>\n",
       "  </tbody>\n",
       "</table>\n",
       "</div>"
      ],
      "text/plain": [
       "               date_crawled         name  seller offer_type  price abtest  \\\n",
       "count                 50000        50000   50000      50000  50000  50000   \n",
       "unique                48213        38754       2          2   2357      2   \n",
       "top     2016-03-11 22:38:16  Ford_Fiesta  privat    Angebot     $0   test   \n",
       "freq                      3           78   49999      49999   1421  25756   \n",
       "\n",
       "       vehicle_type  gearbox  model   odometer fuel_type       brand  \\\n",
       "count         44905    47320  47242      50000     45518       50000   \n",
       "unique            8        2    245         13         7          40   \n",
       "top       limousine  manuell   golf  150,000km    benzin  volkswagen   \n",
       "freq          12859    36993   4024      32424     30107       10687   \n",
       "\n",
       "       unrepaired_damage           ad_created            last_seen  \n",
       "count              40171                50000                50000  \n",
       "unique                 2                   76                39481  \n",
       "top                 nein  2016-04-03 00:00:00  2016-04-07 06:17:27  \n",
       "freq               35232                 1946                    8  "
      ]
     },
     "execution_count": 140,
     "metadata": {},
     "output_type": "execute_result"
    }
   ],
   "source": [
    "autos[autos.dtypes[autos.dtypes == object].index.values].describe()"
   ]
  },
  {
   "cell_type": "code",
   "execution_count": 141,
   "metadata": {},
   "outputs": [
    {
     "data": {
      "text/plain": [
       "date_crawled         48213\n",
       "name                 38754\n",
       "seller                   2\n",
       "offer_type               2\n",
       "price                 2357\n",
       "abtest                   2\n",
       "vehicle_type             8\n",
       "gearbox                  2\n",
       "model                  245\n",
       "odometer                13\n",
       "fuel_type                7\n",
       "brand                   40\n",
       "unrepaired_damage        2\n",
       "ad_created              76\n",
       "last_seen            39481\n",
       "Name: unique, dtype: object"
      ]
     },
     "execution_count": 141,
     "metadata": {},
     "output_type": "execute_result"
    }
   ],
   "source": [
    "autos[autos.dtypes[autos.dtypes == object].index.values].describe().loc['unique']"
   ]
  },
  {
   "cell_type": "code",
   "execution_count": 142,
   "metadata": {},
   "outputs": [
    {
     "name": "stdout",
     "output_type": "stream",
     "text": [
      "privat        49999\n",
      "gewerblich        1\n",
      "Name: seller, dtype: int64\n",
      "\n",
      "Angebot    49999\n",
      "Gesuch         1\n",
      "Name: offer_type, dtype: int64\n",
      "\n",
      "test       25756\n",
      "control    24244\n",
      "Name: abtest, dtype: int64\n",
      "\n",
      "manuell      36993\n",
      "automatik    10327\n",
      "Name: gearbox, dtype: int64\n",
      "\n",
      "nein    35232\n",
      "ja       4939\n",
      "Name: unrepaired_damage, dtype: int64\n"
     ]
    }
   ],
   "source": [
    "print(autos['seller'].value_counts())\n",
    "print()\n",
    "print(autos['offer_type'].value_counts())\n",
    "print()\n",
    "print(autos['abtest'].value_counts())\n",
    "print()\n",
    "print(autos['gearbox'].value_counts())\n",
    "print()\n",
    "print(autos['unrepaired_damage'].value_counts())\n"
   ]
  },
  {
   "cell_type": "code",
   "execution_count": 143,
   "metadata": {},
   "outputs": [
    {
     "name": "stdout",
     "output_type": "stream",
     "text": [
      "benzin     30107\n",
      "diesel     14567\n",
      "lpg          691\n",
      "cng           75\n",
      "hybrid        37\n",
      "andere        22\n",
      "elektro       19\n",
      "Name: fuel_type, dtype: int64\n"
     ]
    }
   ],
   "source": [
    "print(autos['fuel_type'].value_counts())"
   ]
  },
  {
   "cell_type": "code",
   "execution_count": 144,
   "metadata": {},
   "outputs": [
    {
     "name": "stdout",
     "output_type": "stream",
     "text": [
      "    price   odometer       brand\n",
      "0  $5,000  150,000km     peugeot\n",
      "1  $8,500  150,000km         bmw\n",
      "2  $8,990   70,000km  volkswagen\n",
      "3  $4,350   70,000km       smart\n",
      "4  $1,350  150,000km        ford\n"
     ]
    }
   ],
   "source": [
    "print(autos[['price', 'odometer', 'brand']].head())"
   ]
  },
  {
   "cell_type": "code",
   "execution_count": 145,
   "metadata": {},
   "outputs": [
    {
     "name": "stdout",
     "output_type": "stream",
     "text": [
      "0    2016-04-06 06:45:54\n",
      "1    2016-04-06 14:45:08\n",
      "2    2016-04-06 20:15:37\n",
      "3    2016-03-15 03:16:28\n",
      "4    2016-04-01 14:38:50\n",
      "Name: last_seen, dtype: object\n"
     ]
    }
   ],
   "source": [
    "print(autos['last_seen'].head())"
   ]
  },
  {
   "cell_type": "code",
   "execution_count": null,
   "metadata": {},
   "outputs": [],
   "source": []
  },
  {
   "cell_type": "markdown",
   "metadata": {},
   "source": [
    "Columns with only two values are\n",
    "\n",
    "\n",
    "- `'seller'`\n",
    "- 'offer_type'\n",
    "- 'abtest'\n",
    "- 'gearbox'\n",
    "- 'unrepaired_damage'\n",
    "\n",
    "\n",
    "'date_crawled'\n",
    "'name'\n",
    "'vehicle_type'\n",
    "'model'\n",
    "'fuel_type'\n",
    "'brand'\n",
    "'ad_created'\n",
    "'last_seen'\n",
    "\n",
    "\n",
    "Columns wit numeric values but in the dataset were storage as strings are:\n",
    "\n",
    "- 'price'\n",
    "- 'odometer'"
   ]
  },
  {
   "cell_type": "code",
   "execution_count": 146,
   "metadata": {},
   "outputs": [
    {
     "data": {
      "text/plain": [
       "array(['0km'], dtype=object)"
      ]
     },
     "execution_count": 146,
     "metadata": {},
     "output_type": "execute_result"
    }
   ],
   "source": [
    "autos['odometer'].str[-3:].unique()"
   ]
  },
  {
   "cell_type": "markdown",
   "metadata": {},
   "source": [
    "#### String methods\n",
    "\n",
    "[pandas.Series.str.replace](https://pandas.pydata.org/docs/reference/api/pandas.Series.str.replace.html)"
   ]
  },
  {
   "cell_type": "code",
   "execution_count": 147,
   "metadata": {},
   "outputs": [],
   "source": [
    "autos['odometer'] = autos['odometer'].str.replace('km', '').str.replace(',', '').astype(int)"
   ]
  },
  {
   "cell_type": "code",
   "execution_count": 148,
   "metadata": {},
   "outputs": [
    {
     "name": "stdout",
     "output_type": "stream",
     "text": [
      "0    150000\n",
      "1    150000\n",
      "2     70000\n",
      "3     70000\n",
      "4    150000\n",
      "Name: odometer, dtype: int64\n"
     ]
    }
   ],
   "source": [
    "print(autos['odometer'].head())"
   ]
  },
  {
   "cell_type": "markdown",
   "metadata": {},
   "source": [
    "#### Rename Columns\n",
    "\n",
    "[pandas.DataFrame.rename](https://pandas.pydata.org/docs/reference/api/pandas.DataFrame.rename.html)"
   ]
  },
  {
   "cell_type": "code",
   "execution_count": 149,
   "metadata": {},
   "outputs": [],
   "source": [
    "autos.rename(columns={'odometer': 'odometer_km'}, inplace=True)"
   ]
  },
  {
   "cell_type": "code",
   "execution_count": 150,
   "metadata": {},
   "outputs": [
    {
     "data": {
      "text/plain": [
       "['date_crawled',\n",
       " 'name',\n",
       " 'seller',\n",
       " 'offer_type',\n",
       " 'price',\n",
       " 'abtest',\n",
       " 'vehicle_type',\n",
       " 'registration_year',\n",
       " 'gearbox',\n",
       " 'power_ps',\n",
       " 'model',\n",
       " 'odometer_km',\n",
       " 'registration_month',\n",
       " 'fuel_type',\n",
       " 'brand',\n",
       " 'unrepaired_damage',\n",
       " 'ad_created',\n",
       " 'nr_of_pictures',\n",
       " 'postal_code',\n",
       " 'last_seen']"
      ]
     },
     "execution_count": 150,
     "metadata": {},
     "output_type": "execute_result"
    }
   ],
   "source": [
    "autos.columns.tolist()"
   ]
  },
  {
   "cell_type": "code",
   "execution_count": 151,
   "metadata": {},
   "outputs": [],
   "source": [
    "autos['price'] = autos['price'].str.replace('$', '').str.replace(',', '').astype(int)"
   ]
  },
  {
   "cell_type": "code",
   "execution_count": 152,
   "metadata": {},
   "outputs": [
    {
     "name": "stdout",
     "output_type": "stream",
     "text": [
      "['price', 'registration_year', 'power_ps', 'odometer_km', 'registration_month', 'nr_of_pictures', 'postal_code']\n"
     ]
    }
   ],
   "source": [
    "print(autos.dtypes[autos.dtypes == int].index.tolist())"
   ]
  },
  {
   "cell_type": "markdown",
   "metadata": {},
   "source": [
    "# Part 04"
   ]
  },
  {
   "cell_type": "code",
   "execution_count": 153,
   "metadata": {},
   "outputs": [
    {
     "name": "stdout",
     "output_type": "stream",
     "text": [
      "(2357,)\n"
     ]
    }
   ],
   "source": [
    "print(autos['price'].unique().shape)"
   ]
  },
  {
   "cell_type": "code",
   "execution_count": 154,
   "metadata": {},
   "outputs": [
    {
     "name": "stdout",
     "output_type": "stream",
     "text": [
      "count      50000.00\n",
      "mean        9840.04\n",
      "std       481104.38\n",
      "min            0.00\n",
      "25%         1100.00\n",
      "50%         2950.00\n",
      "75%         7200.00\n",
      "max     99999999.00\n",
      "Name: price, dtype: float64\n"
     ]
    }
   ],
   "source": [
    "print(autos['price'].describe())"
   ]
  },
  {
   "cell_type": "code",
   "execution_count": 155,
   "metadata": {},
   "outputs": [
    {
     "name": "stdout",
     "output_type": "stream",
     "text": [
      "0        1421\n",
      "500       781\n",
      "1500      734\n",
      "2500      643\n",
      "1000      639\n",
      "         ... \n",
      "20790       1\n",
      "8970        1\n",
      "846         1\n",
      "2895        1\n",
      "33980       1\n",
      "Name: price, Length: 2357, dtype: int64 \n",
      " ----------------------------------------\n",
      "0       1421\n",
      "500      781\n",
      "1500     734\n",
      "2500     643\n",
      "1000     639\n",
      "Name: price, dtype: int64 \n",
      " ----------------------------------------\n",
      "20790    1\n",
      "8970     1\n",
      "846      1\n",
      "2895     1\n",
      "33980    1\n",
      "Name: price, dtype: int64\n"
     ]
    }
   ],
   "source": [
    "print(autos['price'].value_counts(), '\\n', '-'*40)\n",
    "print(autos['price'].value_counts().head(), '\\n', '-' * 40)\n",
    "print(autos['price'].value_counts().tail())"
   ]
  },
  {
   "cell_type": "markdown",
   "metadata": {},
   "source": [
    "#### Pandas `sort_index`\n",
    "\n",
    "[pandas.Series.sort_index](https://pandas.pydata.org/docs/reference/api/pandas.Series.sort_index.html)"
   ]
  },
  {
   "cell_type": "code",
   "execution_count": 156,
   "metadata": {},
   "outputs": [
    {
     "name": "stdout",
     "output_type": "stream",
     "text": [
      "99999999    1\n",
      "27322222    1\n",
      "12345678    3\n",
      "11111111    2\n",
      "10000000    1\n",
      "Name: price, dtype: int64\n"
     ]
    }
   ],
   "source": [
    "print(autos['price'].value_counts().sort_index(ascending=False).head())"
   ]
  },
  {
   "cell_type": "code",
   "execution_count": 157,
   "metadata": {},
   "outputs": [
    {
     "name": "stdout",
     "output_type": "stream",
     "text": [
      "0    1421\n",
      "1     156\n",
      "2       3\n",
      "3       1\n",
      "5       2\n",
      "Name: price, dtype: int64\n"
     ]
    }
   ],
   "source": [
    "print(autos['price'].value_counts().sort_index().head())"
   ]
  },
  {
   "cell_type": "markdown",
   "metadata": {},
   "source": [
    "#### Pandas between\n",
    "\n",
    "[pandas.Series.between](https://pandas.pydata.org/docs/reference/api/pandas.Series.between.html)"
   ]
  },
  {
   "cell_type": "code",
   "execution_count": 158,
   "metadata": {},
   "outputs": [
    {
     "name": "stdout",
     "output_type": "stream",
     "text": [
      "0.00278\n",
      "0.03792\n"
     ]
    }
   ],
   "source": [
    "print(139 / (139 + 49861))\n",
    "print(1896 / (1896 + 48104))"
   ]
  },
  {
   "cell_type": "code",
   "execution_count": 159,
   "metadata": {},
   "outputs": [
    {
     "name": "stdout",
     "output_type": "stream",
     "text": [
      "False    49861\n",
      "True       139\n",
      "Name: price, dtype: int64\n",
      "----------------------------------------\n",
      "False    48104\n",
      "True      1896\n",
      "Name: price, dtype: int64\n",
      "----------------------------------------\n",
      "True     48412\n",
      "False     1588\n",
      "Name: price, dtype: int64\n"
     ]
    }
   ],
   "source": [
    "print(autos['price'].between(60_000, 99_999_999).value_counts())\n",
    "print('-' * 40)\n",
    "print(autos['price'].between(0,100).value_counts())\n",
    "print('-' * 40)\n",
    "print(autos['price'].between(5,10_000_000).value_counts())"
   ]
  },
  {
   "cell_type": "code",
   "execution_count": 160,
   "metadata": {},
   "outputs": [],
   "source": [
    "price_between_5and10million = autos['price'].between(1000, 8_000)\n"
   ]
  },
  {
   "cell_type": "code",
   "execution_count": 161,
   "metadata": {},
   "outputs": [
    {
     "name": "stdout",
     "output_type": "stream",
     "text": [
      "1000    639\n",
      "1039      1\n",
      "1040      1\n",
      "1049      6\n",
      "1050     95\n",
      "       ... \n",
      "7985      1\n",
      "7990     70\n",
      "7995      2\n",
      "7999    115\n",
      "8000    161\n",
      "Name: price, Length: 794, dtype: int64\n"
     ]
    }
   ],
   "source": [
    "print(autos.loc[price_between_5and10million, 'price'].value_counts().sort_index())"
   ]
  },
  {
   "cell_type": "code",
   "execution_count": 162,
   "metadata": {},
   "outputs": [
    {
     "name": "stdout",
     "output_type": "stream",
     "text": [
      "8000    161\n",
      "7999    115\n",
      "7995      2\n",
      "7990     70\n",
      "7985      1\n",
      "       ... \n",
      "1050     95\n",
      "1049      6\n",
      "1040      1\n",
      "1039      1\n",
      "1000    639\n",
      "Name: price, Length: 794, dtype: int64\n"
     ]
    }
   ],
   "source": [
    "print(autos.loc[price_between_5and10million, 'price'].value_counts().sort_index(ascending=False))"
   ]
  },
  {
   "cell_type": "code",
   "execution_count": 163,
   "metadata": {},
   "outputs": [
    {
     "name": "stdout",
     "output_type": "stream",
     "text": [
      "count   27811.00\n",
      "mean     3481.80\n",
      "std      1978.07\n",
      "min      1000.00\n",
      "25%      1800.00\n",
      "50%      2990.00\n",
      "75%      4900.00\n",
      "max      8000.00\n",
      "Name: price, dtype: float64\n"
     ]
    }
   ],
   "source": [
    "print(autos.loc[price_between_5and10million, 'price'].describe())"
   ]
  },
  {
   "cell_type": "markdown",
   "metadata": {},
   "source": [
    "### Odometer analysis"
   ]
  },
  {
   "cell_type": "code",
   "execution_count": 164,
   "metadata": {},
   "outputs": [
    {
     "name": "stdout",
     "output_type": "stream",
     "text": [
      "(13,)\n"
     ]
    }
   ],
   "source": [
    "print(autos['odometer_km'].unique().shape)\n"
   ]
  },
  {
   "cell_type": "code",
   "execution_count": 165,
   "metadata": {},
   "outputs": [
    {
     "name": "stdout",
     "output_type": "stream",
     "text": [
      "count    50000.00\n",
      "mean    125732.70\n",
      "std      40042.21\n",
      "min       5000.00\n",
      "25%     125000.00\n",
      "50%     150000.00\n",
      "75%     150000.00\n",
      "max     150000.00\n",
      "Name: odometer_km, dtype: float64\n"
     ]
    }
   ],
   "source": [
    "print(autos['odometer_km'].describe())"
   ]
  },
  {
   "cell_type": "code",
   "execution_count": 166,
   "metadata": {},
   "outputs": [
    {
     "name": "stdout",
     "output_type": "stream",
     "text": [
      "150000    32424\n",
      "125000     5170\n",
      "100000     2169\n",
      "90000      1757\n",
      "80000      1436\n",
      "70000      1230\n",
      "60000      1164\n",
      "50000      1027\n",
      "5000        967\n",
      "40000       819\n",
      "30000       789\n",
      "20000       784\n",
      "10000       264\n",
      "Name: odometer_km, dtype: int64\n"
     ]
    }
   ],
   "source": [
    "print(autos['odometer_km'].value_counts())"
   ]
  },
  {
   "cell_type": "code",
   "execution_count": 167,
   "metadata": {},
   "outputs": [
    {
     "name": "stdout",
     "output_type": "stream",
     "text": [
      "5000        967\n",
      "10000       264\n",
      "20000       784\n",
      "30000       789\n",
      "40000       819\n",
      "50000      1027\n",
      "60000      1164\n",
      "70000      1230\n",
      "80000      1436\n",
      "90000      1757\n",
      "100000     2169\n",
      "125000     5170\n",
      "150000    32424\n",
      "Name: odometer_km, dtype: int64\n",
      "----------------------------------------\n",
      "150000    32424\n",
      "125000     5170\n",
      "100000     2169\n",
      "90000      1757\n",
      "80000      1436\n",
      "70000      1230\n",
      "60000      1164\n",
      "50000      1027\n",
      "40000       819\n",
      "30000       789\n",
      "20000       784\n",
      "10000       264\n",
      "5000        967\n",
      "Name: odometer_km, dtype: int64\n"
     ]
    }
   ],
   "source": [
    "print(autos['odometer_km'].value_counts().sort_index())\n",
    "print('-' * 40) \n",
    "print(autos['odometer_km'].value_counts().sort_index(ascending=False))"
   ]
  },
  {
   "cell_type": "code",
   "execution_count": 168,
   "metadata": {},
   "outputs": [
    {
     "name": "stdout",
     "output_type": "stream",
     "text": [
      "count    49033.00\n",
      "mean    128113.72\n",
      "std      36631.38\n",
      "min      10000.00\n",
      "25%     125000.00\n",
      "50%     150000.00\n",
      "75%     150000.00\n",
      "max     150000.00\n",
      "Name: odometer_km, dtype: float64\n"
     ]
    }
   ],
   "source": [
    "odometer_between = autos['odometer_km'].between(10_000, 150_000)\n",
    "print(autos.loc[odometer_between, 'odometer_km'].describe())"
   ]
  },
  {
   "cell_type": "markdown",
   "metadata": {},
   "source": [
    "# Part05"
   ]
  },
  {
   "cell_type": "code",
   "execution_count": 169,
   "metadata": {},
   "outputs": [
    {
     "name": "stdout",
     "output_type": "stream",
     "text": [
      "Index(['date_crawled', 'name', 'seller', 'offer_type', 'price', 'abtest',\n",
      "       'vehicle_type', 'registration_year', 'gearbox', 'power_ps', 'model',\n",
      "       'odometer_km', 'registration_month', 'fuel_type', 'brand',\n",
      "       'unrepaired_damage', 'ad_created', 'nr_of_pictures', 'postal_code',\n",
      "       'last_seen'],\n",
      "      dtype='object')\n"
     ]
    }
   ],
   "source": [
    "print(autos.columns)"
   ]
  },
  {
   "cell_type": "code",
   "execution_count": 170,
   "metadata": {},
   "outputs": [
    {
     "name": "stdout",
     "output_type": "stream",
     "text": [
      "          date_crawled           ad_created            last_seen\n",
      "0  2016-03-26 17:47:46  2016-03-26 00:00:00  2016-04-06 06:45:54\n",
      "1  2016-04-04 13:38:56  2016-04-04 00:00:00  2016-04-06 14:45:08\n",
      "2  2016-03-26 18:57:24  2016-03-26 00:00:00  2016-04-06 20:15:37\n",
      "3  2016-03-12 16:58:10  2016-03-12 00:00:00  2016-03-15 03:16:28\n",
      "4  2016-04-01 14:38:50  2016-04-01 00:00:00  2016-04-01 14:38:50\n"
     ]
    }
   ],
   "source": [
    "print(autos[['date_crawled', 'ad_created', 'last_seen']].head())"
   ]
  },
  {
   "cell_type": "code",
   "execution_count": 171,
   "metadata": {},
   "outputs": [
    {
     "name": "stdout",
     "output_type": "stream",
     "text": [
      "0    2016-03-26\n",
      "1    2016-04-04\n",
      "2    2016-03-26\n",
      "3    2016-03-12\n",
      "4    2016-04-01\n",
      "Name: date_crawled, dtype: object\n"
     ]
    }
   ],
   "source": [
    "print(autos['date_crawled'].str[:10].head())"
   ]
  },
  {
   "cell_type": "markdown",
   "metadata": {},
   "source": [
    "#### Value counts\n",
    "[pandas.Series.value_counts](https://pandas.pydata.org/docs/reference/api/pandas.Series.value_counts.html)"
   ]
  },
  {
   "cell_type": "code",
   "execution_count": 172,
   "metadata": {},
   "outputs": [
    {
     "name": "stdout",
     "output_type": "stream",
     "text": [
      "2016-04-03   0.04\n",
      "2016-03-20   0.04\n",
      "2016-03-21   0.04\n",
      "2016-03-12   0.04\n",
      "2016-03-14   0.04\n",
      "2016-04-04   0.04\n",
      "2016-03-07   0.04\n",
      "2016-04-02   0.04\n",
      "2016-03-19   0.03\n",
      "2016-03-28   0.03\n",
      "2016-03-29   0.03\n",
      "2016-03-15   0.03\n",
      "2016-04-01   0.03\n",
      "2016-03-30   0.03\n",
      "2016-03-08   0.03\n",
      "2016-03-09   0.03\n",
      "2016-03-22   0.03\n",
      "2016-03-26   0.03\n",
      "2016-03-11   0.03\n",
      "2016-03-23   0.03\n",
      "2016-03-10   0.03\n",
      "2016-03-31   0.03\n",
      "2016-03-25   0.03\n",
      "2016-03-17   0.03\n",
      "2016-03-27   0.03\n",
      "2016-03-16   0.03\n",
      "2016-03-24   0.03\n",
      "2016-03-05   0.03\n",
      "2016-03-13   0.02\n",
      "2016-03-06   0.01\n",
      "2016-04-05   0.01\n",
      "2016-03-18   0.01\n",
      "2016-04-06   0.00\n",
      "2016-04-07   0.00\n",
      "Name: date_crawled, dtype: float64\n"
     ]
    }
   ],
   "source": [
    "print(autos['date_crawled'].str[:10].value_counts(normalize=True, dropna=False))"
   ]
  },
  {
   "cell_type": "code",
   "execution_count": 173,
   "metadata": {},
   "outputs": [
    {
     "name": "stdout",
     "output_type": "stream",
     "text": [
      "2016-03-05   0.03\n",
      "2016-03-06   0.01\n",
      "2016-03-07   0.04\n",
      "2016-03-08   0.03\n",
      "2016-03-09   0.03\n",
      "2016-03-10   0.03\n",
      "2016-03-11   0.03\n",
      "2016-03-12   0.04\n",
      "2016-03-13   0.02\n",
      "2016-03-14   0.04\n",
      "2016-03-15   0.03\n",
      "2016-03-16   0.03\n",
      "2016-03-17   0.03\n",
      "2016-03-18   0.01\n",
      "2016-03-19   0.03\n",
      "2016-03-20   0.04\n",
      "2016-03-21   0.04\n",
      "2016-03-22   0.03\n",
      "2016-03-23   0.03\n",
      "2016-03-24   0.03\n",
      "2016-03-25   0.03\n",
      "2016-03-26   0.03\n",
      "2016-03-27   0.03\n",
      "2016-03-28   0.03\n",
      "2016-03-29   0.03\n",
      "2016-03-30   0.03\n",
      "2016-03-31   0.03\n",
      "2016-04-01   0.03\n",
      "2016-04-02   0.04\n",
      "2016-04-03   0.04\n",
      "2016-04-04   0.04\n",
      "2016-04-05   0.01\n",
      "2016-04-06   0.00\n",
      "2016-04-07   0.00\n",
      "Name: date_crawled, dtype: float64\n"
     ]
    }
   ],
   "source": [
    "print(\n",
    "    autos['date_crawled'].str[:10].value_counts(normalize=True, dropna=False).sort_index()\n",
    ")"
   ]
  },
  {
   "cell_type": "code",
   "execution_count": 174,
   "metadata": {},
   "outputs": [
    {
     "name": "stdout",
     "output_type": "stream",
     "text": [
      "0        2016-03-26\n",
      "1        2016-04-04\n",
      "2        2016-03-26\n",
      "3        2016-03-12\n",
      "4        2016-04-01\n",
      "            ...    \n",
      "49995    2016-03-27\n",
      "49996    2016-03-28\n",
      "49997    2016-04-02\n",
      "49998    2016-03-08\n",
      "49999    2016-03-13\n",
      "Name: ad_created, Length: 50000, dtype: object\n"
     ]
    }
   ],
   "source": [
    "print(autos['ad_created'].str.split(' ').map(lambda x: x[0]))"
   ]
  },
  {
   "cell_type": "code",
   "execution_count": 175,
   "metadata": {},
   "outputs": [
    {
     "name": "stdout",
     "output_type": "stream",
     "text": [
      "2015-06-11   0.00\n",
      "2015-08-10   0.00\n",
      "2015-09-09   0.00\n",
      "2015-11-10   0.00\n",
      "2015-12-05   0.00\n",
      "             ... \n",
      "2016-04-03   0.04\n",
      "2016-04-04   0.04\n",
      "2016-04-05   0.01\n",
      "2016-04-06   0.00\n",
      "2016-04-07   0.00\n",
      "Name: ad_created, Length: 76, dtype: float64\n"
     ]
    }
   ],
   "source": [
    "print(autos['ad_created'].str.split(' ').map(lambda x: x[0]).value_counts(normalize=True, dropna=False).sort_index())"
   ]
  },
  {
   "cell_type": "code",
   "execution_count": 176,
   "metadata": {},
   "outputs": [
    {
     "name": "stdout",
     "output_type": "stream",
     "text": [
      "2016-04-07   0.00\n",
      "2016-04-06   0.00\n",
      "2016-04-05   0.01\n",
      "2016-04-04   0.04\n",
      "2016-04-03   0.04\n",
      "             ... \n",
      "2015-12-05   0.00\n",
      "2015-11-10   0.00\n",
      "2015-09-09   0.00\n",
      "2015-08-10   0.00\n",
      "2015-06-11   0.00\n",
      "Name: ad_created, Length: 76, dtype: float64\n"
     ]
    }
   ],
   "source": [
    "print(autos['ad_created'].str.split(' ').map(lambda x: x[0]).value_counts(normalize=True, dropna=False).sort_index(ascending=False))"
   ]
  },
  {
   "cell_type": "code",
   "execution_count": 177,
   "metadata": {},
   "outputs": [
    {
     "name": "stdout",
     "output_type": "stream",
     "text": [
      "2016-03-05   0.00\n",
      "2016-03-06   0.00\n",
      "2016-03-07   0.01\n",
      "2016-03-08   0.01\n",
      "2016-03-09   0.01\n",
      "2016-03-10   0.01\n",
      "2016-03-11   0.01\n",
      "2016-03-12   0.02\n",
      "2016-03-13   0.01\n",
      "2016-03-14   0.01\n",
      "2016-03-15   0.02\n",
      "2016-03-16   0.02\n",
      "2016-03-17   0.03\n",
      "2016-03-18   0.01\n",
      "2016-03-19   0.02\n",
      "2016-03-20   0.02\n",
      "2016-03-21   0.02\n",
      "2016-03-22   0.02\n",
      "2016-03-23   0.02\n",
      "2016-03-24   0.02\n",
      "2016-03-25   0.02\n",
      "2016-03-26   0.02\n",
      "2016-03-27   0.02\n",
      "2016-03-28   0.02\n",
      "2016-03-29   0.02\n",
      "2016-03-30   0.02\n",
      "2016-03-31   0.02\n",
      "2016-04-01   0.02\n",
      "2016-04-02   0.02\n",
      "2016-04-03   0.03\n",
      "2016-04-04   0.02\n",
      "2016-04-05   0.12\n",
      "2016-04-06   0.22\n",
      "2016-04-07   0.13\n",
      "Name: last_seen, dtype: float64\n"
     ]
    }
   ],
   "source": [
    "print(autos['last_seen'].str.split().map(lambda x:x[0]).value_counts(normalize=True, dropna=False).sort_index())"
   ]
  },
  {
   "cell_type": "code",
   "execution_count": 178,
   "metadata": {},
   "outputs": [
    {
     "name": "stdout",
     "output_type": "stream",
     "text": [
      "0    2004\n",
      "1    1997\n",
      "2    2009\n",
      "3    2007\n",
      "4    2003\n",
      "Name: registration_year, dtype: int64\n"
     ]
    }
   ],
   "source": [
    "print(autos['registration_year'].head())"
   ]
  },
  {
   "cell_type": "code",
   "execution_count": 179,
   "metadata": {},
   "outputs": [
    {
     "name": "stdout",
     "output_type": "stream",
     "text": [
      "count   50000.00\n",
      "mean     2005.07\n",
      "std       105.71\n",
      "min      1000.00\n",
      "25%      1999.00\n",
      "50%      2003.00\n",
      "75%      2008.00\n",
      "max      9999.00\n",
      "Name: registration_year, dtype: float64\n"
     ]
    }
   ],
   "source": [
    "print(\n",
    "autos['registration_year'].describe()\n",
    ")"
   ]
  },
  {
   "cell_type": "code",
   "execution_count": 180,
   "metadata": {},
   "outputs": [
    {
     "name": "stdout",
     "output_type": "stream",
     "text": [
      "1000    1\n",
      "1001    1\n",
      "1111    1\n",
      "1500    1\n",
      "1800    2\n",
      "       ..\n",
      "6200    1\n",
      "8888    1\n",
      "9000    2\n",
      "9996    1\n",
      "9999    4\n",
      "Name: registration_year, Length: 97, dtype: int64\n"
     ]
    }
   ],
   "source": [
    "print(\n",
    "autos['registration_year'].value_counts().sort_index()\n",
    ")"
   ]
  },
  {
   "cell_type": "code",
   "execution_count": 181,
   "metadata": {},
   "outputs": [
    {
     "name": "stdout",
     "output_type": "stream",
     "text": [
      "Int64Index([1000, 1001, 1111, 1500, 1800, 1910, 1927, 1929, 1931, 1934, 1937,\n",
      "            1938, 1939, 1941, 1943, 1948, 1950, 1951, 1952, 1953, 1954, 1955,\n",
      "            1956, 1957, 1958, 1959, 1960, 1961, 1962, 1963, 1964, 1965, 1966,\n",
      "            1967, 1968, 1969, 1970, 1971, 1972, 1973, 1974, 1975, 1976, 1977,\n",
      "            1978, 1979, 1980, 1981, 1982, 1983, 1984, 1985, 1986, 1987, 1988,\n",
      "            1989, 1990, 1991, 1992, 1993, 1994, 1995, 1996, 1997, 1998, 1999,\n",
      "            2000, 2001, 2002, 2003, 2004, 2005, 2006, 2007, 2008, 2009, 2010,\n",
      "            2011, 2012, 2013, 2014, 2015, 2016, 2017, 2018, 2019, 2800, 4100,\n",
      "            4500, 4800, 5000, 5911, 6200, 8888, 9000, 9996, 9999],\n",
      "           dtype='int64')\n"
     ]
    }
   ],
   "source": [
    "print(\n",
    "    autos['registration_year'].value_counts().sort_index().index\n",
    "     )"
   ]
  },
  {
   "cell_type": "code",
   "execution_count": 182,
   "metadata": {},
   "outputs": [
    {
     "name": "stdout",
     "output_type": "stream",
     "text": [
      "count   50000.00\n",
      "mean        5.72\n",
      "std         3.71\n",
      "min         0.00\n",
      "25%         3.00\n",
      "50%         6.00\n",
      "75%         9.00\n",
      "max        12.00\n",
      "Name: registration_month, dtype: float64\n"
     ]
    }
   ],
   "source": [
    "print(\n",
    "autos['registration_month'].describe()\n",
    ")"
   ]
  },
  {
   "cell_type": "code",
   "execution_count": 183,
   "metadata": {},
   "outputs": [
    {
     "name": "stdout",
     "output_type": "stream",
     "text": [
      "0    5075\n",
      "3    5071\n",
      "6    4368\n",
      "5    4107\n",
      "4    4102\n",
      "Name: registration_month, dtype: int64\n"
     ]
    }
   ],
   "source": [
    "print(\n",
    "autos['registration_month'].value_counts().head()\n",
    ")"
   ]
  },
  {
   "cell_type": "markdown",
   "metadata": {},
   "source": [
    "# Part06"
   ]
  },
  {
   "cell_type": "code",
   "execution_count": 184,
   "metadata": {},
   "outputs": [
    {
     "name": "stdout",
     "output_type": "stream",
     "text": [
      "1950   0.00\n",
      "1951   0.00\n",
      "1952   0.00\n",
      "1953   0.00\n",
      "1954   0.00\n",
      "       ... \n",
      "2015   0.01\n",
      "2016   0.03\n",
      "2017   0.03\n",
      "2018   0.01\n",
      "2019   0.00\n",
      "Name: registration_year, Length: 70, dtype: float64\n"
     ]
    }
   ],
   "source": [
    "\n",
    "year_between = autos['registration_year'].between(1950, 2019)\n",
    "autos = autos.loc[year_between]\n",
    "print(autos['registration_year'].value_counts(normalize=True).sort_index())\n"
   ]
  },
  {
   "cell_type": "markdown",
   "metadata": {},
   "source": [
    "# Part07"
   ]
  },
  {
   "cell_type": "code",
   "execution_count": 185,
   "metadata": {},
   "outputs": [
    {
     "data": {
      "text/plain": [
       "array(['peugeot', 'bmw', 'volkswagen', 'smart', 'ford', 'chrysler',\n",
       "       'seat', 'renault', 'mercedes_benz', 'audi', 'sonstige_autos',\n",
       "       'opel', 'mazda', 'porsche', 'mini', 'toyota', 'dacia', 'nissan',\n",
       "       'jeep', 'saab', 'volvo', 'mitsubishi', 'jaguar', 'fiat', 'skoda',\n",
       "       'subaru', 'kia', 'citroen', 'chevrolet', 'hyundai', 'honda',\n",
       "       'daewoo', 'suzuki', 'trabant', 'land_rover', 'alfa_romeo', 'lada',\n",
       "       'rover', 'daihatsu', 'lancia'], dtype=object)"
      ]
     },
     "execution_count": 185,
     "metadata": {},
     "output_type": "execute_result"
    }
   ],
   "source": [
    "autos['brand'].unique()"
   ]
  },
  {
   "cell_type": "markdown",
   "metadata": {},
   "source": [
    "[pandas.Series.values](https://pandas.pydata.org/docs/reference/api/pandas.Series.values.html#pandas.Series.values)"
   ]
  },
  {
   "cell_type": "code",
   "execution_count": 186,
   "metadata": {},
   "outputs": [
    {
     "data": {
      "text/plain": [
       "array(['volkswagen', 'opel', 'bmw', 'mercedes_benz', 'audi', 'ford'],\n",
       "      dtype=object)"
      ]
     },
     "execution_count": 186,
     "metadata": {},
     "output_type": "execute_result"
    }
   ],
   "source": [
    "brand_bool = (autos['brand'].value_counts(normalize=True) > 0.05).values\n",
    "brand_names = autos['brand'].value_counts(normalize=True)[brand_bool].index.values\n",
    "brand_names"
   ]
  },
  {
   "cell_type": "code",
   "execution_count": 187,
   "metadata": {},
   "outputs": [
    {
     "name": "stdout",
     "output_type": "stream",
     "text": [
      "date_crawled          object\n",
      "name                  object\n",
      "seller                object\n",
      "offer_type            object\n",
      "price                  int64\n",
      "abtest                object\n",
      "vehicle_type          object\n",
      "registration_year      int64\n",
      "gearbox               object\n",
      "power_ps               int64\n",
      "model                 object\n",
      "odometer_km            int64\n",
      "registration_month     int64\n",
      "fuel_type             object\n",
      "brand                 object\n",
      "unrepaired_damage     object\n",
      "ad_created            object\n",
      "nr_of_pictures         int64\n",
      "postal_code            int64\n",
      "last_seen             object\n",
      "dtype: object\n"
     ]
    }
   ],
   "source": [
    "print(autos.dtypes)"
   ]
  },
  {
   "cell_type": "code",
   "execution_count": 189,
   "metadata": {},
   "outputs": [
    {
     "name": "stdout",
     "output_type": "stream",
     "text": [
      "{'volkswagen': 6382, 'opel': 5106, 'bmw': 8253, 'mercedes_benz': 29517, 'audi': 8965, 'ford': 7097}\n"
     ]
    }
   ],
   "source": [
    "mean_price = {}\n",
    "\n",
    "\n",
    "for brand in brand_names:\n",
    "    meanprice = autos.loc[autos['brand'] == brand, 'price'].mean()\n",
    "    mean_price[brand] = int(meanprice)\n",
    "\n",
    "print(mean_price)"
   ]
  },
  {
   "cell_type": "code",
   "execution_count": 193,
   "metadata": {},
   "outputs": [],
   "source": [
    "mileage_by_brand = {}\n",
    "for brand in brand_names:\n",
    "    brand_autos = autos[autos['brand'] == brand]\n",
    "    mileage = brand_autos['odometer_km'].mean()\n",
    "    mileage_by_brand[brand] = int(mileage)"
   ]
  },
  {
   "cell_type": "code",
   "execution_count": 196,
   "metadata": {},
   "outputs": [
    {
     "data": {
      "text/plain": [
       "opel              5106\n",
       "volkswagen        6382\n",
       "ford              7097\n",
       "bmw               8253\n",
       "audi              8965\n",
       "mercedes_benz    29517\n",
       "dtype: int64"
      ]
     },
     "execution_count": 196,
     "metadata": {},
     "output_type": "execute_result"
    }
   ],
   "source": [
    "series_mileage = pd.Series(mileage_by_brand)\n",
    "series_price = pd.Series(mean_price)\n",
    "series_price.sort_values()"
   ]
  },
  {
   "cell_type": "code",
   "execution_count": 197,
   "metadata": {},
   "outputs": [],
   "source": [
    "df = pd.DataFrame(series_price, columns=['mean_price'])\n",
    "df['mean_mileage_km'] = series_mileage"
   ]
  },
  {
   "cell_type": "code",
   "execution_count": 198,
   "metadata": {},
   "outputs": [
    {
     "name": "stdout",
     "output_type": "stream",
     "text": [
      "               mean_price  mean_mileage_km\n",
      "volkswagen           6382           129015\n",
      "opel                 5106           129389\n",
      "bmw                  8253           132567\n",
      "mercedes_benz       29517           130978\n",
      "audi                 8965           129643\n",
      "ford                 7097           124233\n"
     ]
    }
   ],
   "source": [
    "print(df)"
   ]
  },
  {
   "cell_type": "code",
   "execution_count": null,
   "metadata": {},
   "outputs": [],
   "source": []
  }
 ],
 "metadata": {
  "kernelspec": {
   "display_name": "Python 3",
   "language": "python",
   "name": "python3"
  },
  "language_info": {
   "codemirror_mode": {
    "name": "ipython",
    "version": 3
   },
   "file_extension": ".py",
   "mimetype": "text/x-python",
   "name": "python",
   "nbconvert_exporter": "python",
   "pygments_lexer": "ipython3",
   "version": "3.8.2"
  }
 },
 "nbformat": 4,
 "nbformat_minor": 2
}
