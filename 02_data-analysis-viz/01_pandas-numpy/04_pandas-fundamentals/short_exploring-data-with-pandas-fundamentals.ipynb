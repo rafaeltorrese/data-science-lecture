{
 "cells": [
  {
   "cell_type": "markdown",
   "id": "483c4413",
   "metadata": {},
   "source": [
    "<center><h1>Exploración de Datos con Pandas</h1></center>"
   ]
  },
  {
   "cell_type": "markdown",
   "id": "00edb1ba",
   "metadata": {},
   "source": [
    "<h2>01. Introducción a los Datos</h2>\n",
    "<h3>Ejercicio</h3>\n",
    "\n",
    "<div id=\"body\" class=\"dq-lesson-container dq-lesson-markup dq-lesson-learn-instructions\"><p>Ya hemos leído el conjunto de datos en un dataframe de pandas y lo hemos asignado a una variable llamado <code>f500</code>.</p>\n",
    "<ol>\n",
    "<li>Use el método <code>DataFrame.head()</code> para seleccionar las primeras 10 filas en <code>f500</code>. Asigne el resultado a <code>f500_head</code>.</li>\n",
    "<li>Utilice el método <code>DataFrame.info()</code> para mostrar información sobre el dataframe.</li>\n",
    "</ol></div>"
   ]
  },
  {
   "cell_type": "code",
   "execution_count": null,
   "id": "8e1ab764",
   "metadata": {},
   "outputs": [],
   "source": [
    "import numpy as np\n",
    "import pandas as pd"
   ]
  },
  {
   "cell_type": "code",
   "execution_count": null,
   "id": "bc59cfa2",
   "metadata": {},
   "outputs": [],
   "source": [
    "f500 = pd.read_csv('f500.csv',index_col=0)\n",
    "f500.index.name = None"
   ]
  },
  {
   "cell_type": "code",
   "execution_count": null,
   "id": "3d28c898",
   "metadata": {},
   "outputs": [],
   "source": [
    "f500_head = f500.head(10)"
   ]
  },
  {
   "cell_type": "code",
   "execution_count": null,
   "id": "7619281a",
   "metadata": {},
   "outputs": [],
   "source": [
    "f500_head"
   ]
  },
  {
   "cell_type": "code",
   "execution_count": null,
   "id": "11af1860",
   "metadata": {},
   "outputs": [],
   "source": [
    "f500_head.info()"
   ]
  },
  {
   "cell_type": "markdown",
   "id": "f87f7380",
   "metadata": {},
   "source": [
    "<h2>02. Operaciones Vectorizadas</h2>\n",
    "\n",
    "<h3>Ejercicio</h3>\n",
    "<ol>\n",
    "<li>Reste los valores de la columna <code>rank</code> de los valores de la columna <code>previous_rank</code>. Asigne el resultado a <code>rank_change</code>.</li>\n",
    "</ol>"
   ]
  },
  {
   "cell_type": "code",
   "execution_count": null,
   "id": "9c95a196",
   "metadata": {},
   "outputs": [],
   "source": [
    "rank_change = f500['previous_rank'] - f500['rank']"
   ]
  },
  {
   "cell_type": "code",
   "execution_count": null,
   "id": "67aa8723",
   "metadata": {},
   "outputs": [],
   "source": [
    "print(rank_change)"
   ]
  },
  {
   "cell_type": "markdown",
   "id": "937a294b",
   "metadata": {},
   "source": [
    "<h2>03. Serie de métodos de exploración de datos</h2>\n",
    "\n",
    "<h3>Ejercicio</h3>\n",
    "<ol><li>Utilice el método <code>Series.max()</code> para encontrar el valor máximo para la serie <code>rank_change</code>. Asigne el resultado a la variable <code>rank_change_max</code> .</li>\n",
    "<li>Use el método <code>Series.min()</code> para encontrar el valor mínimo para la serie <code>rank_change</code>. Asigne el resultado a la variable <code>rank_change_min</code> .</li>\n",
    "<li>Después de ejecutar su código, imprima los resultados.</li></ol>"
   ]
  },
  {
   "cell_type": "code",
   "execution_count": null,
   "id": "ececea72",
   "metadata": {},
   "outputs": [],
   "source": [
    "rank_change =  f500[\"previous_rank\"] - f500[\"rank\"]\n",
    "rank_change_max = rank_change.max()\n",
    "rank_change_min = rank_change.min()"
   ]
  },
  {
   "cell_type": "code",
   "execution_count": null,
   "id": "fe13cee3",
   "metadata": {},
   "outputs": [],
   "source": [
    "print(rank_change_min)"
   ]
  },
  {
   "cell_type": "markdown",
   "id": "e926b4ad",
   "metadata": {},
   "source": [
    "<h2>04. Método de Serie \"Describe\" </h2>\n",
    "\n",
    "<h3>Ejercicio</h3>\n",
    "<ol><li>Calcule una serie de estadísticas descriptivas para la columna <code>rank</code> en <code>f500</code>.<ul><li>Selecciona la columna <code>rank</code> Asígnelo a una variable llamada <code>rank</code>.</li><li>Utilice el método <code>Series.describe()</code> para devolver una serie de estadísticas para <code> rank</code>. Asigne el resultado a <code>rank_desc</code>.</li></ul></li>\n",
    "    <li>Calcule una serie de estadísticas descriptivas para la columna <code>previous_rank</code> en <code>f500</code>.<ul><li>Selecciona la columna <code>previous_rank</code> Asígnelo a una variable llamada <code>prev_rank</code>.</li><li>Utilice el método <code>Series.describe()</code> para devolver una serie de estadísticas para <code> prev_rank</code>. Asigne el resultado a <code>prev_rank_desc</code>.</li></ul></li>\n",
    "    <li>Después de ejecutar su código, imprima cada una de las nuevas variables que creó. Intente identificar cualquier problema potencial con los datos antes de pasar a la siguiente sección.</li></ol>"
   ]
  },
  {
   "cell_type": "code",
   "execution_count": null,
   "id": "6f8c85f8",
   "metadata": {},
   "outputs": [],
   "source": [
    "rank_desc = f500['rank'].describe()\n",
    "prev_rank_desc = f500['previous_rank'].describe()"
   ]
  },
  {
   "cell_type": "code",
   "execution_count": null,
   "id": "5a310a4e",
   "metadata": {},
   "outputs": [],
   "source": [
    "print(rank_desc)"
   ]
  },
  {
   "cell_type": "code",
   "execution_count": null,
   "id": "13ae99c8",
   "metadata": {},
   "outputs": [],
   "source": [
    "print(prev_rank_desc)"
   ]
  },
  {
   "cell_type": "markdown",
   "id": "ddd2f3e0",
   "metadata": {},
   "source": [
    "<h2>05. Encadenamiento de métodos</h2>\n",
    "\n",
    "<h3>Ejercicio</h3>\n",
    "\n",
    "<ol><li>Utilice <code>Series.value_counts()</code> y <code>Series.loc</code> para devolver el número de empresas con un valor de <code>0</code> en el columna <code>previous_rank</code> en el dataframe <code>f500</code>. Asigne los resultados a <code>zero_previous_rank</code>.</li>\n",
    "<li>Después de ejecutar su código, imprima el resultado para ver cada una de las nuevas variables que creó.</li></ol>"
   ]
  },
  {
   "cell_type": "code",
   "execution_count": null,
   "id": "af227952",
   "metadata": {},
   "outputs": [],
   "source": [
    "previous_rank = f500['previous_rank']\n",
    "zero_previous_rank = previous_rank.value_counts().loc[0]"
   ]
  },
  {
   "cell_type": "code",
   "execution_count": null,
   "id": "5dc26a63",
   "metadata": {},
   "outputs": [],
   "source": [
    "print(zero_previous_rank)"
   ]
  },
  {
   "cell_type": "markdown",
   "id": "934dcb0d",
   "metadata": {},
   "source": [
    "<h2>06. Métodos de exploración para Dataframes</h2>\n",
    "\n",
    "<h3>Ejercicio</h3>\n",
    "<ol>\n",
    "<li>Use el método <code>DataFrame.max()</code> para encontrar el valor máximo para <em>solo las columnas numéricas</em> de <code>f500</code> (es posible que deba verificar la documentación). Asigne el resultado a la variable <code>max_f500</code>.</li>\n",
    "<li>Después de ejecutar su código, imprima las variables para ver cada una de las nuevas variables que creó. Intente identificar cualquier problema potencial con los datos antes de pasar a la siguiente sección.</li>\n",
    "</ol>"
   ]
  },
  {
   "cell_type": "code",
   "execution_count": null,
   "id": "1337e7e0",
   "metadata": {},
   "outputs": [],
   "source": [
    "max_f500 = f500.max(numeric_only=True)"
   ]
  },
  {
   "cell_type": "code",
   "execution_count": null,
   "id": "3c49f47c",
   "metadata": {},
   "outputs": [],
   "source": [
    "print(max_f500)"
   ]
  },
  {
   "cell_type": "markdown",
   "id": "f5556ae1",
   "metadata": {},
   "source": [
    "<h2>07. Dataframe Método de descripción</h2>\n",
    "\n",
    "<h3>Ejercicio</h3>\n",
    "\n",
    "<ol>\n",
    "<li>Retorna un Dataframe de estadísticas descriptivas para todas las columnas numéricas en <code>f500</code>. Asigne el resultado a <code>f500_desc</code>.</li>\n",
    "<li>Después de ejecutar su código, imprima cada una de las nuevas variables que creó. Intente identificar cualquier problema potencial con los datos antes de pasar a la siguiente sección.</li>\n",
    "</ol>"
   ]
  },
  {
   "cell_type": "code",
   "execution_count": null,
   "id": "c5fc27a3",
   "metadata": {},
   "outputs": [],
   "source": [
    "f500_desc = f500.describe()\n",
    "f500_desc"
   ]
  },
  {
   "cell_type": "markdown",
   "id": "e8f6d5d0",
   "metadata": {},
   "source": [
    "<h2>08. Asignaciones con pandas</h2>\n",
    "\n",
    "<h3>Ejercicio</h3>\n",
    "<ol>\n",
    "<li>La empresa \"Dow Chemical\" ha nombrado un nuevo director general. Actualice el valor donde la etiqueta de la fila es <code>Dow Chemical</code> y para la columna <code>ceo</code> a <code>Jim Fitterling</code> en el Dataframe <code>f500</code> .</li>\n",
    "</ol>"
   ]
  },
  {
   "cell_type": "code",
   "execution_count": null,
   "id": "6b50976e",
   "metadata": {},
   "outputs": [],
   "source": [
    "f500.loc['Dow Chemical', 'ceo'] = 'Jim Fitterling'"
   ]
  },
  {
   "cell_type": "markdown",
   "id": "1db960e3",
   "metadata": {},
   "source": [
    "<h2>09. Uso de indexación booleana con Pandas</h2>\n",
    "\n",
    "<h3>Ejercicio</h3>\n",
    "<ol>\n",
    "<li>Cree una serie booleana, <code>motor_bool</code>, que compare si los valores en la columna <code>industria</code> del Dataframe <code>f500</code> son iguales a <code> \"Motor Vehicles and Parts\"</code>.</li>\n",
    "<li>Utilice la serie booleana <code>motor_bool</code> para indexar la columna <code>country</code>. Asigne el resultado a <code>motor_countries</code>.</li>\n",
    "<li>Después de ejecutar su código, imprima las variables para ver cada una de las nuevas variables que creó.</li>\n",
    "</ol>"
   ]
  },
  {
   "cell_type": "code",
   "execution_count": null,
   "id": "25d204b5",
   "metadata": {},
   "outputs": [],
   "source": [
    "motor_bool = f500['industry'] == 'Motor Vehicles and Parts'\n",
    "motor_countries = f500.loc[motor_bool, 'country']\n",
    "\n",
    "print(motor_countries.value_counts())"
   ]
  },
  {
   "cell_type": "markdown",
   "id": "cd45d55b",
   "metadata": {},
   "source": [
    "<h2>10. Uso de matrices booleanas para asignar valores</h2>\n",
    "\n",
    "<h3>Ejercicio</h3>\n",
    "<ul>\n",
    "<li>Utilice la indexación booleana para actualizar los valores en la columna <code>previous_rank</code> del Dataframe <code>f500</code>:<ul>\n",
    "<li>Ahora debería haber un valor de <code>np.nan</code> donde anteriormente había un valor de <code>0</code>.</li>\n",
    "<li>Depende de usted si asigna primero la serie booleana a su propia variable o si completa la operación en una línea.</li>\n",
    "</ul>\n",
    "</li>\n",
    "<li>Cree una nueva serie de pandas, <code>prev_rank_after</code>, usando la misma sintaxis que se usó para crear la serie <code>prev_rank_before</code>.</li>\n",
    "<li>Después de ejecutar su código, imprima las variables para comparar <code>prev_rank_before</code> y <code>prev_rank_after</code>.</li>\n",
    "</ul>"
   ]
  },
  {
   "cell_type": "code",
   "execution_count": null,
   "id": "b9f52503",
   "metadata": {},
   "outputs": [],
   "source": [
    "prev_rank_before = f500[\"previous_rank\"].value_counts(dropna=False).head()\n",
    "zero_values  = f500['previous_rank'] == 0"
   ]
  },
  {
   "cell_type": "code",
   "execution_count": null,
   "id": "d14d3dac",
   "metadata": {},
   "outputs": [],
   "source": [
    "f500.loc[zero_values, 'previous_rank'] = np.nan"
   ]
  },
  {
   "cell_type": "code",
   "execution_count": null,
   "id": "edbe139f",
   "metadata": {},
   "outputs": [],
   "source": [
    "prev_rank_after = f500['previous_rank'].value_counts(dropna=False).head()"
   ]
  },
  {
   "cell_type": "code",
   "execution_count": null,
   "id": "74f1b9ec",
   "metadata": {},
   "outputs": [],
   "source": [
    "print(prev_rank_before)"
   ]
  },
  {
   "cell_type": "code",
   "execution_count": null,
   "id": "06feb7a4",
   "metadata": {},
   "outputs": [],
   "source": [
    "print(prev_rank_after)"
   ]
  },
  {
   "cell_type": "markdown",
   "id": "a9dfedc2",
   "metadata": {},
   "source": [
    "<h2>11. Creación de nuevas columnas</h2>\n",
    "\n",
    "<h3>Ejercicio</h3>\n",
    "<ol>\n",
    "<li>Agregue una nueva columna llamada <code>rank_change</code> al Dataframe <code>f500</code> restando los valores en la columna <code>rank</code> de los valores en la columna <code>previous_rank</code>.</li>\n",
    "<li>Use el método <code>Series.describe()</code> para devolver una serie de estadísticas descriptivas para la columna <code>rank_change</code>. Asigne el resultado a <code>rank_change_desc</code>.</li>\n",
    "<li>Después de ejecutar su código, imprima las variables para ver cada una de las nuevas variables que creó. Verifique que el valor mínimo de la columna <code>rank_change</code> ahora sea mayor que <code>-500</code>.</li>\n",
    "</ol>"
   ]
  },
  {
   "cell_type": "code",
   "execution_count": null,
   "id": "3b80cc88",
   "metadata": {},
   "outputs": [],
   "source": [
    "f500['rank_change'] = f500['previous_rank'] - f500['rank']\n",
    "\n",
    "rank_change_desc = f500['rank_change'].describe()\n"
   ]
  },
  {
   "cell_type": "code",
   "execution_count": null,
   "id": "1f58a8d7",
   "metadata": {},
   "outputs": [],
   "source": [
    "print(rank_change_desc)"
   ]
  },
  {
   "cell_type": "markdown",
   "id": "2f1574d6",
   "metadata": {},
   "source": [
    "<h2>12. Desafío: Mejores resultados por país</h2>\n",
    "\n",
    "<h3>Ejercicio</h3>\n",
    "<ol>\n",
    "<li>Cree una serie, <code>industry_usa</code>, que contenga recuentos de los dos valores más comunes en la columna <code>industry</code> para empresas con sede en EE. UU.</li>\n",
    "<li>Cree una serie, <code>sector_china</code>, que contenga recuentos de los tres valores más comunes en la columna <code>sector</code> para empresas con sede en China.</li>\n",
    "</ol>"
   ]
  },
  {
   "cell_type": "code",
   "execution_count": null,
   "id": "8b7427ff",
   "metadata": {},
   "outputs": [],
   "source": [
    "usa = f500['country'] == 'USA'\n",
    "china = f500['country'] == 'China'"
   ]
  },
  {
   "cell_type": "code",
   "execution_count": null,
   "id": "9b958e99",
   "metadata": {},
   "outputs": [],
   "source": [
    "industry_usa = f500.loc[usa, 'industry'].value_counts().head(2)\n",
    "sector_china = f500.loc[china, 'sector'].value_counts().head(3)"
   ]
  },
  {
   "cell_type": "code",
   "execution_count": null,
   "id": "c64bce85",
   "metadata": {},
   "outputs": [],
   "source": [
    "print(industry_usa)"
   ]
  },
  {
   "cell_type": "markdown",
   "id": "57408338",
   "metadata": {},
   "source": [
    "<h2>13. Conclusión</h2>\n",
    "<ul>\n",
    "<li>Cómo seleccionar datos de objetos pandas utilizando matrices booleanas.</li>\n",
    "<li>Cómo asignar datos usando etiquetas y matrices booleanas.</li>\n",
    "<li>Cómo crear nuevas columnas en pandas.</li>\n",
    "<li>Muchos métodos nuevos para facilitar el análisis de datos en pandas.</li>\n",
    "</ul>"
   ]
  }
 ],
 "metadata": {
  "kernelspec": {
   "display_name": "data",
   "language": "python",
   "name": "data"
  },
  "language_info": {
   "codemirror_mode": {
    "name": "ipython",
    "version": 3
   },
   "file_extension": ".py",
   "mimetype": "text/x-python",
   "name": "python",
   "nbconvert_exporter": "python",
   "pygments_lexer": "ipython3",
   "version": "3.9.12"
  }
 },
 "nbformat": 4,
 "nbformat_minor": 5
}
