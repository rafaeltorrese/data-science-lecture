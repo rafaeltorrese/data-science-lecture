{
 "cells": [
  {
   "cell_type": "markdown",
   "id": "4d58db00",
   "metadata": {},
   "source": [
    "#  Introducción a Numpy"
   ]
  },
  {
   "cell_type": "code",
   "execution_count": 16,
   "id": "abc46d33",
   "metadata": {},
   "outputs": [],
   "source": [
    "import csv\n",
    "import numpy as np"
   ]
  },
  {
   "cell_type": "code",
   "execution_count": 2,
   "id": "97be5138",
   "metadata": {},
   "outputs": [],
   "source": [
    "data_ndarray = np.array([10, 20, 30], dtype=int)"
   ]
  },
  {
   "cell_type": "code",
   "execution_count": 3,
   "id": "b2b0cc76",
   "metadata": {},
   "outputs": [
    {
     "name": "stdout",
     "output_type": "stream",
     "text": [
      "[10 20 30]\n"
     ]
    }
   ],
   "source": [
    "print(data_ndarray)"
   ]
  },
  {
   "cell_type": "code",
   "execution_count": 4,
   "id": "3f7dea2b",
   "metadata": {},
   "outputs": [
    {
     "name": "stdout",
     "output_type": "stream",
     "text": [
      "<class 'numpy.ndarray'>\n"
     ]
    }
   ],
   "source": [
    "print(type(data_ndarray))"
   ]
  },
  {
   "cell_type": "code",
   "execution_count": 6,
   "id": "d2042ecf",
   "metadata": {},
   "outputs": [],
   "source": [
    "data_ndarray02 = np.array('10 20 30'.split(), dtype=int)"
   ]
  },
  {
   "cell_type": "code",
   "execution_count": 8,
   "id": "3fef9d57",
   "metadata": {},
   "outputs": [
    {
     "name": "stdout",
     "output_type": "stream",
     "text": [
      "[10 20 30]\n"
     ]
    }
   ],
   "source": [
    "print(data_ndarray02)"
   ]
  },
  {
   "cell_type": "markdown",
   "id": "27320bd8",
   "metadata": {},
   "source": [
    "```python\n",
    "pickup_year,pickup_month,pickup_day,pickup_dayofweek\n",
    "2016,1,1,5\n",
    "2016,1,1,5\n",
    "2016,1,1,5\n",
    "2016,1,1,5\n",
    "```"
   ]
  },
  {
   "cell_type": "code",
   "execution_count": 17,
   "id": "87305224",
   "metadata": {},
   "outputs": [],
   "source": [
    "with open('nyc_taxis.csv', 'r') as f:\n",
    "    header_taxi = [*next(csv.reader(f))]\n",
    "    taxi_list = [*csv.reader(f)]"
   ]
  },
  {
   "cell_type": "code",
   "execution_count": 19,
   "id": "3d32e5d0",
   "metadata": {},
   "outputs": [
    {
     "name": "stdout",
     "output_type": "stream",
     "text": [
      "[['2016', '1', '1', '5', '0', '2', '4', '21.00', '2037', '52.00', '0.80', '5.54', '11.65', '69.99', '1'], ['2016', '1', '1', '5', '0', '2', '1', '16.29', '1520', '45.00', '1.30', '0.00', '8.00', '54.30', '1'], ['2016', '1', '1', '5', '0', '2', '6', '12.70', '1462', '36.50', '1.30', '0.00', '0.00', '37.80', '2'], ['2016', '1', '1', '5', '0', '2', '6', '8.70', '1210', '26.00', '1.30', '0.00', '5.46', '32.76', '1'], ['2016', '1', '1', '5', '0', '2', '6', '5.56', '759', '17.50', '1.30', '0.00', '0.00', '18.80', '2']]\n"
     ]
    }
   ],
   "source": [
    "print(taxi_list[:5])"
   ]
  },
  {
   "cell_type": "code",
   "execution_count": 20,
   "id": "fe66a0d6",
   "metadata": {},
   "outputs": [
    {
     "name": "stdout",
     "output_type": "stream",
     "text": [
      "['pickup_year', 'pickup_month', 'pickup_day', 'pickup_dayofweek', 'pickup_time', 'pickup_location_code', 'dropoff_location_code', 'trip_distance', 'trip_length', 'fare_amount', 'fees_amount', 'tolls_amount', 'tip_amount', 'total_amount', 'payment_type']\n"
     ]
    }
   ],
   "source": [
    "print(header_taxi)"
   ]
  },
  {
   "cell_type": "code",
   "execution_count": 24,
   "id": "8e2d9eed",
   "metadata": {},
   "outputs": [
    {
     "name": "stdout",
     "output_type": "stream",
     "text": [
      "[[2016.0, 1.0, 1.0, 5.0, 0.0, 2.0, 4.0, 21.0, 2037.0, 52.0, 0.8, 5.54, 11.65, 69.99, 1.0], [2016.0, 1.0, 1.0, 5.0, 0.0, 2.0, 1.0, 16.29, 1520.0, 45.0, 1.3, 0.0, 8.0, 54.3, 1.0], [2016.0, 1.0, 1.0, 5.0, 0.0, 2.0, 6.0, 12.7, 1462.0, 36.5, 1.3, 0.0, 0.0, 37.8, 2.0], [2016.0, 1.0, 1.0, 5.0, 0.0, 2.0, 6.0, 8.7, 1210.0, 26.0, 1.3, 0.0, 5.46, 32.76, 1.0], [2016.0, 1.0, 1.0, 5.0, 0.0, 2.0, 6.0, 5.56, 759.0, 17.5, 1.3, 0.0, 0.0, 18.8, 2.0]]\n"
     ]
    }
   ],
   "source": [
    "converted_taxi_list = [[float(element) for element in row] for row in taxi_list]\n",
    "print(converted_taxi_list[:5])"
   ]
  },
  {
   "cell_type": "code",
   "execution_count": 25,
   "id": "f33e88e1",
   "metadata": {},
   "outputs": [],
   "source": [
    "taxi = np.array(converted_taxi_list)"
   ]
  },
  {
   "cell_type": "code",
   "execution_count": 26,
   "id": "1b37480e",
   "metadata": {},
   "outputs": [
    {
     "name": "stdout",
     "output_type": "stream",
     "text": [
      "[[2.016e+03 1.000e+00 1.000e+00 ... 1.165e+01 6.999e+01 1.000e+00]\n",
      " [2.016e+03 1.000e+00 1.000e+00 ... 8.000e+00 5.430e+01 1.000e+00]\n",
      " [2.016e+03 1.000e+00 1.000e+00 ... 0.000e+00 3.780e+01 2.000e+00]\n",
      " ...\n",
      " [2.016e+03 6.000e+00 3.000e+01 ... 5.000e+00 6.334e+01 1.000e+00]\n",
      " [2.016e+03 6.000e+00 3.000e+01 ... 8.950e+00 4.475e+01 1.000e+00]\n",
      " [2.016e+03 6.000e+00 3.000e+01 ... 0.000e+00 5.484e+01 2.000e+00]]\n"
     ]
    }
   ],
   "source": [
    "print(taxi)"
   ]
  },
  {
   "cell_type": "code",
   "execution_count": 33,
   "id": "c7f2755d",
   "metadata": {},
   "outputs": [
    {
     "name": "stdout",
     "output_type": "stream",
     "text": [
      "[[2.016e+03 1.000e+00 1.000e+00 5.000e+00 0.000e+00 2.000e+00 4.000e+00\n",
      "  2.100e+01 2.037e+03 5.200e+01 8.000e-01 5.540e+00 1.165e+01 6.999e+01\n",
      "  1.000e+00]\n",
      " [2.016e+03 1.000e+00 1.000e+00 5.000e+00 0.000e+00 2.000e+00 1.000e+00\n",
      "  1.629e+01 1.520e+03 4.500e+01 1.300e+00 0.000e+00 8.000e+00 5.430e+01\n",
      "  1.000e+00]\n",
      " [2.016e+03 1.000e+00 1.000e+00 5.000e+00 0.000e+00 2.000e+00 6.000e+00\n",
      "  1.270e+01 1.462e+03 3.650e+01 1.300e+00 0.000e+00 0.000e+00 3.780e+01\n",
      "  2.000e+00]\n",
      " [2.016e+03 1.000e+00 1.000e+00 5.000e+00 0.000e+00 2.000e+00 6.000e+00\n",
      "  8.700e+00 1.210e+03 2.600e+01 1.300e+00 0.000e+00 5.460e+00 3.276e+01\n",
      "  1.000e+00]\n",
      " [2.016e+03 1.000e+00 1.000e+00 5.000e+00 0.000e+00 2.000e+00 6.000e+00\n",
      "  5.560e+00 7.590e+02 1.750e+01 1.300e+00 0.000e+00 0.000e+00 1.880e+01\n",
      "  2.000e+00]]\n"
     ]
    }
   ],
   "source": [
    "print(np.array(taxi_list[:5], dtype=float))"
   ]
  },
  {
   "cell_type": "code",
   "execution_count": 34,
   "id": "cf09947f",
   "metadata": {},
   "outputs": [
    {
     "name": "stdout",
     "output_type": "stream",
     "text": [
      "(2013, 15)\n"
     ]
    }
   ],
   "source": [
    "print(taxi.shape)"
   ]
  },
  {
   "cell_type": "code",
   "execution_count": 37,
   "id": "1f9c28a5",
   "metadata": {},
   "outputs": [
    {
     "name": "stdout",
     "output_type": "stream",
     "text": [
      "15\n"
     ]
    }
   ],
   "source": [
    "print(taxi.shape[1])"
   ]
  },
  {
   "cell_type": "code",
   "execution_count": 41,
   "id": "d16241de",
   "metadata": {},
   "outputs": [],
   "source": [
    "num_rows, num_cols = taxi.shape"
   ]
  },
  {
   "cell_type": "code",
   "execution_count": 42,
   "id": "8e31d8ad",
   "metadata": {},
   "outputs": [
    {
     "name": "stdout",
     "output_type": "stream",
     "text": [
      "2013\n"
     ]
    }
   ],
   "source": [
    "print(num_rows)"
   ]
  },
  {
   "cell_type": "code",
   "execution_count": 44,
   "id": "7ab6cd7a",
   "metadata": {},
   "outputs": [
    {
     "name": "stdout",
     "output_type": "stream",
     "text": [
      "[[2.016e+03 1.000e+00 1.000e+00 5.000e+00 0.000e+00 2.000e+00 4.000e+00\n",
      "  2.100e+01 2.037e+03 5.200e+01 8.000e-01 5.540e+00 1.165e+01 6.999e+01\n",
      "  1.000e+00]\n",
      " [2.016e+03 1.000e+00 1.000e+00 5.000e+00 0.000e+00 2.000e+00 1.000e+00\n",
      "  1.629e+01 1.520e+03 4.500e+01 1.300e+00 0.000e+00 8.000e+00 5.430e+01\n",
      "  1.000e+00]\n",
      " [2.016e+03 1.000e+00 1.000e+00 5.000e+00 0.000e+00 2.000e+00 6.000e+00\n",
      "  1.270e+01 1.462e+03 3.650e+01 1.300e+00 0.000e+00 0.000e+00 3.780e+01\n",
      "  2.000e+00]\n",
      " [2.016e+03 1.000e+00 1.000e+00 5.000e+00 0.000e+00 2.000e+00 6.000e+00\n",
      "  8.700e+00 1.210e+03 2.600e+01 1.300e+00 0.000e+00 5.460e+00 3.276e+01\n",
      "  1.000e+00]\n",
      " [2.016e+03 1.000e+00 1.000e+00 5.000e+00 0.000e+00 2.000e+00 6.000e+00\n",
      "  5.560e+00 7.590e+02 1.750e+01 1.300e+00 0.000e+00 0.000e+00 1.880e+01\n",
      "  2.000e+00]]\n"
     ]
    }
   ],
   "source": [
    "print(taxi[:5])\n"
   ]
  },
  {
   "cell_type": "code",
   "execution_count": 45,
   "id": "1bff1d9d",
   "metadata": {},
   "outputs": [
    {
     "name": "stdout",
     "output_type": "stream",
     "text": [
      "[2.016e+03 1.000e+00 1.000e+00 5.000e+00 0.000e+00 2.000e+00 4.000e+00\n",
      " 2.100e+01 2.037e+03 5.200e+01 8.000e-01 5.540e+00 1.165e+01 6.999e+01\n",
      " 1.000e+00]\n"
     ]
    }
   ],
   "source": [
    "row_0 = taxi[0]\n",
    "print(row_0)"
   ]
  },
  {
   "cell_type": "code",
   "execution_count": 46,
   "id": "b2ad63fc",
   "metadata": {},
   "outputs": [
    {
     "name": "stdout",
     "output_type": "stream",
     "text": [
      "4.0\n"
     ]
    }
   ],
   "source": [
    "row21_col5 = taxi[21, 5]\n",
    "print(row21_col5)"
   ]
  },
  {
   "cell_type": "code",
   "execution_count": 47,
   "id": "217f90c0",
   "metadata": {},
   "outputs": [
    {
     "name": "stdout",
     "output_type": "stream",
     "text": [
      "[[2.016e+03 1.000e+00 2.000e+00 ... 0.000e+00 2.630e+01 2.000e+00]\n",
      " [2.016e+03 1.000e+00 2.000e+00 ... 3.000e+00 3.030e+01 1.000e+00]\n",
      " [2.016e+03 1.000e+00 2.000e+00 ... 6.670e+00 4.001e+01 1.000e+00]\n",
      " ...\n",
      " [2.016e+03 1.000e+00 4.000e+00 ... 0.000e+00 5.534e+01 2.000e+00]\n",
      " [2.016e+03 1.000e+00 4.000e+00 ... 3.090e+00 1.339e+01 1.000e+00]\n",
      " [2.016e+03 1.000e+00 4.000e+00 ... 4.000e+00 2.680e+01 1.000e+00]]\n"
     ]
    }
   ],
   "source": [
    "rows_391_to_500 = taxi[391:501]\n",
    "print(rows_391_to_500)"
   ]
  },
  {
   "cell_type": "code",
   "execution_count": 49,
   "id": "d6ebe4f9",
   "metadata": {},
   "outputs": [
    {
     "name": "stdout",
     "output_type": "stream",
     "text": [
      "[[ 1.    0.   21.  ]\n",
      " [ 1.    0.   16.29]\n",
      " [ 1.    0.   12.7 ]\n",
      " ...\n",
      " [ 6.    5.   17.48]\n",
      " [ 6.    5.   12.76]\n",
      " [ 6.    5.   17.54]]\n"
     ]
    }
   ],
   "source": [
    "columns_1_4_7 = taxi[:, [1, 4, 7]]\n",
    "print(columns_1_4_7)"
   ]
  },
  {
   "cell_type": "code",
   "execution_count": 50,
   "id": "6e77b72a",
   "metadata": {},
   "outputs": [
    {
     "name": "stdout",
     "output_type": "stream",
     "text": [
      "(2013, 3)\n"
     ]
    }
   ],
   "source": [
    "print(columns_1_4_7.shape)"
   ]
  },
  {
   "cell_type": "code",
   "execution_count": 52,
   "id": "0c1ba91b",
   "metadata": {},
   "outputs": [
    {
     "name": "stdout",
     "output_type": "stream",
     "text": [
      "[   2.      4.     20.91 1744.  ]\n",
      "[2. 1. 1. 1. 1. 1. 2. 1. 1. 2. 1. 1. 1. 2. 2. 2. 1. 2. 1. 2. 1. 1. 2. 2.\n",
      " 2. 1. 1. 2. 1. 2. 1. 1. 2. 2. 1. 1. 2. 2. 1. 1. 1. 2. 1. 1. 1. 2. 2. 2.\n",
      " 2. 2. 1. 4. 2. 1. 2. 1. 2. 2. 2. 2. 1. 1. 2. 1. 2. 2. 2. 2. 1. 2. 2. 1.\n",
      " 2. 1. 2. 1. 2. 2. 1. 1. 1. 1. 2. 1. 1. 2. 2. 1. 1. 2. 2. 1. 1. 2. 1. 1.\n",
      " 1. 1. 1. 2. 2.]\n"
     ]
    }
   ],
   "source": [
    "row_99_columns_5_to_8 = taxi[99, 5:9 ]\n",
    "print(row_99_columns_5_to_8)\n",
    "\n",
    "rows_100_to_200_column_14 = taxi[100:201, 14]\n",
    "print(rows_100_to_200_column_14)"
   ]
  },
  {
   "cell_type": "code",
   "execution_count": 54,
   "id": "deb273ab",
   "metadata": {},
   "outputs": [
    {
     "name": "stdout",
     "output_type": "stream",
     "text": [
      "(2013,)\n",
      "(2013,)\n"
     ]
    }
   ],
   "source": [
    "fare_amount = taxi[:,9]\n",
    "fees_amount = taxi[:,10]\n",
    "\n",
    "print(fare_amount.shape)\n",
    "print(fees_amount.shape)"
   ]
  },
  {
   "cell_type": "code",
   "execution_count": 56,
   "id": "3393ece7",
   "metadata": {},
   "outputs": [
    {
     "name": "stdout",
     "output_type": "stream",
     "text": [
      "[52.  45.  36.5 ... 52.  34.5 48. ]\n",
      "[0.8 1.3 1.3 ... 0.8 1.3 1.3]\n"
     ]
    }
   ],
   "source": [
    "print(fare_amount)\n",
    "print(fees_amount)"
   ]
  },
  {
   "cell_type": "code",
   "execution_count": 57,
   "id": "11ff532f",
   "metadata": {},
   "outputs": [
    {
     "name": "stdout",
     "output_type": "stream",
     "text": [
      "[52.8 46.3 37.8 ... 52.8 35.8 49.3]\n"
     ]
    }
   ],
   "source": [
    "fare_and_fees = fare_amount + fees_amount\n",
    "print(fare_and_fees)"
   ]
  },
  {
   "cell_type": "code",
   "execution_count": 59,
   "id": "f5a2e5f8",
   "metadata": {},
   "outputs": [
    {
     "name": "stdout",
     "output_type": "stream",
     "text": [
      "[0.56583333 0.42222222 0.40611111 ... 0.78388889 0.30083333 0.47527778]\n"
     ]
    }
   ],
   "source": [
    "trip_distance_miles = taxi[:,7]\n",
    "trip_length_second = taxi[:, 8]\n",
    "\n",
    "trip_length_hours = np.divide(trip_length_second, 3600)\n",
    "print(trip_length_hours)\n"
   ]
  },
  {
   "cell_type": "code",
   "execution_count": 62,
   "id": "a5c7d6c8",
   "metadata": {},
   "outputs": [
    {
     "name": "stdout",
     "output_type": "stream",
     "text": [
      "[37.11340206 38.58157895 31.27222982 ... 22.29907867 42.41551247\n",
      " 36.90473407]\n"
     ]
    }
   ],
   "source": [
    "trip_mph = trip_distance_miles / trip_length_hours\n",
    "print(trip_mph)"
   ]
  },
  {
   "cell_type": "code",
   "execution_count": 63,
   "id": "120d4c4b",
   "metadata": {},
   "outputs": [
    {
     "name": "stdout",
     "output_type": "stream",
     "text": [
      "0.0\n",
      "82800.0\n",
      "169.98315083655157\n"
     ]
    }
   ],
   "source": [
    "mph_min = trip_mph.min()\n",
    "mph_max = trip_mph.max()\n",
    "mph_mean = trip_mph.mean()\n",
    "\n",
    "print(mph_min)\n",
    "print(mph_max)\n",
    "print(mph_mean)\n"
   ]
  },
  {
   "cell_type": "code",
   "execution_count": 66,
   "id": "b1b7b640",
   "metadata": {},
   "outputs": [
    {
     "name": "stdout",
     "output_type": "stream",
     "text": [
      "24.180945853324197\n"
     ]
    }
   ],
   "source": [
    "print(np.median(trip_mph))"
   ]
  },
  {
   "cell_type": "code",
   "execution_count": 67,
   "id": "bf96ea9d",
   "metadata": {},
   "outputs": [
    {
     "name": "stdout",
     "output_type": "stream",
     "text": [
      "[[52.    0.8   5.54 11.65]\n",
      " [45.    1.3   0.    8.  ]\n",
      " [36.5   1.3   0.    0.  ]\n",
      " [26.    1.3   0.    5.46]\n",
      " [17.5   1.3   0.    0.  ]]\n"
     ]
    }
   ],
   "source": [
    "taxi_first_five = taxi[:5]\n",
    "\n",
    "fare_components = taxi_first_five[:, 9:13]\n",
    "\n",
    "print(fare_components)"
   ]
  },
  {
   "cell_type": "code",
   "execution_count": 70,
   "id": "227be800",
   "metadata": {},
   "outputs": [
    {
     "name": "stdout",
     "output_type": "stream",
     "text": [
      "[69.99 54.3  37.8  32.76 18.8 ]\n"
     ]
    }
   ],
   "source": [
    "fare_sums = fare_components.sum(axis=1)\n",
    "print(fare_sums)|"
   ]
  },
  {
   "cell_type": "code",
   "execution_count": 72,
   "id": "aa73e724",
   "metadata": {},
   "outputs": [
    {
     "name": "stdout",
     "output_type": "stream",
     "text": [
      "[69.99 54.3  37.8  32.76 18.8 ]\n"
     ]
    }
   ],
   "source": [
    "print(taxi_first_five[:, 13])"
   ]
  },
  {
   "cell_type": "code",
   "execution_count": null,
   "id": "c4ab4bbd",
   "metadata": {},
   "outputs": [],
   "source": []
  }
 ],
 "metadata": {
  "kernelspec": {
   "display_name": "Python 3 (ipykernel)",
   "language": "python",
   "name": "python3"
  },
  "language_info": {
   "codemirror_mode": {
    "name": "ipython",
    "version": 3
   },
   "file_extension": ".py",
   "mimetype": "text/x-python",
   "name": "python",
   "nbconvert_exporter": "python",
   "pygments_lexer": "ipython3",
   "version": "3.7.3"
  }
 },
 "nbformat": 4,
 "nbformat_minor": 5
}
