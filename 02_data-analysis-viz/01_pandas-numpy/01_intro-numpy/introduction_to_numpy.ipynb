{
 "cells": [
  {
   "cell_type": "markdown",
   "id": "cf2991a7",
   "metadata": {},
   "source": [
    "<center><h1>Introducción a Numpy</h1></center>\n",
    "\n",
    "Aprenda a trabajar con datos utilizando la biblioteca NumPy."
   ]
  },
  {
   "cell_type": "markdown",
   "id": "174e4b00",
   "metadata": {},
   "source": [
    "## 1. Introducción.\n",
    "Cuando se trata de programar en Python, las bibliotecas son donde está el verdadero poder. Al igual que los complementos o las extensiones, las bibliotecas desbloquean su código y lo hacen más eficiente. \n",
    "\n",
    "Con algunos fundamentos de la programación de Python, puede usar bibliotecas para análisis y visualización de datos de alto rendimiento. En esta lección, repasaremos una de las bibliotecas más fáciles de usar que existen: NumPy.\n",
    "\n",
    "![numpy](figs/1.1-m289.gif)\n",
    "\n",
    "\n",
    "NumPy es muy popular porque facilita la escritura de programas. Python es un lenguaje de alto nivel, lo que significa que no tiene que asignar memoria manualmente. Con los lenguajes de bajo nivel, debe definir la asignación y el procesamiento de la memoria, lo que le brinda más control sobre el rendimiento, pero también ralentiza su programación. NumPy le ofrece lo mejor de ambos mundos: rendimiento de procesamiento sin toda la asignación.\n",
    "\n",
    "![numpy](figs/1.2-m289.gif)\n",
    "\n",
    "En esta lección, aprenderemos a usar NumPy para trabajar con bases de datos, estadísticas, aprendizaje automático y más, con conjuntos de datos del mundo real, incluidos los datos de viajes en taxi de la ciudad de Nueva York.\n",
    "\n",
    "Deberá sentirse cómodo con la programación en Python, pero aquí hay algunos puntos que puede esperar en esta lección:\n",
    "\n",
    "- Cómo las operaciones vectorizadas aceleran su código\n",
    "- Cómo seleccionar datos de NumPy ndarrays\n",
    "- Cómo analizar datos usando métodos NumPy\n"
   ]
  },
  {
   "cell_type": "markdown",
   "id": "0fa59413",
   "metadata": {},
   "source": [
    "## 2. Introducción a Ndarrays.\n",
    "\n",
    "La estructura de datos central en NumPy es la matriz **ndarray** o **n-dimensional**. En programación, array describe una colección de elementos, similar a una lista. La palabra **n-dimensional** se refiere al hecho de que los *ndarrays* pueden tener una o más dimensiones. Comenzaremos trabajando con ndarrays unidimensionales (1D).\n",
    "\n",
    "![onedimensional](figs/2.1-m289.svg)\n",
    "\n",
    "\n",
    "Para usar la biblioteca NumPy, primero debemos importarla a nuestro entorno de Python. Es común importar NumPy usando el alias `np`:\n",
    "\n",
    "```python\n",
    "import numpy as np\n",
    "```\n",
    "\n",
    "Luego, podemos convertir directamente una lista en un ndarray usando el [constructor `numpy.array()`](https://numpy.org/doc/stable/reference/generated/numpy.ndarray.html). Para crear un ndarray 1D, podemos pasar una sola lista:\n",
    "\n",
    "```python\n",
    "data_ndarray = np.array([5, 10, 15, 20])\n",
    "```\n",
    "\n",
    "Usamos la sintaxis `np.array()` en lugar de `numpy.array()` debido a nuestro código `import numpy as np`. Cuando introduzcamos una nueva sintaxis, siempre usaremos el nombre completo para describirla, y deberá sustituirla por la forma abreviada donde corresponda.\n",
    "\n",
    "### Ejercicio\n",
    "\n",
    "Ejecute las instrucciones a continuación.\n",
    "\n",
    "1. Importe `numpy` y asígnelo al alias `np`.\n",
    "1. Cree un NumPy ndarray de la lista `[10, 20, 30]`. Asigne el resultado a la variable `data_ndarray`."
   ]
  },
  {
   "cell_type": "code",
   "execution_count": 2,
   "id": "d7a5cddd",
   "metadata": {},
   "outputs": [
    {
     "name": "stdout",
     "output_type": "stream",
     "text": [
      "[10 20 30]\n"
     ]
    }
   ],
   "source": [
    "import numpy as np \n",
    "data_ndarray = np.array('10 20 30'.split(), dtype=int)\n",
    "print(data_ndarray)"
   ]
  },
  {
   "cell_type": "markdown",
   "id": "732a80ea",
   "metadata": {},
   "source": [
    "## 3. Comprender la vectorización.\n",
    "\n",
    "Ndarrays y la biblioteca NumPy facilitan la manipulación y el análisis de datos. Exploremos por qué.\n",
    "\n",
    "Usando Python estándar, podríamos considerar usar listas de listas para representar conjuntos de datos. Si bien las listas de listas funcionan con conjuntos de datos pequeños, no son muy buenas para conjuntos de datos más grandes.\n",
    "\n",
    "Veamos un ejemplo que involucra dos columnas de datos. Cada fila contiene dos números que queremos sumar. Usando Python estándar, podríamos usar una estructura de lista de listas para almacenar nuestros datos, y podríamos usar bucles for para iterar sobre esos datos:\n",
    "\n",
    "![vectorization](figs/3.1-m289.svg)\n",
    "\n",
    "En cada iteración de nuestro bucle, Python convierte nuestro código en [código de bytes](https://en.wikipedia.org/wiki/Bytecode), y el código de bytes le pide al procesador de nuestra computadora que sume los dos números:\n",
    "\n",
    "![bytecode](figs/3.2-m289.gif)\n",
    "\n",
    "Nuestra computadora necesitaría ocho ciclos de procesador para procesar las ocho filas de nuestros datos.\n",
    "\n",
    "La biblioteca NumPy aprovecha una característica del procesador llamada **Single Instruction Multiple Data (SIMD)** para procesar datos más rápido. SIMD permite que un procesador realice la misma operación en múltiples puntos de datos en un solo ciclo de procesador:\n",
    "\n",
    "![simd](figs/3.3-m289.gif)\n",
    "\n",
    "Como resultado, usar NumPy solo requeriría dos ciclos de procesador, lo que lo hace cuatro veces más rápido que Python estándar solo. Llamamos a este concepto de reemplazar bucles `for` con operaciones aplicadas a múltiples puntos de datos a la vez **vectorización**, y los ndarrays hacen posible la vectorización.\n",
    "\n",
    "Exploraremos cómo la vectorización hace que nuestro código sea más rápido y fácil de ejecutar a lo largo de esta lección. \n",
    "\n",
    "Practicaremos la conversión de un conjunto de datos del mundo real de una lista de listas a un ndarray."
   ]
  },
  {
   "cell_type": "markdown",
   "id": "e4640d0f",
   "metadata": {},
   "source": [
    "## 4. Datos de taxis y aeropuertos de la ciudad de Nueva York.\n",
    "\n",
    "Hasta ahora, solo hemos practicado la creación de ndarrays unidimensionales, pero los ndarrays también pueden ser bidimensionales:\n",
    "\n",
    "![twodimensional](figs/4.1-m289.svg)\n",
    "\n",
    "Para explorar los ndarrays bidimensionales (2D), analizaremos los datos de viajes en taxi de la ciudad de Nueva York publicados por la ciudad de Nueva York.\n",
    "\n",
    "<img src=\"figs/nyc_taxi.jpg\" alt=\"taxis\" height=\"200\" width=\"400\"/>\n",
    "\n",
    "Solo trabajaremos con un subconjunto de estos datos: aproximadamente 90 000 viajes en taxi amarillo hacia y desde los aeropuertos de la ciudad de Nueva York entre enero y junio de 2016. A continuación se incluye información sobre las columnas seleccionadas del conjunto de datos:\n",
    "\n",
    "- `pickup_year`: el año del viaje\n",
    "- `pickup_month`: el mes del viaje (enero es `1`, diciembre es `12`)\n",
    "- `pickup_day`: el día del mes del viaje\n",
    "- `pickup_location_code`: el aeropuerto o <a href=\"https://en.wikipedia.org/wiki/Boroughs_of_New_York_City\" target=\"_blank\">borough</a> donde comenzó el viaje< /li>\n",
    "- `dropoff_location_code`: el aeropuerto o distrito donde finalizó el viaje\n",
    "- `trip_distance`: la distancia del viaje en millas\n",
    "- `trip_length`: la duración del viaje en segundos\n",
    "- `fare_amount`: la tarifa base del viaje, en dólares\n",
    "- `total_amount`: el monto total cobrado al pasajero, incluidas todas las tarifas, peajes y propinas\n",
    "\n",
    "Puede encontrar información sobre todas las columnas en el diccionario de datos [del conjunto de datos](nyc_taxi_data_dictionary.md).\n",
    "\n",
    "Nuestros datos están en un [archivo CSV](https://en.wikipedia.org/wiki/Comma-separated_values) llamado `nyc_taxis.csv`. A continuación se muestran las primeras líneas de datos sin procesar en nuestro CSV (estamos mostrando solo las primeras cuatro columnas del archivo para que el formato sea más fácil de entender):\n",
    "\n",
    "```\n",
    "pickup_year,pickup_month,pickup_day,pickup_dayofweek\n",
    "2016,1,1,5\n",
    "2016,1,1,5\n",
    "2016,1,1,5\n",
    "2016,1,1,5\n",
    "```\n",
    "Puede notar que también podríamos representar los datos en forma de tabla:\n",
    "\n",
    "<table class=\"dataframe\">\n",
    "<thead>\n",
    "<tr>\n",
    "<th>pickup_year</th>\n",
    "<th>pickup_month</th>\n",
    "<th>pickup_day</th>\n",
    "<th>pickup_dayofweek</th>\n",
    "<th>pickup_time</th>\n",
    "<th>pickup_location_code</th>\n",
    "<th>dropoff_location_code</th>\n",
    "<th>trip_distance</th>\n",
    "<th>trip_length</th>\n",
    "<th>fare_amount</th>\n",
    "<th>fees_amount</th>\n",
    "<th>tolls_amount</th>\n",
    "<th>tip_amount</th>\n",
    "<th>total_amount</th>\n",
    "<th>payment_type</th>\n",
    "</tr>\n",
    "</thead>\n",
    "<tbody>\n",
    "<tr>\n",
    "<td>2016</td>\n",
    "<td>1</td>\n",
    "<td>1</td>\n",
    "<td>5</td>\n",
    "<td>0</td>\n",
    "<td>2</td>\n",
    "<td>4</td>\n",
    "<td>21.00</td>\n",
    "<td>2037</td>\n",
    "<td>52.0</td>\n",
    "<td>0.8</td>\n",
    "<td>5.54</td>\n",
    "<td>11.65</td>\n",
    "<td>69.99</td>\n",
    "<td>1</td>\n",
    "</tr>\n",
    "<tr>\n",
    "<td>2016</td>\n",
    "<td>1</td>\n",
    "<td>1</td>\n",
    "<td>5</td>\n",
    "<td>0</td>\n",
    "<td>2</td>\n",
    "<td>1</td>\n",
    "<td>16.29</td>\n",
    "<td>1520</td>\n",
    "<td>45.0</td>\n",
    "<td>1.3</td>\n",
    "<td>0.00</td>\n",
    "<td>8.00</td>\n",
    "<td>54.30</td>\n",
    "<td>1</td>\n",
    "</tr>\n",
    "<tr>\n",
    "<td>2016</td>\n",
    "<td>1</td>\n",
    "<td>1</td>\n",
    "<td>5</td>\n",
    "<td>0</td>\n",
    "<td>2</td>\n",
    "<td>6</td>\n",
    "<td>12.70</td>\n",
    "<td>1462</td>\n",
    "<td>36.5</td>\n",
    "<td>1.3</td>\n",
    "<td>0.00</td>\n",
    "<td>0.00</td>\n",
    "<td>37.80</td>\n",
    "<td>2</td>\n",
    "</tr>\n",
    "<tr>\n",
    "<td>2016</td>\n",
    "<td>1</td>\n",
    "<td>1</td>\n",
    "<td>5</td>\n",
    "<td>0</td>\n",
    "<td>2</td>\n",
    "<td>6</td>\n",
    "<td>8.70</td>\n",
    "<td>1210</td>\n",
    "<td>26.0</td>\n",
    "<td>1.3</td>\n",
    "<td>0.00</td>\n",
    "<td>5.46</td>\n",
    "<td>32.76</td>\n",
    "<td>1</td>\n",
    "</tr>\n",
    "<tr>\n",
    "<td>2016</td>\n",
    "<td>1</td>\n",
    "<td>1</td>\n",
    "<td>5</td>\n",
    "<td>0</td>\n",
    "<td>2</td>\n",
    "<td>6</td>\n",
    "<td>5.56</td>\n",
    "<td>759</td>\n",
    "<td>17.5</td>\n",
    "<td>1.3</td>\n",
    "<td>0.00</td>\n",
    "<td>0.00</td>\n",
    "<td>18.80</td>\n",
    "<td>2</td>\n",
    "</tr>\n",
    "</tbody>\n",
    "</table>\n",
    "\n",
    "¿Esto te parece familiar? Compare esta tabla con el diagrama del ndarray 2D que vimos anteriormente. Puede imaginarse los ndarrays 2D almacenando datos como esta tabla.\n",
    "\n",
    "Para convertir el conjunto de datos en un ndarray 2D, primero usaremos [el módulo csv](https://docs.python.org/3/library/csv.html) integrado de Python para importar nuestro CSV como una \"lista de listas\". Luego, convertiremos la lista de listas en un ndarray. Usaremos nuevamente el constructor `numpy.array()`, pero para crear un ndarray 2D, pasaremos nuestra lista de listas en lugar de una sola lista:\n",
    "\n",
    "```python\n",
    "# our list of lists is stored as data_list\n",
    "data_ndarray = np.array(data_list)\n",
    "```\n",
    "¡Convirtamos nuestra taxi CSV en un ndarray NumPy!\n",
    "\n",
    "### Ejercicio\n",
    "\n",
    "En la siguiente celda, hemos utilizado el módulo `csv` de Python para importar el archivo `nyc_taxis.csv` y convertirlo en una lista de listas que contienen valores flotantes.\n",
    "\n",
    "1. Agrega una línea de código usando el constructor `numpy.array()` para convertir la variable `convert_taxi_list` en un NumPy ndarray.\n",
    "\n",
    "2. Asigne el resultado a la variable nombre `taxi`."
   ]
  },
  {
   "cell_type": "code",
   "execution_count": 4,
   "id": "f92ad19d",
   "metadata": {},
   "outputs": [
    {
     "name": "stdout",
     "output_type": "stream",
     "text": [
      "[[2.016e+03 1.000e+00 1.000e+00 ... 1.165e+01 6.999e+01 1.000e+00]\n",
      " [2.016e+03 1.000e+00 1.000e+00 ... 8.000e+00 5.430e+01 1.000e+00]\n",
      " [2.016e+03 1.000e+00 1.000e+00 ... 0.000e+00 3.780e+01 2.000e+00]\n",
      " ...\n",
      " [2.016e+03 6.000e+00 3.000e+01 ... 5.000e+00 6.334e+01 1.000e+00]\n",
      " [2.016e+03 6.000e+00 3.000e+01 ... 8.950e+00 4.475e+01 1.000e+00]\n",
      " [2.016e+03 6.000e+00 3.000e+01 ... 0.000e+00 5.484e+01 2.000e+00]]\n"
     ]
    }
   ],
   "source": [
    "import csv\n",
    "\n",
    "# import nyc_taxi.csv as a list of lists\n",
    "with open('nyc_taxis.csv', 'r') as f:\n",
    "    header_taxi = [*next(csv.reader(f))]\n",
    "    taxi_list = [*csv.reader(f)]\n",
    "\n",
    "converted_taxi_list = [[float(element) for element in row] for row in taxi_list]\n",
    "\n",
    "# start writing your code below this comment\n",
    "taxi = np.array(converted_taxi_list)\n",
    "\n",
    "print(taxi)"
   ]
  },
  {
   "cell_type": "markdown",
   "id": "4cfe1be5",
   "metadata": {},
   "source": [
    "## 5. Formas de matrices.\n",
    "### Ejercicio"
   ]
  },
  {
   "cell_type": "markdown",
   "id": "18250cf3",
   "metadata": {},
   "source": [
    "## 6. Seleccionar y dividir filas y elementos de Ndarrays.\n",
    "### Ejercicio"
   ]
  },
  {
   "cell_type": "markdown",
   "id": "666bdee5",
   "metadata": {},
   "source": [
    "## 7. Selección de columnas y rangos de corte personalizados.\n",
    "### Ejercicio"
   ]
  },
  {
   "cell_type": "markdown",
   "id": "e96917d2",
   "metadata": {},
   "source": [
    "## 8. Matemáticas vectoriales.\n",
    "### Ejercicio"
   ]
  },
  {
   "cell_type": "markdown",
   "id": "2377ee3c",
   "metadata": {},
   "source": [
    "## 9. Matemáticas vectoriales (continuación).\n",
    "### Ejercicio"
   ]
  },
  {
   "cell_type": "markdown",
   "id": "ed24044c",
   "metadata": {},
   "source": [
    "## 10. Cálculo de estadísticas para matrices 1D.\n",
    "### Ejercicio"
   ]
  },
  {
   "cell_type": "markdown",
   "id": "d6047800",
   "metadata": {},
   "source": [
    "## 11. Cálculo de estadísticas para matrices 1D (continuación).\n",
    "### Ejercicio"
   ]
  },
  {
   "cell_type": "markdown",
   "id": "7a2edeca",
   "metadata": {},
   "source": [
    "## 12. Cálculo de estadísticas para arreglos 2D.\n",
    "### Ejercicio"
   ]
  }
 ],
 "metadata": {
  "kernelspec": {
   "display_name": "data",
   "language": "python",
   "name": "data"
  },
  "language_info": {
   "codemirror_mode": {
    "name": "ipython",
    "version": 3
   },
   "file_extension": ".py",
   "mimetype": "text/x-python",
   "name": "python",
   "nbconvert_exporter": "python",
   "pygments_lexer": "ipython3",
   "version": "3.10.4"
  }
 },
 "nbformat": 4,
 "nbformat_minor": 5
}
