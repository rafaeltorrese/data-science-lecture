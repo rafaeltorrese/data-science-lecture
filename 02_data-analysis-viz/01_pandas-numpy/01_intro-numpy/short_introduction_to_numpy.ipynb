{
 "cells": [
  {
   "cell_type": "markdown",
   "id": "cf2991a7",
   "metadata": {},
   "source": [
    "<center><h1>Introducción a Numpy</h1></center>"
   ]
  },
  {
   "cell_type": "markdown",
   "id": "0fa59413",
   "metadata": {},
   "source": [
    "## 2. Introducción a Ndarrays.\n",
    "\n",
    "### Ejercicio\n",
    "\n",
    "Ejecute las instrucciones a continuación.\n",
    "\n",
    "1. Importe `numpy` y asígnelo al alias `np`.\n",
    "1. Cree un NumPy ndarray de la lista `[10, 20, 30]`. Asigne el resultado a la variable `data_ndarray`."
   ]
  },
  {
   "cell_type": "code",
   "execution_count": null,
   "id": "d7a5cddd",
   "metadata": {},
   "outputs": [],
   "source": [
    "import numpy as np \n",
    "data_ndarray = np.array('10 20 30'.split(), dtype=int)\n",
    "print(data_ndarray)"
   ]
  },
  {
   "cell_type": "markdown",
   "id": "e4640d0f",
   "metadata": {},
   "source": [
    "## 4. Datos de taxis y aeropuertos de la ciudad de Nueva York.\n",
    "\n",
    "### Ejercicio\n",
    "\n",
    "En la siguiente celda, hemos utilizado el módulo `csv` de Python para importar el archivo `nyc_taxis.csv` y convertirlo en una lista de listas que contienen valores flotantes.\n",
    "\n",
    "1. Agrega una línea de código usando el constructor `numpy.array()` para convertir la variable `convert_taxi_list` en un NumPy ndarray.\n",
    "\n",
    "2. Asigne el resultado a la variable nombre `taxi`."
   ]
  },
  {
   "cell_type": "code",
   "execution_count": null,
   "id": "f92ad19d",
   "metadata": {},
   "outputs": [],
   "source": [
    "import csv\n",
    "\n",
    "# import nyc_taxi.csv as a list of lists\n",
    "with open('nyc_taxis.csv', 'r') as f:\n",
    "    header_taxi = [*next(csv.reader(f))]\n",
    "    taxi_list = [*csv.reader(f)]\n",
    "\n",
    "converted_taxi_list = [[float(element) for element in row] for row in taxi_list]\n",
    "\n",
    "# start writing your code below this comment\n",
    "taxi = np.array(converted_taxi_list)\n",
    "\n",
    "print(taxi)"
   ]
  },
  {
   "cell_type": "markdown",
   "id": "4cfe1be5",
   "metadata": {},
   "source": [
    "## 5. Dimensiones de un arreglo\n",
    "\n",
    "### Ejercicio\n",
    "\n",
    "- Asigne la forma de `taxi` a `taxi_shape`. Imprime el resultado."
   ]
  },
  {
   "cell_type": "code",
   "execution_count": null,
   "id": "67a5f219",
   "metadata": {},
   "outputs": [],
   "source": [
    "taxi_shape = taxi.shape\n",
    "print(taxi_shape)"
   ]
  },
  {
   "cell_type": "markdown",
   "id": "e0d61494",
   "metadata": {},
   "source": [
    "## 6. Seleccionar y dividir filas y elementos de Ndarrays\n",
    "\n",
    "\n",
    "### Ejercicio\n",
    "\n",
    "Desde `taxi` ndarray:\n",
    "\n",
    "- Seleccione la fila en el índice `0`. Asígnela a `row_0`.\n",
    "- Seleccione cada columna para las filas en los índices `391` a `500` inclusive. Asígnelos a `rows_391_to_500`.\n",
    "- Seleccione el elemento en el índice de fila `21` y el índice de columna `5`. Asígnelo a `row_21_column_5`."
   ]
  },
  {
   "cell_type": "code",
   "execution_count": null,
   "id": "a80b5f2f",
   "metadata": {},
   "outputs": [],
   "source": [
    "row_0 = taxi[0]\n",
    "rows_391_to_500 = taxi[391:501]\n",
    "row_21_column_5 = taxi[21, 5]"
   ]
  },
  {
   "cell_type": "code",
   "execution_count": null,
   "id": "3e734a30",
   "metadata": {},
   "outputs": [],
   "source": [
    "print(rows_391_to_500)"
   ]
  },
  {
   "cell_type": "markdown",
   "id": "64dbca70",
   "metadata": {},
   "source": [
    "## 7. Selección de columnas y secciones de un arrreglo\n",
    "\n",
    "\n",
    "### Ejercicio\n",
    "\n",
    "De `taxi` ndarray:\n",
    "\n",
    "- Seleccione cada fila para las columnas en los índices `1`, `4` y `7`. Asígnelas a las `columns_1_4_7`.\n",
    "- Seleccione las columnas en los índices `5` a `8` inclusive para la fila en el índice `99`. Asígnelas a `row_99_columns_5_to_8`.\n",
    "- Seleccione las filas en los índices `100` a `200` inclusive para la columna en el índice `14`. Asígnelas a `rows_100_to_200_column_14`."
   ]
  },
  {
   "cell_type": "code",
   "execution_count": null,
   "id": "1eb1abea",
   "metadata": {},
   "outputs": [],
   "source": [
    "columns_1_4_7 = taxi[:, [1, 4, 7]]\n",
    "row_99_columns_5_to_8 = taxi[99, 5:9]\n",
    "rows_100_to_200_column_14 = taxi[100:201, 14]"
   ]
  },
  {
   "cell_type": "code",
   "execution_count": null,
   "id": "55e031b4",
   "metadata": {},
   "outputs": [],
   "source": [
    "print(rows_100_to_200_column_14)"
   ]
  },
  {
   "cell_type": "markdown",
   "id": "22ccb3f0",
   "metadata": {},
   "source": [
    "## 8. Matemáticas vectoriales.\n",
    "\n",
    "### Ejercicio\n",
    "\n",
    "- Use la suma de vectores para agregar `fare_amount` y `fees_amount`. Asigne el resultado a `fare_and_fees`.\n",
    "- Imprima las variables."
   ]
  },
  {
   "cell_type": "code",
   "execution_count": null,
   "id": "3cc9fcf9",
   "metadata": {},
   "outputs": [],
   "source": [
    "# given\n",
    "fare_amount = taxi[:, 9]\n",
    "fees_amount = taxi[:, 10]"
   ]
  },
  {
   "cell_type": "code",
   "execution_count": null,
   "id": "50fccca5",
   "metadata": {},
   "outputs": [],
   "source": [
    "fare_and_fees = fare_amount + fees_amount\n",
    "print(fare_and_fees)"
   ]
  },
  {
   "cell_type": "markdown",
   "id": "880ae8ce",
   "metadata": {},
   "source": [
    "## 9. Matemáticas vectoriales (continuación)\n",
    "\n",
    "### Ejercicio\n",
    "\n",
    "- Utilice la división de vectores para dividir `trip_distance_miles` por `trip_length_hours`. Asigne el resultado a `trip_mph`.\n",
    "- Imprima el contenido de la nueva variable `trip_mph`."
   ]
  },
  {
   "cell_type": "code",
   "execution_count": null,
   "id": "b160a5d1",
   "metadata": {},
   "outputs": [],
   "source": [
    "trip_distance_miles = taxi[:, 7]\n",
    "trip_length_hours = taxi[:, 8] / 3600"
   ]
  },
  {
   "cell_type": "code",
   "execution_count": null,
   "id": "debc9521",
   "metadata": {},
   "outputs": [],
   "source": [
    "trip_mph = trip_distance_miles / trip_length_hours"
   ]
  },
  {
   "cell_type": "code",
   "execution_count": null,
   "id": "d383320b",
   "metadata": {},
   "outputs": [],
   "source": [
    "print(trip_mph)"
   ]
  },
  {
   "cell_type": "markdown",
   "id": "263f7d4d",
   "metadata": {},
   "source": [
    "## 10. Cálculo de estadísticas para matrices 1D\n",
    "\n",
    "\n",
    "### Ejercicio\n",
    "\n",
    "1. Utilice el [método `ndarray.max()`](https://numpy.org/doc/stable/reference/generated/numpy.ndarray.max.html) para calcular el valor máximo de `trip_mph`. Asigne el resultado a `mph_max`.\n",
    "1. Usa el [método `ndarray.mean()`](https://numpy.org/doc/stable/reference/generated/numpy.ndarray.mean.html) para calcular el valor promedio de `trip_mph`. Asigne el resultado a `mph_mean`."
   ]
  },
  {
   "cell_type": "code",
   "execution_count": null,
   "id": "98586fad",
   "metadata": {},
   "outputs": [],
   "source": [
    "mph_max = trip_mph.max()\n",
    "mph_mean = trip_mph.mean()"
   ]
  },
  {
   "cell_type": "code",
   "execution_count": null,
   "id": "98ac01cf",
   "metadata": {},
   "outputs": [],
   "source": [
    "print(mph_max)\n",
    "print(f'Mean: {mph_mean:.2f}')"
   ]
  },
  {
   "cell_type": "markdown",
   "id": "45abca96",
   "metadata": {},
   "source": [
    "## 12. Cálculo de estadísticas para arreglos 2D\n",
    "\n",
    "### Ejercicio\n",
    "\n",
    "Asigne las primeras cinco filas de `taxi` a `taxi_first_five` y las primeras cuatro columnas de la tabla anterior a `fare_components`.\n",
    "\n",
    "Compruebe si la suma de cada fila en `fare_components` es igual al valor de la columna `total_amount`.\n",
    "\n",
    "1. Utilice el método `ndarray.sum()` para calcular la suma de cada fila en `fare_components`. Asigne el resultado a `fare_sums`.\n",
    "1. Extraiga la columna 14 en `taxi_first_five`. Asignar a `fare_totals`.\n",
    "1. Imprimir `fare_totals` y `fare_sums`. Imprima el resultado y verifique que los resultados coincidan."
   ]
  },
  {
   "cell_type": "code",
   "execution_count": null,
   "id": "59780e0e",
   "metadata": {},
   "outputs": [],
   "source": [
    "taxi_first_five = taxi[:5]\n",
    "fare_components = taxi_first_five[:, 9:13]"
   ]
  },
  {
   "cell_type": "code",
   "execution_count": null,
   "id": "143894cf",
   "metadata": {},
   "outputs": [],
   "source": [
    "fare_sums = fare_components.sum(axis=1)\n",
    "fare_totals = taxi_first_five[:, 13]"
   ]
  },
  {
   "cell_type": "code",
   "execution_count": null,
   "id": "445cf6e9",
   "metadata": {},
   "outputs": [],
   "source": [
    "print(fare_sums)\n",
    "print(fare_totals)"
   ]
  }
 ],
 "metadata": {
  "kernelspec": {
   "display_name": "data",
   "language": "python",
   "name": "data"
  },
  "language_info": {
   "codemirror_mode": {
    "name": "ipython",
    "version": 3
   },
   "file_extension": ".py",
   "mimetype": "text/x-python",
   "name": "python",
   "nbconvert_exporter": "python",
   "pygments_lexer": "ipython3",
   "version": "3.9.12"
  }
 },
 "nbformat": 4,
 "nbformat_minor": 5
}
