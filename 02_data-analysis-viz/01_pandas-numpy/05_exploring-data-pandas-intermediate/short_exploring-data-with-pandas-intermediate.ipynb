{
 "cells": [
  {
   "cell_type": "markdown",
   "id": "b53842f0",
   "metadata": {},
   "source": [
    "<center><h1>Exploración de datos con pandas: intermedio</h1></center>"
   ]
  },
  {
   "cell_type": "markdown",
   "id": "04834578",
   "metadata": {},
   "source": [
    "<h2>01. Introducción</h2>\n",
    "<h3>Ejercicio</h3>\n",
    "<br>\n",
    "<div><p>Ya hemos leído el conjunto de datos en un dataframe de pandas y lo hemos asignado a una variable llamado <code>f500</code>. También reemplazamos todos los valores <code>0</code> en la columna <code>previous_rank</code> con <code>NaN</code>, como hicimos en la lección anterior.</p>\n",
    "<ol>\n",
    "<li>Seleccione las columnas <code>rank</code>, <code>revenues</code> y <code>revenue_change</code> en <code>f500</code>. Luego, usa el método <code>DataFrame.head()</code> para seleccionar las primeras cinco filas. Asigne el resultado a <code>f500_selection</code>.</li>\n",
    "<li>Imprima la variable <code>f500_selection</code>. Compare los resultados con las primeras líneas de nuestro archivo CSV anterior.</li>\n",
    "<li>Eche un vistazo a la documentación de la función <a href=\"http://pandas.pydata.org/pandas-docs/stable/reference/api/pandas.read_csv.html\" target=\"_blank\"><code>pandas.read_csv()</code></a> para intentar comprender los resultados.</li>\n",
    "</ol></div></div>"
   ]
  },
  {
   "cell_type": "code",
   "execution_count": null,
   "id": "ce695978",
   "metadata": {},
   "outputs": [],
   "source": [
    "import numpy as np\n",
    "import pandas as pd"
   ]
  },
  {
   "cell_type": "code",
   "execution_count": null,
   "id": "51c31045",
   "metadata": {},
   "outputs": [],
   "source": [
    "# read the data set into a pandas dataframe\n",
    "f500 = pd.read_csv(\"f500.csv\", index_col=0)\n",
    "f500.index.name = None\n",
    "\n",
    "# replace 0 values in the \"previous_rank\" column with NaN\n",
    "f500.loc[f500[\"previous_rank\"] == 0, \"previous_rank\"] = np.nan"
   ]
  },
  {
   "cell_type": "code",
   "execution_count": null,
   "id": "ce73ebeb",
   "metadata": {},
   "outputs": [],
   "source": [
    "f500_selection = f500[['rank', 'revenues', 'revenue_change']].head()"
   ]
  },
  {
   "cell_type": "code",
   "execution_count": null,
   "id": "31d1c870",
   "metadata": {},
   "outputs": [],
   "source": [
    "f500_selection"
   ]
  },
  {
   "cell_type": "markdown",
   "id": "80da02a3",
   "metadata": {},
   "source": [
    "<h2>02. Leyendo archivos CSV con pandas</h2>\n",
    "\n",
    "<h3>Ejercicio</h3>\n",
    "<ol>\n",
    "<li>Utilice la función <code>pandas.read_csv()</code> para leer el archivo CSV <code>f500.csv</code> como un dataframe pandas. Asígnelo al nombre de variable <code>f500</code>.\n",
    "<ul>\n",
    "<li>No utilice el parámetro <code>index_col</code>.</li>\n",
    "</ul></li>\n",
    "<li>Utilice el siguiente código para insertar los valores de NaN en la columna <code>previous_rank</code>:\n",
    "<code>f500.loc[f500[\"previous_rank\"] == 0, \"previous_rank\"] = np.nan</code></li>\n",
    "</ol>"
   ]
  },
  {
   "cell_type": "code",
   "execution_count": null,
   "id": "e23513fa",
   "metadata": {},
   "outputs": [],
   "source": [
    "f500 = pd.read_csv('f500.csv')"
   ]
  },
  {
   "cell_type": "code",
   "execution_count": null,
   "id": "fa86a528",
   "metadata": {},
   "outputs": [],
   "source": [
    "f500.loc[f500['previous_rank'] == 0, 'previous_rank']"
   ]
  },
  {
   "cell_type": "code",
   "execution_count": null,
   "id": "af183bf6",
   "metadata": {},
   "outputs": [],
   "source": [
    "f500.loc[f500['previous_rank'] == 0, 'previous_rank'] = np.nan"
   ]
  },
  {
   "cell_type": "code",
   "execution_count": null,
   "id": "97b7f4e8",
   "metadata": {},
   "outputs": [],
   "source": [
    "f500.head()"
   ]
  },
  {
   "cell_type": "code",
   "execution_count": null,
   "id": "2f28b674",
   "metadata": {},
   "outputs": [],
   "source": [
    "f500.tail()"
   ]
  },
  {
   "cell_type": "markdown",
   "id": "9554071e",
   "metadata": {},
   "source": [
    "<div></div>\n",
    "<h2>03. Uso de iloc para seleccionar por posición entera</h2>\n",
    " \n",
    "<h3>Ejercicio</h3>\n",
    "<br>\n",
    "<ol>\n",
    "<li>Seleccione solo la quinta fila del dataframe <code>f500</code>. Asigne el resultado a <code>fifth_row</code>.</li>\n",
    "<li>Seleccione el valor en la primera fila de la columna <code>company</code>. Asigne el resultado a <code>company_value</code>.</li>\n",
    "</ol>"
   ]
  },
  {
   "cell_type": "code",
   "execution_count": null,
   "id": "2dd5b9b8",
   "metadata": {},
   "outputs": [],
   "source": [
    "fifth_row = f500.iloc[4]\n",
    "company_value = f500.iloc[0, 0]"
   ]
  },
  {
   "cell_type": "code",
   "execution_count": null,
   "id": "ed917d4c",
   "metadata": {},
   "outputs": [],
   "source": [
    "print(fifth_row)"
   ]
  },
  {
   "cell_type": "markdown",
   "id": "138985d2",
   "metadata": {},
   "source": [
    "<h2>04. Utilización de iloc para seleccionar por posición de número entero (continuación)</h2>\n",
    "\n",
    "<h3>Ejercicio</h3>\n",
    "<br>\n",
    "<ol>\n",
    "<li>Seleccione las tres primeras filas del dataframe <code>f500</code>. Asigne el resultado a <code>first_three_rows</code>.</li>\n",
    "<li>Seleccione la primera y la séptima fila y las primeras cinco columnas del dataframe <code>f500</code>. Asigne el resultado a <code>first_seventh_row_slice</code>.</li>\n",
    "<li>Después de ejecutar su código, imprima sus variables.</li>\n",
    "</ol>"
   ]
  },
  {
   "cell_type": "code",
   "execution_count": null,
   "id": "e54947b6",
   "metadata": {},
   "outputs": [],
   "source": [
    "first_three_rows = f500.iloc[:3]\n",
    "first_seventh_row_slice = f500.iloc[[0, 6], :5]"
   ]
  },
  {
   "cell_type": "code",
   "execution_count": null,
   "id": "64d18fba",
   "metadata": {},
   "outputs": [],
   "source": [
    "print(first_seventh_row_slice)"
   ]
  },
  {
   "cell_type": "markdown",
   "id": "f36772e4",
   "metadata": {},
   "source": [
    "<h2>05. Uso de métodos pandas para crear máscaras booleanas</h2>\n",
    "\n",
    "<h3>Ejercicio</h3>\n",
    "<br>\n",
    "<ol>\n",
    "<li>Use el método <code>Series.isnull()</code> para seleccionar todas las filas de <code>f500</code> que tienen un valor nulo para la columna <code>previous_rank</code>. Seleccione solo las columnas <code>company</code>, <code>rank</code> y <code>previous_rank</code>. Asigne el resultado a <code>null_previous_rank</code>.</li>\n",
    "</ol>\n"
   ]
  },
  {
   "cell_type": "code",
   "execution_count": null,
   "id": "86e387b0",
   "metadata": {},
   "outputs": [],
   "source": [
    "null_previous_rank = (\n",
    "    f500.loc[\n",
    "        f500['previous_rank'].isnull(), \n",
    "        ['company', 'rank', 'previous_rank']\n",
    "    ]\n",
    "                     )"
   ]
  },
  {
   "cell_type": "code",
   "execution_count": null,
   "id": "534fef77",
   "metadata": {},
   "outputs": [],
   "source": [
    "print(f500['previous_rank'].isnull().value_counts())"
   ]
  },
  {
   "cell_type": "markdown",
   "id": "d819bf01",
   "metadata": {},
   "source": [
    "<h2>06. Trabajar con etiquetas enteras</h2>\n",
    "\n",
    "\n",
    "<h3>Ejercicio</h3>\n",
    "<br>\n",
    "<ol>\n",
    "<li>Asigne las primeras cinco filas del dataframe <code>null_previous_rank</code> a la variable <code>top5_null_prev_rank</code> eligiendo el método correcto entre <code>loc[]</code> o <code>iloc[]</code>.</li>\n",
    "</ol>"
   ]
  },
  {
   "cell_type": "code",
   "execution_count": null,
   "id": "4f369458",
   "metadata": {},
   "outputs": [],
   "source": [
    "null_previous_rank = f500[f500[\"previous_rank\"].isnull()]\n",
    "top5_null_prev_rank = null_previous_rank.iloc[:5]"
   ]
  },
  {
   "cell_type": "code",
   "execution_count": null,
   "id": "691c1e47",
   "metadata": {},
   "outputs": [],
   "source": [
    "top5_null_prev_rank"
   ]
  },
  {
   "cell_type": "markdown",
   "id": "d6439512",
   "metadata": {},
   "source": [
    "<h2>07. Alineación de índices</h2>\n",
    "\n",
    "<h3>Ejercicio</h3>\n",
    "<br>\n",
    "<ol>\n",
    "<li>Utilice el método <code>Series.notnull()</code> para seleccionar todas las filas de <code>f500</code> que tengan un valor no nulo para la columna <code>previous_rank</code>. Asigne el resultado a <code>previously_ranked</code></li>\n",
    "<li>Del dataframe <code>previously_ranked</code>, reste la columna <code>rank</code> de la columna <code>previous_rank</code>. Asigne el resultado a <code>rank_change</code>.</li>\n",
    "<li>Asigne los valores en <code>rank_change</code> a una nueva columna en el dataframe <code>f500</code>, <code>\"rank_change\"</code>.</li>\n",
    "<li>Imprima las variables para ver el dataframe <code>f500</code> y observe cómo la nueva columna se alinea con los datos existentes.</li>\n",
    "</ol>"
   ]
  },
  {
   "cell_type": "code",
   "execution_count": null,
   "id": "d8bbcc86",
   "metadata": {},
   "outputs": [],
   "source": [
    "previously_ranked = f500[f500['previous_rank'].notnull()]"
   ]
  },
  {
   "cell_type": "code",
   "execution_count": null,
   "id": "6a5eeed5",
   "metadata": {},
   "outputs": [],
   "source": [
    "rank_change = previously_ranked['previous_rank'] - previously_ranked['rank']"
   ]
  },
  {
   "cell_type": "code",
   "execution_count": null,
   "id": "9c8220e2",
   "metadata": {},
   "outputs": [],
   "source": [
    "print(rank_change.shape)\n",
    "print(rank_change.tail(3))"
   ]
  },
  {
   "cell_type": "code",
   "execution_count": null,
   "id": "cb8889af",
   "metadata": {},
   "outputs": [],
   "source": [
    "f500['rank_change'] = rank_change"
   ]
  },
  {
   "cell_type": "code",
   "execution_count": null,
   "id": "b69fe8f4",
   "metadata": {},
   "outputs": [],
   "source": [
    "f500.head()"
   ]
  },
  {
   "cell_type": "markdown",
   "id": "1f69e5e5",
   "metadata": {},
   "source": [
    "<h2>08. Uso de operadores booleanos</h2>\n",
    "\n",
    "<h3>Ejercicio</h3>\n",
    "<br>\n",
    "<ol>\n",
    "<li>Seleccione todas las empresas con ingresos superiores a 100 000 millones y beneficios negativos del dataframe <code>f500</code>. El resultado debe incluir todas las columnas.<ul>\n",
    "<li>Cree una matriz booleana que seleccione las empresas con ingresos superiores a 100 000 millones. Asigne el resultado a <code>large_revenue</code>.</li>\n",
    "<li>Cree una matriz booleana que seleccione las empresas con beneficios inferiores a 0. Asigne el resultado a <code>negative_profits</code>.</li>\n",
    "<li>Combine <code>large_revenue</code> y <code>negative_profits</code>. Asigne el resultado a <code>combined</code>.</li>\n",
    "<li>Utilice <code>combined</code> para filtrar <code>f500</code>. Asigne el resultado a <code>big_rev_neg_profit</code>.</li>\n",
    "</ul>\n",
    "</li>\n",
    "</ol>"
   ]
  },
  {
   "cell_type": "code",
   "execution_count": null,
   "id": "c1acde59",
   "metadata": {},
   "outputs": [],
   "source": [
    "large_revenue = f500['revenues'] > 100_000"
   ]
  },
  {
   "cell_type": "code",
   "execution_count": null,
   "id": "62a2673a",
   "metadata": {},
   "outputs": [],
   "source": [
    "negative_profits = f500['profits'] < 0"
   ]
  },
  {
   "cell_type": "code",
   "execution_count": null,
   "id": "77c79555",
   "metadata": {},
   "outputs": [],
   "source": [
    "combined = large_revenue & negative_profits"
   ]
  },
  {
   "cell_type": "code",
   "execution_count": null,
   "id": "914be935",
   "metadata": {},
   "outputs": [],
   "source": [
    "big_rev_neg_profit = f500[combined]"
   ]
  },
  {
   "cell_type": "code",
   "execution_count": null,
   "id": "0fa062f2",
   "metadata": {},
   "outputs": [],
   "source": [
    "big_rev_neg_profit"
   ]
  },
  {
   "cell_type": "markdown",
   "id": "18080695",
   "metadata": {},
   "source": [
    "<h2>09. Uso de operadores booleanos, continuación</h2>\n",
    "\n",
    "<h3>Ejercicio</h3>\n",
    "<br>\n",
    "<ol>\n",
    "<li>Seleccione todas las filas de empresas cuyo valor de <code>country</code> sea Brasil o Venezuela. Asigne el resultado a <code>brazil_venezuela</code>.</li>\n",
    "<li>Seleccione las primeras cinco empresas en el sector \"Technology\" cuyo país <strong>no</strong> es EE. UU. del dataframe <code>f500</code>. Asigne el resultado a <code>tech_outside_usa</code>.</li>\n",
    "</ol>"
   ]
  },
  {
   "cell_type": "code",
   "execution_count": null,
   "id": "836457ea",
   "metadata": {},
   "outputs": [],
   "source": [
    "brazil_venezuela = f500[(f500['country'] == 'Brazil') | (f500['country'] == 'Venezuela')]"
   ]
  },
  {
   "cell_type": "code",
   "execution_count": null,
   "id": "2b442a8e",
   "metadata": {},
   "outputs": [],
   "source": [
    "tech_outside_usa = f500[(f500['sector'] == 'Technology') & (f500['country'] != 'USA')].head()"
   ]
  },
  {
   "cell_type": "markdown",
   "id": "cc31d598",
   "metadata": {},
   "source": [
    "<h2>10. Ordenar Valores</h2>\n",
    "\n",
    "<h3>Ejercicio</h3>\n",
    "<br>\n",
    "<ol>\n",
    "<li>Encuentre la empresa con sede en Japón y la mayor cantidad de empleados.<ul>\n",
    "<li>Seleccione solo las filas que tengan un nombre de país igual a <code>Japón</code>. </li>\n",
    "<li>Use <code>DataFrame.sort_values()</code> para ordenar esas filas <em>por</em> la columna <code>empleados</code> en orden <em>descendente</em>.</li>\n",
    "<li>Utilice <code>DataFrame.iloc[]</code> para seleccionar la primera fila del dataframe ordenado.</li>\n",
    "<li>Extraiga el nombre de la empresa de la etiqueta de índice <code>company</code> de la primera fila. Asigne el resultado a <code>top_japanese_employer</code>. </li>\n",
    "</ul>\n",
    "</li>\n",
    "<li>Después de ejecutar su código, imprima las variables para ver el principal empleador de <code>Japón</code>.</li>\n",
    "</ol>"
   ]
  },
  {
   "cell_type": "code",
   "execution_count": null,
   "id": "99f56631",
   "metadata": {},
   "outputs": [],
   "source": [
    "top_japanese_employer = f500[f500['country'] == 'Japan'].sort_values('employees',  ascending=False).iloc[0, 0]"
   ]
  },
  {
   "cell_type": "code",
   "execution_count": null,
   "id": "a003df9b",
   "metadata": {},
   "outputs": [],
   "source": [
    "top_japanese_employer"
   ]
  },
  {
   "cell_type": "markdown",
   "id": "80d98c1d",
   "metadata": {},
   "source": [
    "<h2>11. Uso de bucles con pandas</h2>\n",
    "\n",
    "<h3>Ejercicio</h3>\n",
    "<br>\n",
    "<div><p>En este ejercicio, vamos a generar el siguiente diccionario del principal empleador en cada país:</p>\n",
    "<pre><code>{'EE.UU.': 'Walmart',\n",
    " 'China': 'China National Petroleum',\n",
    " 'Japón': 'Toyota Motor',\n",
    " ...\n",
    " 'Turquía': 'Koc Holding',\n",
    " 'EAU': 'Emirates Group',\n",
    " 'Israel': 'Teva Pharmaceutical Industries'}\n",
    "</code></pre>\n",
    "<ol>\n",
    "<li>Cree un diccionario vacío, <code>top_employer_by_country</code> para almacenar los resultados del ejercicio.</li>\n",
    "<li>Utilice el método <code>Series.unique()</code> para crear una matriz de valores únicos a partir de la columna <code>country</code>.</li>\n",
    "<li>Use un ciclo for para iterar sobre los países únicos de la matriz. En cada iteración:<ul>\n",
    "<li>Seleccione solo las filas que tengan un nombre de país igual al de la iteración actual.</li>\n",
    "<li>Use <code>DataFrame.sort_values()</code> para ordenar esas filas <em>por</em> la columna <code>empleados</code> en orden <em>descendente</em>.</li>\n",
    "<li>Seleccione la primera fila del dataframe ordenado.</li>\n",
    "<li>Extraiga el nombre de la empresa de la columna <code>company</code> de la primera fila.</li>\n",
    "<li>Asigne los resultados al diccionario <code>top_employer_by_country</code>, utilizando el nombre del país como llave y el nombre de la empresa como valor.</li>\n",
    "</ul>\n",
    "</li>\n",
    "<li>Imprima las variables para ver el principal empleador de cada país.</li>\n",
    "</ol></div>"
   ]
  },
  {
   "cell_type": "code",
   "execution_count": null,
   "id": "fe5bd027",
   "metadata": {},
   "outputs": [],
   "source": [
    "top_employer_by_country = {}\n",
    "countries = f500['country'].unique()"
   ]
  },
  {
   "cell_type": "code",
   "execution_count": null,
   "id": "814d0e38",
   "metadata": {},
   "outputs": [],
   "source": [
    "print(countries)"
   ]
  },
  {
   "cell_type": "code",
   "execution_count": null,
   "id": "8787ca59",
   "metadata": {},
   "outputs": [],
   "source": [
    "for country in countries:\n",
    "    selected_row = f500[f500['country'] == country].sort_values('employees', ascending=False).iloc[0]\n",
    "    top_employer_by_country[country] = selected_row['company']"
   ]
  },
  {
   "cell_type": "code",
   "execution_count": null,
   "id": "22ff2fac",
   "metadata": {},
   "outputs": [],
   "source": [
    "top_employer_by_country"
   ]
  },
  {
   "cell_type": "markdown",
   "id": "9816cb04",
   "metadata": {},
   "source": [
    "<h2>12. Desafío: Calcular el rendimiento de los activos por país</h2>\n",
    "\n",
    "<h3>Ejercicio</h3>\n",
    "<ol>\n",
    "<li>Cree una nueva columna <code>roa</code> en el dataframe <code>f500</code>, que contenga la métrica de rendimiento de los activos para cada empresa.</li>\n",
    "<li>Agregue los datos por la columna <code>sector</code> y cree un diccionario <code>top_roa_by_sector</code>, con:<ul>\n",
    "<li>El nombre del sector como llaves del Diccionario.</li>\n",
    "<li>El nombre de la empresa con el valor ROA más alto de ese sector como valores del diccionario .</li>\n",
    "</ul>\n",
    "</li>\n",
    "</ol>"
   ]
  },
  {
   "cell_type": "code",
   "execution_count": null,
   "id": "b723170c",
   "metadata": {},
   "outputs": [],
   "source": [
    "# step 1\n",
    "f500['roa'] = f500['profits'] / f500['assets']"
   ]
  },
  {
   "cell_type": "code",
   "execution_count": null,
   "id": "359c0c7a",
   "metadata": {},
   "outputs": [],
   "source": [
    "print(f500['profits assets roa'.split()].head())"
   ]
  },
  {
   "cell_type": "code",
   "execution_count": null,
   "id": "5c6ba934",
   "metadata": {},
   "outputs": [],
   "source": [
    "# step 2\n",
    "top_roa_by_sector = {}\n",
    "sectors = f500['sector'].unique()"
   ]
  },
  {
   "cell_type": "code",
   "execution_count": null,
   "id": "d37065e5",
   "metadata": {},
   "outputs": [],
   "source": [
    "for sector in sectors:\n",
    "    selected_row = f500[f500['sector'] == sector].sort_values('roa', ascending=False).iloc[0]\n",
    "    top_roa_by_sector[sector] = selected_row['company']"
   ]
  },
  {
   "cell_type": "code",
   "execution_count": null,
   "id": "f36e0eeb",
   "metadata": {},
   "outputs": [],
   "source": [
    "top_roa_by_sector"
   ]
  },
  {
   "cell_type": "markdown",
   "id": "5a19d64e",
   "metadata": {},
   "source": [
    "## Conclusión \n",
    "\n",
    "<ul>\n",
    "<li>Seleccionar columnas, filas y elementos individuales usando su ubicación entera.</li>\n",
    "<li>Utilizar <code>pd.read_csv()</code> para leer archivos CSV en pandas.</li>\n",
    "<li>Trabajar con etiquetas de ejes enteros.</li>\n",
    "<li>Cómo usar los métodos de pandas para producir arreglos booleanos.</li>\n",
    "<li>Utilizar operadores booleanos para combinar comparaciones booleanas para realizar análisis más complejos.</li>\n",
    "<li>Utilizar etiquetas de índice para alinear los datos.</li>\n",
    "<li>Utilizar la agregación para realizar análisis avanzados mediante bucles.</li>\n",
    "</ul>\n"
   ]
  }
 ],
 "metadata": {
  "kernelspec": {
   "display_name": "data",
   "language": "python",
   "name": "data"
  },
  "language_info": {
   "codemirror_mode": {
    "name": "ipython",
    "version": 3
   },
   "file_extension": ".py",
   "mimetype": "text/x-python",
   "name": "python",
   "nbconvert_exporter": "python",
   "pygments_lexer": "ipython3",
   "version": "3.9.12"
  }
 },
 "nbformat": 4,
 "nbformat_minor": 5
}
