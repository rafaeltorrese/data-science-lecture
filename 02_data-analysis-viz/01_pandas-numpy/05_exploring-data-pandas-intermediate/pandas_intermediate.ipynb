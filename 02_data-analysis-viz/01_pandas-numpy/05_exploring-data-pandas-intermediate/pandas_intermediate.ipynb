{
 "cells": [
  {
   "cell_type": "markdown",
   "id": "b5409c94",
   "metadata": {},
   "source": [
    "# Part01"
   ]
  },
  {
   "cell_type": "code",
   "execution_count": 1,
   "id": "9898e8d7",
   "metadata": {},
   "outputs": [],
   "source": [
    "import numpy as np\n",
    "import pandas as pd"
   ]
  },
  {
   "cell_type": "code",
   "execution_count": 2,
   "id": "24c29f14",
   "metadata": {},
   "outputs": [],
   "source": [
    "# read the data set into a pandas dataframe\n",
    "f500 = pd.read_csv(\"f500.csv\", index_col=0)\n",
    "f500.index.name = None\n",
    "\n",
    "# replace 0 values in the \"previous_rank\" column with NaN\n",
    "f500.loc[f500[\"previous_rank\"] == 0, \"previous_rank\"] = np.nan\n",
    "\n",
    "f500_selection = f500[['rank', 'revenues', 'revenue_change']].head()"
   ]
  },
  {
   "cell_type": "code",
   "execution_count": 3,
   "id": "0286e5b6",
   "metadata": {},
   "outputs": [
    {
     "data": {
      "text/html": [
       "<div>\n",
       "<style scoped>\n",
       "    .dataframe tbody tr th:only-of-type {\n",
       "        vertical-align: middle;\n",
       "    }\n",
       "\n",
       "    .dataframe tbody tr th {\n",
       "        vertical-align: top;\n",
       "    }\n",
       "\n",
       "    .dataframe thead th {\n",
       "        text-align: right;\n",
       "    }\n",
       "</style>\n",
       "<table border=\"1\" class=\"dataframe\">\n",
       "  <thead>\n",
       "    <tr style=\"text-align: right;\">\n",
       "      <th></th>\n",
       "      <th>rank</th>\n",
       "      <th>revenues</th>\n",
       "      <th>revenue_change</th>\n",
       "    </tr>\n",
       "  </thead>\n",
       "  <tbody>\n",
       "    <tr>\n",
       "      <th>Walmart</th>\n",
       "      <td>1</td>\n",
       "      <td>485873</td>\n",
       "      <td>0.8</td>\n",
       "    </tr>\n",
       "    <tr>\n",
       "      <th>State Grid</th>\n",
       "      <td>2</td>\n",
       "      <td>315199</td>\n",
       "      <td>-4.4</td>\n",
       "    </tr>\n",
       "    <tr>\n",
       "      <th>Sinopec Group</th>\n",
       "      <td>3</td>\n",
       "      <td>267518</td>\n",
       "      <td>-9.1</td>\n",
       "    </tr>\n",
       "    <tr>\n",
       "      <th>China National Petroleum</th>\n",
       "      <td>4</td>\n",
       "      <td>262573</td>\n",
       "      <td>-12.3</td>\n",
       "    </tr>\n",
       "    <tr>\n",
       "      <th>Toyota Motor</th>\n",
       "      <td>5</td>\n",
       "      <td>254694</td>\n",
       "      <td>7.7</td>\n",
       "    </tr>\n",
       "  </tbody>\n",
       "</table>\n",
       "</div>"
      ],
      "text/plain": [
       "                          rank  revenues  revenue_change\n",
       "Walmart                      1    485873             0.8\n",
       "State Grid                   2    315199            -4.4\n",
       "Sinopec Group                3    267518            -9.1\n",
       "China National Petroleum     4    262573           -12.3\n",
       "Toyota Motor                 5    254694             7.7"
      ]
     },
     "execution_count": 3,
     "metadata": {},
     "output_type": "execute_result"
    }
   ],
   "source": [
    "f500_selection"
   ]
  },
  {
   "cell_type": "markdown",
   "id": "9d6540e8",
   "metadata": {},
   "source": [
    "![csv](figs/csv_to_dataframe.svg)"
   ]
  },
  {
   "cell_type": "markdown",
   "id": "2db416da",
   "metadata": {},
   "source": [
    "# Part02"
   ]
  },
  {
   "cell_type": "code",
   "execution_count": 4,
   "id": "0277b31a",
   "metadata": {},
   "outputs": [
    {
     "data": {
      "text/html": [
       "<div>\n",
       "<style scoped>\n",
       "    .dataframe tbody tr th:only-of-type {\n",
       "        vertical-align: middle;\n",
       "    }\n",
       "\n",
       "    .dataframe tbody tr th {\n",
       "        vertical-align: top;\n",
       "    }\n",
       "\n",
       "    .dataframe thead th {\n",
       "        text-align: right;\n",
       "    }\n",
       "</style>\n",
       "<table border=\"1\" class=\"dataframe\">\n",
       "  <thead>\n",
       "    <tr style=\"text-align: right;\">\n",
       "      <th></th>\n",
       "      <th>company</th>\n",
       "      <th>rank</th>\n",
       "      <th>revenues</th>\n",
       "    </tr>\n",
       "  </thead>\n",
       "  <tbody>\n",
       "    <tr>\n",
       "      <th>0</th>\n",
       "      <td>Walmart</td>\n",
       "      <td>1</td>\n",
       "      <td>485873</td>\n",
       "    </tr>\n",
       "    <tr>\n",
       "      <th>1</th>\n",
       "      <td>State Grid</td>\n",
       "      <td>2</td>\n",
       "      <td>315199</td>\n",
       "    </tr>\n",
       "    <tr>\n",
       "      <th>2</th>\n",
       "      <td>Sinopec Group</td>\n",
       "      <td>3</td>\n",
       "      <td>267518</td>\n",
       "    </tr>\n",
       "    <tr>\n",
       "      <th>3</th>\n",
       "      <td>China National Petroleum</td>\n",
       "      <td>4</td>\n",
       "      <td>262573</td>\n",
       "    </tr>\n",
       "    <tr>\n",
       "      <th>4</th>\n",
       "      <td>Toyota Motor</td>\n",
       "      <td>5</td>\n",
       "      <td>254694</td>\n",
       "    </tr>\n",
       "  </tbody>\n",
       "</table>\n",
       "</div>"
      ],
      "text/plain": [
       "                    company  rank  revenues\n",
       "0                   Walmart     1    485873\n",
       "1                State Grid     2    315199\n",
       "2             Sinopec Group     3    267518\n",
       "3  China National Petroleum     4    262573\n",
       "4              Toyota Motor     5    254694"
      ]
     },
     "execution_count": 4,
     "metadata": {},
     "output_type": "execute_result"
    }
   ],
   "source": [
    "f500 = pd.read_csv('f500.csv')\n",
    "\n",
    "f500.loc[f500['previous_rank'] == 0, 'previous_rank'] = np.nan\n",
    "\n",
    "f500[['company', 'rank', 'revenues']].head()"
   ]
  },
  {
   "cell_type": "markdown",
   "id": "1ea50b48",
   "metadata": {},
   "source": [
    "![Selection loc](figs/selection_loc.svg)\n"
   ]
  },
  {
   "cell_type": "markdown",
   "id": "49914027",
   "metadata": {},
   "source": [
    "![Selection iloc](figs/selection_iloc.svg)"
   ]
  },
  {
   "cell_type": "markdown",
   "id": "9e1b6667",
   "metadata": {},
   "source": [
    "# Part03"
   ]
  },
  {
   "cell_type": "code",
   "execution_count": 5,
   "id": "fd6c8b9e",
   "metadata": {},
   "outputs": [
    {
     "name": "stdout",
     "output_type": "stream",
     "text": [
      "company                                     Toyota Motor\n",
      "rank                                                   5\n",
      "revenues                                          254694\n",
      "revenue_change                                       7.7\n",
      "profits                                          16899.3\n",
      "assets                                            437575\n",
      "profit_change                                      -12.3\n",
      "ceo                                          Akio Toyoda\n",
      "industry                        Motor Vehicles and Parts\n",
      "sector                            Motor Vehicles & Parts\n",
      "previous_rank                                        8.0\n",
      "country                                            Japan\n",
      "hq_location                                Toyota, Japan\n",
      "website                     http://www.toyota-global.com\n",
      "years_on_global_500_list                              23\n",
      "employees                                         364445\n",
      "total_stockholder_equity                          157210\n",
      "Name: 4, dtype: object\n"
     ]
    }
   ],
   "source": [
    "fifth_row = f500.iloc[4]\n",
    "company_value = f500.iloc[0, 0]\n",
    "\n",
    "print(fifth_row)"
   ]
  },
  {
   "cell_type": "code",
   "execution_count": 6,
   "id": "851ec6df",
   "metadata": {},
   "outputs": [
    {
     "name": "stdout",
     "output_type": "stream",
     "text": [
      "Walmart\n"
     ]
    }
   ],
   "source": [
    "print(company_value)"
   ]
  },
  {
   "cell_type": "markdown",
   "id": "9eaa5a82",
   "metadata": {},
   "source": [
    "# Part04"
   ]
  },
  {
   "cell_type": "code",
   "execution_count": 7,
   "id": "9ec22705",
   "metadata": {},
   "outputs": [],
   "source": [
    "first_three_rows = f500.iloc[:3]\n",
    "first_seventh_row_slice = f500.iloc[[0, 6], :5]"
   ]
  },
  {
   "cell_type": "markdown",
   "id": "329d25cd",
   "metadata": {},
   "source": [
    "# Part05"
   ]
  },
  {
   "cell_type": "code",
   "execution_count": 8,
   "id": "61c23335",
   "metadata": {},
   "outputs": [
    {
     "name": "stdout",
     "output_type": "stream",
     "text": [
      "0    False\n",
      "1    False\n",
      "2    False\n",
      "3    False\n",
      "4    False\n",
      "Name: revenue_change, dtype: bool\n"
     ]
    }
   ],
   "source": [
    "rev_is_null = f500[\"revenue_change\"].isnull()\n",
    "print(rev_is_null.head())"
   ]
  },
  {
   "cell_type": "code",
   "execution_count": 9,
   "id": "d3046d9c",
   "metadata": {},
   "outputs": [
    {
     "name": "stdout",
     "output_type": "stream",
     "text": [
      "                        company  country      sector\n",
      "90                       Uniper  Germany      Energy\n",
      "180  Hewlett Packard Enterprise      USA  Technology\n"
     ]
    }
   ],
   "source": [
    "rev_change_null = f500[rev_is_null]\n",
    "print(rev_change_null[[\"company\",\"country\",\"sector\"]])"
   ]
  },
  {
   "cell_type": "code",
   "execution_count": 10,
   "id": "7f5887b4",
   "metadata": {},
   "outputs": [
    {
     "name": "stdout",
     "output_type": "stream",
     "text": [
      "False    467\n",
      "True      33\n",
      "Name: previous_rank, dtype: int64\n"
     ]
    }
   ],
   "source": [
    "null_previous_rank = f500.loc[f500['previous_rank'].isnull(), ['company', 'rank', 'previous_rank']]\n",
    "print(f500['previous_rank'].isnull().value_counts())"
   ]
  },
  {
   "cell_type": "markdown",
   "id": "3ecfb073",
   "metadata": {},
   "source": [
    "# Part06"
   ]
  },
  {
   "cell_type": "code",
   "execution_count": 11,
   "id": "b4915c41",
   "metadata": {},
   "outputs": [],
   "source": [
    "null_previous_rank = f500[f500[\"previous_rank\"].isnull()]\n"
   ]
  },
  {
   "cell_type": "code",
   "execution_count": 12,
   "id": "e2b80630",
   "metadata": {},
   "outputs": [
    {
     "data": {
      "text/html": [
       "<div>\n",
       "<style scoped>\n",
       "    .dataframe tbody tr th:only-of-type {\n",
       "        vertical-align: middle;\n",
       "    }\n",
       "\n",
       "    .dataframe tbody tr th {\n",
       "        vertical-align: top;\n",
       "    }\n",
       "\n",
       "    .dataframe thead th {\n",
       "        text-align: right;\n",
       "    }\n",
       "</style>\n",
       "<table border=\"1\" class=\"dataframe\">\n",
       "  <thead>\n",
       "    <tr style=\"text-align: right;\">\n",
       "      <th></th>\n",
       "      <th>company</th>\n",
       "      <th>rank</th>\n",
       "      <th>previous_rank</th>\n",
       "    </tr>\n",
       "  </thead>\n",
       "  <tbody>\n",
       "    <tr>\n",
       "      <th>48</th>\n",
       "      <td>Legal &amp; General Group</td>\n",
       "      <td>49</td>\n",
       "      <td>NaN</td>\n",
       "    </tr>\n",
       "    <tr>\n",
       "      <th>90</th>\n",
       "      <td>Uniper</td>\n",
       "      <td>91</td>\n",
       "      <td>NaN</td>\n",
       "    </tr>\n",
       "    <tr>\n",
       "      <th>123</th>\n",
       "      <td>Dell Technologies</td>\n",
       "      <td>124</td>\n",
       "      <td>NaN</td>\n",
       "    </tr>\n",
       "    <tr>\n",
       "      <th>138</th>\n",
       "      <td>Anbang Insurance Group</td>\n",
       "      <td>139</td>\n",
       "      <td>NaN</td>\n",
       "    </tr>\n",
       "    <tr>\n",
       "      <th>140</th>\n",
       "      <td>Albertsons Cos.</td>\n",
       "      <td>141</td>\n",
       "      <td>NaN</td>\n",
       "    </tr>\n",
       "  </tbody>\n",
       "</table>\n",
       "</div>"
      ],
      "text/plain": [
       "                    company  rank  previous_rank\n",
       "48    Legal & General Group    49            NaN\n",
       "90                   Uniper    91            NaN\n",
       "123       Dell Technologies   124            NaN\n",
       "138  Anbang Insurance Group   139            NaN\n",
       "140         Albertsons Cos.   141            NaN"
      ]
     },
     "execution_count": 12,
     "metadata": {},
     "output_type": "execute_result"
    }
   ],
   "source": [
    "null_previous_rank[['company', 'rank', 'previous_rank']].head()"
   ]
  },
  {
   "cell_type": "code",
   "execution_count": 13,
   "id": "a0fa39b0",
   "metadata": {},
   "outputs": [
    {
     "data": {
      "text/html": [
       "<div>\n",
       "<style scoped>\n",
       "    .dataframe tbody tr th:only-of-type {\n",
       "        vertical-align: middle;\n",
       "    }\n",
       "\n",
       "    .dataframe tbody tr th {\n",
       "        vertical-align: top;\n",
       "    }\n",
       "\n",
       "    .dataframe thead th {\n",
       "        text-align: right;\n",
       "    }\n",
       "</style>\n",
       "<table border=\"1\" class=\"dataframe\">\n",
       "  <thead>\n",
       "    <tr style=\"text-align: right;\">\n",
       "      <th></th>\n",
       "      <th>company</th>\n",
       "      <th>rank</th>\n",
       "      <th>revenues</th>\n",
       "      <th>revenue_change</th>\n",
       "      <th>profits</th>\n",
       "      <th>assets</th>\n",
       "      <th>profit_change</th>\n",
       "      <th>ceo</th>\n",
       "      <th>industry</th>\n",
       "      <th>sector</th>\n",
       "      <th>previous_rank</th>\n",
       "      <th>country</th>\n",
       "      <th>hq_location</th>\n",
       "      <th>website</th>\n",
       "      <th>years_on_global_500_list</th>\n",
       "      <th>employees</th>\n",
       "      <th>total_stockholder_equity</th>\n",
       "    </tr>\n",
       "  </thead>\n",
       "  <tbody>\n",
       "    <tr>\n",
       "      <th>48</th>\n",
       "      <td>Legal &amp; General Group</td>\n",
       "      <td>49</td>\n",
       "      <td>105235</td>\n",
       "      <td>442.3</td>\n",
       "      <td>1697.9</td>\n",
       "      <td>577954</td>\n",
       "      <td>3.4</td>\n",
       "      <td>Nigel Wilson</td>\n",
       "      <td>Insurance: Life, Health (stock)</td>\n",
       "      <td>Financials</td>\n",
       "      <td>NaN</td>\n",
       "      <td>Britain</td>\n",
       "      <td>London, Britain</td>\n",
       "      <td>http://www.legalandgeneralgroup.com</td>\n",
       "      <td>17</td>\n",
       "      <td>8939</td>\n",
       "      <td>8579</td>\n",
       "    </tr>\n",
       "    <tr>\n",
       "      <th>90</th>\n",
       "      <td>Uniper</td>\n",
       "      <td>91</td>\n",
       "      <td>74407</td>\n",
       "      <td>NaN</td>\n",
       "      <td>-3557.5</td>\n",
       "      <td>51541</td>\n",
       "      <td>NaN</td>\n",
       "      <td>Klaus Schafer</td>\n",
       "      <td>Energy</td>\n",
       "      <td>Energy</td>\n",
       "      <td>NaN</td>\n",
       "      <td>Germany</td>\n",
       "      <td>Dusseldorf, Germany</td>\n",
       "      <td>http://www.uniper.energy</td>\n",
       "      <td>1</td>\n",
       "      <td>12890</td>\n",
       "      <td>12889</td>\n",
       "    </tr>\n",
       "    <tr>\n",
       "      <th>123</th>\n",
       "      <td>Dell Technologies</td>\n",
       "      <td>124</td>\n",
       "      <td>64806</td>\n",
       "      <td>18.1</td>\n",
       "      <td>-1672.0</td>\n",
       "      <td>118206</td>\n",
       "      <td>NaN</td>\n",
       "      <td>Michael S. Dell</td>\n",
       "      <td>Computers, Office Equipment</td>\n",
       "      <td>Technology</td>\n",
       "      <td>NaN</td>\n",
       "      <td>USA</td>\n",
       "      <td>Round Rock, TX</td>\n",
       "      <td>http://www.delltechnologies.com</td>\n",
       "      <td>17</td>\n",
       "      <td>138000</td>\n",
       "      <td>13243</td>\n",
       "    </tr>\n",
       "    <tr>\n",
       "      <th>138</th>\n",
       "      <td>Anbang Insurance Group</td>\n",
       "      <td>139</td>\n",
       "      <td>60800</td>\n",
       "      <td>124.0</td>\n",
       "      <td>3883.9</td>\n",
       "      <td>430040</td>\n",
       "      <td>0.9</td>\n",
       "      <td>Wu Xiaohui</td>\n",
       "      <td>Insurance: Life, Health (Mutual)</td>\n",
       "      <td>Financials</td>\n",
       "      <td>NaN</td>\n",
       "      <td>China</td>\n",
       "      <td>Beijing, China</td>\n",
       "      <td>http://www.anbanggroup.com</td>\n",
       "      <td>1</td>\n",
       "      <td>40707</td>\n",
       "      <td>20372</td>\n",
       "    </tr>\n",
       "    <tr>\n",
       "      <th>140</th>\n",
       "      <td>Albertsons Cos.</td>\n",
       "      <td>141</td>\n",
       "      <td>59678</td>\n",
       "      <td>1.6</td>\n",
       "      <td>-373.3</td>\n",
       "      <td>23755</td>\n",
       "      <td>NaN</td>\n",
       "      <td>Robert G. Miller</td>\n",
       "      <td>Food and Drug Stores</td>\n",
       "      <td>Food &amp; Drug Stores</td>\n",
       "      <td>NaN</td>\n",
       "      <td>USA</td>\n",
       "      <td>Boise, ID</td>\n",
       "      <td>http://www.albertsons.com</td>\n",
       "      <td>13</td>\n",
       "      <td>273000</td>\n",
       "      <td>1371</td>\n",
       "    </tr>\n",
       "  </tbody>\n",
       "</table>\n",
       "</div>"
      ],
      "text/plain": [
       "                    company  rank  revenues  revenue_change  profits  assets  \\\n",
       "48    Legal & General Group    49    105235           442.3   1697.9  577954   \n",
       "90                   Uniper    91     74407             NaN  -3557.5   51541   \n",
       "123       Dell Technologies   124     64806            18.1  -1672.0  118206   \n",
       "138  Anbang Insurance Group   139     60800           124.0   3883.9  430040   \n",
       "140         Albertsons Cos.   141     59678             1.6   -373.3   23755   \n",
       "\n",
       "     profit_change               ceo                          industry  \\\n",
       "48             3.4      Nigel Wilson   Insurance: Life, Health (stock)   \n",
       "90             NaN     Klaus Schafer                            Energy   \n",
       "123            NaN   Michael S. Dell       Computers, Office Equipment   \n",
       "138            0.9        Wu Xiaohui  Insurance: Life, Health (Mutual)   \n",
       "140            NaN  Robert G. Miller              Food and Drug Stores   \n",
       "\n",
       "                 sector  previous_rank  country          hq_location  \\\n",
       "48           Financials            NaN  Britain      London, Britain   \n",
       "90               Energy            NaN  Germany  Dusseldorf, Germany   \n",
       "123          Technology            NaN      USA       Round Rock, TX   \n",
       "138          Financials            NaN    China       Beijing, China   \n",
       "140  Food & Drug Stores            NaN      USA            Boise, ID   \n",
       "\n",
       "                                 website  years_on_global_500_list  employees  \\\n",
       "48   http://www.legalandgeneralgroup.com                        17       8939   \n",
       "90              http://www.uniper.energy                         1      12890   \n",
       "123      http://www.delltechnologies.com                        17     138000   \n",
       "138           http://www.anbanggroup.com                         1      40707   \n",
       "140            http://www.albertsons.com                        13     273000   \n",
       "\n",
       "     total_stockholder_equity  \n",
       "48                       8579  \n",
       "90                      12889  \n",
       "123                     13243  \n",
       "138                     20372  \n",
       "140                      1371  "
      ]
     },
     "execution_count": 13,
     "metadata": {},
     "output_type": "execute_result"
    }
   ],
   "source": [
    "top5_null_prev_rank = null_previous_rank.iloc[:5]\n",
    "top5_null_prev_rank"
   ]
  },
  {
   "cell_type": "markdown",
   "id": "05993aee",
   "metadata": {},
   "source": [
    "# Part07"
   ]
  },
  {
   "cell_type": "code",
   "execution_count": 14,
   "id": "aca9c918",
   "metadata": {},
   "outputs": [
    {
     "name": "stdout",
     "output_type": "stream",
     "text": [
      "(467,)\n",
      "496   -70.0\n",
      "497   -61.0\n",
      "498   -32.0\n",
      "dtype: float64\n"
     ]
    }
   ],
   "source": [
    "previously_ranked = f500[f500['previous_rank'].notnull()]\n",
    "rank_change = previously_ranked['previous_rank'] - previously_ranked['rank']\n",
    "print(rank_change.shape)\n",
    "print(rank_change.tail(3))\n",
    "# %%\n"
   ]
  },
  {
   "cell_type": "code",
   "execution_count": 15,
   "id": "53a82e76",
   "metadata": {},
   "outputs": [],
   "source": [
    "f500['rank_change'] = rank_change"
   ]
  },
  {
   "cell_type": "markdown",
   "id": "86143a55",
   "metadata": {},
   "source": [
    "# Part08"
   ]
  },
  {
   "cell_type": "code",
   "execution_count": 16,
   "id": "13730d08",
   "metadata": {},
   "outputs": [],
   "source": [
    "large_revenue = f500['revenues'] > 100_000\n",
    "negative_profits = f500['profits'] < 0\n",
    "combined = large_revenue & negative_profits\n",
    "big_rev_neg_profit = f500[combined]"
   ]
  },
  {
   "cell_type": "markdown",
   "id": "83f0018d",
   "metadata": {},
   "source": [
    "# Part09"
   ]
  },
  {
   "cell_type": "code",
   "execution_count": 17,
   "id": "427ccee3",
   "metadata": {},
   "outputs": [],
   "source": [
    "brazil_venezuela = f500[(f500['country'] == 'Brazil') | (f500['country'] == 'Venezuela')]\n",
    "\n",
    "# %%\n",
    "tech_outside_usa = f500[(f500['sector'] == 'Technology') & (f500['country'] != 'USA')].head()"
   ]
  },
  {
   "cell_type": "markdown",
   "id": "9d65b73a",
   "metadata": {},
   "source": [
    "# Part10"
   ]
  },
  {
   "cell_type": "markdown",
   "id": "308a5818",
   "metadata": {},
   "source": [
    "Let's continue by answering more complex questions about our data set. Suppose we wanted to find the company that employs the most people in China. We can accomplish this by first selecting all of the rows where the `country` column equals `China`:\n",
    "\n",
    "```python\n",
    "selected_rows = f500[f500[\"country\"] == \"China\"]\n",
    "```"
   ]
  },
  {
   "cell_type": "code",
   "execution_count": 18,
   "id": "af24900d",
   "metadata": {},
   "outputs": [],
   "source": [
    "top_japanese_employer = f500[f500['country'] == 'Japan'].sort_values('employees',  ascending=False).iloc[0, 0]"
   ]
  },
  {
   "cell_type": "markdown",
   "id": "ba04afed",
   "metadata": {},
   "source": [
    "# Part11"
   ]
  },
  {
   "cell_type": "code",
   "execution_count": 19,
   "id": "05145ad9",
   "metadata": {},
   "outputs": [],
   "source": [
    "top_employer_by_country = {}\n",
    "countries = f500['country'].unique()\n",
    "# print(countries)\n",
    "\n",
    "for country in countries:\n",
    "    selected_row = f500[f500['country'] == country].sort_values('employees', ascending=False).iloc[0]\n",
    "    top_employer_by_country[country] = selected_row['company']\n"
   ]
  },
  {
   "cell_type": "markdown",
   "id": "e5a6aafa",
   "metadata": {},
   "source": [
    "# Part12"
   ]
  },
  {
   "cell_type": "code",
   "execution_count": 20,
   "id": "f2d3a851",
   "metadata": {},
   "outputs": [],
   "source": [
    "# step 1\n",
    "f500['roa'] = f500['profits'] / f500['assets']\n",
    "# print(f500['profits assets roa'.split()].head())\n",
    "\n",
    "# step 2\n",
    "top_roa_by_sector = {}\n",
    "sectors = f500['sector']\n",
    "for sector in sectors:\n",
    "    selected_row = f500[f500['sector'] == sector].sort_values('roa', ascending=False).iloc[0]\n",
    "    top_roa_by_sector[sector] = selected_row['company']"
   ]
  }
 ],
 "metadata": {
  "kernelspec": {
   "display_name": "Python 3 (ipykernel)",
   "language": "python",
   "name": "python3"
  },
  "language_info": {
   "codemirror_mode": {
    "name": "ipython",
    "version": 3
   },
   "file_extension": ".py",
   "mimetype": "text/x-python",
   "name": "python",
   "nbconvert_exporter": "python",
   "pygments_lexer": "ipython3",
   "version": "3.7.3"
  }
 },
 "nbformat": 4,
 "nbformat_minor": 5
}
