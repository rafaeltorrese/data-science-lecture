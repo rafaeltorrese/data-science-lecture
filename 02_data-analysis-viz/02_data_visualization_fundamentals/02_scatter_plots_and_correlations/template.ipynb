{
 "cells": [
  {
   "cell_type": "markdown",
   "id": "7220ebfa",
   "metadata": {},
   "source": [
    "<div><p>In the \"Line Graphs and Time Series\" lesson, we started with an important distinction between exploratory and explanatory data visualization:</p>\n",
    "<ul>\n",
    "<li>Exploratory data visualization: we build graphs for <em>ourselves</em> to explore data and find patterns.</li>\n",
    "<li>Explanatory data visualization: we build graphs for <em>others</em> to communicate and explain the patterns we've found through exploring data.</li>\n",
    "</ul>\n",
    "<p></p><center><img src=\"https://s3.amazonaws.com/dq-content/520/exploratory_explanatory.svg\" alt=\"img\"></center><p></p>\n",
    "<p>In this lesson, we'll continue learning exploratory data visualization — we'll learn about seasonality, scatter plots, and correlation.</p>\n",
    "<p>We'll use time series data about bike sharing (recall that a time series is a series of data points listed in time order).</p>\n",
    "<p>Bike sharing companies allow people to rent bikes for short trips. Someone can rent a bike from a station near their location, take a ride, and then return the bike to any other station.</p>\n",
    "<p></p><center>\n",
    "<img src=\"https://s3.amazonaws.com/dq-content/521/m2_screen1_1.jpg\" alt=\"img\" width=\"600\" height=\"400\">\n",
    "<a href=\"https://en.wikipedia.org/wiki/Capital_Bikeshare#/media/File:Capital_Bikeshare_station_outside_Eastern_Market_Metro.jpg\" target=\"_blank\">Source: Wikipedia</a>\n",
    "</center><p></p>\n",
    "<p>Our dataset describes the daily activity of Capital Bikeshare (a bike-sharing company). Let's take a look at the first five rows:</p>\n",
    "<table class=\"dataframe\">\n",
    "<thead>\n",
    "<tr>\n",
    "<th></th>\n",
    "<th>instant</th>\n",
    "<th>dteday</th>\n",
    "<th>season</th>\n",
    "<th>yr</th>\n",
    "<th>mnth</th>\n",
    "<th>holiday</th>\n",
    "<th>weekday</th>\n",
    "<th>workingday</th>\n",
    "<th>weathersit</th>\n",
    "<th>temp</th>\n",
    "<th>atemp</th>\n",
    "<th>hum</th>\n",
    "<th>windspeed</th>\n",
    "<th>casual</th>\n",
    "<th>registered</th>\n",
    "<th>cnt</th>\n",
    "</tr>\n",
    "</thead>\n",
    "<tbody>\n",
    "<tr>\n",
    "<th>0</th>\n",
    "<td>1</td>\n",
    "<td>2011-01-01</td>\n",
    "<td>1</td>\n",
    "<td>0</td>\n",
    "<td>1</td>\n",
    "<td>0</td>\n",
    "<td>6</td>\n",
    "<td>0</td>\n",
    "<td>2</td>\n",
    "<td>0.344167</td>\n",
    "<td>0.363625</td>\n",
    "<td>0.805833</td>\n",
    "<td>0.160446</td>\n",
    "<td>331</td>\n",
    "<td>654</td>\n",
    "<td>985</td>\n",
    "</tr>\n",
    "<tr>\n",
    "<th>1</th>\n",
    "<td>2</td>\n",
    "<td>2011-01-02</td>\n",
    "<td>1</td>\n",
    "<td>0</td>\n",
    "<td>1</td>\n",
    "<td>0</td>\n",
    "<td>0</td>\n",
    "<td>0</td>\n",
    "<td>2</td>\n",
    "<td>0.363478</td>\n",
    "<td>0.353739</td>\n",
    "<td>0.696087</td>\n",
    "<td>0.248539</td>\n",
    "<td>131</td>\n",
    "<td>670</td>\n",
    "<td>801</td>\n",
    "</tr>\n",
    "<tr>\n",
    "<th>2</th>\n",
    "<td>3</td>\n",
    "<td>2011-01-03</td>\n",
    "<td>1</td>\n",
    "<td>0</td>\n",
    "<td>1</td>\n",
    "<td>0</td>\n",
    "<td>1</td>\n",
    "<td>1</td>\n",
    "<td>1</td>\n",
    "<td>0.196364</td>\n",
    "<td>0.189405</td>\n",
    "<td>0.437273</td>\n",
    "<td>0.248309</td>\n",
    "<td>120</td>\n",
    "<td>1229</td>\n",
    "<td>1349</td>\n",
    "</tr>\n",
    "<tr>\n",
    "<th>3</th>\n",
    "<td>4</td>\n",
    "<td>2011-01-04</td>\n",
    "<td>1</td>\n",
    "<td>0</td>\n",
    "<td>1</td>\n",
    "<td>0</td>\n",
    "<td>2</td>\n",
    "<td>1</td>\n",
    "<td>1</td>\n",
    "<td>0.200000</td>\n",
    "<td>0.212122</td>\n",
    "<td>0.590435</td>\n",
    "<td>0.160296</td>\n",
    "<td>108</td>\n",
    "<td>1454</td>\n",
    "<td>1562</td>\n",
    "</tr>\n",
    "<tr>\n",
    "<th>4</th>\n",
    "<td>5</td>\n",
    "<td>2011-01-05</td>\n",
    "<td>1</td>\n",
    "<td>0</td>\n",
    "<td>1</td>\n",
    "<td>0</td>\n",
    "<td>3</td>\n",
    "<td>1</td>\n",
    "<td>1</td>\n",
    "<td>0.226957</td>\n",
    "<td>0.229270</td>\n",
    "<td>0.436957</td>\n",
    "<td>0.186900</td>\n",
    "<td>82</td>\n",
    "<td>1518</td>\n",
    "<td>1600</td>\n",
    "</tr>\n",
    "</tbody>\n",
    "</table>\n",
    "<p>Each row describes the number of bike rentals for a single day and the corresponding weather. The data spans a period of two years (January 1, 2011 – December 31, 2012). Here are some of the columns we'll be focusing on:</p>\n",
    "<ul>\n",
    "<li><code>dteday</code>: date in year-month-day format.</li>\n",
    "<li><code>temp</code>: normalized temperature in Celsius (1 is the maximum value, and it's equivalent to 41 Celsius degrees).</li>\n",
    "<li><code>atemp</code>: normalized feeling temperature in Celsius (1 is the maximum value, and it's equivalent to 50 Celsius degrees).</li>\n",
    "<li><code>hum</code>: normalized humidity.</li>\n",
    "<li><code>windspeed</code>: normalized wind speed.</li>\n",
    "<li><code>casual</code>: the number of casual (non-registered) people who rented a bike that day.</li>\n",
    "<li><code>registered</code>: the number of registered people who rented a bike that day (registered people bought a membership).</li>\n",
    "<li><code>cnt</code>: the total number of people who rented a bike (casual plus registered).</li>\n",
    "</ul>\n",
    "\n",
    "<p>Let's read in the dataset using pandas. On the next screen, we'll start exploring the dataset using visualization.</p></div>"
   ]
  },
  {
   "cell_type": "markdown",
   "id": "54846588",
   "metadata": {},
   "source": [
    "<h3>Exercise</h3>\n",
    "<br>\n",
    "<div><ol>\n",
    "<li>Import the <code>pandas</code> module as <code>pd</code>.</li>\n",
    "<li>Read in the <code>day.csv</code> file using the <code>pd.read_csv()</code> function. Assign the result to a variable named <code>bike_sharing</code>.</li>\n",
    "<li>Examine the first and the last five rows.</li>\n",
    "<li>Display information about the dataset using the <code>DataFrame.info()</code> method. How many rows and columns does this dataset have? Do you see any missing values?</li>\n",
    "</ol></div>"
   ]
  },
  {
   "cell_type": "code",
   "execution_count": null,
   "id": "d7136026",
   "metadata": {},
   "outputs": [],
   "source": []
  },
  {
   "cell_type": "markdown",
   "id": "6a59244b",
   "metadata": {},
   "source": [
    "<h1> Exploring Data</h1> \n",
    "<br>\n",
    "<div><p>Now that we've familiarized ourselves with the bike-sharing dataset, let's explore it using data visualization methods.</p>\n",
    "<p>We can start by visualizing how the total number of bike rentals changed over time. To do this, we'll create a line graph with the <code>dteday</code> column on the x-axis and the <code>cnt</code> column on the y-axis.</p>\n",
    "</div>"
   ]
  },
  {
   "cell_type": "code",
   "execution_count": null,
   "id": "3a55bd2d",
   "metadata": {},
   "outputs": [],
   "source": []
  },
  {
   "cell_type": "markdown",
   "id": "4a33bc50",
   "metadata": {},
   "source": [
    "<div>\n",
    "<p>One of the first things that draws our attention above is the two black bands at the bottom. This is related to the data type of the <code>dteday</code> column — the data type is <code>object</code>, which is the pandas equivalent of a string. </p>\n",
    "<p>When we pass a series of strings to <code>plt.plot()</code>, Matplotlib doesn't know how to handle that very well. If the strings are convertible, it's better to convert them explicitly to either a numerical data type or a datetime.</p>\n",
    "<p>With pandas, we can use the <a href=\"https://pandas.pydata.org/pandas-docs/stable/reference/api/pandas.to_datetime.html\" target=\"_blank\"><code>pd.to_datetime()</code> function</a> to make the conversion:</p>\n",
    "</div>"
   ]
  },
  {
   "cell_type": "code",
   "execution_count": null,
   "id": "1357e7d9",
   "metadata": {},
   "outputs": [],
   "source": []
  },
  {
   "cell_type": "markdown",
   "id": "c344b9c7",
   "metadata": {},
   "source": [
    "<div>\n",
    "<p>We converted the <code>dteday</code> column to datetime, and now we no longer see the black bands at the bottom.</p>\n",
    "</div>\n"
   ]
  },
  {
   "cell_type": "code",
   "execution_count": null,
   "id": "4be32878",
   "metadata": {},
   "outputs": [],
   "source": []
  },
  {
   "cell_type": "markdown",
   "id": "5595e19b",
   "metadata": {},
   "source": [
    "<p>However, now the dates on the bottom of the graph are overlapping and we can barely read them. To fix this, we can rotate the labels using the <a href=\"https://matplotlib.org/api/_as_gen/matplotlib.pyplot.xticks.html\" target=\"_blank\"><code>plt.xticks()</code> function</a>. The function has a <code>rotation</code> parameter which we can use to control the angle of rotation.</p>"
   ]
  },
  {
   "cell_type": "code",
   "execution_count": null,
   "id": "1c5835a7",
   "metadata": {},
   "outputs": [],
   "source": []
  },
  {
   "cell_type": "markdown",
   "id": "99bba5c3",
   "metadata": {},
   "source": [
    "<p>The <code>plt.xticks()</code> function takes its name from the little lines on each axis to show unit lengths. These lines are called <strong>ticks</strong>, and the corresponding labels are <strong>tick labels</strong>. The x-axis has x-ticks, and the y-axis has y-ticks — there's also a <a href=\"https://matplotlib.org/api/_as_gen/matplotlib.pyplot.yticks.html\" target=\"_blank\"><code>plt.yticks()</code> function</a>.</p>\n",
    "\n",
    "<center>\n",
    "<img src=\"figs/m2_figma_1.png\" alt=\"img\">\n",
    "</center>"
   ]
  },
  {
   "cell_type": "markdown",
   "id": "0f2f87d4",
   "metadata": {},
   "source": [
    "<h3>Exercise</h3>\n",
    "<br>\n",
    "<ol>\n",
    "<li>Plot two line graphs sharing the same x- and y-axis.<ul>\n",
    "<li>For the first graph, plot the <code>dteday</code> column on the x-axis and the <code>casual</code> column on the y-axis.</li>\n",
    "<li>For the second graph, plot <code>dteday</code> on the x-axis and <code>registered</code> on the y-axis.</li>\n",
    "</ul>\n",
    "</li>\n",
    "<li>Rotate the x-ticks to an angle of 30 degrees using <code>plt.xticks()</code>.</li>\n",
    "<li>Add the label <code>'Bikes Rented'</code> to the y-axis using <code>plt.ylabel()</code>.</li>\n",
    "<li>Add the label <code>'Date'</code> to the x-axis using <code>plt.xlabel()</code>.</li>\n",
    "<li>Add the title <code>'Bikes Rented: Casual vs. Registered'</code> using <code>plt.title()</code>.</li>\n",
    "<li>Add a legend using <code>plt.legend()</code>. Use <code>'Casual'</code> and <code>'Registered'</code> as labels.</li>\n",
    "<li>What differences and similarities do you see for the two line graphs?</li>\n",
    "</ol>"
   ]
  },
  {
   "cell_type": "code",
   "execution_count": null,
   "id": "bbbf83a7",
   "metadata": {},
   "outputs": [],
   "source": []
  },
  {
   "cell_type": "markdown",
   "id": "5d15b1f0",
   "metadata": {},
   "source": [
    "<h1>Seasonal Trends</h1>\n",
    "<br>\n",
    "<p>We started by creating a line graph to examine how the total number of bike rentals changed over time.</p>\n"
   ]
  },
  {
   "cell_type": "code",
   "execution_count": null,
   "id": "a878851f",
   "metadata": {},
   "outputs": [],
   "source": []
  },
  {
   "cell_type": "markdown",
   "id": "5e6ef4e6",
   "metadata": {},
   "source": [
    "<div>\n",
    "<p>Looking at the entire two-year period, we see the number of rented bikes is at its lowest during the winter months and at its highest during the summer (Capital Bikeshare operates only in the northern hemisphere, so the summer months are June-August, and the winter months are December-February).</p>\n",
    "<p>In fact, we see quite a few similar patterns for both 2011 and 2012 with respect to the number of rented bikes:</p>\n",
    "<ul>\n",
    "<li>The number keeps increasing in the January-May interval.</li>\n",
    "<li>We see a plateau in the May-September interval, where the number of rentals stays high but constant (it neither increases nor decreases very much).</li>\n",
    "<li>The number keeps decreasing in the September-December interval.</li>\n",
    "</ul>\n",
    "<p>We call all of these similarities <strong>seasonal trends</strong>. In time series data, we sometimes see specific patterns occurring regularly at specific intervals of time — we call this <strong>seasonality</strong>.</p>\n",
    "<p>Weather, holidays, school vacations and other factors can often cause seasonality. One popular example is ice-cream sales seasonality, which we can attribute to variations in air temperature: sales are high during summer and low during winter.</p>\n",
    "<p></p><center><img src=\"figs/seasonality.svg\" alt=\"img\"></center><p></p>\n",
    "<p>Identifying seasonality can be useful for businesses:</p>\n",
    "<ul>\n",
    "<li>They can plan marketing campaigns at the right time.</li>\n",
    "<li>They don't need to panic needlessly when the sales are decreasing as a result of seasonality.</li>\n",
    "<li>They can hire extra employees right before the period of high activity begins.</li>\n",
    "</ul>\n",
    "<p>In our case, what could be causing the seasonality in the number of rented bikes?</p>\n",
    "<p>Biking is an outdoor activity, and people often don't ride when it's too cold outside — the wind feels very cold when you're moving.</p>\n",
    "<p>Let's see if we can find any similarity between how air temperature and the number of bikes rented changed over the course of 2011 and 2012.</p></div>"
   ]
  },
  {
   "cell_type": "markdown",
   "id": "84a18f91",
   "metadata": {},
   "source": [
    "<h3>Exercise</h3>\n",
    "<br>\n",
    "<ol>\n",
    "<li>Plot a line graph with the <code>dteday</code> column on the x-axis and the <code>temp</code> column on the y-axis.</li>\n",
    "<li>Rotate the x-ticks to an angle of 45 degrees using <code>plt.xticks()</code>.</li>\n",
    "<li>Do you see any similarity in how the temperature and the number of bikes rented change?</li>\n",
    "</ol>"
   ]
  },
  {
   "cell_type": "code",
   "execution_count": null,
   "id": "c7191882",
   "metadata": {},
   "outputs": [],
   "source": []
  },
  {
   "cell_type": "markdown",
   "id": "1bfc18d6",
   "metadata": {},
   "source": [
    "<h1>Scatter Plots</h1>\n",
    "<br>\n",
    "<div><p>We've plotted <code>dteday</code> against <code>cnt</code> on a line graph, and we identified a few seasonal trends. We hypothesized that this seasonality might be related to temperature variations.</p>\n",
    "<p>The similarity in how the air temperature and the number of rented bikes changed over 2011 and 2012 supports this hypothesis.</p>\n",
    "<p></p><center>\n",
    "<img src=\"https://s3.amazonaws.com/dq-content/521/m2_screen4_1.png\" alt=\"img\">\n",
    "</center><p></p>\n",
    "<p>We see that when the temperature grows, the number of bike rentals tends to grow too. When the temperature decreases, the number of rentals tends to decrease too. Although the relationship isn't perfect, the values in the two columns follow similar patterns in how they change.</p>\n",
    "<p>Above, we plotted <code>cnt</code> and <code>temp</code> against <code>dteday</code>. To visualize the relationship between <code>cnt</code> and <code>temp</code>, it's better if we plot one against the other, and leave out the <code>dteday</code> column. We can do this with a <strong>scatter plot</strong> (also known as scatter graph or scatter chart).</p>\n",
    "<p>Let's start by creating a scatter plot using the <a href=\"https://matplotlib.org/api/_as_gen/matplotlib.pyplot.scatter.html\" target=\"_blank\"><code>plt.scatter()</code> function</a>:</p>\n",
    "</div>"
   ]
  },
  {
   "cell_type": "code",
   "execution_count": null,
   "id": "cfe60362",
   "metadata": {},
   "outputs": [],
   "source": []
  },
  {
   "cell_type": "markdown",
   "id": "fc143c26",
   "metadata": {},
   "source": [
    "<div>\n",
    "<p>Each point (also called a marker) on the scatter plot has an x-coordinate and an y-coordinate. Above, the <code>temp</code> column provides the x-coordinates, and the <code>cnt</code> column provides the y-coordinates.</p>\n",
    "<p>Generally, the first column we pass to <code>plt.scatter(x, y)</code> provides the x-coordinates, and the second one the y-coordinates.</p>\n",
    "<p>One thing we notice in the scatter plot above is that the overall direction of the points is upward (seen from left to right). This is because as the temperature increases, the number of bike rentals tends to grow too.</p>\n",
    "<p>Seen from right to left, the direction of the points is downward — as the temperature decreases, the number of rentals also tends to decrease.</p>\n",
    "<p></p><center>\n",
    "<img src=\"figs/correlation_viz.svg\" alt=\"img\">\n",
    "</center><p></p>\n",
    "<p>Let's now plot <code>windspeed</code> against <code>cnt</code> on a scatter plot. What direction of the points do you expect to see considering that a strong wind can cause people to rent fewer bikes?</p></div>"
   ]
  },
  {
   "cell_type": "markdown",
   "id": "9be5d0f2",
   "metadata": {},
   "source": [
    "<h3>Exercise</h3>\n",
    "<br>\n",
    "<ol>\n",
    "<li>Generate a scatter plot with the <code>windspeed</code> column on the x-axis and the <code>cnt</code> column on the y-axis. Use the <code>plt.scatter()</code> function.</li>\n",
    "<li>Add the <code>'Wind Speed'</code> x-axis label using <code>plt.xlabel()</code>.</li>\n",
    "<li>Add the <code>'Bikes Rented'</code> y-axis label using <code>plt.ylabel()</code>.</li>\n",
    "<li>Display the plot using <code>plt.show()</code>.</li>\n",
    "</ol>"
   ]
  },
  {
   "cell_type": "code",
   "execution_count": null,
   "id": "a57f09f5",
   "metadata": {},
   "outputs": [],
   "source": []
  },
  {
   "cell_type": "markdown",
   "id": "3df9400b",
   "metadata": {},
   "source": [
    "<div><p>On the previous cells, we generated two scatter plots:</p>\n",
    "<ul>\n",
    "<li><code>temp</code> versus <code>cnt</code></li>\n",
    "<li><code>windspeed</code> versus <code>cnt</code></li>\n",
    "</ul>\n",
    "<p></p><center>\n",
    "<img src=\"figs/m2_screen5_1.png\" alt=\"img\">\n",
    "</center><p></p>\n",
    "<p>The general direction of the points (seen from left to right) is different on the two plots:</p>\n",
    "<ul>\n",
    "<li><code>temp</code> versus <code>cnt</code> shows an upward trend</li>\n",
    "<li><code>windspeed</code> versus <code>cnt</code> shows a downward trend (approximately)</li>\n",
    "</ul>\n",
    "<p>Both the <code>temp</code> and the <code>windpseed</code> columns relate to the <code>cnt</code> column, but in a different way.</p>\n",
    "<p>When the values in <code>temp</code> increase, the values in <code>cnt</code> tend to go up as well (and vice versa). When the values in <code>temp</code> decrease, the values in <code>cnt</code> tend to go down as well (and vice versa).</p>\n",
    "<p>On the other side, when the values in <code>windspeed</code> increase, the values in <code>cnt</code> don't go up — they tend to decrease instead. When the values in <code>windspeed</code> decrease, the values in <code>cnt</code> tend to go up (and vice versa).</p>\n",
    "<p>In a broad sense, when two columns are statistically related in a specific way and to a certain degree, we call this relationship <strong>correlation</strong>.</p>\n",
    "<p>There are two kinds of correlation: positive and negative.</p>\n",
    "<p>Two positively correlated columns tend to change in the same direction — when one increases (or decreases), the other tends to increase (or decrease) as well. On a scatter plot, two positively correlated columns show an upward trend (like in the <code>temp</code> versus <code>cnt</code> plot).</p>\n",
    "<p></p><center><img src=\"figs/positive_correlation.svg\" alt=\"img\"></center><p></p>\n",
    "<p>Two negatively correlated columns tend to change in opposite directions — when one increases, the other tends to decrease, and vice versa. On a scatter plot, two negatively correlated columns show a downward trend (like in the <code>windspeed</code> versus <code>cnt</code> plot).</p>\n",
    "<p></p><center><img src=\"figs/negative_correlation.svg\" alt=\"img\"></center><p></p>\n",
    "<p>Not all pairs of columns are correlated. We often see two columns changing together in a way that shows no clear pattern. The values in the columns increase and decrease without any correlation.</p>\n",
    "<p>As a side note, we often call columns in a dataset <strong>variables</strong> (different from programming variables). For this reason, you'll often hear people saying that two variables (columns) are correlated.</p>\n",
    "</div>"
   ]
  },
  {
   "cell_type": "markdown",
   "id": "12203014",
   "metadata": {},
   "source": [
    "<h3>Exercise</h3>\n",
    "<br>\n",
    "<ol>\n",
    "<li>Generate a scatter plot with the <code>atemp</code> column (feeling temperature) on the x-axis and the <code>registered</code> column on the y-axis.</li>\n",
    "<li>Run your code without submitting the answer. Inspect the resulting scatter plot.</li>\n",
    "<li>What type of correlation do you see between the <code>atemp</code> and <code>registered</code> columns? Assign your answer to the variable <code>correlation</code> — choose between the strings <code>'positive'</code>, <code>'negative'</code>, and <code>'no correlation'</code>.</li>\n",
    "</ol>"
   ]
  },
  {
   "cell_type": "code",
   "execution_count": null,
   "id": "c8c4dc10",
   "metadata": {},
   "outputs": [],
   "source": []
  },
  {
   "cell_type": "markdown",
   "id": "f6b44b31",
   "metadata": {},
   "source": [
    "<h1>Pearson Correlation Coefficient</h1>\n",
    "<br>\n",
    "<div><p>We learned that columns can be positively or negatively correlated (or not correlated at all).</p>\n",
    "<p>Some pairs of columns have a stronger (or weaker) correlation than others. The correlation between columns X and Y can be stronger than that between columns X and Z.</p>\n",
    "<p>If we look at the two graphs below, it's easier to tell the overall direction of the points for the graph on the left. That's because the correlation between <code>temp</code> and <code>cnt</code> is stronger than that between <code>windspeed</code> and <code>cnt</code>.</p>\n",
    "<p></p><center>\n",
    "<img src=\"figs/m2_screen5_1.png\" alt=\"img\">\n",
    "</center><p></p>\n",
    "<p>The most popular way to measure correlation strength is by calculating the degree to which the points on a scatter plot fit on a straight line.</p>\n",
    "<p></p><center>\n",
    "<img src=\"figs/pos_nul_neg.svg\" alt=\"img\">\n",
    "</center><p></p>\n",
    "<p>We can measure how well the points fit on a straight line by using the <strong>Pearson correlation coefficient</strong> — also known as <strong>Pearson's r</strong>.</p>\n",
    "<p>Pearson's r values lie between -1.00 and +1.00. When the positive correlation is perfect, the Pearson's r is equal to +1.00. When the negative correlation is perfect, the Pearson's r is equal to -1.00. A value of 0.0 shows no correlation. </p>\n",
    "<p></p><center>\n",
    "<img src=\"figs/pos_nul_neg_r.svg\" alt=\"img\">\n",
    "</center><p></p>\n",
    "<p>Below, we see various scatter plot shapes along with their corresponding Pearson's r.</p>\n",
    "<p></p><center>\n",
    "<img src=\"figs/m2_screen6_1.png\" alt=\"img\">\n",
    "<a href=\"https://en.wikipedia.org/wiki/Pearson_correlation_coefficient#/media/File:Correlation_examples2.svg\" target=\"_blank\">Source:Wikipedia</a>\n",
    "</center><p></p>\n",
    "<p>If columns X and Y have <em>r = +0.8</em>, and columns X and Z have <em>r = -0.8</em>, then the strength of these two correlations is equal. The minus sign only tells us that the correlation is negative, not that it is weaker.</p>\n",
    "<p>For example, even though the number +0.2 is greater than -0.6, a -0.6 correlation is stronger compared to a +0.2 correlation.</p>\n",
    "<p>When we compare correlation strengths, we need to ignore the signs and only look at the absolute <em>r</em> values. The sign only gives us the correlation's direction, not its strength.</p>\n",
    "</div>"
   ]
  },
  {
   "cell_type": "markdown",
   "id": "73545c51",
   "metadata": {},
   "source": [
    "<div><p>Evaluate the truth value of the following sentences.</p>\n",
    "<ol>\n",
    "<li>The correlation between <code>temp</code> and <code>cnt</code> is +0.63, so it's stronger than the correlation between <code>windspeed</code> and <code>cnt</code>, which is -0.23 (the two correlation values are real). Assign the Boolean <code>True</code> or <code>False</code> to <code>sentence_1</code>.</li>\n",
    "<li>A correlation of +0.09 shows a weak positive correlation. Assign <code>True</code> or <code>False</code> to <code>sentence_2</code>.</li>\n",
    "<li>A correlation of 0 shows a very weak negative correlation. Assign <code>True</code> or <code>False</code> to <code>sentence_3</code>.</li>\n",
    "<li>A perfect positive correlation is equal in strength with a perfect negative correlation. Assign <code>True</code> or <code>False</code> to <code>sentence_4</code>.</li>\n",
    "</ol></div>"
   ]
  },
  {
   "cell_type": "code",
   "execution_count": null,
   "id": "7175ab29",
   "metadata": {},
   "outputs": [],
   "source": []
  },
  {
   "cell_type": "markdown",
   "id": "1758229f",
   "metadata": {},
   "source": [
    "<h1>Measuring Pearson's r </h1>\n",
    "\n",
    "\n",
    "<p>We learned about Pearson's r as a way to measure the strength of a correlation. In the exercise, we mentioned that the correlation between the <code>temp</code> and <code>cnt</code> columns is +0.63, and the correlation between <code>windspeed</code> and <code>cnt</code> is -0.23.</p>\n",
    "\n",
    "<p>To calculate the Pearson's r between any two columns, we can use the <a href=\"https://pandas.pydata.org/pandas-docs/stable/reference/api/pandas.Series.corr.html\" target=\"_blank\"><code>Series.corr()</code> method</a>. For instance, this is how we can calculate the two correlations above:</p>\n"
   ]
  },
  {
   "cell_type": "code",
   "execution_count": null,
   "id": "bc42e439",
   "metadata": {},
   "outputs": [],
   "source": []
  },
  {
   "cell_type": "code",
   "execution_count": null,
   "id": "af259b91",
   "metadata": {},
   "outputs": [],
   "source": []
  },
  {
   "cell_type": "markdown",
   "id": "ec54816d",
   "metadata": {},
   "source": [
    "<div>\n",
    "<p>The order of columns doesn't matter when we use <code>Series.corr()</code>. Below, the r values are the same, although we use the columns in reverse order:</p>\n",
    "</div>"
   ]
  },
  {
   "cell_type": "code",
   "execution_count": null,
   "id": "591d18c8",
   "metadata": {},
   "outputs": [],
   "source": []
  },
  {
   "cell_type": "code",
   "execution_count": null,
   "id": "e40ecb79",
   "metadata": {},
   "outputs": [],
   "source": []
  },
  {
   "cell_type": "markdown",
   "id": "ccfb48a6",
   "metadata": {},
   "source": [
    "<div>\n",
    "<p><code>Series.corr()</code> uses a math formula that only works with numbers. This means that <code>Series.corr()</code> only works with numerical columns — if we use string or datetime columns, we'll get an error.</p>\n",
    "<p>As a side note, teaching the math behind Pearson's r is beyond the scope of this visualization lesson. Here, we focus on how to interpret and visualize correlation.</p>\n",
    "<p>The <code>Series.corr()</code> method only allows us to calculate the correlation between two numerical columns. We can get an overview of correlations using the <a href=\"https://pandas.pydata.org/pandas-docs/stable/reference/api/pandas.DataFrame.corr.html\" target=\"_blank\"><code>DataFrame.corr()</code> method</a>, which calculates the Pearson's r between all pairs of numerical columns.</p>\n",
    "</div>"
   ]
  },
  {
   "cell_type": "code",
   "execution_count": null,
   "id": "76cfc865",
   "metadata": {},
   "outputs": [],
   "source": []
  },
  {
   "cell_type": "markdown",
   "id": "c3ee0d8f",
   "metadata": {},
   "source": [
    "<p>Most often, we're only interested in finding the correlation for just a few columns. For example, what if we only want to see the correlation for the <code>cnt</code>, <code>casual</code>, and <code>registered</code> columns? The <code>DataFrame.corr()</code> method returns a <code>DataFrame</code>, which means we can select the <code>cnt</code>, <code>casual</code>, and <code>registered</code> columns directly.</p>"
   ]
  },
  {
   "cell_type": "code",
   "execution_count": null,
   "id": "12b46317",
   "metadata": {},
   "outputs": [],
   "source": []
  },
  {
   "cell_type": "markdown",
   "id": "7eca5a97",
   "metadata": {},
   "source": [
    "<h3>Excercise</h3>\n",
    "<br>\n",
    "<ol>\n",
    "<li>Calculate the Pearson's r between the <code>temp</code> and <code>atemp</code> columns. Assign your answer to <code>temp_atemp_corr</code>.</li>\n",
    "<li>Calculate the Pearson's r between the <code>windspeed</code> and <code>hum</code> columns. Assign your answer to <code>wind_hum_corr</code>.</li>\n",
    "<li>Generate a scatter plot with the <code>temp</code> column on the x-axis and the <code>atemp</code> column on the y-axis.<ul>\n",
    "<li>Add <code>'Air Temperature'</code> as an x-label.</li>\n",
    "<li>Add <code>'Feeling Temperature'</code> as an y-label.</li>\n",
    "</ul>\n",
    "</li>\n",
    "<li>Generate a scatter plot with the <code>windspeed</code> column on the x-axis and the <code>hum</code> column on the y-axis. You'll first need to close the previous scatter plot using <code>plt.show()</code><ul>\n",
    "<li>Add <code>'Wind Speed'</code> as an x-label.</li>\n",
    "<li>Add <code>'Humidity'</code> as an y-label.</li>\n",
    "</ul>\n",
    "</li>\n",
    "</ol>"
   ]
  },
  {
   "cell_type": "code",
   "execution_count": null,
   "id": "e475ce7f",
   "metadata": {},
   "outputs": [],
   "source": []
  },
  {
   "cell_type": "code",
   "execution_count": null,
   "id": "b110c067",
   "metadata": {},
   "outputs": [],
   "source": []
  },
  {
   "cell_type": "markdown",
   "id": "795e390e",
   "metadata": {},
   "source": [
    "<h1>Categorical Columns</h1>\n",
    "<br>\n",
    "<div><p>On the previous screen, we introduced <code>Series.corr()</code> and <code>DataFrame.corr()</code> as methods we can use to measure Pearson's. We also mentioned that <code>Series.corr()</code> only works with numerical columns, and inputting strings or datetime objects results in an error.</p>\n",
    "<p>Generally, numerical columns describe a quantity — how much there is of something.</p>\n",
    "<p>But we also have columns that describe qualities — what or how something is. These columns are <strong>categorical</strong> (or qualitative).</p>\n",
    "<p>One example of a categorical column (also called categorical variable) is the <code>workingday</code> column. This column describes the type of day: a working day or a non-working day (weekend or holiday).</p>\n",
    "</div>"
   ]
  },
  {
   "cell_type": "code",
   "execution_count": null,
   "id": "218b3bc5",
   "metadata": {},
   "outputs": [],
   "source": []
  },
  {
   "cell_type": "markdown",
   "id": "e6ec2a87",
   "metadata": {},
   "source": [
    "<div>\n",
    "<p>Although it's categorical, the <code>workingday</code> column is encoded with numbers (<code>1</code> means a working day and <code>0</code> means a non-working day).</p>\n",
    "<p>Because it's encoded with numbers, we can calculate correlations using <code>Series.corr()</code>. For instance, let's calculate its correlation with the <code>casual</code> and <code>registered</code> columns.</p>\n",
    "</div>"
   ]
  },
  {
   "cell_type": "code",
   "execution_count": null,
   "id": "9b4ed3f3",
   "metadata": {},
   "outputs": [],
   "source": []
  },
  {
   "cell_type": "markdown",
   "id": "b1763c56",
   "metadata": {},
   "source": [
    "<div>\n",
    "<p>We can see a negative correlation with the <code>casual</code> column (-0.52), and a positive correlation with the <code>registered</code> column (+0.30).</p>\n",
    "<p>These values suggest that registered users tend to use the bikes more on working days (to commute to work probably), while casual (non-registered) users tend to rent the bikes more on the weekends and holidays (maybe to spend some leisure time).</p>\n",
    "<p>However, the <code>1</code> and <code>0</code> encoding is arbitrary. The creators of this dataset could have assigned <code>0</code> to a working day and <code>1</code> to a non-working day. Below, we make this change ourselves:</p>\n",
    "</div>"
   ]
  },
  {
   "cell_type": "code",
   "execution_count": null,
   "id": "db7efdfd",
   "metadata": {},
   "outputs": [],
   "source": []
  },
  {
   "cell_type": "markdown",
   "id": "0e601c01",
   "metadata": {},
   "source": [
    "<p>After we changed <code>1</code> to <code>0</code> and vice versa, the correlation strengths remained the same, but their sign changed (minus becomes plus and vice versa):</p>"
   ]
  },
  {
   "cell_type": "code",
   "execution_count": null,
   "id": "baacf446",
   "metadata": {},
   "outputs": [],
   "source": []
  },
  {
   "cell_type": "markdown",
   "id": "21444c73",
   "metadata": {},
   "source": [
    "<div>\n",
    "<p>If we are careful about what <code>1</code> and <code>0</code> mean, we reach the same conclusion as above (registered users tend to use the bikes more on working days, while casual users tend to ride the bikes more on the weekends and holidays).</p>\n",
    "<p>The takeaway is that when we're working with categorical columns that have been encoded with numbers, we need to interpret the sign of the correlation with caution.</p>\n",
    "<p>Because the encoding is arbitrary, the correlation can be both positive and negative, depending on how the creators of the dataset chose to encode the values of that column.</p>\n",
    "<p>Often, the best thing we can do is acknowledge that there's a correlation but avoid talking about the correlation as being positive or negative.</p>\n",
    "<p>Let's now do an exercise and continue the discussion on the next screen. We're going to use the <code>weathersit</code> column, which is categorical and has four unique values describing the weather:</p>\n",
    "<ul>\n",
    "<li><code>1</code>: clear or few clouds</li>\n",
    "<li><code>2</code>: mist or cloudy</li>\n",
    "<li><code>3</code>: light rain, light snow, thunderstorm</li>\n",
    "<li><code>4</code>: heavy rain, snow, ice pellets, fog</li>\n",
    "</ul></div>"
   ]
  },
  {
   "cell_type": "markdown",
   "id": "64044dc5",
   "metadata": {},
   "source": [
    "<h3>Exercise</h3>\n",
    "<br>\n",
    "<div><p>Evaluate the following sentences.</p>\n",
    "<ol>\n",
    "<li>The worse the weather, the higher the encoding number in the <code>weathersit</code> column. Assign <code>True</code> or <code>False</code> to <code>sentence_1</code>.</li>\n",
    "<li>The correlation between <code>weathersit</code> and <code>cnt</code> is -0.30 — this means that as the weather gets worse, the number of bike rentals tends to decrease. Assign <code>True</code> or <code>False</code> to <code>sentence_2</code>.</li>\n",
    "<li>The correlation between <code>weathersit</code> and <code>hum</code> is +0.59 — this means that as the humidity decreases, the weather tends to get better. Assign <code>True</code> or <code>False</code> to <code>sentence_3</code>.</li>\n",
    "</ol></div>"
   ]
  },
  {
   "cell_type": "markdown",
   "id": "ef64031e",
   "metadata": {},
   "source": [
    "<h1>Correlation vs. Causation</h1>\n",
    "<br>\n",
    "<div><p>We learned how to measure, interpret, and visualize correlations.</p>\n",
    "<p>When we find a strong correlation between two columns, one common mistake is to assume that the columns must also have a relationship of causality — one is the cause, and the other is the effect.</p>\n",
    "<p>For instance, let's say we found a strong positive correlation between the number of bike rentals and ice cream sales. When the number of bike rentals goes up, the number of ice cream sales tends to go up as well. When bike rentals decrease, ice cream sales tend to decrease too.</p>\n",
    "<p>The positive correlation doesn't imply that ice cream sales are causing bike rentals to increase or decrease (or vice versa). Most likely, both ice cream sales and bike rentals are related to temperature variations in a similar way, and this is why they change together similarly.</p>\n",
    "<p>However, correlation can suggest causality. If two columns are correlated, it might be because of a cause-and-effect relationship. It might. To establish a relationship of causality, we often need to perform a rigorous experiment.</p>\n",
    "</div>"
   ]
  }
 ],
 "metadata": {
  "kernelspec": {
   "display_name": "Python 3",
   "language": "python",
   "name": "python3"
  },
  "language_info": {
   "codemirror_mode": {
    "name": "ipython",
    "version": 3
   },
   "file_extension": ".py",
   "mimetype": "text/x-python",
   "name": "python",
   "nbconvert_exporter": "python",
   "pygments_lexer": "ipython3",
   "version": "3.8.8"
  }
 },
 "nbformat": 4,
 "nbformat_minor": 5
}
