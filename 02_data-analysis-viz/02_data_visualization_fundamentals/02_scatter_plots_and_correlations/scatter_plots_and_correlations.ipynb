{
 "cells": [
  {
   "cell_type": "markdown",
   "id": "7220ebfa",
   "metadata": {},
   "source": [
    "<div><p>In the \"Line Graphs and Time Series\" lesson, we started with an important distinction between exploratory and explanatory data visualization:</p>\n",
    "<ul>\n",
    "<li>Exploratory data visualization: we build graphs for <em>ourselves</em> to explore data and find patterns.</li>\n",
    "<li>Explanatory data visualization: we build graphs for <em>others</em> to communicate and explain the patterns we've found through exploring data.</li>\n",
    "</ul>\n",
    "<p></p><center><img src=\"https://s3.amazonaws.com/dq-content/520/exploratory_explanatory.svg\" alt=\"img\"></center><p></p>\n",
    "<p>In this lesson, we'll continue learning exploratory data visualization — we'll learn about seasonality, scatter plots, and correlation.</p>\n",
    "<p>We'll use time series data about bike sharing (recall that a time series is a series of data points listed in time order).</p>\n",
    "<p>Bike sharing companies allow people to rent bikes for short trips. Someone can rent a bike from a station near their location, take a ride, and then return the bike to any other station.</p>\n",
    "<p></p><center>\n",
    "<img src=\"https://s3.amazonaws.com/dq-content/521/m2_screen1_1.jpg\" alt=\"img\" width=\"600\" height=\"400\">\n",
    "<a href=\"https://en.wikipedia.org/wiki/Capital_Bikeshare#/media/File:Capital_Bikeshare_station_outside_Eastern_Market_Metro.jpg\" target=\"_blank\">Source: Wikipedia</a>\n",
    "</center><p></p>\n",
    "<p>Our dataset describes the daily activity of Capital Bikeshare (a bike-sharing company). Let's take a look at the first five rows:</p>\n",
    "<table class=\"dataframe\">\n",
    "<thead>\n",
    "<tr>\n",
    "<th></th>\n",
    "<th>instant</th>\n",
    "<th>dteday</th>\n",
    "<th>season</th>\n",
    "<th>yr</th>\n",
    "<th>mnth</th>\n",
    "<th>holiday</th>\n",
    "<th>weekday</th>\n",
    "<th>workingday</th>\n",
    "<th>weathersit</th>\n",
    "<th>temp</th>\n",
    "<th>atemp</th>\n",
    "<th>hum</th>\n",
    "<th>windspeed</th>\n",
    "<th>casual</th>\n",
    "<th>registered</th>\n",
    "<th>cnt</th>\n",
    "</tr>\n",
    "</thead>\n",
    "<tbody>\n",
    "<tr>\n",
    "<th>0</th>\n",
    "<td>1</td>\n",
    "<td>2011-01-01</td>\n",
    "<td>1</td>\n",
    "<td>0</td>\n",
    "<td>1</td>\n",
    "<td>0</td>\n",
    "<td>6</td>\n",
    "<td>0</td>\n",
    "<td>2</td>\n",
    "<td>0.344167</td>\n",
    "<td>0.363625</td>\n",
    "<td>0.805833</td>\n",
    "<td>0.160446</td>\n",
    "<td>331</td>\n",
    "<td>654</td>\n",
    "<td>985</td>\n",
    "</tr>\n",
    "<tr>\n",
    "<th>1</th>\n",
    "<td>2</td>\n",
    "<td>2011-01-02</td>\n",
    "<td>1</td>\n",
    "<td>0</td>\n",
    "<td>1</td>\n",
    "<td>0</td>\n",
    "<td>0</td>\n",
    "<td>0</td>\n",
    "<td>2</td>\n",
    "<td>0.363478</td>\n",
    "<td>0.353739</td>\n",
    "<td>0.696087</td>\n",
    "<td>0.248539</td>\n",
    "<td>131</td>\n",
    "<td>670</td>\n",
    "<td>801</td>\n",
    "</tr>\n",
    "<tr>\n",
    "<th>2</th>\n",
    "<td>3</td>\n",
    "<td>2011-01-03</td>\n",
    "<td>1</td>\n",
    "<td>0</td>\n",
    "<td>1</td>\n",
    "<td>0</td>\n",
    "<td>1</td>\n",
    "<td>1</td>\n",
    "<td>1</td>\n",
    "<td>0.196364</td>\n",
    "<td>0.189405</td>\n",
    "<td>0.437273</td>\n",
    "<td>0.248309</td>\n",
    "<td>120</td>\n",
    "<td>1229</td>\n",
    "<td>1349</td>\n",
    "</tr>\n",
    "<tr>\n",
    "<th>3</th>\n",
    "<td>4</td>\n",
    "<td>2011-01-04</td>\n",
    "<td>1</td>\n",
    "<td>0</td>\n",
    "<td>1</td>\n",
    "<td>0</td>\n",
    "<td>2</td>\n",
    "<td>1</td>\n",
    "<td>1</td>\n",
    "<td>0.200000</td>\n",
    "<td>0.212122</td>\n",
    "<td>0.590435</td>\n",
    "<td>0.160296</td>\n",
    "<td>108</td>\n",
    "<td>1454</td>\n",
    "<td>1562</td>\n",
    "</tr>\n",
    "<tr>\n",
    "<th>4</th>\n",
    "<td>5</td>\n",
    "<td>2011-01-05</td>\n",
    "<td>1</td>\n",
    "<td>0</td>\n",
    "<td>1</td>\n",
    "<td>0</td>\n",
    "<td>3</td>\n",
    "<td>1</td>\n",
    "<td>1</td>\n",
    "<td>0.226957</td>\n",
    "<td>0.229270</td>\n",
    "<td>0.436957</td>\n",
    "<td>0.186900</td>\n",
    "<td>82</td>\n",
    "<td>1518</td>\n",
    "<td>1600</td>\n",
    "</tr>\n",
    "</tbody>\n",
    "</table>\n",
    "<p>Each row describes the number of bike rentals for a single day and the corresponding weather. The data spans a period of two years (January 1, 2011 – December 31, 2012). Here are some of the columns we'll be focusing on:</p>\n",
    "<ul>\n",
    "<li><code>dteday</code>: date in year-month-day format.</li>\n",
    "<li><code>temp</code>: normalized temperature in Celsius (1 is the maximum value, and it's equivalent to 41 Celsius degrees).</li>\n",
    "<li><code>atemp</code>: normalized feeling temperature in Celsius (1 is the maximum value, and it's equivalent to 50 Celsius degrees).</li>\n",
    "<li><code>hum</code>: normalized humidity.</li>\n",
    "<li><code>windspeed</code>: normalized wind speed.</li>\n",
    "<li><code>casual</code>: the number of casual (non-registered) people who rented a bike that day.</li>\n",
    "<li><code>registered</code>: the number of registered people who rented a bike that day (registered people bought a membership).</li>\n",
    "<li><code>cnt</code>: the total number of people who rented a bike (casual plus registered).</li>\n",
    "</ul>\n",
    "\n",
    "<p>Let's read in the dataset using pandas. On the next screen, we'll start exploring the dataset using visualization.</p></div>"
   ]
  },
  {
   "cell_type": "markdown",
   "id": "54846588",
   "metadata": {},
   "source": [
    "<h3>Exercise</h3>\n",
    "<br>\n",
    "<div><ol>\n",
    "<li>Import the <code>pandas</code> module as <code>pd</code>.</li>\n",
    "<li>Read in the <code>day.csv</code> file using the <code>pd.read_csv()</code> function. Assign the result to a variable named <code>bike_sharing</code>.</li>\n",
    "<li>Examine the first and the last five rows.</li>\n",
    "<li>Display information about the dataset using the <code>DataFrame.info()</code> method. How many rows and columns does this dataset have? Do you see any missing values?</li>\n",
    "</ol></div>"
   ]
  },
  {
   "cell_type": "code",
   "execution_count": 7,
   "id": "f3864fd3",
   "metadata": {},
   "outputs": [],
   "source": [
    "import pandas as pd\n",
    "import matplotlib.pyplot as plt"
   ]
  },
  {
   "cell_type": "code",
   "execution_count": 42,
   "id": "78ed890a",
   "metadata": {},
   "outputs": [],
   "source": [
    "bike_sharing = pd.read_csv('day.csv')"
   ]
  },
  {
   "cell_type": "code",
   "execution_count": 43,
   "id": "d7136026",
   "metadata": {},
   "outputs": [
    {
     "data": {
      "text/plain": [
       "Index(['instant', 'dteday', 'season', 'yr', 'mnth', 'holiday', 'weekday',\n",
       "       'workingday', 'weathersit', 'temp', 'atemp', 'hum', 'windspeed',\n",
       "       'casual', 'registered', 'cnt'],\n",
       "      dtype='object')"
      ]
     },
     "execution_count": 43,
     "metadata": {},
     "output_type": "execute_result"
    }
   ],
   "source": [
    "bike_sharing.columns"
   ]
  },
  {
   "cell_type": "code",
   "execution_count": 44,
   "id": "eb2b8a79",
   "metadata": {},
   "outputs": [
    {
     "data": {
      "text/html": [
       "<div>\n",
       "<style scoped>\n",
       "    .dataframe tbody tr th:only-of-type {\n",
       "        vertical-align: middle;\n",
       "    }\n",
       "\n",
       "    .dataframe tbody tr th {\n",
       "        vertical-align: top;\n",
       "    }\n",
       "\n",
       "    .dataframe thead th {\n",
       "        text-align: right;\n",
       "    }\n",
       "</style>\n",
       "<table border=\"1\" class=\"dataframe\">\n",
       "  <thead>\n",
       "    <tr style=\"text-align: right;\">\n",
       "      <th></th>\n",
       "      <th>instant</th>\n",
       "      <th>dteday</th>\n",
       "      <th>season</th>\n",
       "      <th>yr</th>\n",
       "      <th>mnth</th>\n",
       "      <th>holiday</th>\n",
       "      <th>weekday</th>\n",
       "      <th>workingday</th>\n",
       "      <th>weathersit</th>\n",
       "      <th>temp</th>\n",
       "      <th>atemp</th>\n",
       "      <th>hum</th>\n",
       "      <th>windspeed</th>\n",
       "      <th>casual</th>\n",
       "      <th>registered</th>\n",
       "      <th>cnt</th>\n",
       "    </tr>\n",
       "  </thead>\n",
       "  <tbody>\n",
       "    <tr>\n",
       "      <th>0</th>\n",
       "      <td>1</td>\n",
       "      <td>2011-01-01</td>\n",
       "      <td>1</td>\n",
       "      <td>0</td>\n",
       "      <td>1</td>\n",
       "      <td>0</td>\n",
       "      <td>6</td>\n",
       "      <td>0</td>\n",
       "      <td>2</td>\n",
       "      <td>0.344167</td>\n",
       "      <td>0.363625</td>\n",
       "      <td>0.805833</td>\n",
       "      <td>0.160446</td>\n",
       "      <td>331</td>\n",
       "      <td>654</td>\n",
       "      <td>985</td>\n",
       "    </tr>\n",
       "    <tr>\n",
       "      <th>1</th>\n",
       "      <td>2</td>\n",
       "      <td>2011-01-02</td>\n",
       "      <td>1</td>\n",
       "      <td>0</td>\n",
       "      <td>1</td>\n",
       "      <td>0</td>\n",
       "      <td>0</td>\n",
       "      <td>0</td>\n",
       "      <td>2</td>\n",
       "      <td>0.363478</td>\n",
       "      <td>0.353739</td>\n",
       "      <td>0.696087</td>\n",
       "      <td>0.248539</td>\n",
       "      <td>131</td>\n",
       "      <td>670</td>\n",
       "      <td>801</td>\n",
       "    </tr>\n",
       "    <tr>\n",
       "      <th>2</th>\n",
       "      <td>3</td>\n",
       "      <td>2011-01-03</td>\n",
       "      <td>1</td>\n",
       "      <td>0</td>\n",
       "      <td>1</td>\n",
       "      <td>0</td>\n",
       "      <td>1</td>\n",
       "      <td>1</td>\n",
       "      <td>1</td>\n",
       "      <td>0.196364</td>\n",
       "      <td>0.189405</td>\n",
       "      <td>0.437273</td>\n",
       "      <td>0.248309</td>\n",
       "      <td>120</td>\n",
       "      <td>1229</td>\n",
       "      <td>1349</td>\n",
       "    </tr>\n",
       "    <tr>\n",
       "      <th>3</th>\n",
       "      <td>4</td>\n",
       "      <td>2011-01-04</td>\n",
       "      <td>1</td>\n",
       "      <td>0</td>\n",
       "      <td>1</td>\n",
       "      <td>0</td>\n",
       "      <td>2</td>\n",
       "      <td>1</td>\n",
       "      <td>1</td>\n",
       "      <td>0.200000</td>\n",
       "      <td>0.212122</td>\n",
       "      <td>0.590435</td>\n",
       "      <td>0.160296</td>\n",
       "      <td>108</td>\n",
       "      <td>1454</td>\n",
       "      <td>1562</td>\n",
       "    </tr>\n",
       "    <tr>\n",
       "      <th>4</th>\n",
       "      <td>5</td>\n",
       "      <td>2011-01-05</td>\n",
       "      <td>1</td>\n",
       "      <td>0</td>\n",
       "      <td>1</td>\n",
       "      <td>0</td>\n",
       "      <td>3</td>\n",
       "      <td>1</td>\n",
       "      <td>1</td>\n",
       "      <td>0.226957</td>\n",
       "      <td>0.229270</td>\n",
       "      <td>0.436957</td>\n",
       "      <td>0.186900</td>\n",
       "      <td>82</td>\n",
       "      <td>1518</td>\n",
       "      <td>1600</td>\n",
       "    </tr>\n",
       "  </tbody>\n",
       "</table>\n",
       "</div>"
      ],
      "text/plain": [
       "   instant      dteday  season  yr  mnth  holiday  weekday  workingday  \\\n",
       "0        1  2011-01-01       1   0     1        0        6           0   \n",
       "1        2  2011-01-02       1   0     1        0        0           0   \n",
       "2        3  2011-01-03       1   0     1        0        1           1   \n",
       "3        4  2011-01-04       1   0     1        0        2           1   \n",
       "4        5  2011-01-05       1   0     1        0        3           1   \n",
       "\n",
       "   weathersit      temp     atemp       hum  windspeed  casual  registered  \\\n",
       "0           2  0.344167  0.363625  0.805833   0.160446     331         654   \n",
       "1           2  0.363478  0.353739  0.696087   0.248539     131         670   \n",
       "2           1  0.196364  0.189405  0.437273   0.248309     120        1229   \n",
       "3           1  0.200000  0.212122  0.590435   0.160296     108        1454   \n",
       "4           1  0.226957  0.229270  0.436957   0.186900      82        1518   \n",
       "\n",
       "    cnt  \n",
       "0   985  \n",
       "1   801  \n",
       "2  1349  \n",
       "3  1562  \n",
       "4  1600  "
      ]
     },
     "execution_count": 44,
     "metadata": {},
     "output_type": "execute_result"
    }
   ],
   "source": [
    "bike_sharing.head()"
   ]
  },
  {
   "cell_type": "code",
   "execution_count": 45,
   "id": "90e7baf1",
   "metadata": {},
   "outputs": [
    {
     "data": {
      "text/html": [
       "<div>\n",
       "<style scoped>\n",
       "    .dataframe tbody tr th:only-of-type {\n",
       "        vertical-align: middle;\n",
       "    }\n",
       "\n",
       "    .dataframe tbody tr th {\n",
       "        vertical-align: top;\n",
       "    }\n",
       "\n",
       "    .dataframe thead th {\n",
       "        text-align: right;\n",
       "    }\n",
       "</style>\n",
       "<table border=\"1\" class=\"dataframe\">\n",
       "  <thead>\n",
       "    <tr style=\"text-align: right;\">\n",
       "      <th></th>\n",
       "      <th>instant</th>\n",
       "      <th>dteday</th>\n",
       "      <th>season</th>\n",
       "      <th>yr</th>\n",
       "      <th>mnth</th>\n",
       "      <th>holiday</th>\n",
       "      <th>weekday</th>\n",
       "      <th>workingday</th>\n",
       "      <th>weathersit</th>\n",
       "      <th>temp</th>\n",
       "      <th>atemp</th>\n",
       "      <th>hum</th>\n",
       "      <th>windspeed</th>\n",
       "      <th>casual</th>\n",
       "      <th>registered</th>\n",
       "      <th>cnt</th>\n",
       "    </tr>\n",
       "  </thead>\n",
       "  <tbody>\n",
       "    <tr>\n",
       "      <th>726</th>\n",
       "      <td>727</td>\n",
       "      <td>2012-12-27</td>\n",
       "      <td>1</td>\n",
       "      <td>1</td>\n",
       "      <td>12</td>\n",
       "      <td>0</td>\n",
       "      <td>4</td>\n",
       "      <td>1</td>\n",
       "      <td>2</td>\n",
       "      <td>0.254167</td>\n",
       "      <td>0.226642</td>\n",
       "      <td>0.652917</td>\n",
       "      <td>0.350133</td>\n",
       "      <td>247</td>\n",
       "      <td>1867</td>\n",
       "      <td>2114</td>\n",
       "    </tr>\n",
       "    <tr>\n",
       "      <th>727</th>\n",
       "      <td>728</td>\n",
       "      <td>2012-12-28</td>\n",
       "      <td>1</td>\n",
       "      <td>1</td>\n",
       "      <td>12</td>\n",
       "      <td>0</td>\n",
       "      <td>5</td>\n",
       "      <td>1</td>\n",
       "      <td>2</td>\n",
       "      <td>0.253333</td>\n",
       "      <td>0.255046</td>\n",
       "      <td>0.590000</td>\n",
       "      <td>0.155471</td>\n",
       "      <td>644</td>\n",
       "      <td>2451</td>\n",
       "      <td>3095</td>\n",
       "    </tr>\n",
       "    <tr>\n",
       "      <th>728</th>\n",
       "      <td>729</td>\n",
       "      <td>2012-12-29</td>\n",
       "      <td>1</td>\n",
       "      <td>1</td>\n",
       "      <td>12</td>\n",
       "      <td>0</td>\n",
       "      <td>6</td>\n",
       "      <td>0</td>\n",
       "      <td>2</td>\n",
       "      <td>0.253333</td>\n",
       "      <td>0.242400</td>\n",
       "      <td>0.752917</td>\n",
       "      <td>0.124383</td>\n",
       "      <td>159</td>\n",
       "      <td>1182</td>\n",
       "      <td>1341</td>\n",
       "    </tr>\n",
       "    <tr>\n",
       "      <th>729</th>\n",
       "      <td>730</td>\n",
       "      <td>2012-12-30</td>\n",
       "      <td>1</td>\n",
       "      <td>1</td>\n",
       "      <td>12</td>\n",
       "      <td>0</td>\n",
       "      <td>0</td>\n",
       "      <td>0</td>\n",
       "      <td>1</td>\n",
       "      <td>0.255833</td>\n",
       "      <td>0.231700</td>\n",
       "      <td>0.483333</td>\n",
       "      <td>0.350754</td>\n",
       "      <td>364</td>\n",
       "      <td>1432</td>\n",
       "      <td>1796</td>\n",
       "    </tr>\n",
       "    <tr>\n",
       "      <th>730</th>\n",
       "      <td>731</td>\n",
       "      <td>2012-12-31</td>\n",
       "      <td>1</td>\n",
       "      <td>1</td>\n",
       "      <td>12</td>\n",
       "      <td>0</td>\n",
       "      <td>1</td>\n",
       "      <td>1</td>\n",
       "      <td>2</td>\n",
       "      <td>0.215833</td>\n",
       "      <td>0.223487</td>\n",
       "      <td>0.577500</td>\n",
       "      <td>0.154846</td>\n",
       "      <td>439</td>\n",
       "      <td>2290</td>\n",
       "      <td>2729</td>\n",
       "    </tr>\n",
       "  </tbody>\n",
       "</table>\n",
       "</div>"
      ],
      "text/plain": [
       "     instant      dteday  season  yr  mnth  holiday  weekday  workingday  \\\n",
       "726      727  2012-12-27       1   1    12        0        4           1   \n",
       "727      728  2012-12-28       1   1    12        0        5           1   \n",
       "728      729  2012-12-29       1   1    12        0        6           0   \n",
       "729      730  2012-12-30       1   1    12        0        0           0   \n",
       "730      731  2012-12-31       1   1    12        0        1           1   \n",
       "\n",
       "     weathersit      temp     atemp       hum  windspeed  casual  registered  \\\n",
       "726           2  0.254167  0.226642  0.652917   0.350133     247        1867   \n",
       "727           2  0.253333  0.255046  0.590000   0.155471     644        2451   \n",
       "728           2  0.253333  0.242400  0.752917   0.124383     159        1182   \n",
       "729           1  0.255833  0.231700  0.483333   0.350754     364        1432   \n",
       "730           2  0.215833  0.223487  0.577500   0.154846     439        2290   \n",
       "\n",
       "      cnt  \n",
       "726  2114  \n",
       "727  3095  \n",
       "728  1341  \n",
       "729  1796  \n",
       "730  2729  "
      ]
     },
     "execution_count": 45,
     "metadata": {},
     "output_type": "execute_result"
    }
   ],
   "source": [
    "bike_sharing.tail()"
   ]
  },
  {
   "cell_type": "code",
   "execution_count": 46,
   "id": "bc5865e3",
   "metadata": {},
   "outputs": [
    {
     "name": "stdout",
     "output_type": "stream",
     "text": [
      "<class 'pandas.core.frame.DataFrame'>\n",
      "RangeIndex: 731 entries, 0 to 730\n",
      "Data columns (total 16 columns):\n",
      " #   Column      Non-Null Count  Dtype  \n",
      "---  ------      --------------  -----  \n",
      " 0   instant     731 non-null    int64  \n",
      " 1   dteday      731 non-null    object \n",
      " 2   season      731 non-null    int64  \n",
      " 3   yr          731 non-null    int64  \n",
      " 4   mnth        731 non-null    int64  \n",
      " 5   holiday     731 non-null    int64  \n",
      " 6   weekday     731 non-null    int64  \n",
      " 7   workingday  731 non-null    int64  \n",
      " 8   weathersit  731 non-null    int64  \n",
      " 9   temp        731 non-null    float64\n",
      " 10  atemp       731 non-null    float64\n",
      " 11  hum         731 non-null    float64\n",
      " 12  windspeed   731 non-null    float64\n",
      " 13  casual      731 non-null    int64  \n",
      " 14  registered  731 non-null    int64  \n",
      " 15  cnt         731 non-null    int64  \n",
      "dtypes: float64(4), int64(11), object(1)\n",
      "memory usage: 91.5+ KB\n"
     ]
    }
   ],
   "source": [
    "bike_sharing.info()"
   ]
  },
  {
   "cell_type": "markdown",
   "id": "6a59244b",
   "metadata": {},
   "source": [
    "<h1> Exploring Data</h1> \n",
    "<br>\n",
    "<div><p>Now that we've familiarized ourselves with the bike-sharing dataset, let's explore it using data visualization methods.</p>\n",
    "<p>We can start by visualizing how the total number of bike rentals changed over time. To do this, we'll create a line graph with the <code>dteday</code> column on the x-axis and the <code>cnt</code> column on the y-axis.</p>\n",
    "</div>"
   ]
  },
  {
   "cell_type": "code",
   "execution_count": 47,
   "id": "3a55bd2d",
   "metadata": {},
   "outputs": [
    {
     "data": {
      "image/png": "[encoded data removed]",
      "text/plain": [
       "<Figure size 432x288 with 1 Axes>"
      ]
     },
     "metadata": {
      "needs_background": "light"
     },
     "output_type": "display_data"
    }
   ],
   "source": [
    "import matplotlib.pyplot as plt\n",
    "plt.plot(bike_sharing['dteday'], bike_sharing['cnt'])\n",
    "plt.show()"
   ]
  },
  {
   "cell_type": "markdown",
   "id": "4a33bc50",
   "metadata": {},
   "source": [
    "<div>\n",
    "<p>One of the first things that draws our attention above is the two black bands at the bottom. This is related to the data type of the <code>dteday</code> column — the data type is <code>object</code>, which is the pandas equivalent of a string. </p>\n",
    "<p>When we pass a series of strings to <code>plt.plot()</code>, Matplotlib doesn't know how to handle that very well. If the strings are convertible, it's better to convert them explicitly to either a numerical data type or a datetime.</p>\n",
    "<p>With pandas, we can use the <a href=\"https://pandas.pydata.org/pandas-docs/stable/reference/api/pandas.to_datetime.html\" target=\"_blank\"><code>pd.to_datetime()</code> function</a> to make the conversion:</p>\n",
    "</div>"
   ]
  },
  {
   "cell_type": "code",
   "execution_count": 48,
   "id": "1357e7d9",
   "metadata": {},
   "outputs": [],
   "source": [
    "bike_sharing['dteday'] = pd.to_datetime(bike_sharing['dteday'])"
   ]
  },
  {
   "cell_type": "markdown",
   "id": "c344b9c7",
   "metadata": {},
   "source": [
    "<div>\n",
    "<p>We converted the <code>dteday</code> column to datetime, and now we no longer see the black bands at the bottom.</p>\n",
    "</div>\n"
   ]
  },
  {
   "cell_type": "code",
   "execution_count": 49,
   "id": "4be32878",
   "metadata": {},
   "outputs": [
    {
     "data": {
      "image/png": "[encoded data removed]",
      "text/plain": [
       "<Figure size 432x288 with 1 Axes>"
      ]
     },
     "metadata": {
      "needs_background": "light"
     },
     "output_type": "display_data"
    }
   ],
   "source": [
    "plt.plot(bike_sharing['dteday'], bike_sharing['cnt'])\n",
    "plt.show()"
   ]
  },
  {
   "cell_type": "markdown",
   "id": "5595e19b",
   "metadata": {},
   "source": [
    "<p>However, now the dates on the bottom of the graph are overlapping and we can barely read them. To fix this, we can rotate the labels using the <a href=\"https://matplotlib.org/api/_as_gen/matplotlib.pyplot.xticks.html\" target=\"_blank\"><code>plt.xticks()</code> function</a>. The function has a <code>rotation</code> parameter which we can use to control the angle of rotation.</p>"
   ]
  },
  {
   "cell_type": "code",
   "execution_count": 50,
   "id": "1c5835a7",
   "metadata": {},
   "outputs": [
    {
     "data": {
      "image/png": "[encoded data removed]",
      "text/plain": [
       "<Figure size 432x288 with 1 Axes>"
      ]
     },
     "metadata": {
      "needs_background": "light"
     },
     "output_type": "display_data"
    }
   ],
   "source": [
    "plt.plot(bike_sharing['dteday'], bike_sharing['cnt'])\n",
    "plt.xticks(rotation=45)\n",
    "plt.show()"
   ]
  },
  {
   "cell_type": "markdown",
   "id": "99bba5c3",
   "metadata": {},
   "source": [
    "<p>The <code>plt.xticks()</code> function takes its name from the little lines on each axis to show unit lengths. These lines are called <strong>ticks</strong>, and the corresponding labels are <strong>tick labels</strong>. The x-axis has x-ticks, and the y-axis has y-ticks — there's also a <a href=\"https://matplotlib.org/api/_as_gen/matplotlib.pyplot.yticks.html\" target=\"_blank\"><code>plt.yticks()</code> function</a>.</p>\n",
    "\n",
    "<center>\n",
    "<img src=\"figs/m2_figma_1.png\" alt=\"img\">\n",
    "</center>"
   ]
  },
  {
   "cell_type": "markdown",
   "id": "0f2f87d4",
   "metadata": {},
   "source": [
    "<h3>Exercise</h3>\n",
    "<br>\n",
    "<ol>\n",
    "<li>Plot two line graphs sharing the same x- and y-axis.<ul>\n",
    "<li>For the first graph, plot the <code>dteday</code> column on the x-axis and the <code>casual</code> column on the y-axis.</li>\n",
    "<li>For the second graph, plot <code>dteday</code> on the x-axis and <code>registered</code> on the y-axis.</li>\n",
    "</ul>\n",
    "</li>\n",
    "<li>Rotate the x-ticks to an angle of 30 degrees using <code>plt.xticks()</code>.</li>\n",
    "<li>Add the label <code>'Bikes Rented'</code> to the y-axis using <code>plt.ylabel()</code>.</li>\n",
    "<li>Add the label <code>'Date'</code> to the x-axis using <code>plt.xlabel()</code>.</li>\n",
    "<li>Add the title <code>'Bikes Rented: Casual vs. Registered'</code> using <code>plt.title()</code>.</li>\n",
    "<li>Add a legend using <code>plt.legend()</code>. Use <code>'Casual'</code> and <code>'Registered'</code> as labels.</li>\n",
    "<li>What differences and similarities do you see for the two line graphs?</li>\n",
    "</ol>"
   ]
  },
  {
   "cell_type": "code",
   "execution_count": 51,
   "id": "bbbf83a7",
   "metadata": {},
   "outputs": [
    {
     "data": {
      "image/png": "[encoded data removed]",
      "text/plain": [
       "<Figure size 432x288 with 1 Axes>"
      ]
     },
     "metadata": {
      "needs_background": "light"
     },
     "output_type": "display_data"
    }
   ],
   "source": [
    "plt.plot(bike_sharing['dteday'], bike_sharing['casual'], label='Casual')\n",
    "plt.plot(bike_sharing['dteday'], bike_sharing['registered'], label='Registered')\n",
    "plt.xticks(rotation=30)\n",
    "plt.xlabel('Date')\n",
    "plt.ylabel('Bikes Rented')\n",
    "plt.title('Bikes Rented: Casual vs. Registered')\n",
    "plt.legend()\n",
    "plt.show()"
   ]
  },
  {
   "cell_type": "markdown",
   "id": "5d15b1f0",
   "metadata": {},
   "source": [
    "<h1>Seasonal Trends</h1>\n",
    "<br>\n",
    "<p>We started by creating a line graph to examine how the total number of bike rentals changed over time.</p>\n"
   ]
  },
  {
   "cell_type": "code",
   "execution_count": 52,
   "id": "a878851f",
   "metadata": {},
   "outputs": [
    {
     "data": {
      "image/png": "[encoded data removed]",
      "text/plain": [
       "<Figure size 432x288 with 1 Axes>"
      ]
     },
     "metadata": {
      "needs_background": "light"
     },
     "output_type": "display_data"
    }
   ],
   "source": [
    "plt.plot(bike_sharing['dteday'], bike_sharing['cnt'])\n",
    "plt.xticks(rotation=45)\n",
    "plt.show()"
   ]
  },
  {
   "cell_type": "markdown",
   "id": "5e6ef4e6",
   "metadata": {},
   "source": [
    "<div>\n",
    "<p>Looking at the entire two-year period, we see the number of rented bikes is at its lowest during the winter months and at its highest during the summer (Capital Bikeshare operates only in the northern hemisphere, so the summer months are June-August, and the winter months are December-February).</p>\n",
    "<p>In fact, we see quite a few similar patterns for both 2011 and 2012 with respect to the number of rented bikes:</p>\n",
    "<ul>\n",
    "<li>The number keeps increasing in the January-May interval.</li>\n",
    "<li>We see a plateau in the May-September interval, where the number of rentals stays high but constant (it neither increases nor decreases very much).</li>\n",
    "<li>The number keeps decreasing in the September-December interval.</li>\n",
    "</ul>\n",
    "<p>We call all of these similarities <strong>seasonal trends</strong>. In time series data, we sometimes see specific patterns occurring regularly at specific intervals of time — we call this <strong>seasonality</strong>.</p>\n",
    "<p>Weather, holidays, school vacations and other factors can often cause seasonality. One popular example is ice-cream sales seasonality, which we can attribute to variations in air temperature: sales are high during summer and low during winter.</p>\n",
    "<p></p><center><img src=\"figs/seasonality.svg\" alt=\"img\"></center><p></p>\n",
    "<p>Identifying seasonality can be useful for businesses:</p>\n",
    "<ul>\n",
    "<li>They can plan marketing campaigns at the right time.</li>\n",
    "<li>They don't need to panic needlessly when the sales are decreasing as a result of seasonality.</li>\n",
    "<li>They can hire extra employees right before the period of high activity begins.</li>\n",
    "</ul>\n",
    "<p>In our case, what could be causing the seasonality in the number of rented bikes?</p>\n",
    "<p>Biking is an outdoor activity, and people often don't ride when it's too cold outside — the wind feels very cold when you're moving.</p>\n",
    "<p>Let's see if we can find any similarity between how air temperature and the number of bikes rented changed over the course of 2011 and 2012.</p></div>"
   ]
  },
  {
   "cell_type": "markdown",
   "id": "84a18f91",
   "metadata": {},
   "source": [
    "<h3>Exercise</h3>\n",
    "<br>\n",
    "<ol>\n",
    "<li>Plot a line graph with the <code>dteday</code> column on the x-axis and the <code>temp</code> column on the y-axis.</li>\n",
    "<li>Rotate the x-ticks to an angle of 45 degrees using <code>plt.xticks()</code>.</li>\n",
    "<li>Do you see any similarity in how the temperature and the number of bikes rented change?</li>\n",
    "</ol>"
   ]
  },
  {
   "cell_type": "code",
   "execution_count": 53,
   "id": "c7191882",
   "metadata": {},
   "outputs": [
    {
     "data": {
      "image/png": "[encoded data removed]",
      "text/plain": [
       "<Figure size 432x288 with 1 Axes>"
      ]
     },
     "metadata": {
      "needs_background": "light"
     },
     "output_type": "display_data"
    }
   ],
   "source": [
    "plt.plot(bike_sharing['dteday'], bike_sharing['temp'])\n",
    "plt.xticks(rotation=45)\n",
    "plt.show()"
   ]
  },
  {
   "cell_type": "markdown",
   "id": "1bfc18d6",
   "metadata": {},
   "source": [
    "<h1>Scatter Plots</h1>\n",
    "<br>\n",
    "<div><p>We've plotted <code>dteday</code> against <code>cnt</code> on a line graph, and we identified a few seasonal trends. We hypothesized that this seasonality might be related to temperature variations.</p>\n",
    "<p>The similarity in how the air temperature and the number of rented bikes changed over 2011 and 2012 supports this hypothesis.</p>\n",
    "<p></p><center>\n",
    "<img src=\"https://s3.amazonaws.com/dq-content/521/m2_screen4_1.png\" alt=\"img\">\n",
    "</center><p></p>\n",
    "<p>We see that when the temperature grows, the number of bike rentals tends to grow too. When the temperature decreases, the number of rentals tends to decrease too. Although the relationship isn't perfect, the values in the two columns follow similar patterns in how they change.</p>\n",
    "<p>Above, we plotted <code>cnt</code> and <code>temp</code> against <code>dteday</code>. To visualize the relationship between <code>cnt</code> and <code>temp</code>, it's better if we plot one against the other, and leave out the <code>dteday</code> column. We can do this with a <strong>scatter plot</strong> (also known as scatter graph or scatter chart).</p>\n",
    "<p>Let's start by creating a scatter plot using the <a href=\"https://matplotlib.org/api/_as_gen/matplotlib.pyplot.scatter.html\" target=\"_blank\"><code>plt.scatter()</code> function</a>:</p>\n",
    "</div>"
   ]
  },
  {
   "cell_type": "code",
   "execution_count": 54,
   "id": "cfe60362",
   "metadata": {},
   "outputs": [
    {
     "data": {
      "image/png": "[encoded data removed]",
      "text/plain": [
       "<Figure size 432x288 with 1 Axes>"
      ]
     },
     "metadata": {
      "needs_background": "light"
     },
     "output_type": "display_data"
    }
   ],
   "source": [
    "plt.scatter(bike_sharing['temp'], bike_sharing['cnt'])\n",
    "plt.xlabel('Temperature')\n",
    "plt.ylabel('Bikes Rented')\n",
    "plt.show()"
   ]
  },
  {
   "cell_type": "markdown",
   "id": "fc143c26",
   "metadata": {},
   "source": [
    "<div>\n",
    "<p>Each point (also called a marker) on the scatter plot has an x-coordinate and an y-coordinate. Above, the <code>temp</code> column provides the x-coordinates, and the <code>cnt</code> column provides the y-coordinates.</p>\n",
    "<p>Generally, the first column we pass to <code>plt.scatter(x, y)</code> provides the x-coordinates, and the second one the y-coordinates.</p>\n",
    "<p>One thing we notice in the scatter plot above is that the overall direction of the points is upward (seen from left to right). This is because as the temperature increases, the number of bike rentals tends to grow too.</p>\n",
    "<p>Seen from right to left, the direction of the points is downward — as the temperature decreases, the number of rentals also tends to decrease.</p>\n",
    "<p></p><center>\n",
    "<img src=\"figs/correlation_viz.svg\" alt=\"img\">\n",
    "</center><p></p>\n",
    "<p>Let's now plot <code>windspeed</code> against <code>cnt</code> on a scatter plot. What direction of the points do you expect to see considering that a strong wind can cause people to rent fewer bikes?</p></div>"
   ]
  },
  {
   "cell_type": "markdown",
   "id": "9be5d0f2",
   "metadata": {},
   "source": [
    "<h3>Exercise</h3>\n",
    "<br>\n",
    "<ol>\n",
    "<li>Generate a scatter plot with the <code>windspeed</code> column on the x-axis and the <code>cnt</code> column on the y-axis. Use the <code>plt.scatter()</code> function.</li>\n",
    "<li>Add the <code>'Wind Speed'</code> x-axis label using <code>plt.xlabel()</code>.</li>\n",
    "<li>Add the <code>'Bikes Rented'</code> y-axis label using <code>plt.ylabel()</code>.</li>\n",
    "<li>Display the plot using <code>plt.show()</code>.</li>\n",
    "</ol>"
   ]
  },
  {
   "cell_type": "code",
   "execution_count": 55,
   "id": "a57f09f5",
   "metadata": {},
   "outputs": [
    {
     "data": {
      "image/png": "[encoded data removed]",
      "text/plain": [
       "<Figure size 432x288 with 1 Axes>"
      ]
     },
     "metadata": {
      "needs_background": "light"
     },
     "output_type": "display_data"
    }
   ],
   "source": [
    "plt.scatter(bike_sharing['windspeed'], bike_sharing['cnt'])\n",
    "plt.xlabel('Wind Speed')\n",
    "plt.ylabel('Bikes Rented')\n",
    "plt.show()"
   ]
  },
  {
   "cell_type": "markdown",
   "id": "3df9400b",
   "metadata": {},
   "source": [
    "<div><p>On the previous cells, we generated two scatter plots:</p>\n",
    "<ul>\n",
    "<li><code>temp</code> versus <code>cnt</code></li>\n",
    "<li><code>windspeed</code> versus <code>cnt</code></li>\n",
    "</ul>\n",
    "<p></p><center>\n",
    "<img src=\"figs/m2_screen5_1.png\" alt=\"img\">\n",
    "</center><p></p>\n",
    "<p>The general direction of the points (seen from left to right) is different on the two plots:</p>\n",
    "<ul>\n",
    "<li><code>temp</code> versus <code>cnt</code> shows an upward trend</li>\n",
    "<li><code>windspeed</code> versus <code>cnt</code> shows a downward trend (approximately)</li>\n",
    "</ul>\n",
    "<p>Both the <code>temp</code> and the <code>windpseed</code> columns relate to the <code>cnt</code> column, but in a different way.</p>\n",
    "<p>When the values in <code>temp</code> increase, the values in <code>cnt</code> tend to go up as well (and vice versa). When the values in <code>temp</code> decrease, the values in <code>cnt</code> tend to go down as well (and vice versa).</p>\n",
    "<p>On the other side, when the values in <code>windspeed</code> increase, the values in <code>cnt</code> don't go up — they tend to decrease instead. When the values in <code>windspeed</code> decrease, the values in <code>cnt</code> tend to go up (and vice versa).</p>\n",
    "<p>In a broad sense, when two columns are statistically related in a specific way and to a certain degree, we call this relationship <strong>correlation</strong>.</p>\n",
    "<p>There are two kinds of correlation: positive and negative.</p>\n",
    "<p>Two positively correlated columns tend to change in the same direction — when one increases (or decreases), the other tends to increase (or decrease) as well. On a scatter plot, two positively correlated columns show an upward trend (like in the <code>temp</code> versus <code>cnt</code> plot).</p>\n",
    "<p></p><center><img src=\"figs/positive_correlation.svg\" alt=\"img\"></center><p></p>\n",
    "<p>Two negatively correlated columns tend to change in opposite directions — when one increases, the other tends to decrease, and vice versa. On a scatter plot, two negatively correlated columns show a downward trend (like in the <code>windspeed</code> versus <code>cnt</code> plot).</p>\n",
    "<p></p><center><img src=\"figs/negative_correlation.svg\" alt=\"img\"></center><p></p>\n",
    "<p>Not all pairs of columns are correlated. We often see two columns changing together in a way that shows no clear pattern. The values in the columns increase and decrease without any correlation.</p>\n",
    "<p>As a side note, we often call columns in a dataset <strong>variables</strong> (different from programming variables). For this reason, you'll often hear people saying that two variables (columns) are correlated.</p>\n",
    "</div>"
   ]
  },
  {
   "cell_type": "markdown",
   "id": "12203014",
   "metadata": {},
   "source": [
    "<h3>Exercise</h3>\n",
    "<br>\n",
    "<ol>\n",
    "<li>Generate a scatter plot with the <code>atemp</code> column (feeling temperature) on the x-axis and the <code>registered</code> column on the y-axis.</li>\n",
    "<li>Run your code without submitting the answer. Inspect the resulting scatter plot.</li>\n",
    "<li>What type of correlation do you see between the <code>atemp</code> and <code>registered</code> columns? Assign your answer to the variable <code>correlation</code> — choose between the strings <code>'positive'</code>, <code>'negative'</code>, and <code>'no correlation'</code>.</li>\n",
    "</ol>"
   ]
  },
  {
   "cell_type": "code",
   "execution_count": 56,
   "id": "c8c4dc10",
   "metadata": {},
   "outputs": [
    {
     "data": {
      "image/png": "[encoded data removed]",
      "text/plain": [
       "<Figure size 432x288 with 1 Axes>"
      ]
     },
     "metadata": {
      "needs_background": "light"
     },
     "output_type": "display_data"
    }
   ],
   "source": [
    "plt.scatter(bike_sharing['atemp'], bike_sharing['registered'])\n",
    "plt.show()\n",
    "\n",
    "correlation = 'positive'"
   ]
  },
  {
   "cell_type": "markdown",
   "id": "f6b44b31",
   "metadata": {},
   "source": [
    "<h1>Pearson Correlation Coefficient</h1>\n",
    "<br>\n",
    "<div><p>We learned that columns can be positively or negatively correlated (or not correlated at all).</p>\n",
    "<p>Some pairs of columns have a stronger (or weaker) correlation than others. The correlation between columns X and Y can be stronger than that between columns X and Z.</p>\n",
    "<p>If we look at the two graphs below, it's easier to tell the overall direction of the points for the graph on the left. That's because the correlation between <code>temp</code> and <code>cnt</code> is stronger than that between <code>windspeed</code> and <code>cnt</code>.</p>\n",
    "<p></p><center>\n",
    "<img src=\"figs/m2_screen5_1.png\" alt=\"img\">\n",
    "</center><p></p>\n",
    "<p>The most popular way to measure correlation strength is by calculating the degree to which the points on a scatter plot fit on a straight line.</p>\n",
    "<p></p><center>\n",
    "<img src=\"figs/pos_nul_neg.svg\" alt=\"img\">\n",
    "</center><p></p>\n",
    "<p>We can measure how well the points fit on a straight line by using the <strong>Pearson correlation coefficient</strong> — also known as <strong>Pearson's r</strong>.</p>\n",
    "<p>Pearson's r values lie between -1.00 and +1.00. When the positive correlation is perfect, the Pearson's r is equal to +1.00. When the negative correlation is perfect, the Pearson's r is equal to -1.00. A value of 0.0 shows no correlation. </p>\n",
    "<p></p><center>\n",
    "<img src=\"figs/pos_nul_neg_r.svg\" alt=\"img\">\n",
    "</center><p></p>\n",
    "<p>Below, we see various scatter plot shapes along with their corresponding Pearson's r.</p>\n",
    "<p></p><center>\n",
    "<img src=\"figs/m2_screen6_1.png\" alt=\"img\">\n",
    "<a href=\"https://en.wikipedia.org/wiki/Pearson_correlation_coefficient#/media/File:Correlation_examples2.svg\" target=\"_blank\">Source:Wikipedia</a>\n",
    "</center><p></p>\n",
    "<p>If columns X and Y have <em>r = +0.8</em>, and columns X and Z have <em>r = -0.8</em>, then the strength of these two correlations is equal. The minus sign only tells us that the correlation is negative, not that it is weaker.</p>\n",
    "<p>For example, even though the number +0.2 is greater than -0.6, a -0.6 correlation is stronger compared to a +0.2 correlation.</p>\n",
    "<p>When we compare correlation strengths, we need to ignore the signs and only look at the absolute <em>r</em> values. The sign only gives us the correlation's direction, not its strength.</p>\n",
    "</div>"
   ]
  },
  {
   "cell_type": "markdown",
   "id": "73545c51",
   "metadata": {},
   "source": [
    "<div><p>Evaluate the truth value of the following sentences.</p>\n",
    "<ol>\n",
    "<li>The correlation between <code>temp</code> and <code>cnt</code> is +0.63, so it's stronger than the correlation between <code>windspeed</code> and <code>cnt</code>, which is -0.23 (the two correlation values are real). Assign the Boolean <code>True</code> or <code>False</code> to <code>sentence_1</code>.</li>\n",
    "<li>A correlation of +0.09 shows a weak positive correlation. Assign <code>True</code> or <code>False</code> to <code>sentence_2</code>.</li>\n",
    "<li>A correlation of 0 shows a very weak negative correlation. Assign <code>True</code> or <code>False</code> to <code>sentence_3</code>.</li>\n",
    "<li>A perfect positive correlation is equal in strength with a perfect negative correlation. Assign <code>True</code> or <code>False</code> to <code>sentence_4</code>.</li>\n",
    "</ol></div>"
   ]
  },
  {
   "cell_type": "code",
   "execution_count": 57,
   "id": "7175ab29",
   "metadata": {},
   "outputs": [],
   "source": [
    "sentence_1 = True\n",
    "sentence_2 = True\n",
    "sentence_3 = False\n",
    "sentence_4 = True"
   ]
  },
  {
   "cell_type": "markdown",
   "id": "1758229f",
   "metadata": {},
   "source": [
    "<h1>Measuring Pearson's r </h1>\n",
    "\n",
    "\n",
    "<p>We learned about Pearson's r as a way to measure the strength of a correlation. In the exercise, we mentioned that the correlation between the <code>temp</code> and <code>cnt</code> columns is +0.63, and the correlation between <code>windspeed</code> and <code>cnt</code> is -0.23.</p>\n",
    "\n",
    "<p>To calculate the Pearson's r between any two columns, we can use the <a href=\"https://pandas.pydata.org/pandas-docs/stable/reference/api/pandas.Series.corr.html\" target=\"_blank\"><code>Series.corr()</code> method</a>. For instance, this is how we can calculate the two correlations above:</p>\n"
   ]
  },
  {
   "cell_type": "code",
   "execution_count": 10,
   "id": "bc42e439",
   "metadata": {},
   "outputs": [
    {
     "data": {
      "text/plain": [
       "0.6274940090334918"
      ]
     },
     "execution_count": 10,
     "metadata": {},
     "output_type": "execute_result"
    }
   ],
   "source": [
    "bike_sharing['temp'].corr(bike_sharing['cnt'])"
   ]
  },
  {
   "cell_type": "code",
   "execution_count": 11,
   "id": "af259b91",
   "metadata": {},
   "outputs": [
    {
     "data": {
      "text/plain": [
       "-0.23454499742167"
      ]
     },
     "execution_count": 11,
     "metadata": {},
     "output_type": "execute_result"
    }
   ],
   "source": [
    "bike_sharing['windspeed'].corr(bike_sharing['cnt'])"
   ]
  },
  {
   "cell_type": "markdown",
   "id": "ec54816d",
   "metadata": {},
   "source": [
    "<div>\n",
    "<p>The order of columns doesn't matter when we use <code>Series.corr()</code>. Below, the r values are the same, although we use the columns in reverse order:</p>\n",
    "</div>"
   ]
  },
  {
   "cell_type": "code",
   "execution_count": 12,
   "id": "591d18c8",
   "metadata": {},
   "outputs": [
    {
     "data": {
      "text/plain": [
       "0.6274940090334918"
      ]
     },
     "execution_count": 12,
     "metadata": {},
     "output_type": "execute_result"
    }
   ],
   "source": [
    "# Previously: bike_sharing['temp'].corr(bike_sharing['cnt'])\n",
    "bike_sharing['cnt'].corr(bike_sharing['temp'])"
   ]
  },
  {
   "cell_type": "code",
   "execution_count": 13,
   "id": "e40ecb79",
   "metadata": {},
   "outputs": [
    {
     "data": {
      "text/plain": [
       "-0.23454499742167"
      ]
     },
     "execution_count": 13,
     "metadata": {},
     "output_type": "execute_result"
    }
   ],
   "source": [
    "# Previously: bike_sharing['windspeed'].corr(bike_sharing['cnt'])\n",
    "bike_sharing['cnt'].corr(bike_sharing['windspeed'])"
   ]
  },
  {
   "cell_type": "markdown",
   "id": "ccfb48a6",
   "metadata": {},
   "source": [
    "<div>\n",
    "<p><code>Series.corr()</code> uses a math formula that only works with numbers. This means that <code>Series.corr()</code> only works with numerical columns — if we use string or datetime columns, we'll get an error.</p>\n",
    "<p>As a side note, teaching the math behind Pearson's r is beyond the scope of this visualization lesson. Here, we focus on how to interpret and visualize correlation.</p>\n",
    "<p>The <code>Series.corr()</code> method only allows us to calculate the correlation between two numerical columns. We can get an overview of correlations using the <a href=\"https://pandas.pydata.org/pandas-docs/stable/reference/api/pandas.DataFrame.corr.html\" target=\"_blank\"><code>DataFrame.corr()</code> method</a>, which calculates the Pearson's r between all pairs of numerical columns.</p>\n",
    "</div>"
   ]
  },
  {
   "cell_type": "code",
   "execution_count": 14,
   "id": "76cfc865",
   "metadata": {},
   "outputs": [
    {
     "data": {
      "text/html": [
       "<div>\n",
       "<style scoped>\n",
       "    .dataframe tbody tr th:only-of-type {\n",
       "        vertical-align: middle;\n",
       "    }\n",
       "\n",
       "    .dataframe tbody tr th {\n",
       "        vertical-align: top;\n",
       "    }\n",
       "\n",
       "    .dataframe thead th {\n",
       "        text-align: right;\n",
       "    }\n",
       "</style>\n",
       "<table border=\"1\" class=\"dataframe\">\n",
       "  <thead>\n",
       "    <tr style=\"text-align: right;\">\n",
       "      <th></th>\n",
       "      <th>instant</th>\n",
       "      <th>season</th>\n",
       "      <th>yr</th>\n",
       "      <th>mnth</th>\n",
       "      <th>holiday</th>\n",
       "      <th>weekday</th>\n",
       "      <th>workingday</th>\n",
       "      <th>weathersit</th>\n",
       "      <th>temp</th>\n",
       "      <th>atemp</th>\n",
       "      <th>hum</th>\n",
       "      <th>windspeed</th>\n",
       "      <th>casual</th>\n",
       "      <th>registered</th>\n",
       "      <th>cnt</th>\n",
       "    </tr>\n",
       "  </thead>\n",
       "  <tbody>\n",
       "    <tr>\n",
       "      <th>instant</th>\n",
       "      <td>1.000000</td>\n",
       "      <td>0.412224</td>\n",
       "      <td>0.866025</td>\n",
       "      <td>0.496702</td>\n",
       "      <td>0.016145</td>\n",
       "      <td>-0.000016</td>\n",
       "      <td>-0.004337</td>\n",
       "      <td>-0.021477</td>\n",
       "      <td>0.150580</td>\n",
       "      <td>0.152638</td>\n",
       "      <td>0.016375</td>\n",
       "      <td>-0.112620</td>\n",
       "      <td>0.275255</td>\n",
       "      <td>0.659623</td>\n",
       "      <td>0.628830</td>\n",
       "    </tr>\n",
       "    <tr>\n",
       "      <th>season</th>\n",
       "      <td>0.412224</td>\n",
       "      <td>1.000000</td>\n",
       "      <td>-0.001844</td>\n",
       "      <td>0.831440</td>\n",
       "      <td>-0.010537</td>\n",
       "      <td>-0.003080</td>\n",
       "      <td>0.012485</td>\n",
       "      <td>0.019211</td>\n",
       "      <td>0.334315</td>\n",
       "      <td>0.342876</td>\n",
       "      <td>0.205445</td>\n",
       "      <td>-0.229046</td>\n",
       "      <td>0.210399</td>\n",
       "      <td>0.411623</td>\n",
       "      <td>0.406100</td>\n",
       "    </tr>\n",
       "    <tr>\n",
       "      <th>yr</th>\n",
       "      <td>0.866025</td>\n",
       "      <td>-0.001844</td>\n",
       "      <td>1.000000</td>\n",
       "      <td>-0.001792</td>\n",
       "      <td>0.007954</td>\n",
       "      <td>-0.005461</td>\n",
       "      <td>-0.002013</td>\n",
       "      <td>-0.048727</td>\n",
       "      <td>0.047604</td>\n",
       "      <td>0.046106</td>\n",
       "      <td>-0.110651</td>\n",
       "      <td>-0.011817</td>\n",
       "      <td>0.248546</td>\n",
       "      <td>0.594248</td>\n",
       "      <td>0.566710</td>\n",
       "    </tr>\n",
       "    <tr>\n",
       "      <th>mnth</th>\n",
       "      <td>0.496702</td>\n",
       "      <td>0.831440</td>\n",
       "      <td>-0.001792</td>\n",
       "      <td>1.000000</td>\n",
       "      <td>0.019191</td>\n",
       "      <td>0.009509</td>\n",
       "      <td>-0.005901</td>\n",
       "      <td>0.043528</td>\n",
       "      <td>0.220205</td>\n",
       "      <td>0.227459</td>\n",
       "      <td>0.222204</td>\n",
       "      <td>-0.207502</td>\n",
       "      <td>0.123006</td>\n",
       "      <td>0.293488</td>\n",
       "      <td>0.279977</td>\n",
       "    </tr>\n",
       "    <tr>\n",
       "      <th>holiday</th>\n",
       "      <td>0.016145</td>\n",
       "      <td>-0.010537</td>\n",
       "      <td>0.007954</td>\n",
       "      <td>0.019191</td>\n",
       "      <td>1.000000</td>\n",
       "      <td>-0.101960</td>\n",
       "      <td>-0.253023</td>\n",
       "      <td>-0.034627</td>\n",
       "      <td>-0.028556</td>\n",
       "      <td>-0.032507</td>\n",
       "      <td>-0.015937</td>\n",
       "      <td>0.006292</td>\n",
       "      <td>0.054274</td>\n",
       "      <td>-0.108745</td>\n",
       "      <td>-0.068348</td>\n",
       "    </tr>\n",
       "    <tr>\n",
       "      <th>weekday</th>\n",
       "      <td>-0.000016</td>\n",
       "      <td>-0.003080</td>\n",
       "      <td>-0.005461</td>\n",
       "      <td>0.009509</td>\n",
       "      <td>-0.101960</td>\n",
       "      <td>1.000000</td>\n",
       "      <td>0.035790</td>\n",
       "      <td>0.031087</td>\n",
       "      <td>-0.000170</td>\n",
       "      <td>-0.007537</td>\n",
       "      <td>-0.052232</td>\n",
       "      <td>0.014282</td>\n",
       "      <td>0.059923</td>\n",
       "      <td>0.057367</td>\n",
       "      <td>0.067443</td>\n",
       "    </tr>\n",
       "    <tr>\n",
       "      <th>workingday</th>\n",
       "      <td>-0.004337</td>\n",
       "      <td>0.012485</td>\n",
       "      <td>-0.002013</td>\n",
       "      <td>-0.005901</td>\n",
       "      <td>-0.253023</td>\n",
       "      <td>0.035790</td>\n",
       "      <td>1.000000</td>\n",
       "      <td>0.061200</td>\n",
       "      <td>0.052660</td>\n",
       "      <td>0.052182</td>\n",
       "      <td>0.024327</td>\n",
       "      <td>-0.018796</td>\n",
       "      <td>-0.518044</td>\n",
       "      <td>0.303907</td>\n",
       "      <td>0.061156</td>\n",
       "    </tr>\n",
       "    <tr>\n",
       "      <th>weathersit</th>\n",
       "      <td>-0.021477</td>\n",
       "      <td>0.019211</td>\n",
       "      <td>-0.048727</td>\n",
       "      <td>0.043528</td>\n",
       "      <td>-0.034627</td>\n",
       "      <td>0.031087</td>\n",
       "      <td>0.061200</td>\n",
       "      <td>1.000000</td>\n",
       "      <td>-0.120602</td>\n",
       "      <td>-0.121583</td>\n",
       "      <td>0.591045</td>\n",
       "      <td>0.039511</td>\n",
       "      <td>-0.247353</td>\n",
       "      <td>-0.260388</td>\n",
       "      <td>-0.297391</td>\n",
       "    </tr>\n",
       "    <tr>\n",
       "      <th>temp</th>\n",
       "      <td>0.150580</td>\n",
       "      <td>0.334315</td>\n",
       "      <td>0.047604</td>\n",
       "      <td>0.220205</td>\n",
       "      <td>-0.028556</td>\n",
       "      <td>-0.000170</td>\n",
       "      <td>0.052660</td>\n",
       "      <td>-0.120602</td>\n",
       "      <td>1.000000</td>\n",
       "      <td>0.991702</td>\n",
       "      <td>0.126963</td>\n",
       "      <td>-0.157944</td>\n",
       "      <td>0.543285</td>\n",
       "      <td>0.540012</td>\n",
       "      <td>0.627494</td>\n",
       "    </tr>\n",
       "    <tr>\n",
       "      <th>atemp</th>\n",
       "      <td>0.152638</td>\n",
       "      <td>0.342876</td>\n",
       "      <td>0.046106</td>\n",
       "      <td>0.227459</td>\n",
       "      <td>-0.032507</td>\n",
       "      <td>-0.007537</td>\n",
       "      <td>0.052182</td>\n",
       "      <td>-0.121583</td>\n",
       "      <td>0.991702</td>\n",
       "      <td>1.000000</td>\n",
       "      <td>0.139988</td>\n",
       "      <td>-0.183643</td>\n",
       "      <td>0.543864</td>\n",
       "      <td>0.544192</td>\n",
       "      <td>0.631066</td>\n",
       "    </tr>\n",
       "    <tr>\n",
       "      <th>hum</th>\n",
       "      <td>0.016375</td>\n",
       "      <td>0.205445</td>\n",
       "      <td>-0.110651</td>\n",
       "      <td>0.222204</td>\n",
       "      <td>-0.015937</td>\n",
       "      <td>-0.052232</td>\n",
       "      <td>0.024327</td>\n",
       "      <td>0.591045</td>\n",
       "      <td>0.126963</td>\n",
       "      <td>0.139988</td>\n",
       "      <td>1.000000</td>\n",
       "      <td>-0.248489</td>\n",
       "      <td>-0.077008</td>\n",
       "      <td>-0.091089</td>\n",
       "      <td>-0.100659</td>\n",
       "    </tr>\n",
       "    <tr>\n",
       "      <th>windspeed</th>\n",
       "      <td>-0.112620</td>\n",
       "      <td>-0.229046</td>\n",
       "      <td>-0.011817</td>\n",
       "      <td>-0.207502</td>\n",
       "      <td>0.006292</td>\n",
       "      <td>0.014282</td>\n",
       "      <td>-0.018796</td>\n",
       "      <td>0.039511</td>\n",
       "      <td>-0.157944</td>\n",
       "      <td>-0.183643</td>\n",
       "      <td>-0.248489</td>\n",
       "      <td>1.000000</td>\n",
       "      <td>-0.167613</td>\n",
       "      <td>-0.217449</td>\n",
       "      <td>-0.234545</td>\n",
       "    </tr>\n",
       "    <tr>\n",
       "      <th>casual</th>\n",
       "      <td>0.275255</td>\n",
       "      <td>0.210399</td>\n",
       "      <td>0.248546</td>\n",
       "      <td>0.123006</td>\n",
       "      <td>0.054274</td>\n",
       "      <td>0.059923</td>\n",
       "      <td>-0.518044</td>\n",
       "      <td>-0.247353</td>\n",
       "      <td>0.543285</td>\n",
       "      <td>0.543864</td>\n",
       "      <td>-0.077008</td>\n",
       "      <td>-0.167613</td>\n",
       "      <td>1.000000</td>\n",
       "      <td>0.395282</td>\n",
       "      <td>0.672804</td>\n",
       "    </tr>\n",
       "    <tr>\n",
       "      <th>registered</th>\n",
       "      <td>0.659623</td>\n",
       "      <td>0.411623</td>\n",
       "      <td>0.594248</td>\n",
       "      <td>0.293488</td>\n",
       "      <td>-0.108745</td>\n",
       "      <td>0.057367</td>\n",
       "      <td>0.303907</td>\n",
       "      <td>-0.260388</td>\n",
       "      <td>0.540012</td>\n",
       "      <td>0.544192</td>\n",
       "      <td>-0.091089</td>\n",
       "      <td>-0.217449</td>\n",
       "      <td>0.395282</td>\n",
       "      <td>1.000000</td>\n",
       "      <td>0.945517</td>\n",
       "    </tr>\n",
       "    <tr>\n",
       "      <th>cnt</th>\n",
       "      <td>0.628830</td>\n",
       "      <td>0.406100</td>\n",
       "      <td>0.566710</td>\n",
       "      <td>0.279977</td>\n",
       "      <td>-0.068348</td>\n",
       "      <td>0.067443</td>\n",
       "      <td>0.061156</td>\n",
       "      <td>-0.297391</td>\n",
       "      <td>0.627494</td>\n",
       "      <td>0.631066</td>\n",
       "      <td>-0.100659</td>\n",
       "      <td>-0.234545</td>\n",
       "      <td>0.672804</td>\n",
       "      <td>0.945517</td>\n",
       "      <td>1.000000</td>\n",
       "    </tr>\n",
       "  </tbody>\n",
       "</table>\n",
       "</div>"
      ],
      "text/plain": [
       "             instant    season        yr      mnth   holiday   weekday  \\\n",
       "instant     1.000000  0.412224  0.866025  0.496702  0.016145 -0.000016   \n",
       "season      0.412224  1.000000 -0.001844  0.831440 -0.010537 -0.003080   \n",
       "yr          0.866025 -0.001844  1.000000 -0.001792  0.007954 -0.005461   \n",
       "mnth        0.496702  0.831440 -0.001792  1.000000  0.019191  0.009509   \n",
       "holiday     0.016145 -0.010537  0.007954  0.019191  1.000000 -0.101960   \n",
       "weekday    -0.000016 -0.003080 -0.005461  0.009509 -0.101960  1.000000   \n",
       "workingday -0.004337  0.012485 -0.002013 -0.005901 -0.253023  0.035790   \n",
       "weathersit -0.021477  0.019211 -0.048727  0.043528 -0.034627  0.031087   \n",
       "temp        0.150580  0.334315  0.047604  0.220205 -0.028556 -0.000170   \n",
       "atemp       0.152638  0.342876  0.046106  0.227459 -0.032507 -0.007537   \n",
       "hum         0.016375  0.205445 -0.110651  0.222204 -0.015937 -0.052232   \n",
       "windspeed  -0.112620 -0.229046 -0.011817 -0.207502  0.006292  0.014282   \n",
       "casual      0.275255  0.210399  0.248546  0.123006  0.054274  0.059923   \n",
       "registered  0.659623  0.411623  0.594248  0.293488 -0.108745  0.057367   \n",
       "cnt         0.628830  0.406100  0.566710  0.279977 -0.068348  0.067443   \n",
       "\n",
       "            workingday  weathersit      temp     atemp       hum  windspeed  \\\n",
       "instant      -0.004337   -0.021477  0.150580  0.152638  0.016375  -0.112620   \n",
       "season        0.012485    0.019211  0.334315  0.342876  0.205445  -0.229046   \n",
       "yr           -0.002013   -0.048727  0.047604  0.046106 -0.110651  -0.011817   \n",
       "mnth         -0.005901    0.043528  0.220205  0.227459  0.222204  -0.207502   \n",
       "holiday      -0.253023   -0.034627 -0.028556 -0.032507 -0.015937   0.006292   \n",
       "weekday       0.035790    0.031087 -0.000170 -0.007537 -0.052232   0.014282   \n",
       "workingday    1.000000    0.061200  0.052660  0.052182  0.024327  -0.018796   \n",
       "weathersit    0.061200    1.000000 -0.120602 -0.121583  0.591045   0.039511   \n",
       "temp          0.052660   -0.120602  1.000000  0.991702  0.126963  -0.157944   \n",
       "atemp         0.052182   -0.121583  0.991702  1.000000  0.139988  -0.183643   \n",
       "hum           0.024327    0.591045  0.126963  0.139988  1.000000  -0.248489   \n",
       "windspeed    -0.018796    0.039511 -0.157944 -0.183643 -0.248489   1.000000   \n",
       "casual       -0.518044   -0.247353  0.543285  0.543864 -0.077008  -0.167613   \n",
       "registered    0.303907   -0.260388  0.540012  0.544192 -0.091089  -0.217449   \n",
       "cnt           0.061156   -0.297391  0.627494  0.631066 -0.100659  -0.234545   \n",
       "\n",
       "              casual  registered       cnt  \n",
       "instant     0.275255    0.659623  0.628830  \n",
       "season      0.210399    0.411623  0.406100  \n",
       "yr          0.248546    0.594248  0.566710  \n",
       "mnth        0.123006    0.293488  0.279977  \n",
       "holiday     0.054274   -0.108745 -0.068348  \n",
       "weekday     0.059923    0.057367  0.067443  \n",
       "workingday -0.518044    0.303907  0.061156  \n",
       "weathersit -0.247353   -0.260388 -0.297391  \n",
       "temp        0.543285    0.540012  0.627494  \n",
       "atemp       0.543864    0.544192  0.631066  \n",
       "hum        -0.077008   -0.091089 -0.100659  \n",
       "windspeed  -0.167613   -0.217449 -0.234545  \n",
       "casual      1.000000    0.395282  0.672804  \n",
       "registered  0.395282    1.000000  0.945517  \n",
       "cnt         0.672804    0.945517  1.000000  "
      ]
     },
     "execution_count": 14,
     "metadata": {},
     "output_type": "execute_result"
    }
   ],
   "source": [
    "bike_sharing.corr()"
   ]
  },
  {
   "cell_type": "markdown",
   "id": "c3ee0d8f",
   "metadata": {},
   "source": [
    "<p>Most often, we're only interested in finding the correlation for just a few columns. For example, what if we only want to see the correlation for the <code>cnt</code>, <code>casual</code>, and <code>registered</code> columns? The <code>DataFrame.corr()</code> method returns a <code>DataFrame</code>, which means we can select the <code>cnt</code>, <code>casual</code>, and <code>registered</code> columns directly.</p>"
   ]
  },
  {
   "cell_type": "code",
   "execution_count": 15,
   "id": "12b46317",
   "metadata": {},
   "outputs": [
    {
     "data": {
      "text/html": [
       "<div>\n",
       "<style scoped>\n",
       "    .dataframe tbody tr th:only-of-type {\n",
       "        vertical-align: middle;\n",
       "    }\n",
       "\n",
       "    .dataframe tbody tr th {\n",
       "        vertical-align: top;\n",
       "    }\n",
       "\n",
       "    .dataframe thead th {\n",
       "        text-align: right;\n",
       "    }\n",
       "</style>\n",
       "<table border=\"1\" class=\"dataframe\">\n",
       "  <thead>\n",
       "    <tr style=\"text-align: right;\">\n",
       "      <th></th>\n",
       "      <th>cnt</th>\n",
       "      <th>casual</th>\n",
       "      <th>registered</th>\n",
       "    </tr>\n",
       "  </thead>\n",
       "  <tbody>\n",
       "    <tr>\n",
       "      <th>instant</th>\n",
       "      <td>0.628830</td>\n",
       "      <td>0.275255</td>\n",
       "      <td>0.659623</td>\n",
       "    </tr>\n",
       "    <tr>\n",
       "      <th>season</th>\n",
       "      <td>0.406100</td>\n",
       "      <td>0.210399</td>\n",
       "      <td>0.411623</td>\n",
       "    </tr>\n",
       "    <tr>\n",
       "      <th>yr</th>\n",
       "      <td>0.566710</td>\n",
       "      <td>0.248546</td>\n",
       "      <td>0.594248</td>\n",
       "    </tr>\n",
       "    <tr>\n",
       "      <th>mnth</th>\n",
       "      <td>0.279977</td>\n",
       "      <td>0.123006</td>\n",
       "      <td>0.293488</td>\n",
       "    </tr>\n",
       "    <tr>\n",
       "      <th>holiday</th>\n",
       "      <td>-0.068348</td>\n",
       "      <td>0.054274</td>\n",
       "      <td>-0.108745</td>\n",
       "    </tr>\n",
       "    <tr>\n",
       "      <th>weekday</th>\n",
       "      <td>0.067443</td>\n",
       "      <td>0.059923</td>\n",
       "      <td>0.057367</td>\n",
       "    </tr>\n",
       "    <tr>\n",
       "      <th>workingday</th>\n",
       "      <td>0.061156</td>\n",
       "      <td>-0.518044</td>\n",
       "      <td>0.303907</td>\n",
       "    </tr>\n",
       "    <tr>\n",
       "      <th>weathersit</th>\n",
       "      <td>-0.297391</td>\n",
       "      <td>-0.247353</td>\n",
       "      <td>-0.260388</td>\n",
       "    </tr>\n",
       "    <tr>\n",
       "      <th>temp</th>\n",
       "      <td>0.627494</td>\n",
       "      <td>0.543285</td>\n",
       "      <td>0.540012</td>\n",
       "    </tr>\n",
       "    <tr>\n",
       "      <th>atemp</th>\n",
       "      <td>0.631066</td>\n",
       "      <td>0.543864</td>\n",
       "      <td>0.544192</td>\n",
       "    </tr>\n",
       "    <tr>\n",
       "      <th>hum</th>\n",
       "      <td>-0.100659</td>\n",
       "      <td>-0.077008</td>\n",
       "      <td>-0.091089</td>\n",
       "    </tr>\n",
       "    <tr>\n",
       "      <th>windspeed</th>\n",
       "      <td>-0.234545</td>\n",
       "      <td>-0.167613</td>\n",
       "      <td>-0.217449</td>\n",
       "    </tr>\n",
       "    <tr>\n",
       "      <th>casual</th>\n",
       "      <td>0.672804</td>\n",
       "      <td>1.000000</td>\n",
       "      <td>0.395282</td>\n",
       "    </tr>\n",
       "    <tr>\n",
       "      <th>registered</th>\n",
       "      <td>0.945517</td>\n",
       "      <td>0.395282</td>\n",
       "      <td>1.000000</td>\n",
       "    </tr>\n",
       "    <tr>\n",
       "      <th>cnt</th>\n",
       "      <td>1.000000</td>\n",
       "      <td>0.672804</td>\n",
       "      <td>0.945517</td>\n",
       "    </tr>\n",
       "  </tbody>\n",
       "</table>\n",
       "</div>"
      ],
      "text/plain": [
       "                 cnt    casual  registered\n",
       "instant     0.628830  0.275255    0.659623\n",
       "season      0.406100  0.210399    0.411623\n",
       "yr          0.566710  0.248546    0.594248\n",
       "mnth        0.279977  0.123006    0.293488\n",
       "holiday    -0.068348  0.054274   -0.108745\n",
       "weekday     0.067443  0.059923    0.057367\n",
       "workingday  0.061156 -0.518044    0.303907\n",
       "weathersit -0.297391 -0.247353   -0.260388\n",
       "temp        0.627494  0.543285    0.540012\n",
       "atemp       0.631066  0.543864    0.544192\n",
       "hum        -0.100659 -0.077008   -0.091089\n",
       "windspeed  -0.234545 -0.167613   -0.217449\n",
       "casual      0.672804  1.000000    0.395282\n",
       "registered  0.945517  0.395282    1.000000\n",
       "cnt         1.000000  0.672804    0.945517"
      ]
     },
     "execution_count": 15,
     "metadata": {},
     "output_type": "execute_result"
    }
   ],
   "source": [
    "bike_sharing.corr()[['cnt', 'casual', 'registered']]"
   ]
  },
  {
   "cell_type": "markdown",
   "id": "7eca5a97",
   "metadata": {},
   "source": [
    "<h3>Excercise</h3>\n",
    "<br>\n",
    "<ol>\n",
    "<li>Calculate the Pearson's r between the <code>temp</code> and <code>atemp</code> columns. Assign your answer to <code>temp_atemp_corr</code>.</li>\n",
    "<li>Calculate the Pearson's r between the <code>windspeed</code> and <code>hum</code> columns. Assign your answer to <code>wind_hum_corr</code>.</li>\n",
    "<li>Generate a scatter plot with the <code>temp</code> column on the x-axis and the <code>atemp</code> column on the y-axis.<ul>\n",
    "<li>Add <code>'Air Temperature'</code> as an x-label.</li>\n",
    "<li>Add <code>'Feeling Temperature'</code> as an y-label.</li>\n",
    "</ul>\n",
    "</li>\n",
    "<li>Generate a scatter plot with the <code>windspeed</code> column on the x-axis and the <code>hum</code> column on the y-axis. You'll first need to close the previous scatter plot using <code>plt.show()</code><ul>\n",
    "<li>Add <code>'Wind Speed'</code> as an x-label.</li>\n",
    "<li>Add <code>'Humidity'</code> as an y-label.</li>\n",
    "</ul>\n",
    "</li>\n",
    "</ol>"
   ]
  },
  {
   "cell_type": "code",
   "execution_count": 16,
   "id": "f5e225d0",
   "metadata": {},
   "outputs": [
    {
     "name": "stdout",
     "output_type": "stream",
     "text": [
      "0.9917015532294641\n"
     ]
    }
   ],
   "source": [
    "temp_atemp_corr = bike_sharing['temp'].corr(bike_sharing['atemp'])\n",
    "print(temp_atemp_corr)"
   ]
  },
  {
   "cell_type": "code",
   "execution_count": 17,
   "id": "57f16b7d",
   "metadata": {},
   "outputs": [
    {
     "name": "stdout",
     "output_type": "stream",
     "text": [
      "-0.2484890986437141\n"
     ]
    }
   ],
   "source": [
    "wind_hum_corr = bike_sharing['windspeed'].corr(bike_sharing['hum'])\n",
    "print(wind_hum_corr)"
   ]
  },
  {
   "cell_type": "code",
   "execution_count": 18,
   "id": "e475ce7f",
   "metadata": {},
   "outputs": [
    {
     "data": {
      "image/png": "[encoded data removed]",
      "text/plain": [
       "<Figure size 432x288 with 1 Axes>"
      ]
     },
     "metadata": {
      "needs_background": "light"
     },
     "output_type": "display_data"
    }
   ],
   "source": [
    "plt.scatter(bike_sharing['temp'], bike_sharing['atemp'])\n",
    "plt.xlabel('Air Temperature')\n",
    "plt.ylabel('Feeling Temperature')\n",
    "plt.show()"
   ]
  },
  {
   "cell_type": "code",
   "execution_count": 19,
   "id": "b110c067",
   "metadata": {},
   "outputs": [
    {
     "data": {
      "image/png": "[encoded data removed]",
      "text/plain": [
       "<Figure size 432x288 with 1 Axes>"
      ]
     },
     "metadata": {
      "needs_background": "light"
     },
     "output_type": "display_data"
    }
   ],
   "source": [
    "plt.scatter(bike_sharing['windspeed'], bike_sharing['hum'])\n",
    "plt.xlabel('Wind Speed')\n",
    "plt.ylabel('Humidity')\n",
    "plt.show()"
   ]
  },
  {
   "cell_type": "markdown",
   "id": "795e390e",
   "metadata": {},
   "source": [
    "<h1>Categorical Columns</h1>\n",
    "<br>\n",
    "<div><p>On the previous screen, we introduced <code>Series.corr()</code> and <code>DataFrame.corr()</code> as methods we can use to measure Pearson's. We also mentioned that <code>Series.corr()</code> only works with numerical columns, and inputting strings or datetime objects results in an error.</p>\n",
    "<p>Generally, numerical columns describe a quantity — how much there is of something.</p>\n",
    "<p>But we also have columns that describe qualities — what or how something is. These columns are <strong>categorical</strong> (or qualitative).</p>\n",
    "<p>One example of a categorical column (also called categorical variable) is the <code>workingday</code> column. This column describes the type of day: a working day or a non-working day (weekend or holiday).</p>\n",
    "</div>"
   ]
  },
  {
   "cell_type": "code",
   "execution_count": 20,
   "id": "218b3bc5",
   "metadata": {},
   "outputs": [
    {
     "data": {
      "text/plain": [
       "1    500\n",
       "0    231\n",
       "Name: workingday, dtype: int64"
      ]
     },
     "execution_count": 20,
     "metadata": {},
     "output_type": "execute_result"
    }
   ],
   "source": [
    "bike_sharing['workingday'].value_counts()"
   ]
  },
  {
   "cell_type": "markdown",
   "id": "e6ec2a87",
   "metadata": {},
   "source": [
    "<div>\n",
    "<p>Although it's categorical, the <code>workingday</code> column is encoded with numbers (<code>1</code> means a working day and <code>0</code> means a non-working day).</p>\n",
    "<p>Because it's encoded with numbers, we can calculate correlations using <code>Series.corr()</code>. For instance, let's calculate its correlation with the <code>casual</code> and <code>registered</code> columns.</p>\n",
    "</div>"
   ]
  },
  {
   "cell_type": "code",
   "execution_count": 26,
   "id": "9b4ed3f3",
   "metadata": {},
   "outputs": [
    {
     "data": {
      "text/plain": [
       "casual       -0.518044\n",
       "registered    0.303907\n",
       "Name: workingday, dtype: float64"
      ]
     },
     "execution_count": 26,
     "metadata": {},
     "output_type": "execute_result"
    }
   ],
   "source": [
    "# bike_sharing.corr()['workingday'][['casual', 'registered']]\n",
    "bike_sharing.corr().loc['workingday', ['casual', 'registered']]"
   ]
  },
  {
   "cell_type": "markdown",
   "id": "b1763c56",
   "metadata": {},
   "source": [
    "<div>\n",
    "<p>We can see a negative correlation with the <code>casual</code> column (-0.52), and a positive correlation with the <code>registered</code> column (+0.30).</p>\n",
    "<p>These values suggest that registered users tend to use the bikes more on working days (to commute to work probably), while casual (non-registered) users tend to rent the bikes more on the weekends and holidays (maybe to spend some leisure time).</p>\n",
    "<p>However, the <code>1</code> and <code>0</code> encoding is arbitrary. The creators of this dataset could have assigned <code>0</code> to a working day and <code>1</code> to a non-working day. Below, we make this change ourselves:</p>\n",
    "</div>"
   ]
  },
  {
   "cell_type": "code",
   "execution_count": 27,
   "id": "db7efdfd",
   "metadata": {},
   "outputs": [],
   "source": [
    "bike_sharing['workingday'].replace({1:0, 0:1}, inplace=True)"
   ]
  },
  {
   "cell_type": "markdown",
   "id": "0e601c01",
   "metadata": {},
   "source": [
    "<p>After we changed <code>1</code> to <code>0</code> and vice versa, the correlation strengths remained the same, but their sign changed (minus becomes plus and vice versa):</p>"
   ]
  },
  {
   "cell_type": "code",
   "execution_count": 28,
   "id": "baacf446",
   "metadata": {},
   "outputs": [
    {
     "data": {
      "text/plain": [
       "casual        0.518044\n",
       "registered   -0.303907\n",
       "Name: workingday, dtype: float64"
      ]
     },
     "execution_count": 28,
     "metadata": {},
     "output_type": "execute_result"
    }
   ],
   "source": [
    "bike_sharing.corr()['workingday'][['casual', 'registered']]"
   ]
  },
  {
   "cell_type": "markdown",
   "id": "21444c73",
   "metadata": {},
   "source": [
    "<div>\n",
    "<p>If we are careful about what <code>1</code> and <code>0</code> mean, we reach the same conclusion as above (registered users tend to use the bikes more on working days, while casual users tend to ride the bikes more on the weekends and holidays).</p>\n",
    "<p>The takeaway is that when we're working with categorical columns that have been encoded with numbers, we need to interpret the sign of the correlation with caution.</p>\n",
    "<p>Because the encoding is arbitrary, the correlation can be both positive and negative, depending on how the creators of the dataset chose to encode the values of that column.</p>\n",
    "<p>Often, the best thing we can do is acknowledge that there's a correlation but avoid talking about the correlation as being positive or negative.</p>\n",
    "<p>Let's now do an exercise and continue the discussion on the next screen. We're going to use the <code>weathersit</code> column, which is categorical and has four unique values describing the weather:</p>\n",
    "<ul>\n",
    "<li><code>1</code>: clear or few clouds</li>\n",
    "<li><code>2</code>: mist or cloudy</li>\n",
    "<li><code>3</code>: light rain, light snow, thunderstorm</li>\n",
    "<li><code>4</code>: heavy rain, snow, ice pellets, fog</li>\n",
    "</ul></div>"
   ]
  },
  {
   "cell_type": "markdown",
   "id": "64044dc5",
   "metadata": {},
   "source": [
    "<h3>Exercise</h3>\n",
    "<br>\n",
    "<div><p>Evaluate the following sentences.</p>\n",
    "<ol>\n",
    "<li>The worse the weather, the higher the encoding number in the <code>weathersit</code> column. Assign <code>True</code> or <code>False</code> to <code>sentence_1</code>.</li>\n",
    "<li>The correlation between <code>weathersit</code> and <code>cnt</code> is -0.30 — this means that as the weather gets worse, the number of bike rentals tends to decrease. Assign <code>True</code> or <code>False</code> to <code>sentence_2</code>.</li>\n",
    "<li>The correlation between <code>weathersit</code> and <code>hum</code> is +0.59 — this means that as the humidity decreases, the weather tends to get better. Assign <code>True</code> or <code>False</code> to <code>sentence_3</code>.</li>\n",
    "</ol></div>"
   ]
  },
  {
   "cell_type": "markdown",
   "id": "ef64031e",
   "metadata": {},
   "source": [
    "<h1>Correlation vs. Causation</h1>\n",
    "<br>\n",
    "<div><p>We learned how to measure, interpret, and visualize correlations.</p>\n",
    "<p>When we find a strong correlation between two columns, one common mistake is to assume that the columns must also have a relationship of causality — one is the cause, and the other is the effect.</p>\n",
    "<p>For instance, let's say we found a strong positive correlation between the number of bike rentals and ice cream sales. When the number of bike rentals goes up, the number of ice cream sales tends to go up as well. When bike rentals decrease, ice cream sales tend to decrease too.</p>\n",
    "<p>The positive correlation doesn't imply that ice cream sales are causing bike rentals to increase or decrease (or vice versa). Most likely, both ice cream sales and bike rentals are related to temperature variations in a similar way, and this is why they change together similarly.</p>\n",
    "<p>However, correlation can suggest causality. If two columns are correlated, it might be because of a cause-and-effect relationship. It might. To establish a relationship of causality, we often need to perform a rigorous experiment.</p>\n",
    "</div>"
   ]
  }
 ],
 "metadata": {
  "kernelspec": {
   "display_name": "Python 3",
   "language": "python",
   "name": "python3"
  },
  "language_info": {
   "codemirror_mode": {
    "name": "ipython",
    "version": 3
   },
   "file_extension": ".py",
   "mimetype": "text/x-python",
   "name": "python",
   "nbconvert_exporter": "python",
   "pygments_lexer": "ipython3",
   "version": "3.8.8"
  }
 },
 "nbformat": 4,
 "nbformat_minor": 5
}
