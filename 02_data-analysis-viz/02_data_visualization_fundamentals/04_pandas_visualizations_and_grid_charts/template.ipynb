{
 "cells": [
  {
   "cell_type": "markdown",
   "id": "a0699c99",
   "metadata": {},
   "source": [
    "<center><h1>Pandas Visualizations and Grid Charts</h1></center>"
   ]
  },
  {
   "cell_type": "markdown",
   "id": "5a22e595",
   "metadata": {},
   "source": [
    "<h2>1. Traffic Congestions in Sao Paulo</h2>\n",
    "<br>\n",
    "<div><p>We focused on exploratory data visualization and learned the following:</p>\n",
    "<ul>\n",
    "<li>How to visualize time series data with line plots.</li>\n",
    "<li>How to visualize correlations with scatter plots.</li>\n",
    "<li>How to visualize frequency distributions with bar plots and histograms.</li>\n",
    "</ul>\n",
    "<p>We'll continue learning about exploratory data visualization:</p>\n",
    "<ul>\n",
    "<li>How to speed up our exploratory data visualization workflow using Pandas.</li>\n",
    "<li>How to better compare graphs using grid charts.</li>\n",
    "</ul>\n",
    "<p>We'll work with a data set about the urban traffic in São Paulo, the most populous city in Brazil. When it comes to traffic congestion, São Paulo is one of the most congested cities in the world.</p>\n",
    "<p>Traffic jams can be as long as 100 km, and it can take people more than two hours to get to work. The city even has an air-taxi service for those who can afford it.</p>\n",
    "<p></p><center>\n",
    "<img src=\"m4_1.png\" alt=\"img\">\n",
    "</center><p></p>\n",
    "<p>Traffic jams cause significant loss. Instead of working, people are stuck in traffic wasting fuel, which leads to more air pollution, ultimately impacting human health. According to the <a href=\"https://www.worldbank.org/en/news/feature/2014/05/01/changing-commuter-choices-helps-sao-paulo-reduce-traffic-congestion\" target=\"_blank\">World Bank</a>, São Paulo's traffic jams were estimated to cost <span>$</span>17.8 billion dollars in 2012.</p>\n",
    "</div>"
   ]
  },
  {
   "cell_type": "markdown",
   "id": "93a9eb6f",
   "metadata": {},
   "source": [
    "<h2>2. Traffic Behavior Dataset</h2>\n",
    "<br>\n",
    "<div><p>Our dataset describes the urban traffic in the city São Paulo from December 14, 2009 to December 18, 2009 — from Monday to Friday. Below, we see the first five rows:</p>\n",
    "<table class=\"dataframe\">\n",
    "<thead>\n",
    "<tr>\n",
    "<th></th>\n",
    "<th>Hour (Coded)</th>\n",
    "<th>Immobilized bus</th>\n",
    "<th>Broken Truck</th>\n",
    "<th>Vehicle excess</th>\n",
    "<th>Accident victim</th>\n",
    "<th>Running over</th>\n",
    "<th>Fire vehicles</th>\n",
    "<th>Occurrence involving freight</th>\n",
    "<th>Incident involving dangerous freight</th>\n",
    "<th>Lack of electricity</th>\n",
    "<th>Fire</th>\n",
    "<th>Point of flooding</th>\n",
    "<th>Manifestations</th>\n",
    "<th>Defect in the network of trolleybuses</th>\n",
    "<th>Tree on the road</th>\n",
    "<th>Semaphore off</th>\n",
    "<th>Intermittent Semaphore</th>\n",
    "<th>Slowness in traffic (%)</th>\n",
    "</tr>\n",
    "</thead>\n",
    "<tbody>\n",
    "<tr>\n",
    "<th>0</th>\n",
    "<td>1</td>\n",
    "<td>0</td>\n",
    "<td>0</td>\n",
    "<td>0</td>\n",
    "<td>0</td>\n",
    "<td>0</td>\n",
    "<td>0</td>\n",
    "<td>0</td>\n",
    "<td>0</td>\n",
    "<td>0</td>\n",
    "<td>0</td>\n",
    "<td>0</td>\n",
    "<td>0</td>\n",
    "<td>0</td>\n",
    "<td>0</td>\n",
    "<td>0</td>\n",
    "<td>0</td>\n",
    "<td>4,1</td>\n",
    "</tr>\n",
    "<tr>\n",
    "<th>1</th>\n",
    "<td>2</td>\n",
    "<td>0</td>\n",
    "<td>0</td>\n",
    "<td>0</td>\n",
    "<td>0</td>\n",
    "<td>0</td>\n",
    "<td>0</td>\n",
    "<td>0</td>\n",
    "<td>0</td>\n",
    "<td>0</td>\n",
    "<td>0</td>\n",
    "<td>0</td>\n",
    "<td>0</td>\n",
    "<td>0</td>\n",
    "<td>0</td>\n",
    "<td>0</td>\n",
    "<td>0</td>\n",
    "<td>6,6</td>\n",
    "</tr>\n",
    "<tr>\n",
    "<th>2</th>\n",
    "<td>3</td>\n",
    "<td>0</td>\n",
    "<td>0</td>\n",
    "<td>0</td>\n",
    "<td>0</td>\n",
    "<td>0</td>\n",
    "<td>0</td>\n",
    "<td>0</td>\n",
    "<td>0</td>\n",
    "<td>0</td>\n",
    "<td>0</td>\n",
    "<td>0</td>\n",
    "<td>0</td>\n",
    "<td>0</td>\n",
    "<td>0</td>\n",
    "<td>0</td>\n",
    "<td>0</td>\n",
    "<td>8,7</td>\n",
    "</tr>\n",
    "<tr>\n",
    "<th>3</th>\n",
    "<td>4</td>\n",
    "<td>0</td>\n",
    "<td>0</td>\n",
    "<td>0</td>\n",
    "<td>0</td>\n",
    "<td>0</td>\n",
    "<td>0</td>\n",
    "<td>0</td>\n",
    "<td>0</td>\n",
    "<td>0</td>\n",
    "<td>0</td>\n",
    "<td>0</td>\n",
    "<td>0</td>\n",
    "<td>0</td>\n",
    "<td>0</td>\n",
    "<td>0</td>\n",
    "<td>0</td>\n",
    "<td>9,2</td>\n",
    "</tr>\n",
    "<tr>\n",
    "<th>4</th>\n",
    "<td>5</td>\n",
    "<td>0</td>\n",
    "<td>0</td>\n",
    "<td>0</td>\n",
    "<td>0</td>\n",
    "<td>0</td>\n",
    "<td>0</td>\n",
    "<td>0</td>\n",
    "<td>0</td>\n",
    "<td>0</td>\n",
    "<td>0</td>\n",
    "<td>0</td>\n",
    "<td>0</td>\n",
    "<td>0</td>\n",
    "<td>0</td>\n",
    "<td>0</td>\n",
    "<td>0</td>\n",
    "<td>11,1</td>\n",
    "</tr>\n",
    "</tbody>\n",
    "</table>\n",
    "<p>Each row describes the following:</p>\n",
    "<ul>\n",
    "<li>The time of registering the data: the <code>Hour (Coded)</code> column.</li>\n",
    "<li>The number of incidents that happened in São Paulo at the time of registering the data: <code>Immobilized bus</code>, <code>Broken Truck</code>, <code>Vehicle excess</code>, <code>Fire vehicles</code>, etc.</li>\n",
    "<li>The traffic slowness at the time of registering the data: <code>Slowness in traffic (%)</code>.</li>\n",
    "</ul>\n",
    "<p>The data was registered from 7:00 to 20:00 every 30 minutes. The <code>Hour (Coded)</code> column has values from <code>1</code> to <code>27</code>:</p>\n",
    "<ul>\n",
    "<li><code>1</code> corresponds to 7:00.</li>\n",
    "<li><code>2</code> corresponds to 7:30.</li>\n",
    "<li><code>3</code> corresponds to 8:00.</li>\n",
    "<li>...</li>\n",
    "<li><code>26</code> corresponds to 19:30.</li>\n",
    "<li><code>27</code> corresponds to 20:00.</li>\n",
    "</ul>\n",
    "<p>You can download it from the <a href=\"https://archive.ics.uci.edu/ml/datasets/Behavior+of+the+urban+traffic+of+the+city+of+Sao+Paulo+in+Brazil\" target=\"_blank\">UCI Machine Learning Repository</a>.</p>\n",
    "</div>"
   ]
  },
  {
   "cell_type": "markdown",
   "id": "853e0753",
   "metadata": {},
   "source": [
    "<h3>Exercise</h3>\n",
    "<br>\n",
    "<div><ol>\n",
    "<li>Import the <code>pandas</code> module as <code>pd</code>.</li>\n",
    "<li>Read in the <code>traffic_sao_paulo.csv</code> file using <code>pd.read_csv()</code>.<ul>\n",
    "<li>The data points are separated by <code>;</code>, so you'll need to use <code>sep=';'</code> to read in the file properly.</li>\n",
    "<li>Assign the result to a variable named <code>traffic</code>.</li>\n",
    "</ul>\n",
    "</li>\n",
    "<li>Perform a quick examination of the dataset.<ul>\n",
    "<li>Inspect the first and the last five rows.</li>\n",
    "<li>Use <code>DataFrame.info()</code> to print summary information about the dataset. Do you see any missing values? Are all data types numerical?</li>\n",
    "</ul>\n",
    "</li>\n",
    "</ol></div>"
   ]
  },
  {
   "cell_type": "code",
   "execution_count": null,
   "id": "9fb31460",
   "metadata": {},
   "outputs": [],
   "source": []
  },
  {
   "cell_type": "code",
   "execution_count": null,
   "id": "958d1135",
   "metadata": {},
   "outputs": [],
   "source": []
  },
  {
   "cell_type": "code",
   "execution_count": null,
   "id": "767e9e19",
   "metadata": {},
   "outputs": [],
   "source": []
  },
  {
   "cell_type": "code",
   "execution_count": null,
   "id": "fcf1ad7c",
   "metadata": {},
   "outputs": [],
   "source": [
    "# tail"
   ]
  },
  {
   "cell_type": "code",
   "execution_count": null,
   "id": "3e87534f",
   "metadata": {},
   "outputs": [],
   "source": [
    "# info"
   ]
  },
  {
   "cell_type": "markdown",
   "id": "0597b805",
   "metadata": {},
   "source": [
    "<h2>3. Slowness in Traffic</h2>\n",
    "<br>\n",
    "<div><p>We read in our dataset about urban traffic in São Paulo. Let's now start exploring the data.</p>\n",
    "<p>In real situations, we usually have a goal when we explore data. Let's say our goal here is to determine the factors that cause the traffic slowness in São Paulo to worsen.</p>\n",
    "<p>Notice that we're not asking what's <em>causing</em> the traffic congestion. The answer to this is that there are just too many cars on the road. We're asking what factors worsen the situation.</p>\n",
    "<p>Let's begin by exploring the <code>Slowness in traffic (%)</code> column. The data type of this column is <code>object</code>, so we converted it to a <code>float</code> (you can see the code we used in the code editor).</p>\n",
    "<p>Let's use the <code>DataFrame.describe()</code> method to see some of its characteristics:</p>\n",
    "</div>"
   ]
  },
  {
   "cell_type": "code",
   "execution_count": null,
   "id": "3750995e",
   "metadata": {},
   "outputs": [],
   "source": [
    "# replace(',', '.')  \n",
    "# astype(float)"
   ]
  },
  {
   "cell_type": "code",
   "execution_count": null,
   "id": "448faecf",
   "metadata": {},
   "outputs": [],
   "source": [
    "#  describe"
   ]
  },
  {
   "cell_type": "markdown",
   "id": "e6018607",
   "metadata": {},
   "source": [
    "<div>\n",
    "<p>The traffic slowness ranges from 3.4% to 23.4%, with an average of 10.1%. If we order all the values of <code>Slowness in traffic (%)</code> column in ascending order, we see that 25% of the values are under 7.4%, 50% are under 9.0%, and 75% are under 11.9%.</p>\n",
    "<p>To get a better sense of the distribution of the values, we can plot a histogram. Let's do that in the following exercise.</p></div>"
   ]
  },
  {
   "cell_type": "markdown",
   "id": "6bab94e8",
   "metadata": {},
   "source": [
    "<h3>Exercise</h3>\n",
    "<br><ol>\n",
    "<li>Import <code>matplotlib.pyplot</code>, and plot a histogram for the <code>Slowness in traffic (%)</code> column</li>\n",
    "<li>Based on the histogram, evaluate the truth value of the sentences below.<ul>\n",
    "<li>The distribution of <code>Slowness in traffic (%)</code> is right skewed. Assign the Boolean <code>True</code> or <code>False</code> to <code>sentence_1</code>.</li>\n",
    "<li>Most of the values pile up on the left side of the histogram. Assign <code>True</code> or <code>False</code> to <code>sentence_2</code>.</li>\n",
    "<li>Most of the values are over 15.0%. Assign <code>True</code> or <code>False</code> to <code>sentence_3</code>.</li>\n",
    "</ul>\n",
    "</li>\n",
    "</ol>"
   ]
  },
  {
   "cell_type": "code",
   "execution_count": null,
   "id": "fed74023",
   "metadata": {},
   "outputs": [],
   "source": [
    "# import matplotlib\n"
   ]
  },
  {
   "cell_type": "code",
   "execution_count": null,
   "id": "c7a1fa8b",
   "metadata": {},
   "outputs": [],
   "source": [
    "#  histogram ['Slowness in traffic (%)']\n",
    "# plt.show()"
   ]
  },
  {
   "cell_type": "code",
   "execution_count": null,
   "id": "749b8c70",
   "metadata": {},
   "outputs": [],
   "source": []
  },
  {
   "cell_type": "markdown",
   "id": "ba549515",
   "metadata": {},
   "source": [
    "<h2>4. Pandas Visualization Methods</h2>\n",
    "<br>\n",
    "<p>A quicker way to generate the same histogram is to use the <a href=\"https://pandas.pydata.org/pandas-docs/stable/reference/api/pandas.Series.plot.hist.html\" target=\"_blank\"><code>Series.plot.hist()</code> method</a>:</p>"
   ]
  },
  {
   "cell_type": "code",
   "execution_count": null,
   "id": "d9645814",
   "metadata": {},
   "outputs": [],
   "source": [
    "# hist()\n",
    "# plt.show()"
   ]
  },
  {
   "cell_type": "markdown",
   "id": "d6278020",
   "metadata": {},
   "source": [
    "<p>Behind the curtains, Pandas uses Matplotlib to generate the graphs. For our graph above, Pandas used <code>plt.hist()</code> to generate the histogram.</p>\n",
    "<p>Since Pandas uses Matplotlib code, we can call <code>plt.show()</code> once we're ready to display the graph. This also means we can use Matplotlib code to customize the graphs. Below, we first generate the histogram using <code>Series.plot.hist()</code>, and then we add an x-label using <code>plt.xlabel()</code>.</p>"
   ]
  },
  {
   "cell_type": "code",
   "execution_count": null,
   "id": "f895ff80",
   "metadata": {},
   "outputs": [],
   "source": []
  },
  {
   "cell_type": "markdown",
   "id": "5bbdd0e0",
   "metadata": {},
   "source": [
    "<p>The Pandas library has other useful visualization methods as well:</p>\n",
    "<ul>\n",
    "<li><a href=\"https://pandas.pydata.org/pandas-docs/stable/reference/api/pandas.Series.plot.bar.html\" target=\"_blank\"><code>Series.plot.bar()</code></a>: generates a vertical bar plot.</li>\n",
    "<li><a href=\"https://pandas.pydata.org/pandas-docs/stable/reference/api/pandas.Series.plot.barh.html\" target=\"_blank\"><code>Series.plot.barh()</code></a>: generates a horizontal bar plot.</li>\n",
    "<li><a href=\"https://pandas.pydata.org/pandas-docs/stable/reference/api/pandas.Series.plot.line.html\" target=\"_blank\"><code>Series.plot.line()</code></a>: generates a line plot.</li>\n",
    "</ul>"
   ]
  },
  {
   "cell_type": "markdown",
   "id": "2bb585f4",
   "metadata": {},
   "source": [
    "<h3>Exercise</h3>\n",
    "<br>\n",
    "<ol>\n",
    "<li>Use the <code>Series.plot.hist()</code> method to generate a histogram for the <code>Slowness in traffic (%)</code> column.</li>\n",
    "<li>Add the title <code>Distribution of Slowness in traffic (%)</code>.</li>\n",
    "<li>Add the x-label <code>Slowness in traffic (%)</code>.</li>\n",
    "<li>Display the plot using <code>plt.show()</code>.</li>\n",
    "</ol>"
   ]
  },
  {
   "cell_type": "code",
   "execution_count": null,
   "id": "e489f838",
   "metadata": {},
   "outputs": [],
   "source": []
  },
  {
   "cell_type": "markdown",
   "id": "864a7563",
   "metadata": {},
   "source": [
    "<h2>5. Frequency of Incidents</h2>\n",
    "<br>\n",
    "<div><p>So far, we've examined the distribution of the <code>Slowness in traffic (%)</code> column. Recall that our goal here is to determine the factors that worsen the traffic slowness in São Paulo.</p>\n",
    "<p>With the exception of the <code>Hour (Coded)</code> and <code>Slowness in traffic (%)</code> columns, all the columns describe incident types related to traffic slowness: immobilized buses, broken trucks, accidents with victims, fire, manifestations, etc.</p>\n",
    "<p>Each one of these columns records the number of incidents reported at the time of registering the data. If we sum all the values in a column, we can get the total number of incidents that happened between December 14, 2009 and December 18, 2009 — from Monday to Friday.</p>\n",
    "<p>For instance, we see there were 118 broken truck incidents:</p>\n",
    "</div>"
   ]
  },
  {
   "cell_type": "code",
   "execution_count": null,
   "id": "ae53047a",
   "metadata": {},
   "outputs": [],
   "source": [
    "# sum()"
   ]
  },
  {
   "cell_type": "markdown",
   "id": "05eb387c",
   "metadata": {},
   "source": [
    "<div>\n",
    "<p>Let's calculate the sums for all the incident columns so we can compare them (we start with isolating the incident columns by dropping the columns <code>'Hour (Coded)'</code> and <code>'Slowness in traffic (%)'</code>).</p>\n",
    "</div>"
   ]
  },
  {
   "cell_type": "code",
   "execution_count": null,
   "id": "49307b29",
   "metadata": {},
   "outputs": [],
   "source": []
  },
  {
   "cell_type": "markdown",
   "id": "69ca6606",
   "metadata": {},
   "source": [
    "<div>\n",
    "<p>It's not easy to compare all these numbers just by eyeballing the table that <code>incidents.sum()</code> returned. It's better if we use a bar plot to visualize the values.</p>\n",
    "<p>Before we generate the bar plot, let's make the observation that <code>incidents.sum()</code> returns a Pandas <code>Series</code>:</p>\n",
    "</div>"
   ]
  },
  {
   "cell_type": "code",
   "execution_count": null,
   "id": "ffec9c82",
   "metadata": {},
   "outputs": [],
   "source": [
    "# type()"
   ]
  },
  {
   "cell_type": "markdown",
   "id": "df1fcb91",
   "metadata": {},
   "source": [
    "<div>\n",
    "<p>This means that we can use the <code>Series.plot.bar()</code> method we mentioned on the previous screen:</p>\n",
    "</div>"
   ]
  },
  {
   "cell_type": "code",
   "execution_count": null,
   "id": "c5d31279",
   "metadata": {},
   "outputs": [],
   "source": [
    "\n",
    "plt.show()"
   ]
  },
  {
   "cell_type": "code",
   "execution_count": null,
   "id": "7d5c7b3b",
   "metadata": {},
   "outputs": [],
   "source": [
    "#\n",
    "plt.show()"
   ]
  },
  {
   "cell_type": "markdown",
   "id": "33252277",
   "metadata": {},
   "source": [
    "<p>One of the first things we notice is that the x-tick labels are very hard to read — we need to tilt our head to the left to be able to read anything.</p>"
   ]
  },
  {
   "cell_type": "markdown",
   "id": "0502482d",
   "metadata": {},
   "source": [
    "<h3>Exercise</h3>\n",
    "<br>\n",
    "<ol>\n",
    "<li>Generate a horizontal bar plot for the <code>incidents.sum()</code> table.</li>\n",
    "</ol>"
   ]
  },
  {
   "cell_type": "code",
   "execution_count": null,
   "id": "4c585df8",
   "metadata": {},
   "outputs": [],
   "source": []
  },
  {
   "cell_type": "code",
   "execution_count": null,
   "id": "a48e7cb4",
   "metadata": {},
   "outputs": [],
   "source": []
  },
  {
   "cell_type": "markdown",
   "id": "081d429a",
   "metadata": {},
   "source": [
    "<ol start=\"2\">\n",
    "<li>Based on the resulting bar plot, evaluate the truth value of the following sentences:<ul>\n",
    "<li>Broken trucks are the most frequent cause of slow traffic. Assign the Boolean <code>True</code> or <code>False</code> to <code>sentence_1</code>.\n",
    "<div>\n",
    "    <input type=\"radio\" id=\"true1\" value=\"true\" name=\"ans1\">\n",
    "    <label for=\"true\">True</label>\n",
    "    <input type=\"radio\" id=\"false1\" value=\"false\" name=\"ans1\">\n",
    "    <label for=\"false\">False</label>\n",
    "</div>\n",
    "    </li>\n",
    "<li>Lack of electricity and flooding are less frequent than broken trucks. Assign <code>True</code> or <code>False</code> to <code>sentence_2</code>.\n",
    "<div>\n",
    "    <input type=\"radio\" id=\"true1\" value=\"true\" name=\"ans2\">\n",
    "    <label for=\"true\">True</label>\n",
    "    <input type=\"radio\" id=\"false1\" value=\"false\" name=\"ans2\">\n",
    "    <label for=\"false\">False</label>\n",
    "</div>\n",
    "</li>\n",
    "<li>The most frequent incident type is broken trucks. Assign <code>True</code> or <code>False</code> to <code>sentence_3</code>.\n",
    "<div>\n",
    "    <input type=\"radio\" id=\"true1\" value=\"true\" name=\"ans3\">\n",
    "    <label for=\"true\">True</label>\n",
    "    <input type=\"radio\" id=\"false1\" value=\"false\" name=\"ans3\">\n",
    "    <label for=\"false\">False</label>\n",
    "</div>\n",
    "</li>\n",
    "</ul>\n",
    "</li>\n",
    "</ol>\n",
    "    \n",
    "    "
   ]
  },
  {
   "cell_type": "code",
   "execution_count": null,
   "id": "5cbf4fd2",
   "metadata": {},
   "outputs": [],
   "source": []
  },
  {
   "cell_type": "markdown",
   "id": "a2e53e55",
   "metadata": {},
   "source": [
    "<h2>6. Correlations with Traffic Slowness</h2>\n",
    "<br>\n",
    "<div><p>We examined the frequency of incidents by generating a bar plot — recall that we're interested in identifying factors that worsen the traffic slowness.</p>\n",
    "<p>To get an accurate picture about each incident type and its relationship with traffic slowness, we can look up a few correlation values. The table below shows the correlation between <code>Slowness in traffic (%)</code> and every other column:</p>\n",
    "</div>"
   ]
  },
  {
   "cell_type": "code",
   "execution_count": null,
   "id": "ef9ffc99",
   "metadata": {},
   "outputs": [],
   "source": [
    "traffic.corr()['Slowness in traffic (%)']"
   ]
  },
  {
   "cell_type": "code",
   "execution_count": null,
   "id": "723e7253",
   "metadata": {},
   "outputs": [],
   "source": []
  },
  {
   "cell_type": "markdown",
   "id": "d4f53000",
   "metadata": {},
   "source": [
    "<div>\n",
    "<p>Leaving out the <code>Hour (Coded)</code> column (which doesn't describe an incident type), <code>Slowness in traffic (%)</code> correlates most strongly with the following:</p>\n",
    "<ul>\n",
    "<li><code>Lack of electricity</code>: +0.44</li>\n",
    "<li><code>Point of flooding</code>: +0.42</li>\n",
    "<li><code>Semaphore off</code>: +0.34</li>\n",
    "</ul>\n",
    "<p>To visualize the correlation between any two columns, we can use a scatter plot. Let's start with generating a scatter plot for <code>Slowness in traffic (%)</code> and <code>Lack of electricity</code>.</p>\n",
    "</div>"
   ]
  },
  {
   "cell_type": "code",
   "execution_count": null,
   "id": "13631813",
   "metadata": {},
   "outputs": [],
   "source": [
    "plt.scatter(traffic['Slowness in traffic (%)'],\n",
    "            traffic['Lack of electricity'])\n",
    "plt.show()"
   ]
  },
  {
   "cell_type": "code",
   "execution_count": null,
   "id": "8a46759c",
   "metadata": {},
   "outputs": [],
   "source": [
    "# traffic.plot.scatter\n",
    "plt.show()"
   ]
  },
  {
   "cell_type": "markdown",
   "id": "baf38378",
   "metadata": {},
   "source": [
    "<p>The positive correlation is not very obvious on the scatter plot — although we see that when <code>Lack of electricity</code> increases to <code>2</code>, <code>3</code> or <code>4</code>, the traffic slowness percentage tends to increase as well.</p>"
   ]
  },
  {
   "cell_type": "markdown",
   "id": "4f4cfff4",
   "metadata": {},
   "source": [
    "<h3>Exercise</h3>\n",
    "<br>\n",
    "<div><p>Using the <code>DataFrame.plot.scatter()</code> method:</p>\n",
    "<ol>\n",
    "<li>Generate a scatter plot with <code>Slowness in traffic (%)</code> on the x-axis and <code>Point of flooding</code> on the y-axis. Close and display the plot using <code>plt.show()</code>.</li>\n",
    "<li>Generate a scatter plot with <code>Slowness in traffic (%)</code> on the x-axis and <code>Semaphore off</code> on the y-axis.</li>\n",
    "</ol></div>"
   ]
  },
  {
   "cell_type": "code",
   "execution_count": null,
   "id": "f2e6dc39",
   "metadata": {},
   "outputs": [],
   "source": []
  },
  {
   "cell_type": "code",
   "execution_count": null,
   "id": "ff5e1c27",
   "metadata": {},
   "outputs": [],
   "source": []
  },
  {
   "cell_type": "markdown",
   "id": "afe52589",
   "metadata": {},
   "source": [
    "<h2>7. Traffic Slowness Over 20%</h2>\n",
    "<br>\n",
    "<div><p>On the previous cells, we looked up a few correlation values and generated three scatter plots. We identified lack of electricity, flooding, and nonfunctional semaphores as potential factors worsening the traffic.</p>\n",
    "<p>To look for more evidence, we're going to isolate all the rows where traffic slowness is 20% or more. Then, we're going to calculate and visualize the incident frequency.</p>\n",
    "</div>"
   ]
  },
  {
   "cell_type": "markdown",
   "id": "d113c31d",
   "metadata": {},
   "source": [
    "<h3>Exercise</h3>\n",
    "<br>\n",
    "<ol>\n",
    "<li>Isolate all the rows where traffic slowness is 20% or more. Assign the new <code>DataFrame</code> to a variable named <code>slowness_20_or_more</code>.</li>\n",
    "<li>Drop the <code>Slowness in traffic (%)</code> and <code>Hour (Coded)</code> columns from <code>slowness_20_or_more</code>.</li>\n",
    "<li>Calculate the event frequencies using the <code>DataFrame.sum()</code> method on <code>slowness_20_or_more</code>. Assign the resulting <code>Series</code> to <code>incident_frequencies</code>.</li>\n",
    "<li>Use <code>incident_frequencies</code> to plot a horizontal bar plot — use a Pandas method.</li>\n",
    "<li>Examine the plot — what are some high-frequency incidents when traffic slowness is 20% or more?</li>\n",
    "</ol>"
   ]
  },
  {
   "cell_type": "code",
   "execution_count": null,
   "id": "6d916288",
   "metadata": {},
   "outputs": [],
   "source": []
  },
  {
   "cell_type": "code",
   "execution_count": null,
   "id": "23b63bd9",
   "metadata": {},
   "outputs": [],
   "source": []
  },
  {
   "cell_type": "code",
   "execution_count": null,
   "id": "09d086fa",
   "metadata": {},
   "outputs": [],
   "source": []
  },
  {
   "cell_type": "code",
   "execution_count": null,
   "id": "5436a78d",
   "metadata": {},
   "outputs": [],
   "source": []
  },
  {
   "cell_type": "code",
   "execution_count": null,
   "id": "c2068132",
   "metadata": {},
   "outputs": [],
   "source": []
  },
  {
   "cell_type": "markdown",
   "id": "3ff88f29",
   "metadata": {},
   "source": [
    "<h2>8. How Traffic Slowness Change</h2>\n",
    "<br>\n",
    "<div><p>We isolated the rows where traffic slowness is higher than 20%.</p>\n",
    "<p>One conclusion is that lack of electricity and flooding are probably two factors that are causing significant traffic problems. Nonfunctional semaphores also affect traffic, but they are probably a result of lack of electricity.</p>\n",
    "<p>If we had to communicate our results to São Paulo's administration, we could report that lack of electricity and flooding cause significant traffic problems. This information can help in choosing which incident type to prioritize solving.</p>\n",
    "<p>The last thing we're going to look at in this lesson is how traffic slowness changes over the 7:00 – 20:00 time interval.</p>\n",
    "<p>First, we're going to isolate the data for each day — from Monday to Friday.</p>\n",
    "</div>"
   ]
  },
  {
   "cell_type": "code",
   "execution_count": null,
   "id": "08b50c68",
   "metadata": {},
   "outputs": [],
   "source": []
  },
  {
   "cell_type": "code",
   "execution_count": null,
   "id": "3dd03bf2",
   "metadata": {},
   "outputs": [],
   "source": [
    "days = ['Monday', 'Tuesday', 'Wednesday', 'Thursday', 'Friday']\n",
    "traffic_per_day = {}\n",
    "for i, day in zip(range(0, 135, 27), days):\n",
    "    each_day_traffic = traffic[i:i+27]\n",
    "    traffic_per_day[day] = each_day_traffic"
   ]
  },
  {
   "cell_type": "code",
   "execution_count": null,
   "id": "b8d3a21f",
   "metadata": {},
   "outputs": [],
   "source": []
  },
  {
   "cell_type": "code",
   "execution_count": null,
   "id": "b31444a6",
   "metadata": {},
   "outputs": [],
   "source": []
  },
  {
   "cell_type": "markdown",
   "id": "41f94a08",
   "metadata": {},
   "source": [
    "<p>To visualize how the values of a column change over time, we can use a line plot. To generate a line plot out of a <code>DataFrame</code>, we can use the <a href=\"https://pandas.pydata.org/pandas-docs/stable/reference/api/pandas.DataFrame.plot.line.html\" target=\"_blank\"><code>DataFrame.plot.line()</code> method</a>:</p>"
   ]
  },
  {
   "cell_type": "code",
   "execution_count": null,
   "id": "7cfa1a67",
   "metadata": {},
   "outputs": [],
   "source": []
  },
  {
   "cell_type": "markdown",
   "id": "cc079dc7",
   "metadata": {},
   "source": [
    "<h3>Exercise</h3>\n",
    "<br>\n",
    "<ol>\n",
    "<li>\n",
    "<p>Create a separate line plot for each day by using a <code>for</code> loop. Iterate over the <code>days</code> list, and for each day, do the following:</p>\n",
    "<ul>\n",
    "<li>Plot a line plot using the <code>DataFrame.plot.line()</code> method — <code>Hour (Coded)</code> must be on the x-axis and <code>Slowness in traffic (%)</code> on the y-axis.</li>\n",
    "<li>Add a title to the plot using the name of the day.</li>\n",
    "<li>Use <code>plt.ylim([0, 25])</code> to make the range of the y-axis the same for all plots — this helps with comparison.</li>\n",
    "<li>Close and display each plot with <code>plt.show()</code>.</li>\n",
    "</ul>\n",
    "</li>\n",
    "<li>\n",
    "<p>Inspect and compare the graphs — do you notice any recurring pattern in how traffic slowness changes during the day?</p>\n",
    "</li>\n",
    "</ol>"
   ]
  },
  {
   "cell_type": "code",
   "execution_count": null,
   "id": "52f75a9a",
   "metadata": {},
   "outputs": [],
   "source": []
  },
  {
   "cell_type": "markdown",
   "id": "4516ab80",
   "metadata": {},
   "source": [
    "<h2>9. Comparing Graphs</h2>\n",
    "<br>\n",
    "<div><p>In the previous exercise, we plotted five line plots, one for each day from Monday to Friday. To better compare the graphs, we brought the y-axis to the same range for each plot — we used the code <code>plt.ylim([0, 25])</code>.</p>\n",
    "<p>Remember we also plotted the graphs one below the other. This arrangement makes comparing graphs more difficult. To compare the Monday graph with the Friday graph, for instance, we need to scroll up and down repeatedly.</p>\n",
    "<p>A better choice here is to put all five line plots on the same graph.</p>\n",
    "<p><img src=\"m4_screen9_1.png\" alt=\"img\"></p>\n",
    "<p>Looking at the graph, we see the slowest traffic was on Wednesday and Thursday nights between 17:00 and 20:00. This specific time interval also registered high slowness values on Tuesday and Friday (and Monday — more or less). This is most likely the time when people are returning home from work.</p>\n",
    "<p>Let's generate this plot ourselves in the next exercise. However, we're going to use <code>plt.plot()</code> instead of the <code>DataFrame.plot.line()</code> method. That's because <code>DataFrame.plot.line()</code> plots separate graphs by default, which means we won't be able to put all the lines on the same graph.</p></div>"
   ]
  },
  {
   "cell_type": "markdown",
   "id": "c49f5a17",
   "metadata": {},
   "source": [
    "<h3>Exercise</h3>\n",
    "<br>\n",
    "<ol>\n",
    "<li>\n",
    "<p>Generate all the five line plots on a single graph. Use a <code>for</code> loop over the <code>days</code> list, and for each day, do the following:</p>\n",
    "<ul>\n",
    "<li>Plot a line plot using <code>plt.plot()</code>: <code>Hour (Coded)</code> must be on the x-axis and <code>Slowness in traffic (%)</code> on the y-axis.</li>\n",
    "</ul>\n",
    "</li>\n",
    "<li>\n",
    "<p>Add a legend to the graph.</p>\n",
    "<ul>\n",
    "<li>Outside the <code>for</code> loop, use <code>plt.legend()</code>.</li>\n",
    "<li>Inside the <code>for</code> loop, use the <code>label</code> parameter inside <code>plt.plot()</code> — the label should be the day name.</li>\n",
    "</ul>\n",
    "</li>\n",
    "</ol>"
   ]
  },
  {
   "cell_type": "code",
   "execution_count": null,
   "id": "270ed787",
   "metadata": {},
   "outputs": [],
   "source": []
  },
  {
   "cell_type": "markdown",
   "id": "71bac61b",
   "metadata": {},
   "source": [
    "<h2>10. Grid Charts</h2>\n",
    "<br>\n",
    "<div><p>On the previous screen, we concluded that it's easier to compare the line plots if they are all on the same graph.</p>\n",
    "<p><img src=\"m4_screen9_1.png\" alt=\"img\"></p>\n",
    "<p>However, there are portions on the graph where there are too many lines close to each other. This is making the graph harder to read. It's also hard to follow the line of a single day because it intersects with other lines.</p>\n",
    "<p>The best approach in this case is to plot the five line plots both collectively and separately.</p>\n",
    "<p><img src=\"m4_screen10_0.png\" alt=\"img\"></p>\n",
    "<p>What we see above is a <strong>grid chart</strong> — also known as a <strong>small multiple</strong>. A grid chart is a collection of similar graphs that usually share the same x- and y-axis range. The main purpose of a grid chart is to ease comparison.</p>\n",
    "<p>Matplotlib is flexible enough to make grid charts possible. In fact, we created the grid chart above in Matplotlib.</p>\n",
    "<p>To create a grid chart, we start by creating the larger figure where we will plot all the graphs — we use the <a href=\"https://matplotlib.org/api/_as_gen/matplotlib.pyplot.figure.html\" target=\"_blank\"><code>plt.figure()</code> function</a>.</p>\n",
    "</div>"
   ]
  },
  {
   "cell_type": "code",
   "execution_count": null,
   "id": "8374fd66",
   "metadata": {},
   "outputs": [],
   "source": [
    "plt.figure()"
   ]
  },
  {
   "cell_type": "markdown",
   "id": "00523448",
   "metadata": {},
   "source": [
    "<p>The second step is to create the first plot. You can also call the plots on a grid chart <strong>subplots</strong> — with this in mind, let's use the <a href=\"https://matplotlib.org/api/_as_gen/matplotlib.pyplot.subplot.html\" target=\"_blank\"><code>plt.subplot()</code> function</a> to create our first plot:</p>"
   ]
  },
  {
   "cell_type": "code",
   "execution_count": null,
   "id": "117abf25",
   "metadata": {},
   "outputs": [],
   "source": [
    "plt.figure()\n",
    "plt.subplot()\n",
    "plt.show()"
   ]
  },
  {
   "cell_type": "markdown",
   "id": "436b7d65",
   "metadata": {},
   "source": [
    "<p>Before moving on, we need to mention the table-like structure of a grid chart — it has rows and columns.The grid chart below, for instance, has three rows and two columns. Also, each plot is indexed by a number — the upper left plot has the index <code>1</code>, its neighboring plot on the right is indexed with <code>2</code>, and so on.</p>\n",
    "\n",
    "<center><img src=\"grid_chart_row_col.svg\" alt=\"img\"></center>"
   ]
  },
  {
   "cell_type": "markdown",
   "id": "448f481a",
   "metadata": {},
   "source": [
    "<p>We can specify the number of rows and columns for our grid chart by using the <code>plt.subplot(nrows, ncols, index)</code> function. For instance, <code>plt.subplot(3, 2, 1)</code> means that we want to build the plot with index <code>1</code> on a grid chart that has <code>3</code> rows and <code>2</code> columns.</p>"
   ]
  },
  {
   "cell_type": "code",
   "execution_count": null,
   "id": "e8b3a6f2",
   "metadata": {},
   "outputs": [],
   "source": []
  },
  {
   "cell_type": "markdown",
   "id": "253fed65",
   "metadata": {},
   "source": [
    "<p>When we want to add another plot, we add another <code>plt.subplot()</code> function. Below, we add the sixth plot on the grid chart.</p>"
   ]
  },
  {
   "cell_type": "code",
   "execution_count": null,
   "id": "80cb4a07",
   "metadata": {},
   "outputs": [],
   "source": []
  },
  {
   "cell_type": "markdown",
   "id": "c7df84e3",
   "metadata": {},
   "source": [
    "<p>When we add a second plot, we need to keep the same rows and columns configuration. The only parameter we want to change is the index number. Below, we add the subplot with index <code>2</code>.</p>"
   ]
  },
  {
   "cell_type": "code",
   "execution_count": null,
   "id": "9a1e6440",
   "metadata": {},
   "outputs": [],
   "source": []
  },
  {
   "cell_type": "markdown",
   "id": "18c7d0fd",
   "metadata": {},
   "source": [
    "<p>As a sidenote, a quirk of <code>plt.subplot()</code> is that it only takes positional arguments. If we use keyword arguments, we'll get an error — <code>plt.subplot(nrows=3, ncols=2, index=1)</code> raises an error.</p>"
   ]
  },
  {
   "cell_type": "markdown",
   "id": "ff76bc7c",
   "metadata": {},
   "source": [
    "<h3>Exercise</h3>\n",
    "<br>\n",
    "<ol>\n",
    "<li>Inside the code editor, we've already added three plots on the grid chart. Add the other three plots.</li>\n",
    "</ol>"
   ]
  },
  {
   "cell_type": "code",
   "execution_count": null,
   "id": "a9a9a3a2",
   "metadata": {},
   "outputs": [],
   "source": [
    "plt.figure()\n",
    "plt.subplot(3, 2, 1)\n",
    "plt.subplot(3, 2, 2)\n",
    "plt.subplot(3, 2, 6)\n",
    "# \n",
    "# subplot\n",
    "# subplot\n",
    "# subplot\n",
    "plt.show()"
   ]
  },
  {
   "cell_type": "markdown",
   "id": "2e3c1403",
   "metadata": {},
   "source": [
    "<h2>11. Grid Charts (II)</h2>\n",
    "<br>\n",
    "<p>The plots are overlapping, and the grid chart as a whole looks a bit too packed. To fix this, we're going to increase the size of the entire figure by using <code>plt.figure(figsize=(width, height))</code>.</p>"
   ]
  },
  {
   "cell_type": "code",
   "execution_count": null,
   "id": "601118e6",
   "metadata": {},
   "outputs": [],
   "source": []
  },
  {
   "cell_type": "markdown",
   "id": "5cec8f71",
   "metadata": {},
   "source": [
    "<p>Now let's start to plot the line graphs that show how traffic slowness changes. Under each <code>plt.subplot()</code> function, we need to write the code that's going to generate the plot we want. Below, we generate our first plot.</p>"
   ]
  },
  {
   "cell_type": "code",
   "execution_count": null,
   "id": "57acb0b8",
   "metadata": {},
   "outputs": [],
   "source": [
    "plt.figure(figsize=(10, 12))\n",
    "\n",
    "# The first subplot\n",
    "#\n",
    "#\n",
    "\n",
    "# The rest of the subplots\n",
    "plt.subplot(3, 2, 2)\n",
    "plt.subplot(3, 2, 3)\n",
    "plt.subplot(3, 2, 4)\n",
    "plt.subplot(3, 2, 5)\n",
    "plt.subplot(3, 2, 6)\n",
    "\n",
    "# plt.show() at the end to display the entire grid chart\n",
    "plt.show()"
   ]
  },
  {
   "cell_type": "markdown",
   "id": "26652f9c",
   "metadata": {},
   "source": [
    "<p>Matplotlib allows us to customize the subplots individually. All the Matplotlib code under a certain <code>plt.subplot()</code> function is targeted towards the particular subplot that function generates. A second <code>plt.subplot()</code> function generates a second subplot, and the matplolib code that follows targets the second subplot.</p>\n",
    "<p>Below, we add a second line plot and different titles to the first three subplots.</p>"
   ]
  },
  {
   "cell_type": "code",
   "execution_count": null,
   "id": "6e4207ed",
   "metadata": {},
   "outputs": [],
   "source": [
    "plt.figure(figsize=(10, 12))\n",
    "\n",
    "# The first subplot\n",
    "\n",
    "# The second subplot\n",
    "\n",
    "\n",
    "# The third subplot\n",
    "\n",
    "# The rest of the subplots\n",
    "plt.subplot(3, 2, 4)\n",
    "plt.subplot(3, 2, 5)\n",
    "plt.subplot(3, 2, 6)\n",
    "\n",
    "plt.show()"
   ]
  },
  {
   "cell_type": "markdown",
   "id": "44ee0fd2",
   "metadata": {},
   "source": [
    "<p>When we need to use the <code>plt.subplot()</code> function multiple times, it's better to use a <code>for</code> loop. Below, for instance, we create all the six plots with significantly less code.</p>\n"
   ]
  },
  {
   "cell_type": "code",
   "execution_count": null,
   "id": "daba2f8d",
   "metadata": {},
   "outputs": [],
   "source": []
  },
  {
   "cell_type": "markdown",
   "id": "c0a9a64f",
   "metadata": {},
   "source": [
    "<h3>Exercise</h3>\n",
    "<br>\n",
    "<ol>\n",
    "<li>Create a new figure with <code>figsize=(10,12)</code>.</li>\n",
    "<li>Create the first five plots using a <code>for</code> loop. Use the <code>zip()</code> function to iterate over both a range (use the <code>range()</code> function) and the <code>days</code> list. For each iteration, do the following:<ul>\n",
    "<li>Add the proper index number inside <code>plt.subplot(nrows, ncols, index)</code>.</li>\n",
    "<li>Generate a line plot for each day — <code>Hour (Coded)</code> must be on the x-axis and <code>Slowness in traffic (%)</code> on the y-axis.</li>\n",
    "<li>Add the day name as a plot title.</li>\n",
    "<li>Bring the plot to a 0-25 range on the y-axis.</li>\n",
    "</ul>\n",
    "</li>\n",
    "</ol>"
   ]
  },
  {
   "cell_type": "code",
   "execution_count": null,
   "id": "7c280db5",
   "metadata": {},
   "outputs": [],
   "source": []
  }
 ],
 "metadata": {
  "kernelspec": {
   "display_name": "Python 3",
   "language": "python",
   "name": "python3"
  },
  "language_info": {
   "codemirror_mode": {
    "name": "ipython",
    "version": 3
   },
   "file_extension": ".py",
   "mimetype": "text/x-python",
   "name": "python",
   "nbconvert_exporter": "python",
   "pygments_lexer": "ipython3",
   "version": "3.8.8"
  }
 },
 "nbformat": 4,
 "nbformat_minor": 5
}
