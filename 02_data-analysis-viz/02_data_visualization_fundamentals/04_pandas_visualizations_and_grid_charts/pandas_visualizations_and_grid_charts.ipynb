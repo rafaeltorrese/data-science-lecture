{
 "cells": [
  {
   "cell_type": "markdown",
   "id": "a0699c99",
   "metadata": {},
   "source": [
    "<center><h1>Pandas Visualizations and Grid Charts</h1></center>"
   ]
  },
  {
   "cell_type": "markdown",
   "id": "5a22e595",
   "metadata": {},
   "source": [
    "<h2>1. Traffic Congestions in Sao Paulo</h2>\n",
    "<br>\n",
    "<div><p>We focused on exploratory data visualization and learned the following:</p>\n",
    "<ul>\n",
    "<li>How to visualize time series data with line plots.</li>\n",
    "<li>How to visualize correlations with scatter plots.</li>\n",
    "<li>How to visualize frequency distributions with bar plots and histograms.</li>\n",
    "</ul>\n",
    "<p>We'll continue learning about exploratory data visualization:</p>\n",
    "<ul>\n",
    "<li>How to speed up our exploratory data visualization workflow using Pandas.</li>\n",
    "<li>How to better compare graphs using grid charts.</li>\n",
    "</ul>\n",
    "<p>We'll work with a data set about the urban traffic in São Paulo, the most populous city in Brazil. When it comes to traffic congestion, São Paulo is one of the most congested cities in the world.</p>\n",
    "<p>Traffic jams can be as long as 100 km, and it can take people more than two hours to get to work. The city even has an air-taxi service for those who can afford it.</p>\n",
    "<p></p><center>\n",
    "<img src=\"m4_1.png\" alt=\"img\">\n",
    "</center><p></p>\n",
    "<p>Traffic jams cause significant loss. Instead of working, people are stuck in traffic wasting fuel, which leads to more air pollution, ultimately impacting human health. According to the <a href=\"https://www.worldbank.org/en/news/feature/2014/05/01/changing-commuter-choices-helps-sao-paulo-reduce-traffic-congestion\" target=\"_blank\">World Bank</a>, São Paulo's traffic jams were estimated to cost <span>$</span>17.8 billion dollars in 2012.</p>\n",
    "</div>"
   ]
  },
  {
   "cell_type": "markdown",
   "id": "93a9eb6f",
   "metadata": {},
   "source": [
    "<h2>2. Traffic Behavior Dataset</h2>\n",
    "<br>"
   ]
  },
  {
   "cell_type": "markdown",
   "id": "853e0753",
   "metadata": {},
   "source": [
    "<h3>Exercise</h3>\n",
    "<br>\n",
    "<div><ol>\n",
    "<li>Import the <code>pandas</code> module as <code>pd</code>.</li>\n",
    "<li>Read in the <code>traffic_sao_paulo.csv</code> file using <code>pd.read_csv()</code>.<ul>\n",
    "<li>The data points are separated by <code>;</code>, so you'll need to use <code>sep=';'</code> to read in the file properly.</li>\n",
    "<li>Assign the result to a variable named <code>traffic</code>.</li>\n",
    "</ul>\n",
    "</li>\n",
    "<li>Perform a quick examination of the dataset.<ul>\n",
    "<li>Inspect the first and the last five rows.</li>\n",
    "<li>Use <code>DataFrame.info()</code> to print summary information about the dataset. Do you see any missing values? Are all data types numerical?</li>\n",
    "</ul>\n",
    "</li>\n",
    "</ol></div>"
   ]
  },
  {
   "cell_type": "code",
   "execution_count": 4,
   "id": "9fb31460",
   "metadata": {},
   "outputs": [],
   "source": [
    "import pandas as pd"
   ]
  },
  {
   "cell_type": "code",
   "execution_count": 5,
   "id": "958d1135",
   "metadata": {},
   "outputs": [],
   "source": [
    "traffic = pd.read_csv('traffic_sao_paulo.csv', sep=';')"
   ]
  },
  {
   "cell_type": "code",
   "execution_count": 6,
   "id": "767e9e19",
   "metadata": {},
   "outputs": [
    {
     "data": {
      "text/html": [
       "<div>\n",
       "<style scoped>\n",
       "    .dataframe tbody tr th:only-of-type {\n",
       "        vertical-align: middle;\n",
       "    }\n",
       "\n",
       "    .dataframe tbody tr th {\n",
       "        vertical-align: top;\n",
       "    }\n",
       "\n",
       "    .dataframe thead th {\n",
       "        text-align: right;\n",
       "    }\n",
       "</style>\n",
       "<table border=\"1\" class=\"dataframe\">\n",
       "  <thead>\n",
       "    <tr style=\"text-align: right;\">\n",
       "      <th></th>\n",
       "      <th>Hour (Coded)</th>\n",
       "      <th>Immobilized bus</th>\n",
       "      <th>Broken Truck</th>\n",
       "      <th>Vehicle excess</th>\n",
       "      <th>Accident victim</th>\n",
       "      <th>Running over</th>\n",
       "      <th>Fire vehicles</th>\n",
       "      <th>Occurrence involving freight</th>\n",
       "      <th>Incident involving dangerous freight</th>\n",
       "      <th>Lack of electricity</th>\n",
       "      <th>Fire</th>\n",
       "      <th>Point of flooding</th>\n",
       "      <th>Manifestations</th>\n",
       "      <th>Defect in the network of trolleybuses</th>\n",
       "      <th>Tree on the road</th>\n",
       "      <th>Semaphore off</th>\n",
       "      <th>Intermittent Semaphore</th>\n",
       "      <th>Slowness in traffic (%)</th>\n",
       "    </tr>\n",
       "  </thead>\n",
       "  <tbody>\n",
       "    <tr>\n",
       "      <th>0</th>\n",
       "      <td>1</td>\n",
       "      <td>0</td>\n",
       "      <td>0</td>\n",
       "      <td>0</td>\n",
       "      <td>0</td>\n",
       "      <td>0</td>\n",
       "      <td>0</td>\n",
       "      <td>0</td>\n",
       "      <td>0</td>\n",
       "      <td>0</td>\n",
       "      <td>0</td>\n",
       "      <td>0</td>\n",
       "      <td>0</td>\n",
       "      <td>0</td>\n",
       "      <td>0</td>\n",
       "      <td>0</td>\n",
       "      <td>0</td>\n",
       "      <td>4,1</td>\n",
       "    </tr>\n",
       "    <tr>\n",
       "      <th>1</th>\n",
       "      <td>2</td>\n",
       "      <td>0</td>\n",
       "      <td>0</td>\n",
       "      <td>0</td>\n",
       "      <td>0</td>\n",
       "      <td>0</td>\n",
       "      <td>0</td>\n",
       "      <td>0</td>\n",
       "      <td>0</td>\n",
       "      <td>0</td>\n",
       "      <td>0</td>\n",
       "      <td>0</td>\n",
       "      <td>0</td>\n",
       "      <td>0</td>\n",
       "      <td>0</td>\n",
       "      <td>0</td>\n",
       "      <td>0</td>\n",
       "      <td>6,6</td>\n",
       "    </tr>\n",
       "    <tr>\n",
       "      <th>2</th>\n",
       "      <td>3</td>\n",
       "      <td>0</td>\n",
       "      <td>0</td>\n",
       "      <td>0</td>\n",
       "      <td>0</td>\n",
       "      <td>0</td>\n",
       "      <td>0</td>\n",
       "      <td>0</td>\n",
       "      <td>0</td>\n",
       "      <td>0</td>\n",
       "      <td>0</td>\n",
       "      <td>0</td>\n",
       "      <td>0</td>\n",
       "      <td>0</td>\n",
       "      <td>0</td>\n",
       "      <td>0</td>\n",
       "      <td>0</td>\n",
       "      <td>8,7</td>\n",
       "    </tr>\n",
       "    <tr>\n",
       "      <th>3</th>\n",
       "      <td>4</td>\n",
       "      <td>0</td>\n",
       "      <td>0</td>\n",
       "      <td>0</td>\n",
       "      <td>0</td>\n",
       "      <td>0</td>\n",
       "      <td>0</td>\n",
       "      <td>0</td>\n",
       "      <td>0</td>\n",
       "      <td>0</td>\n",
       "      <td>0</td>\n",
       "      <td>0</td>\n",
       "      <td>0</td>\n",
       "      <td>0</td>\n",
       "      <td>0</td>\n",
       "      <td>0</td>\n",
       "      <td>0</td>\n",
       "      <td>9,2</td>\n",
       "    </tr>\n",
       "    <tr>\n",
       "      <th>4</th>\n",
       "      <td>5</td>\n",
       "      <td>0</td>\n",
       "      <td>0</td>\n",
       "      <td>0</td>\n",
       "      <td>0</td>\n",
       "      <td>0</td>\n",
       "      <td>0</td>\n",
       "      <td>0</td>\n",
       "      <td>0</td>\n",
       "      <td>0</td>\n",
       "      <td>0</td>\n",
       "      <td>0</td>\n",
       "      <td>0</td>\n",
       "      <td>0</td>\n",
       "      <td>0</td>\n",
       "      <td>0</td>\n",
       "      <td>0</td>\n",
       "      <td>11,1</td>\n",
       "    </tr>\n",
       "  </tbody>\n",
       "</table>\n",
       "</div>"
      ],
      "text/plain": [
       "   Hour (Coded)  Immobilized bus  Broken Truck  Vehicle excess  \\\n",
       "0             1                0             0               0   \n",
       "1             2                0             0               0   \n",
       "2             3                0             0               0   \n",
       "3             4                0             0               0   \n",
       "4             5                0             0               0   \n",
       "\n",
       "   Accident victim  Running over  Fire vehicles  Occurrence involving freight  \\\n",
       "0                0             0              0                             0   \n",
       "1                0             0              0                             0   \n",
       "2                0             0              0                             0   \n",
       "3                0             0              0                             0   \n",
       "4                0             0              0                             0   \n",
       "\n",
       "   Incident involving dangerous freight  Lack of electricity  Fire  \\\n",
       "0                                     0                    0     0   \n",
       "1                                     0                    0     0   \n",
       "2                                     0                    0     0   \n",
       "3                                     0                    0     0   \n",
       "4                                     0                    0     0   \n",
       "\n",
       "   Point of flooding  Manifestations  Defect in the network of trolleybuses  \\\n",
       "0                  0               0                                      0   \n",
       "1                  0               0                                      0   \n",
       "2                  0               0                                      0   \n",
       "3                  0               0                                      0   \n",
       "4                  0               0                                      0   \n",
       "\n",
       "   Tree on the road  Semaphore off  Intermittent Semaphore  \\\n",
       "0                 0              0                       0   \n",
       "1                 0              0                       0   \n",
       "2                 0              0                       0   \n",
       "3                 0              0                       0   \n",
       "4                 0              0                       0   \n",
       "\n",
       "  Slowness in traffic (%)  \n",
       "0                     4,1  \n",
       "1                     6,6  \n",
       "2                     8,7  \n",
       "3                     9,2  \n",
       "4                    11,1  "
      ]
     },
     "execution_count": 6,
     "metadata": {},
     "output_type": "execute_result"
    }
   ],
   "source": [
    "traffic.head()"
   ]
  },
  {
   "cell_type": "code",
   "execution_count": 7,
   "id": "fcf1ad7c",
   "metadata": {},
   "outputs": [
    {
     "data": {
      "text/html": [
       "<div>\n",
       "<style scoped>\n",
       "    .dataframe tbody tr th:only-of-type {\n",
       "        vertical-align: middle;\n",
       "    }\n",
       "\n",
       "    .dataframe tbody tr th {\n",
       "        vertical-align: top;\n",
       "    }\n",
       "\n",
       "    .dataframe thead th {\n",
       "        text-align: right;\n",
       "    }\n",
       "</style>\n",
       "<table border=\"1\" class=\"dataframe\">\n",
       "  <thead>\n",
       "    <tr style=\"text-align: right;\">\n",
       "      <th></th>\n",
       "      <th>Hour (Coded)</th>\n",
       "      <th>Immobilized bus</th>\n",
       "      <th>Broken Truck</th>\n",
       "      <th>Vehicle excess</th>\n",
       "      <th>Accident victim</th>\n",
       "      <th>Running over</th>\n",
       "      <th>Fire vehicles</th>\n",
       "      <th>Occurrence involving freight</th>\n",
       "      <th>Incident involving dangerous freight</th>\n",
       "      <th>Lack of electricity</th>\n",
       "      <th>Fire</th>\n",
       "      <th>Point of flooding</th>\n",
       "      <th>Manifestations</th>\n",
       "      <th>Defect in the network of trolleybuses</th>\n",
       "      <th>Tree on the road</th>\n",
       "      <th>Semaphore off</th>\n",
       "      <th>Intermittent Semaphore</th>\n",
       "      <th>Slowness in traffic (%)</th>\n",
       "    </tr>\n",
       "  </thead>\n",
       "  <tbody>\n",
       "    <tr>\n",
       "      <th>130</th>\n",
       "      <td>23</td>\n",
       "      <td>1</td>\n",
       "      <td>0</td>\n",
       "      <td>0</td>\n",
       "      <td>0</td>\n",
       "      <td>1</td>\n",
       "      <td>0</td>\n",
       "      <td>0</td>\n",
       "      <td>0</td>\n",
       "      <td>0</td>\n",
       "      <td>0</td>\n",
       "      <td>0</td>\n",
       "      <td>0</td>\n",
       "      <td>1</td>\n",
       "      <td>0</td>\n",
       "      <td>0</td>\n",
       "      <td>0</td>\n",
       "      <td>17,8</td>\n",
       "    </tr>\n",
       "    <tr>\n",
       "      <th>131</th>\n",
       "      <td>24</td>\n",
       "      <td>0</td>\n",
       "      <td>0</td>\n",
       "      <td>0</td>\n",
       "      <td>2</td>\n",
       "      <td>0</td>\n",
       "      <td>0</td>\n",
       "      <td>0</td>\n",
       "      <td>0</td>\n",
       "      <td>0</td>\n",
       "      <td>0</td>\n",
       "      <td>0</td>\n",
       "      <td>0</td>\n",
       "      <td>0</td>\n",
       "      <td>0</td>\n",
       "      <td>0</td>\n",
       "      <td>0</td>\n",
       "      <td>18,1</td>\n",
       "    </tr>\n",
       "    <tr>\n",
       "      <th>132</th>\n",
       "      <td>25</td>\n",
       "      <td>1</td>\n",
       "      <td>0</td>\n",
       "      <td>0</td>\n",
       "      <td>2</td>\n",
       "      <td>0</td>\n",
       "      <td>0</td>\n",
       "      <td>0</td>\n",
       "      <td>0</td>\n",
       "      <td>0</td>\n",
       "      <td>0</td>\n",
       "      <td>0</td>\n",
       "      <td>0</td>\n",
       "      <td>0</td>\n",
       "      <td>0</td>\n",
       "      <td>0</td>\n",
       "      <td>0</td>\n",
       "      <td>17,7</td>\n",
       "    </tr>\n",
       "    <tr>\n",
       "      <th>133</th>\n",
       "      <td>26</td>\n",
       "      <td>0</td>\n",
       "      <td>4</td>\n",
       "      <td>0</td>\n",
       "      <td>0</td>\n",
       "      <td>0</td>\n",
       "      <td>0</td>\n",
       "      <td>0</td>\n",
       "      <td>0</td>\n",
       "      <td>0</td>\n",
       "      <td>0</td>\n",
       "      <td>0</td>\n",
       "      <td>1</td>\n",
       "      <td>0</td>\n",
       "      <td>0</td>\n",
       "      <td>1</td>\n",
       "      <td>0</td>\n",
       "      <td>17,4</td>\n",
       "    </tr>\n",
       "    <tr>\n",
       "      <th>134</th>\n",
       "      <td>27</td>\n",
       "      <td>0</td>\n",
       "      <td>0</td>\n",
       "      <td>0</td>\n",
       "      <td>0</td>\n",
       "      <td>0</td>\n",
       "      <td>0</td>\n",
       "      <td>0</td>\n",
       "      <td>0</td>\n",
       "      <td>0</td>\n",
       "      <td>0</td>\n",
       "      <td>0</td>\n",
       "      <td>0</td>\n",
       "      <td>0</td>\n",
       "      <td>0</td>\n",
       "      <td>0</td>\n",
       "      <td>0</td>\n",
       "      <td>12,1</td>\n",
       "    </tr>\n",
       "  </tbody>\n",
       "</table>\n",
       "</div>"
      ],
      "text/plain": [
       "     Hour (Coded)  Immobilized bus  Broken Truck  Vehicle excess  \\\n",
       "130            23                1             0               0   \n",
       "131            24                0             0               0   \n",
       "132            25                1             0               0   \n",
       "133            26                0             4               0   \n",
       "134            27                0             0               0   \n",
       "\n",
       "     Accident victim  Running over  Fire vehicles  \\\n",
       "130                0             1              0   \n",
       "131                2             0              0   \n",
       "132                2             0              0   \n",
       "133                0             0              0   \n",
       "134                0             0              0   \n",
       "\n",
       "     Occurrence involving freight  Incident involving dangerous freight  \\\n",
       "130                             0                                     0   \n",
       "131                             0                                     0   \n",
       "132                             0                                     0   \n",
       "133                             0                                     0   \n",
       "134                             0                                     0   \n",
       "\n",
       "     Lack of electricity  Fire  Point of flooding  Manifestations  \\\n",
       "130                    0     0                  0               0   \n",
       "131                    0     0                  0               0   \n",
       "132                    0     0                  0               0   \n",
       "133                    0     0                  0               1   \n",
       "134                    0     0                  0               0   \n",
       "\n",
       "     Defect in the network of trolleybuses  Tree on the road  Semaphore off  \\\n",
       "130                                      1                 0              0   \n",
       "131                                      0                 0              0   \n",
       "132                                      0                 0              0   \n",
       "133                                      0                 0              1   \n",
       "134                                      0                 0              0   \n",
       "\n",
       "     Intermittent Semaphore Slowness in traffic (%)  \n",
       "130                       0                    17,8  \n",
       "131                       0                    18,1  \n",
       "132                       0                    17,7  \n",
       "133                       0                    17,4  \n",
       "134                       0                    12,1  "
      ]
     },
     "execution_count": 7,
     "metadata": {},
     "output_type": "execute_result"
    }
   ],
   "source": [
    "traffic.tail()"
   ]
  },
  {
   "cell_type": "code",
   "execution_count": 8,
   "id": "3e87534f",
   "metadata": {},
   "outputs": [
    {
     "name": "stdout",
     "output_type": "stream",
     "text": [
      "<class 'pandas.core.frame.DataFrame'>\n",
      "RangeIndex: 135 entries, 0 to 134\n",
      "Data columns (total 18 columns):\n",
      " #   Column                                 Non-Null Count  Dtype \n",
      "---  ------                                 --------------  ----- \n",
      " 0   Hour (Coded)                           135 non-null    int64 \n",
      " 1   Immobilized bus                        135 non-null    int64 \n",
      " 2   Broken Truck                           135 non-null    int64 \n",
      " 3   Vehicle excess                         135 non-null    int64 \n",
      " 4   Accident victim                        135 non-null    int64 \n",
      " 5   Running over                           135 non-null    int64 \n",
      " 6   Fire vehicles                          135 non-null    int64 \n",
      " 7   Occurrence involving freight           135 non-null    int64 \n",
      " 8   Incident involving dangerous freight   135 non-null    int64 \n",
      " 9   Lack of electricity                    135 non-null    int64 \n",
      " 10  Fire                                   135 non-null    int64 \n",
      " 11  Point of flooding                      135 non-null    int64 \n",
      " 12  Manifestations                         135 non-null    int64 \n",
      " 13  Defect in the network of trolleybuses  135 non-null    int64 \n",
      " 14  Tree on the road                       135 non-null    int64 \n",
      " 15  Semaphore off                          135 non-null    int64 \n",
      " 16  Intermittent Semaphore                 135 non-null    int64 \n",
      " 17  Slowness in traffic (%)                135 non-null    object\n",
      "dtypes: int64(17), object(1)\n",
      "memory usage: 19.1+ KB\n"
     ]
    }
   ],
   "source": [
    "traffic.info()"
   ]
  },
  {
   "cell_type": "markdown",
   "id": "0597b805",
   "metadata": {},
   "source": [
    "<h2>3. Slowness in Traffic</h2>\n",
    "<br>"
   ]
  },
  {
   "cell_type": "code",
   "execution_count": 9,
   "id": "eb045ce5",
   "metadata": {},
   "outputs": [],
   "source": [
    "traffic['Slowness in traffic (%)'] = traffic['Slowness in traffic (%)'].str.replace(',', '.')"
   ]
  },
  {
   "cell_type": "code",
   "execution_count": 10,
   "id": "09b8e94f",
   "metadata": {},
   "outputs": [],
   "source": [
    "traffic['Slowness in traffic (%)'] = traffic['Slowness in traffic (%)'].astype(float)"
   ]
  },
  {
   "cell_type": "markdown",
   "id": "6bab94e8",
   "metadata": {},
   "source": [
    "<h3>Exercise</h3>\n",
    "<br><ol>\n",
    "<li>Import <code>matplotlib.pyplot</code>, and plot a histogram for the <code>Slowness in traffic (%)</code> column</li>\n",
    "<li>Based on the histogram, evaluate the truth value of the sentences below.<ul>\n",
    "<li>The distribution of <code>Slowness in traffic (%)</code> is right skewed. Assign the Boolean <code>True</code> or <code>False</code> to <code>sentence_1</code>.</li>\n",
    "<li>Most of the values pile up on the left side of the histogram. Assign <code>True</code> or <code>False</code> to <code>sentence_2</code>.</li>\n",
    "<li>Most of the values are over 15.0%. Assign <code>True</code> or <code>False</code> to <code>sentence_3</code>.</li>\n",
    "</ul>\n",
    "</li>\n",
    "</ol>"
   ]
  },
  {
   "cell_type": "code",
   "execution_count": 11,
   "id": "fed74023",
   "metadata": {},
   "outputs": [],
   "source": [
    "import matplotlib.pyplot as plt\n",
    "%matplotlib inline"
   ]
  },
  {
   "cell_type": "code",
   "execution_count": 14,
   "id": "c7a1fa8b",
   "metadata": {},
   "outputs": [
    {
     "data": {
      "image/png": "[encoded data removed]",
      "text/plain": [
       "<Figure size 432x288 with 1 Axes>"
      ]
     },
     "metadata": {
      "needs_background": "light"
     },
     "output_type": "display_data"
    }
   ],
   "source": [
    "plt.hist(traffic['Slowness in traffic (%)'], bins=10)\n",
    "plt.show()"
   ]
  },
  {
   "cell_type": "code",
   "execution_count": 15,
   "id": "749b8c70",
   "metadata": {},
   "outputs": [],
   "source": [
    "sentence_1 = True\n",
    "sentence_2 = True\n",
    "sentence_3 = False"
   ]
  },
  {
   "cell_type": "markdown",
   "id": "ba549515",
   "metadata": {},
   "source": [
    "<h2>4. Pandas Visualization Methods</h2>\n",
    "<br>"
   ]
  },
  {
   "cell_type": "markdown",
   "id": "2bb585f4",
   "metadata": {},
   "source": [
    "<h3>Exercise</h3>\n",
    "<br>\n",
    "<ol>\n",
    "<li>Use the <code>Series.plot.hist()</code> method to generate a histogram for the <code>Slowness in traffic (%)</code> column.</li>\n",
    "<li>Add the title <code>Distribution of Slowness in traffic (%)</code> (the answer checking is case-sensitive).</li>\n",
    "<li>Add the x-label <code>Slowness in traffic (%)</code>.</li>\n",
    "<li>Display the plot using <code>plt.show()</code>.</li>\n",
    "</ol>"
   ]
  },
  {
   "cell_type": "code",
   "execution_count": 17,
   "id": "e489f838",
   "metadata": {},
   "outputs": [
    {
     "data": {
      "image/png": "[encoded data removed]",
      "text/plain": [
       "<Figure size 432x288 with 1 Axes>"
      ]
     },
     "metadata": {
      "needs_background": "light"
     },
     "output_type": "display_data"
    }
   ],
   "source": [
    "traffic['Slowness in traffic (%)'].plot.hist()\n",
    "plt.title('Distribution of Slowness in traffic (%)')\n",
    "plt.xlabel('Slowness in traffic (%)')\n",
    "plt.show()"
   ]
  },
  {
   "cell_type": "markdown",
   "id": "864a7563",
   "metadata": {},
   "source": [
    "<h2>5. Frequency of Incidents</h2>\n",
    "<br>\n",
    "<div><p>So far, we've examined the distribution of the <code>Slowness in traffic (%)</code> column. Recall that our goal here is to determine the factors that worsen the traffic slowness in São Paulo.</p>\n",
    "<p>With the exception of the <code>Hour (Coded)</code> and <code>Slowness in traffic (%)</code> columns, all the columns describe incident types related to traffic slowness: immobilized buses, broken trucks, accidents with victims, fire, manifestations, etc.</p>\n",
    "<p>Each one of these columns records the number of incidents reported at the time of registering the data. If we sum all the values in a column, we can get the total number of incidents that happened between December 14, 2009 and December 18, 2009 — from Monday to Friday.</p>\n",
    "<p>For instance, we see there were 118 broken truck incidents:</p>\n",
    "</div>"
   ]
  },
  {
   "cell_type": "code",
   "execution_count": 18,
   "id": "ae53047a",
   "metadata": {},
   "outputs": [
    {
     "data": {
      "text/plain": [
       "118"
      ]
     },
     "execution_count": 18,
     "metadata": {},
     "output_type": "execute_result"
    }
   ],
   "source": [
    "traffic['Broken Truck'].sum()"
   ]
  },
  {
   "cell_type": "markdown",
   "id": "05eb387c",
   "metadata": {},
   "source": [
    "<div>\n",
    "<p>Let's calculate the sums for all the incident columns so we can compare them (we start with isolating the incident columns by dropping the columns <code>'Hour (Coded)'</code> and <code>'Slowness in traffic (%)'</code>).</p>\n",
    "</div>"
   ]
  },
  {
   "cell_type": "code",
   "execution_count": 19,
   "id": "49307b29",
   "metadata": {},
   "outputs": [
    {
     "data": {
      "text/plain": [
       "Immobilized bus                           46\n",
       "Broken Truck                             118\n",
       "Vehicle excess                             4\n",
       "Accident victim                           57\n",
       "Running over                              16\n",
       "Fire vehicles                              1\n",
       "Occurrence involving freight               1\n",
       "Incident involving dangerous freight       1\n",
       "Lack of electricity                       16\n",
       "Fire                                       1\n",
       "Point of flooding                         16\n",
       "Manifestations                             7\n",
       "Defect in the network of trolleybuses     31\n",
       "Tree on the road                           6\n",
       "Semaphore off                             17\n",
       "Intermittent Semaphore                     2\n",
       "dtype: int64"
      ]
     },
     "execution_count": 19,
     "metadata": {},
     "output_type": "execute_result"
    }
   ],
   "source": [
    "incidents = traffic.drop(['Hour (Coded)', 'Slowness in traffic (%)'],\n",
    "                        axis=1)\n",
    "incidents.sum()"
   ]
  },
  {
   "cell_type": "markdown",
   "id": "69ca6606",
   "metadata": {},
   "source": [
    "<div>\n",
    "<p>It's not easy to compare all these numbers just by eyeballing the table that <code>incidents.sum()</code> returned. It's better if we use a bar plot to visualize the values.</p>\n",
    "<p>Before we generate the bar plot, let's make the observation that <code>incidents.sum()</code> returns a Pandas <code>Series</code>:</p>\n",
    "</div>"
   ]
  },
  {
   "cell_type": "code",
   "execution_count": 20,
   "id": "ffec9c82",
   "metadata": {},
   "outputs": [
    {
     "data": {
      "text/plain": [
       "pandas.core.series.Series"
      ]
     },
     "execution_count": 20,
     "metadata": {},
     "output_type": "execute_result"
    }
   ],
   "source": [
    "type(incidents.sum())"
   ]
  },
  {
   "cell_type": "markdown",
   "id": "df1fcb91",
   "metadata": {},
   "source": [
    "<div>\n",
    "<p>This means that we can use the <code>Series.plot.bar()</code> method we mentioned on the previous screen:</p>\n",
    "</div>"
   ]
  },
  {
   "cell_type": "code",
   "execution_count": 21,
   "id": "c5d31279",
   "metadata": {},
   "outputs": [
    {
     "data": {
      "image/png": "[encoded data removed]",
      "text/plain": [
       "<Figure size 432x288 with 1 Axes>"
      ]
     },
     "metadata": {
      "needs_background": "light"
     },
     "output_type": "display_data"
    }
   ],
   "source": [
    "incidents.sum().plot.bar()\n",
    "plt.show()"
   ]
  },
  {
   "cell_type": "markdown",
   "id": "33252277",
   "metadata": {},
   "source": [
    "<p>One of the first things we notice is that the x-tick labels are very hard to read — we need to tilt our head to the left to be able to read anything.</p>"
   ]
  },
  {
   "cell_type": "markdown",
   "id": "0502482d",
   "metadata": {},
   "source": [
    "<h3>Exercise</h3>\n",
    "<br>\n",
    "<ol>\n",
    "<li>Generate a horizontal bar plot for the <code>incidents.sum()</code> table.</li>\n",
    "</ol>"
   ]
  },
  {
   "cell_type": "code",
   "execution_count": 33,
   "id": "4c585df8",
   "metadata": {},
   "outputs": [
    {
     "data": {
      "text/plain": [
       "Broken Truck                             118\n",
       "Accident victim                           57\n",
       "Immobilized bus                           46\n",
       "Defect in the network of trolleybuses     31\n",
       "Semaphore off                             17\n",
       "Running over                              16\n",
       "Lack of electricity                       16\n",
       "Point of flooding                         16\n",
       "Manifestations                             7\n",
       "Tree on the road                           6\n",
       "Vehicle excess                             4\n",
       "Intermittent Semaphore                     2\n",
       "Fire vehicles                              1\n",
       "Occurrence involving freight               1\n",
       "Incident involving dangerous freight       1\n",
       "Fire                                       1\n",
       "dtype: int64"
      ]
     },
     "execution_count": 33,
     "metadata": {},
     "output_type": "execute_result"
    }
   ],
   "source": [
    "incidents.sum().sort_values(ascending=False)"
   ]
  },
  {
   "cell_type": "code",
   "execution_count": 31,
   "id": "a48e7cb4",
   "metadata": {},
   "outputs": [
    {
     "data": {
      "image/png": "[encoded data removed]",
      "text/plain": [
       "<Figure size 432x288 with 1 Axes>"
      ]
     },
     "metadata": {
      "needs_background": "light"
     },
     "output_type": "display_data"
    }
   ],
   "source": [
    "incidents.sum().sort_values().plot.barh()\n",
    "plt.show()"
   ]
  },
  {
   "cell_type": "markdown",
   "id": "081d429a",
   "metadata": {},
   "source": [
    "<ol start=\"2\">\n",
    "<li>Based on the resulting bar plot, evaluate the truth value of the following sentences:<ul>\n",
    "<li>Broken trucks are the most frequent cause of slow traffic. Assign the Boolean <code>True</code> or <code>False</code> to <code>sentence_1</code>.\n",
    "<div>\n",
    "    <input type=\"radio\" id=\"true1\" value=\"true\" name=\"ans1\">\n",
    "    <label for=\"true\">True</label>\n",
    "    <input type=\"radio\" id=\"false1\" value=\"false\" name=\"ans1\">\n",
    "    <label for=\"false\">False</label>\n",
    "</div>\n",
    "    </li>\n",
    "<li>Lack of electricity and flooding are less frequent than broken trucks. Assign <code>True</code> or <code>False</code> to <code>sentence_2</code>.\n",
    "<div>\n",
    "    <input type=\"radio\" id=\"true1\" value=\"true\" name=\"ans2\">\n",
    "    <label for=\"true\">True</label>\n",
    "    <input type=\"radio\" id=\"false1\" value=\"false\" name=\"ans2\">\n",
    "    <label for=\"false\">False</label>\n",
    "</div>\n",
    "</li>\n",
    "<li>The most frequent incident type is broken trucks. Assign <code>True</code> or <code>False</code> to <code>sentence_3</code>.\n",
    "<div>\n",
    "    <input type=\"radio\" id=\"true1\" value=\"true\" name=\"ans3\">\n",
    "    <label for=\"true\">True</label>\n",
    "    <input type=\"radio\" id=\"false1\" value=\"false\" name=\"ans3\">\n",
    "    <label for=\"false\">False</label>\n",
    "</div>\n",
    "</li>\n",
    "</ul>\n",
    "</li>\n",
    "</ol>\n",
    "    \n",
    "    "
   ]
  },
  {
   "cell_type": "code",
   "execution_count": null,
   "id": "5cbf4fd2",
   "metadata": {},
   "outputs": [],
   "source": [
    "sentence_1 = False\n",
    "sentence_2 = True\n",
    "sentence_3 = True"
   ]
  },
  {
   "cell_type": "markdown",
   "id": "a2e53e55",
   "metadata": {},
   "source": [
    "<h2>6. Correlations with Traffic Slowness</h2>\n",
    "<br>"
   ]
  },
  {
   "cell_type": "markdown",
   "id": "4f4cfff4",
   "metadata": {},
   "source": [
    "<h3>Exercise</h3>\n",
    "<br>\n",
    "<div><p>Using the <code>DataFrame.plot.scatter()</code> method:</p>\n",
    "<ol>\n",
    "<li>Generate a scatter plot with <code>Slowness in traffic (%)</code> on the x-axis and <code>Point of flooding</code> on the y-axis. Close and display the plot using <code>plt.show()</code>.</li>\n",
    "<li>Generate a scatter plot with <code>Slowness in traffic (%)</code> on the x-axis and <code>Semaphore off</code> on the y-axis.</li>\n",
    "</ol></div>"
   ]
  },
  {
   "cell_type": "code",
   "execution_count": 34,
   "id": "f2e6dc39",
   "metadata": {},
   "outputs": [
    {
     "data": {
      "image/png": "[encoded data removed]",
      "text/plain": [
       "<Figure size 432x288 with 1 Axes>"
      ]
     },
     "metadata": {
      "needs_background": "light"
     },
     "output_type": "display_data"
    }
   ],
   "source": [
    "traffic.plot.scatter(x='Slowness in traffic (%)',\n",
    "                     y='Point of flooding',\n",
    "                    )\n",
    "plt.show()"
   ]
  },
  {
   "cell_type": "code",
   "execution_count": 35,
   "id": "ff5e1c27",
   "metadata": {},
   "outputs": [
    {
     "data": {
      "image/png": "[encoded data removed]",
      "text/plain": [
       "<Figure size 432x288 with 1 Axes>"
      ]
     },
     "metadata": {
      "needs_background": "light"
     },
     "output_type": "display_data"
    }
   ],
   "source": [
    "traffic.plot(x='Slowness in traffic (%)',\n",
    "             y='Semaphore off',\n",
    "             kind='scatter'\n",
    "            )\n",
    "plt.show()"
   ]
  },
  {
   "cell_type": "markdown",
   "id": "afe52589",
   "metadata": {},
   "source": [
    "<h2>7. Traffic Slowness Over 20%</h2>\n",
    "<br>\n",
    "<div><p>On the previous cells, we looked up a few correlation values and generated three scatter plots. We identified lack of electricity, flooding, and nonfunctional semaphores as potential factors worsening the traffic.</p>\n",
    "<p>To look for more evidence, we're going to isolate all the rows where traffic slowness is 20% or more. Then, we're going to calculate and visualize the incident frequency.</p>\n",
    "</div>"
   ]
  },
  {
   "cell_type": "markdown",
   "id": "d113c31d",
   "metadata": {},
   "source": [
    "<h3>Exercise</h3>\n",
    "<br>\n",
    "<ol>\n",
    "<li>Isolate all the rows where traffic slowness is 20% or more. Assign the new <code>DataFrame</code> to a variable named <code>slowness_20_or_more</code>.</li>\n",
    "<li>Drop the <code>Slowness in traffic (%)</code> and <code>Hour (Coded)</code> columns from <code>slowness_20_or_more</code>.</li>\n",
    "<li>Calculate the event frequencies using the <code>DataFrame.sum()</code> method on <code>slowness_20_or_more</code>. Assign the resulting <code>Series</code> to <code>incident_frequencies</code>.</li>\n",
    "<li>Use <code>incident_frequencies</code> to plot a horizontal bar plot — use a Pandas method.</li>\n",
    "<li>Examine the plot — what are some high-frequency incidents when traffic slowness is 20% or more?</li>\n",
    "</ol>"
   ]
  },
  {
   "cell_type": "code",
   "execution_count": 39,
   "id": "6d916288",
   "metadata": {},
   "outputs": [],
   "source": [
    "slowness_20_or_more = traffic[traffic['Slowness in traffic (%)'] >= 20]"
   ]
  },
  {
   "cell_type": "code",
   "execution_count": 40,
   "id": "23b63bd9",
   "metadata": {},
   "outputs": [
    {
     "data": {
      "text/plain": [
       "Index(['Hour (Coded)', 'Immobilized bus', 'Broken Truck', 'Vehicle excess',\n",
       "       'Accident victim', 'Running over', 'Fire vehicles',\n",
       "       'Occurrence involving freight', 'Incident involving dangerous freight',\n",
       "       'Lack of electricity', 'Fire', 'Point of flooding', 'Manifestations',\n",
       "       'Defect in the network of trolleybuses', 'Tree on the road',\n",
       "       'Semaphore off', 'Intermittent Semaphore', 'Slowness in traffic (%)'],\n",
       "      dtype='object')"
      ]
     },
     "execution_count": 40,
     "metadata": {},
     "output_type": "execute_result"
    }
   ],
   "source": [
    "slowness_20_or_more.columns"
   ]
  },
  {
   "cell_type": "code",
   "execution_count": null,
   "id": "09d086fa",
   "metadata": {},
   "outputs": [],
   "source": [
    "slowness_20_or_more.drop(labels=['Hour (Coded)', 'Slowness in traffic (%)'],\n",
    "                         axis=1,\n",
    "                         inplace=True,\n",
    "                        )"
   ]
  },
  {
   "cell_type": "code",
   "execution_count": 43,
   "id": "5436a78d",
   "metadata": {},
   "outputs": [
    {
     "data": {
      "text/plain": [
       "Index(['Immobilized bus', 'Broken Truck', 'Vehicle excess', 'Accident victim',\n",
       "       'Running over', 'Fire vehicles', 'Occurrence involving freight',\n",
       "       'Incident involving dangerous freight', 'Lack of electricity', 'Fire',\n",
       "       'Point of flooding', 'Manifestations',\n",
       "       'Defect in the network of trolleybuses', 'Tree on the road',\n",
       "       'Semaphore off', 'Intermittent Semaphore'],\n",
       "      dtype='object')"
      ]
     },
     "execution_count": 43,
     "metadata": {},
     "output_type": "execute_result"
    }
   ],
   "source": [
    "slowness_20_or_more.columns"
   ]
  },
  {
   "cell_type": "code",
   "execution_count": 45,
   "id": "c2068132",
   "metadata": {},
   "outputs": [
    {
     "data": {
      "image/png": "[encoded data removed]",
      "text/plain": [
       "<Figure size 432x288 with 1 Axes>"
      ]
     },
     "metadata": {
      "needs_background": "light"
     },
     "output_type": "display_data"
    }
   ],
   "source": [
    "incident_frequencies = slowness_20_or_more.sum()\n",
    "incident_frequencies.sort_values().plot.barh()\n",
    "plt.show()"
   ]
  },
  {
   "cell_type": "markdown",
   "id": "cc079dc7",
   "metadata": {},
   "source": [
    "<h2>8. How Traffic Slowness Change</h2>\n",
    "<br>\n",
    "<h3>Exercise</h3>\n",
    "<br>"
   ]
  },
  {
   "cell_type": "markdown",
   "id": "c49f5a17",
   "metadata": {},
   "source": [
    "<h2>9. Comparing Graphs</h2>\n",
    "<br>\n",
    "<h3>Exercise</h3>\n",
    "<br>"
   ]
  },
  {
   "cell_type": "markdown",
   "id": "ff76bc7c",
   "metadata": {},
   "source": [
    "<h2>10. Grid Charts</h2>\n",
    "<br>\n",
    "<h3>Exercise</h3>\n",
    "<br>"
   ]
  },
  {
   "cell_type": "markdown",
   "id": "830dac38",
   "metadata": {},
   "source": [
    "<h2>11. Grid Charts (II)</h2>\n",
    "<br>\n",
    "<h3>Exercise</h3>\n",
    "<br>"
   ]
  },
  {
   "cell_type": "markdown",
   "id": "093fa002",
   "metadata": {},
   "source": [
    "<h2>12. Grid Charts (III)</h2>\n",
    "<br>\n",
    "<h3>Exercise</h3>\n",
    "<br>"
   ]
  }
 ],
 "metadata": {
  "kernelspec": {
   "display_name": "Python 3",
   "language": "python",
   "name": "python3"
  },
  "language_info": {
   "codemirror_mode": {
    "name": "ipython",
    "version": 3
   },
   "file_extension": ".py",
   "mimetype": "text/x-python",
   "name": "python",
   "nbconvert_exporter": "python",
   "pygments_lexer": "ipython3",
   "version": "3.8.8"
  }
 },
 "nbformat": 4,
 "nbformat_minor": 5
}
