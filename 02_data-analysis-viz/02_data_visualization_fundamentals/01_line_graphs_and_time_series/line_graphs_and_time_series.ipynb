{
 "cells": [
  {
   "cell_type": "markdown",
   "id": "10ec6ed6",
   "metadata": {},
   "source": [
    "<p>At the heart of any data science workflow is data exploration. Most commonly, we explore data by using the following:</p>\n",
    "<ul>\n",
    "<li>Statistical methods (measuring averages, measuring variability, etc.)</li>\n",
    "<li><strong>Data visualization</strong> (transforming data into a visual form)</li>\n",
    "</ul>\n",
    "<p>This indicates that one of the central tasks of data visualization is to help us explore data.</p>\n",
    "<p>The other central task is to help us communicate and explain the results we've found through exploring data. That being said, we have two kinds of data visualization:</p>\n",
    "<ul>\n",
    "<li>Exploratory data visualization: we build graphs for <em>ourselves</em> to explore data and find patterns.</li>\n",
    "<li>Explanatory data visualization: we build graphs for <em>others</em> to communicate and explain the patterns we've found through exploring data.</li>\n",
    "</ul>\n",
    "<center><img src=\"figs/exploratory_explanatory.svg\" alt=\"img\"></center>\n",
    "<p>The main visualization library we're going to use is Matplotlib. We're going to learn the following:</p>\n",
    "<ul>\n",
    "<li>How to visualize time series data with line plots.</li>\n",
    "<li>What are correlations and how to visualize them with scatter plots.</li>\n",
    "<li>How to visualize frequency distributions with bar plots and histograms.</li>\n",
    "<li>How to speed up our exploratory data visualization workflow with the pandas library.</li>\n",
    "<li>How to visualize multiple variables using Seaborn's relational plots.</li>\n",
    "</ul>"
   ]
  },
  {
   "cell_type": "markdown",
   "id": "0bb8a5f0",
   "metadata": {},
   "source": [
    "# Part02\n",
    "\n",
    "<div><p>Before we get into Matplotlib and start exploring a dataset, we'll go through a brief introduction to graphs — what they are and how to build them mathematically.</p>\n",
    "<p>We can create a graph by drawing two lines at right angles to each other. Each line is called an <strong>axis</strong> — the horizontal line at the bottom is the <strong>x-axis</strong>, and the vertical line on the left is the <strong>y-axis</strong>. The point where the two lines intersect is called the <strong>origin</strong>.</p>\n",
    "<p></p><center><img src=\"figs/m1_2.png\" alt=\"img\"></center><p></p>\n",
    "<p>Each axis has length — below, we see both axes marked with numbers, which represent unit lengths.</p>\n",
    "<p></p><center><img src=\"figs/m1_3.png\" alt=\"img\"></center><p></p>\n",
    "<p>The length of the axes helps us precisely locate any point drawn on the graph. Point <em>A</em> on the graph below, for instance, is seven length units away from the y-axis and two units away from the x-axis.</p>\n",
    "<p></p><center><img src=\"figs/m1_4.png\" alt=\"img\"></center><p></p>\n",
    "<p>The two numbers that represent the distances of a point from the x- and y-axis are called <strong>coordinates</strong>. Point <em>A</em> above has two coordinates: seven and two. Seven is the x-coordinate, and two is the y-coordinate.</p>\n",
    "<p>The coordinates often appear in the form (x, y), with the x-coordinate first. So the coordinates of <em>A</em> are (7, 2). So, here's what we need to know about coordinates:</p>\n",
    "<ul>\n",
    "<li>The x-coordinate shows the distance in unit lengths relative to the y-axis.</li>\n",
    "<li>The y-coordinate shows the distance in unit lengths relative to the x-axis.</li>\n",
    "</ul>\n",
    "<p>The unit lengths of the x- and y-axes doesn't have to be the same. Below, we see the unit of length on the x-axis is 10, while on the y-axis it is 1,000 (note that we can also hide some of the numbers to make the graph look better).</p>\n",
    "<p></p><center><img src=\"figs/m1_5.png\" alt=\"img\"></center><p></p>\n",
    "</div>"
   ]
  },
  {
   "cell_type": "markdown",
   "id": "803c9aa7",
   "metadata": {},
   "source": [
    "<h2>Exercise</h2>\n",
    "<p>Examine the graph below, and answer the following questions:</p>\n",
    "<p></p><center><img src=\"figs/m1_6.png\" alt=\"img\"></center><p></p>\n",
    "<ol>\n",
    "<li>What is the unit length of the x-axis? Assign your answer to <code>x_unit_length</code>.</li>\n",
    "<li>What is the unit length of the y-axis? Assign your answer to <code>y_unit_length</code>.</li>\n",
    "<li>What is x-coordinate of point A? Assign your answer to <code>x_coordinate_A</code>.</li>\n",
    "<li>What is the y-coordinate of point B? Assign your answer to <code>y_coordinate_B</code>.</li>\n",
    "<li>What are the x- and y-coordinates of point C? Assign your answer as a Python <code>list</code> to <code>C_coordinates</code> — the x-coordinate must come first in your list.</li>\n",
    "</ol></div>"
   ]
  },
  {
   "cell_type": "code",
   "execution_count": 1,
   "id": "dd936390",
   "metadata": {},
   "outputs": [],
   "source": [
    "x_unit_length = 10\n",
    "y_unit_length = 1000"
   ]
  },
  {
   "cell_type": "code",
   "execution_count": 2,
   "id": "cb8aaf89",
   "metadata": {},
   "outputs": [],
   "source": [
    "x_coordinate_A = 70\n",
    "y_coordinate_B = 5000"
   ]
  },
  {
   "cell_type": "code",
   "execution_count": 3,
   "id": "7fa2628c",
   "metadata": {},
   "outputs": [],
   "source": [
    "C_coordinates = [50, 9000]"
   ]
  },
  {
   "cell_type": "markdown",
   "id": "f3e5ca48",
   "metadata": {},
   "source": [
    "<h1>Part03</h1>"
   ]
  }
 ],
 "metadata": {
  "kernelspec": {
   "display_name": "Python 3",
   "language": "python",
   "name": "python3"
  },
  "language_info": {
   "codemirror_mode": {
    "name": "ipython",
    "version": 3
   },
   "file_extension": ".py",
   "mimetype": "text/x-python",
   "name": "python",
   "nbconvert_exporter": "python",
   "pygments_lexer": "ipython3",
   "version": "3.8.8"
  }
 },
 "nbformat": 4,
 "nbformat_minor": 5
}
