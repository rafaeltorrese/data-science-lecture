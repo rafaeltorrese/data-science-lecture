{
 "cells": [
  {
   "cell_type": "markdown",
   "id": "f38ac170",
   "metadata": {},
   "source": [
    "<center>\n",
    "    <h1>Bar Plots, Histograms, and Distributions</h1>\n",
    "</center>"
   ]
  },
  {
   "cell_type": "markdown",
   "id": "01772193",
   "metadata": {},
   "source": [
    "<h2>1. Introduction</h2>\n",
    "<br>\n",
    "<div><p>In the \"Scatter Plots and Correlation\" lesson, we learned more about exploratory data visualization. We worked with time series data on bike sharing and learned about seasonality, scatter plots, and correlation.</p>\n",
    "<p>In this lesson, we'll learn new things about exploratory data visualization. We'll continue using the bike sharing dataset:</p>\n",
    "<table class=\"dataframe\">\n",
    "<thead>\n",
    "<tr>\n",
    "<th></th>\n",
    "<th>instant</th>\n",
    "<th>dteday</th>\n",
    "<th>season</th>\n",
    "<th>yr</th>\n",
    "<th>mnth</th>\n",
    "<th>holiday</th>\n",
    "<th>weekday</th>\n",
    "<th>workingday</th>\n",
    "<th>weathersit</th>\n",
    "<th>temp</th>\n",
    "<th>atemp</th>\n",
    "<th>hum</th>\n",
    "<th>windspeed</th>\n",
    "<th>casual</th>\n",
    "<th>registered</th>\n",
    "<th>cnt</th>\n",
    "</tr>\n",
    "</thead>\n",
    "<tbody>\n",
    "<tr>\n",
    "<th>0</th>\n",
    "<td>1</td>\n",
    "<td>2011-01-01</td>\n",
    "<td>1</td>\n",
    "<td>0</td>\n",
    "<td>1</td>\n",
    "<td>0</td>\n",
    "<td>6</td>\n",
    "<td>0</td>\n",
    "<td>2</td>\n",
    "<td>0.344167</td>\n",
    "<td>0.363625</td>\n",
    "<td>0.805833</td>\n",
    "<td>0.160446</td>\n",
    "<td>331</td>\n",
    "<td>654</td>\n",
    "<td>985</td>\n",
    "</tr>\n",
    "<tr>\n",
    "<th>1</th>\n",
    "<td>2</td>\n",
    "<td>2011-01-02</td>\n",
    "<td>1</td>\n",
    "<td>0</td>\n",
    "<td>1</td>\n",
    "<td>0</td>\n",
    "<td>0</td>\n",
    "<td>0</td>\n",
    "<td>2</td>\n",
    "<td>0.363478</td>\n",
    "<td>0.353739</td>\n",
    "<td>0.696087</td>\n",
    "<td>0.248539</td>\n",
    "<td>131</td>\n",
    "<td>670</td>\n",
    "<td>801</td>\n",
    "</tr>\n",
    "<tr>\n",
    "<th>2</th>\n",
    "<td>3</td>\n",
    "<td>2011-01-03</td>\n",
    "<td>1</td>\n",
    "<td>0</td>\n",
    "<td>1</td>\n",
    "<td>0</td>\n",
    "<td>1</td>\n",
    "<td>1</td>\n",
    "<td>1</td>\n",
    "<td>0.196364</td>\n",
    "<td>0.189405</td>\n",
    "<td>0.437273</td>\n",
    "<td>0.248309</td>\n",
    "<td>120</td>\n",
    "<td>1229</td>\n",
    "<td>1349</td>\n",
    "</tr>\n",
    "<tr>\n",
    "<th>3</th>\n",
    "<td>4</td>\n",
    "<td>2011-01-04</td>\n",
    "<td>1</td>\n",
    "<td>0</td>\n",
    "<td>1</td>\n",
    "<td>0</td>\n",
    "<td>2</td>\n",
    "<td>1</td>\n",
    "<td>1</td>\n",
    "<td>0.200000</td>\n",
    "<td>0.212122</td>\n",
    "<td>0.590435</td>\n",
    "<td>0.160296</td>\n",
    "<td>108</td>\n",
    "<td>1454</td>\n",
    "<td>1562</td>\n",
    "</tr>\n",
    "<tr>\n",
    "<th>4</th>\n",
    "<td>5</td>\n",
    "<td>2011-01-05</td>\n",
    "<td>1</td>\n",
    "<td>0</td>\n",
    "<td>1</td>\n",
    "<td>0</td>\n",
    "<td>3</td>\n",
    "<td>1</td>\n",
    "<td>1</td>\n",
    "<td>0.226957</td>\n",
    "<td>0.229270</td>\n",
    "<td>0.436957</td>\n",
    "<td>0.186900</td>\n",
    "<td>82</td>\n",
    "<td>1518</td>\n",
    "<td>1600</td>\n",
    "</tr>\n",
    "</tbody>\n",
    "</table>\n",
    "<p>Recall that the <code>workingday</code> column describes the type of day: a working day or a non-working day (weekend or holiday). A value of <code>1</code> represents a working day, and a value of <code>0</code> represents a non-working day.</p>\n",
    "</div>"
   ]
  },
  {
   "cell_type": "code",
   "execution_count": null,
   "id": "9dda45e7",
   "metadata": {},
   "outputs": [],
   "source": []
  },
  {
   "cell_type": "code",
   "execution_count": null,
   "id": "d44bd1a4",
   "metadata": {},
   "outputs": [],
   "source": []
  },
  {
   "cell_type": "code",
   "execution_count": null,
   "id": "955776fd",
   "metadata": {},
   "outputs": [],
   "source": []
  },
  {
   "cell_type": "code",
   "execution_count": null,
   "id": "7b7473e4",
   "metadata": {},
   "outputs": [],
   "source": [
    "# bike_sharing['workingday'].value_counts()"
   ]
  },
  {
   "cell_type": "markdown",
   "id": "1f0579ce",
   "metadata": {},
   "source": [
    "<div>\n",
    "<p>The <code>workingday</code> column correlates negatively with the <code>casual</code> column and positively correlates with the <code>registered</code> column (recall that the <code>casual</code> and <code>registered</code> columns show us the number of bikes rented by casual and registered users each day).</p>\n",
    "</div>"
   ]
  },
  {
   "cell_type": "code",
   "execution_count": null,
   "id": "17eaf346",
   "metadata": {},
   "outputs": [],
   "source": [
    "# bike_sharing.corr().loc['workingday', ['casual', 'registered']]"
   ]
  },
  {
   "cell_type": "markdown",
   "id": "81cf5be1",
   "metadata": {},
   "source": [
    "<div>\n",
    "<p>These values suggest that registered users tend to use the bikes more on working days — to commute to work probably. On the other side, casual users tend to rent the bikes more on the weekends and holidays — probably for some leisure time.</p>\n",
    "<p>To corroborate or disprove these observations, we'll calculate the average number of rentals for casual and registered users on working and non-working days.</p>\n",
    "<p>We'll calculate the averages on the next screen, but first, let's visualize the correlations.</p></div>"
   ]
  },
  {
   "cell_type": "markdown",
   "id": "9362e908",
   "metadata": {},
   "source": [
    "<h3>Exercise</h3>\n",
    "<br>\n",
    "<ol>\n",
    "<li>Generate a scatter plot with the <code>workingday</code> column on the x-axis and the <code>casual</code> column on the y-axis. Add <code>'Working Day Vs. Casual'</code> as a title.</li>\n",
    "<li>Generate a scatter plot with the <code>workingday</code> column on the x-axis and the <code>registered</code> column on the y-axis. Add <code>'Working Day Vs. Registered'</code> as a title. You'll first need to close the previous scatter plot using <code>plt.show()</code></li>\n",
    "<li>Do you notice an opposing pattern between the two scatter plots? The scatter plots might look a bit odd at first, but recall <code>workingday</code> only has two unique values, so you'll see two narrow vertical strips on the plots.</li>\n",
    "</ol>"
   ]
  },
  {
   "cell_type": "markdown",
   "id": "32d78cbb",
   "metadata": {},
   "source": [
    "<h4>Dataframe Plot</h4>\n",
    "\n",
    "[pandas.DataFrame.plot](https://pandas.pydata.org/docs/reference/api/pandas.DataFrame.plot.html)"
   ]
  },
  {
   "cell_type": "code",
   "execution_count": null,
   "id": "ec814965",
   "metadata": {},
   "outputs": [],
   "source": []
  },
  {
   "cell_type": "code",
   "execution_count": null,
   "id": "9a81bb41",
   "metadata": {},
   "outputs": [],
   "source": []
  },
  {
   "cell_type": "code",
   "execution_count": null,
   "id": "ff620295",
   "metadata": {},
   "outputs": [],
   "source": []
  },
  {
   "cell_type": "markdown",
   "id": "cbd6dc73",
   "metadata": {},
   "source": [
    "<h2>2. Bar Plots</h2>\n",
    "<br>\n",
    "<div><p>We found a pattern that is potentially true: registered users tend to use the bikes more on the working days, while casual users tend to rent the bikes more on the weekends and holidays.</p>\n",
    "<p>We corroborated this hypothesis with the average number of rentals we see for casual and registered users on working and non-working days:</p>\n",
    "<table class=\"dataframe\">\n",
    "<thead>\n",
    "<tr>\n",
    "<th>workingday</th>\n",
    "<th>casual</th>\n",
    "<th>registered</th>\n",
    "</tr>\n",
    "</thead>\n",
    "<tbody>\n",
    "<tr>\n",
    "<td>0</td>\n",
    "<td>1371.134199</td>\n",
    "<td>2959.034632</td>\n",
    "</tr>\n",
    "<tr>\n",
    "<td>1</td>\n",
    "<td>606.570000</td>\n",
    "<td>3978.250000</td>\n",
    "</tr>\n",
    "</tbody>\n",
    "</table>\n",
    "<p>On non-working days, casual users rent on average more than double the number of bikes they rent on working days: 1,371 bikes compared to 607 bikes.</p>\n",
    "<p>Conversely, registered users rent significantly less during non-working days: 2,959 compared to 3,978 bikes.</p>\n",
    "<p>This can be useful business information. For instance, the marketing team can come up with more targeted membership offers. They can experiment with an annual holiday-and-weekend subscription to see if this increases conversion rates among casual users.</p>\n",
    "<p>To get a visual estimate of the data in our table above, we can use a <strong>bar plot</strong> (also called a bar chart).</p>\n",
    "<p>For instance, this is how the bar plot for the casual users averages looks — we can generate a bar plot using the <a href=\"https://matplotlib.org/stable/api/_as_gen/matplotlib.pyplot.bar.html\" target=\"_blank\"><code>plt.bar()</code> function</a>:</p>\n",
    "</div>"
   ]
  },
  {
   "cell_type": "code",
   "execution_count": null,
   "id": "5a2c3ea3",
   "metadata": {},
   "outputs": [],
   "source": [
    "working_days = ['Non-Working Day', 'Working Day']\n",
    "casual_avg = [1371, 607]"
   ]
  },
  {
   "cell_type": "code",
   "execution_count": null,
   "id": "a8e713a3",
   "metadata": {},
   "outputs": [],
   "source": []
  },
  {
   "cell_type": "markdown",
   "id": "35d5377e",
   "metadata": {},
   "source": [
    "<div>\n",
    "<p>In our bar plot above, we see two vertical blue bars. The bar on the left corresponds to the non-working day category, and the one on the right to the working day category.</p>\n",
    "<p>The bar on the left is higher — it's more than twice as tall as the one on the right. That's because on non-working days casual users rent on average more than double the number of bikes they rent on working days.</p>\n",
    "<p>The height of each bar corresponds to the values in the <code>casual_avg</code> list — the left bar corresponds to the value 1,371, and the right one corresponds to 607. Essentially, the height is a y-coordinate.</p>\n",
    "<p>We pass the heights of the bars as the second argument in <code>plt.bar(x, height)</code>. The first parameter, <code>x</code>, specifies the x-coordinates, and it works equally well with both numbers and strings (Matplotlib handles the strings behind the curtains). Below, we see an example with numbers:</p>\n",
    "</div>"
   ]
  },
  {
   "cell_type": "code",
   "execution_count": null,
   "id": "58ddf4cd",
   "metadata": {},
   "outputs": [],
   "source": [
    "plt.bar(x=[1,2,3,4], height=[10,20,40,80])\n",
    "plt.show()"
   ]
  },
  {
   "cell_type": "markdown",
   "id": "f7bb1569",
   "metadata": {},
   "source": [
    "<h3>Exercise</h3>\n",
    "<br>\n",
    "\n",
    "```python\n",
    "working_days = ['Non-Working Day', 'Working Day']\n",
    "registered_avg = [2959, 3978]\n",
    "```\n",
    "<div>\n",
    "<ol>\n",
    "<li>Generate a bar plot using the <code>plt.bar()</code> function:<ul>\n",
    "<li>The <code>working_days</code> list provides the x-coordinates.</li>\n",
    "<li>The <code>registered_avg</code> list provides the heights.</li>\n",
    "</ul>\n",
    "</li>\n",
    "<li>Display the plot using <code>plt.show()</code>.</li>\n",
    "</ol></div>"
   ]
  },
  {
   "cell_type": "code",
   "execution_count": null,
   "id": "cf62418d",
   "metadata": {},
   "outputs": [],
   "source": []
  },
  {
   "cell_type": "markdown",
   "id": "ac93a297",
   "metadata": {},
   "source": [
    "<h2>3. Customizing Bar Plots</h2>\n",
    "<br>\n",
    "We saw that the data indicates that registered users tend to use the bikes more on working days, while casual users tend to rent the bikes more on weekends and holidays.</p>\n",
    "<p>We can also take a more granular approach to analyzing the data and examine the average number of rentals for casual and registered users based on the day of the week (Monday, Tuesday, Wednesday, etc.).</p>\n",
    "<p>The <code>weekday</code> column in our dataset describes the day of the week (<code>0</code> is Sunday, and <code>6</code> is Saturday):</p>\n",
    "</div>"
   ]
  },
  {
   "cell_type": "code",
   "execution_count": null,
   "id": "99873803",
   "metadata": {},
   "outputs": [],
   "source": [
    "\n",
    "# We use Series.sort_index() to sort the index in an ascending order"
   ]
  },
  {
   "cell_type": "code",
   "execution_count": null,
   "id": "6c464fd5",
   "metadata": {},
   "outputs": [],
   "source": [
    "# It's not essential to understand how this code works, we'll cover this in a later moment\n",
    "weekday_averages = bike_sharing.groupby('weekday').mean()[['casual', 'registered']].reset_index() "
   ]
  },
  {
   "cell_type": "code",
   "execution_count": null,
   "id": "d1e00015",
   "metadata": {},
   "outputs": [],
   "source": [
    "weekday_averages"
   ]
  },
  {
   "cell_type": "markdown",
   "id": "3c65f62d",
   "metadata": {},
   "source": [
    "<div>\n",
    "<p>Based on the <code>weekday</code> column, we already calculated the averages behind the curtains and added them to the table below:</p>\n",
    "<table class=\"dataframe\">\n",
    "<thead>\n",
    "<tr>\n",
    "<th>weekday</th>\n",
    "<th>casual</th>\n",
    "<th>registered</th>\n",
    "</tr>\n",
    "</thead>\n",
    "<tbody>\n",
    "<tr>\n",
    "<td>0</td>\n",
    "<td>1338.295238</td>\n",
    "<td>2890.533333</td>\n",
    "</tr>\n",
    "<tr>\n",
    "<td>1</td>\n",
    "<td>674.133333</td>\n",
    "<td>3663.990476</td>\n",
    "</tr>\n",
    "<tr>\n",
    "<td>2</td>\n",
    "<td>556.182692</td>\n",
    "<td>3954.480769</td>\n",
    "</tr>\n",
    "<tr>\n",
    "<td>3</td>\n",
    "<td>551.144231</td>\n",
    "<td>3997.394231</td>\n",
    "</tr>\n",
    "<tr>\n",
    "<td>4</td>\n",
    "<td>590.961538</td>\n",
    "<td>4076.298077</td>\n",
    "</tr>\n",
    "<tr>\n",
    "<td>5</td>\n",
    "<td>752.288462</td>\n",
    "<td>3938.000000</td>\n",
    "</tr>\n",
    "<tr>\n",
    "<td>6</td>\n",
    "<td>1465.257143</td>\n",
    "<td>3085.285714</td>\n",
    "</tr>\n",
    "</tbody>\n",
    "</table>\n",
    "<p>Notice that we now have seven rows in the table, and it's a bit harder to compare all the values. We can use a bar plot to help us get a visual estimate of the differences instead of going over values one-by-one and performing mental subtractions.</p>\n",
    "<p>Below, we generate a bar plot for the <code>casual</code> column in our table above. In the code below, assume the <code>weekday_averages</code> variable is a <code>DataFrame</code> storing the table above:</p>\n",
    "</div>"
   ]
  },
  {
   "cell_type": "code",
   "execution_count": null,
   "id": "21d76f8b",
   "metadata": {},
   "outputs": [],
   "source": []
  },
  {
   "cell_type": "markdown",
   "id": "ee4ce618",
   "metadata": {},
   "source": [
    "<div>\n",
    "<p>The first bar (Sunday) and the last one (Saturday) are more than twice as tall as all the other bars. This shows that casual users rent more bikes on the weekends, which corroborates our initial findings.</p>\n",
    "<p>If we look at the x-tick labels, we only see numbers (from 0 to 6). If we wanted to add day names instead, we can use the <a href=\"https://matplotlib.org/stable/api/_as_gen/matplotlib.pyplot.xticks.html\" target=\"_blank\"><code>plt.xticks()</code> function</a>. The <code>ticks</code> parameter takes in the x-coordinates, and the <code>labels</code> parameter takes in the corresponding new labels:</p>\n",
    "</div>"
   ]
  },
  {
   "cell_type": "code",
   "execution_count": null,
   "id": "41824602",
   "metadata": {},
   "outputs": [],
   "source": []
  },
  {
   "cell_type": "markdown",
   "id": "3a21d4e4",
   "metadata": {},
   "source": [
    "<div>\n",
    "<p>Some of the x-tick labels are now overlapping. One thing we can do is leverage the <code>rotation</code> parameter we learned about in the first lesson:</p>\n",
    "</div>"
   ]
  },
  {
   "cell_type": "code",
   "execution_count": null,
   "id": "3ed23d58",
   "metadata": {},
   "outputs": [],
   "source": []
  },
  {
   "cell_type": "markdown",
   "id": "d0368f0b",
   "metadata": {},
   "source": [
    "\n",
    "<p>Another solution is to flip all the bars horizontally.</p>\n",
    "    "
   ]
  },
  {
   "cell_type": "code",
   "execution_count": null,
   "id": "2be43081",
   "metadata": {},
   "outputs": [],
   "source": []
  },
  {
   "cell_type": "markdown",
   "id": "2491182a",
   "metadata": {},
   "source": [
    "<p>We call this a <strong>horizontal bar plot</strong>. The average numbers of bikes rented are now on the x-axis, and the day names are on the y-axis. And we're now talking about bar widths instead of bar heights. </p>\n",
    "<p>To generate the bar plot above, we can use the <a href=\"https://matplotlib.org/api/_as_gen/matplotlib.pyplot.barh.html\" target=\"_blank\"><code>plt.barh(y, width)</code> function</a> along with the <code>plt.yticks()</code> function to change the y-tick labels:</p>"
   ]
  },
  {
   "cell_type": "markdown",
   "id": "ed42e10b",
   "metadata": {},
   "source": [
    "<h3>Excercise</h3>\n",
    "<br>\n",
    "<div ><p>We've already saved the table above into the <code>weekday_averages</code> variable, which is a <code>DataFrame</code> (you can see the code we used in the code editor).</p>\n",
    "<ol>\n",
    "<li>\n",
    "<p>Generate a bar plot using the <code>weekday_averages</code> variable:</p>\n",
    "<ul>\n",
    "<li>The <code>weekday</code> column provides the x-coordinates.</li>\n",
    "<li>The <code>registered</code> column provides the heights.</li>\n",
    "</ul>\n",
    "</li>\n",
    "<li>\n",
    "<p>Change the x-tick labels using the <code>plt.xticks()</code> function.</p>\n",
    "<ul>\n",
    "<li>The new labels should be <code>['Sunday', 'Monday', 'Tuesday', 'Wednesday', 'Thursday', 'Friday', 'Saturday']</code>.</li>\n",
    "<li>The x-coordinates of the labels are <code>[0, 1, 2, 3, 4, 5, 6]</code>.</li>\n",
    "<li>All labels are rotated to an angle of <code>30</code> degrees.</li>\n",
    "</ul>\n",
    "</li>\n",
    "<li>\n",
    "<p>Analyze the bar plot in light of our initial observations — does the results support the idea that registered users rent more bikes on working days?</p>\n",
    "</li>\n",
    "</ol></div>"
   ]
  },
  {
   "cell_type": "code",
   "execution_count": null,
   "id": "25fe268a",
   "metadata": {},
   "outputs": [],
   "source": []
  },
  {
   "cell_type": "markdown",
   "id": "b4299513",
   "metadata": {},
   "source": [
    "<h2>4. Frequency Tables</h2>\n",
    "<br>\n",
    "<div><p>Our dataset describes bike sharing activity for the Capital Bikeshare company in Washington, D.C. Let's say the company has decided to open up a new bike sharing system in another American city.</p>\n",
    "<p>Weather patterns are going to play an important part in choosing the next location. We're asked to pull up some weather data about Washington, D.C. — the decision-making team wants to use that as a benchmark for evaluating other cities.</p>\n",
    "<p>One useful column is <code>weathersit</code>, which describes the daily weather type. Let's look at the unique values and the number of times each occurs:</p>\n",
    "</div>"
   ]
  },
  {
   "cell_type": "code",
   "execution_count": null,
   "id": "78892d19",
   "metadata": {},
   "outputs": [],
   "source": []
  },
  {
   "cell_type": "markdown",
   "id": "897c7d87",
   "metadata": {},
   "source": [
    "<div>\n",
    "<p>We only see three unique values above, but, according to the documentation, the <code>weathersit</code> column has four unique values (<code>4</code> has a frequency of zero as a consequence):</p>\n",
    "<ul>\n",
    "<li><code>1</code>: clear or few clouds</li>\n",
    "<li><code>2</code>: mist or cloudy</li>\n",
    "<li><code>3</code>: light rain, light snow, thunderstorm</li>\n",
    "<li><code>4</code>: heavy rain, snow, ice pellets, fog</li>\n",
    "</ul>\n",
    "<p>The output of <code>bike_sharing['weathersit'].value_counts()</code> lists all the unique values along with the number of times each unique value occurs.</p>\n",
    "<p>We call the number of times that a unique value occurs the <strong>frequency</strong>. And we call the output of <code>bike_sharing['weathersit'].value_counts()</code> a <strong>frequency table</strong>.</p>\n",
    "<p>More generally, the <code>Series.value_counts()</code> method returns a frequency table. The best way to visualize a frequency table is by using a bar plot.</p>\n",
    "</div>"
   ]
  },
  {
   "cell_type": "code",
   "execution_count": null,
   "id": "ff87e930",
   "metadata": {},
   "outputs": [],
   "source": []
  },
  {
   "cell_type": "markdown",
   "id": "4b9ee63f",
   "metadata": {},
   "source": [
    "<div>\n",
    "<p>Bar plots work especially well for visualizing frequency tables when the number of unique values is low.</p>\n",
    "<p>If there are many unique values, then the bar plot looks too crowded, and it becomes more difficult to see any pattern.</p>\n",
    "<p>Bar plots work well when generating the frequency tables for categorical columns. For numerical columns, we need to use a histogram — a graph type that we'll learn about later in this lesson.</p>\n",
    "<p>For our next exercise, we're going to visualize weather patterns in Washington, D.C. for 2011 and 2012 individually. This will help us see if the weather is consistent from year to year. In the code editor, you can already see the following defined:</p>\n",
    "<ul>\n",
    "<li>The list <code>unique_values</code>: all the unique values of the <code>weathersit</code> column.</li>\n",
    "<li>The list <code>weather_2011</code>: the frequency of each unique value for the year 2011 only — for instance, the unique value <code>1</code> occurred <code>226</code> times in 2011, <code>2</code> occurred <code>124</code> times, and so on.</li>\n",
    "<li>The list <code>weather_2012</code>: the frequency of each unique value for the year 2012 only.</li>\n",
    "</ul>\n",
    "<p>We've already generated the bar plot for 2011, and now we're going to build the other one.</p></div>"
   ]
  },
  {
   "cell_type": "markdown",
   "id": "0022d1cb",
   "metadata": {},
   "source": [
    "<h3>Exercise</h3>\n",
    "<br>\n",
    "<div><ol>\n",
    "<li>\n",
    "<p>Generate a bar plot to display the weather patterns in 2012.</p>\n",
    "<ul>\n",
    "<li>Use the <code>unique_values</code> list for x-coordinates, and the <code>weather_2012</code> list as bar heights.</li>\n",
    "<li>Use <code>plt.xticks()</code> to customize the x-ticks: the only tick labels displayed should be 1, 2, 3, and 4.</li>\n",
    "<li>Use <code>'Weather Patterns: 2012'</code> as a title.</li>\n",
    "<li>Use <code>'Frequency'</code> as an y-label.</li>\n",
    "<li>Use <code>'Unique Values'</code> as an x-label.</li>\n",
    "<li>Close the bar plot using <code>plt.show()</code>.</li>\n",
    "</ul>\n",
    "</li>\n",
    "<li>\n",
    "<p>Inspect both bar plots — does the weather in Washington D.C. show consistent patterns for 2011 and 2012?</p>\n",
    "</li>\n",
    "</ol></div>"
   ]
  },
  {
   "cell_type": "code",
   "execution_count": null,
   "id": "3a4e7a0a",
   "metadata": {},
   "outputs": [],
   "source": [
    "unique_values = [1, 2, 3, 4]\n",
    "weather_2011 = [226, 124, 15, 0]\n",
    "weather_2012 = [237, 123, 6, 0]"
   ]
  },
  {
   "cell_type": "code",
   "execution_count": null,
   "id": "27458b07",
   "metadata": {},
   "outputs": [],
   "source": [
    "plt.bar(unique_values, weather_2011)\n",
    "plt.xticks(ticks=[1,2,3,4])\n",
    "plt.title('Weather Patterns: 2011')\n",
    "plt.ylabel('Frequency')\n",
    "plt.xlabel('Unique Values')\n",
    "plt.show()"
   ]
  },
  {
   "cell_type": "code",
   "execution_count": null,
   "id": "1c32e092",
   "metadata": {},
   "outputs": [],
   "source": []
  },
  {
   "cell_type": "markdown",
   "id": "92476c07",
   "metadata": {},
   "source": [
    "<h2>5. Grouped Frequency Tables</h2>\n",
    "<br>\n",
    "<div><p>On the previous cell, we generated a frequency table for the <code>weathersit</code> column.</p>\n",
    "</div>\n",
    "    "
   ]
  },
  {
   "cell_type": "code",
   "execution_count": null,
   "id": "dda1b72e",
   "metadata": {},
   "outputs": [],
   "source": [
    "# value_counts()"
   ]
  },
  {
   "cell_type": "markdown",
   "id": "2aecd514",
   "metadata": {},
   "source": [
    "<div>\n",
    "<p>The table is fairly straightforward to read and interpret. For most days (463 days), the sky is clear or has a few clouds. However, there are also days (247 days) where we see mist or the sky is cloudy.</p>\n",
    "<p>Quite rarely (21 days in two years), we have light rains, light snows, or thunderstorms. Also, heavy rains or snows are extremely rare in Washington, D.C. (no occurrences in 2011 and 2012).</p>\n",
    "<p>However, if we generate a frequency table for the <code>cnt</code> column (which describes the total number of bike rentals), it's almost impossible to distinguish any pattern. And that's because <code>cnt</code> has 696 unique values (below, we see a truncated table).</p>\n",
    "</div>"
   ]
  },
  {
   "cell_type": "code",
   "execution_count": null,
   "id": "8fa5f418",
   "metadata": {},
   "outputs": [],
   "source": [
    "# value_counts()"
   ]
  },
  {
   "cell_type": "markdown",
   "id": "b1c94682",
   "metadata": {},
   "source": [
    "<div>\n",
    "<p>To solve this problem, we can group the unique values into equal intervals. Below, we group the table into ten equal intervals by using the <code>bins=10</code> argument inside the <code>Series.value_counts()</code> method:</p>\n",
    "</div>"
   ]
  },
  {
   "cell_type": "code",
   "execution_count": null,
   "id": "c51b1b1c",
   "metadata": {},
   "outputs": [],
   "source": []
  },
  {
   "cell_type": "markdown",
   "id": "dd1c50b7",
   "metadata": {},
   "source": [
    "<div>\n",
    "<p>The unique values are now number intervals. <code>(4368.0, 5237.2]</code> is a number interval. The <code>(</code> character indicates that the starting number is not included, while the <code>]</code> indicates that the ending number is included. The interval <code>(4368.0, 5237.2]</code> contains all numbers greater than 4368.0 and less than or equal to 5237.2.</p>\n",
    "<p>We can better understand the structure of the table above if we sort the intervals in ascending order. </p>\n",
    "</div>"
   ]
  },
  {
   "cell_type": "code",
   "execution_count": null,
   "id": "e19818c4",
   "metadata": {},
   "outputs": [],
   "source": []
  },
  {
   "cell_type": "markdown",
   "id": "498090f9",
   "metadata": {},
   "source": [
    "<div>\n",
    "<p>With a quick look at the table, we can make a few observations:</p>\n",
    "<p></p><center><img src=\"gr_freq.svg\" alt=\"img\"></center><p></p>\n",
    "<p>As a side note, the number of intervals in a grouped frequency table can vary — we can have 5, 6, 7, 10, 15, etc. Generally, 10 intervals is a good choice because it offers a good balance between information and comprehension. We'll learn more about this topic later in the statistics courses.</p>\n",
    "<p>For our next exercise, we're going to generate grouped frequency tables for the <code>registered</code> and <code>casual</code> columns. On the next screen, we'll learn a new kind of graph that we can use to visualize grouped frequency tables.</p></div>"
   ]
  },
  {
   "cell_type": "markdown",
   "id": "da1672bb",
   "metadata": {},
   "source": [
    "<h3>Exercise</h3>\n",
    "<br>\n",
    "<div><ol>\n",
    "<li>\n",
    "<p>Generate a grouped frequency table for the <code>registered</code> column.</p>\n",
    "<ul>\n",
    "<li>The table must have 10 intervals.</li>\n",
    "<li>The intervals must be sorted in ascending order.</li>\n",
    "<li>Assign the table to the <code>registered_freq</code> variable.</li>\n",
    "</ul>\n",
    "</li>\n",
    "<li>\n",
    "<p>Generate a grouped frequency table for the <code>casual</code> column.</p>\n",
    "<ul>\n",
    "<li>The table must have 10 intervals.</li>\n",
    "<li>The intervals must be sorted in an ascending order.</li>\n",
    "<li>Assign the table to the <code>casual_freq</code> variable.</li>\n",
    "</ul>\n",
    "</li>\n",
    "</ol></div>"
   ]
  },
  {
   "cell_type": "code",
   "execution_count": null,
   "id": "631ebed6",
   "metadata": {},
   "outputs": [],
   "source": []
  },
  {
   "cell_type": "code",
   "execution_count": null,
   "id": "9bcfe744",
   "metadata": {},
   "outputs": [],
   "source": []
  },
  {
   "cell_type": "markdown",
   "id": "de64c500",
   "metadata": {},
   "source": [
    "<h2>6. Hisotgrams</h2>\n",
    "<br>\n",
    "<div><p>We generated a grouped frequency table for the <code>cnt</code> column:</p>\n",
    "</div>"
   ]
  },
  {
   "cell_type": "code",
   "execution_count": null,
   "id": "269fa190",
   "metadata": {},
   "outputs": [],
   "source": []
  },
  {
   "cell_type": "markdown",
   "id": "29a6356b",
   "metadata": {},
   "source": [
    "<div>\n",
    "<p>The best way to visualize a grouped frequency table is by using a <strong>histogram</strong>. To generate a histogram for our table above, we can use the <a href=\"https://matplotlib.org/stable/api/_as_gen/matplotlib.pyplot.hist.html\" target=\"_blank\"><code>plt.hist()</code> function</a>:</p>\n",
    "</div>"
   ]
  },
  {
   "cell_type": "code",
   "execution_count": null,
   "id": "9099d4ec",
   "metadata": {},
   "outputs": [],
   "source": []
  },
  {
   "cell_type": "markdown",
   "id": "4ca7a494",
   "metadata": {},
   "source": [
    "<div>\n",
    "<p>Notice that all we needed to pass to <code>plt.hist()</code> was the <code>cnt</code> column (not the grouped frequency table).</p>\n",
    "<p>Behind the curtains, the <code>plt.hist()</code> function did the following:</p>\n",
    "<ul>\n",
    "<li>Generated a grouped frequency table with ten equal intervals for the <code>cnt</code> column.</li>\n",
    "<li>Plotted a bar for each interval (ten intervals means ten bars). The height of each bar corresponds to the frequency of its corresponding interval.</li>\n",
    "</ul>\n",
    "<p>A histogram is a modified bar plot — the main visual difference is that there are no gaps between bars.</p>\n",
    "<p>Another equally-important difference is that each bar represents an interval, not a single value.</p>\n",
    "<p>Looking at the histogram we generated for the <code>cnt</code> column, we can make a few quick observations about the following:</p>\n",
    "<ul>\n",
    "<li>Range: Over the two years (2011 and 2012), the values ranged between 0 and 9,000 bike rentals.</li>\n",
    "<li>The distribution of the bike rentals:<ul>\n",
    "<li>Most typically, the number of bike rentals per day varies between 4,500 and 5,000 — the tallest bar is around that interval. The height of that bar indicates that we had about 140 days when rentals were between 4,500 and 5,000.</li>\n",
    "<li>For most days, the number of rentals ranges between 1,000 and 7,500 — we see the tallest bars around this larger interval.</li>\n",
    "<li>Most uncommonly, the number of rentals per day goes under 1,000 or over 8,000 — the bars are short around these values, with a frequency of 20 or less.</li>\n",
    "</ul>\n",
    "</li>\n",
    "</ul>\n",
    "<p>Histograms are one of the most common graphs we use in exploratory data visualization. They quickly show us the distribution of the values, which in turn can suggest important patterns — we'll continue this discussion on the next screen.</p></div>"
   ]
  },
  {
   "cell_type": "markdown",
   "id": "5f85a307",
   "metadata": {},
   "source": [
    "<h3>Exercise</h3>\n",
    "<br>\n",
    "<ol>\n",
    "<li>Generate a histogram for the <code>casual</code> column.</li>\n",
    "<li>Try to make a few quick observations about the histogram.<ul>\n",
    "<li>What's the approximate range?</li>\n",
    "<li>What's the interval with the greatest frequency?</li>\n",
    "<li>What's the interval with the lowest frequency?</li>\n",
    "</ul>\n",
    "</li>\n",
    "<li>Compare the shape of the <code>casual</code> histogram with the shape of the histogram we generated for the <code>cnt</code> column. What differences do you notice?</li>\n",
    "</ol>"
   ]
  },
  {
   "cell_type": "code",
   "execution_count": null,
   "id": "4900f40f",
   "metadata": {},
   "outputs": [],
   "source": []
  },
  {
   "cell_type": "markdown",
   "id": "7e046862",
   "metadata": {},
   "source": [
    "<h2>7. Normal Distribution</h2>\n",
    "<br>\n",
    "<div><p>On the previous screen, we started by generating a histogram for the <code>cnt</code> column. Then, we plotted a histogram for the <code>casual</code> column in the exercise. Notice that the two histograms have different shapes:</p>\n",
    "<p></p><center>\n",
    "<img src=\"m3_screen7_1.png\" alt=\"img\">\n",
    "</center><p></p>\n",
    "<p>It's useful to examine the shape of a histogram because it shows us the distribution of the values.</p>\n",
    "<p>We often see histograms with a shape that is more or less symmetrical. If we draw a vertical line exactly in the middle of a symmetrical histogram, then we divide the histogram in two halves that are mirror images of one another.</p>\n",
    "<p></p><center>\n",
    "<img src=\"s1m4_symmetry.svg\" alt=\"img\">\n",
    "</center><p></p>\n",
    "<p>A histogram shows the distribution of the values, and if its shape is symmetrical, then we say we have a <strong>symmetrical distribution</strong>.</p>\n",
    "<p>One common symmetrical distribution is the <strong>normal distribution</strong> (also called Gaussian distribution).</p>\n",
    "<p></p><center>\n",
    "<img src=\"s1m4_normal.svg\" alt=\"img\">\n",
    "</center><p></p>\n",
    "<p>Let's think of a numerical column for a moment (like the <code>cnt</code> column): it has a minimum value, a maximum value, and a range (the range is the difference between the maximum and the minimum column). If we plot a histogram for this column and the visual result is a normal distribution, then this means the following:</p>\n",
    "<ul>\n",
    "<li>Most of the values in that column lie in the middle of the range.</li>\n",
    "<li>As we approach the minimum and the maximum points of the range, we have less and less of those values.</li>\n",
    "</ul>\n",
    "<p>To better understand what a normal distribution means, let's say we plotted a histogram with the grades students earned on a math test. If the histogram shows a normal distribution, then this means the following:</p>\n",
    "<ul>\n",
    "<li>Most of the student performances were average (lying somewhere in the middle between the minimum and the maximum marks).</li>\n",
    "<li>As we approach the minimum and maximum marks, we have less and less students with those performances.</li>\n",
    "</ul>\n",
    "<p>Let's do a quick exercise to check our understanding and continue the discussion on the next screen.</p></div>"
   ]
  },
  {
   "cell_type": "markdown",
   "id": "447710e5",
   "metadata": {},
   "source": [
    "<h3>Exercise</h3>\n",
    "<br>\n",
    "<div ><p>The histogram below shows the distribution of the <code>registered</code> column.</p>\n",
    "<p></p><center>\n",
    "<img src=\"m3_screen7_2.png\" alt=\"img\">\n",
    "</center><p></p>\n",
    "<p>Based on the histogram above, evaluate the truth value of the following sentences.</p>\n",
    "<ol>\n",
    "<li>The distribution of the <code>registered</code> column looks similar to a normal distribution. Assign the Boolean <code>True</code> or <code>False</code> to <code>sentence_1</code>.</li>\n",
    "<li>Most days, registered users rent between 6,000 and 7,000 bikes. Assign <code>True</code> or <code>False</code> to <code>sentence_2</code>.</li>\n",
    "<li>It's relatively rare that registered users rent fewer than 500 bikes in one day. Assign <code>True</code> or <code>False</code> to <code>sentence_3</code>.</li>\n",
    "<li>The tallest bar on the histogram corresponds to a frequency of about 140 days. Assign <code>True</code> or <code>False</code> to <code>sentence_4</code>.</li>\n",
    "<li>The histogram above has a total of 12 bars. Assign <code>True</code> or <code>False</code> to <code>sentence_5</code>.</li>\n",
    "</ol></div>"
   ]
  },
  {
   "cell_type": "code",
   "execution_count": null,
   "id": "dc167866",
   "metadata": {},
   "outputs": [],
   "source": []
  },
  {
   "cell_type": "markdown",
   "id": "2fd8c0bb",
   "metadata": {},
   "source": [
    "<h2>8. The Uniform Distribution</h2>\n",
    "<br>\n",
    "<div><p>On the previous screen, we introduced the normal distribution as an example of a symmetrical distribution.</p>\n",
    "<p>Another symmetrical distribution we can see in practice is the <strong>uniform distribution</strong> — the values are <em>uniformly distributed</em>. The bars have equal height because the intervals have equal frequencies.</p>\n",
    "<p></p><center>\n",
    "<img src=\"s1m4_uniform.svg\" alt=\"img\">\n",
    "</center><p></p>\n",
    "<p>If we plotted a histogram for the grades students earned on a math test, and the distribution is uniform, this means that all the marks (or the mark intervals) have the same frequency.</p>\n",
    "<p>When we plot histograms in practice, we rarely see perfectly symmetrical distributions. However, these ideal cases we learned about serve as a baseline to help us describe and interpret the distributions we see in practice.</p>\n",
    "<p>For instance, if we look at the histograms for the <code>cnt</code> and the <code>registered</code> columns, we can say they look similar to a normal distribution. This immediately tells us that most values lie in the middle, and the frequencies gradually decrease toward the extremities.</p>\n",
    "<p></p><center>\n",
    "<img src=\"m3_screen8_1.png\" alt=\"img\">\n",
    "</center><p></p>\n",
    "<p>Let's do a quick exercise and resume the discussion on the next screen, where we learn that not all histograms have symmetrical shapes.</p></div>"
   ]
  },
  {
   "cell_type": "markdown",
   "id": "7c6cdeb3",
   "metadata": {},
   "source": [
    "<h3>Exercise</h3>\n",
    "<br/>\n",
    "<div id=\"body\" class=\"dq-lesson-container dq-lesson-markup dq-lesson-learn-instructions\"><p>Below, we see two histograms plotted for the <code>cnt</code> and the <code>casual</code> columns.</p>\n",
    "<p></p><center>\n",
    "<img src=\"m3_screen7_1.png\" alt=\"img\">\n",
    "</center><p></p>\n",
    "<p>Based on the histograms above, evaluate the truth value of the following sentences.</p>\n",
    "<ol>\n",
    "<li>The <code>casual</code> distribution is not symmetrical. Assign the Boolean <code>True</code> or <code>False</code> to <code>sentence_1</code>.</li>\n",
    "<li>Most days, casual users rent over 2,000 bikes. Assign <code>True</code> or <code>False</code> to <code>sentence_2</code>.</li>\n",
    "<li>The <code>cnt</code> distribution is approximately symmetrical, and it looks more like a uniform distribution than a normal distribution. Assign <code>True</code> or <code>False</code> to <code>sentence_3</code>.</li>\n",
    "<li>The tallest bar on the <code>cnt</code> histogram corresponds to about 200 days. Assign <code>True</code> or <code>False</code> to <code>sentence_4</code>.</li>\n",
    "</ol></div>"
   ]
  },
  {
   "cell_type": "code",
   "execution_count": null,
   "id": "146aee91",
   "metadata": {},
   "outputs": [],
   "source": []
  },
  {
   "cell_type": "markdown",
   "id": "7fe284ac",
   "metadata": {},
   "source": [
    "<h2>9. Skewed Distributions</h2>\n",
    "<br/>\n",
    "<div><p>On the previous two screens, we learned about symmetrical distributions. If we draw a vertical line exactly in the middle of a symmetrical histogram, then we divide it into two halves that are mirror images of one another.</p>\n",
    "<p></p><center>\n",
    "<img src=\"s1m4_symmetry.svg\" alt=\"img\">\n",
    "</center><p></p>\n",
    "<p>Not all histogram shapes are symmetrical though. The histogram of the <code>casual</code> column, for instance, shows a cluster of tall bars located on the left side of the x-axis.</p>\n",
    "<p></p><center>\n",
    "<img src=\"m3_screen9_0.png\" alt=\"img\">\n",
    "</center><p></p>\n",
    "<p>The <code>casual</code> histogram shows a <strong>skewed distribution</strong>. In a skewed distribution, we see the following:</p>\n",
    "<ul>\n",
    "<li>The values pile up toward the end or the starting point of the range, making up the <em>body</em> of the distribution.<ul>\n",
    "<li>In the case of the <code>casual</code> histogram, the values pile up toward the starting point of the range.</li>\n",
    "</ul>\n",
    "</li>\n",
    "<li>Then the values decrease in frequency towards the opposite end, forming the <em>tail</em> of the distribution.</li>\n",
    "</ul>\n",
    "<p></p><center>\n",
    "<img src=\"s1m4_body_tail.svg\" alt=\"img\">\n",
    "</center><p></p>\n",
    "<p>If the tail points to the right, then the distribution is right skewed (the distribution of the <code>casual</code> column is right skewed). If the tail points to the left, then the distribution is said to be left skewed.</p>\n",
    "<p></p><center>\n",
    "<img src=\"m3_0.png\" alt=\"img\">\n",
    "</center><p></p>\n",
    "<p>When the tail points to the left, it also points in the direction of negative numbers (on the x-axis, the numbers decrease from right to left). For this reason, a left-skewed distribution is sometimes also said to have a negative skew.</p>\n",
    "<p>When the tail points to the right, it also points in the direction of positive numbers. As a consequence, right-skewed distributions are also said to have a positive skew.</p>\n",
    "<p></div>"
   ]
  }
 ],
 "metadata": {
  "kernelspec": {
   "display_name": "Python 3",
   "language": "python",
   "name": "python3"
  },
  "language_info": {
   "codemirror_mode": {
    "name": "ipython",
    "version": 3
   },
   "file_extension": ".py",
   "mimetype": "text/x-python",
   "name": "python",
   "nbconvert_exporter": "python",
   "pygments_lexer": "ipython3",
   "version": "3.8.8"
  }
 },
 "nbformat": 4,
 "nbformat_minor": 5
}
