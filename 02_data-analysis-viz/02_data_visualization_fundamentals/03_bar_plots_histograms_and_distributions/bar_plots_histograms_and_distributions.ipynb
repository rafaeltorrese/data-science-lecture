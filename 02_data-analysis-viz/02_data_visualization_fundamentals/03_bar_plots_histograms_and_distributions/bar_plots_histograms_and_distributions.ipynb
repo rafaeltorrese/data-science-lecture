{
 "cells": [
  {
   "cell_type": "markdown",
   "id": "537297a4",
   "metadata": {},
   "source": [
    "<center>\n",
    "    <h1>Bar Plots, Histograms, and Distributions</h1>\n",
    "</center>"
   ]
  },
  {
   "cell_type": "markdown",
   "id": "f8b247ee",
   "metadata": {},
   "source": [
    "<h2>1. Introduction</h2>\n",
    "<br>\n",
    "<div><p>In the \"Scatter Plots and Correlation\" lesson, we learned more about exploratory data visualization. We worked with time series data on bike sharing and learned about seasonality, scatter plots, and correlation.</p>\n",
    "<p>In this lesson, we'll learn new things about exploratory data visualization. We'll continue using the bike sharing dataset:</p>\n",
    "<table class=\"dataframe\">\n",
    "<thead>\n",
    "<tr>\n",
    "<th></th>\n",
    "<th>instant</th>\n",
    "<th>dteday</th>\n",
    "<th>season</th>\n",
    "<th>yr</th>\n",
    "<th>mnth</th>\n",
    "<th>holiday</th>\n",
    "<th>weekday</th>\n",
    "<th>workingday</th>\n",
    "<th>weathersit</th>\n",
    "<th>temp</th>\n",
    "<th>atemp</th>\n",
    "<th>hum</th>\n",
    "<th>windspeed</th>\n",
    "<th>casual</th>\n",
    "<th>registered</th>\n",
    "<th>cnt</th>\n",
    "</tr>\n",
    "</thead>\n",
    "<tbody>\n",
    "<tr>\n",
    "<th>0</th>\n",
    "<td>1</td>\n",
    "<td>2011-01-01</td>\n",
    "<td>1</td>\n",
    "<td>0</td>\n",
    "<td>1</td>\n",
    "<td>0</td>\n",
    "<td>6</td>\n",
    "<td>0</td>\n",
    "<td>2</td>\n",
    "<td>0.344167</td>\n",
    "<td>0.363625</td>\n",
    "<td>0.805833</td>\n",
    "<td>0.160446</td>\n",
    "<td>331</td>\n",
    "<td>654</td>\n",
    "<td>985</td>\n",
    "</tr>\n",
    "<tr>\n",
    "<th>1</th>\n",
    "<td>2</td>\n",
    "<td>2011-01-02</td>\n",
    "<td>1</td>\n",
    "<td>0</td>\n",
    "<td>1</td>\n",
    "<td>0</td>\n",
    "<td>0</td>\n",
    "<td>0</td>\n",
    "<td>2</td>\n",
    "<td>0.363478</td>\n",
    "<td>0.353739</td>\n",
    "<td>0.696087</td>\n",
    "<td>0.248539</td>\n",
    "<td>131</td>\n",
    "<td>670</td>\n",
    "<td>801</td>\n",
    "</tr>\n",
    "<tr>\n",
    "<th>2</th>\n",
    "<td>3</td>\n",
    "<td>2011-01-03</td>\n",
    "<td>1</td>\n",
    "<td>0</td>\n",
    "<td>1</td>\n",
    "<td>0</td>\n",
    "<td>1</td>\n",
    "<td>1</td>\n",
    "<td>1</td>\n",
    "<td>0.196364</td>\n",
    "<td>0.189405</td>\n",
    "<td>0.437273</td>\n",
    "<td>0.248309</td>\n",
    "<td>120</td>\n",
    "<td>1229</td>\n",
    "<td>1349</td>\n",
    "</tr>\n",
    "<tr>\n",
    "<th>3</th>\n",
    "<td>4</td>\n",
    "<td>2011-01-04</td>\n",
    "<td>1</td>\n",
    "<td>0</td>\n",
    "<td>1</td>\n",
    "<td>0</td>\n",
    "<td>2</td>\n",
    "<td>1</td>\n",
    "<td>1</td>\n",
    "<td>0.200000</td>\n",
    "<td>0.212122</td>\n",
    "<td>0.590435</td>\n",
    "<td>0.160296</td>\n",
    "<td>108</td>\n",
    "<td>1454</td>\n",
    "<td>1562</td>\n",
    "</tr>\n",
    "<tr>\n",
    "<th>4</th>\n",
    "<td>5</td>\n",
    "<td>2011-01-05</td>\n",
    "<td>1</td>\n",
    "<td>0</td>\n",
    "<td>1</td>\n",
    "<td>0</td>\n",
    "<td>3</td>\n",
    "<td>1</td>\n",
    "<td>1</td>\n",
    "<td>0.226957</td>\n",
    "<td>0.229270</td>\n",
    "<td>0.436957</td>\n",
    "<td>0.186900</td>\n",
    "<td>82</td>\n",
    "<td>1518</td>\n",
    "<td>1600</td>\n",
    "</tr>\n",
    "</tbody>\n",
    "</table>\n",
    "<p>Recall that the <code>workingday</code> column describes the type of day: a working day or a non-working day (weekend or holiday). A value of <code>1</code> represents a working day, and a value of <code>0</code> represents a non-working day.</p>\n",
    "</div>"
   ]
  },
  {
   "cell_type": "code",
   "execution_count": 16,
   "id": "0891738f",
   "metadata": {},
   "outputs": [],
   "source": [
    "import pandas as pd\n",
    "import matplotlib.pyplot as plt\n",
    "%matplotlib inline"
   ]
  },
  {
   "cell_type": "code",
   "execution_count": 6,
   "id": "6e8aa023",
   "metadata": {},
   "outputs": [
    {
     "data": {
      "text/html": [
       "<div>\n",
       "<style scoped>\n",
       "    .dataframe tbody tr th:only-of-type {\n",
       "        vertical-align: middle;\n",
       "    }\n",
       "\n",
       "    .dataframe tbody tr th {\n",
       "        vertical-align: top;\n",
       "    }\n",
       "\n",
       "    .dataframe thead th {\n",
       "        text-align: right;\n",
       "    }\n",
       "</style>\n",
       "<table border=\"1\" class=\"dataframe\">\n",
       "  <thead>\n",
       "    <tr style=\"text-align: right;\">\n",
       "      <th></th>\n",
       "      <th>instant</th>\n",
       "      <th>dteday</th>\n",
       "      <th>season</th>\n",
       "      <th>yr</th>\n",
       "      <th>mnth</th>\n",
       "      <th>holiday</th>\n",
       "      <th>weekday</th>\n",
       "      <th>workingday</th>\n",
       "      <th>weathersit</th>\n",
       "      <th>temp</th>\n",
       "      <th>atemp</th>\n",
       "      <th>hum</th>\n",
       "      <th>windspeed</th>\n",
       "      <th>casual</th>\n",
       "      <th>registered</th>\n",
       "      <th>cnt</th>\n",
       "    </tr>\n",
       "  </thead>\n",
       "  <tbody>\n",
       "    <tr>\n",
       "      <th>0</th>\n",
       "      <td>1</td>\n",
       "      <td>2011-01-01</td>\n",
       "      <td>1</td>\n",
       "      <td>0</td>\n",
       "      <td>1</td>\n",
       "      <td>0</td>\n",
       "      <td>6</td>\n",
       "      <td>0</td>\n",
       "      <td>2</td>\n",
       "      <td>0.344167</td>\n",
       "      <td>0.363625</td>\n",
       "      <td>0.805833</td>\n",
       "      <td>0.160446</td>\n",
       "      <td>331</td>\n",
       "      <td>654</td>\n",
       "      <td>985</td>\n",
       "    </tr>\n",
       "    <tr>\n",
       "      <th>1</th>\n",
       "      <td>2</td>\n",
       "      <td>2011-01-02</td>\n",
       "      <td>1</td>\n",
       "      <td>0</td>\n",
       "      <td>1</td>\n",
       "      <td>0</td>\n",
       "      <td>0</td>\n",
       "      <td>0</td>\n",
       "      <td>2</td>\n",
       "      <td>0.363478</td>\n",
       "      <td>0.353739</td>\n",
       "      <td>0.696087</td>\n",
       "      <td>0.248539</td>\n",
       "      <td>131</td>\n",
       "      <td>670</td>\n",
       "      <td>801</td>\n",
       "    </tr>\n",
       "    <tr>\n",
       "      <th>2</th>\n",
       "      <td>3</td>\n",
       "      <td>2011-01-03</td>\n",
       "      <td>1</td>\n",
       "      <td>0</td>\n",
       "      <td>1</td>\n",
       "      <td>0</td>\n",
       "      <td>1</td>\n",
       "      <td>1</td>\n",
       "      <td>1</td>\n",
       "      <td>0.196364</td>\n",
       "      <td>0.189405</td>\n",
       "      <td>0.437273</td>\n",
       "      <td>0.248309</td>\n",
       "      <td>120</td>\n",
       "      <td>1229</td>\n",
       "      <td>1349</td>\n",
       "    </tr>\n",
       "    <tr>\n",
       "      <th>3</th>\n",
       "      <td>4</td>\n",
       "      <td>2011-01-04</td>\n",
       "      <td>1</td>\n",
       "      <td>0</td>\n",
       "      <td>1</td>\n",
       "      <td>0</td>\n",
       "      <td>2</td>\n",
       "      <td>1</td>\n",
       "      <td>1</td>\n",
       "      <td>0.200000</td>\n",
       "      <td>0.212122</td>\n",
       "      <td>0.590435</td>\n",
       "      <td>0.160296</td>\n",
       "      <td>108</td>\n",
       "      <td>1454</td>\n",
       "      <td>1562</td>\n",
       "    </tr>\n",
       "    <tr>\n",
       "      <th>4</th>\n",
       "      <td>5</td>\n",
       "      <td>2011-01-05</td>\n",
       "      <td>1</td>\n",
       "      <td>0</td>\n",
       "      <td>1</td>\n",
       "      <td>0</td>\n",
       "      <td>3</td>\n",
       "      <td>1</td>\n",
       "      <td>1</td>\n",
       "      <td>0.226957</td>\n",
       "      <td>0.229270</td>\n",
       "      <td>0.436957</td>\n",
       "      <td>0.186900</td>\n",
       "      <td>82</td>\n",
       "      <td>1518</td>\n",
       "      <td>1600</td>\n",
       "    </tr>\n",
       "  </tbody>\n",
       "</table>\n",
       "</div>"
      ],
      "text/plain": [
       "   instant     dteday  season  yr  mnth  holiday  weekday  workingday  \\\n",
       "0        1 2011-01-01       1   0     1        0        6           0   \n",
       "1        2 2011-01-02       1   0     1        0        0           0   \n",
       "2        3 2011-01-03       1   0     1        0        1           1   \n",
       "3        4 2011-01-04       1   0     1        0        2           1   \n",
       "4        5 2011-01-05       1   0     1        0        3           1   \n",
       "\n",
       "   weathersit      temp     atemp       hum  windspeed  casual  registered  \\\n",
       "0           2  0.344167  0.363625  0.805833   0.160446     331         654   \n",
       "1           2  0.363478  0.353739  0.696087   0.248539     131         670   \n",
       "2           1  0.196364  0.189405  0.437273   0.248309     120        1229   \n",
       "3           1  0.200000  0.212122  0.590435   0.160296     108        1454   \n",
       "4           1  0.226957  0.229270  0.436957   0.186900      82        1518   \n",
       "\n",
       "    cnt  \n",
       "0   985  \n",
       "1   801  \n",
       "2  1349  \n",
       "3  1562  \n",
       "4  1600  "
      ]
     },
     "execution_count": 6,
     "metadata": {},
     "output_type": "execute_result"
    }
   ],
   "source": [
    "bike_sharing = pd.read_csv('day.csv', parse_dates=['dteday'])\n",
    "bike_sharing.head()"
   ]
  },
  {
   "cell_type": "code",
   "execution_count": 7,
   "id": "ba0b22f9",
   "metadata": {},
   "outputs": [
    {
     "name": "stdout",
     "output_type": "stream",
     "text": [
      "<class 'pandas.core.frame.DataFrame'>\n",
      "RangeIndex: 731 entries, 0 to 730\n",
      "Data columns (total 16 columns):\n",
      " #   Column      Non-Null Count  Dtype         \n",
      "---  ------      --------------  -----         \n",
      " 0   instant     731 non-null    int64         \n",
      " 1   dteday      731 non-null    datetime64[ns]\n",
      " 2   season      731 non-null    int64         \n",
      " 3   yr          731 non-null    int64         \n",
      " 4   mnth        731 non-null    int64         \n",
      " 5   holiday     731 non-null    int64         \n",
      " 6   weekday     731 non-null    int64         \n",
      " 7   workingday  731 non-null    int64         \n",
      " 8   weathersit  731 non-null    int64         \n",
      " 9   temp        731 non-null    float64       \n",
      " 10  atemp       731 non-null    float64       \n",
      " 11  hum         731 non-null    float64       \n",
      " 12  windspeed   731 non-null    float64       \n",
      " 13  casual      731 non-null    int64         \n",
      " 14  registered  731 non-null    int64         \n",
      " 15  cnt         731 non-null    int64         \n",
      "dtypes: datetime64[ns](1), float64(4), int64(11)\n",
      "memory usage: 91.5 KB\n"
     ]
    }
   ],
   "source": [
    "bike_sharing.info()"
   ]
  },
  {
   "cell_type": "code",
   "execution_count": 8,
   "id": "3a4a5aab",
   "metadata": {},
   "outputs": [
    {
     "data": {
      "text/plain": [
       "1    500\n",
       "0    231\n",
       "Name: workingday, dtype: int64"
      ]
     },
     "execution_count": 8,
     "metadata": {},
     "output_type": "execute_result"
    }
   ],
   "source": [
    "bike_sharing['workingday'].value_counts()"
   ]
  },
  {
   "cell_type": "markdown",
   "id": "f7647fc9",
   "metadata": {},
   "source": [
    "<div>\n",
    "<p>The <code>workingday</code> column correlates negatively with the <code>casual</code> column and positively correlates with the <code>registered</code> column (recall that the <code>casual</code> and <code>registered</code> columns show us the number of bikes rented by casual and registered users each day).</p>\n",
    "</div>"
   ]
  },
  {
   "cell_type": "code",
   "execution_count": 9,
   "id": "7a7f7b75",
   "metadata": {},
   "outputs": [
    {
     "data": {
      "text/plain": [
       "casual       -0.518044\n",
       "registered    0.303907\n",
       "Name: workingday, dtype: float64"
      ]
     },
     "execution_count": 9,
     "metadata": {},
     "output_type": "execute_result"
    }
   ],
   "source": [
    "bike_sharing.corr().loc['workingday', ['casual', 'registered']]"
   ]
  },
  {
   "cell_type": "markdown",
   "id": "f1ecedc1",
   "metadata": {},
   "source": [
    "<div>\n",
    "<p>These values suggest that registered users tend to use the bikes more on working days — to commute to work probably. On the other side, casual users tend to rent the bikes more on the weekends and holidays — probably for some leisure time.</p>\n",
    "<p>To corroborate or disprove these observations, we'll calculate the average number of rentals for casual and registered users on working and non-working days.</p>\n",
    "<p>We'll calculate the averages on the next screen, but first, let's visualize the correlations.</p></div>"
   ]
  },
  {
   "cell_type": "markdown",
   "id": "ccfdb852",
   "metadata": {},
   "source": [
    "<h3>Exercise</h3>\n",
    "<br>\n",
    "<ol>\n",
    "<li>Generate a scatter plot with the <code>workingday</code> column on the x-axis and the <code>casual</code> column on the y-axis. Add <code>'Working Day Vs. Casual'</code> as a title.</li>\n",
    "<li>Generate a scatter plot with the <code>workingday</code> column on the x-axis and the <code>registered</code> column on the y-axis. Add <code>'Working Day Vs. Registered'</code> as a title. You'll first need to close the previous scatter plot using <code>plt.show()</code></li>\n",
    "<li>Do you notice an opposing pattern between the two scatter plots? The scatter plots might look a bit odd at first, but recall <code>workingday</code> only has two unique values, so you'll see two narrow vertical strips on the plots.</li>\n",
    "</ol>"
   ]
  },
  {
   "cell_type": "markdown",
   "id": "ea6e45ae",
   "metadata": {},
   "source": [
    "<h4>Dataframe Plot</h4>\n",
    "\n",
    "[pandas.DataFrame.plot](https://pandas.pydata.org/docs/reference/api/pandas.DataFrame.plot.html)"
   ]
  },
  {
   "cell_type": "code",
   "execution_count": 19,
   "id": "b9db6036",
   "metadata": {},
   "outputs": [
    {
     "data": {
      "image/png": "[encoded data removed]",
      "text/plain": [
       "<Figure size 432x288 with 1 Axes>"
      ]
     },
     "metadata": {
      "needs_background": "light"
     },
     "output_type": "display_data"
    }
   ],
   "source": [
    "bike_sharing.plot(\n",
    "    x='workingday',\n",
    "    y='casual',\n",
    "    title='Working Day Vs. Casual',\n",
    "    kind='scatter')\n",
    "plt.show()"
   ]
  },
  {
   "cell_type": "code",
   "execution_count": 20,
   "id": "c418defc",
   "metadata": {},
   "outputs": [
    {
     "data": {
      "image/png": "[encoded data removed]",
      "text/plain": [
       "<Figure size 432x288 with 1 Axes>"
      ]
     },
     "metadata": {
      "needs_background": "light"
     },
     "output_type": "display_data"
    }
   ],
   "source": [
    "bike_sharing.plot(\n",
    "    x='workingday', \n",
    "    y='registered', \n",
    "    title='Working Day Vs. Registered',\n",
    "    kind='scatter',\n",
    ")\n",
    "plt.show()"
   ]
  },
  {
   "cell_type": "code",
   "execution_count": 21,
   "id": "d6b13c9c",
   "metadata": {},
   "outputs": [
    {
     "data": {
      "image/png": "[encoded data removed]",
      "text/plain": [
       "<Figure size 432x288 with 1 Axes>"
      ]
     },
     "metadata": {
      "needs_background": "light"
     },
     "output_type": "display_data"
    },
    {
     "data": {
      "image/png": "[encoded data removed]",
      "text/plain": [
       "<Figure size 432x288 with 1 Axes>"
      ]
     },
     "metadata": {
      "needs_background": "light"
     },
     "output_type": "display_data"
    }
   ],
   "source": [
    "plt.scatter(bike_sharing['workingday'], bike_sharing['casual'])\n",
    "plt.title('Working Day Vs. Casual')\n",
    "plt.show()\n",
    "\n",
    "plt.scatter(bike_sharing['workingday'], bike_sharing['registered'])\n",
    "plt.title('Working Day Vs. Registered')\n",
    "plt.show()"
   ]
  },
  {
   "cell_type": "markdown",
   "id": "83ffa0bb",
   "metadata": {},
   "source": [
    "<h2>2. Bar Plots</h2>\n",
    "<br>\n",
    "<div><p>We found a pattern that is potentially true: registered users tend to use the bikes more on the working days, while casual users tend to rent the bikes more on the weekends and holidays.</p>\n",
    "<p>We corroborated this hypothesis with the average number of rentals we see for casual and registered users on working and non-working days:</p>\n",
    "<table class=\"dataframe\">\n",
    "<thead>\n",
    "<tr>\n",
    "<th>workingday</th>\n",
    "<th>casual</th>\n",
    "<th>registered</th>\n",
    "</tr>\n",
    "</thead>\n",
    "<tbody>\n",
    "<tr>\n",
    "<td>0</td>\n",
    "<td>1371.134199</td>\n",
    "<td>2959.034632</td>\n",
    "</tr>\n",
    "<tr>\n",
    "<td>1</td>\n",
    "<td>606.570000</td>\n",
    "<td>3978.250000</td>\n",
    "</tr>\n",
    "</tbody>\n",
    "</table>\n",
    "<p>On non-working days, casual users rent on average more than double the number of bikes they rent on working days: 1,371 bikes compared to 607 bikes.</p>\n",
    "<p>Conversely, registered users rent significantly less during non-working days: 2,959 compared to 3,978 bikes.</p>\n",
    "<p>This can be useful business information. For instance, the marketing team can come up with more targeted membership offers. They can experiment with an annual holiday-and-weekend subscription to see if this increases conversion rates among casual users.</p>\n",
    "<p>To get a visual estimate of the data in our table above, we can use a <strong>bar plot</strong> (also called a bar chart).</p>\n",
    "<p>For instance, this is how the bar plot for the casual users averages looks — we can generate a bar plot using the <a href=\"https://matplotlib.org/stable/api/_as_gen/matplotlib.pyplot.bar.html\" target=\"_blank\"><code>plt.bar()</code> function</a>:</p>\n",
    "</div>"
   ]
  },
  {
   "cell_type": "code",
   "execution_count": 23,
   "id": "5f56fc74",
   "metadata": {},
   "outputs": [],
   "source": [
    "working_days = ['Non-Working Day', 'Working Day']\n",
    "casual_avg = [1371, 607]"
   ]
  },
  {
   "cell_type": "code",
   "execution_count": 24,
   "id": "64b001e8",
   "metadata": {},
   "outputs": [
    {
     "data": {
      "image/png": "[encoded data removed]",
      "text/plain": [
       "<Figure size 432x288 with 1 Axes>"
      ]
     },
     "metadata": {
      "needs_background": "light"
     },
     "output_type": "display_data"
    }
   ],
   "source": [
    "plt.bar(working_days, casual_avg)\n",
    "plt.show()"
   ]
  },
  {
   "cell_type": "markdown",
   "id": "3f8ebb31",
   "metadata": {},
   "source": [
    "<div>\n",
    "<p>In our bar plot above, we see two vertical blue bars. The bar on the left corresponds to the non-working day category, and the one on the right to the working day category.</p>\n",
    "<p>The bar on the left is higher — it's more than twice as tall as the one on the right. That's because on non-working days casual users rent on average more than double the number of bikes they rent on working days.</p>\n",
    "<p>The height of each bar corresponds to the values in the <code>casual_avg</code> list — the left bar corresponds to the value 1,371, and the right one corresponds to 607. Essentially, the height is a y-coordinate.</p>\n",
    "<p>We pass the heights of the bars as the second argument in <code>plt.bar(x, height)</code>. The first parameter, <code>x</code>, specifies the x-coordinates, and it works equally well with both numbers and strings (Matplotlib handles the strings behind the curtains). Below, we see an example with numbers:</p>\n",
    "</div>"
   ]
  },
  {
   "cell_type": "code",
   "execution_count": 25,
   "id": "09c43918",
   "metadata": {},
   "outputs": [
    {
     "data": {
      "image/png": "[encoded data removed]",
      "text/plain": [
       "<Figure size 432x288 with 1 Axes>"
      ]
     },
     "metadata": {
      "needs_background": "light"
     },
     "output_type": "display_data"
    }
   ],
   "source": [
    "plt.bar(x=[1,2,3,4], height=[10,20,40,80])\n",
    "plt.show()"
   ]
  },
  {
   "cell_type": "markdown",
   "id": "e72880b3",
   "metadata": {},
   "source": [
    "<h3>Exercise</h3>\n",
    "<br>\n",
    "\n",
    "```python\n",
    "working_days = ['Non-Working Day', 'Working Day']\n",
    "registered_avg = [2959, 3978]\n",
    "```\n",
    "<div>\n",
    "<ol>\n",
    "<li>Generate a bar plot using the <code>plt.bar()</code> function:<ul>\n",
    "<li>The <code>working_days</code> list provides the x-coordinates.</li>\n",
    "<li>The <code>registered_avg</code> list provides the heights.</li>\n",
    "</ul>\n",
    "</li>\n",
    "<li>Display the plot using <code>plt.show()</code>.</li>\n",
    "</ol></div>"
   ]
  },
  {
   "cell_type": "code",
   "execution_count": 26,
   "id": "7f1650bf",
   "metadata": {},
   "outputs": [
    {
     "data": {
      "image/png": "[encoded data removed]",
      "text/plain": [
       "<Figure size 432x288 with 1 Axes>"
      ]
     },
     "metadata": {
      "needs_background": "light"
     },
     "output_type": "display_data"
    }
   ],
   "source": [
    "working_days = ['Non-Working Day', 'Working Day']\n",
    "registered_avg = [2959, 3978]\n",
    "\n",
    "plt.bar(working_days, registered_avg)\n",
    "plt.show()"
   ]
  },
  {
   "cell_type": "markdown",
   "id": "04964a30",
   "metadata": {},
   "source": [
    "<h2>3. Customizing Bar Plots</h2>\n",
    "<br>\n",
    "We saw that the data indicates that registered users tend to use the bikes more on working days, while casual users tend to rent the bikes more on weekends and holidays.</p>\n",
    "<p>We can also take a more granular approach to analyzing the data and examine the average number of rentals for casual and registered users based on the day of the week (Monday, Tuesday, Wednesday, etc.).</p>\n",
    "<p>The <code>weekday</code> column in our dataset describes the day of the week (<code>0</code> is Sunday, and <code>6</code> is Saturday):</p>\n",
    "</div>"
   ]
  },
  {
   "cell_type": "code",
   "execution_count": 27,
   "id": "62209cda",
   "metadata": {},
   "outputs": [
    {
     "data": {
      "text/plain": [
       "0    105\n",
       "1    105\n",
       "2    104\n",
       "3    104\n",
       "4    104\n",
       "5    104\n",
       "6    105\n",
       "Name: weekday, dtype: int64"
      ]
     },
     "execution_count": 27,
     "metadata": {},
     "output_type": "execute_result"
    }
   ],
   "source": [
    "bike_sharing['weekday'].value_counts().sort_index()\n",
    "# We use Series.sort_index() to sort the index in an ascending order"
   ]
  },
  {
   "cell_type": "code",
   "execution_count": 28,
   "id": "e82202bd",
   "metadata": {},
   "outputs": [],
   "source": [
    "# It's not essential to understand how this code works, we'll cover this in a later moment\n",
    "weekday_averages = bike_sharing.groupby('weekday').mean()[['casual', 'registered']].reset_index() "
   ]
  },
  {
   "cell_type": "code",
   "execution_count": 30,
   "id": "9d7d9d7a",
   "metadata": {},
   "outputs": [
    {
     "data": {
      "text/html": [
       "<div>\n",
       "<style scoped>\n",
       "    .dataframe tbody tr th:only-of-type {\n",
       "        vertical-align: middle;\n",
       "    }\n",
       "\n",
       "    .dataframe tbody tr th {\n",
       "        vertical-align: top;\n",
       "    }\n",
       "\n",
       "    .dataframe thead th {\n",
       "        text-align: right;\n",
       "    }\n",
       "</style>\n",
       "<table border=\"1\" class=\"dataframe\">\n",
       "  <thead>\n",
       "    <tr style=\"text-align: right;\">\n",
       "      <th></th>\n",
       "      <th>weekday</th>\n",
       "      <th>casual</th>\n",
       "      <th>registered</th>\n",
       "    </tr>\n",
       "  </thead>\n",
       "  <tbody>\n",
       "    <tr>\n",
       "      <th>0</th>\n",
       "      <td>0</td>\n",
       "      <td>1338.295238</td>\n",
       "      <td>2890.533333</td>\n",
       "    </tr>\n",
       "    <tr>\n",
       "      <th>1</th>\n",
       "      <td>1</td>\n",
       "      <td>674.133333</td>\n",
       "      <td>3663.990476</td>\n",
       "    </tr>\n",
       "    <tr>\n",
       "      <th>2</th>\n",
       "      <td>2</td>\n",
       "      <td>556.182692</td>\n",
       "      <td>3954.480769</td>\n",
       "    </tr>\n",
       "    <tr>\n",
       "      <th>3</th>\n",
       "      <td>3</td>\n",
       "      <td>551.144231</td>\n",
       "      <td>3997.394231</td>\n",
       "    </tr>\n",
       "    <tr>\n",
       "      <th>4</th>\n",
       "      <td>4</td>\n",
       "      <td>590.961538</td>\n",
       "      <td>4076.298077</td>\n",
       "    </tr>\n",
       "    <tr>\n",
       "      <th>5</th>\n",
       "      <td>5</td>\n",
       "      <td>752.288462</td>\n",
       "      <td>3938.000000</td>\n",
       "    </tr>\n",
       "    <tr>\n",
       "      <th>6</th>\n",
       "      <td>6</td>\n",
       "      <td>1465.257143</td>\n",
       "      <td>3085.285714</td>\n",
       "    </tr>\n",
       "  </tbody>\n",
       "</table>\n",
       "</div>"
      ],
      "text/plain": [
       "   weekday       casual   registered\n",
       "0        0  1338.295238  2890.533333\n",
       "1        1   674.133333  3663.990476\n",
       "2        2   556.182692  3954.480769\n",
       "3        3   551.144231  3997.394231\n",
       "4        4   590.961538  4076.298077\n",
       "5        5   752.288462  3938.000000\n",
       "6        6  1465.257143  3085.285714"
      ]
     },
     "execution_count": 30,
     "metadata": {},
     "output_type": "execute_result"
    }
   ],
   "source": [
    "weekday_averages"
   ]
  },
  {
   "cell_type": "markdown",
   "id": "212fdc6e",
   "metadata": {},
   "source": [
    "<div>\n",
    "<p>Based on the <code>weekday</code> column, we already calculated the averages behind the curtains and added them to the table below:</p>\n",
    "<table class=\"dataframe\">\n",
    "<thead>\n",
    "<tr>\n",
    "<th>weekday</th>\n",
    "<th>casual</th>\n",
    "<th>registered</th>\n",
    "</tr>\n",
    "</thead>\n",
    "<tbody>\n",
    "<tr>\n",
    "<td>0</td>\n",
    "<td>1338.295238</td>\n",
    "<td>2890.533333</td>\n",
    "</tr>\n",
    "<tr>\n",
    "<td>1</td>\n",
    "<td>674.133333</td>\n",
    "<td>3663.990476</td>\n",
    "</tr>\n",
    "<tr>\n",
    "<td>2</td>\n",
    "<td>556.182692</td>\n",
    "<td>3954.480769</td>\n",
    "</tr>\n",
    "<tr>\n",
    "<td>3</td>\n",
    "<td>551.144231</td>\n",
    "<td>3997.394231</td>\n",
    "</tr>\n",
    "<tr>\n",
    "<td>4</td>\n",
    "<td>590.961538</td>\n",
    "<td>4076.298077</td>\n",
    "</tr>\n",
    "<tr>\n",
    "<td>5</td>\n",
    "<td>752.288462</td>\n",
    "<td>3938.000000</td>\n",
    "</tr>\n",
    "<tr>\n",
    "<td>6</td>\n",
    "<td>1465.257143</td>\n",
    "<td>3085.285714</td>\n",
    "</tr>\n",
    "</tbody>\n",
    "</table>\n",
    "<p>Notice that we now have seven rows in the table, and it's a bit harder to compare all the values. We can use a bar plot to help us get a visual estimate of the differences instead of going over values one-by-one and performing mental subtractions.</p>\n",
    "<p>Below, we generate a bar plot for the <code>casual</code> column in our table above. In the code below, assume the <code>weekday_averages</code> variable is a <code>DataFrame</code> storing the table above:</p>\n",
    "</div>"
   ]
  },
  {
   "cell_type": "code",
   "execution_count": 31,
   "id": "ae72033f",
   "metadata": {},
   "outputs": [
    {
     "data": {
      "image/png": "[encoded data removed]",
      "text/plain": [
       "<Figure size 432x288 with 1 Axes>"
      ]
     },
     "metadata": {
      "needs_background": "light"
     },
     "output_type": "display_data"
    }
   ],
   "source": [
    "plt.bar(weekday_averages['weekday'], weekday_averages['casual'])\n",
    "plt.show()"
   ]
  },
  {
   "cell_type": "markdown",
   "id": "a83be336",
   "metadata": {},
   "source": [
    "<div>\n",
    "<p>The first bar (Sunday) and the last one (Saturday) are more than twice as tall as all the other bars. This shows that casual users rent more bikes on the weekends, which corroborates our initial findings.</p>\n",
    "<p>If we look at the x-tick labels, we only see numbers (from 0 to 6). If we wanted to add day names instead, we can use the <a href=\"https://matplotlib.org/stable/api/_as_gen/matplotlib.pyplot.xticks.html\" target=\"_blank\"><code>plt.xticks()</code> function</a>. The <code>ticks</code> parameter takes in the x-coordinates, and the <code>labels</code> parameter takes in the corresponding new labels:</p>\n",
    "</div>"
   ]
  },
  {
   "cell_type": "code",
   "execution_count": 32,
   "id": "96ecc7d3",
   "metadata": {},
   "outputs": [
    {
     "data": {
      "image/png": "[encoded data removed]",
      "text/plain": [
       "<Figure size 432x288 with 1 Axes>"
      ]
     },
     "metadata": {
      "needs_background": "light"
     },
     "output_type": "display_data"
    }
   ],
   "source": [
    "plt.bar(weekday_averages['weekday'], weekday_averages['casual'])\n",
    "plt.xticks(ticks=[0, 1, 2, 3, 4, 5, 6],\n",
    "          labels=['Sunday', 'Monday', 'Tuesday', 'Wednesday',\n",
    "                 'Thursday', 'Friday', 'Saturday'])\n",
    "plt.show()"
   ]
  },
  {
   "cell_type": "markdown",
   "id": "35ffac6b",
   "metadata": {},
   "source": [
    "<div>\n",
    "<p>Some of the x-tick labels are now overlapping. One thing we can do is leverage the <code>rotation</code> parameter we learned about in the first lesson:</p>\n",
    "</div>"
   ]
  },
  {
   "cell_type": "code",
   "execution_count": 33,
   "id": "0c2e1669",
   "metadata": {},
   "outputs": [
    {
     "data": {
      "image/png": "[encoded data removed]",
      "text/plain": [
       "<Figure size 432x288 with 1 Axes>"
      ]
     },
     "metadata": {
      "needs_background": "light"
     },
     "output_type": "display_data"
    }
   ],
   "source": [
    "plt.bar(weekday_averages['weekday'], weekday_averages['casual'])\n",
    "plt.xticks(ticks=[0, 1, 2, 3, 4, 5, 6],\n",
    "          labels=['Sunday', 'Monday', 'Tuesday', 'Wednesday',\n",
    "                 'Thursday', 'Friday', 'Saturday'],\n",
    "          rotation=30)\n",
    "plt.show()"
   ]
  },
  {
   "cell_type": "markdown",
   "id": "e5231b2f",
   "metadata": {},
   "source": [
    "\n",
    "<p>Another solution is to flip all the bars horizontally.</p>\n",
    "    "
   ]
  },
  {
   "cell_type": "code",
   "execution_count": 34,
   "id": "9054f1e9",
   "metadata": {},
   "outputs": [
    {
     "data": {
      "image/png": "[encoded data removed]",
      "text/plain": [
       "<Figure size 432x288 with 1 Axes>"
      ]
     },
     "metadata": {
      "needs_background": "light"
     },
     "output_type": "display_data"
    }
   ],
   "source": [
    "plt.barh(weekday_averages['weekday'], weekday_averages['casual'])\n",
    "plt.yticks(ticks=[0, 1, 2, 3, 4, 5, 6],\n",
    "          labels=['Sunday', 'Monday', 'Tuesday', 'Wednesday',\n",
    "                 'Thursday', 'Friday', 'Saturday'])\n",
    "plt.show()"
   ]
  },
  {
   "cell_type": "markdown",
   "id": "f397256f",
   "metadata": {},
   "source": [
    "<p>We call this a <strong>horizontal bar plot</strong>. The average numbers of bikes rented are now on the x-axis, and the day names are on the y-axis. And we're now talking about bar widths instead of bar heights. </p>\n",
    "<p>To generate the bar plot above, we can use the <a href=\"https://matplotlib.org/api/_as_gen/matplotlib.pyplot.barh.html\" target=\"_blank\"><code>plt.barh(y, width)</code> function</a> along with the <code>plt.yticks()</code> function to change the y-tick labels:</p>"
   ]
  },
  {
   "cell_type": "markdown",
   "id": "a323cfdb",
   "metadata": {},
   "source": [
    "<h3>Excercise</h3>\n",
    "<br>\n",
    "<div ><p>We've already saved the table above into the <code>weekday_averages</code> variable, which is a <code>DataFrame</code> (you can see the code we used in the code editor).</p>\n",
    "<ol>\n",
    "<li>\n",
    "<p>Generate a bar plot using the <code>weekday_averages</code> variable:</p>\n",
    "<ul>\n",
    "<li>The <code>weekday</code> column provides the x-coordinates.</li>\n",
    "<li>The <code>registered</code> column provides the heights.</li>\n",
    "</ul>\n",
    "</li>\n",
    "<li>\n",
    "<p>Change the x-tick labels using the <code>plt.xticks()</code> function.</p>\n",
    "<ul>\n",
    "<li>The new labels should be <code>['Sunday', 'Monday', 'Tuesday', 'Wednesday', 'Thursday', 'Friday', 'Saturday']</code>.</li>\n",
    "<li>The x-coordinates of the labels are <code>[0, 1, 2, 3, 4, 5, 6]</code>.</li>\n",
    "<li>All labels are rotated to an angle of <code>30</code> degrees.</li>\n",
    "</ul>\n",
    "</li>\n",
    "<li>\n",
    "<p>Analyze the bar plot in light of our initial observations — does the results support the idea that registered users rent more bikes on working days?</p>\n",
    "</li>\n",
    "</ol></div>"
   ]
  },
  {
   "cell_type": "code",
   "execution_count": 37,
   "id": "16d37d5e",
   "metadata": {},
   "outputs": [
    {
     "data": {
      "image/png": "[encoded data removed]",
      "text/plain": [
       "<Figure size 432x288 with 1 Axes>"
      ]
     },
     "metadata": {
      "needs_background": "light"
     },
     "output_type": "display_data"
    }
   ],
   "source": [
    "plt.bar(weekday_averages['weekday'], \n",
    "        weekday_averages['registered'],        \n",
    "       )\n",
    "\n",
    "plt.xticks(ticks=[0, 1, 2, 3, 4, 5, 6],\n",
    "           labels='Sunday Monday Tuesday Wednesday Thursday Friday Saturday'.split(),\n",
    "           rotation=30,\n",
    "          )\n",
    "\n",
    "plt.show()"
   ]
  },
  {
   "cell_type": "markdown",
   "id": "1f8296a8",
   "metadata": {},
   "source": [
    "<h2>4. Frequency Tables</h2>\n",
    "<br>\n",
    "<div><p>Our dataset describes bike sharing activity for the Capital Bikeshare company in Washington, D.C. Let's say the company has decided to open up a new bike sharing system in another American city.</p>\n",
    "<p>Weather patterns are going to play an important part in choosing the next location. We're asked to pull up some weather data about Washington, D.C. — the decision-making team wants to use that as a benchmark for evaluating other cities.</p>\n",
    "<p>One useful column is <code>weathersit</code>, which describes the daily weather type. Let's look at the unique values and the number of times each occurs:</p>\n",
    "</div>"
   ]
  },
  {
   "cell_type": "code",
   "execution_count": 41,
   "id": "617a57cc",
   "metadata": {},
   "outputs": [
    {
     "data": {
      "text/plain": [
       "1    463\n",
       "2    247\n",
       "3     21\n",
       "Name: weathersit, dtype: int64"
      ]
     },
     "execution_count": 41,
     "metadata": {},
     "output_type": "execute_result"
    }
   ],
   "source": [
    "bike_sharing['weathersit'].value_counts()"
   ]
  },
  {
   "cell_type": "markdown",
   "id": "fe328768",
   "metadata": {},
   "source": [
    "<div>\n",
    "<p>We only see three unique values above, but, according to the documentation, the <code>weathersit</code> column has four unique values (<code>4</code> has a frequency of zero as a consequence):</p>\n",
    "<ul>\n",
    "<li><code>1</code>: clear or few clouds</li>\n",
    "<li><code>2</code>: mist or cloudy</li>\n",
    "<li><code>3</code>: light rain, light snow, thunderstorm</li>\n",
    "<li><code>4</code>: heavy rain, snow, ice pellets, fog</li>\n",
    "</ul>\n",
    "<p>The output of <code>bike_sharing['weathersit'].value_counts()</code> lists all the unique values along with the number of times each unique value occurs.</p>\n",
    "<p>We call the number of times that a unique value occurs the <strong>frequency</strong>. And we call the output of <code>bike_sharing['weathersit'].value_counts()</code> a <strong>frequency table</strong>.</p>\n",
    "<p>More generally, the <code>Series.value_counts()</code> method returns a frequency table. The best way to visualize a frequency table is by using a bar plot.</p>\n",
    "</div>"
   ]
  },
  {
   "cell_type": "code",
   "execution_count": 42,
   "id": "fdb15653",
   "metadata": {},
   "outputs": [
    {
     "data": {
      "image/png": "[encoded data removed]",
      "text/plain": [
       "<Figure size 432x288 with 1 Axes>"
      ]
     },
     "metadata": {
      "needs_background": "light"
     },
     "output_type": "display_data"
    }
   ],
   "source": [
    "weather_types = [1, 2, 3, 4]\n",
    "frequencies = [463, 247, 21, 0]\n",
    "plt.bar(weather_types, frequencies)\n",
    "plt.show()"
   ]
  },
  {
   "cell_type": "markdown",
   "id": "baa8b6bb",
   "metadata": {},
   "source": [
    "<div>\n",
    "<p>Bar plots work especially well for visualizing frequency tables when the number of unique values is low.</p>\n",
    "<p>If there are many unique values, then the bar plot looks too crowded, and it becomes more difficult to see any pattern.</p>\n",
    "<p>Bar plots work well when generating the frequency tables for categorical columns. For numerical columns, we need to use a histogram — a graph type that we'll learn about later in this lesson.</p>\n",
    "<p>For our next exercise, we're going to visualize weather patterns in Washington, D.C. for 2011 and 2012 individually. This will help us see if the weather is consistent from year to year. In the code editor, you can already see the following defined:</p>\n",
    "<ul>\n",
    "<li>The list <code>unique_values</code>: all the unique values of the <code>weathersit</code> column.</li>\n",
    "<li>The list <code>weather_2011</code>: the frequency of each unique value for the year 2011 only — for instance, the unique value <code>1</code> occurred <code>226</code> times in 2011, <code>2</code> occurred <code>124</code> times, and so on.</li>\n",
    "<li>The list <code>weather_2012</code>: the frequency of each unique value for the year 2012 only.</li>\n",
    "</ul>\n",
    "<p>We've already generated the bar plot for 2011, and now we're going to build the other one.</p></div>"
   ]
  },
  {
   "cell_type": "markdown",
   "id": "c907a33c",
   "metadata": {},
   "source": [
    "<h3>Exercise</h3>\n",
    "<br>\n",
    "<div><ol>\n",
    "<li>\n",
    "<p>Generate a bar plot to display the weather patterns in 2012.</p>\n",
    "<ul>\n",
    "<li>Use the <code>unique_values</code> list for x-coordinates, and the <code>weather_2012</code> list as bar heights.</li>\n",
    "<li>Use <code>plt.xticks()</code> to customize the x-ticks: the only tick labels displayed should be 1, 2, 3, and 4.</li>\n",
    "<li>Use <code>'Weather Patterns: 2012'</code> as a title.</li>\n",
    "<li>Use <code>'Frequency'</code> as an y-label.</li>\n",
    "<li>Use <code>'Unique Values'</code> as an x-label.</li>\n",
    "<li>Close the bar plot using <code>plt.show()</code>.</li>\n",
    "</ul>\n",
    "</li>\n",
    "<li>\n",
    "<p>Inspect both bar plots — does the weather in Washington D.C. show consistent patterns for 2011 and 2012?</p>\n",
    "</li>\n",
    "</ol></div>"
   ]
  },
  {
   "cell_type": "code",
   "execution_count": 38,
   "id": "cd00f6e6",
   "metadata": {},
   "outputs": [],
   "source": [
    "unique_values = [1, 2, 3, 4]\n",
    "weather_2011 = [226, 124, 15, 0]\n",
    "weather_2012 = [237, 123, 6, 0]"
   ]
  },
  {
   "cell_type": "code",
   "execution_count": 39,
   "id": "1855fc53",
   "metadata": {},
   "outputs": [
    {
     "data": {
      "image/png": "[encoded data removed]",
      "text/plain": [
       "<Figure size 432x288 with 1 Axes>"
      ]
     },
     "metadata": {
      "needs_background": "light"
     },
     "output_type": "display_data"
    }
   ],
   "source": [
    "# DON'T DELETE\n",
    "plt.bar(unique_values, weather_2011)\n",
    "plt.xticks(ticks=[1,2,3,4])\n",
    "plt.title('Weather Patterns: 2011')\n",
    "plt.ylabel('Frequency')\n",
    "plt.xlabel('Unique Values')\n",
    "plt.show()"
   ]
  },
  {
   "cell_type": "code",
   "execution_count": 40,
   "id": "fc294211",
   "metadata": {},
   "outputs": [
    {
     "data": {
      "image/png": "[encoded data removed]",
      "text/plain": [
       "<Figure size 432x288 with 1 Axes>"
      ]
     },
     "metadata": {
      "needs_background": "light"
     },
     "output_type": "display_data"
    }
   ],
   "source": [
    "plt.bar(unique_values, weather_2012)\n",
    "plt.xticks(ticks=unique_values)\n",
    "plt.title('Weather Patterns: 2012')\n",
    "plt.ylabel('Frequency')\n",
    "plt.xlabel('Unique Values')\n",
    "plt.show()"
   ]
  },
  {
   "cell_type": "markdown",
   "id": "bae23627",
   "metadata": {},
   "source": [
    "<h2>5. Grouped Frequency Tables</h2>\n",
    "<br>\n",
    "<div><p>On the previous cell, we generated a frequency table for the <code>weathersit</code> column.</p>\n",
    "</div>\n",
    "    "
   ]
  },
  {
   "cell_type": "code",
   "execution_count": 44,
   "id": "fe1e900c",
   "metadata": {},
   "outputs": [
    {
     "data": {
      "text/plain": [
       "1    463\n",
       "2    247\n",
       "3     21\n",
       "Name: weathersit, dtype: int64"
      ]
     },
     "execution_count": 44,
     "metadata": {},
     "output_type": "execute_result"
    }
   ],
   "source": [
    "bike_sharing['weathersit'].value_counts()"
   ]
  },
  {
   "cell_type": "markdown",
   "id": "277fd2c1",
   "metadata": {},
   "source": [
    "<div>\n",
    "<p>The table is fairly straightforward to read and interpret. For most days (463 days), the sky is clear or has a few clouds. However, there are also days (247 days) where we see mist or the sky is cloudy.</p>\n",
    "<p>Quite rarely (21 days in two years), we have light rains, light snows, or thunderstorms. Also, heavy rains or snows are extremely rare in Washington, D.C. (no occurrences in 2011 and 2012).</p>\n",
    "<p>However, if we generate a frequency table for the <code>cnt</code> column (which describes the total number of bike rentals), it's almost impossible to distinguish any pattern. And that's because <code>cnt</code> has 696 unique values (below, we see a truncated table).</p>\n",
    "</div>"
   ]
  },
  {
   "cell_type": "code",
   "execution_count": 45,
   "id": "79ed6372",
   "metadata": {},
   "outputs": [
    {
     "data": {
      "text/plain": [
       "5119    2\n",
       "5698    2\n",
       "6536    2\n",
       "5202    2\n",
       "1977    2\n",
       "       ..\n",
       "4456    1\n",
       "4458    1\n",
       "4460    1\n",
       "8173    1\n",
       "5905    1\n",
       "Name: cnt, Length: 696, dtype: int64"
      ]
     },
     "execution_count": 45,
     "metadata": {},
     "output_type": "execute_result"
    }
   ],
   "source": [
    "bike_sharing['cnt'].value_counts()"
   ]
  },
  {
   "cell_type": "markdown",
   "id": "b7718f64",
   "metadata": {},
   "source": [
    "<div>\n",
    "<p>To solve this problem, we can group the unique values into equal intervals. Below, we group the table into ten equal intervals by using the <code>bins=10</code> argument inside the <code>Series.value_counts()</code> method:</p>\n",
    "</div>"
   ]
  },
  {
   "cell_type": "code",
   "execution_count": 46,
   "id": "bc47139c",
   "metadata": {},
   "outputs": [
    {
     "data": {
      "text/plain": [
       "(4368.0, 5237.2]    137\n",
       "(3498.8, 4368.0]    122\n",
       "(5237.2, 6106.4]     81\n",
       "(6975.6, 7844.8]     79\n",
       "(6106.4, 6975.6]     76\n",
       "(2629.6, 3498.8]     73\n",
       "(1760.4, 2629.6]     71\n",
       "(891.2, 1760.4]      62\n",
       "(7844.8, 8714.0]     17\n",
       "(13.307, 891.2]      13\n",
       "Name: cnt, dtype: int64"
      ]
     },
     "execution_count": 46,
     "metadata": {},
     "output_type": "execute_result"
    }
   ],
   "source": [
    "bike_sharing['cnt'].value_counts(bins=10)"
   ]
  },
  {
   "cell_type": "markdown",
   "id": "6ae36848",
   "metadata": {},
   "source": [
    "<div>\n",
    "<p>The unique values are now number intervals. <code>(4368.0, 5237.2]</code> is a number interval. The <code>(</code> character indicates that the starting number is not included, while the <code>]</code> indicates that the ending number is included. The interval <code>(4368.0, 5237.2]</code> contains all numbers greater than 4368.0 and less than or equal to 5237.2.</p>\n",
    "<p>We can better understand the structure of the table above if we sort the intervals in ascending order. </p>\n",
    "</div>"
   ]
  },
  {
   "cell_type": "code",
   "execution_count": 47,
   "id": "4f070e0d",
   "metadata": {},
   "outputs": [
    {
     "data": {
      "text/plain": [
       "(13.307, 891.2]      13\n",
       "(891.2, 1760.4]      62\n",
       "(1760.4, 2629.6]     71\n",
       "(2629.6, 3498.8]     73\n",
       "(3498.8, 4368.0]    122\n",
       "(4368.0, 5237.2]    137\n",
       "(5237.2, 6106.4]     81\n",
       "(6106.4, 6975.6]     76\n",
       "(6975.6, 7844.8]     79\n",
       "(7844.8, 8714.0]     17\n",
       "Name: cnt, dtype: int64"
      ]
     },
     "execution_count": 47,
     "metadata": {},
     "output_type": "execute_result"
    }
   ],
   "source": [
    "bike_sharing['cnt'].value_counts(bins=10).sort_index()"
   ]
  },
  {
   "cell_type": "markdown",
   "id": "17d74ff3",
   "metadata": {},
   "source": [
    "<div>\n",
    "<p>With a quick look at the table, we can make a few observations:</p>\n",
    "<p></p><center><img src=\"gr_freq.svg\" alt=\"img\"></center><p></p>\n",
    "<p>As a side note, the number of intervals in a grouped frequency table can vary — we can have 5, 6, 7, 10, 15, etc. Generally, 10 intervals is a good choice because it offers a good balance between information and comprehension. We'll learn more about this topic later in the statistics courses.</p>\n",
    "<p>For our next exercise, we're going to generate grouped frequency tables for the <code>registered</code> and <code>casual</code> columns. On the next screen, we'll learn a new kind of graph that we can use to visualize grouped frequency tables.</p></div>"
   ]
  },
  {
   "cell_type": "markdown",
   "id": "8995ac0f",
   "metadata": {},
   "source": [
    "<h3>Exercise</h3>\n",
    "<br>\n",
    "<div><ol>\n",
    "<li>\n",
    "<p>Generate a grouped frequency table for the <code>registered</code> column.</p>\n",
    "<ul>\n",
    "<li>The table must have 10 intervals.</li>\n",
    "<li>The intervals must be sorted in ascending order.</li>\n",
    "<li>Assign the table to the <code>registered_freq</code> variable.</li>\n",
    "</ul>\n",
    "</li>\n",
    "<li>\n",
    "<p>Generate a grouped frequency table for the <code>casual</code> column.</p>\n",
    "<ul>\n",
    "<li>The table must have 10 intervals.</li>\n",
    "<li>The intervals must be sorted in an ascending order.</li>\n",
    "<li>Assign the table to the <code>casual_freq</code> variable.</li>\n",
    "</ul>\n",
    "</li>\n",
    "</ol></div>"
   ]
  },
  {
   "cell_type": "code",
   "execution_count": 48,
   "id": "28636205",
   "metadata": {},
   "outputs": [
    {
     "data": {
      "text/plain": [
       "(13.073, 712.6]      14\n",
       "(712.6, 1405.2]      44\n",
       "(1405.2, 2097.8]     79\n",
       "(2097.8, 2790.4]     80\n",
       "(2790.4, 3483.0]    113\n",
       "(3483.0, 4175.6]    144\n",
       "(4175.6, 4868.2]     85\n",
       "(4868.2, 5560.8]     71\n",
       "(5560.8, 6253.4]     57\n",
       "(6253.4, 6946.0]     44\n",
       "Name: registered, dtype: int64"
      ]
     },
     "execution_count": 48,
     "metadata": {},
     "output_type": "execute_result"
    }
   ],
   "source": [
    "registered_freq = bike_sharing['registered'].value_counts(bins=10).sort_index()\n",
    "registered_freq"
   ]
  },
  {
   "cell_type": "code",
   "execution_count": 49,
   "id": "1835abce",
   "metadata": {},
   "outputs": [
    {
     "data": {
      "text/plain": [
       "(-1.4089999999999998, 342.8]    204\n",
       "(342.8, 683.6]                  144\n",
       "(683.6, 1024.4]                 165\n",
       "(1024.4, 1365.2]                 89\n",
       "(1365.2, 1706.0]                 44\n",
       "(1706.0, 2046.8]                 23\n",
       "(2046.8, 2387.6]                 26\n",
       "(2387.6, 2728.4]                 22\n",
       "(2728.4, 3069.2]                  9\n",
       "(3069.2, 3410.0]                  5\n",
       "Name: casual, dtype: int64"
      ]
     },
     "execution_count": 49,
     "metadata": {},
     "output_type": "execute_result"
    }
   ],
   "source": [
    "casual_freq = bike_sharing['casual'].value_counts(bins=10).sort_index()\n",
    "casual_freq"
   ]
  },
  {
   "cell_type": "markdown",
   "id": "44a2f741",
   "metadata": {},
   "source": [
    "<h2>6. Hisotgrams</h2>\n",
    "<br>\n",
    "<div><p>We generated a grouped frequency table for the <code>cnt</code> column:</p>\n",
    "</div>"
   ]
  },
  {
   "cell_type": "code",
   "execution_count": 50,
   "id": "490f8ec7",
   "metadata": {},
   "outputs": [
    {
     "data": {
      "text/plain": [
       "(13.307, 891.2]      13\n",
       "(891.2, 1760.4]      62\n",
       "(1760.4, 2629.6]     71\n",
       "(2629.6, 3498.8]     73\n",
       "(3498.8, 4368.0]    122\n",
       "(4368.0, 5237.2]    137\n",
       "(5237.2, 6106.4]     81\n",
       "(6106.4, 6975.6]     76\n",
       "(6975.6, 7844.8]     79\n",
       "(7844.8, 8714.0]     17\n",
       "Name: cnt, dtype: int64"
      ]
     },
     "execution_count": 50,
     "metadata": {},
     "output_type": "execute_result"
    }
   ],
   "source": [
    "bike_sharing['cnt'].value_counts(bins=10).sort_index()"
   ]
  },
  {
   "cell_type": "markdown",
   "id": "ed2a56d5",
   "metadata": {},
   "source": [
    "<div>\n",
    "<p>The best way to visualize a grouped frequency table is by using a <strong>histogram</strong>. To generate a histogram for our table above, we can use the <a href=\"https://matplotlib.org/stable/api/_as_gen/matplotlib.pyplot.hist.html\" target=\"_blank\"><code>plt.hist()</code> function</a>:</p>\n",
    "</div>"
   ]
  },
  {
   "cell_type": "code",
   "execution_count": 52,
   "id": "d0f696f0",
   "metadata": {},
   "outputs": [
    {
     "data": {
      "image/png": "[encoded data removed]",
      "text/plain": [
       "<Figure size 432x288 with 1 Axes>"
      ]
     },
     "metadata": {
      "needs_background": "light"
     },
     "output_type": "display_data"
    }
   ],
   "source": [
    "plt.hist(bike_sharing['cnt'])\n",
    "plt.show()"
   ]
  },
  {
   "cell_type": "markdown",
   "id": "d47f28f1",
   "metadata": {},
   "source": [
    "<div>\n",
    "<p>Notice that all we needed to pass to <code>plt.hist()</code> was the <code>cnt</code> column (not the grouped frequency table).</p>\n",
    "<p>Behind the curtains, the <code>plt.hist()</code> function did the following:</p>\n",
    "<ul>\n",
    "<li>Generated a grouped frequency table with ten equal intervals for the <code>cnt</code> column.</li>\n",
    "<li>Plotted a bar for each interval (ten intervals means ten bars). The height of each bar corresponds to the frequency of its corresponding interval.</li>\n",
    "</ul>\n",
    "<p>A histogram is a modified bar plot — the main visual difference is that there are no gaps between bars.</p>\n",
    "<p>Another equally-important difference is that each bar represents an interval, not a single value.</p>\n",
    "<p>Looking at the histogram we generated for the <code>cnt</code> column, we can make a few quick observations about the following:</p>\n",
    "<ul>\n",
    "<li>Range: Over the two years (2011 and 2012), the values ranged between 0 and 9,000 bike rentals.</li>\n",
    "<li>The distribution of the bike rentals:<ul>\n",
    "<li>Most typically, the number of bike rentals per day varies between 4,500 and 5,000 — the tallest bar is around that interval. The height of that bar indicates that we had about 140 days when rentals were between 4,500 and 5,000.</li>\n",
    "<li>For most days, the number of rentals ranges between 1,000 and 7,500 — we see the tallest bars around this larger interval.</li>\n",
    "<li>Most uncommonly, the number of rentals per day goes under 1,000 or over 8,000 — the bars are short around these values, with a frequency of 20 or less.</li>\n",
    "</ul>\n",
    "</li>\n",
    "</ul>\n",
    "<p>Histograms are one of the most common graphs we use in exploratory data visualization. They quickly show us the distribution of the values, which in turn can suggest important patterns — we'll continue this discussion on the next screen.</p></div>"
   ]
  },
  {
   "cell_type": "markdown",
   "id": "e532f20d",
   "metadata": {},
   "source": [
    "<h3>Exercise</h3>\n",
    "<br>\n",
    "<ol>\n",
    "<li>Generate a histogram for the <code>casual</code> column.</li>\n",
    "<li>Try to make a few quick observations about the histogram.<ul>\n",
    "<li>What's the approximate range?</li>\n",
    "<li>What's the interval with the greatest frequency?</li>\n",
    "<li>What's the interval with the lowest frequency?</li>\n",
    "</ul>\n",
    "</li>\n",
    "<li>Compare the shape of the <code>casual</code> histogram with the shape of the histogram we generated for the <code>cnt</code> column. What differences do you notice?</li>\n",
    "</ol>"
   ]
  },
  {
   "cell_type": "code",
   "execution_count": 53,
   "id": "de9faa38",
   "metadata": {},
   "outputs": [
    {
     "data": {
      "image/png": "[encoded data removed]",
      "text/plain": [
       "<Figure size 432x288 with 1 Axes>"
      ]
     },
     "metadata": {
      "needs_background": "light"
     },
     "output_type": "display_data"
    }
   ],
   "source": [
    "plt.hist(bike_sharing['casual'])\n",
    "plt.show()"
   ]
  },
  {
   "cell_type": "markdown",
   "id": "f45863ee",
   "metadata": {},
   "source": [
    "<h2>7. Normal Distribution</h2>\n",
    "<br>\n",
    "<div><p>On the previous screen, we started by generating a histogram for the <code>cnt</code> column. Then, we plotted a histogram for the <code>casual</code> column in the exercise. Notice that the two histograms have different shapes:</p>\n",
    "<p></p><center>\n",
    "<img src=\"m3_screen7_1.png\" alt=\"img\">\n",
    "</center><p></p>\n",
    "<p>It's useful to examine the shape of a histogram because it shows us the distribution of the values.</p>\n",
    "<p>We often see histograms with a shape that is more or less symmetrical. If we draw a vertical line exactly in the middle of a symmetrical histogram, then we divide the histogram in two halves that are mirror images of one another.</p>\n",
    "<p></p><center>\n",
    "<img src=\"s1m4_symmetry.svg\" alt=\"img\">\n",
    "</center><p></p>\n",
    "<p>A histogram shows the distribution of the values, and if its shape is symmetrical, then we say we have a <strong>symmetrical distribution</strong>.</p>\n",
    "<p>One common symmetrical distribution is the <strong>normal distribution</strong> (also called Gaussian distribution).</p>\n",
    "<p></p><center>\n",
    "<img src=\"s1m4_normal.svg\" alt=\"img\">\n",
    "</center><p></p>\n",
    "<p>Let's think of a numerical column for a moment (like the <code>cnt</code> column): it has a minimum value, a maximum value, and a range (the range is the difference between the maximum and the minimum column). If we plot a histogram for this column and the visual result is a normal distribution, then this means the following:</p>\n",
    "<ul>\n",
    "<li>Most of the values in that column lie in the middle of the range.</li>\n",
    "<li>As we approach the minimum and the maximum points of the range, we have less and less of those values.</li>\n",
    "</ul>\n",
    "<p>To better understand what a normal distribution means, let's say we plotted a histogram with the grades students earned on a math test. If the histogram shows a normal distribution, then this means the following:</p>\n",
    "<ul>\n",
    "<li>Most of the student performances were average (lying somewhere in the middle between the minimum and the maximum marks).</li>\n",
    "<li>As we approach the minimum and maximum marks, we have less and less students with those performances.</li>\n",
    "</ul>\n",
    "<p>Let's do a quick exercise to check our understanding and continue the discussion on the next screen.</p></div>"
   ]
  },
  {
   "cell_type": "markdown",
   "id": "d9f5fe13",
   "metadata": {},
   "source": [
    "<h3>Exercise</h3>\n",
    "<br>\n",
    "<div ><p>The histogram below shows the distribution of the <code>registered</code> column.</p>\n",
    "<p></p><center>\n",
    "<img src=\"m3_screen7_2.png\" alt=\"img\">\n",
    "</center><p></p>\n",
    "<p>Based on the histogram above, evaluate the truth value of the following sentences.</p>\n",
    "<ol>\n",
    "<li>The distribution of the <code>registered</code> column looks similar to a normal distribution. Assign the Boolean <code>True</code> or <code>False</code> to <code>sentence_1</code>.</li>\n",
    "<li>Most days, registered users rent between 6,000 and 7,000 bikes. Assign <code>True</code> or <code>False</code> to <code>sentence_2</code>.</li>\n",
    "<li>It's relatively rare that registered users rent fewer than 500 bikes in one day. Assign <code>True</code> or <code>False</code> to <code>sentence_3</code>.</li>\n",
    "<li>The tallest bar on the histogram corresponds to a frequency of about 140 days. Assign <code>True</code> or <code>False</code> to <code>sentence_4</code>.</li>\n",
    "<li>The histogram above has a total of 12 bars. Assign <code>True</code> or <code>False</code> to <code>sentence_5</code>.</li>\n",
    "</ol></div>"
   ]
  },
  {
   "cell_type": "code",
   "execution_count": 54,
   "id": "7d4a6667",
   "metadata": {},
   "outputs": [],
   "source": [
    "sentence_1 = True\n",
    "sentence_2 = False\n",
    "sentence_3 = True\n",
    "sentence_4 = True\n",
    "sentence_5 = False"
   ]
  },
  {
   "cell_type": "markdown",
   "id": "60310ead",
   "metadata": {},
   "source": [
    "<h2>8. The Uniform Distribution</h2>\n",
    "<br>\n",
    "<div><p>On the previous screen, we introduced the normal distribution as an example of a symmetrical distribution.</p>\n",
    "<p>Another symmetrical distribution we can see in practice is the <strong>uniform distribution</strong> — the values are <em>uniformly distributed</em>. The bars have equal height because the intervals have equal frequencies.</p>\n",
    "<p></p><center>\n",
    "<img src=\"s1m4_uniform.svg\" alt=\"img\">\n",
    "</center><p></p>\n",
    "<p>If we plotted a histogram for the grades students earned on a math test, and the distribution is uniform, this means that all the marks (or the mark intervals) have the same frequency.</p>\n",
    "<p>When we plot histograms in practice, we rarely see perfectly symmetrical distributions. However, these ideal cases we learned about serve as a baseline to help us describe and interpret the distributions we see in practice.</p>\n",
    "<p>For instance, if we look at the histograms for the <code>cnt</code> and the <code>registered</code> columns, we can say they look similar to a normal distribution. This immediately tells us that most values lie in the middle, and the frequencies gradually decrease toward the extremities.</p>\n",
    "<p></p><center>\n",
    "<img src=\"m3_screen8_1.png\" alt=\"img\">\n",
    "</center><p></p>\n",
    "<p>Let's do a quick exercise and resume the discussion on the next screen, where we learn that not all histograms have symmetrical shapes.</p></div>"
   ]
  },
  {
   "cell_type": "markdown",
   "id": "014a4c1b",
   "metadata": {},
   "source": [
    "<h3>Exercise</h3>\n",
    "<br/>\n",
    "<div id=\"body\" class=\"dq-lesson-container dq-lesson-markup dq-lesson-learn-instructions\"><p>Below, we see two histograms plotted for the <code>cnt</code> and the <code>casual</code> columns.</p>\n",
    "<p></p><center>\n",
    "<img src=\"m3_screen7_1.png\" alt=\"img\">\n",
    "</center><p></p>\n",
    "<p>Based on the histograms above, evaluate the truth value of the following sentences.</p>\n",
    "<ol>\n",
    "<li>The <code>casual</code> distribution is not symmetrical. Assign the Boolean <code>True</code> or <code>False</code> to <code>sentence_1</code>.</li>\n",
    "<li>Most days, casual users rent over 2,000 bikes. Assign <code>True</code> or <code>False</code> to <code>sentence_2</code>.</li>\n",
    "<li>The <code>cnt</code> distribution is approximately symmetrical, and it looks more like a uniform distribution than a normal distribution. Assign <code>True</code> or <code>False</code> to <code>sentence_3</code>.</li>\n",
    "<li>The tallest bar on the <code>cnt</code> histogram corresponds to about 200 days. Assign <code>True</code> or <code>False</code> to <code>sentence_4</code>.</li>\n",
    "</ol></div>"
   ]
  },
  {
   "cell_type": "code",
   "execution_count": 55,
   "id": "cbb27506",
   "metadata": {},
   "outputs": [],
   "source": [
    "sentence_1 = True\n",
    "sentence_2 = False\n",
    "sentence_3 = False\n",
    "sentence_4 = False"
   ]
  },
  {
   "cell_type": "markdown",
   "id": "d537f462",
   "metadata": {},
   "source": [
    "<h2>9. Skewed Distributions</h2>\n",
    "<br/>\n",
    "<div><p>On the previous two screens, we learned about symmetrical distributions. If we draw a vertical line exactly in the middle of a symmetrical histogram, then we divide it into two halves that are mirror images of one another.</p>\n",
    "<p></p><center>\n",
    "<img src=\"s1m4_symmetry.svg\" alt=\"img\">\n",
    "</center><p></p>\n",
    "<p>Not all histogram shapes are symmetrical though. The histogram of the <code>casual</code> column, for instance, shows a cluster of tall bars located on the left side of the x-axis.</p>\n",
    "<p></p><center>\n",
    "<img src=\"m3_screen9_0.png\" alt=\"img\">\n",
    "</center><p></p>\n",
    "<p>The <code>casual</code> histogram shows a <strong>skewed distribution</strong>. In a skewed distribution, we see the following:</p>\n",
    "<ul>\n",
    "<li>The values pile up toward the end or the starting point of the range, making up the <em>body</em> of the distribution.<ul>\n",
    "<li>In the case of the <code>casual</code> histogram, the values pile up toward the starting point of the range.</li>\n",
    "</ul>\n",
    "</li>\n",
    "<li>Then the values decrease in frequency towards the opposite end, forming the <em>tail</em> of the distribution.</li>\n",
    "</ul>\n",
    "<p></p><center>\n",
    "<img src=\"s1m4_body_tail.svg\" alt=\"img\">\n",
    "</center><p></p>\n",
    "<p>If the tail points to the right, then the distribution is right skewed (the distribution of the <code>casual</code> column is right skewed). If the tail points to the left, then the distribution is said to be left skewed.</p>\n",
    "<p></p><center>\n",
    "<img src=\"m3_0.png\" alt=\"img\">\n",
    "</center><p></p>\n",
    "<p>When the tail points to the left, it also points in the direction of negative numbers (on the x-axis, the numbers decrease from right to left). For this reason, a left-skewed distribution is sometimes also said to have a negative skew.</p>\n",
    "<p>When the tail points to the right, it also points in the direction of positive numbers. As a consequence, right-skewed distributions are also said to have a positive skew.</p>\n",
    "<p></div>"
   ]
  }
 ],
 "metadata": {
  "kernelspec": {
   "display_name": "Python 3 (ipykernel)",
   "language": "python",
   "name": "python3"
  },
  "language_info": {
   "codemirror_mode": {
    "name": "ipython",
    "version": 3
   },
   "file_extension": ".py",
   "mimetype": "text/x-python",
   "name": "python",
   "nbconvert_exporter": "python",
   "pygments_lexer": "ipython3",
   "version": "3.7.3"
  }
 },
 "nbformat": 4,
 "nbformat_minor": 5
}
