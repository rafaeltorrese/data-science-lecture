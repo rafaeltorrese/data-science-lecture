{
 "cells": [
  {
   "cell_type": "markdown",
   "id": "234110e3",
   "metadata": {},
   "source": [
    "<center><h1>Storytelling Data Visualization</h1></center>"
   ]
  },
  {
   "cell_type": "markdown",
   "id": "886a86a3",
   "metadata": {},
   "source": [
    "## 1. Historias con datos\n",
    "\n",
    "\n",
    "<img src=\"figs/screen3_2.png\" alt=\"img\" width=\"300\" height=\"150\">\n",
    "\n",
    "\n",
    "According to some, what we did is storytelling with data. However, is presenting the top 20 countries according to death toll really a story?\n",
    "\n",
    "In a broad sense, a story is a sequence of events: something happens, then something else happens, and so on. Rather than events, our graph above presents facts.\n",
    "\n",
    "Another story element is change: something or someone changes throughout the story. Our graph is static: the information we present doesn't show any element of change. \n",
    "\n",
    "There's nothing wrong with showing facts or presenting static information, but that's not a story. To create a data story, we need to wrap those numerical facts into events that show change.\n",
    "\n",
    "For our example above, we can take the particular case of the United States and show how the death toll has changed since the beginning of the pandemic. Below, we see an example of a data story:\n",
    "<img src=\"figs/screen1_1.png\" alt=\"img\">\n",
    "\n",
    "This data story shows the evolution of the death toll in the United States. At the end of March, we see the death toll at 2,398 deaths, but in December, it became 295,406 — it has changed. Following the four line plots, we see a sequence of events that led to that change. For instance, a surge in the average number of daily deaths starting in April resulted in a large number of deaths at the end of June."
   ]
  },
  {
   "cell_type": "markdown",
   "id": "d38d59be",
   "metadata": {},
   "source": [
    "## 2. Grid Charts in Matplotlib\n",
    "\n",
    "    \n",
    "The data story visualization we showed on the previous screen is the result of using Matplotlib's object-oriented interface. The visualization is a grid chart composed of four different line plots — with a configuration of four rows by one column.\n",
    "\n",
    "<img src=\"https://s3.amazonaws.com/dq-content/526/screen1_1.png\" alt=\"img\">\n",
    "\n",
    "We'll learn how to recreate this graph throughout this lesson. We begin with creating a grid chart of four rows by one column using the [`plt.subplots() function`](https://matplotlib.org/stable/api/_as_gen/matplotlib.pyplot.subplots.html). We also adjust the figure size to `(6, 8)` since we want to keep a mobile-friendly ratio.\n",
    "\n",
    "\n",
    "\n",
    "```python\n",
    "fig, (ax1, ax2, ax3, ax4) = plt.subplots(nrows=4, ncols=1,\n",
    "                                         figsize=(6,8))\n",
    "```\n",
    "\n",
    "<img src=\"https://s3.amazonaws.com/dq-content/526/screen2_1.png\" alt=\"img\">\n",
    "\n",
    "The function returns two objects: a `Figure` and an array of four `Axes` objects. We use `(ax1, ax2, ax3, ax4)` to assign each object within that array to a different variable.\n",
    "To draw on the individual plots, we can use Matplotlib methods on each of the four `Axes` objects. Below, we draw a line plot on the first and the third plot.\n",
    "\n",
    "\n",
    "```python\n",
    "fig, (ax1, ax2, ax3, ax4) = plt.subplots(nrows=4, ncols=1,\n",
    "                                         figsize=(6,8))\n",
    "ax1.plot([2, 4, 8], [2, 8, 16])\n",
    "ax3.plot([3, 9, 18], [16, 4, 16])\n",
    "plt.show()\n",
    "```\n",
    "\n",
    "<img src=\"https://s3.amazonaws.com/dq-content/526/screen2_2.png\" alt=\"img\">\n",
    "\n",
    "In the next exercise, we'll draw the four line plots that show the evolution of average daily deaths per month in 2020. We collected the data from the <a href=\"https://covid19.who.int/\" target=\"_blank\">World Health Organization</a> on December 15th, 2020. Below, we see the first five rows of the data:\n",
    "\n",
    "\n",
    "|   | Month | New_deaths |\n",
    "|:-:|:-----:|:----------:|\n",
    "| 0 | 1     | 0          |\n",
    "| 1 | 2     | 0          |\n",
    "| 2 | 3     | 77         |\n",
    "| 3 | 4     | 1844       |\n",
    "| 4 | 5     | 1448       |\n",
    "\n",
    "Let's see what the two columns mean:\n",
    "\n",
    "- `Month`: the month number.\n",
    "- `New_Deaths`: the number of daily average deaths for each month. A value of 1,844 for April means that for each day of April, there were 1,844 deaths, on average.\n"
   ]
  },
  {
   "cell_type": "markdown",
   "id": "f820250d",
   "metadata": {},
   "source": [
    "### Exercise\n",
    "<br>\n",
    "<h2>3<h2>\n",
    "<br>\n",
    "<h3><h3>\n",
    "<br>\n",
    "<h2>4<h2>\n",
    "<br>\n",
    "<h3><h3>\n",
    "<br>\n",
    "<h2>5<h2>\n",
    "<br>\n",
    "<h3><h3>\n",
    "<br>\n",
    "<h2>6<h2>\n",
    "<br>\n",
    "<h3><h3>\n",
    "<br>\n",
    "<h2>7<h2>\n",
    "<br>\n",
    "<h3><h3>\n",
    "<br>\n",
    "<h2>8<h2>\n",
    "<br>\n",
    "<h3><h3>\n",
    "<br>\n",
    "<h2>9<h2>\n",
    "<br>\n",
    "<h3><h3>\n",
    "<br>"
   ]
  }
 ],
 "metadata": {
  "kernelspec": {
   "display_name": "Python 3 (ipykernel)",
   "language": "python",
   "name": "python3"
  },
  "language_info": {
   "codemirror_mode": {
    "name": "ipython",
    "version": 3
   },
   "file_extension": ".py",
   "mimetype": "text/x-python",
   "name": "python",
   "nbconvert_exporter": "python",
   "pygments_lexer": "ipython3",
   "version": "3.7.3"
  }
 },
 "nbformat": 4,
 "nbformat_minor": 5
}
