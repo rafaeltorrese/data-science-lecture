{
 "cells": [
  {
   "cell_type": "markdown",
   "id": "f060c294",
   "metadata": {},
   "source": [
    "<div><p>Depending who we're making the graphs for, we have two kinds of data visualization:</p>\n",
    "<ul>\n",
    "<li>Exploratory data visualization: we create graphs for <em>ourselves</em> to better understand and explore data.</li>\n",
    "<li>Explanatory data visualization: we create graphs for <em>others</em> to inform, make a point, or tell a story.</li>\n",
    "</ul>\n",
    "<p></p><center>\n",
    "<img src=\"figs/course_intro.svg\" alt=\"img\">\n",
    "</center><p></p>\n",
    "<p>Our focus in this course is explanatory data visualization — specifically, we're going to learn the following:</p>\n",
    "<ul>\n",
    "<li>How to better create graphs for an audience by using information design principles.</li>\n",
    "<li>The elements of a story and how to create storytelling data visualizations with matplotlib.</li>\n",
    "<li>How to create visual patterns using Gestalt principles.</li>\n",
    "<li>How to guide the audience's attention with pre-attentive attributes.</li>\n",
    "<li>How to use matplotlib built-in styles — with a case study on the FiveThirtyEight style.</li>\n",
    "</ul>\n",
    "<p>Below, we see a gallery of the data visualizations</p>\n",
    "<p><img src=\"figs/1.1-m525.png\" alt=\"img\"></p>\n",
    "</div>"
   ]
  }
 ],
 "metadata": {
  "kernelspec": {
   "display_name": "Python 3",
   "language": "python",
   "name": "python3"
  },
  "language_info": {
   "codemirror_mode": {
    "name": "ipython",
    "version": 3
   },
   "file_extension": ".py",
   "mimetype": "text/x-python",
   "name": "python",
   "nbconvert_exporter": "python",
   "pygments_lexer": "ipython3",
   "version": "3.8.8"
  }
 },
 "nbformat": 4,
 "nbformat_minor": 5
}
